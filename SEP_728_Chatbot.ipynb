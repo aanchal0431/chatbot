{
  "nbformat": 4,
  "nbformat_minor": 0,
  "metadata": {
    "colab": {
      "name": "SEP-728 Chatbot.ipynb",
      "provenance": [],
      "machine_shape": "hm",
      "include_colab_link": true
    },
    "kernelspec": {
      "name": "python3",
      "display_name": "Python 3"
    },
    "language_info": {
      "name": "python"
    },
    "widgets": {
      "application/vnd.jupyter.widget-state+json": {
        "0581e91536454d3599ccd00beee23f36": {
          "model_module": "@jupyter-widgets/controls",
          "model_name": "HBoxModel",
          "model_module_version": "1.5.0",
          "state": {
            "_view_name": "HBoxView",
            "_dom_classes": [],
            "_model_name": "HBoxModel",
            "_view_module": "@jupyter-widgets/controls",
            "_model_module_version": "1.5.0",
            "_view_count": null,
            "_view_module_version": "1.5.0",
            "box_style": "",
            "layout": "IPY_MODEL_0ceb1ff1e98245c889b91e21fa08b68e",
            "_model_module": "@jupyter-widgets/controls",
            "children": [
              "IPY_MODEL_b6034394363949b2bff20e463bda6aaf",
              "IPY_MODEL_a78790c25d79458290d0946aefbbbd0b",
              "IPY_MODEL_236f0b38f13a41ba887f623e57aabfb5"
            ]
          }
        },
        "0ceb1ff1e98245c889b91e21fa08b68e": {
          "model_module": "@jupyter-widgets/base",
          "model_name": "LayoutModel",
          "model_module_version": "1.2.0",
          "state": {
            "_view_name": "LayoutView",
            "grid_template_rows": null,
            "right": null,
            "justify_content": null,
            "_view_module": "@jupyter-widgets/base",
            "overflow": null,
            "_model_module_version": "1.2.0",
            "_view_count": null,
            "flex_flow": "row wrap",
            "width": "100%",
            "min_width": null,
            "border": null,
            "align_items": null,
            "bottom": null,
            "_model_module": "@jupyter-widgets/base",
            "top": null,
            "grid_column": null,
            "overflow_y": null,
            "overflow_x": null,
            "grid_auto_flow": null,
            "grid_area": null,
            "grid_template_columns": null,
            "flex": null,
            "_model_name": "LayoutModel",
            "justify_items": null,
            "grid_row": null,
            "max_height": null,
            "align_content": null,
            "visibility": null,
            "align_self": null,
            "height": null,
            "min_height": null,
            "padding": null,
            "grid_auto_rows": null,
            "grid_gap": null,
            "max_width": null,
            "order": null,
            "_view_module_version": "1.2.0",
            "grid_template_areas": null,
            "object_position": null,
            "object_fit": null,
            "grid_auto_columns": null,
            "margin": null,
            "display": "inline-flex",
            "left": null
          }
        },
        "b6034394363949b2bff20e463bda6aaf": {
          "model_module": "@jupyter-widgets/controls",
          "model_name": "HTMLModel",
          "model_module_version": "1.5.0",
          "state": {
            "_view_name": "HTMLView",
            "style": "IPY_MODEL_8f16836d9b214b55a23e08e22e238957",
            "_dom_classes": [],
            "description": "",
            "_model_name": "HTMLModel",
            "placeholder": "​",
            "_view_module": "@jupyter-widgets/controls",
            "_model_module_version": "1.5.0",
            "value": "Validation sanity check:   0%",
            "_view_count": null,
            "_view_module_version": "1.5.0",
            "description_tooltip": null,
            "_model_module": "@jupyter-widgets/controls",
            "layout": "IPY_MODEL_79a33805bebe4064bb0ed66aac67dd7c"
          }
        },
        "a78790c25d79458290d0946aefbbbd0b": {
          "model_module": "@jupyter-widgets/controls",
          "model_name": "FloatProgressModel",
          "model_module_version": "1.5.0",
          "state": {
            "_view_name": "ProgressView",
            "style": "IPY_MODEL_c48e211a6092447bba6ea210e53d9d09",
            "_dom_classes": [],
            "description": "",
            "_model_name": "FloatProgressModel",
            "bar_style": "danger",
            "max": 2,
            "_view_module": "@jupyter-widgets/controls",
            "_model_module_version": "1.5.0",
            "value": 0,
            "_view_count": null,
            "_view_module_version": "1.5.0",
            "orientation": "horizontal",
            "min": 0,
            "description_tooltip": null,
            "_model_module": "@jupyter-widgets/controls",
            "layout": "IPY_MODEL_89f2673d471b463cabb572887b701ce2"
          }
        },
        "236f0b38f13a41ba887f623e57aabfb5": {
          "model_module": "@jupyter-widgets/controls",
          "model_name": "HTMLModel",
          "model_module_version": "1.5.0",
          "state": {
            "_view_name": "HTMLView",
            "style": "IPY_MODEL_65319a7b370044ba9595395a956679d3",
            "_dom_classes": [],
            "description": "",
            "_model_name": "HTMLModel",
            "placeholder": "​",
            "_view_module": "@jupyter-widgets/controls",
            "_model_module_version": "1.5.0",
            "value": " 0/2 [00:03&lt;?, ?it/s]",
            "_view_count": null,
            "_view_module_version": "1.5.0",
            "description_tooltip": null,
            "_model_module": "@jupyter-widgets/controls",
            "layout": "IPY_MODEL_14162fae06704f438c6e5fecec8f593e"
          }
        },
        "8f16836d9b214b55a23e08e22e238957": {
          "model_module": "@jupyter-widgets/controls",
          "model_name": "DescriptionStyleModel",
          "model_module_version": "1.5.0",
          "state": {
            "_view_name": "StyleView",
            "_model_name": "DescriptionStyleModel",
            "description_width": "",
            "_view_module": "@jupyter-widgets/base",
            "_model_module_version": "1.5.0",
            "_view_count": null,
            "_view_module_version": "1.2.0",
            "_model_module": "@jupyter-widgets/controls"
          }
        },
        "79a33805bebe4064bb0ed66aac67dd7c": {
          "model_module": "@jupyter-widgets/base",
          "model_name": "LayoutModel",
          "model_module_version": "1.2.0",
          "state": {
            "_view_name": "LayoutView",
            "grid_template_rows": null,
            "right": null,
            "justify_content": null,
            "_view_module": "@jupyter-widgets/base",
            "overflow": null,
            "_model_module_version": "1.2.0",
            "_view_count": null,
            "flex_flow": null,
            "width": null,
            "min_width": null,
            "border": null,
            "align_items": null,
            "bottom": null,
            "_model_module": "@jupyter-widgets/base",
            "top": null,
            "grid_column": null,
            "overflow_y": null,
            "overflow_x": null,
            "grid_auto_flow": null,
            "grid_area": null,
            "grid_template_columns": null,
            "flex": null,
            "_model_name": "LayoutModel",
            "justify_items": null,
            "grid_row": null,
            "max_height": null,
            "align_content": null,
            "visibility": null,
            "align_self": null,
            "height": null,
            "min_height": null,
            "padding": null,
            "grid_auto_rows": null,
            "grid_gap": null,
            "max_width": null,
            "order": null,
            "_view_module_version": "1.2.0",
            "grid_template_areas": null,
            "object_position": null,
            "object_fit": null,
            "grid_auto_columns": null,
            "margin": null,
            "display": null,
            "left": null
          }
        },
        "c48e211a6092447bba6ea210e53d9d09": {
          "model_module": "@jupyter-widgets/controls",
          "model_name": "ProgressStyleModel",
          "model_module_version": "1.5.0",
          "state": {
            "_view_name": "StyleView",
            "_model_name": "ProgressStyleModel",
            "description_width": "",
            "_view_module": "@jupyter-widgets/base",
            "_model_module_version": "1.5.0",
            "_view_count": null,
            "_view_module_version": "1.2.0",
            "bar_color": null,
            "_model_module": "@jupyter-widgets/controls"
          }
        },
        "89f2673d471b463cabb572887b701ce2": {
          "model_module": "@jupyter-widgets/base",
          "model_name": "LayoutModel",
          "model_module_version": "1.2.0",
          "state": {
            "_view_name": "LayoutView",
            "grid_template_rows": null,
            "right": null,
            "justify_content": null,
            "_view_module": "@jupyter-widgets/base",
            "overflow": null,
            "_model_module_version": "1.2.0",
            "_view_count": null,
            "flex_flow": null,
            "width": null,
            "min_width": null,
            "border": null,
            "align_items": null,
            "bottom": null,
            "_model_module": "@jupyter-widgets/base",
            "top": null,
            "grid_column": null,
            "overflow_y": null,
            "overflow_x": null,
            "grid_auto_flow": null,
            "grid_area": null,
            "grid_template_columns": null,
            "flex": "2",
            "_model_name": "LayoutModel",
            "justify_items": null,
            "grid_row": null,
            "max_height": null,
            "align_content": null,
            "visibility": null,
            "align_self": null,
            "height": null,
            "min_height": null,
            "padding": null,
            "grid_auto_rows": null,
            "grid_gap": null,
            "max_width": null,
            "order": null,
            "_view_module_version": "1.2.0",
            "grid_template_areas": null,
            "object_position": null,
            "object_fit": null,
            "grid_auto_columns": null,
            "margin": null,
            "display": null,
            "left": null
          }
        },
        "65319a7b370044ba9595395a956679d3": {
          "model_module": "@jupyter-widgets/controls",
          "model_name": "DescriptionStyleModel",
          "model_module_version": "1.5.0",
          "state": {
            "_view_name": "StyleView",
            "_model_name": "DescriptionStyleModel",
            "description_width": "",
            "_view_module": "@jupyter-widgets/base",
            "_model_module_version": "1.5.0",
            "_view_count": null,
            "_view_module_version": "1.2.0",
            "_model_module": "@jupyter-widgets/controls"
          }
        },
        "14162fae06704f438c6e5fecec8f593e": {
          "model_module": "@jupyter-widgets/base",
          "model_name": "LayoutModel",
          "model_module_version": "1.2.0",
          "state": {
            "_view_name": "LayoutView",
            "grid_template_rows": null,
            "right": null,
            "justify_content": null,
            "_view_module": "@jupyter-widgets/base",
            "overflow": null,
            "_model_module_version": "1.2.0",
            "_view_count": null,
            "flex_flow": null,
            "width": null,
            "min_width": null,
            "border": null,
            "align_items": null,
            "bottom": null,
            "_model_module": "@jupyter-widgets/base",
            "top": null,
            "grid_column": null,
            "overflow_y": null,
            "overflow_x": null,
            "grid_auto_flow": null,
            "grid_area": null,
            "grid_template_columns": null,
            "flex": null,
            "_model_name": "LayoutModel",
            "justify_items": null,
            "grid_row": null,
            "max_height": null,
            "align_content": null,
            "visibility": null,
            "align_self": null,
            "height": null,
            "min_height": null,
            "padding": null,
            "grid_auto_rows": null,
            "grid_gap": null,
            "max_width": null,
            "order": null,
            "_view_module_version": "1.2.0",
            "grid_template_areas": null,
            "object_position": null,
            "object_fit": null,
            "grid_auto_columns": null,
            "margin": null,
            "display": null,
            "left": null
          }
        },
        "e0d25b8fce4f4149827dc8a93fb721d9": {
          "model_module": "@jupyter-widgets/controls",
          "model_name": "HBoxModel",
          "model_module_version": "1.5.0",
          "state": {
            "_view_name": "HBoxView",
            "_dom_classes": [],
            "_model_name": "HBoxModel",
            "_view_module": "@jupyter-widgets/controls",
            "_model_module_version": "1.5.0",
            "_view_count": null,
            "_view_module_version": "1.5.0",
            "box_style": "",
            "layout": "IPY_MODEL_8d6cf1dc1ad04b62807591550c287c2d",
            "_model_module": "@jupyter-widgets/controls",
            "children": [
              "IPY_MODEL_b6e1f4d4041a4c8fa2157abef3f1f11b",
              "IPY_MODEL_5529e4ff18dc49dca10669cc9ed02048",
              "IPY_MODEL_f6ad61cc4d1440cc83a24aedbf324d38"
            ]
          }
        },
        "8d6cf1dc1ad04b62807591550c287c2d": {
          "model_module": "@jupyter-widgets/base",
          "model_name": "LayoutModel",
          "model_module_version": "1.2.0",
          "state": {
            "_view_name": "LayoutView",
            "grid_template_rows": null,
            "right": null,
            "justify_content": null,
            "_view_module": "@jupyter-widgets/base",
            "overflow": null,
            "_model_module_version": "1.2.0",
            "_view_count": null,
            "flex_flow": "row wrap",
            "width": "100%",
            "min_width": null,
            "border": null,
            "align_items": null,
            "bottom": null,
            "_model_module": "@jupyter-widgets/base",
            "top": null,
            "grid_column": null,
            "overflow_y": null,
            "overflow_x": null,
            "grid_auto_flow": null,
            "grid_area": null,
            "grid_template_columns": null,
            "flex": null,
            "_model_name": "LayoutModel",
            "justify_items": null,
            "grid_row": null,
            "max_height": null,
            "align_content": null,
            "visibility": null,
            "align_self": null,
            "height": null,
            "min_height": null,
            "padding": null,
            "grid_auto_rows": null,
            "grid_gap": null,
            "max_width": null,
            "order": null,
            "_view_module_version": "1.2.0",
            "grid_template_areas": null,
            "object_position": null,
            "object_fit": null,
            "grid_auto_columns": null,
            "margin": null,
            "display": "inline-flex",
            "left": null
          }
        },
        "b6e1f4d4041a4c8fa2157abef3f1f11b": {
          "model_module": "@jupyter-widgets/controls",
          "model_name": "HTMLModel",
          "model_module_version": "1.5.0",
          "state": {
            "_view_name": "HTMLView",
            "style": "IPY_MODEL_fc71ea78258d4c5aab214c5409961d73",
            "_dom_classes": [],
            "description": "",
            "_model_name": "HTMLModel",
            "placeholder": "​",
            "_view_module": "@jupyter-widgets/controls",
            "_model_module_version": "1.5.0",
            "value": "Epoch 0: 100%",
            "_view_count": null,
            "_view_module_version": "1.5.0",
            "description_tooltip": null,
            "_model_module": "@jupyter-widgets/controls",
            "layout": "IPY_MODEL_ac8a747fae42461b8ca1bd0812582ca7"
          }
        },
        "5529e4ff18dc49dca10669cc9ed02048": {
          "model_module": "@jupyter-widgets/controls",
          "model_name": "FloatProgressModel",
          "model_module_version": "1.5.0",
          "state": {
            "_view_name": "ProgressView",
            "style": "IPY_MODEL_bc97e0a2d0484933a2d5b4d52e2ad282",
            "_dom_classes": [],
            "description": "",
            "_model_name": "FloatProgressModel",
            "bar_style": "success",
            "max": 215,
            "_view_module": "@jupyter-widgets/controls",
            "_model_module_version": "1.5.0",
            "value": 215,
            "_view_count": null,
            "_view_module_version": "1.5.0",
            "orientation": "horizontal",
            "min": 0,
            "description_tooltip": null,
            "_model_module": "@jupyter-widgets/controls",
            "layout": "IPY_MODEL_c6e4671a47454b61a57b64affd687ec5"
          }
        },
        "f6ad61cc4d1440cc83a24aedbf324d38": {
          "model_module": "@jupyter-widgets/controls",
          "model_name": "HTMLModel",
          "model_module_version": "1.5.0",
          "state": {
            "_view_name": "HTMLView",
            "style": "IPY_MODEL_8727b5e6643d48ab9ed275bcba244ea4",
            "_dom_classes": [],
            "description": "",
            "_model_name": "HTMLModel",
            "placeholder": "​",
            "_view_module": "@jupyter-widgets/controls",
            "_model_module_version": "1.5.0",
            "value": " 215/215 [22:15&lt;00:00,  6.18s/it, loss=2.4, v_num=6, train_loss=2.890, val_loss=2.350]",
            "_view_count": null,
            "_view_module_version": "1.5.0",
            "description_tooltip": null,
            "_model_module": "@jupyter-widgets/controls",
            "layout": "IPY_MODEL_600eead99baf4874a19995980e683de2"
          }
        },
        "fc71ea78258d4c5aab214c5409961d73": {
          "model_module": "@jupyter-widgets/controls",
          "model_name": "DescriptionStyleModel",
          "model_module_version": "1.5.0",
          "state": {
            "_view_name": "StyleView",
            "_model_name": "DescriptionStyleModel",
            "description_width": "",
            "_view_module": "@jupyter-widgets/base",
            "_model_module_version": "1.5.0",
            "_view_count": null,
            "_view_module_version": "1.2.0",
            "_model_module": "@jupyter-widgets/controls"
          }
        },
        "ac8a747fae42461b8ca1bd0812582ca7": {
          "model_module": "@jupyter-widgets/base",
          "model_name": "LayoutModel",
          "model_module_version": "1.2.0",
          "state": {
            "_view_name": "LayoutView",
            "grid_template_rows": null,
            "right": null,
            "justify_content": null,
            "_view_module": "@jupyter-widgets/base",
            "overflow": null,
            "_model_module_version": "1.2.0",
            "_view_count": null,
            "flex_flow": null,
            "width": null,
            "min_width": null,
            "border": null,
            "align_items": null,
            "bottom": null,
            "_model_module": "@jupyter-widgets/base",
            "top": null,
            "grid_column": null,
            "overflow_y": null,
            "overflow_x": null,
            "grid_auto_flow": null,
            "grid_area": null,
            "grid_template_columns": null,
            "flex": null,
            "_model_name": "LayoutModel",
            "justify_items": null,
            "grid_row": null,
            "max_height": null,
            "align_content": null,
            "visibility": null,
            "align_self": null,
            "height": null,
            "min_height": null,
            "padding": null,
            "grid_auto_rows": null,
            "grid_gap": null,
            "max_width": null,
            "order": null,
            "_view_module_version": "1.2.0",
            "grid_template_areas": null,
            "object_position": null,
            "object_fit": null,
            "grid_auto_columns": null,
            "margin": null,
            "display": null,
            "left": null
          }
        },
        "bc97e0a2d0484933a2d5b4d52e2ad282": {
          "model_module": "@jupyter-widgets/controls",
          "model_name": "ProgressStyleModel",
          "model_module_version": "1.5.0",
          "state": {
            "_view_name": "StyleView",
            "_model_name": "ProgressStyleModel",
            "description_width": "",
            "_view_module": "@jupyter-widgets/base",
            "_model_module_version": "1.5.0",
            "_view_count": null,
            "_view_module_version": "1.2.0",
            "bar_color": null,
            "_model_module": "@jupyter-widgets/controls"
          }
        },
        "c6e4671a47454b61a57b64affd687ec5": {
          "model_module": "@jupyter-widgets/base",
          "model_name": "LayoutModel",
          "model_module_version": "1.2.0",
          "state": {
            "_view_name": "LayoutView",
            "grid_template_rows": null,
            "right": null,
            "justify_content": null,
            "_view_module": "@jupyter-widgets/base",
            "overflow": null,
            "_model_module_version": "1.2.0",
            "_view_count": null,
            "flex_flow": null,
            "width": null,
            "min_width": null,
            "border": null,
            "align_items": null,
            "bottom": null,
            "_model_module": "@jupyter-widgets/base",
            "top": null,
            "grid_column": null,
            "overflow_y": null,
            "overflow_x": null,
            "grid_auto_flow": null,
            "grid_area": null,
            "grid_template_columns": null,
            "flex": "2",
            "_model_name": "LayoutModel",
            "justify_items": null,
            "grid_row": null,
            "max_height": null,
            "align_content": null,
            "visibility": null,
            "align_self": null,
            "height": null,
            "min_height": null,
            "padding": null,
            "grid_auto_rows": null,
            "grid_gap": null,
            "max_width": null,
            "order": null,
            "_view_module_version": "1.2.0",
            "grid_template_areas": null,
            "object_position": null,
            "object_fit": null,
            "grid_auto_columns": null,
            "margin": null,
            "display": null,
            "left": null
          }
        },
        "8727b5e6643d48ab9ed275bcba244ea4": {
          "model_module": "@jupyter-widgets/controls",
          "model_name": "DescriptionStyleModel",
          "model_module_version": "1.5.0",
          "state": {
            "_view_name": "StyleView",
            "_model_name": "DescriptionStyleModel",
            "description_width": "",
            "_view_module": "@jupyter-widgets/base",
            "_model_module_version": "1.5.0",
            "_view_count": null,
            "_view_module_version": "1.2.0",
            "_model_module": "@jupyter-widgets/controls"
          }
        },
        "600eead99baf4874a19995980e683de2": {
          "model_module": "@jupyter-widgets/base",
          "model_name": "LayoutModel",
          "model_module_version": "1.2.0",
          "state": {
            "_view_name": "LayoutView",
            "grid_template_rows": null,
            "right": null,
            "justify_content": null,
            "_view_module": "@jupyter-widgets/base",
            "overflow": null,
            "_model_module_version": "1.2.0",
            "_view_count": null,
            "flex_flow": null,
            "width": null,
            "min_width": null,
            "border": null,
            "align_items": null,
            "bottom": null,
            "_model_module": "@jupyter-widgets/base",
            "top": null,
            "grid_column": null,
            "overflow_y": null,
            "overflow_x": null,
            "grid_auto_flow": null,
            "grid_area": null,
            "grid_template_columns": null,
            "flex": null,
            "_model_name": "LayoutModel",
            "justify_items": null,
            "grid_row": null,
            "max_height": null,
            "align_content": null,
            "visibility": null,
            "align_self": null,
            "height": null,
            "min_height": null,
            "padding": null,
            "grid_auto_rows": null,
            "grid_gap": null,
            "max_width": null,
            "order": null,
            "_view_module_version": "1.2.0",
            "grid_template_areas": null,
            "object_position": null,
            "object_fit": null,
            "grid_auto_columns": null,
            "margin": null,
            "display": null,
            "left": null
          }
        },
        "91bc2fdb72c7485cb23ae12afa2e10c3": {
          "model_module": "@jupyter-widgets/controls",
          "model_name": "HBoxModel",
          "model_module_version": "1.5.0",
          "state": {
            "_view_name": "HBoxView",
            "_dom_classes": [],
            "_model_name": "HBoxModel",
            "_view_module": "@jupyter-widgets/controls",
            "_model_module_version": "1.5.0",
            "_view_count": null,
            "_view_module_version": "1.5.0",
            "box_style": "",
            "layout": "IPY_MODEL_49e96f55df974c2fb52eca1bbcb70608",
            "_model_module": "@jupyter-widgets/controls",
            "children": [
              "IPY_MODEL_97c8957c2cd24192a1335404867f6ef6",
              "IPY_MODEL_cf16f8b523eb492d96b5361381e986d4",
              "IPY_MODEL_266bbe7f4da146e7801b50bf0105f15e"
            ]
          }
        },
        "49e96f55df974c2fb52eca1bbcb70608": {
          "model_module": "@jupyter-widgets/base",
          "model_name": "LayoutModel",
          "model_module_version": "1.2.0",
          "state": {
            "_view_name": "LayoutView",
            "grid_template_rows": null,
            "right": null,
            "justify_content": null,
            "_view_module": "@jupyter-widgets/base",
            "overflow": null,
            "_model_module_version": "1.2.0",
            "_view_count": null,
            "flex_flow": "row wrap",
            "width": "100%",
            "min_width": null,
            "border": null,
            "align_items": null,
            "bottom": null,
            "_model_module": "@jupyter-widgets/base",
            "top": null,
            "grid_column": null,
            "overflow_y": null,
            "overflow_x": null,
            "grid_auto_flow": null,
            "grid_area": null,
            "grid_template_columns": null,
            "flex": null,
            "_model_name": "LayoutModel",
            "justify_items": null,
            "grid_row": null,
            "max_height": null,
            "align_content": null,
            "visibility": null,
            "align_self": null,
            "height": null,
            "min_height": null,
            "padding": null,
            "grid_auto_rows": null,
            "grid_gap": null,
            "max_width": null,
            "order": null,
            "_view_module_version": "1.2.0",
            "grid_template_areas": null,
            "object_position": null,
            "object_fit": null,
            "grid_auto_columns": null,
            "margin": null,
            "display": "inline-flex",
            "left": null
          }
        },
        "97c8957c2cd24192a1335404867f6ef6": {
          "model_module": "@jupyter-widgets/controls",
          "model_name": "HTMLModel",
          "model_module_version": "1.5.0",
          "state": {
            "_view_name": "HTMLView",
            "style": "IPY_MODEL_265df34ce7764bcd8da4485aee39ae2f",
            "_dom_classes": [],
            "description": "",
            "_model_name": "HTMLModel",
            "placeholder": "​",
            "_view_module": "@jupyter-widgets/controls",
            "_model_module_version": "1.5.0",
            "value": "Validating: 100%",
            "_view_count": null,
            "_view_module_version": "1.5.0",
            "description_tooltip": null,
            "_model_module": "@jupyter-widgets/controls",
            "layout": "IPY_MODEL_04e915c8f68747978c936467684b57bc"
          }
        },
        "cf16f8b523eb492d96b5361381e986d4": {
          "model_module": "@jupyter-widgets/controls",
          "model_name": "FloatProgressModel",
          "model_module_version": "1.5.0",
          "state": {
            "_view_name": "ProgressView",
            "style": "IPY_MODEL_ff3b3bec989c4ddf82a5f09856dd4909",
            "_dom_classes": [],
            "description": "",
            "_model_name": "FloatProgressModel",
            "bar_style": "",
            "max": 22,
            "_view_module": "@jupyter-widgets/controls",
            "_model_module_version": "1.5.0",
            "value": 22,
            "_view_count": null,
            "_view_module_version": "1.5.0",
            "orientation": "horizontal",
            "min": 0,
            "description_tooltip": null,
            "_model_module": "@jupyter-widgets/controls",
            "layout": "IPY_MODEL_83f87b2cfe214ff5863c906a45edcd6b"
          }
        },
        "266bbe7f4da146e7801b50bf0105f15e": {
          "model_module": "@jupyter-widgets/controls",
          "model_name": "HTMLModel",
          "model_module_version": "1.5.0",
          "state": {
            "_view_name": "HTMLView",
            "style": "IPY_MODEL_2c4851e408324ac9829f96513c0623e5",
            "_dom_classes": [],
            "description": "",
            "_model_name": "HTMLModel",
            "placeholder": "​",
            "_view_module": "@jupyter-widgets/controls",
            "_model_module_version": "1.5.0",
            "value": " 22/22 [00:45&lt;00:00,  1.86s/it]",
            "_view_count": null,
            "_view_module_version": "1.5.0",
            "description_tooltip": null,
            "_model_module": "@jupyter-widgets/controls",
            "layout": "IPY_MODEL_5c5b5e8d6355418ca080fa04ca76586b"
          }
        },
        "265df34ce7764bcd8da4485aee39ae2f": {
          "model_module": "@jupyter-widgets/controls",
          "model_name": "DescriptionStyleModel",
          "model_module_version": "1.5.0",
          "state": {
            "_view_name": "StyleView",
            "_model_name": "DescriptionStyleModel",
            "description_width": "",
            "_view_module": "@jupyter-widgets/base",
            "_model_module_version": "1.5.0",
            "_view_count": null,
            "_view_module_version": "1.2.0",
            "_model_module": "@jupyter-widgets/controls"
          }
        },
        "04e915c8f68747978c936467684b57bc": {
          "model_module": "@jupyter-widgets/base",
          "model_name": "LayoutModel",
          "model_module_version": "1.2.0",
          "state": {
            "_view_name": "LayoutView",
            "grid_template_rows": null,
            "right": null,
            "justify_content": null,
            "_view_module": "@jupyter-widgets/base",
            "overflow": null,
            "_model_module_version": "1.2.0",
            "_view_count": null,
            "flex_flow": null,
            "width": null,
            "min_width": null,
            "border": null,
            "align_items": null,
            "bottom": null,
            "_model_module": "@jupyter-widgets/base",
            "top": null,
            "grid_column": null,
            "overflow_y": null,
            "overflow_x": null,
            "grid_auto_flow": null,
            "grid_area": null,
            "grid_template_columns": null,
            "flex": null,
            "_model_name": "LayoutModel",
            "justify_items": null,
            "grid_row": null,
            "max_height": null,
            "align_content": null,
            "visibility": null,
            "align_self": null,
            "height": null,
            "min_height": null,
            "padding": null,
            "grid_auto_rows": null,
            "grid_gap": null,
            "max_width": null,
            "order": null,
            "_view_module_version": "1.2.0",
            "grid_template_areas": null,
            "object_position": null,
            "object_fit": null,
            "grid_auto_columns": null,
            "margin": null,
            "display": null,
            "left": null
          }
        },
        "ff3b3bec989c4ddf82a5f09856dd4909": {
          "model_module": "@jupyter-widgets/controls",
          "model_name": "ProgressStyleModel",
          "model_module_version": "1.5.0",
          "state": {
            "_view_name": "StyleView",
            "_model_name": "ProgressStyleModel",
            "description_width": "",
            "_view_module": "@jupyter-widgets/base",
            "_model_module_version": "1.5.0",
            "_view_count": null,
            "_view_module_version": "1.2.0",
            "bar_color": null,
            "_model_module": "@jupyter-widgets/controls"
          }
        },
        "83f87b2cfe214ff5863c906a45edcd6b": {
          "model_module": "@jupyter-widgets/base",
          "model_name": "LayoutModel",
          "model_module_version": "1.2.0",
          "state": {
            "_view_name": "LayoutView",
            "grid_template_rows": null,
            "right": null,
            "justify_content": null,
            "_view_module": "@jupyter-widgets/base",
            "overflow": null,
            "_model_module_version": "1.2.0",
            "_view_count": null,
            "flex_flow": null,
            "width": null,
            "min_width": null,
            "border": null,
            "align_items": null,
            "bottom": null,
            "_model_module": "@jupyter-widgets/base",
            "top": null,
            "grid_column": null,
            "overflow_y": null,
            "overflow_x": null,
            "grid_auto_flow": null,
            "grid_area": null,
            "grid_template_columns": null,
            "flex": "2",
            "_model_name": "LayoutModel",
            "justify_items": null,
            "grid_row": null,
            "max_height": null,
            "align_content": null,
            "visibility": null,
            "align_self": null,
            "height": null,
            "min_height": null,
            "padding": null,
            "grid_auto_rows": null,
            "grid_gap": null,
            "max_width": null,
            "order": null,
            "_view_module_version": "1.2.0",
            "grid_template_areas": null,
            "object_position": null,
            "object_fit": null,
            "grid_auto_columns": null,
            "margin": null,
            "display": null,
            "left": null
          }
        },
        "2c4851e408324ac9829f96513c0623e5": {
          "model_module": "@jupyter-widgets/controls",
          "model_name": "DescriptionStyleModel",
          "model_module_version": "1.5.0",
          "state": {
            "_view_name": "StyleView",
            "_model_name": "DescriptionStyleModel",
            "description_width": "",
            "_view_module": "@jupyter-widgets/base",
            "_model_module_version": "1.5.0",
            "_view_count": null,
            "_view_module_version": "1.2.0",
            "_model_module": "@jupyter-widgets/controls"
          }
        },
        "5c5b5e8d6355418ca080fa04ca76586b": {
          "model_module": "@jupyter-widgets/base",
          "model_name": "LayoutModel",
          "model_module_version": "1.2.0",
          "state": {
            "_view_name": "LayoutView",
            "grid_template_rows": null,
            "right": null,
            "justify_content": null,
            "_view_module": "@jupyter-widgets/base",
            "overflow": null,
            "_model_module_version": "1.2.0",
            "_view_count": null,
            "flex_flow": null,
            "width": null,
            "min_width": null,
            "border": null,
            "align_items": null,
            "bottom": null,
            "_model_module": "@jupyter-widgets/base",
            "top": null,
            "grid_column": null,
            "overflow_y": null,
            "overflow_x": null,
            "grid_auto_flow": null,
            "grid_area": null,
            "grid_template_columns": null,
            "flex": null,
            "_model_name": "LayoutModel",
            "justify_items": null,
            "grid_row": null,
            "max_height": null,
            "align_content": null,
            "visibility": null,
            "align_self": null,
            "height": null,
            "min_height": null,
            "padding": null,
            "grid_auto_rows": null,
            "grid_gap": null,
            "max_width": null,
            "order": null,
            "_view_module_version": "1.2.0",
            "grid_template_areas": null,
            "object_position": null,
            "object_fit": null,
            "grid_auto_columns": null,
            "margin": null,
            "display": null,
            "left": null
          }
        }
      }
    }
  },
  "cells": [
    {
      "cell_type": "markdown",
      "metadata": {
        "id": "view-in-github",
        "colab_type": "text"
      },
      "source": [
        "<a href=\"https://colab.research.google.com/github/aanchal0431/chatbot/blob/aanchal0431-chatbot-branch1/SEP_728_Chatbot.ipynb\" target=\"_parent\"><img src=\"https://colab.research.google.com/assets/colab-badge.svg\" alt=\"Open In Colab\"/></a>"
      ]
    },
    {
      "cell_type": "markdown",
      "metadata": {
        "id": "DURsnZQMXtJb"
      },
      "source": [
        "# Chatbot"
      ]
    },
    {
      "cell_type": "code",
      "metadata": {
        "id": "aMvG1Xz-X0Mc"
      },
      "source": [
        "import tensorflow as tf\n",
        "from tensorflow import keras\n",
        "from tensorflow.keras.layers import Dense, Dropout\n",
        "\n",
        "\n",
        "import numpy as np\n",
        "import matplotlib.pyplot as plt\n",
        "import pandas as pd\n",
        "\n",
        "from sklearn.model_selection import train_test_split"
      ],
      "execution_count": 1,
      "outputs": []
    },
    {
      "cell_type": "code",
      "metadata": {
        "id": "zdJBLOq-X-9D",
        "colab": {
          "base_uri": "https://localhost:8080/"
        },
        "outputId": "7777ff8f-5b46-4faa-f68a-136c257a1e7a"
      },
      "source": [
        "print(tf.__version__)"
      ],
      "execution_count": 2,
      "outputs": [
        {
          "output_type": "stream",
          "name": "stdout",
          "text": [
            "2.6.0\n"
          ]
        }
      ]
    },
    {
      "cell_type": "markdown",
      "metadata": {
        "id": "s_bnxMqMt4Ou"
      },
      "source": [
        "Git Commands to clone repository, pull and push data"
      ]
    },
    {
      "cell_type": "code",
      "metadata": {
        "id": "DKQpD0hXcckM",
        "colab": {
          "base_uri": "https://localhost:8080/"
        },
        "outputId": "6a2d6437-aa8f-4d27-d7d3-464c7aa04204"
      },
      "source": [
        "#!git clone https://github.com/aanchal0431/chatbot.git\n",
        "#!git pull\n",
        "#%cd chatbot/\n",
        "#!git config --global user.name \"aanchal0431\"\n",
        "#!git config --global user.email \"aanchal0431@gmail.com\"\n",
        "#!git remote add aanchal0431 https://github.com/aanchal0431/chatbot.git\n",
        "#!git --help\n",
        "#!git remote -v\n",
        "#!git init\n",
        "#%ls\n",
        "#!git add \n",
        "#!git status \n",
        "#!git commit -m 'New Commit'"
      ],
      "execution_count": 38,
      "outputs": [
        {
          "output_type": "stream",
          "name": "stdout",
          "text": [
            "^C\n"
          ]
        }
      ]
    },
    {
      "cell_type": "markdown",
      "metadata": {
        "id": "qn72E7Do2G4y"
      },
      "source": [
        "### Data Preprocessing\n",
        "\n",
        "*   Load datasets\n",
        "*   Append question and answer datasets\n",
        "*   Remove duplicate questions\n",
        "*   Convert data to lower case\n",
        "*   Split into train and test\n",
        "*   Drop irrelvant columns\n",
        "\n",
        "\n",
        "\n",
        "\n"
      ]
    },
    {
      "cell_type": "code",
      "metadata": {
        "colab": {
          "base_uri": "https://localhost:8080/",
          "height": 255
        },
        "id": "-dOzYIWu25hY",
        "outputId": "e9c2dc2a-9949-4375-fd86-22a5623b2fe8"
      },
      "source": [
        "cur_path = 'Data/Question_Answer_Dataset_v1.2/'\n",
        "data_s8 = pd.read_csv(cur_path + 'S08/question_answer_pairs.txt', delimiter=\"\\t\")\n",
        "data_s9 = pd.read_csv(cur_path + 'S09/question_answer_pairs.txt', delimiter=\"\\t\")\n",
        "data_s10 = pd.read_csv(cur_path + 'S10/question_answer_pairs.txt', delimiter=\"\\t\")\n",
        "print(\"Shape s8:\", data_s8.shape)\n",
        "print(\"Shape s9:\", data_s9.shape)\n",
        "print(\"Shape s10:\", data_s10.shape)\n",
        "data_s8.head()"
      ],
      "execution_count": 4,
      "outputs": [
        {
          "output_type": "stream",
          "name": "stdout",
          "text": [
            "Shape s8: (1715, 6)\n",
            "Shape s9: (825, 6)\n",
            "Shape s10: (1458, 6)\n"
          ]
        },
        {
          "output_type": "execute_result",
          "data": {
            "text/html": [
              "<div>\n",
              "<style scoped>\n",
              "    .dataframe tbody tr th:only-of-type {\n",
              "        vertical-align: middle;\n",
              "    }\n",
              "\n",
              "    .dataframe tbody tr th {\n",
              "        vertical-align: top;\n",
              "    }\n",
              "\n",
              "    .dataframe thead th {\n",
              "        text-align: right;\n",
              "    }\n",
              "</style>\n",
              "<table border=\"1\" class=\"dataframe\">\n",
              "  <thead>\n",
              "    <tr style=\"text-align: right;\">\n",
              "      <th></th>\n",
              "      <th>ArticleTitle</th>\n",
              "      <th>Question</th>\n",
              "      <th>Answer</th>\n",
              "      <th>DifficultyFromQuestioner</th>\n",
              "      <th>DifficultyFromAnswerer</th>\n",
              "      <th>ArticleFile</th>\n",
              "    </tr>\n",
              "  </thead>\n",
              "  <tbody>\n",
              "    <tr>\n",
              "      <th>0</th>\n",
              "      <td>Abraham_Lincoln</td>\n",
              "      <td>Was Abraham Lincoln the sixteenth President of...</td>\n",
              "      <td>yes</td>\n",
              "      <td>easy</td>\n",
              "      <td>easy</td>\n",
              "      <td>data/set3/a4</td>\n",
              "    </tr>\n",
              "    <tr>\n",
              "      <th>1</th>\n",
              "      <td>Abraham_Lincoln</td>\n",
              "      <td>Was Abraham Lincoln the sixteenth President of...</td>\n",
              "      <td>Yes.</td>\n",
              "      <td>easy</td>\n",
              "      <td>easy</td>\n",
              "      <td>data/set3/a4</td>\n",
              "    </tr>\n",
              "    <tr>\n",
              "      <th>2</th>\n",
              "      <td>Abraham_Lincoln</td>\n",
              "      <td>Did Lincoln sign the National Banking Act of 1...</td>\n",
              "      <td>yes</td>\n",
              "      <td>easy</td>\n",
              "      <td>medium</td>\n",
              "      <td>data/set3/a4</td>\n",
              "    </tr>\n",
              "    <tr>\n",
              "      <th>3</th>\n",
              "      <td>Abraham_Lincoln</td>\n",
              "      <td>Did Lincoln sign the National Banking Act of 1...</td>\n",
              "      <td>Yes.</td>\n",
              "      <td>easy</td>\n",
              "      <td>easy</td>\n",
              "      <td>data/set3/a4</td>\n",
              "    </tr>\n",
              "    <tr>\n",
              "      <th>4</th>\n",
              "      <td>Abraham_Lincoln</td>\n",
              "      <td>Did his mother die of pneumonia?</td>\n",
              "      <td>no</td>\n",
              "      <td>easy</td>\n",
              "      <td>medium</td>\n",
              "      <td>data/set3/a4</td>\n",
              "    </tr>\n",
              "  </tbody>\n",
              "</table>\n",
              "</div>"
            ],
            "text/plain": [
              "      ArticleTitle  ...   ArticleFile\n",
              "0  Abraham_Lincoln  ...  data/set3/a4\n",
              "1  Abraham_Lincoln  ...  data/set3/a4\n",
              "2  Abraham_Lincoln  ...  data/set3/a4\n",
              "3  Abraham_Lincoln  ...  data/set3/a4\n",
              "4  Abraham_Lincoln  ...  data/set3/a4\n",
              "\n",
              "[5 rows x 6 columns]"
            ]
          },
          "metadata": {},
          "execution_count": 4
        }
      ]
    },
    {
      "cell_type": "code",
      "metadata": {
        "id": "yp1GPEjLASkF",
        "colab": {
          "base_uri": "https://localhost:8080/",
          "height": 221
        },
        "outputId": "458bdf16-1c35-4749-ce99-f0e7f897c28f"
      },
      "source": [
        "#append all questions into one data set\n",
        "data_all = data_s8.append(data_s9.append(data_s10))\n",
        "#data_all = data_s8.append(data_s9)\n",
        "print(\"Shape:\", data_all.shape)\n",
        "data_all.head()\n"
      ],
      "execution_count": 5,
      "outputs": [
        {
          "output_type": "stream",
          "name": "stdout",
          "text": [
            "Shape: (3998, 6)\n"
          ]
        },
        {
          "output_type": "execute_result",
          "data": {
            "text/html": [
              "<div>\n",
              "<style scoped>\n",
              "    .dataframe tbody tr th:only-of-type {\n",
              "        vertical-align: middle;\n",
              "    }\n",
              "\n",
              "    .dataframe tbody tr th {\n",
              "        vertical-align: top;\n",
              "    }\n",
              "\n",
              "    .dataframe thead th {\n",
              "        text-align: right;\n",
              "    }\n",
              "</style>\n",
              "<table border=\"1\" class=\"dataframe\">\n",
              "  <thead>\n",
              "    <tr style=\"text-align: right;\">\n",
              "      <th></th>\n",
              "      <th>ArticleTitle</th>\n",
              "      <th>Question</th>\n",
              "      <th>Answer</th>\n",
              "      <th>DifficultyFromQuestioner</th>\n",
              "      <th>DifficultyFromAnswerer</th>\n",
              "      <th>ArticleFile</th>\n",
              "    </tr>\n",
              "  </thead>\n",
              "  <tbody>\n",
              "    <tr>\n",
              "      <th>0</th>\n",
              "      <td>Abraham_Lincoln</td>\n",
              "      <td>Was Abraham Lincoln the sixteenth President of...</td>\n",
              "      <td>yes</td>\n",
              "      <td>easy</td>\n",
              "      <td>easy</td>\n",
              "      <td>data/set3/a4</td>\n",
              "    </tr>\n",
              "    <tr>\n",
              "      <th>1</th>\n",
              "      <td>Abraham_Lincoln</td>\n",
              "      <td>Was Abraham Lincoln the sixteenth President of...</td>\n",
              "      <td>Yes.</td>\n",
              "      <td>easy</td>\n",
              "      <td>easy</td>\n",
              "      <td>data/set3/a4</td>\n",
              "    </tr>\n",
              "    <tr>\n",
              "      <th>2</th>\n",
              "      <td>Abraham_Lincoln</td>\n",
              "      <td>Did Lincoln sign the National Banking Act of 1...</td>\n",
              "      <td>yes</td>\n",
              "      <td>easy</td>\n",
              "      <td>medium</td>\n",
              "      <td>data/set3/a4</td>\n",
              "    </tr>\n",
              "    <tr>\n",
              "      <th>3</th>\n",
              "      <td>Abraham_Lincoln</td>\n",
              "      <td>Did Lincoln sign the National Banking Act of 1...</td>\n",
              "      <td>Yes.</td>\n",
              "      <td>easy</td>\n",
              "      <td>easy</td>\n",
              "      <td>data/set3/a4</td>\n",
              "    </tr>\n",
              "    <tr>\n",
              "      <th>4</th>\n",
              "      <td>Abraham_Lincoln</td>\n",
              "      <td>Did his mother die of pneumonia?</td>\n",
              "      <td>no</td>\n",
              "      <td>easy</td>\n",
              "      <td>medium</td>\n",
              "      <td>data/set3/a4</td>\n",
              "    </tr>\n",
              "  </tbody>\n",
              "</table>\n",
              "</div>"
            ],
            "text/plain": [
              "      ArticleTitle  ...   ArticleFile\n",
              "0  Abraham_Lincoln  ...  data/set3/a4\n",
              "1  Abraham_Lincoln  ...  data/set3/a4\n",
              "2  Abraham_Lincoln  ...  data/set3/a4\n",
              "3  Abraham_Lincoln  ...  data/set3/a4\n",
              "4  Abraham_Lincoln  ...  data/set3/a4\n",
              "\n",
              "[5 rows x 6 columns]"
            ]
          },
          "metadata": {},
          "execution_count": 5
        }
      ]
    },
    {
      "cell_type": "code",
      "metadata": {
        "colab": {
          "base_uri": "https://localhost:8080/",
          "height": 221
        },
        "id": "mpP0ksyOBIQY",
        "outputId": "0ba6597f-9b20-473a-a615-caaad2d1cd6e"
      },
      "source": [
        "#remove duplicate questions\n",
        "data_all = data_all.drop_duplicates(subset=['Question'])\n",
        "print(\"Shape:\", data_all.shape)\n",
        "data_all.head()\n",
        "\n"
      ],
      "execution_count": 6,
      "outputs": [
        {
          "output_type": "stream",
          "name": "stdout",
          "text": [
            "Shape: (2457, 6)\n"
          ]
        },
        {
          "output_type": "execute_result",
          "data": {
            "text/html": [
              "<div>\n",
              "<style scoped>\n",
              "    .dataframe tbody tr th:only-of-type {\n",
              "        vertical-align: middle;\n",
              "    }\n",
              "\n",
              "    .dataframe tbody tr th {\n",
              "        vertical-align: top;\n",
              "    }\n",
              "\n",
              "    .dataframe thead th {\n",
              "        text-align: right;\n",
              "    }\n",
              "</style>\n",
              "<table border=\"1\" class=\"dataframe\">\n",
              "  <thead>\n",
              "    <tr style=\"text-align: right;\">\n",
              "      <th></th>\n",
              "      <th>ArticleTitle</th>\n",
              "      <th>Question</th>\n",
              "      <th>Answer</th>\n",
              "      <th>DifficultyFromQuestioner</th>\n",
              "      <th>DifficultyFromAnswerer</th>\n",
              "      <th>ArticleFile</th>\n",
              "    </tr>\n",
              "  </thead>\n",
              "  <tbody>\n",
              "    <tr>\n",
              "      <th>0</th>\n",
              "      <td>Abraham_Lincoln</td>\n",
              "      <td>Was Abraham Lincoln the sixteenth President of...</td>\n",
              "      <td>yes</td>\n",
              "      <td>easy</td>\n",
              "      <td>easy</td>\n",
              "      <td>data/set3/a4</td>\n",
              "    </tr>\n",
              "    <tr>\n",
              "      <th>2</th>\n",
              "      <td>Abraham_Lincoln</td>\n",
              "      <td>Did Lincoln sign the National Banking Act of 1...</td>\n",
              "      <td>yes</td>\n",
              "      <td>easy</td>\n",
              "      <td>medium</td>\n",
              "      <td>data/set3/a4</td>\n",
              "    </tr>\n",
              "    <tr>\n",
              "      <th>4</th>\n",
              "      <td>Abraham_Lincoln</td>\n",
              "      <td>Did his mother die of pneumonia?</td>\n",
              "      <td>no</td>\n",
              "      <td>easy</td>\n",
              "      <td>medium</td>\n",
              "      <td>data/set3/a4</td>\n",
              "    </tr>\n",
              "    <tr>\n",
              "      <th>6</th>\n",
              "      <td>Abraham_Lincoln</td>\n",
              "      <td>How many long was Lincoln's formal education?</td>\n",
              "      <td>18 months</td>\n",
              "      <td>medium</td>\n",
              "      <td>easy</td>\n",
              "      <td>data/set3/a4</td>\n",
              "    </tr>\n",
              "    <tr>\n",
              "      <th>8</th>\n",
              "      <td>Abraham_Lincoln</td>\n",
              "      <td>When did Lincoln begin his political career?</td>\n",
              "      <td>1832</td>\n",
              "      <td>medium</td>\n",
              "      <td>easy</td>\n",
              "      <td>data/set3/a4</td>\n",
              "    </tr>\n",
              "  </tbody>\n",
              "</table>\n",
              "</div>"
            ],
            "text/plain": [
              "      ArticleTitle  ...   ArticleFile\n",
              "0  Abraham_Lincoln  ...  data/set3/a4\n",
              "2  Abraham_Lincoln  ...  data/set3/a4\n",
              "4  Abraham_Lincoln  ...  data/set3/a4\n",
              "6  Abraham_Lincoln  ...  data/set3/a4\n",
              "8  Abraham_Lincoln  ...  data/set3/a4\n",
              "\n",
              "[5 rows x 6 columns]"
            ]
          },
          "metadata": {},
          "execution_count": 6
        }
      ]
    },
    {
      "cell_type": "code",
      "metadata": {
        "id": "HqCHtna--_FI",
        "colab": {
          "base_uri": "https://localhost:8080/",
          "height": 204
        },
        "outputId": "ce5bbcd2-c417-4003-ee9a-b4d9cb036a37"
      },
      "source": [
        "# convert text to lower case\n",
        "data_all = data_all.apply(lambda x: x.astype(str).str.lower())\n",
        "data_all.head()"
      ],
      "execution_count": 7,
      "outputs": [
        {
          "output_type": "execute_result",
          "data": {
            "text/html": [
              "<div>\n",
              "<style scoped>\n",
              "    .dataframe tbody tr th:only-of-type {\n",
              "        vertical-align: middle;\n",
              "    }\n",
              "\n",
              "    .dataframe tbody tr th {\n",
              "        vertical-align: top;\n",
              "    }\n",
              "\n",
              "    .dataframe thead th {\n",
              "        text-align: right;\n",
              "    }\n",
              "</style>\n",
              "<table border=\"1\" class=\"dataframe\">\n",
              "  <thead>\n",
              "    <tr style=\"text-align: right;\">\n",
              "      <th></th>\n",
              "      <th>ArticleTitle</th>\n",
              "      <th>Question</th>\n",
              "      <th>Answer</th>\n",
              "      <th>DifficultyFromQuestioner</th>\n",
              "      <th>DifficultyFromAnswerer</th>\n",
              "      <th>ArticleFile</th>\n",
              "    </tr>\n",
              "  </thead>\n",
              "  <tbody>\n",
              "    <tr>\n",
              "      <th>0</th>\n",
              "      <td>abraham_lincoln</td>\n",
              "      <td>was abraham lincoln the sixteenth president of...</td>\n",
              "      <td>yes</td>\n",
              "      <td>easy</td>\n",
              "      <td>easy</td>\n",
              "      <td>data/set3/a4</td>\n",
              "    </tr>\n",
              "    <tr>\n",
              "      <th>2</th>\n",
              "      <td>abraham_lincoln</td>\n",
              "      <td>did lincoln sign the national banking act of 1...</td>\n",
              "      <td>yes</td>\n",
              "      <td>easy</td>\n",
              "      <td>medium</td>\n",
              "      <td>data/set3/a4</td>\n",
              "    </tr>\n",
              "    <tr>\n",
              "      <th>4</th>\n",
              "      <td>abraham_lincoln</td>\n",
              "      <td>did his mother die of pneumonia?</td>\n",
              "      <td>no</td>\n",
              "      <td>easy</td>\n",
              "      <td>medium</td>\n",
              "      <td>data/set3/a4</td>\n",
              "    </tr>\n",
              "    <tr>\n",
              "      <th>6</th>\n",
              "      <td>abraham_lincoln</td>\n",
              "      <td>how many long was lincoln's formal education?</td>\n",
              "      <td>18 months</td>\n",
              "      <td>medium</td>\n",
              "      <td>easy</td>\n",
              "      <td>data/set3/a4</td>\n",
              "    </tr>\n",
              "    <tr>\n",
              "      <th>8</th>\n",
              "      <td>abraham_lincoln</td>\n",
              "      <td>when did lincoln begin his political career?</td>\n",
              "      <td>1832</td>\n",
              "      <td>medium</td>\n",
              "      <td>easy</td>\n",
              "      <td>data/set3/a4</td>\n",
              "    </tr>\n",
              "  </tbody>\n",
              "</table>\n",
              "</div>"
            ],
            "text/plain": [
              "      ArticleTitle  ...   ArticleFile\n",
              "0  abraham_lincoln  ...  data/set3/a4\n",
              "2  abraham_lincoln  ...  data/set3/a4\n",
              "4  abraham_lincoln  ...  data/set3/a4\n",
              "6  abraham_lincoln  ...  data/set3/a4\n",
              "8  abraham_lincoln  ...  data/set3/a4\n",
              "\n",
              "[5 rows x 6 columns]"
            ]
          },
          "metadata": {},
          "execution_count": 7
        }
      ]
    },
    {
      "cell_type": "code",
      "metadata": {
        "id": "qwyYgQchBMik",
        "colab": {
          "base_uri": "https://localhost:8080/"
        },
        "outputId": "d7f2449d-cfea-409c-9380-950fe33f10ad"
      },
      "source": [
        "#Tokenization Example for Questions\n",
        "# import APIs\n",
        "from tensorflow.keras.preprocessing.text import Tokenizer\n",
        "from tensorflow.keras.preprocessing.sequence import pad_sequences\n",
        "\n",
        "# segregating questions and answers into different lists\n",
        "questions = list(data_all['Question'])\n",
        "answers = list(data_all['Answer'])\n",
        "\n",
        "#initialize the tokenizer\n",
        "tokenizer = Tokenizer(oov_token=\"<oov>\") #oov: out of vocabulary token => used to handle newly encountered words in the training dataset, new\n",
        "\n",
        "#creating word index\n",
        "tokenizer.fit_on_texts(questions)\n",
        "word_index = tokenizer.word_index\n",
        "vocab_size = len(tokenizer.word_index) + 1\n",
        "\n",
        "#create sequences using tokenizer\n",
        "sequences = tokenizer.texts_to_sequences(questions)\n",
        "\n",
        "#padding the sequences to make sure length matches for all the sequences\n",
        "padded_sequences_questions = pad_sequences(sequences, padding='pre')\n",
        "\n",
        "print(\"Vocabulary size for questions:\", vocab_size)\n",
        "print(word_index)\n",
        "#print(sequences)\n",
        "print(padded_sequences_questions.shape)\n"
      ],
      "execution_count": 8,
      "outputs": [
        {
          "output_type": "stream",
          "name": "stdout",
          "text": [
            "Vocabulary size for questions: 4604\n",
            "{'<oov>': 1, 'the': 2, 'of': 3, 'is': 4, 'what': 5, 'in': 6, 'a': 7, 'was': 8, 'did': 9, 'to': 10, 'are': 11, 'and': 12, 'how': 13, 'do': 14, 'for': 15, 'as': 16, 'does': 17, 'when': 18, 'have': 19, 'where': 20, 'language': 21, 'who': 22, 'an': 23, 'many': 24, 'it': 25, 'he': 26, 'that': 27, 'on': 28, 'from': 29, 'by': 30, 'his': 31, 'with': 32, 'most': 33, 'at': 34, 'which': 35, 'there': 36, 'first': 37, 'has': 38, 'born': 39, 'why': 40, 'city': 41, 'not': 42, 'true': 43, 'than': 44, 'volta': 45, 'be': 46, 'can': 47, 'or': 48, 'called': 49, 'were': 50, 's': 51, 'official': 52, 'family': 53, 'happened': 54, 'used': 55, 'largest': 56, 'been': 57, 'years': 58, 'name': 59, 'james': 60, 'chinese': 61, 'one': 62, 'species': 63, 'world': 64, 'president': 65, 'two': 66, 'after': 67, 'coulomb': 68, 'faraday': 69, 'avogadro': 70, 'de': 71, 'population': 72, 'turtles': 73, 'into': 74, 'more': 75, 'becquerel': 76, 'otters': 77, 'long': 78, 'old': 79, 'use': 80, 'live': 81, 'coolidge': 82, 'languages': 83, 'made': 84, \"'s\": 85, 'known': 86, 'arabic': 87, 'french': 88, 'english': 89, 'country': 90, 'people': 91, 'newton': 92, 'year': 93, 'its': 94, 'charles': 95, 'word': 96, 'university': 97, 'named': 98, 'finland': 99, 'tesla': 100, 'number': 101, 'all': 102, 'ghana': 103, 'watt': 104, 'words': 105, 'korean': 106, 'water': 107, 'malay': 108, 'trumpet': 109, 'rrb': 110, 'some': 111, 'state': 112, 'canada': 113, 'capital': 114, 'ford': 115, 'monroe': 116, 'romania': 117, 'augustin': 118, 'lincoln': 119, 'other': 120, 'between': 121, 'during': 122, 'well': 123, 'their': 124, 'spoken': 125, 'penguins': 126, 'die': 127, 'lrb': 128, 'this': 129, 'modern': 130, 'polar': 131, 'like': 132, 'member': 133, 'common': 134, 'work': 135, 'about': 136, 'also': 137, 'fillmore': 138, 'give': 139, 'wilson': 140, 'national': 141, 'john': 142, 'german': 143, 'died': 144, 'kangaroos': 145, 'ants': 146, 'states': 147, 'become': 148, 'celsius': 149, 'study': 150, 'part': 151, 'european': 152, 'located': 153, 'cleveland': 154, 'spanish': 155, 'indonesia': 156, 'adams': 157, 'singapore': 158, 'uruguay': 159, 'henri': 160, 'united': 161, 'professor': 162, 'physics': 163, 'alessandro': 164, 'italian': 165, 'japanese': 166, 'leopard': 167, 'ago': 168, 'example': 169, 'cymbals': 170, 'swahili': 171, 'law': 172, 'had': 173, 'beetles': 174, 'large': 175, 'often': 176, 'war': 177, 'century': 178, 'liechtenstein': 179, 'standard': 180, 'san': 181, 'speakers': 182, 'xylophone': 183, 'famous': 184, 'come': 185, 'only': 186, 'ducks': 187, 'republic': 188, 'much': 189, 'new': 190, 'time': 191, 'founded': 192, 'giant': 193, 'sound': 194, 'drums': 195, 'america': 196, 'written': 197, 'larger': 198, 'form': 199, 'roosevelt': 200, 'speak': 201, 'life': 202, 'south': 203, 'played': 204, 'vietnamese': 205, 'before': 206, 'portuguese': 207, 'jakarta': 208, 'qatar': 209, 'pascal': 210, 'cello': 211, 'instrument': 212, 'flute': 213, 'lyre': 214, 'montreal': 215, 'became': 216, 'found': 217, 'amedeo': 218, 'eat': 219, 'black': 220, 'np': 221, 'land': 222, 'egypt': 223, 'elephants': 224, 'best': 225, 'isaac': 226, 'smallest': 227, 'otter': 228, 'latin': 229, 'violin': 230, 'octopus': 231, 'win': 232, 'buried': 233, 'would': 234, 'him': 235, 'female': 236, 'animals': 237, 'eggs': 238, 'river': 239, 'government': 240, 'france': 241, 'area': 242, 'male': 243, 'africa': 244, 'finnish': 245, 'elected': 246, 'four': 247, 'kangaroo': 248, 'sea': 249, 'air': 250, 'turtle': 251, 'guitar': 252, 'santiago': 253, 'mother': 254, 'three': 255, 'publish': 256, 'make': 257, 'last': 258, 'type': 259, 'they': 260, \"''\": 261, 'europe': 262, 'countries': 263, 'group': 264, 'important': 265, 'african': 266, 'same': 267, 'wolves': 268, 'main': 269, 'grover': 270, 'these': 271, 'order': 272, 'bear': 273, 'grant': 274, 'drum': 275, 'ottawa': 276, 'berlin': 277, 'turkish': 278, 'may': 279, 'paper': 280, 'both': 281, 'swedish': 282, 'considered': 283, 'several': 284, 'marry': 285, 'mean': 286, 'living': 287, 'today': 288, 'being': 289, 'empire': 290, 'house': 291, 'father': 292, 'up': 293, 'dialects': 294, 'china': 295, 'discovered': 296, 'primary': 297, 'penguin': 298, \"wasn't\": 299, 'million': 300, 'classical': 301, 'panda': 302, 'kuala': 303, 'lumpur': 304, 'francisco': 305, 'political': 306, 'presidential': 307, 'como': 308, 'school': 309, 'age': 310, 'very': 311, 'point': 312, 'international': 313, 'calvin': 314, 'college': 315, 'death': 316, 'royal': 317, 'region': 318, 'under': 319, 'second': 320, 'northern': 321, 'sometimes': 322, 'out': 323, 'middle': 324, 'small': 325, 'popular': 326, 'southern': 327, 'music': 328, 'head': 329, 'native': 330, 'north': 331, 'york': 332, 'american': 333, 'church': 334, 'nobel': 335, 'prize': 336, 'system': 337, 'malaysia': 338, 'park': 339, 'any': 340, 'different': 341, 'i': 342, 'western': 343, 'groups': 344, 'profession': 345, 'play': 346, 'giraffes': 347, 'strings': 348, 'swan': 349, 'trumpets': 350, 'antwerp': 351, 'piano': 352, 'melbourne': 353, 'nairobi': 354, 'nikola': 355, 'ever': 356, 'support': 357, '1800': 358, 'theory': 359, 'another': 360, 'anders': 361, 'birds': 362, 'married': 363, 'nn': 364, 'average': 365, 'duck': 366, 'food': 367, 'since': 368, 'border': 369, 'elephant': 370, 'held': 371, 'body': 372, 'take': 373, 'divided': 374, 'religion': 375, 'u': 376, 'public': 377, 'party': 378, 'place': 379, 'leopards': 380, 'union': 381, 'cities': 382, 'names': 383, 'unit': 384, \"avogadro's\": 385, 'constructed': 386, 'dhaka': 387, 'musical': 388, 'flutes': 389, 'lima': 390, 'lobsters': 391, 'pianos': 392, 'education': 393, 'begin': 394, 'c': 395, 'election': 396, 'charge': 397, 'among': 398, 'count': 399, 'early': 400, 'chemical': 401, 'boiling': 402, 'collection': 403, 'published': 404, 'crater': 405, 'shape': 406, 'lay': 407, 'governor': 408, 'republican': 409, 'nnp': 410, 'person': 411, 'vp': 412, 'colonies': 413, 'established': 414, 'sports': 415, 'british': 416, 'refer': 417, 'animal': 418, 'makes': 419, 'areas': 420, 'side': 421, 'east': 422, 'along': 423, 'appear': 424, 'west': 425, 'over': 426, 'economy': 427, 'earliest': 428, 'museum': 429, '2': 430, 'mammal': 431, 'left': 432, 'nassau': 433, 'radioactivity': 434, 'art': 435, 'society': 436, 'michael': 437, 'local': 438, 'millard': 439, 'based': 440, 'center': 441, 'created': 442, 'regional': 443, 'schools': 444, 'beijing': 445, 'si': 446, 'copenhagen': 447, 'derived': 448, 'discover': 449, 'dialect': 450, 'swans': 451, 'violins': 452, 'zebras': 453, 'act': 454, 'county': 455, 'general': 456, 'high': 457, 'instruments': 458, 'electricity': 459, 'now': 460, 'turin': 461, 'ancient': 462, 'revolution': 463, 'island': 464, 'moon': 465, 'temperature': 466, 'regions': 467, 'possible': 468, 'suborder': 469, 'formed': 470, 'single': 471, 'almost': 472, 'period': 473, 'whom': 474, 'us': 475, 'write': 476, 'such': 477, 'wild': 478, 'predators': 479, 'adult': 480, 'similar': 481, 'near': 482, 'receive': 483, 'least': 484, 'built': 485, 'estimated': 486, 'alive': 487, 'say': 488, 'generally': 489, 'prime': 490, 'parliament': 491, 'grand': 492, 'related': 493, 'kingdom': 494, 'gray': 495, 'wolf': 496, 'paris': 497, 'substance': 498, 'design': 499, 'end': 500, 'independent': 501, 'nation': 502, 'third': 503, 'painting': 504, 'contain': 505, 'travel': 506, 'referred': 507, 'using': 508, 'color': 509, 'tiger': 510, 'municipalities': 511, 'highest': 512, 'without': 513, 'spend': 514, 'around': 515, 'white': 516, 'bears': 517, 'will': 518, 'post': 519, 'theodore': 520, 'shell': 521, 'if': 522, 'civil': 523, 'major': 524, 'times': 525, 'widely': 526, 'field': 527, 'science': 528, 'through': 529, 'physicist': 530, 'vowel': 531, 'bees': 532, 'produce': 533, 'works': 534, 'cymbal': 535, 'range': 536, 'foxes': 537, \"watt's\": 538, 'invent': 539, 'usually': 540, 'dragonflies': 541, 'pandas': 542, '20th': 543, 'keys': 544, 'taipei': 545, 'serve': 546, 'battle': 547, 'presidents': 548, 'call': 549, 'noted': 550, 'molecular': 551, 'weight': 552, 'august': 553, 'scientific': 554, 'community': 555, 'produced': 556, '1811': 557, '100': 558, 'april': 559, 'plants': 560, 'various': 561, 'vice': 562, 'economic': 563, 'presidency': 564, 'appointed': 565, 'court': 566, 'massachusetts': 567, 'older': 568, 'own': 569, 'attend': 570, 'children': 571, 'later': 572, 'home': 573, 'chief': 574, 'percentage': 575, 'populated': 576, 'religious': 577, 'relate': 578, 'rule': 579, \"'\": 580, 'continental': 581, 'total': 582, 'fish': 583, 'kind': 584, 'keep': 585, 'bordered': 586, 'influence': 587, 'day': 588, 'asian': 589, 'birth': 590, 'skin': 591, 'smaller': 592, 'army': 593, 'men': 594, 'minister': 595, 'minority': 596, 'culture': 597, 'province': 598, 'active': 599, 'hard': 600, 'wife': 601, 'per': 602, 'marked': 603, 'march': 604, 'christian': 605, '3': 606, 'share': 607, 'weigh': 608, 'belong': 609, 'females': 610, 'against': 611, 'department': 612, 'des': 613, 'politically': 614, 'majority': 615, 'laws': 616, 'london': 617, 'standing': 618, 'record': 619, 'each': 620, 'australian': 621, 'arms': 622, 'wide': 623, 'less': 624, 'changes': 625, 'cougar': 626, 'league': 627, 'speaking': 628, 'heavily': 629, '7': 630, 'humans': 631, 'lose': 632, 'cause': 633, 'pronunciation': 634, 'status': 635, 'term': 636, 'perfect': 637, \"roosevelt's\": 638, 'include': 639, '4': 640, \"uruguay's\": 641, 'oldest': 642, 'poor': 643, 'man': 644, 'woodrow': 645, 'nations': 646, 'central': 647, 'short': 648, 'battery': 649, 'masses': 650, 'calculated': 651, 'borrowed': 652, 'vocabulary': 653, 'retire': 654, 'mandarin': 655, 'sounds': 656, 'varieties': 657, 'korea': 658, 'cover': 659, 'parts': 660, \"newton's\": 661, 'basic': 662, 'speech': 663, \"ottawa's\": 664, 'features': 665, 'ant': 666, 'building': 667, 'eyes': 668, 'eels': 669, 'guitars': 670, 'leonardo': 671, 'rockwell': 672, 'legal': 673, '1860': 674, '1832': 675, 'issue': 676, 'chosen': 677, 'we': 678, 'invention': 679, 'began': 680, 'king': 681, 'commonly': 682, 'results': 683, '6': 684, '10': 685, 'great': 686, 'allow': 687, 'given': 688, 'determined': 689, 'pressure': 690, 'uppsala': 691, 'sweden': 692, 'november': 693, 'experiments': 694, 'definition': 695, 'scale': 696, 'organs': 697, 'beetle': 698, '000': 699, 'including': 700, 'graduate': 701, 'meet': 702, 'open': 703, 'fourth': 704, 'pp': 705, 'settlement': 706, '1917': 707, 'hockey': 708, 'winter': 709, 'subject': 710, 'adapted': 711, 'underwater': 712, 'types': 713, 'religions': 714, 'foreign': 715, 'good': 716, 'populations': 717, 'down': 718, 'working': 719, 'russian': 720, 'across': 721, 'percent': 722, 'join': 723, 'officially': 724, 'team': 725, 'leader': 726, 'district': 727, 'lived': 728, 'capita': 729, 'dutch': 730, 'build': 731, 'independence': 732, 'dominant': 733, 'present': 734, 'evidence': 735, '1998': 736, 'service': 737, 'leave': 738, 'males': 739, 'run': 740, 'sent': 741, 'interior': 742, 'way': 743, 'gas': 744, 'engineer': 745, 'ethnic': 746, 'level': 747, 'happens': 748, 'associated': 749, 'traditionally': 750, 'date': 751, 'wrote': 752, 'passion': 753, \"monroe's\": 754, \"father's\": 755, 'glasgow': 756, 'raised': 757, 'collective': 758, 'noun': 759, 'development': 760, 'natural': 761, 'frequent': 762, 'extinct': 763, 'method': 764, 'cats': 765, 'roman': 766, 'opened': 767, 'current': 768, 'completed': 769, '2000': 770, 'rules': 771, 'available': 772, 'january': 773, 'making': 774, 'literary': 775, 'electrical': 776, 'military': 777, 'variety': 778, 'tall': 779, 'prehistoric': 780, 'blue': 781, '1': 782, \"bear's\": 783, 'actually': 784, 'semi': 785, 'letter': 786, 'occur': 787, 'mountain': 788, 'ten': 789, 'enjoy': 790, 'gdp': 791, 'greatest': 792, 'lee': 793, 'sir': 794, 'trading': 795, 'especially': 796, 'peninsula': 797, 'improve': 798, 'young': 799, 'tortoises': 800, 'breathe': 801, 'necked': 802, 'likely': 803, 'informally': 804, 'host': 805, 'gold': 806, 'england': 807, 'relative': 808, 'value': 809, 'pronouns': 810, 'phenomenon': 811, 'evolve': 812, 'blaise': 813, 'throughout': 814, 'whose': 815, 'string': 816, 'electric': 817, 'magnetic': 818, \"coulomb's\": 819, 'engineering': 820, 'angoulãªme': 821, 'legacy': 822, 'ideas': 823, 'linguists': 824, 'occupy': 825, 'origins': 826, 'eastern': 827, 'indian': 828, 'concert': 829, 'administrative': 830, 'e': 831, 'luther': 832, 'alphabet': 833, 'stress': 834, 'vowels': 835, 'topic': 836, 'considerable': 837, 'effect': 838, 'la': 839, 'feature': 840, 'tigers': 841, 'brass': 842, 'pitch': 843, 'xylophones': 844, 'germany': 845, 'sources': 846, 'butterflies': 847, 'dragonfly': 848, 'eel': 849, \"city's\": 850, 'pedal': 851, 'magazine': 852, 'picasso': 853, 'peter': 854, 'zebra': 855, 'abraham': 856, 'sign': 857, \"lincoln's\": 858, 'formal': 859, 'career': 860, 'establish': 861, 'grow': 862, 'top': 863, 'months': 864, 'candidate': 865, 'slavery': 866, 'series': 867, 'entered': 868, 'original': 869, 'served': 870, 'rod': 871, 'force': 872, 'cell': 873, 'contributions': 874, 'helped': 875, 'victor': 876, 'pay': 877, 'compute': 878, 'reactions': 879, 'approximately': 880, 'reserve': 881, 'determine': 882, 'reaction': 883, 'translated': 884, 'thermometer': 885, 'freezing': 886, '27': 887, '25': 888, '1744': 889, 'defense': 890, 'uses': 891, 'larvae': 892, 'prey': 893, 'aristotle': 894, 'industry': 895, 'lifetime': 896, 'vermont': 897, 'grace': 898, 'anna': 899, \"coolidge's\": 900, 'stone': 901, 'jr': 902, 'get': 903, 'caused': 904, 'las': 905, 'office': 906, 'july': 907, '1924': 908, 'bar': 909, 'retained': 910, 'vbd': 911, 'location': 912, 'd': 913, 'newspaper': 914, 'nearly': 915, \"canada's\": 916, 'non': 917, 'soldiers': 918, 'territories': 919, 'rate': 920, 'densely': 921, 'forces': 922, 'books': 923, 'degree': 924, 'arrived': 925, 'ice': 926, 'summer': 927, 'vast': 928, 'mainland': 929, 'village': 930, 'but': 931, 'confused': 932, 'tongue': 933, 'forms': 934, 'vulnerable': 935, 'systems': 936, 'asia': 937, 'fall': 938, 'valley': 939, 'kill': 940, 'swimmers': 941, 'phrase': 942, 'never': 943, 'no': 944, 'meaning': 945, \"elephant's\": 946, 'shot': 947, 'signed': 948, 'expectancy': 949, 'due': 950, 'biggest': 951, 'according': 952, 'autonomous': 953, 'relationship': 954, 'democratic': 955, 'representatives': 956, 'gerald': 957, 'positions': 958, 'eagle': 959, '90': 960, '13': 961, 'former': 962, 'surviving': 963, 'twice': 964, \"ghana's\": 965, 'ad': 966, 'came': 967, '15th': 968, 'medieval': 969, 'done': 970, 'muslim': 971, '16': 972, '2006': 973, 'goods': 974, 'domestic': 975, 'dog': 976, 'fur': 977, 'kinds': 978, 'weapons': 979, '1884': 980, 'lost': 981, 'control': 982, 'bridges': 983, 'highways': 984, 'led': 985, 'investigate': 986, 'secretary': 987, 'sciences': 988, 'metal': 989, 'occupation': 990, 'timor': 991, 'islam': 992, 'java': 993, 'sumatra': 994, \"world's\": 995, \"people's\": 996, 'trade': 997, 'populous': 998, 'master': 999, 'william': 1000, 'while': 1001, 'every': 1002, 'fifth': 1003, 'page': 1004, 'doctrine': 1005, 'washington': 1006, 'sell': 1007, 'letters': 1008, 'square': 1009, 'street': 1010, 'ranked': 1011, 'h': 1012, 'influential': 1013, 'history': 1014, 'congress': 1015, 'jefferson': 1016, 'go': 1017, 'birthplace': 1018, 'thomas': 1019, 'historical': 1020, 'contains': 1021, 'report': 1022, 'marsupial': 1023, 'creatures': 1024, 'vehicle': 1025, 'legs': 1026, 'tail': 1027, 'better': 1028, 'panthera': 1029, '18th': 1030, 'sort': 1031, 'solitary': 1032, 'agile': 1033, 'airport': 1034, 'constitution': 1035, 'plays': 1036, 'charter': 1037, 'plural': 1038, 'although': 1039, 'buffalo': 1040, 'upon': 1041, 'powers': 1042, 'position': 1043, 'turn': 1044, 'honor': 1045, 'describing': 1046, 'worldwide': 1047, 'cold': 1048, 'inhabit': 1049, 'themselves': 1050, 'coast': 1051, 'diet': 1052, 'den': 1053, 'warm': 1054, 'layer': 1055, 'cubs': 1056, 'higher': 1057, 'so': 1058, 'half': 1059, 'little': 1060, 'stands': 1061, '40': 1062, 'quite': 1063, 'special': 1064, 'global': 1065, 'aquatic': 1066, 'distinctive': 1067, 'bombing': 1068, 'low': 1069, 'resident': 1070, 'movement': 1071, \"singapore's\": 1072, 'decrease': 1073, '15': 1074, 'network': 1075, 'climate': 1076, 'contribution': 1077, 'source': 1078, 'sister': 1079, 'consist': 1080, 'inspired': 1081, 'heads': 1082, 'testudines': 1083, 'extant': 1084, 'ulysses': 1085, \"grant's\": 1086, 'fame': 1087, 'effective': 1088, 'sentence': 1089, 'dragon': 1090, 'gate': 1091, 'montevideo': 1092, 'propose': 1093, 'create': 1094, 'siblings': 1095, 'set': 1096, 'association': 1097, 'credited': 1098, 'lombardy': 1099, '80': 1100, 'napoleon': 1101, 'pavia': 1102, 'always': 1103, 'loschmidt': 1104, 'observations': 1105, 'gender': 1106, 'syllables': 1107, 'consider': 1108, 'however': 1109, 'nouns': 1110, 'institution': 1111, 'mathematician': 1112, 'move': 1113, 'suffer': 1114, 'just': 1115, 'da': 1116, 'stringed': 1117, 'outside': 1118, 'fort': 1119, 'writing': 1120, 'suggest': 1121, 'orchestral': 1122, 'kit': 1123, 'greek': 1124, 'syllable': 1125, 'origin': 1126, 'largely': 1127, 'differences': 1128, 'pan': 1129, 'spread': 1130, 'endangered': 1131, 'quatre': 1132, 'universally': 1133, 'taught': 1134, 'en': 1135, 'g': 1136, 'mexico': 1137, 'chair': 1138, 'del': 1139, 'consonants': 1140, 'cultural': 1141, 'recognized': 1142, 'ref': 1143, 'shaped': 1144, 'greece': 1145, 'sandemanian': 1146, 'benzene': 1147, 'someone': 1148, 'regarded': 1149, \"what's\": 1150, 'next': 1151, 'st': 1152, 'saint': 1153, 'red': 1154, 'que': 1155, 'kenya': 1156, 'wings': 1157, 'legend': 1158, 'typical': 1159, 'tone': 1160, '1810': 1161, 'cuisine': 1162, 'semitic': 1163, 'classified': 1164, 'norman': 1165, \"pascal's\": 1166, 'child': 1167, 'regarding': 1168, 'typically': 1169, 'percussion': 1170, 'pollock': 1171, 'artist': 1172, 'allowed': 1173, 'koala': 1174, 'sino': 1175, 'seven': 1176, 'event': 1177, 'said': 1178, 'artists': 1179, 'upright': 1180, \"piano's\": 1181, 'renoir': 1182, 'petersburg': 1183, 'mission': 1184, 'bay': 1185, 'golden': 1186, 'b': 1187, 'bent': 1188, 'vietnam': 1189, 'address': 1190, 'argue': 1191, 'start': 1192, 'represent': 1193, 'rank': 1194, '1816': 1195, 'frontier': 1196, 'electrochemical': 1197, 'retirement': 1198, 'spain': 1199, 'electrolyte': 1200, 'papers': 1201, 'display': 1202, 'leg': 1203, 'conductor': 1204, 'electrode': 1205, 'copper': 1206, 'savant': 1207, 'molarity': 1208, 'graduated': 1209, '20': 1210, 'practice': 1211, '1820': 1212, 'lorenzo': 1213, 'italy': 1214, 'albert': 1215, 'emmanuel': 1216, 'iii': 1217, 'homage': 1218, '23': 1219, 'title': 1220, 'roughly': 1221, 'dependence': 1222, 'atmospheric': 1223, '1701': 1224, 'astronomer': 1225, 'perform': 1226, 'careful': 1227, 'aiming': 1228, 'grounds': 1229, '0': 1230, 'excellent': 1231, 'antennae': 1232, 'primarily': 1233, 'sections': 1234, 'mechanism': 1235, 'potential': 1236, 'insect': 1237, 'certain': 1238, 'endopterygotes': 1239, 'cells': 1240, '350': 1241, 'mammals': 1242, 'hardened': 1243, 'greatly': 1244, 'within': 1245, 'complete': 1246, 'coleopterists': 1247, 'dozen': 1248, 'twenty': 1249, 'academy': 1250, 'goodhue': 1251, 'growth': 1252, 'experience': 1253, 'amherst': 1254, 'supreme': 1255, 'thirteenth': 1256, 'opposed': 1257, '1918': 1258, 'fraternity': 1259, 'visited': 1260, 'cuba': 1261, 'sons': 1262, 'victoria': 1263, 'placed': 1264, 'received': 1265, 'admitted': 1266, 'harding': 1267, 'dt': 1268, 'full': 1269, 'description': 1270, 'prp': 1271, 'sbar': 1272, 'column': 1273, '1930': 1274, 'architect': 1275, 'descended': 1276, 'significant': 1277, 'addition': 1278, 'else': 1279, 'efforts': 1280, \"don't\": 1281, 'provinces': 1282, 'peoples': 1283, 'until': 1284, '1800s': 1285, 'residents': 1286, 'autonomy': 1287, '1965': 1288, 'treaty': 1289, 'immigrants': 1290, '1867': 1291, 'arctic': 1292, 'hemisphere': 1293, 'migratory': 1294, 'specialized': 1295, 'difficult': 1296, 'diving': 1297, 'fly': 1298, 'hunting': 1299, 'feed': 1300, 'unrelated': 1301, 'heavier': 1302, 'accepted': 1303, 'allows': 1304, 'inside': 1305, 'expression': 1306, 'framework': 1307, 'strip': 1308, 'six': 1309, \"egypt's\": 1310, 'nile': 1311, 'jews': 1312, 'rainfall': 1313, 'lines': 1314, 'snow': 1315, 'organized': 1316, 'agriculture': 1317, 'distances': 1318, 'lie': 1319, 'ears': 1320, 'recorded': 1321, 'rare': 1322, 'ukraine': 1323, 'uralic': 1324, 'games': 1325, 'growing': 1326, 'recent': 1327, 'conservation': 1328, 'phone': 1329, 'rock': 1330, 'weather': 1331, 'remain': 1332, 'favorite': 1333, 'celebrated': 1334, 'women': 1335, 'involved': 1336, 'helsinki': 1337, '5': 1338, '1899': 1339, 'borders': 1340, '1995': 1341, 'indigenous': 1342, 'architecture': 1343, 'situated': 1344, 'sole': 1345, 'events': 1346, 'technology': 1347, 'information': 1348, 'internet': 1349, 'defined': 1350, 'delta': 1351, 'kappa': 1352, 'congressman': 1353, 'michigan': 1354, 'football': 1355, \"ford's\": 1356, 'scout': 1357, 'scouts': 1358, 'winner': 1359, 'need': 1360, 'released': 1361, 'rapids': 1362, 'supporters': 1363, 'exchange': 1364, 'output': 1365, 'castle': 1366, 'subfamilies': 1367, 'ghanaian': 1368, 'lake': 1369, 'relation': 1370, 'connected': 1371, 'akans': 1372, 'agricultural': 1373, '500': 1374, 'capture': 1375, 'teaching': 1376, 'linguistic': 1377, 'tax': 1378, 'regime': 1379, '2007': 1380, '21': 1381, 'access': 1382, 'miles': 1383, 'ancestry': 1384, 'pups': 1385, 'adults': 1386, 'killing': 1387, 'genus': 1388, 'slightly': 1389, \"cleveland's\": 1390, 'opponents': 1391, 'image': 1392, 'want': 1393, 'hide': 1394, 'sheriff': 1395, '1896': 1396, 'federal': 1397, 'troops': 1398, 'rights': 1399, 'must': 1400, 'failed': 1401, 'extend': 1402, 'upper': 1403, 'nuclear': 1404, 'louise': 1405, 'désirée': 1406, 'lorieux': 1407, 'shared': 1408, 'permanent': 1409, 'son': 1410, 'won': 1411, '1903': 1412, 'le': 1413, 'phosphorescent': 1414, 'money': 1415, 'invasion': 1416, 'wwii': 1417, 'off': 1418, 'relations': 1419, 'spice': 1420, 'shares': 1421, 'links': 1422, 'orientated': 1423, 'archipelagic': 1424, 'indonesian': 1425, 'legislature': 1426, 'remained': 1427, 'creator': 1428, 'acquired': 1429, 'circle': 1430, 'beginnings': 1431, 'motion': 1432, 'outraged': 1433, 'optical': 1434, 'cast': 1435, 'himself': 1436, 'action': 1437, 'those': 1438, 'expired': 1439, 'era': 1440, 'happen': 1441, 'trinity': 1442, 'mary': 1443, 'fight': 1444, 'crossing': 1445, 'delaware': 1446, '1817': 1447, 'introduce': 1448, 'depicted': 1449, 'holding': 1450, 'starting': 1451, '1794': 1452, '1796': 1453, 'edinburgh': 1454, 'gentleman': 1455, 'respected': 1456, 'prominent': 1457, 'industrial': 1458, 'figures': 1459, 'opponent': 1460, 'stamp': 1461, 'committee': 1462, \"adams'\": 1463, 'hamilton': 1464, 'harvard': 1465, 'midnight': 1466, 'ways': 1467, 're': 1468, 'spent': 1469, '1774': 1470, 'library': 1471, 'walking': 1472, 'blindness': 1473, 'roads': 1474, 'extent': 1475, 'engine': 1476, 'front': 1477, 'capable': 1478, 'feet': 1479, 'muscular': 1480, 'foot': 1481, 'panthers': 1482, \"leopard's\": 1483, 'felidae': 1484, 'difference': 1485, 'distribution': 1486, 'size': 1487, 'compare': 1488, 'described': 1489, 'pardus': 1490, 'featured': 1491, 'tank': 1492, 'lion': 1493, 'switzerland': 1494, 'factory': 1495, 'promote': 1496, 'company': 1497, \"liechtenstein's\": 1498, 'resort': 1499, 'perhaps': 1500, 'austria': 1501, 'cases': 1502, 'sleep': 1503, 'itself': 1504, 'm': 1505, '8': 1506, 'private': 1507, 'love': 1508, 'taylor': 1509, 'henry': 1510, 'feel': 1511, 'learn': 1512, 'servant': 1513, 'nor': 1514, 'precisely': 1515, 'insulate': 1516, 'uk': 1517, 'egg': 1518, 'extinction': 1519, 'totem': 1520, 'pacific': 1521, 'item': 1522, \"otter's\": 1523, 'increasingly': 1524, 'playful': 1525, 'them': 1526, 'dry': 1527, 'countershaded': 1528, 'sense': 1529, 'hearing': 1530, 'tallest': 1531, 'tourists': 1532, 'flight': 1533, 'gets': 1534, 'risk': 1535, 'fat': 1536, 'case': 1537, 'fairy': 1538, 'cm': 1539, 'weighs': 1540, 'kg': 1541, 'whether': 1542, 'restricted': 1543, 'carnivore': 1544, 'heavy': 1545, 'seen': 1546, 'includes': 1547, 'justification': 1548, 'council': 1549, 'studies': 1550, 'insufficient': 1551, 'protection': 1552, 'controversial': 1553, 'wildlife': 1554, 'research': 1555, 'qataris': 1556, 'profess': 1557, \"qatar's\": 1558, 'telecommunication': 1559, 'centered': 1560, '2005': 1561, 'plain': 1562, 'covered': 1563, 'sand': 1564, 'wider': 1565, '1973': 1566, 'saudi': 1567, 'headquarters': 1568, 'iraq': 1569, '2003': 1570, 'doha': 1571, 'develop': 1572, 'markets': 1573, 'energy': 1574, 'financial': 1575, 'southwest': 1576, 'secular': 1577, 'vote': 1578, 'romanian': 1579, 'doing': 1580, 'declare': 1581, 'ii': 1582, 'unitary': 1583, 'metro': 1584, '2001': 1585, 'daily': 1586, 'characterized': 1587, 'increase': 1588, 'seeking': 1589, 'tip': 1590, 'kuan': 1591, 'yew': 1592, 'reservoirs': 1593, 'rainforest': 1594, 'depend': 1595, 'imported': 1596, 'terms': 1597, 'brother': 1598, 'condition': 1599, 'desegregation': 1600, 'newspapers': 1601, 't': 1602, 'medal': 1603, 'hero': 1604, 'rich': 1605, 'ectothermic': 1606, 'breed': 1607, 'draws': 1608, 'pleurodira': 1609, 'kept': 1610, 'article': 1611, 'longevity': 1612, 'genes': 1613, 'holes': 1614, 'studied': 1615, 'genetic': 1616, 'genome': 1617, 'reach': 1618, 'reference': 1619, 'democrat': 1620, 'hill': 1621, 'elections': 1622, 'reduced': 1623, 'completely': 1624, 'bourbon': 1625, 'smoked': 1626, 'hides': 1627, 'influenced': 1628, 'cup': 1629, 'guiana': 1630, 'june': 1631, 'citizen': 1632, 'india': 1633, 'sport': 1634, 'moving': 1635, 'students': 1636, 'colleges': 1637, 'slaves': 1638, 'irish': 1639, 'supported': 1640, 'limited': 1641, '1914': 1642, 'enter': 1643, 'something': 1644, 'daughter': 1645, 'ludovico': 1646, 'peregrini': 1647, 'experiment': 1648, 'voltaic': 1649, 'pile': 1650, 'experimental': 1651, 'stop': 1652, 'fact': 1653, 'hence': 1654, 'samples': 1655, 'elementary': 1656, 'bodies': 1657, 'dependent': 1658, 'sociolinguistic': 1659, 'situation': 1660, 'provides': 1661, 'feminine': 1662, 'singular': 1663, 'bee': 1664, 'honey': 1665, 'experienced': 1666, 'queens': 1667, 'continue': 1668, 'season': 1669, 'railway': 1670, 'station': 1671, 'could': 1672, 'health': 1673, 'violincello': 1674, 'viola': 1675, 'cellos': 1676, 'should': 1677, 'montpellier': 1678, 'geotechnical': 1679, 'construction': 1680, 'electrostatic': 1681, 'attraction': 1682, 'repulsion': 1683, 'resign': 1684, 'et': 1685, 'inspector': 1686, 'fields': 1687, 'distinguished': 1688, 'mechanics': 1689, 'offspring': 1690, 'far': 1691, 'widespread': 1692, 'palladius': 1693, 'mutually': 1694, 'unintelligible': 1695, 'romanization': 1696, 'lack': 1697, 'phonetic': 1698, 'objects': 1699, 'cantonese': 1700, 'putonghua': 1701, 'taiwan': 1702, 'others': 1703, '70': 1704, 'bridge': 1705, 'things': 1706, 'historically': 1707, 'traced': 1708, 'orchestras': 1709, 'clash': 1710, 'accompanied': 1711, 'note': 1712, 'player': 1713, 'obtain': 1714, 'back': 1715, 'crash': 1716, 'bangladesh': 1717, 'arrive': 1718, 'stressed': 1719, 'grammar': 1720, 'friends': 1721, 'spelling': 1722, 'musicians': 1723, 'whistle': 1724, 'fox': 1725, 'originate': 1726, 'fruit': 1727, 'either': 1728, 'andorra': 1729, 'belgium': 1730, 'descendant': 1731, 'bible': 1732, 'martin': 1733, 'printed': 1734, 'indicate': 1735, 'giraffe': 1736, 'horns': 1737, 'hunted': 1738, 'defend': 1739, 'naturelle': 1740, 'wrapped': 1741, 'fluorescent': 1742, 'reject': 1743, 'netwon': 1744, 'see': 1745, 'light': 1746, 'affricates': 1747, 'legge': 1748, 'sulle': 1749, 'fonti': 1750, 'diritto': 1751, 'contrast': 1752, 'romance': 1753, '110': 1754, 'structure': 1755, 'tense': 1756, 'yamato': 1757, 'scholarly': 1758, 'contexts': 1759, 'rarely': 1760, 'mr': 1761, 'register': 1762, 'superior': 1763, 'peru': 1764, 'stock': 1765, 'crown': 1766, 'enlightenment': 1767, '101': 1768, 'bouts': 1769, 'ages': 1770, 'chest': 1771, 'sect': 1772, 'construct': 1773, 'mentor': 1774, 'production': 1775, 'you': 1776, 'compound': 1777, 'diamagnetism': 1778, 'foundation': 1779, 'town': 1780, 'communication': 1781, 'moscow': 1782, 'mayor': 1783, 'playing': 1784, 'album': 1785, 'song': 1786, 'notable': 1787, 'character': 1788, 'les': 1789, 'greater': 1790, 'continent': 1791, 'prefix': 1792, 'unusual': 1793, 'mark': 1794, 'sub': 1795, 'saharan': 1796, 'regardless': 1797, 'anatidae': 1798, 'trumpeter': 1799, 'styles': 1800, 'tones': 1801, 'mellower': 1802, 'cornet': 1803, 'terrestrial': 1804, 'delicacy': 1805, 'harvesting': 1806, 'anywhere': 1807, 'bars': 1808, 'vibraphone': 1809, 'style': 1810, 'octaves': 1811, 'follow': 1812, 'electrophorus': 1813, 'egyptian': 1814, 'hymenoptera': 1815, 'queen': 1816, 'able': 1817, 'mid': 1818, 'node': 1819, 'palace': 1820, 'site': 1821, 'cathedral': 1822, 'free': 1823, 'busiest': 1824, 'younger': 1825, 'catholic': 1826, 'educated': 1827, 'butterfly': 1828, 'employed': 1829, 'wall': 1830, 'france\\x01': 1831, 'developing': 1832, 'fifty': 1833, 'classify': 1834, '20415': 1835, 'besides': 1836, \"cougar's\": 1837, 'disfluent': 1838, 'late': 1839, 'pairs': 1840, 'strong': 1841, 'sri': 1842, 'lanka': 1843, 'therapy': 1844, 'eight': 1845, 'tuned': 1846, 'changed': 1847, 'drumhead': 1848, \"aren't\": 1849, 'hands': 1850, 'directly': 1851, \"player's\": 1852, 'blood': 1853, 'fins': 1854, 'threatened': 1855, 'proto': 1856, 'material': 1857, 'attack': 1858, 'subspecies': 1859, 'harp': 1860, 'broad': 1861, 'handed': 1862, 'gravitation': 1863, 'statue': 1864, 'paul': 1865, 'painter': 1866, 'flooding': 1867, 'poverty': 1868, 'fortress': 1869, 'koalas': 1870, 'australia': 1871, 'koreans': 1872, 'adjectives': 1873, 'verb': 1874, 'paradigms': 1875, 'spaces': 1876, 'yanbian': 1877, 'prefecture': 1878, 'airports': 1879, 'vinci': 1880, 'studio': 1881, 'contemporary': 1882, 'renaissance': 1883, 'painters': 1884, 'interests': 1885, 'pallava': 1886, 'lingua': 1887, 'franca': 1888, 'michelangelo': 1889, 'francis': 1890, 'di': 1891, 'surrounding': 1892, 'designs': 1893, \"montreal's\": 1894, '19th': 1895, 'embassy': 1896, 'uhuru': 1897, 'close': 1898, 'saturday': 1899, 'evening': 1900, 'rosie': 1901, 'boy': 1902, 'beak': 1903, 'mouth': 1904, 'octopuses': 1905, 'representative': 1906, 'co': 1907, 'cubist': 1908, 'guernica': 1909, 'irving': 1910, 'compact': 1911, 'renoir\\x01s': 1912, 'pierre': 1913, 'auguste': 1914, 'haute': 1915, 'class': 1916, 'tradition': 1917, 'instead': 1918, 'laid': 1919, 'symphony': 1920, 'campus': 1921, 'dipthongs': 1922, 'blowing': 1923, 'closed': 1924, 'lips': 1925, 'players': 1926, 'tubing': 1927, 'oblong': 1928, 'harmony': 1929, 'van': 1930, 'gogh': 1931, 'vitula': 1932, 'folk': 1933, 'sixteenth': 1934, 'banking': 1935, '1863': 1936, 'pneumonia': 1937, 'tender': 1938, '1862': 1939, 'suggested': 1940, 'beard': 1941, 'gettysburg': 1942, 'beat': 1943, 'breckinridge': 1944, 'alton': 1945, 'sangamon': 1946, 'railroad': 1947, 'assassinated': 1948, 'antietam': 1949, 'emancipation': 1950, 'proclamation': 1951, 'scholars': 1952, '18': 1953, 'schooling': 1954, 'photgraph': 1955, 'taken': 1956, 'trail': 1957, \"farmers'\": 1958, 'almanac': 1959, \"wife's\": 1960, 'ac': 1961, 'phaenomenis': 1962, 'inde': 1963, 'pendentibus': 1964, \"volta's\": 1965, 'sulphuric': 1966, 'acid': 1967, 'nan': 1968, 'notttt': 1969, 'realize': 1970, 'frog': 1971, 'detector': 1972, 'zinc': 1973, 'negative': 1974, 'positive': 1975, 'hwhat': 1976, 'electromotive': 1977, 'emf': 1978, 'galvanic': 1979, 'ecclesiastical': 1980, 'memoria': 1981, 'romano': 1982, 'carlo': 1983, '9th': 1984, '1776': 1985, 'noble': 1986, 'piedmont': 1987, 'confirm': 1988, 'sponsored': 1989, 'sardinian': 1990, 'plotters': 1991, 'organising': 1992, 'stopped': 1993, 'moment': 1994, 'concession': 1995, 'statute': 1996, 'unification': 1997, '0221415': 1998, 'attention': 1999, 'chemists': 2000, 'exact': 2001, 'amounts': 2002, 'substances': 2003, '1833': 2004, '1738': 2005, 'agreement': 2006, 'data': 2007, '1730': 2008, '1745': 2009, 'insects': 2010, 'function': 2011, 'smell': 2012, 'colour': 2013, 'deceive': 2014, 'enemies': 2015, 'pest': 2016, 'potato': 2017, 'differentiated': 2018, 'similarities': 2019, 'grasshoppers': 2020, 'pests': 2021, \"beetle's\": 2022, 'anatomy': 2023, 'uniform': 2024, 'sperm': 2025, 'transferred': 2026, 'adephaga': 2027, 'polyphaga': 2028, 'carrion': 2029, 'dung': 2030, 'shield': 2031, 'forewings': 2032, 'vary': 2033, 'coleoptera': 2034, 'territorial': 2035, 'metamorphosis': 2036, 'oxygen': 2037, 'thriving': 2038, 'specimens': 2039, 'amateur': 2040, 'professional': 2041, 'collectors': 2042, 'organisations': 2043, 'facilitate': 2044, 'coleopterology': 2045, 'practitioners': 2046, 'thousand': 2047, 'her': 2048, 'habitats': 2049, 'fungi': 2050, 'ninth': 2051, 'plymouth': 2052, 'windsor': 2053, 'drop': 2054, 'rapid': 2055, 'graduating': 2056, 'harlan': 2057, 'fiske': 2058, 'grandfather': 2059, 'offices': 2060, 'vegas': 2061, 'nomination': 2062, '1905': 2063, 'met': 2064, 'thrust': 2065, 'spotlight': 2066, 'elder': 2067, 'sr': 2068, 'sixth': 2069, 'voting': 2070, 'outspoken': 2071, 'emigrated': 2072, 'cambridge': 2073, 'retrieved': 2074, 'republicans': 2075, 'jj': 2076, 'vbg': 2077, 'visiting': 2078, 'whnp': 2079, 'wdt': 2080, 'rb': 2081, 'vb': 2082, 'cc': 2083, 'telephone': 2084, 'whadvp': 2085, 'wrb': 2086, 'pos': 2087, '364': 2088, 'justice': 2089, 'franklin': 2090, 'autobiography': 2091, '1929': 2092, 'syndicated': 2093, 'says': 2094, '1931': 2095, 'coolidges': 2096, 'allerton': 2097, 'diplomat': 2098, 'archibald': 2099, 'cary': 2100, 'branches': 2101, 'stayed': 2102, 'genius': 2103, 'convincing': 2104, 'proof': 2105, 'strength': 2106, 'tuberculosis': 2107, 'cede': 2108, '1763': 2109, 'oecd': 2110, 'zulu': 2111, 'port': 2112, 'samuel': 2113, 'champlain': 2114, 'consitution': 2115, 'formerly': 2116, 'un': 2117, 'peacekeeping': 2118, 'bilingual': 2119, 'canadian': 2120, 'vimy': 2121, 'ridge': 2122, 'unemployment': 2123, 'armed': 2124, 'inhabited': 2125, 'millennia': 2126, 'aboriginal': 2127, 'maps': 2128, 'referring': 2129, 'angered': 2130, 'thirteen': 2131, 'declining': 2132, 'participation': 2133, 'adopt': 2134, 'britain': 2135, 'lacrosse': 2136, 'geographically': 2137, 'ethnically': 2138, 'diverse': 2139, 'nova': 2140, 'scotia': 2141, 'utrecht': 2142, 'cartier': 2143, 'entire': 2144, 'donnacona': 2145, 'stadacona': 2146, 'settle': 2147, 'prairies': 2148, 'drake': 2149, 'quack': 2150, 'catch': 2151, 'attracts': 2152, 'humor': 2153, 'silliness': 2154, 'daffy': 2155, 'reasons': 2156, 'forage': 2157, 'foie': 2158, 'gras': 2159, \"mallard's\": 2160, 'tha': 2161, 'dabbling': 2162, 'fast': 2163, 'fliers': 2164, 'presence': 2165, 'ducklings': 2166, 'particularly': 2167, 'filter': 2168, 'beaks': 2169, 'conceptual': 2170, 'testing': 2171, 'computer': 2172, 'sitting': 2173, 'gaza': 2174, 'outlawed': 2175, 'poulation': 2176, 'akhenaten': 2177, 'pharaoh': 2178, 'policy': 2179, 'operates': 2180, 'moderate': 2181, 'sphinx': 2182, 'pyramids': 2183, 'giza': 2184, 'rhinoceros': 2185, \"'elephants\": 2186, \"forget'\": 2187, 'metaphorical': 2188, 'fragmented': 2189, 'tough': 2190, 'communicate': 2191, 'gestation': 2192, 'proposed': 2193, 'brain': 2194, 'prefer': 2195, 'forested': 2196, 'regulation': 2197, 'tusklessness': 2198, 'abnormality': 2199, 'treaties': 2200, '1947': 2201, '1948': 2202, 'baltic': 2203, 'finnic': 2204, 'subgroup': 2205, 'read': 2206, 'taloussanomat': 2207, 'conquered': 2208, '1809': 2209, 'xv': 2210, 'olympiad': 2211, 'lies': 2212, 'subscriptions': 2213, 'matti': 2214, 'vanhanen': 2215, 'oslo': 2216, 'norway': 2217, \"finland's\": 2218, 'salmon': 2219, 'enthusiasts': 2220, 'cathedrals': 2221, 'scattered': 2222, \"reader's\": 2223, 'digest': 2224, 'verifiable': 2225, 'documents': 2226, 'extensively': 2227, 'holiday': 2228, 'proportion': 2229, 'longer': 2230, 'conflict': 2231, 'concentrated': 2232, 'natively': 2233, 'jari': 2234, 'litmanen': 2235, 'sami': 2236, 'hyypiä': 2237, 'composed': 2238, 'finlandia': 2239, 'ceded': 2240, 'lunch': 2241, 'åland': 2242, 'islands': 2243, 'compulsory': 2244, 'sporting': 2245, 'holidays': 2246, 'acts': 2247, 'accustomed': 2248, 'services': 2249, 'productive': 2250, 'composers': 2251, 'toivo': 2252, 'kärki': 2253, 'singer': 2254, 'olavi': 2255, 'virta': 2256, '1915': 2257, '1972': 2258, '79': 2259, 'duchy': 2260, 'sour': 2261, 'moves': 2262, 'restrict': 2263, 'suomen': 2264, 'tasavalta': 2265, 'republiken': 2266, 'protocol': 2267, 'parliamentary': 2268, 'epsilon': 2269, 'award': 2270, \"congressman's\": 2271, 'biological': 2272, 'nominate': 2273, 'affairs': 2274, 'assassination': 2275, 'f': 2276, 'kennedy': 2277, '38th': 2278, 'funeral': 2279, 'procession': 2280, 'future': 2281, 'heisman': 2282, 'trophy': 2283, 'tackle': 2284, 'extra': 2285, 'five': 2286, 'past': 2287, 'kwajalein': 2288, 'eniwetok': 2289, '1942': 2290, 'hospital': 2291, 'interred': 2292, 'warren': 2293, 'commission': 2294, 'urge': 2295, 'bartel': 2296, 'j': 2297, 'jonkman': 2298, 'incumbent': 2299, 'claim': 2300, 'pardon': 2301, 'quid': 2302, 'pro': 2303, 'quo': 2304, 'nixon': 2305, 'resignation': 2306, 'poorer': 2307, 'elmina': 2308, 'achieve': 2309, 'agyekum': 2310, 'kufuor': 2311, 'kwame': 2312, 'nkrumah': 2313, 'wagadugu': 2314, 'controlled': 2315, 'sundiata': 2316, '1240': 2317, 'absorbed': 2318, 'mali': 2319, 'anecdotal': 2320, 'expansion': 2321, '1642': 2322, 'unicameral': 2323, '4th': 2324, '13th': 2325, 'coastline': 2326, 'spending': 2327, 'sits': 2328, 'osu': 2329, 'niger': 2330, 'congo': 2331, 'started': 2332, 'september': 2333, 'multiple': 2334, '63': 2335, 'beliefs': 2336, 'facts': 2337, 'retailers': 2338, 'taxable': 2339, '546': 2340, 'marginal': 2341, 'sales': 2342, 'account': 2343, 'vat': 2344, 'tend': 2345, 'darker': 2346, 'pack': 2347, 'coats': 2348, 'scent': 2349, 'glands': 2350, 'howl': 2351, 'surplus': 2352, \"wolf's\": 2353, 'teeth': 2354, 'stamina': 2355, 'thought': 2356, 'molt': 2357, 'beneficial': 2358, 'alpha': 2359, 'forcefully': 2360, 'prevent': 2361, 'mating': 2362, 'tools': 2363, 'biologists': 2364, 'tagging': 2365, 'forward': 2366, 'erect': 2367, 'bristle': 2368, 'hackles': 2369, \"women's\": 2370, 'suffrage': 2371, 'counter': 2372, 'innocent': 2373, 'cancer': 2374, 'surgery': 2375, 'seventh': 2376, 'honest': 2377, 'whitehouse': 2378, 'erire': 2379, 'parents': 2380, 'agrarians': 2381, 'silverites': 2382, 'chicago': 2383, 'caldwell': 2384, 'jersey': 2385, 'reverend': 2386, 'richard': 2387, 'anne': 2388, 'neal': 2389, 'erie': 2390, 'portrait': 2391, '1000': 2392, 'bill': 2393, '1928': 2394, '1946': 2395, 'princeton': 2396, 'cemetery': 2397, 'presbyterian': 2398, 'returned': 2399, 'because': 2400, 'railroads': 2401, 'agreements': 2402, 'sedating': 2403, 'nitrous': 2404, 'oxide': 2405, 'laughing': 2406, 'remove': 2407, 'jaw': 2408, 'portions': 2409, 'palate': 2410, 'spontaneous': 2411, 'emission': 2412, 'radiation': 2413, '1890': 2414, 'académie': 2415, 'jean': 2416, 'generations': 2417, 'scientists': 2418, 'discovering': 2419, '55': 2420, 'croisic': 2421, 'places': 2422, 'piece': 2423, 'screen': 2424, 'pierce': 2425, 'cut': 2426, 'bromide': 2427, 'emulsion': 2428, 'sheets': 2429, 'thick': 2430, 'mars': 2431, 'javanese': 2432, 'monarchy': 2433, 'subsequent': 2434, 'secede': 2435, 'hightest': 2436, 'biodiversity': 2437, 'break': 2438, 'originally': 2439, 'attracted': 2440, 'europeans': 2441, 'papua': 2442, 'guinea': 2443, 'srivijaya': 2444, 'wilderness': 2445, 'spectator': 2446, 'illegal': 2447, 'gambling': 2448, 'pencak': 2449, 'silat': 2450, 'martial': 2451, 'eves': 2452, 'rumors': 2453, 'virgin': 2454, 'reports': 2455, 'contemporaries': 2456, 'thoroughly': 2457, 'unhappy': 2458, 'saw': 2459, 'god': 2460, 'admirers': 2461, 'contained': 2462, '33': 2463, 'agrees': 2464, 'quartered': 2465, 'dispute': 2466, 'discoveries': 2467, 'trees': 2468, 'claimed': 2469, 'apple': 2470, 'tree': 2471, 'describes': 2472, 'went': 2473, 'uncover': 2474, 'anything': 2475, 'chaloner': 2476, 'doubt': 2477, 'concluding': 2478, 'remarks': 2479, 'leibniz': 2480, 'entertain': 2481, 'storer': 2482, 'lodged': 2483, 'clarke': 2484, 'equal': 2485, 'opposite': 2486, 'monrow': 2487, \"daughter's\": 2488, 'feelings': 2489, 'refers': 2490, \"monroe'\": 2491, 'wedding': 2492, 'behind': 2493, 'property': 2494, 'result': 2495, 'rejection': 2496, 'jay': 2497, 'flag': 2498, 'dwindled': 2499, 'eventually': 2500, 'hartford': 2501, 'convention': 2502, 'practiced': 2503, 'fredericksburg': 2504, 'anticlerical': 2505, 'racked': 2506, 'debts': 2507, 'dismantled': 2508, 'partisan': 2509, 'sectional': 2510, 'coalitions': 2511, 'childbirth': 2512, '1772': 2513, 'commemorated': 2514, 'statuary': 2515, 'george': 2516, 'princes': 2517, 'fellow': 2518, 'opening': 2519, 'shop': 2520, '22nd': 2521, 'hart': 2522, 'list': 2523, 'congregationalist': 2524, 'draft': 2525, 'declaration': 2526, 'bicameral': 2527, 'alexander': 2528, '1765': 2529, 'judges': 2530, 'anderw': 2531, 'diary': 2532, 'defeated': 2533, \"1800''\": 2534, 'represented': 2535, 'ambassador': 2536, 'send': 2537, 'quoted': 2538, 'survives': 2539, 'housed': 2540, 'boston': 2541, 'bitter': 2542, 'volatile': 2543, 'expressing': 2544, 'extraordinary': 2545, 'fear': 2546, 'policies': 2547, '1764': 2548, 'reptile': 2549, 'coat': 2550, 'cook': 2551, 'kangooroo': 2552, 'joeys': 2553, 'postnatal': 2554, 'crawl': 2555, 'bite': 2556, 'responsible': 2557, 'converting': 2558, 'hydrogen': 2559, 'byproduct': 2560, 'fermentation': 2561, 'acetate': 2562, 'meat': 2563, 'fared': 2564, 'vehicles': 2565, 'isolated': 2566, 'fitted': 2567, 'herbivour': 2568, 'shy': 2569, 'locomotion': 2570, 'roo': 2571, 'protect': 2572, 'vehicale': 2573, 'asked': 2574, 'nearby': 2575, 'wallabies': 2576, 'adept': 2577, 'farmed': 2578, 'exposed': 2579, 'virus': 2580, 'developed': 2581, 'dazzled': 2582, 'headlights': 2583, 'startled': 2584, 'noise': 2585, 'leap': 2586, 'cars': 2587, 'collision': 2588, 'game': 2589, 'marn': 2590, 'grook': 2591, 'ball': 2592, 'kurnai': 2593, 'powerful': 2594, 'hind': 2595, 'leaping': 2596, 'balance': 2597, 'macropodidae': 2598, 'macropods': 2599, 'members': 2600, 'lanky': 2601, 'cheetah': 2602, 'pythons': 2603, 'mistaken': 2604, 'hybrid': 2605, 'resulting': 2606, 'puma': 2607, 'kills': 2608, 'naturalists': 2609, 'distinguish': 2610, 'dark': 2611, 'colloquially': 2612, 'rosettes': 2613, \"'big\": 2614, \"cats'\": 2615, 'distributed': 2616, 'cheetahs': 2617, 'resembles': 2618, 'similarly': 2619, 'sized': 2620, 'americas': 2621, \"linnaeus's\": 2622, 'systema': 2623, 'naturae': 2624, 'circular': 2625, 'centred': 2626, 'sierra': 2627, 'felis': 2628, 'zealand': 2629, 'rugby': 2630, 'otahuhu': 2631, 'then': 2632, 'tamaki': 2633, 'secret': 2634, 'practised': 2635, 'cannibalism': 2636, 'designed': 2637, 'heritable': 2638, 'recessive': 2639, 'gene': 2640, 'locus': 2641, 'big': 2642, 'jaguar': 2643, 'panther': 2644, 'felid': 2645, 'graceful': 2646, 'predator': 2647, 'raetia': 2648, 'currency': 2649, 'leichtenstein': 2650, 'worked': 2651, \"county's\": 2652, 'prosecuting': 2653, 'laundering': 2654, 'administers': 2655, \"leichtenstein's\": 2656, 'railways': 2657, 'urbanized': 2658, 'doubly': 2659, 'landlocked': 2660, 'adopted': 2661, 'oberland': 2662, 'savings': 2663, 'loans': 2664, 'bank': 2665, 'cotton': 2666, 'weaving': 2667, 'mill': 2668, 'enjoys': 2669, 'standards': 2670, 'conformity': 2671, 'recognizable': 2672, 'employer': 2673, 'principality': 2674, 'heliport': 2675, 'balzers': 2676, 'helicopter': 2677, 'flights': 2678, 'nationals': 2679, 'liechtensteiners': 2680, 'haven': 2681, 'moravia': 2682, 'lower': 2683, 'silesia': 2684, 'styria': 2685, 'though': 2686, 'fief': 2687, 'senior': 2688, 'feudal': 2689, 'lords': 2690, 'webster': 2691, 'nights': 2692, 'arrival': 2693, 'louis': 2694, 'kossuth': 2695, 'exiled': 2696, 'hungarian': 2697, 'presented': 2698, \"fillmore's\": 2699, '11': 2700, 'p': 2701, '1874': 2702, 'effects': 2703, 'stroke': 2704, 'got': 2705, 'seward': 2706, 'senate': 2707, 'commodore': 2708, 'matthew': 2709, 'perry': 2710, 'japan': 2711, 'remarkable': 2712, 'partnership': 2713, 'caroline': 2714, 'mcintosh': 2715, '1974': 2716, 'disagree': 2717, 'ascend': 2718, 'clay': 2719, '1848': 2720, 'apprenticed': 2721, 'fuller': 2722, 'cloth': 2723, 'fell': 2724, 'abigail': 2725, 'founders': 2726, 'objective': 2727, 'preserve': 2728, 'intensifying': 2729, 'debate': 2730, 'chancellor': 2731, 'maintained': 2732, 'indentured': 2733, 'comic': 2734, 'mallard': 2735, 'explaining': 2736, 'neither': 2737, 'attainment': 2738, 'justify': 2739, 'log': 2740, 'cabin': 2741, 'summerhill': 2742, 'storm': 2743, 'serbian': 2744, 'smiljan': 2745, 'gospić': 2746, 'lika': 2747, 'croatian': 2748, 'krajina': 2749, 'austrian': 2750, 'croatia': 2751, 'films': 2752, 'theatrical': 2753, 'staged': 2754, 'tails': 2755, 'survive': 2756, 'challenges': 2757, 'establishing': 2758, 'eurasian': 2759, 'genera': 2760, 'derive': 2761, 'drives': 2762, 'herbivores': 2763, 'becoming': 2764, 'blubber': 2765, 'traps': 2766, 'keeps': 2767, 'romp': 2768, 'myth': 2769, 'ransom': 2770, 'volsunga': 2771, 'saga': 2772, 'bitches': 2773, 'babies': 2774, 'holt': 2775, 'supplemented': 2776, 'frogs': 2777, 'crayfish': 2778, 'crabs': 2779, 'krill': 2780, 'exclusively': 2781, 'tobogganing': 2782, 'afraid': 2783, 'isabelline': 2784, 'waterbirds': 2785, 'tobaggan': 2786, 'oceans': 2787, 'distance': 2788, 'antarctic': 2789, 'told': 2790, 'flippers': 2791, 'useless': 2792, 'mothers': 2793, 'chick': 2794, 'astonishingly': 2795, 'comes': 2796, 'pinguis': 2797, 'dive': 2798, 'deep': 2799, 'lb': 2800, 'even': 2801, 'gigantic': 2802, 'palaeeudyptines': 2803, 'constitute': 2804, 'monophyletic': 2805, 'lineage': 2806, 'gigantism': 2807, 'evolved': 2808, 'independently': 2809, 'palaeeudyptinae': 2810, 'anthropornithinae': 2811, 'emperor': 2812, 'aptenodytes': 2813, 'forsteri': 2814, 'km': 2815, 'equator': 2816, '35': 2817, 'mya': 2818, 'guard': 2819, 'hair': 2820, 'diseases': 2821, 'fossil': 2822, 'dna': 2823, 'tell': 2824, 'provide': 2825, 'gain': 2826, 'pregnancy': 2827, 'infrared': 2828, 'photography': 2829, 'lengthy': 2830, 'listed': 2831, 'greenpeace': 2832, 'resources': 2833, 'marine': 2834, 'garbage': 2835, 'mascot': 2836, 'bowdoin': 2837, 'thumbpolar': 2838, 'habitat': 2839, 'mitchell': 2840, 'nunavut': 2841, 'manager': 2842, 'arguing': 2843, 'december': 2844, 'awakening': 2845, 'eighth': 2846, 'richest': 2847, 'legally': 2848, 'drive': 2849, 'suicide': 2850, 'teacher': 2851, \"'cutter'\": 2852, 'universities': 2853, 'carried': 2854, 'tacit': 2855, 'recognition': 2856, 'distinct': 2857, 'bahrain': 2858, 'sovereign': 2859, 'consists': 2860, 'barren': 2861, 'arabia': 2862, 'launching': 2863, 'sites': 2864, 'choose': 2865, 'negotiator': 2866, 'entrepreneur': 2867, 'muhammed': 2868, 'bin': 2869, 'thani': 2870, 'oil': 2871, 'probably': 2872, 'backbone': 2873, 'perspective': 2874, 'strengthen': 2875, 'economies': 2876, 'allophones': 2877, 'transliterated': 2878, 'dawlat': 2879, 'arab': 2880, 'emirate': 2881, 'hungary': 2882, 'counties': 2883, 'roma': 2884, 'joined': 2885, 'neutrality': 2886, 'moldova': 2887, 'gymnast': 2888, 'score': 2889, 'bigger': 2890, \"doesn't\": 2891, 'neutral': 2892, 'sibiu': 2893, 'transylvania': 2894, '42': 2895, 'nicknamed': 2896, \"anina''\": 2897, '698': 2898, '181': 2899, 'tourism': 2900, 'attract': 2901, 'executive': 2902, 'functions': 2903, 'gellu': 2904, 'naum': 2905, 'surrealist': 2906, 'bucharest': 2907, '1979': 2908, 'southeastern': 2909, 'singaporeans': 2910, 'squid': 2911, 'media': 2912, 'contribute': 2913, 'bus': 2914, 'orang': 2915, 'laut': 2916, 'mrt': 2917, \"media's\": 2918, 'days': 2919, 'imperial': 2920, 'penisula': 2921, 'sang': 2922, 'nila': 2923, 'utama': 2924, 'singa': 2925, 'invaded': 2926, 'churchill': 2927, 'singapor': 2928, 'janpan': 2929, \"britain's\": 2930, 'defeat': 2931, 'successful': 2932, 'goh': 2933, 'chok': 2934, 'tong': 2935, 'succeed': 2936, 'supply': 2937, 'orchid': 2938, 'garden': 2939, 'stamford': 2940, 'raffles': 2941, 'punishment': 2942, 'murder': 2943, '1819': 2944, 'strategic': 2945, 'route': 2946, 'commercial': 2947, 'centres': 2948, 'boasted': 2949, 'sizeable': 2950, '1869': 2951, 'disputes': 2952, 'changi': 2953, '81': 2954, 'airlines': 2955, 'connecting': 2956, '185': 2957, '58': 2958, 'catchment': 2959, 'urbanization': 2960, 'eliminated': 2961, 'remaining': 2962, 'bukit': 2963, 'timah': 2964, 'nature': 2965, 'exports': 2966, 'refining': 2967, 'manufacturing': 2968, '17th': 2969, 'wealthiest': 2970, 'thedore': 2971, 'physical': 2972, 'boxing': 2973, 'lessons': 2974, 'nickname': 2975, 'supporting': 2976, 'respond': 2977, 'inviting': 2978, 'brooker': 2979, 'dinner': 2980, 'judo': 2981, 'biology': 2982, 'fund': 2983, 'safari': 2984, 'racial': 2985, 'integration': 2986, 'care': 2987, 'pets': 2988, 'larest': 2989, 'reproduce': 2990, 'sandy': 2991, 'beaches': 2992, 'flying': 2993, 'spaghetti': 2994, 'monster': 2995, 'suborders': 2996, 'popularly': 2997, 'pet': 2998, 'articles': 2999, 'hatch': 3000, 'turles': 3001, 'leathery': 3002, 'soft': 3003, 'examined': 3004, 'preared': 3005, 'mainly': 3006, 'incubate': 3007, 'deposited': 3008, 'dug': 3009, 'mud': 3010, 'respiration': 3011, 'freshwater': 3012, 'projections': 3013, 'papillae': 3014, 'researchers': 3015, 'examining': 3016, 'breeding': 3017, 'immature': 3018, 'cared': 3019, 'withdraw': 3020, 'shells': 3021, '215': 3022, 'champion': 3023, 'affiliation': 3024, 'damn': 3025, 'nothing': 3026, 'batte': 3027, 'horace': 3028, 'greenley': 3029, '1872': 3030, 'think': 3031, 'unjust': 3032, 'achieved': 3033, 'leading': 3034, 'took': 3035, 'line': 3036, 'violence': 3037, 'ku': 3038, 'klux': 3039, 'klan': 3040, 'buchanan': 3041, 'regular': 3042, 'pennsylvania': 3043, 'caught': 3044, 'essence': 3045, 'brand': 3046, 'whiskey': 3047, 'crow': 3048, 'sporadically': 3049, 'perkins': 3050, 'harnesses': 3051, 'saddles': 3052, 'leather': 3053, 'purchase': 3054, 'farmers': 3055, 'prosperous': 3056, 'galena': 3057, 'entrance': 3058, 'corner': 3059, 'bush': 3060, '1865': 3061, 'northwesten': 3062, 'summers': 3063, 'neighborhoods': 3064, 'landscape': 3065, 'mountainous': 3066, 'uruguayans': 3067, 'citizens': 3068, 'kilometres': 3069, 'descent': 3070, 'income': 3071, 'woman': 3072, 'compared': 3073, 'recognize': 3074, 'sex': 3075, 'unions': 3076, 'warmest': 3077, 'month': 3078, 'competitive': 3079, 'parties': 3080, 'soverign': 3081, 'stronghold': 3082, 'meanings': 3083, '1828': 3084, 'temperate': 3085, 'carlos': 3086, 'maldonado': 3087, 'cairns': 3088, 'exporters': 3089, 'products': 3090, 'suriname': 3091, 'overseas': 3092, 'constitutional': 3093, 'democracy': 3094, 'fulfills': 3095, 'roles': 3096, 'thirtieth': 3097, 'finished': 3098, 'congressional': 3099, 'ask': 3100, 'damaging': 3101, 'phi': 3102, 'psi': 3103, 'automobile': 3104, 'enthusiast': 3105, \"wilson's\": 3106, 'scots': 3107, 'scottish': 3108, 'defended': 3109, 'owned': 3110, 'sunday': 3111, 'awarded': 3112, '1919': 3113, 'peace': 3114, 'remarkably': 3115, 'writer': 3116, 'thinker': 3117, 'columbia': 3118, '1910': 3119, 'ballot': 3120, 'palmer': 3121, 'democrats': 3122, 'tariffs': 3123, 'beginning': 3124, 'trying': 3125, 'staunch': 3126, 'antisemitism': 3127, 'sympathetic': 3128, 'plight': 3129, 'poland': 3130, 'pittsburgh': 3131, 'disadvantage': 3132, 'unsafe': 3133, 'handle': 3134, \"napoleon's\": 3135, 'lira': 3136, 'banknote': 3137, 'euro': 3138, 'teresa': 3139, 'ruled': 3140, 'copley': 3141, 'individual': 3142, 'submit': 3143, 'poem': 3144, 'essay': 3145, 'determining': 3146, 'molecules': 3147, 'celcius': 3148, 'aurora': 3149, 'borealis': 3150, 'whad': 3151, 'persistent': 3152, 'degrees': 3153, 'halfway': 3154, \"celsius'\": 3155, '316': 3156, 'calligraphers': 3157, 'esteem': 3158, 'numerous': 3159, 'damascus': 3160, 'cairo': 3161, 'arabs': 3162, 'qur': 3163, 'human': 3164, 'grammatically': 3165, 'managed': 3166, 'substantial': 3167, 'declines': 3168, 'bumblebee': 3169, 'peak': 3170, 'cleptoparasitic': 3171, 'vespoid': 3172, 'wasps': 3173, 'foraging': 3174, 'caves': 3175, 'bone': 3176, 'zhoukoudian': 3177, 'fangshan': 3178, 'hutongs': 3179, 'disappearing': 3180, 'olympic': 3181, 'shi': 3182, 'rebellion': 3183, 'launched': 3184, '1949': 3185, 'communist': 3186, 'yuan': 3187, 'shikai': 3188, 'pollution': 3189, '1st': 3190, 'trains': 3191, 'imparting': 3192, 'crutches': 3193, 'physician': 3194, 'eldest': 3195, 'sibling': 3196, 'aside': 3197, 'provincial': 3198, \"letters'\": 3199, 'continual': 3200, 'bowed': 3201, 'purfling': 3202, 'decoration': 3203, 'z': 3204, 'points': 3205, 'materials': 3206, 'bows': 3207, 'tune': 3208, 'harmonics': 3209, 'notes': 3210, 'above': 3211, '“basso': 3212, 'braccio': 3213, 'performances': 3214, 'rihanna': 3215, 'glue': 3216, 'abbreviation': 3217, 'purling': 3218, 'educational': 3219, 'manufacturer': 3220, 'buy': 3221, 'institute': 3222, 'find': 3223, 'charges': 3224, 'poles': 3225, 'permanently': 3226, 'stationed': 3227, 'estate': 3228, 'possessed': 3229, 'blois': 3230, 'appointment': 3231, 'intendant': 3232, 'eaux': 3233, 'fontaine': 3234, 'magnetism': 3235, '14': 3236, '1736': 3237, '1806': 3238, 'investigation': 3239, 'friction': 3240, 'inverse': 3241, 'leaves': 3242, 'dramatic': 3243, 'multisyllabic': 3244, 'wholly': 3245, 'uninflected': 3246, 'hanja': 3247, 'discontinued': 3248, 'hã¡n': 3249, 'success': 3250, 'transcription': 3251, 'idea': 3252, 'identity': 3253, 'fragmentary': 3254, 'disunified': 3255, 'looked': 3256, 'culturally': 3257, 'provocative': 3258, 'morphemes': 3259, 'guangzhou': 3260, 'taiwanese': 3261, 'guoyu': 3262, 'subdivisions': 3263, '850': 3264, 'followed': 3265, 'transnational': 3266, 'hub': 3267, '1251': 3268, '1255': 3269, 'surrounded': 3270, 'bacchanal': 3271, 'moden': 3272, 'hit': 3273, 'accentuate': 3274, 'expert': 3275, 'enormous': 3276, 'dynamic': 3277, 'hi': 3278, 'hat': 3279, 'germanic': 3280, 'mythical': 3281, 'technically': 3282, 'banks': 3283, 'buriganga': 3284, '1970': 3285, 'bhola': 3286, 'cyclone': 3287, 'mughals': 3288, 'intonation': 3289, 'jure': 3290, 'israel': 3291, 'minimal': 3292, 'inflection': 3293, 'magazines': 3294, 'syntax': 3295, 'semantics': 3296, 'causes': 3297, 'false': 3298, 'here': 3299, 'unstressed': 3300, 'except': 3301, 'navy': 3302, 'ships': 3303, 'activities': 3304, 'variations': 3305, 'version': 3306, 'ends': 3307, 'pitches': 3308, 'holed': 3309, 'mammoth': 3310, 'tusk': 3311, 'tin': 3312, 'stream': 3313, 'hole': 3314, 'wary': 3315, 'fennec': 3316, 'reptiles': 3317, 'caching': 3318, 'damage': 3319, 'farms': 3320, '31': 3321, 'francophone': 3322, 'catalan': 3323, 'vingts': 3324, 'lebanese': 3325, 'purposes': 3326, 'wallonia': 3327, 'prefixes': 3328, 'em': 3329, 'nasalized': 3330, 'recognised': 3331, 'flemish': 3332, 'facilities': 3333, 'palatal': 3334, 'nasal': 3335, 'initial': 3336, 'inflected': 3337, 'ãÿ': 3338, 'orders': 3339, 'feminines': 3340, 'declined': 3341, '9': 3342, 'tz': 3343, 'preceding': 3344, '622': 3345, '650': 3346, 'bundeslã¤nder': 3347, 'accept': 3348, 'rhine': 3349, 'westphalia': 3350, 'bavaria': 3351, 'adverbs': 3352, 'predicate': 3353, 'sexes': 3354, 'clean': 3355, 'bugs': 3356, 'face': 3357, 'taller': 3358, 'discoverers': 3359, \"d'histoire\": 3360, 'intentionally': 3361, 'musum': 3362, 'histoire': 3363, '1908': 3364, 'acadã©mie': 3365, 'photographic': 3366, 'plates': 3367, 'â€¦': 3368, 'conclude': 3369, 'question': 3370, 'emits': 3371, 'rays': 3372, 'pass': 3373, 'opaque': 3374, 'reduces': 3375, 'silver': 3376, 'salts': 3377, \"church's\": 3378, 'havard': 3379, 'refraction': 3380, 'principles': 3381, 'explain': 3382, 'interaction': 3383, 'stirred': 3384, 'interest': 3385, 'alchemy': 3386, 'geminate': 3387, 'plosives': 3388, 'realised': 3389, 'lengthened': 3390, 'closures': 3391, 'silent': 3392, '120': 3393, 'hear': 3394, 'istã\\xa0nbul': 3395, 'ãœstanbul': 3396, 'pronounced': 3397, 'separately': 3398, 'factors': 3399, 'openness': 3400, 'length': 3401, 'dictionaries': 3402, 'latter': 3403, 'alternative': 3404, 'improvements': 3405, 'fundamental': 3406, 'wrought': 3407, 'adulthood': 3408, \"murray's\": 3409, 'survey': 3410, 'historiometry': 3411, 'lodon': 3412, 'comment': 3413, 'circumstances': 3414, 'complicated': 3415, 'conception': 3416, 'counterpart': 3417, 'employ': 3418, 'politeness': 3419, 'kagoshima': 3420, 'personal': 3421, 'situations': 3422, 'requiring': 3423, 'emphasis': 3424, 'please': 3425, 'inflections': 3426, 'honorific': 3427, 'actions': 3428, 'thus': 3429, 'polite': 3430, 'presumptuous': 3431, 'verbatim': 3432, 'acceptable': 3433, 'normal': 3434, 'our': 3435, 'volleyball': 3436, 'venues': 3437, 'colectivo': 3438, 'marcos': 3439, 'megaport': 3440, 'project': 3441, 'profitable': 3442, '600': 3443, 'pizarro': 3444, \"london's\": 3445, 'draw': 3446, 'caunte': 3447, 'throne': 3448, 'anglo': 3449, 'saxons': 3450, '600s': 3451, 'subjected': 3452, 'terrorism': 3453, 'vi': 3454, 'scotland': 3455, 'unite': 3456, 'wars': 3457, 'affect': 3458, 'gut': 3459, 'mordern': 3460, 'hand': 3461, 'touch': 3462, 'still': 3463, 'fingerboard': 3464, 'plectrum': 3465, 'chemist': 3466, 'devout': 3467, 'christianity': 3468, 'joseph': 3469, 'oxford': 3470, 'coach': 3471, 'ancestor': 3472, 'power': 3473, 'generators': 3474, 'lecture': 3475, '1854': 3476, 'extensive': 3477, 'historians': 3478, 'sponsor': 3479, 'laboratories': 3480, 'raise': 3481, 'ethical': 3482, 'attending': 3483, 'synthesis': 3484, 'carbon': 3485, 'chlorine': 3486, 'foul': 3487, 'thames': 3488, 'resulted': 3489, 'oft': 3490, 'reprinted': 3491, 'cartoon': 3492, 'punch': 3493, 'properties': 3494, 'colloids': 3495, 'differed': 3496, 'corresponding': 3497, 'bulk': 3498, 'assistant': 3499, 'davy': 3500, 'hampton': 3501, 'newington': 3502, 'butts': 3503, 'motor': 3504, 'denomination': 3505, 'maine': 3506, 'operation': 3507, 'robert': 3508, 'fulton': 3509, 'coliseum': 3510, 'dead': 3511, 'fighting': 3512, 'arena': 3513, 'modeled': 3514, 'base': 3515, 'hired': 3516, 'edison': 3517, 'demonstrate': 3518, 'wireless': 3519, 'radio': 3520, 'measuring': 3521, 'flux': 3522, 'density': 3523, 'induction': 3524, 'mad': 3525, 'scientist': 3526, 'currents': 3527, 'sit': 3528, 'ottowa': 3529, 'tremors': 3530, 'industries': 3531, 'junior': 3532, 'carleton': 3533, \"university's\": 3534, 'athletic': 3535, 'teams': 3536, 'colder': 3537, 'cholera': 3538, 'outbreak': 3539, 'townships': 3540, 'highway': 3541, '1850': 3542, 'tremor': 3543, 'discussions': 3544, 'having': 3545, 'oc': 3546, 'transpo': 3547, 'rail': 3548, 'sto': 3549, 'transitway': 3550, 'networks': 3551, 'linking': 3552, 'gatineau': 3553, 'claws': 3554, 'depletion': 3555, 'whales': 3556, 'badger': 3557, 'indie': 3558, 'punk': 3559, 'band': 3560, 'fictional': 3561, 'stories': 3562, 'santo': 3563, 'iago': 3564, 'regionalism': 3565, 'green': 3566, 'deeper': 3567, 'predominant': 3568, 'asterisk': 3569, '400': 3570, 'lexical': 3571, 'similarity': 3572, '82': 3573, 'brazil': 3574, 'universidad': 3575, 'mã©xico': 3576, 'instituto': 3577, 'cervantes': 3578, 'pasan': 3579, 'consecuencia': 3580, 'palabras': 3581, 'comienzan': 3582, 'por': 3583, 'estas': 3584, 'dos': 3585, 'letras': 3586, 'o': 3587, 'contienen': 3588, 'alfabetizarse': 3589, 'los': 3590, 'lugares': 3591, 'corresponden': 3592, 'dentro': 3593, 'y': 3594, 'l': 3595, 'respectivamente': 3596, 'amount': 3597, 'interlingual': 3598, 'reading': 3599, 'comprehension': 3600, 'oral': 3601, 'interterritorial': 3602, 'conference': 3603, 'mombasa': 3604, 'rulers': 3605, 'zanzibar': 3606, 'expeditions': 3607, 'lakes': 3608, 'rift': 3609, 'diphthongs': 3610, 'object': 3611, 'arrange': 3612, 'writers': 3613, 'aspirated': 3614, 'key': 3615, 'step': 3616, 'spreading': 3617, 'somali': 3618, 'phoneme': 3619, 'feathers': 3620, 'swim': 3621, 'lir': 3622, 'sanskrit': 3623, 'bonny': 3624, 'polish': 3625, 'ballet': 3626, 'pyotr': 3627, 'tchaikovsky': 3628, 'partially': 3629, 'princess': 3630, 'turned': 3631, 'strongly': 3632, 'mythology': 3633, 'bird': 3634, 'story': 3635, 'felidar': 3636, \"tigers'\": 3637, 'powerfully': 3638, 'shoulders': 3639, 'seized': 3640, 'crocodile': 3641, 'mate': 3642, 'kilometers': 3643, 'needed': 3644, 'feedon': 3645, 'mice': 3646, 'predecessors': 3647, 'valves': 3648, 'bass': 3649, 'compensate': 3650, 'davis': 3651, 'plastron': 3652, 'scutes': 3653, 'away': 3654, \"turtle's\": 3655, 'broken': 3656, 'chew': 3657, 'layed': 3658, 'soup': 3659, 'superorder': 3660, 'chelonia': 3661, 'chelonian': 3662, 'approximate': 3663, 'violinists': 3664, 'fiddlers': 3665, 'thing': 3666, 'violas': 3667, 'whate': 3668, 'usual': 3669, 'rosewood': 3670, 'precursor': 3671, 'mallets': 3672, 'characterised': 3673, 'vibraphones': 3674, 'exist': 3675, 'chemistry': 3676, 'remotely': 3677, 'operated': 3678, 'pistol': 3679, 'popularize': 3680, 'improving': 3681, 'popularizing': 3682, 'someplace': 3683, 'volta\\x01s': 3684, 'temple': 3685, 'shore': 3686, 'instruction': 3687, 'showed': 3688, 'dilute': 3689, 'solutions': 3690, 'hailed': 3691, 'founder': 3692, 'atomic': 3693, 'johann': 3694, 'josef': 3695, 'calculate': 3696, 'entities': 3697, 'mole': 3698, 'revolutionary': 3699, 'movements': 3700, 'sardinia': 3701, \"ant's\": 3702, 'sensory': 3703, 'fertile': 3704, 'tramp': 3705, 'abroad': 3706, 'meats': 3707, 'gives': 3708, 'bull': 3709, 'sight': 3710, 'fire': 3711, 'antartica': 3712, 'worker': 3713, 'segments': 3714, 'bullet': 3715, 'nests': 3716, 'ultraviolet': 3717, 'vision': 3718, '1881': 3719, 'thrive': 3720, 'ecosystems': 3721, 'earth\\x01s': 3722, 'termites': 3723, 'closely': 3724, 'cockroaches': 3725, 'mantids': 3726, 'caterpillars': 3727, 'vibrations': 3728, 'wasp': 3729, 'ancestors': 3730, 'cretaceous': 3731, '130': 3732, 'diversified': 3733, 'rise': 3734, 'flowering': 3735, 'easily': 3736, 'identified': 3737, 'elbowed': 3738, 'slender': 3739, 'waist': 3740, 'municipality': 3741, 'fashion': 3742, 'alongside': 3743, 'calligraphy': 3744, 'invented': 3745, 'hassaniya': 3746, 'mauritania': 3747, 'numerals': 3748, 'academies': 3749, 'hassan': 3750, 'massoudy': 3751, 'genre': 3752, 'schloss': 3753, 'charlottenburg': 3754, 'existing': 3755, 'olympiastadion': 3756, 'berliner': 3757, 'dom': 3758, 'foster': 3759, 'remodel': 3760, '1990s': 3761, 'vattenfall': 3762, 'shifting': 3763, 'towards': 3764, 'reliance': 3765, 'cleaner': 3766, 'renewable': 3767, 'zoos': 3768, 'springer': 3769, 'gendarmenmarkt': 3770, 'nauen': 3771, 'bust': 3772, 'nefertiti': 3773, 'hanseatic': 3774, 'zones': 3775, 'popkomm': 3776, 'conversion': 3777, 'cycloid': 3778, '1658': 3779, 'programming': 3780, 'crowds': 3781, 'believers': 3782, 'kiss': 3783, 'thorn': 3784, 'acclaimed': 3785, 'miracle': 3786, 'desargues': 3787, 'conic': 3788, 'morning': 3789, 'prodigy': 3790, 'applied': 3791, 'mechanical': 3792, 'calculators': 3793, 'fluids': 3794, 'clarified': 3795, 'concepts': 3796, 'vacuum': 3797, 'generalizing': 3798, 'evangelista': 3799, 'torricelli': 3800, 'moth': 3801, 'outer': 3802, 'cuticle': 3803, 'swarm': 3804, 'carry': 3805, 'pollen': 3806, 'evade': 3807, 'wing': 3808, 'removed': 3809, 'biologist': 3810, 'rochelle': 3811, 'resistance': 3812, 'masonries': 3813, 'montpeillier': 3814, 'collège': 3815, '1785': 3816, '1757': 3817, '1759': 3818, 'pursue': 3819, 'mathematics': 3820, 'return': 3821, 'pioneer': 3822, 'retaining': 3823, 'prestigious': 3824, 'collge': 3825, 'angoulme\\x01': 3826, 'tonal': 3827, 'analytical': 3828, 'ketchup': 3829, 'minnan': 3830, '39853': 3831, '27713': 3832, 'koe': 3833, 'tsiap': 3834, 'huayu': 3835, 'entries': 3836, 'definitions': 3837, 'zhonghua': 3838, 'zihai': 3839, '20013': 3840, '21326': 3841, '23383': 3842, '28023': 3843, '1994': 3844, 'prc': 3845, 'literacy': 3846, 'amongst': 3847, 'workers': 3848, 'linguistically': 3849, '24403': 3850, '30070': 3851, '“lunchbox': 3852, 'boxed': 3853, 'lunch”': 3854, 'bento': 3855, '26009': 3856, '29702': 3857, '“prepared': 3858, 'cuisine”': 3859, 'loan': 3860, 'standardized': 3861, 'diglossia': 3862, 'view': 3863, 'literature': 3864, 'divisions': 3865, 'sinitic': 3866, 'zhou': 3867, 'dynasties': 3868, 'cougars': 3869, 'jaguars': 3870, 'concern': 3871, 'nose': 3872, 'paw': 3873, 'print': 3874, 'heaviest': 3875, 'cat': 3876, 'disc': 3877, 'ride': 3878, 'fender': 3879, 'bell': 3880, 'timber': 3881, 'cimbals': 3882, 'bow': 3883, 'nymphs': 3884, 'hunt': 3885, 'lives': 3886, 'sinister': 3887, 'directions': 3888, 'propel': 3889, 'hobby': 3890, 'damselflies': 3891, 'claims': 3892, 'trolls': 3893, 'poke': 3894, \"enemies'\": 3895, 'autumn': 3896, 'exposure': 3897, 'larva': 3898, 'breathing': 3899, 'multifaceted': 3900, 'transparent': 3901, 'elongated': 3902, 'purpose': 3903, 'aburukuwa': 3904, 'unchanged': 3905, 'factor': 3906, 'affecting': 3907, 'roll': 3908, 'drummers': 3909, 'drumheads': 3910, 'whare': 3911, 'wires': 3912, 'christ': 3913, 'membranes': 3914, 'diatonic': 3915, 'chromatically': 3916, 'recently': 3917, 'cylindrical': 3918, 'tension': 3919, 'rods': 3920, 'membrane': 3921, 'stretched': 3922, 'struck': 3923, 'implement': 3924, 'drumstick': 3925, 'techniques': 3926, 'thumb': 3927, \"roll''\": 3928, 'toxic': 3929, 'leptocephali': 3930, 'fresh': 3931, 'characteristic': 3932, 'kven': 3933, 'classification': 3934, 'novel': 3935, 'book': 3936, 'transverse': 3937, \"flute's\": 3938, 'volume': 3939, 'increased': 3940, 'ended': 3941, 'brighter': 3942, 'timbres': 3943, 'simpler': 3944, 'police': 3945, 'dated': 3946, 'appearing': 3947, 'ensembles': 3948, 'currently': 3949, 'chi': 3950, 'fashioned': 3951, 'change': 3952, \"china's\": 3953, 'emblem': 3954, 'hibernate': 3955, 'writings': 3956, 'foods': 3957, 'diplomacy': 3958, \"panda's\": 3959, 'sequenced': 3960, 'acoustic': 3961, 'external': 3962, 'device': 3963, 'battente': 3964, 'flamenco': 3965, 'headstock': 3966, 'repaired': 3967, 'coil': 3968, 'pickups': 3969, 'categories': 3970, 'picks': 3971, 'shapes': 3972, 'sizes': 3973, 'neck': 3974, 'furthest': 3975, 'believe': 3976, 'right': 3977, 'representation': 3978, 'intrument': 3979, 'bolted': 3980, 'glued': 3981, 'école': 3982, 'ponts': 3983, 'chaussées': 3984, '1892': 3985, 'craters': 3986, 'bequerel': 3987, '1898': 3988, 'credit': 3989, 'calculus': 3990, 'generalized': 3991, 'binomial': 3992, 'theorem': 3993, 'occult': 3994, 'views': 3995, 'consistent': 3996, 'anglicanism': 3997, 'practical': 3998, 'reflecting': 3999, 'telescope': 4000, \"king's\": 4001, 'schol': 4002, 'grantham': 4003, 'principia': 4004, 'gave': 4005, 'clues': 4006, 'gravity': 4007, 'farmer': 4008, 'surveyor': 4009, 'david': 4010, 'alfaro': 4011, 'siqueiros': 4012, 'brushes': 4013, 'sticks': 4014, 'donated': 4015, 'krasner': 4016, 'jazz': 4017, 'artwork': 4018, 'jackson': 4019, 'figure': 4020, 'abstract': 4021, 'expressionist': 4022, 'notoriety': 4023, 'mostly': 4024, 'reclusive': 4025, 'wisma': 4026, '12th': 4027, 'ciliwung': 4028, 'monas': 4029, 'mikrolets': 4030, 'contributes': 4031, '39': 4032, 'purnawarman': 4033, 'sunda': 4034, 'pura': 4035, '1602': 4036, \"company's\": 4037, 'voyage': 4038, 'commanded': 4039, 'aceh': 4040, 'sailed': 4041, 'banten': 4042, 'migration': 4043, 'stem': 4044, 'overcrowding': 4045, \"jayawikarta's\": 4046, 'suharto': 4047, 'indianized': 4048, 'tarumanagara': 4049, 'landmarks': 4050, 'istiqlal': 4051, 'mosque': 4052, 'sukarno': 4053, 'monuments': 4054, \"country's\": 4055, 'job': 4056, 'memorial': 4057, 'lunar': 4058, 'cousin': 4059, 'agnes': 4060, 'muirhead': 4061, 'workshop': 4062, 'guild': 4063, 'hammermen': 4064, 'application': 4065, 'mathematical': 4066, 'maker': 4067, 'slow': 4068, 'metabolism': 4069, 'eucalypt': 4070, 'forests': 4071, 'rainforests': 4072, 'fill': 4073, 'ecological': 4074, 'role': 4075, 'sloth': 4076, 'viability': 4077, 'therefore': 4078, 'weakness': 4079, 'coastal': 4080, 'adelaide': 4081, 'cape': 4082, 'inland': 4083, 'enough': 4084, 'moisture': 4085, 'suitable': 4086, 'woodlands': 4087, 'exterminated': 4088, 'repopulated': 4089, 'victorian': 4090, 'goryeo': 4091, 'translation': 4092, 'misleadingly': 4093, 'verbs': 4094, 'loanwords': 4095, 'numbers': 4096, 'columns': 4097, 'rows': 4098, 'jeong': 4099, 'jae': 4100, 'estimate': 4101, 'levels': 4102, 'jeju': 4103, 'capitol': 4104, 'selangor': 4105, 'occupied': 4106, 'seasons': 4107, 'colonial': 4108, 'buildings': 4109, 'formula': 4110, 'championship': 4111, 'market': 4112, 'proximity': 4113, 'pertama': 4114, 'complex': 4115, 'territory': 4116, 'industrialized': 4117, '2008': 4118, 'seats': 4119, 'worlds': 4120, 'riders': 4121, 'valued': 4122, \"verroccio's\": 4123, 'baldassare': 4124, 'castiglione': 4125, 'author': 4126, 'il': 4127, 'cortegiano': 4128, 'courtier': 4129, 'flee': 4130, 'venice': 4131, 'botticelli\\x01': 4132, 'domenico': 4133, 'ghirlandaio': 4134, 'perugino': 4135, 'attributed': 4136, 'archetype': 4137, 'unquenchable': 4138, 'curiosity': 4139, 'equaled': 4140, 'diversely': 4141, 'talented': 4142, 'historian': 4143, 'helen': 4144, 'gardner': 4145, 'scope': 4146, 'depth': 4147, 'precedent': 4148, 'mind': 4149, 'personality': 4150, 'seem': 4151, 'superhuman': 4152, 'mysterious': 4153, \"remote''\": 4154, 'invertebrates': 4155, 'kosher': 4156, 'mercury': 4157, 'pain': 4158, 'moche': 4159, 'worship': 4160, 'caridoid': 4161, 'escape': 4162, 'recitations': 4163, 'greeks': 4164, 'hollow': 4165, 'constellation': 4166, 'resemble': 4167, 'extending': 4168, 'deepest': 4169, 'fewer': 4170, 'originated': 4171, 'agglutinative': 4172, 'austronesian': 4173, 'negation': 4174, 'understand': 4175, 'austronesia': 4176, 'already': 4177, 'archipelago': 4178, 'distinguishing': 4179, 'malays': 4180, 'tributary': 4181, 'majapahit': 4182, \"australia's\": 4183, 'seaport': 4184, 'student': 4185, 'declared': 4186, 'visit': 4187, 'holds': 4188, 'einstein': 4189, 'photograph': 4190, 'sarah': 4191, 'barnard': 4192, 'electrolysis': 4193, 'kinematics': 4194, 'environmental': 4195, '1824': 4196, \"faraday's\": 4197, 'advise': 4198, 'crimean': 4199, 'maritime': 4200, 'reside': 4201, 'charged': 4202, 'abstemious': 4203, 'homosexual': 4204, 'filippo': 4205, 'strozzi': 4206, 'demolished': 4207, 'michelangelo\\x01s': 4208, 'francesca': 4209, 'neri': 4210, 'miniato': 4211, 'siena': 4212, 'renowned': 4213, \"michelangelo's\": 4214, 'prodigious': 4215, 'incorporated': 4216, 'confluence': 4217, 'climatic': 4218, 'merged': 4219, 'census': 4220, 'resided': 4221, '1849': 4222, 'decorations': 4223, 'mount': 4224, \"park's\": 4225, 'wooden': 4226, 'designer': 4227, 'follows': 4228, 'milion': 4229, 'bombed': 4230, 'civilians': 4231, 'trades': 4232, 'nse': 4233, 'interim': 4234, 'authority': 4235, 'adjacent': 4236, 'rates': 4237, 'financially': 4238, \"nairobi''\": 4239, 'maasai': 4240, 'enkare': 4241, 'nyirobi': 4242, 'translates': 4243, 'cool': 4244, \"waters''\": 4245, 'alone': 4246, 'twain': 4247, 'technique': 4248, 'picture': 4249, 'thinking': 4250, 'adversaries': 4251, '1880': 4252, \"tesla's\": 4253, 'illiterate': 4254, 'vegetarian': 4255, 'monument': 4256, 'niagara': 4257, 'falls': 4258, 'patent': 4259, 'consequently': 4260, 'serious': 4261, 'regard': 4262, 'bourgeois': 4263, 'kitsch': 4264, 'look': 4265, 'irene': 4266, \"o'connor\": 4267, 'residence': 4268, 'otis': 4269, '321': 4270, 'covers': 4271, '47': 4272, 'commissioned': 4273, 'illustrate': 4274, 'tom': 4275, 'sawyer': 4276, 'huckleberry': 4277, 'finn': 4278, 'appeal': 4279, 'illustrations': 4280, 'everyday': 4281, 'scenarios': 4282, 'decades': 4283, \"rockwell's\": 4284, 'willie': 4285, 'gillis': 4286, 'riveter': 4287, 'reproduced': 4288, 'saying': 4289, '1951': 4290, 'freedoms': 4291, 'bsa': 4292, 'cephalopod': 4293, 'lifespans': 4294, 'learned': 4295, 'highly': 4296, 'intelligent': 4297, 'arm': 4298, 'hectocotylus': 4299, 'insert': 4300, 'spermatophores': 4301, 'familiar': 4302, 'cirrina': 4303, 'internal': 4304, 'mediterranean': 4305, 'reserved': 4306, 'consumed': 4307, '1968': 4308, '1971': 4309, '1838': 4310, 'finding': 4311, 'lover': 4312, 'jacqueline': 4313, 'roque': 4314, 'trip': 4315, 'comprehensive': 4316, 'records': 4317, '1996': 4318, 'movie': 4319, 'actor': 4320, 'anthony': 4321, 'hopkins': 4322, 'copyright': 4323, 'administration': 4324, 'founding': 4325, 'embodied': 4326, 'demoiselles': 4327, \"d'avignon\": 4328, '1907': 4329, '1937': 4330, 'portrayal': 4331, 'vertical': 4332, 'bartolomeo': 4333, 'cristofori': 4334, 'sustain': 4335, \"berlin's\": 4336, 'una': 4337, 'corda': 4338, 'advantageous': 4339, 'plate': 4340, 'massive': 4341, 'perpendicular': 4342, 'pedals': 4343, '1882': 4344, '1887': 4345, 'impressionist': 4346, '1876': 4347, 'dance': 4348, 'moulin': 4349, 'galette': 4350, 'limoges\\x01': 4351, 'vienne\\x01': 4352, 'paintings': 4353, 'sold': 4354, 'us0': 4355, 'celebrator': 4356, 'beauty': 4357, 'sensuality': 4358, 'final': 4359, 'runs': 4360, 'rubens': 4361, \"watteau''\": 4362, 'limoges': 4363, 'vienne': 4364, 'porcelain': 4365, 'drawing': 4366, 'talents': 4367, 'paint': 4368, 'fine': 4369, 'roots': 4370, 'communities': 4371, \"it's\": 4372, 'requirements': 4373, 'apply': 4374, 'membership': 4375, 'cplp': 4376, '2050': 4377, 'arriving': 4378, 'alveolar': 4379, 'postalveolars': 4380, 'macau': 4381, 'organizations': 4382, 'romanized': 4383, 'pre': 4384, 'iberian': 4385, 'namely': 4386, 'gallaeci': 4387, 'lusitanians': 4388, 'celtici': 4389, 'conii': 4390, 'exclusive': 4391, 'apostle': 4392, 'terrain': 4393, 'artificially': 4394, 'festival': 4395, 'fireworks': 4396, 'celebrating': 4397, 'urban': 4398, \"russia's\": 4399, 'foundry': 4400, 'crime': 4401, '7th': 4402, 'premiered': 4403, 'equestrianism': 4404, 'tsars': 4405, 'aristocracy': 4406, 'stadiums': 4407, 'fc': 4408, 'zenit': 4409, '1950': 4410, '1993': 4411, 'leadership': 4412, 'conductors': 4413, 'yevgeny': 4414, 'mravinsky': 4415, 'yuri': 4416, 'temirkanov': 4417, 'longest': 4418, 'destructive': 4419, 'lethal': 4420, 'sieges': 4421, 'petrograd': 4422, 'leningrad': 4423, '1991': 4424, 'piter': 4425, 'tsar': 4426, 'russia': 4427, '1703': 4428, 'hundred': 4429, '1713': 4430, '1728': 4431, '1732': 4432, 'franciscio': 4433, 'gay': 4434, 'lesbian': 4435, 'individuals': 4436, 'franscico': 4437, 'tourist': 4438, 'destination': 4439, 'parks': 4440, 'earthquakes': 4441, 'businesses': 4442, '1977': 4443, 'fransisco': 4444, '1855': 4445, \"california's\": 4446, 'circulated': 4447, 'destinations': 4448, 'conventions': 4449, 'conferences': 4450, 'manages': 4451, 'candlestick': 4452, 'crissy': 4453, 'airfield': 4454, 'prompted': 4455, 'upgrade': 4456, 'codes': 4457, 'hispanic': 4458, 'whites': 4459, 'comprise': 4460, 'plan': 4461, 'expanded': 4462, '43': 4463, 'acre': 4464, 'beta': 4465, 'consolidated': 4466, 'california': 4467, 'encompass': 4468, 'transportation': 4469, 'assisi': 4470, 'bantu': 4471, 'uganda': 4472, 'required': 4473, 'mozambique': 4474, 'classes': 4475, 'seize': 4476, 'tanganyika': 4477, 'norse': 4478, 'participle': 4479, 'reported': 4480, 'swedes': 4481, 'soviet': 4482, 'estonia': 4483, 'counterbalance': 4484, 'absence': 4485, 'annual': 4486, 'festivals': 4487, 'typhoon': 4488, 'sets': 4489, 'shrines': 4490, 'bright': 4491, 'loud': 4492, 'fully': 4493, 'chromatic': 4494, 'guarded': 4495, 'pocket': 4496, 'dizzy': 4497, 'gillespie': 4498, 'augmented': 4499, 'valve': 4500, 'maynard': 4501, 'ferguson': 4502, 'accurately': 4503, '1894': 4504, 'nineteen': 4505, 'breeze': 4506, \"eazy'\": 4507, 'teach': 4508, 'mouthpiece': 4509, 'piccolo': 4510, 'slide': 4511, 'producing': 4512, \"buzzing''\": 4513, 'starts': 4514, 'wave': 4515, 'vibration': 4516, 'ottoman': 4517, 'script': 4518, 'replaced': 4519, 'variant': 4520, 'definite': 4521, 'alter': 4522, 'importance': 4523, 'turkey': 4524, 'contributors': 4525, 'orkhon': 4526, 'inscriptions': 4527, 'introduction': 4528, 'lewis': 4529, 'absolute': 4530, 'nominative': 4531, 'exception': 4532, 'coin': 4533, 'patterns': 4534, 'comparatively': 4535, 'consonant': 4536, 'clusters': 4537, 'formally': 4538, 'reunification': 4539, 'borrow': 4540, 'predominate': 4541, '2nd': 4542, 'bc': 4543, 'frequented': 4544, 'russell': 4545, 'annotated': 4546, '1913': 4547, 'theo\\x01s': 4548, 'widow': 4549, 'johanna': 4550, 'bonger': 4551, 'kee': 4552, 'anxiety': 4553, 'mental': 4554, 'illness': 4555, 'unknown': 4556, '37': 4557, 'self': 4558, 'inflicted': 4559, 'gunshot': 4560, 'wound': 4561, 'appreciated': 4562, \"history's\": 4563, 'contributor': 4564, 'foundations': 4565, 'shoulder': 4566, 'hourglass': 4567, 'repairs': 4568, 'voice': 4569, '1980s': 4570, 'violinist': 4571, 'boyd': 4572, 'tinsley': 4573, 'antonio': 4574, 'stradivari': 4575, 'ix': 4576, 'amati': 4577, '24': 4578, 'integer': 4579, 'division': 4580, 'tuning': 4581, 'pitched': 4582, 'fiddle': 4583, \"violin''\": 4584, \"instrument''\": 4585, 'xylophonese': 4586, 'xylophonists': 4587, 'theatre': 4588, 'artifacts': 4589, '1920s': 4590, 'xylon': 4591, 'reached': 4592, 'crusades': 4593, 'bali': 4594, 'versions': 4595, 'resonators': 4596, 'usage': 4597, 'kelon': 4598, 'quality': 4599, 'interbreed': 4600, 'plains': 4601, 'crossed': 4602, \"grevy's\": 4603}\n",
            "(2457, 99)\n"
          ]
        }
      ]
    },
    {
      "cell_type": "code",
      "metadata": {
        "id": "kSSjqserJeVL",
        "outputId": "1ded2069-ac27-4451-dc37-6aff22310538",
        "colab": {
          "base_uri": "https://localhost:8080/"
        }
      },
      "source": [
        "#Tokenization Example for Answers\n",
        "\n",
        "#creating word index\n",
        "tokenizer.fit_on_texts(answers)\n",
        "word_index = tokenizer.word_index\n",
        "vocab_size = len(tokenizer.word_index) + 1\n",
        "\n",
        "#create sequences using tokenizer\n",
        "sequences = tokenizer.texts_to_sequences(answers)\n",
        "\n",
        "#padding the sequences to make sure length matches for all the sequences\n",
        "padded_sequences_answers = pad_sequences(sequences, padding='pre')\n",
        "\n",
        "print(\"Vocabulary size for questions:\", vocab_size)\n",
        "print(word_index)\n",
        "#print(sequences)\n",
        "print(padded_sequences_answers.shape)\n"
      ],
      "execution_count": 9,
      "outputs": [
        {
          "output_type": "stream",
          "name": "stdout",
          "text": [
            "Vocabulary size for questions: 5817\n",
            "{'<oov>': 1, 'the': 2, 'of': 3, 'is': 4, 'in': 5, 'yes': 6, 'a': 7, 'what': 8, 'and': 9, 'was': 10, 'to': 11, 'did': 12, 'are': 13, 'nan': 14, 'no': 15, 'how': 16, 'as': 17, 'for': 18, 'do': 19, 'have': 20, 'an': 21, 'does': 22, 'it': 23, 'by': 24, 'when': 25, 'language': 26, 'on': 27, 'from': 28, 'his': 29, 'many': 30, 'he': 31, 'where': 32, 'who': 33, 'with': 34, 'that': 35, 'at': 36, 'or': 37, 'most': 38, 'has': 39, 'there': 40, 'which': 41, 'city': 42, 'not': 43, 'than': 44, 'first': 45, 'born': 46, 'volta': 47, 'two': 48, 'years': 49, 'can': 50, 'largest': 51, 'be': 52, 'were': 53, 'one': 54, 'called': 55, 'chinese': 56, 'why': 57, 'family': 58, 'used': 59, 'true': 60, 'been': 61, 's': 62, 'james': 63, 'species': 64, 'world': 65, 'after': 66, 'more': 67, 'name': 68, 'faraday': 69, 'its': 70, 'happened': 71, 'official': 72, 'president': 73, 'made': 74, 'their': 75, 'coulomb': 76, 'old': 77, 'de': 78, 'university': 79, 'avogadro': 80, 'also': 81, 'tesla': 82, 'korean': 83, 'long': 84, 'use': 85, 'french': 86, 'into': 87, 'they': 88, 'english': 89, 'population': 90, 'people': 91, 'becquerel': 92, 'all': 93, 'turtles': 94, 'live': 95, 'year': 96, 'number': 97, 'known': 98, 'country': 99, 'otters': 100, 'arabic': 101, 'charles': 102, 'coolidge': 103, 'word': 104, 'languages': 105, 'named': 106, 'other': 107, 'century': 108, 'words': 109, 'san': 110, 'john': 111, 'three': 112, 'some': 113, 'between': 114, 'canada': 115, 'monroe': 116, 'ants': 117, \"'s\": 118, 'water': 119, 'during': 120, 'newton': 121, 'watt': 122, 'malay': 123, 'united': 124, 'well': 125, 'about': 126, 'million': 127, 'augustin': 128, 'had': 129, 'modern': 130, 'state': 131, 'finland': 132, 'capital': 133, 'spoken': 134, 'died': 135, 'trumpet': 136, 'this': 137, 'part': 138, 'new': 139, 'singapore': 140, 'swahili': 141, 'states': 142, 'national': 143, 'professor': 144, 'alessandro': 145, 'polar': 146, 'like': 147, 'common': 148, 'german': 149, 'work': 150, 'ghana': 151, 'fillmore': 152, 'santiago': 153, 'european': 154, 'located': 155, 'ford': 156, 'spanish': 157, 'adams': 158, 'penguins': 159, 'romania': 160, 'wilson': 161, 'cymbals': 162, 'lincoln': 163, 'law': 164, 'become': 165, 'rrb': 166, 'celsius': 167, 'war': 168, 'cleveland': 169, 'larger': 170, 'member': 171, 'often': 172, 'indonesia': 173, 'leopard': 174, 'give': 175, 'speakers': 176, 'berlin': 177, 'octopus': 178, 'francisco': 179, 'die': 180, 'america': 181, 'lrb': 182, 'large': 183, 'land': 184, 'africa': 185, 'south': 186, 'japanese': 187, 'time': 188, 'standard': 189, 'henri': 190, 'physics': 191, 'italian': 192, 'beetles': 193, 'study': 194, 'form': 195, 'black': 196, 'before': 197, 'jakarta': 198, 'kangaroos': 199, 'liechtenstein': 200, 'ago': 201, 'uruguay': 202, 'example': 203, 'instrument': 204, 'eggs': 205, 'only': 206, 'republic': 207, 'much': 208, 'vietnamese': 209, 'four': 210, '3': 211, 'same': 212, 'sea': 213, 'air': 214, 'latin': 215, '1': 216, 'qatar': 217, 'sound': 218, 'became': 219, 'him': 220, 'ducks': 221, 'northern': 222, 'life': 223, 'up': 224, 'north': 225, 'giant': 226, 'pascal': 227, 'cello': 228, 'flute': 229, 'xylophone': 230, 'drums': 231, 'montreal': 232, 'nikola': 233, 'turkish': 234, 'written': 235, 'amedeo': 236, '6': 237, 'famous': 238, 'roosevelt': 239, 'speak': 240, 'elected': 241, '2': 242, 'kangaroo': 243, 'may': 244, 'found': 245, 'both': 246, 'river': 247, 'government': 248, 'france': 249, 'come': 250, 'area': 251, 'middle': 252, 'over': 253, 'best': 254, 'portuguese': 255, 'china': 256, 'park': 257, 'smallest': 258, 'founded': 259, 'order': 260, 'bear': 261, 'violin': 262, 'school': 263, 'buried': 264, 'international': 265, 'eat': 266, 'animals': 267, 'british': 268, 'second': 269, 'food': 270, 'since': 271, 'elephants': 272, 'west': 273, 'played': 274, 'father': 275, 'head': 276, 'york': 277, 'church': 278, 'system': 279, 'any': 280, 'discovered': 281, 'different': 282, 'otter': 283, 'grant': 284, '4': 285, 'drum': 286, 'lyre': 287, 'guitar': 288, 'trumpets': 289, 'mother': 290, 'make': 291, 'early': 292, 'point': 293, 'type': 294, 'female': 295, 'death': 296, 'np': 297, 'europe': 298, 'important': 299, 'male': 300, 'egypt': 301, 'east': 302, 'living': 303, 'finnish': 304, 'body': 305, 'southern': 306, 'being': 307, 'main': 308, 'grover': 309, 'paris': 310, 'isaac': 311, 'primary': 312, 'turtle': 313, 'ottawa': 314, 'antwerp': 315, 'win': 316, 'presidential': 317, 'como': 318, 'would': 319, 'now': 320, 'another': 321, 'last': 322, 'swedish': 323, 'several': 324, 'college': 325, 'group': 326, 'region': 327, 'sometimes': 328, 'african': 329, 'small': 330, 'music': 331, 'house': 332, 'native': 333, 'american': 334, 'party': 335, 'these': 336, 'western': 337, 'penguin': 338, 'center': 339, 'cities': 340, 'strings': 341, 'classical': 342, '20th': 343, 'piano': 344, 'nairobi': 345, 'publish': 346, 'paper': 347, 'age': 348, 'married': 349, \"''\": 350, 'average': 351, 'colonies': 352, 'royal': 353, 'countries': 354, 'under': 355, 'mean': 356, 'six': 357, 'popular': 358, 'wolves': 359, 'u': 360, 'public': 361, 'place': 362, 'michael': 363, 'union': 364, 'around': 365, 'will': 366, 'through': 367, 'swan': 368, 'kuala': 369, 'lumpur': 370, 'political': 371, 'c': 372, 'high': 373, '1800': 374, 'count': 375, 'turin': 376, 'revolution': 377, 'very': 378, '10': 379, 'anders': 380, 'considered': 381, 'birds': 382, 'marry': 383, 'duck': 384, 'animal': 385, 'areas': 386, 'out': 387, 'today': 388, 'along': 389, 'held': 390, 'empire': 391, 'museum': 392, 'kingdom': 393, 'dialects': 394, 'left': 395, 'end': 396, 'malaysia': 397, 'i': 398, 'millard': 399, 'white': 400, \"wasn't\": 401, 'schools': 402, 'groups': 403, 'central': 404, 'play': 405, 'dialect': 406, 'lima': 407, 'character': 408, 'eyes': 409, 'panda': 410, 'pianos': 411, 'taipei': 412, 'election': 413, 'county': 414, 'general': 415, 'support': 416, 'theory': 417, 'lay': 418, 'almost': 419, 'calvin': 420, 'later': 421, 'home': 422, 'established': 423, 'wild': 424, 'adult': 425, 'day': 426, 'least': 427, 'elephant': 428, 'generally': 429, 'economy': 430, '5': 431, 'take': 432, 'divided': 433, 'wolf': 434, 'females': 435, 'because': 436, 'nobel': 437, 'prize': 438, 'radioactivity': 439, 'laws': 440, 'history': 441, 'less': 442, 'leopards': 443, 'cougar': 444, 'highest': 445, '7': 446, 'based': 447, 'term': 448, 'major': 449, 'science': 450, 'profession': 451, \"avogadro's\": 452, 'derived': 453, 'flutes': 454, 'giraffes': 455, 'germany': 456, 'leonardo': 457, 'melbourne': 458, 'act': 459, 'ever': 460, 'battle': 461, 'among': 462, 'electricity': 463, 'began': 464, 'boiling': 465, 'collection': 466, 'published': 467, 'crater': 468, 'moon': 469, 'temperature': 470, 'regions': 471, 'shape': 472, '000': 473, 'prey': 474, 'formed': 475, 'governor': 476, 'republican': 477, 'own': 478, 'nn': 479, 'person': 480, 'such': 481, 'makes': 482, 'predators': 483, 'border': 484, 'down': 485, 'religion': 486, 'christian': 487, 'fur': 488, 'london': 489, 'painting': 490, 'society': 491, 'arms': 492, 'local': 493, 'tiger': 494, 'january': 495, 'bears': 496, 'created': 497, '15': 498, 'shell': 499, 'include': 500, 'times': 501, 'man': 502, 'names': 503, 'physicist': 504, 'unit': 505, 'vocabulary': 506, 'bees': 507, 'constructed': 508, 'works': 509, 'mandarin': 510, 'cymbal': 511, 'range': 512, 'dhaka': 513, 'musical': 514, 'parts': 515, 'wings': 516, 'swans': 517, 'violins': 518, 'usually': 519, 'butterflies': 520, 'lobsters': 521, 'rockwell': 522, 'keys': 523, 'virginia': 524, 'education': 525, 'begin': 526, 'serve': 527, 'charge': 528, 'months': 529, 'instruments': 530, 'force': 531, 'molecular': 532, 'weight': 533, 'ancient': 534, 'island': 535, 'chemical': 536, 'approximately': 537, 'great': 538, 'pressure': 539, 'scale': 540, 'suborder': 541, 'various': 542, 'including': 543, 'period': 544, 'economic': 545, 'massachusetts': 546, 'open': 547, 'us': 548, 'children': 549, 'nnp': 550, 'vp': 551, 'religious': 552, 'sports': 553, 'refer': 554, 'but': 555, 'fish': 556, 'similar': 557, 'side': 558, 'near': 559, 'foreign': 560, 'built': 561, 'estimated': 562, 'appear': 563, 'birth': 564, 'skin': 565, 'army': 566, 'men': 567, 'prime': 568, 'across': 569, 'culture': 570, 'earliest': 571, 'parliament': 572, 'grand': 573, 'hard': 574, 'related': 575, 'per': 576, 'independence': 577, 'march': 578, 'service': 579, 'domestic': 580, 'mammal': 581, 'males': 582, 'against': 583, 'nassau': 584, 'way': 585, 'design': 586, 'politically': 587, 'islam': 588, 'independent': 589, 'art': 590, 'third': 591, 'each': 592, 'travel': 593, 'referred': 594, 'using': 595, 'changes': 596, 'color': 597, 'airport': 598, 'upon': 599, 'coast': 600, 'without': 601, 'humans': 602, 'kg': 603, 'status': 604, 'regional': 605, 'if': 606, 'civil': 607, 'nations': 608, 'field': 609, 'short': 610, 'napoleon': 611, 'vowel': 612, 'beijing': 613, 'si': 614, 'produce': 615, 'da': 616, 'sounds': 617, 'copenhagen': 618, 'eastern': 619, 'cover': 620, 'foxes': 621, 'discover': 622, 'vowels': 623, 'speech': 624, 'invent': 625, 'st': 626, 'features': 627, 'building': 628, 'pandas': 629, 'pollock': 630, 'picasso': 631, 'bc': 632, 'zebras': 633, 'call': 634, 'king': 635, 'community': 636, 'allow': 637, 'uppsala': 638, 'sweden': 639, 'april': 640, 'definition': 641, '0': 642, 'plants': 643, 'possible': 644, 'single': 645, 'presidency': 646, 'appointed': 647, 'court': 648, 'caused': 649, 'whom': 650, 'attend': 651, 'chief': 652, 'write': 653, 'percentage': 654, 'rate': 655, 'populated': 656, 'summer': 657, 'subject': 658, 'kind': 659, 'keep': 660, 'receive': 661, 'alive': 662, 'say': 663, 'populations': 664, 'smaller': 665, 'minister': 666, 'according': 667, 'province': 668, 'active': 669, 'wife': 670, '16': 671, 'gray': 672, 'share': 673, 'weigh': 674, 'belong': 675, 'control': 676, 'des': 677, 'substance': 678, 'java': 679, 'level': 680, 'associated': 681, 'nation': 682, 'traditionally': 683, 'while': 684, \"father's\": 685, 'contain': 686, 'raised': 687, 'australian': 688, 'development': 689, 'wide': 690, 'natural': 691, 'method': 692, 'engine': 693, 'lion': 694, 'speaking': 695, 'municipalities': 696, 'lower': 697, 'making': 698, 'military': 699, 'layer': 700, 'them': 701, 'variety': 702, 'spend': 703, 'semi': 704, 'pronunciation': 705, 'mountain': 706, 'gdp': 707, 'climate': 708, 'lee': 709, 'post': 710, 'theodore': 711, \"roosevelt's\": 712, 'holes': 713, 'oldest': 714, 'june': 715, 'india': 716, 'widely': 717, 'woodrow': 718, 'battery': 719, 'masses': 720, 'borrowed': 721, 'phenomenon': 722, 'magnetic': 723, \"coulomb's\": 724, 'retire': 725, 'linguists': 726, 'origins': 727, 'greek': 728, 'largely': 729, \"watt's\": 730, 'basic': 731, 'saint': 732, 'red': 733, 'feature': 734, 'brass': 735, 'tone': 736, 'sources': 737, 'dragonflies': 738, 'eight': 739, 'guitars': 740, \"city's\": 741, 'koala': 742, 'pedal': 743, 'golden': 744, 'b': 745, 'slide': 746, 'van': 747, 'steam': 748, 'meters': 749, '1860': 750, '1832': 751, 'presidents': 752, '18': 753, 'series': 754, 'served': 755, 'cell': 756, 'noted': 757, 'contributions': 758, '20': 759, '1820': 760, 'august': 761, 'scientific': 762, 'produced': 763, 'given': 764, '1811': 765, 'determined': 766, '100': 767, '25': 768, 'experiments': 769, 'beetle': 770, 'vice': 771, 'grace': 772, 'growth': 773, 'older': 774, 'july': 775, 'location': 776, 'nearly': 777, 'settlement': 778, '1917': 779, 'until': 780, 'relate': 781, 'degree': 782, 'ice': 783, 'hockey': 784, 'vast': 785, 'rule': 786, \"'\": 787, 'continental': 788, 'total': 789, 'adapted': 790, 'tongue': 791, 'heavier': 792, 'types': 793, 'bordered': 794, 'influence': 795, 'religions': 796, 'snow': 797, 'good': 798, 'never': 799, 'asian': 800, 'distances': 801, 'russian': 802, 'conservation': 803, 'minority': 804, 'relationship': 805, 'democratic': 806, 'district': 807, 'lived': 808, '13': 809, 'former': 810, 'dutch': 811, 'build': 812, 'dominant': 813, 'ad': 814, 'marked': 815, '500': 816, '2006': 817, 'department': 818, 'gas': 819, 'trade': 820, 'majority': 821, 'date': 822, 'wrote': 823, 'every': 824, 'those': 825, \"monroe's\": 826, 'doctrine': 827, 'standing': 828, 'washington': 829, 'letters': 830, 'square': 831, 'record': 832, 'noun': 833, 'meat': 834, 'tail': 835, 'cats': 836, '18th': 837, 'league': 838, 'roman': 839, 'heavily': 840, 'completed': 841, 'although': 842, 'diet': 843, 'warm': 844, 'tall': 845, 'half': 846, 'lose': 847, \"bear's\": 848, 'cause': 849, 'actually': 850, 'distinctive': 851, 'letter': 852, 'december': 853, 'low': 854, 'occur': 855, 'joined': 856, 'perfect': 857, 'ten': 858, '42': 859, '2001': 860, 'greatest': 861, 'sir': 862, 'peninsula': 863, 'tortoises': 864, 'took': 865, 'effective': 866, \"uruguay's\": 867, 'poor': 868, 'moving': 869, 'siblings': 870, 'set': 871, 'gold': 872, 'always': 873, 'england': 874, 'calculated': 875, 'loschmidt': 876, 'pronouns': 877, 'nouns': 878, 'blaise': 879, 'string': 880, 'stringed': 881, 'electric': 882, 'montpellier': 883, 'fort': 884, 'angoulãªme': 885, 'varieties': 886, 'korea': 887, 'ideas': 888, 'concert': 889, 'taught': 890, 'e': 891, '9': 892, 'alphabet': 893, 'hunted': 894, \"newton's\": 895, 'stress': 896, 'considerable': 897, 'effect': 898, 'compound': 899, \"ottawa's\": 900, 'playing': 901, 'kenya': 902, 'feathers': 903, '1810': 904, 'ant': 905, 'mid': 906, 'site': 907, 'norman': 908, 'cathedral': 909, 'free': 910, 'child': 911, 'butterfly': 912, 'late': 913, 'eels': 914, 'threatened': 915, 'attack': 916, 'statue': 917, 'allowed': 918, 'poverty': 919, 'role': 920, 'sino': 921, 'close': 922, 'magazine': 923, 'octopuses': 924, '1971': 925, 'peter': 926, 'festival': 927, 'petersburg': 928, 'zebra': 929, '28': 930, '78': 931, '300': 932, 'sign': 933, 'legal': 934, 'grow': 935, 'issue': 936, 'chosen': 937, 'slavery': 938, 'spain': 939, 'we': 940, 'invention': 941, '1776': 942, 'italy': 943, 'commonly': 944, 'results': 945, 'reserve': 946, 'roughly': 947, 'dependence': 948, 'atmospheric': 949, 'freezing': 950, 'november': 951, 'excellent': 952, 'antennae': 953, 'organs': 954, 'larvae': 955, 'hardened': 956, 'industry': 957, 'vermont': 958, 'graduate': 959, 'meet': 960, 'anna': 961, 'office': 962, 'cuba': 963, 'fourth': 964, 'received': 965, 'pp': 966, 'full': 967, 'd': 968, \"canada's\": 969, 'non': 970, 'formerly': 971, 'peacekeeping': 972, 'provinces': 973, 'territories': 974, 'densely': 975, 'books': 976, 'winter': 977, 'mainland': 978, 'village': 979, 'underwater': 980, 'forms': 981, 'vulnerable': 982, 'fall': 983, 'meaning': 984, 'working': 985, 'due': 986, 'rock': 987, 'helsinki': 988, 'percent': 989, 'borders': 990, 'join': 991, 'autonomous': 992, 'events': 993, 'technology': 994, 'officially': 995, 'team': 996, 'leader': 997, 'eagle': 998, '90': 999, 'twice': 1000, 'capita': 1001, 'present': 1002, 'evidence': 1003, 'came': 1004, 'done': 1005, 'linguistic': 1006, '1998': 1007, 'september': 1008, '2007': 1009, 'miles': 1010, 'leave': 1011, 'pack': 1012, 'killing': 1013, '1884': 1014, 'run': 1015, 'sent': 1016, 'federal': 1017, 'interior': 1018, 'engineer': 1019, 'led': 1020, 'son': 1021, 'metal': 1022, 'ethnic': 1023, 'occupation': 1024, 'timor': 1025, 'sumatra': 1026, 'relations': 1027, \"people's\": 1028, 'happens': 1029, 'indonesian': 1030, 'remained': 1031, 'william': 1032, 'passion': 1033, 'era': 1034, 'glasgow': 1035, 'street': 1036, 'influential': 1037, 'congress': 1038, 'jefferson': 1039, \"adams'\": 1040, 'birthplace': 1041, 'thomas': 1042, 'contains': 1043, 'collective': 1044, 'frequent': 1045, 'extinct': 1046, 'marsupial': 1047, 'vehicle': 1048, 'opened': 1049, 'company': 1050, 'current': 1051, 'constitution': 1052, '2000': 1053, 'rules': 1054, 'available': 1055, '11': 1056, '8': 1057, 'powers': 1058, 'literary': 1059, 'electrical': 1060, 'worldwide': 1061, 'cold': 1062, 'themselves': 1063, 'higher': 1064, 'prehistoric': 1065, 'so': 1066, 'flight': 1067, 'little': 1068, 'blue': 1069, 'stands': 1070, '40': 1071, 'cm': 1072, 'lb': 1073, 'special': 1074, 'includes': 1075, 'plain': 1076, 'sand': 1077, 'doha': 1078, 'energy': 1079, 'movement': 1080, 'enjoy': 1081, 'increase': 1082, 'contribution': 1083, 'days': 1084, 'source': 1085, 'trading': 1086, 'reservoirs': 1087, 'especially': 1088, 'improve': 1089, 'young': 1090, 'breathe': 1091, 'pleurodira': 1092, 'necked': 1093, 'kept': 1094, 'likely': 1095, 'heads': 1096, 'reduced': 1097, 'dragon': 1098, 'gate': 1099, 'montevideo': 1100, 'informally': 1101, 'host': 1102, 'sport': 1103, 'irish': 1104, 'association': 1105, 'credited': 1106, '80': 1107, 'pavia': 1108, 'relative': 1109, 'value': 1110, 'observations': 1111, 'evolve': 1112, 'queens': 1113, 'move': 1114, 'throughout': 1115, 'whose': 1116, 'violincello': 1117, 'above': 1118, 'viola': 1119, 'outside': 1120, 'engineering': 1121, 'electrostatic': 1122, 'attraction': 1123, 'repulsion': 1124, '14': 1125, 'legacy': 1126, 'writing': 1127, 'lack': 1128, 'others': 1129, '70': 1130, 'occupy': 1131, 'orchestras': 1132, 'orchestral': 1133, 'clash': 1134, 'note': 1135, 'player': 1136, 'back': 1137, 'crash': 1138, 'syllable': 1139, 'indian': 1140, 'fox': 1141, 'belgium': 1142, 'universally': 1143, 'administrative': 1144, 'g': 1145, 'luther': 1146, 'mexico': 1147, '1908': 1148, 'plates': 1149, 'light': 1150, 'recognized': 1151, 'topic': 1152, 'register': 1153, '101': 1154, 'scotland': 1155, 'benzene': 1156, 'someone': 1157, 'diamagnetism': 1158, 'regarded': 1159, 'la': 1160, 'mark': 1161, 'sub': 1162, 'tigers': 1163, 'cornet': 1164, 'pitch': 1165, 'xylophones': 1166, 'queen': 1167, 'classified': 1168, 'zoos': 1169, 'wall': 1170, \"cougar's\": 1171, 'typically': 1172, 'dragonfly': 1173, 'pairs': 1174, 'percussion': 1175, 'eel': 1176, 'fins': 1177, 'volume': 1178, 'artist': 1179, 'koalas': 1180, 'ecological': 1181, 'australia': 1182, 'verb': 1183, 'seven': 1184, 'market': 1185, 'vinci': 1186, 'studio': 1187, 'contemporary': 1188, 'michelangelo': 1189, '19th': 1190, 'upright': 1191, 'renoir': 1192, \"it's\": 1193, 'leningrad': 1194, 'mission': 1195, 'california': 1196, 'vietnam': 1197, 'gogh': 1198, 'moved': 1199, 'october': 1200, 'none': 1201, '60': 1202, 'abraham': 1203, \"lincoln's\": 1204, 'formal': 1205, 'career': 1206, 'establish': 1207, 'top': 1208, 'candidate': 1209, '1816': 1210, 'electrochemical': 1211, 'entered': 1212, 'original': 1213, 'rod': 1214, 'molarity': 1215, 'helped': 1216, 'albert': 1217, 'victor': 1218, 'pay': 1219, 'compute': 1220, 'reactions': 1221, '23': 1222, 'determine': 1223, 'reaction': 1224, 'translated': 1225, 'thermometer': 1226, '27': 1227, '1744': 1228, 'aiming': 1229, 'grounds': 1230, 'primarily': 1231, 'defense': 1232, 'mechanism': 1233, 'uses': 1234, '350': 1235, 'mammals': 1236, 'aristotle': 1237, 'within': 1238, 'complete': 1239, 'her': 1240, 'lifetime': 1241, 'plymouth': 1242, 'windsor': 1243, 'academy': 1244, 'goodhue': 1245, \"coolidge's\": 1246, 'stone': 1247, 'jr': 1248, 'get': 1249, 'las': 1250, 'victoria': 1251, 'placed': 1252, '1924': 1253, 'bar': 1254, 'retained': 1255, 'vbd': 1256, 'newspaper': 1257, '1930': 1258, 'architect': 1259, 'descended': 1260, 'significant': 1261, 'canadian': 1262, 'soldiers': 1263, 'unemployment': 1264, 'forces': 1265, 'declining': 1266, 'arrived': 1267, 'treaty': 1268, 'immigrants': 1269, 'migratory': 1270, 'specialized': 1271, 'fly': 1272, 'confused': 1273, 'accepted': 1274, 'systems': 1275, 'sitting': 1276, 'strip': 1277, 'asia': 1278, 'rainfall': 1279, 'lines': 1280, 'agriculture': 1281, 'valley': 1282, 'kill': 1283, 'swimmers': 1284, 'phrase': 1285, \"elephant's\": 1286, 'ears': 1287, 'shot': 1288, 'signed': 1289, 'expectancy': 1290, 'biggest': 1291, 'celebrated': 1292, 'women': 1293, '1899': 1294, '1995': 1295, 'indigenous': 1296, 'islands': 1297, 'defined': 1298, 'representatives': 1299, 'gerald': 1300, 'delta': 1301, 'positions': 1302, \"ford's\": 1303, 'need': 1304, 'five': 1305, 'released': 1306, 'surviving': 1307, \"ghana's\": 1308, 'lake': 1309, '15th': 1310, 'agricultural': 1311, 'medieval': 1312, 'tax': 1313, 'muslim': 1314, 'goods': 1315, 'ancestry': 1316, 'dog': 1317, 'kinds': 1318, 'weapons': 1319, 'thought': 1320, 'hide': 1321, 'lost': 1322, 'richard': 1323, 'anne': 1324, '1928': 1325, 'extend': 1326, 'jaw': 1327, 'bridges': 1328, 'highways': 1329, 'investigate': 1330, 'secretary': 1331, 'sciences': 1332, '1903': 1333, \"world's\": 1334, 'populous': 1335, 'reports': 1336, 'master': 1337, 'acquired': 1338, 'apple': 1339, 'action': 1340, 'fifth': 1341, 'page': 1342, 'expired': 1343, 'refers': 1344, 'trinity': 1345, 'sell': 1346, '1817': 1347, '1796': 1348, 'prominent': 1349, 'industrial': 1350, 'ranked': 1351, 'h': 1352, 'declaration': 1353, 'hamilton': 1354, 'go': 1355, 'ways': 1356, 're': 1357, 'historical': 1358, '1774': 1359, 'walking': 1360, 'report': 1361, 'roads': 1362, 'creatures': 1363, 'farmed': 1364, 'exposed': 1365, 'front': 1366, 'hind': 1367, 'legs': 1368, 'feet': 1369, 'foot': 1370, 'better': 1371, 'members': 1372, 'panthera': 1373, 'cheetah': 1374, 'distinguish': 1375, 'panthers': 1376, \"leopard's\": 1377, 'distribution': 1378, 'size': 1379, 'described': 1380, 'sort': 1381, 'solitary': 1382, 'pardus': 1383, 'jaguar': 1384, 'agile': 1385, 'switzerland': 1386, \"liechtenstein's\": 1387, 'loans': 1388, 'plays': 1389, 'charter': 1390, 'plural': 1391, 'austria': 1392, 'cases': 1393, 'sleep': 1394, 'm': 1395, 'japan': 1396, 'private': 1397, 'buffalo': 1398, 'love': 1399, 'taylor': 1400, 'henry': 1401, 'fuller': 1402, 'abigail': 1403, 'position': 1404, 'turn': 1405, 'honor': 1406, 'austrian': 1407, 'describing': 1408, 'survive': 1409, 'inhabit': 1410, 'uk': 1411, 'extinction': 1412, 'pacific': 1413, 'den': 1414, 'dry': 1415, 'cubs': 1416, 'holt': 1417, 'case': 1418, 'even': 1419, 'emperor': 1420, 'quite': 1421, 'heavy': 1422, 'gain': 1423, 'global': 1424, 'aquatic': 1425, 'habitat': 1426, 'research': 1427, 'bombing': 1428, '2005': 1429, 'distinct': 1430, 'headquarters': 1431, '2003': 1432, 'resident': 1433, 'financial': 1434, 'secular': 1435, 'romanian': 1436, 'declare': 1437, 'ii': 1438, \"singapore's\": 1439, 'decrease': 1440, 'network': 1441, 'daily': 1442, 'characterized': 1443, 'tip': 1444, 'supply': 1445, 'rainforest': 1446, 'brother': 1447, 'sister': 1448, 'hero': 1449, 'rich': 1450, 'consist': 1451, 'mainly': 1452, 'mud': 1453, 'inspired': 1454, 'genetic': 1455, 'testudines': 1456, 'extant': 1457, '215': 1458, 'ulysses': 1459, \"grant's\": 1460, 'hill': 1461, 'elections': 1462, 'fame': 1463, 'sentence': 1464, 'completely': 1465, 'bourbon': 1466, 'propose': 1467, 'cup': 1468, 'compared': 1469, 'create': 1470, 'slaves': 1471, 'supported': 1472, 'lombardy': 1473, 'daughter': 1474, 'peregrini': 1475, 'experiment': 1476, 'voltaic': 1477, 'pile': 1478, 'experimental': 1479, 'stop': 1480, 'fact': 1481, 'gender': 1482, 'syllables': 1483, 'consider': 1484, 'provides': 1485, 'however': 1486, 'human': 1487, 'honey': 1488, 'railway': 1489, 'station': 1490, 'institution': 1491, 'mathematician': 1492, 'could': 1493, 'suffer': 1494, 'health': 1495, 'just': 1496, 'notes': 1497, 'construction': 1498, 'resign': 1499, 'et': 1500, 'distinguished': 1501, 'phonetic': 1502, 'suggest': 1503, 'putonghua': 1504, 'taiwan': 1505, 'bridge': 1506, 'things': 1507, 'accompanied': 1508, 'obtain': 1509, 'hi': 1510, 'kit': 1511, 'friends': 1512, 'origin': 1513, 'spelling': 1514, 'differences': 1515, 'pan': 1516, 'spread': 1517, 'hole': 1518, 'endangered': 1519, 'either': 1520, 'quatre': 1521, 'en': 1522, 'defend': 1523, 'chair': 1524, 'question': 1525, 'del': 1526, 'consonants': 1527, 'cultural': 1528, 'length': 1529, 'improvements': 1530, 'structure': 1531, 'peru': 1532, 'stock': 1533, 'ref': 1534, 'shaped': 1535, 'anglo': 1536, 'bouts': 1537, 'gut': 1538, 'greece': 1539, 'sandemanian': 1540, 'christianity': 1541, 'production': 1542, 'newington': 1543, 'butts': 1544, 'foundation': 1545, 'robert': 1546, 'mayor': 1547, \"what's\": 1548, 'next': 1549, 'band': 1550, '400': 1551, 'brazil': 1552, 'que': 1553, 'greater': 1554, 'continent': 1555, 'object': 1556, 'saharan': 1557, 'anatidae': 1558, 'legend': 1559, 'sanskrit': 1560, 'typical': 1561, 'kilometers': 1562, 'bass': 1563, 'styles': 1564, 'tones': 1565, 'anywhere': 1566, 'bars': 1567, 'operated': 1568, 'electrophorus': 1569, 'movements': 1570, 'hymenoptera': 1571, 'cuisine': 1572, 'nests': 1573, 'able': 1574, 'identified': 1575, 'node': 1576, 'municipality': 1577, 'semitic': 1578, 'invented': 1579, 'schloss': 1580, 'palace': 1581, 'berliner': 1582, 'busiest': 1583, \"pascal's\": 1584, 'catholic': 1585, 'educated': 1586, 'employed': 1587, '1759': 1588, 'regarding': 1589, 'developing': 1590, 'entries': 1591, 'diglossia': 1592, 'besides': 1593, 'dynasties': 1594, 'cat': 1595, 'autumn': 1596, 'strong': 1597, 'therapy': 1598, 'drumhead': 1599, 'hands': 1600, 'tension': 1601, \"player's\": 1602, 'blood': 1603, 'novel': 1604, \"flute's\": 1605, 'increased': 1606, 'currently': 1607, 'material': 1608, 'neck': 1609, 'david': 1610, 'sticks': 1611, 'painter': 1612, 'figure': 1613, 'abstract': 1614, 'inland': 1615, 'woodlands': 1616, 'exterminated': 1617, 'adjectives': 1618, 'verbs': 1619, 'paradigms': 1620, 'rows': 1621, 'spaces': 1622, 'levels': 1623, 'airports': 1624, '2008': 1625, 'event': 1626, 'ghirlandaio': 1627, 'attributed': 1628, 'said': 1629, 'sarah': 1630, 'barnard': 1631, 'francis': 1632, 'surrounding': 1633, \"montreal's\": 1634, 'embassy': 1635, 'uhuru': 1636, 'adjacent': 1637, 'rates': 1638, 'twain': 1639, 'technique': 1640, \"tesla's\": 1641, 'artists': 1642, 'beak': 1643, 'mouth': 1644, 'highly': 1645, 'representative': 1646, \"piano's\": 1647, 'plate': 1648, 'compact': 1649, 'pierre': 1650, 'class': 1651, 'paintings': 1652, 'paint': 1653, 'macau': 1654, '7th': 1655, 'earthquakes': 1656, 'bay': 1657, 'blowing': 1658, 'closed': 1659, 'lips': 1660, 'players': 1661, 'bent': 1662, 'piccolo': 1663, 'tubing': 1664, 'oblong': 1665, 'vibration': 1666, 'harmony': 1667, 'comparatively': 1668, 'borrow': 1669, 'shoulder': 1670, 'vitula': 1671, 'quebec': 1672, '50': 1673, '1989': 1674, 'canadians': 1675, 'brown': 1676, 'howling': 1677, 'maria': 1678, 'federalist': 1679, '19': 1680, 'camouflage': 1681, 'quickly': 1682, 'social': 1683, 'section': 1684, 'physisist': 1685, 'identical': 1686, 'characters': 1687, 'sheep': 1688, 'melanoleuca': 1689, 'muddy': 1690, 'address': 1691, 'argue': 1692, 'start': 1693, 'represent': 1694, 'rank': 1695, 'frontier': 1696, 'ac': 1697, 'retirement': 1698, 'electrolyte': 1699, 'papers': 1700, 'display': 1701, 'leg': 1702, 'conductor': 1703, 'electrode': 1704, 'copper': 1705, 'savant': 1706, 'graduated': 1707, 'ecclesiastical': 1708, 'practice': 1709, 'lorenzo': 1710, 'emmanuel': 1711, 'iii': 1712, 'homage': 1713, 'attention': 1714, 'title': 1715, '1701': 1716, 'astronomer': 1717, 'perform': 1718, 'careful': 1719, 'sections': 1720, 'potential': 1721, 'potato': 1722, 'insect': 1723, 'certain': 1724, 'endopterygotes': 1725, 'cells': 1726, 'vary': 1727, 'greatly': 1728, 'coleoptera': 1729, 'coleopterists': 1730, 'coleopterology': 1731, 'dozen': 1732, 'thousand': 1733, 'twenty': 1734, 'experience': 1735, 'graduating': 1736, 'amherst': 1737, 'supreme': 1738, 'thirteenth': 1739, 'opposed': 1740, '1918': 1741, 'fraternity': 1742, '1905': 1743, 'met': 1744, 'visited': 1745, 'sons': 1746, 'admitted': 1747, 'republicans': 1748, 'harding': 1749, 'dt': 1750, 'description': 1751, 'prp': 1752, 'sbar': 1753, 'franklin': 1754, 'column': 1755, '1931': 1756, 'addition': 1757, 'else': 1758, 'un': 1759, 'efforts': 1760, \"don't\": 1761, 'peoples': 1762, '1800s': 1763, 'residents': 1764, 'autonomy': 1765, '1965': 1766, 'britain': 1767, 'geographically': 1768, '1867': 1769, 'arctic': 1770, 'hemisphere': 1771, 'difficult': 1772, 'diving': 1773, 'reasons': 1774, 'hunting': 1775, 'feed': 1776, 'unrelated': 1777, 'dabbling': 1778, 'presence': 1779, 'particularly': 1780, 'allows': 1781, 'inside': 1782, 'expression': 1783, 'framework': 1784, 'gaza': 1785, \"egypt's\": 1786, 'nile': 1787, 'jews': 1788, 'organized': 1789, 'fragmented': 1790, 'communicate': 1791, 'lie': 1792, 'proposed': 1793, 'prefer': 1794, 'forested': 1795, 'regulation': 1796, 'recorded': 1797, 'rare': 1798, 'ukraine': 1799, 'uralic': 1800, 'read': 1801, 'games': 1802, 'lies': 1803, 'growing': 1804, 'recent': 1805, 'phone': 1806, 'norway': 1807, \"finland's\": 1808, 'weather': 1809, 'remain': 1810, 'favorite': 1811, 'longer': 1812, 'involved': 1813, 'architecture': 1814, 'situated': 1815, 'sole': 1816, 'information': 1817, 'services': 1818, 'internet': 1819, 'kappa': 1820, 'congressman': 1821, 'michigan': 1822, 'football': 1823, 'scout': 1824, 'scouts': 1825, 'winner': 1826, '1942': 1827, 'rapids': 1828, 'commission': 1829, 'supporters': 1830, 'claim': 1831, 'pardon': 1832, 'quid': 1833, 'pro': 1834, 'quo': 1835, 'exchange': 1836, 'output': 1837, 'castle': 1838, 'subfamilies': 1839, 'ghanaian': 1840, 'agyekum': 1841, 'relation': 1842, 'connected': 1843, 'akans': 1844, 'capture': 1845, '1642': 1846, 'teaching': 1847, 'regime': 1848, 'beliefs': 1849, '21': 1850, 'access': 1851, 'pups': 1852, 'adults': 1853, 'coats': 1854, 'surplus': 1855, 'genus': 1856, 'slightly': 1857, \"cleveland's\": 1858, 'opponents': 1859, 'image': 1860, 'want': 1861, 'sheriff': 1862, '1896': 1863, 'troops': 1864, 'caldwell': 1865, 'jersey': 1866, 'reverend': 1867, 'neal': 1868, 'cemetery': 1869, 'rights': 1870, 'must': 1871, 'returned': 1872, 'railroads': 1873, 'failed': 1874, 'upper': 1875, 'spontaneous': 1876, 'nuclear': 1877, 'louise': 1878, 'désirée': 1879, 'lorieux': 1880, '1890': 1881, 'shared': 1882, 'permanent': 1883, 'jean': 1884, 'won': 1885, '55': 1886, 'le': 1887, 'places': 1888, 'phosphorescent': 1889, 'money': 1890, 'cut': 1891, 'mars': 1892, 'javanese': 1893, 'invasion': 1894, 'wwii': 1895, 'break': 1896, 'off': 1897, 'spice': 1898, 'shares': 1899, 'guinea': 1900, 'links': 1901, 'orientated': 1902, 'archipelagic': 1903, 'legislature': 1904, 'god': 1905, 'creator': 1906, 'circle': 1907, 'beginnings': 1908, 'motion': 1909, '33': 1910, 'outraged': 1911, 'optical': 1912, 'went': 1913, 'cast': 1914, 'himself': 1915, 'leibniz': 1916, 'happen': 1917, 'mary': 1918, 'fight': 1919, 'crossing': 1920, 'delaware': 1921, 'introduce': 1922, 'result': 1923, 'jay': 1924, 'depicted': 1925, 'holding': 1926, 'flag': 1927, 'eventually': 1928, 'starting': 1929, 'convention': 1930, 'practiced': 1931, '1794': 1932, 'george': 1933, 'edinburgh': 1934, 'gentleman': 1935, 'respected': 1936, 'opening': 1937, 'figures': 1938, 'opponent': 1939, 'stamp': 1940, 'committee': 1941, 'alexander': 1942, 'harvard': 1943, 'midnight': 1944, 'judges': 1945, 'defeated': 1946, 'spent': 1947, 'library': 1948, 'cook': 1949, 'blindness': 1950, 'roo': 1951, 'extent': 1952, 'developed': 1953, 'capable': 1954, 'powerful': 1955, 'muscular': 1956, 'lanky': 1957, 'rosettes': 1958, 'felidae': 1959, 'difference': 1960, 'compare': 1961, 'americas': 1962, \"linnaeus's\": 1963, 'systema': 1964, 'naturae': 1965, 'circular': 1966, 'felis': 1967, 'featured': 1968, 'tank': 1969, 'designed': 1970, 'raetia': 1971, 'factory': 1972, 'currency': 1973, 'promote': 1974, 'railways': 1975, 'conformity': 1976, 'resort': 1977, 'perhaps': 1978, 'though': 1979, 'nights': 1980, 'hungarian': 1981, 'presented': 1982, 'itself': 1983, \"fillmore's\": 1984, '1874': 1985, '1974': 1986, 'feel': 1987, 'learn': 1988, 'fell': 1989, 'servant': 1990, 'nor': 1991, 'log': 1992, 'cabin': 1993, 'summerhill': 1994, 'precisely': 1995, 'serbian': 1996, 'tails': 1997, 'insulate': 1998, 'eurasian': 1999, 'genera': 2000, 'egg': 2001, 'totem': 2002, 'item': 2003, \"otter's\": 2004, 'increasingly': 2005, 'blubber': 2006, 'playful': 2007, 'traps': 2008, 'countershaded': 2009, 'sense': 2010, 'hearing': 2011, 'tallest': 2012, 'oceans': 2013, 'distance': 2014, 'tourists': 2015, 'flippers': 2016, 'chick': 2017, 'gets': 2018, 'risk': 2019, 'fat': 2020, 'deep': 2021, 'fairy': 2022, 'weighs': 2023, 'whether': 2024, 'restricted': 2025, 'carnivore': 2026, 'guard': 2027, 'hair': 2028, 'diseases': 2029, 'seen': 2030, 'infrared': 2031, 'photography': 2032, 'justification': 2033, 'listed': 2034, 'council': 2035, 'studies': 2036, 'insufficient': 2037, 'protection': 2038, 'marine': 2039, 'garbage': 2040, 'controversial': 2041, 'wildlife': 2042, 'qataris': 2043, 'profess': 2044, \"qatar's\": 2045, 'telecommunication': 2046, 'centered': 2047, 'covered': 2048, 'wider': 2049, '1973': 2050, 'saudi': 2051, 'iraq': 2052, 'oil': 2053, 'develop': 2054, 'markets': 2055, 'allophones': 2056, 'arab': 2057, 'southwest': 2058, 'vote': 2059, 'doing': 2060, 'unitary': 2061, 'bucharest': 2062, 'metro': 2063, 'southeastern': 2064, 'orang': 2065, 'laut': 2066, 'seeking': 2067, 'sang': 2068, 'kuan': 2069, 'yew': 2070, 'goh': 2071, 'chok': 2072, 'tong': 2073, 'punishment': 2074, 'murder': 2075, '1819': 2076, 'strategic': 2077, 'remaining': 2078, 'depend': 2079, 'exports': 2080, 'imported': 2081, 'terms': 2082, 'condition': 2083, 'desegregation': 2084, 'newspapers': 2085, 'respond': 2086, 't': 2087, 'medal': 2088, 'ectothermic': 2089, 'breed': 2090, 'draws': 2091, 'article': 2092, 'longevity': 2093, 'genes': 2094, 'dug': 2095, 'studied': 2096, 'papillae': 2097, 'genome': 2098, 'reach': 2099, 'reference': 2100, 'withdraw': 2101, 'shells': 2102, 'democrat': 2103, 'affiliation': 2104, 'nothing': 2105, '1872': 2106, 'think': 2107, 'smoked': 2108, 'hides': 2109, 'influenced': 2110, 'landscape': 2111, 'income': 2112, 'guiana': 2113, 'citizen': 2114, 'stronghold': 2115, 'carlos': 2116, 'maldonado': 2117, 'overseas': 2118, 'congressional': 2119, 'students': 2120, 'colleges': 2121, 'phi': 2122, 'scottish': 2123, '1919': 2124, 'limited': 2125, '1914': 2126, 'enter': 2127, 'something': 2128, 'ludovico': 2129, 'teresa': 2130, 'hence': 2131, 'samples': 2132, 'elementary': 2133, 'bodies': 2134, 'celcius': 2135, 'dependent': 2136, 'numerous': 2137, 'damascus': 2138, 'cairo': 2139, 'sociolinguistic': 2140, 'situation': 2141, 'feminine': 2142, 'singular': 2143, 'bee': 2144, 'managed': 2145, 'experienced': 2146, 'peak': 2147, 'continue': 2148, 'season': 2149, 'communist': 2150, 'crutches': 2151, 'provincial': 2152, 'materials': 2153, 'bows': 2154, 'tune': 2155, 'harmonics': 2156, 'braccio': 2157, 'cellos': 2158, 'should': 2159, 'permanently': 2160, 'stationed': 2161, 'geotechnical': 2162, 'estate': 2163, 'possessed': 2164, 'blois': 2165, 'appointment': 2166, 'eaux': 2167, 'inspector': 2168, 'fields': 2169, 'mechanics': 2170, 'magnetism': 2171, '1736': 2172, '1806': 2173, 'leaves': 2174, 'offspring': 2175, 'dramatic': 2176, 'far': 2177, 'widespread': 2178, 'palladius': 2179, 'mutually': 2180, 'unintelligible': 2181, 'romanization': 2182, 'objects': 2183, 'cantonese': 2184, 'guoyu': 2185, 'followed': 2186, 'historically': 2187, 'traced': 2188, 'accentuate': 2189, 'expert': 2190, 'enormous': 2191, 'dynamic': 2192, 'bangladesh': 2193, 'banks': 2194, 'arrive': 2195, 'israel': 2196, 'stressed': 2197, 'grammar': 2198, 'causes': 2199, 'except': 2200, 'variations': 2201, 'pitches': 2202, 'musicians': 2203, 'holed': 2204, 'mammoth': 2205, 'tusk': 2206, 'whistle': 2207, 'stream': 2208, 'fennec': 2209, 'originate': 2210, 'caching': 2211, 'fruit': 2212, '31': 2213, 'andorra': 2214, 'descendant': 2215, 'bible': 2216, 'martin': 2217, 'printed': 2218, 'declined': 2219, 'indicate': 2220, 'giraffe': 2221, 'horns': 2222, 'naturelle': 2223, 'wrapped': 2224, 'fluorescent': 2225, 'photographic': 2226, 'reject': 2227, \"church's\": 2228, 'netwon': 2229, 'see': 2230, 'principles': 2231, 'interest': 2232, 'affricates': 2233, 'legge': 2234, 'sulle': 2235, 'fonti': 2236, 'diritto': 2237, 'contrast': 2238, 'romance': 2239, '110': 2240, '120': 2241, 'fundamental': 2242, 'wrought': 2243, 'survey': 2244, 'tense': 2245, 'yamato': 2246, 'scholarly': 2247, 'contexts': 2248, 'rarely': 2249, 'personal': 2250, 'mr': 2251, 'superior': 2252, '600': 2253, 'crown': 2254, 'enlightenment': 2255, 'saxons': 2256, '600s': 2257, 'subjected': 2258, 'terrorism': 2259, 'vi': 2260, 'ages': 2261, 'chest': 2262, 'hand': 2263, 'touch': 2264, 'chemist': 2265, 'sect': 2266, 'joseph': 2267, 'oxford': 2268, 'construct': 2269, 'mentor': 2270, 'you': 2271, 'cartoon': 2272, 'corresponding': 2273, 'denomination': 2274, 'maine': 2275, 'arena': 2276, 'town': 2277, 'edison': 2278, 'communication': 2279, 'measuring': 2280, 'induction': 2281, 'industries': 2282, 'carleton': 2283, \"university's\": 2284, 'moscow': 2285, 'outbreak': 2286, 'highway': 2287, 'having': 2288, 'rail': 2289, 'punk': 2290, 'album': 2291, 'song': 2292, 'notable': 2293, 'fictional': 2294, '82': 2295, 'les': 2296, 'y': 2297, 'lakes': 2298, 'diphthongs': 2299, 'prefix': 2300, 'unusual': 2301, 'phoneme': 2302, 'regardless': 2303, 'trumpeter': 2304, 'bird': 2305, 'seized': 2306, 'compensate': 2307, 'davis': 2308, 'mellower': 2309, 'scutes': 2310, 'away': 2311, 'terrestrial': 2312, 'chew': 2313, 'delicacy': 2314, 'harvesting': 2315, 'vibraphone': 2316, 'style': 2317, 'characterised': 2318, 'octaves': 2319, 'follow': 2320, 'chemistry': 2321, 'remotely': 2322, 'pistol': 2323, 'egyptian': 2324, 'founder': 2325, 'johann': 2326, 'josef': 2327, 'revolutionary': 2328, 'sardinia': 2329, 'fire': 2330, 'worker': 2331, 'segments': 2332, 'bullet': 2333, 'termites': 2334, 'closely': 2335, 'cockroaches': 2336, 'mantids': 2337, 'ancestors': 2338, 'easily': 2339, 'elbowed': 2340, 'slender': 2341, 'waist': 2342, 'numerals': 2343, 'hassan': 2344, 'massoudy': 2345, 'charlottenburg': 2346, 'existing': 2347, 'olympiastadion': 2348, 'dom': 2349, 'foster': 2350, '1990s': 2351, 'vattenfall': 2352, 'towards': 2353, 'reliance': 2354, 'cleaner': 2355, 'renewable': 2356, 'springer': 2357, 'gendarmenmarkt': 2358, 'nauen': 2359, 'bust': 2360, 'nefertiti': 2361, 'hanseatic': 2362, 'zones': 2363, 'popkomm': 2364, 'younger': 2365, 'conversion': 2366, 'moth': 2367, 'outer': 2368, 'cuticle': 2369, 'swarm': 2370, 'carry': 2371, 'pollen': 2372, 'evade': 2373, 'removed': 2374, '1757': 2375, 'mathematics': 2376, 'retaining': 2377, 'france\\x01': 2378, 'fifty': 2379, '1994': 2380, 'classify': 2381, 'literacy': 2382, '20415': 2383, 'standardized': 2384, 'view': 2385, 'literature': 2386, 'divisions': 2387, 'sinitic': 2388, 'zhou': 2389, 'cougars': 2390, 'jaguars': 2391, 'concern': 2392, 'nose': 2393, 'paw': 2394, 'print': 2395, 'heaviest': 2396, 'ride': 2397, 'fender': 2398, 'bell': 2399, 'disfluent': 2400, 'lives': 2401, 'transparent': 2402, 'unchanged': 2403, 'roll': 2404, 'sri': 2405, 'lanka': 2406, 'tuned': 2407, 'changed': 2408, 'cylindrical': 2409, \"aren't\": 2410, 'directly': 2411, 'leptocephali': 2412, 'proto': 2413, 'ensembles': 2414, 'change': 2415, 'writings': 2416, 'subspecies': 2417, 'external': 2418, 'device': 2419, 'headstock': 2420, 'harp': 2421, 'broad': 2422, 'categories': 2423, 'shapes': 2424, 'furthest': 2425, 'handed': 2426, 'right': 2427, '1892': 2428, '1898': 2429, 'gravitation': 2430, 'telescope': 2431, 'gave': 2432, 'farmer': 2433, 'surveyor': 2434, 'alfaro': 2435, 'siqueiros': 2436, 'brushes': 2437, 'donated': 2438, 'jazz': 2439, 'paul': 2440, 'jackson': 2441, 'expressionist': 2442, 'mostly': 2443, 'reclusive': 2444, '12th': 2445, 'flooding': 2446, '39': 2447, 'migration': 2448, 'stem': 2449, 'overcrowding': 2450, 'fortress': 2451, 'suharto': 2452, 'sukarno': 2453, 'monuments': 2454, 'muirhead': 2455, 'workshop': 2456, 'application': 2457, 'maker': 2458, 'eucalypt': 2459, 'forests': 2460, 'rainforests': 2461, 'sloth': 2462, 'viability': 2463, 'therefore': 2464, 'weakness': 2465, 'cape': 2466, 'enough': 2467, 'moisture': 2468, 'suitable': 2469, 'repopulated': 2470, 'victorian': 2471, 'koreans': 2472, 'estimate': 2473, 'yanbian': 2474, 'prefecture': 2475, 'jeju': 2476, 'seasons': 2477, 'territory': 2478, \"verroccio's\": 2479, 'flee': 2480, 'domenico': 2481, 'perugino': 2482, 'renaissance': 2483, 'painters': 2484, 'interests': 2485, 'mind': 2486, 'invertebrates': 2487, 'agglutinative': 2488, 'austronesian': 2489, 'pallava': 2490, 'already': 2491, 'lingua': 2492, 'franca': 2493, 'archipelago': 2494, 'distinguishing': 2495, 'tributary': 2496, 'majapahit': 2497, 'seaport': 2498, 'einstein': 2499, 'photograph': 2500, 'electrolysis': 2501, 'abstemious': 2502, 'demolished': 2503, 'di': 2504, 'confluence': 2505, 'census': 2506, 'designs': 2507, 'trades': 2508, 'financially': 2509, 'alone': 2510, 'picture': 2511, 'thinking': 2512, 'adversaries': 2513, '1880': 2514, 'vegetarian': 2515, '321': 2516, 'saturday': 2517, 'evening': 2518, 'commissioned': 2519, 'illustrate': 2520, 'tom': 2521, 'sawyer': 2522, 'huckleberry': 2523, 'finn': 2524, 'rosie': 2525, 'boy': 2526, 'cephalopod': 2527, 'learned': 2528, 'familiar': 2529, 'cirrina': 2530, 'internal': 2531, '1968': 2532, 'jacqueline': 2533, '1996': 2534, 'actor': 2535, 'co': 2536, 'cubist': 2537, 'guernica': 2538, 'vertical': 2539, 'irving': 2540, 'una': 2541, 'corda': 2542, 'pedals': 2543, '1882': 2544, '1887': 2545, 'impressionist': 2546, 'renoir\\x01s': 2547, 'auguste': 2548, 'haute': 2549, 'final': 2550, 'tradition': 2551, 'runs': 2552, 'instead': 2553, 'laid': 2554, 'symphony': 2555, 'stadiums': 2556, 'fc': 2557, 'zenit': 2558, '1950': 2559, '1993': 2560, 'petrograd': 2561, 'piter': 2562, 'russia': 2563, 'hundred': 2564, 'gay': 2565, 'lesbian': 2566, 'individuals': 2567, 'tourist': 2568, 'destination': 2569, '1977': 2570, 'campus': 2571, 'candlestick': 2572, '43': 2573, 'assisi': 2574, 'dipthongs': 2575, 'bantu': 2576, 'uganda': 2577, 'required': 2578, 'mozambique': 2579, 'classes': 2580, 'tanganyika': 2581, 'soviet': 2582, 'shrines': 2583, 'bright': 2584, 'loud': 2585, 'fully': 2586, 'maynard': 2587, 'ferguson': 2588, '1894': 2589, 'producing': 2590, 'script': 2591, 'definite': 2592, 'turkey': 2593, 'contributors': 2594, 'lewis': 2595, 'patterns': 2596, 'formally': 2597, 'reunification': 2598, 'predominate': 2599, '2nd': 2600, '37': 2601, 'self': 2602, 'violinist': 2603, 'boyd': 2604, 'tinsley': 2605, 'antonio': 2606, 'stradivari': 2607, '24': 2608, 'pitched': 2609, 'fiddle': 2610, 'folk': 2611, 'theatre': 2612, 'plains': 2613, '1861': 2614, '1821': 2615, '1733': 2616, 'astronomy': 2617, 'reversed': 2618, 'abdomen': 2619, 'colorado': 2620, 'mouthparts': 2621, 'sides': 2622, 'heart': 2623, 'too': 2624, '1906': 2625, 'protestant': 2626, 'judaism': 2627, '1944': 2628, 'loons': 2629, 'divers': 2630, 'grebes': 2631, 'gallinules': 2632, 'coots': 2633, 'flat': 2634, 'kilograms': 2635, '22': 2636, '75': 2637, 'lynx': 2638, 'relatively': 2639, 'christmas': 2640, 'effectively': 2641, 'helps': 2642, 'shown': 2643, 'spring': 2644, 'sun': 2645, '16th': 2646, 'anti': 2647, '1825': 2648, 'hester': 2649, 'gouverneur': 2650, 'toward': 2651, 'margaret': 2652, 'miller': 2653, '1789': 2654, 'grey': 2655, 'rather': 2656, 'dynasty': 2657, 'shellfish': 2658, '30': 2659, '65': 2660, 'trapped': 2661, 'february': 2662, 'loss': 2663, '17': 2664, '2200': 2665, 'mites': 2666, 'parasites': 2667, 'carnegie': 2668, 'eleven': 2669, '56': 2670, 'rivers': 2671, 'tropical': 2672, 'gramercy': 2673, 'races': 2674, 'andrew': 2675, 'spherical': 2676, 'few': 2677, 'der': 2678, '1856': 2679, 'improved': 2680, '88': 2681, 'earns': 2682, 'partido': 2683, 'attended': 2684, '53': 2685, '189': 2686, 'bad': 2687, '1916': 2688, 'retired': 2689, 'diversity': 2690, 'denmark': 2691, 'infrastructure': 2692, 'grasslands': 2693, 'momentum': 2694, 'greenock': 2695, \"'mad\": 2696, \"jack'\": 2697, '2009': 2698, 'zebedee': 2699, 'gears': 2700, 'foretold': 2701, 'television': 2702, 'babylon': 2703, 'interview': 2704, 'vampire': 2705, 'alchemist': 2706, 'friday': 2707, 'night': 2708, 'lights': 2709, 'philippines': 2710, 'portugal': 2711, 'chronicle': 2712, 'bands': 2713, 'cygnets': 2714, 'ska': 2715, 'luthier': 2716, 'wood': 2717, '76': 2718, 'reichstag': 2719, '1936': 2720, 'produces': 2721, 'hanyu': 2722, 'inches': 2723, 'thousands': 2724, '1900': 2725, 'resonator': 2726, 'bamboo': 2727, 'ailuropoda': 2728, 'clear': 2729, 'westminster': 2730, 'abbey': 2731, 'hot': 2732, 'equatorial': 2733, 'copying': 2734, 'sculptures': 2735, 'sostenuto': 2736, 'flugelhorn': 2737, 'indefinite': 2738, 'equus': 2739, 'sixteenth': 2740, 'banking': 2741, '1863': 2742, 'pneumonia': 2743, 'tender': 2744, '1862': 2745, 'suggested': 2746, 'beard': 2747, 'gettysburg': 2748, 'beat': 2749, 'breckinridge': 2750, 'alton': 2751, 'sangamon': 2752, 'railroad': 2753, 'assassinated': 2754, 'antietam': 2755, 'emancipation': 2756, 'proclamation': 2757, 'scholars': 2758, 'schooling': 2759, 'photgraph': 2760, 'taken': 2761, 'trail': 2762, \"farmers'\": 2763, 'almanac': 2764, \"wife's\": 2765, 'phaenomenis': 2766, 'inde': 2767, 'pendentibus': 2768, \"volta's\": 2769, 'sulphuric': 2770, 'acid': 2771, 'notttt': 2772, 'realize': 2773, 'frog': 2774, 'detector': 2775, 'zinc': 2776, 'negative': 2777, 'positive': 2778, 'hwhat': 2779, 'electromotive': 2780, 'emf': 2781, 'galvanic': 2782, 'memoria': 2783, 'romano': 2784, 'carlo': 2785, '9th': 2786, 'noble': 2787, 'piedmont': 2788, 'confirm': 2789, 'sponsored': 2790, 'sardinian': 2791, 'plotters': 2792, 'organising': 2793, 'stopped': 2794, 'moment': 2795, 'concession': 2796, 'statute': 2797, 'unification': 2798, '0221415': 2799, 'chemists': 2800, 'exact': 2801, 'amounts': 2802, 'substances': 2803, '1833': 2804, '1738': 2805, 'agreement': 2806, 'data': 2807, '1730': 2808, '1745': 2809, 'insects': 2810, 'function': 2811, 'smell': 2812, 'colour': 2813, 'deceive': 2814, 'enemies': 2815, 'pest': 2816, 'differentiated': 2817, 'similarities': 2818, 'grasshoppers': 2819, 'pests': 2820, \"beetle's\": 2821, 'anatomy': 2822, 'uniform': 2823, 'sperm': 2824, 'transferred': 2825, 'adephaga': 2826, 'polyphaga': 2827, 'carrion': 2828, 'dung': 2829, 'shield': 2830, 'forewings': 2831, 'territorial': 2832, 'metamorphosis': 2833, 'oxygen': 2834, 'thriving': 2835, 'specimens': 2836, 'amateur': 2837, 'professional': 2838, 'collectors': 2839, 'organisations': 2840, 'facilitate': 2841, 'practitioners': 2842, 'habitats': 2843, 'fungi': 2844, 'ninth': 2845, 'drop': 2846, 'rapid': 2847, 'harlan': 2848, 'fiske': 2849, 'grandfather': 2850, 'offices': 2851, 'vegas': 2852, 'nomination': 2853, 'thrust': 2854, 'spotlight': 2855, 'elder': 2856, 'sr': 2857, 'sixth': 2858, 'voting': 2859, 'outspoken': 2860, 'emigrated': 2861, 'cambridge': 2862, 'retrieved': 2863, 'jj': 2864, 'vbg': 2865, 'visiting': 2866, 'whnp': 2867, 'wdt': 2868, 'rb': 2869, 'vb': 2870, 'cc': 2871, 'telephone': 2872, 'whadvp': 2873, 'wrb': 2874, 'pos': 2875, '364': 2876, 'justice': 2877, 'autobiography': 2878, '1929': 2879, 'syndicated': 2880, 'says': 2881, 'coolidges': 2882, 'allerton': 2883, 'diplomat': 2884, 'archibald': 2885, 'cary': 2886, 'branches': 2887, 'stayed': 2888, 'genius': 2889, 'convincing': 2890, 'proof': 2891, 'strength': 2892, 'tuberculosis': 2893, 'cede': 2894, '1763': 2895, 'oecd': 2896, 'zulu': 2897, 'port': 2898, 'samuel': 2899, 'champlain': 2900, 'consitution': 2901, 'bilingual': 2902, 'vimy': 2903, 'ridge': 2904, 'armed': 2905, 'inhabited': 2906, 'millennia': 2907, 'aboriginal': 2908, 'maps': 2909, 'referring': 2910, 'angered': 2911, 'thirteen': 2912, 'participation': 2913, 'adopt': 2914, 'lacrosse': 2915, 'ethnically': 2916, 'diverse': 2917, 'nova': 2918, 'scotia': 2919, 'utrecht': 2920, 'cartier': 2921, 'entire': 2922, 'donnacona': 2923, 'stadacona': 2924, 'settle': 2925, 'prairies': 2926, 'drake': 2927, 'quack': 2928, 'catch': 2929, 'attracts': 2930, 'humor': 2931, 'silliness': 2932, 'daffy': 2933, 'forage': 2934, 'foie': 2935, 'gras': 2936, \"mallard's\": 2937, 'tha': 2938, 'fast': 2939, 'fliers': 2940, 'ducklings': 2941, 'filter': 2942, 'beaks': 2943, 'conceptual': 2944, 'testing': 2945, 'computer': 2946, 'outlawed': 2947, 'poulation': 2948, 'akhenaten': 2949, 'pharaoh': 2950, 'policy': 2951, 'operates': 2952, 'moderate': 2953, 'sphinx': 2954, 'pyramids': 2955, 'giza': 2956, 'rhinoceros': 2957, \"'elephants\": 2958, \"forget'\": 2959, 'metaphorical': 2960, 'tough': 2961, 'gestation': 2962, 'brain': 2963, 'tusklessness': 2964, 'abnormality': 2965, 'treaties': 2966, '1947': 2967, '1948': 2968, 'baltic': 2969, 'finnic': 2970, 'subgroup': 2971, 'taloussanomat': 2972, 'conquered': 2973, '1809': 2974, 'xv': 2975, 'olympiad': 2976, 'subscriptions': 2977, 'matti': 2978, 'vanhanen': 2979, 'oslo': 2980, 'salmon': 2981, 'enthusiasts': 2982, 'cathedrals': 2983, 'scattered': 2984, \"reader's\": 2985, 'digest': 2986, 'verifiable': 2987, 'documents': 2988, 'extensively': 2989, 'holiday': 2990, 'proportion': 2991, 'conflict': 2992, 'concentrated': 2993, 'natively': 2994, 'jari': 2995, 'litmanen': 2996, 'sami': 2997, 'hyypiä': 2998, 'composed': 2999, 'finlandia': 3000, 'ceded': 3001, 'lunch': 3002, 'åland': 3003, 'compulsory': 3004, 'sporting': 3005, 'holidays': 3006, 'acts': 3007, 'accustomed': 3008, 'productive': 3009, 'composers': 3010, 'toivo': 3011, 'kärki': 3012, 'singer': 3013, 'olavi': 3014, 'virta': 3015, '1915': 3016, '1972': 3017, '79': 3018, 'duchy': 3019, 'sour': 3020, 'moves': 3021, 'restrict': 3022, 'suomen': 3023, 'tasavalta': 3024, 'republiken': 3025, 'protocol': 3026, 'parliamentary': 3027, 'epsilon': 3028, 'award': 3029, \"congressman's\": 3030, 'biological': 3031, 'nominate': 3032, 'affairs': 3033, 'assassination': 3034, 'f': 3035, 'kennedy': 3036, '38th': 3037, 'funeral': 3038, 'procession': 3039, 'future': 3040, 'heisman': 3041, 'trophy': 3042, 'tackle': 3043, 'extra': 3044, 'past': 3045, 'kwajalein': 3046, 'eniwetok': 3047, 'hospital': 3048, 'interred': 3049, 'warren': 3050, 'urge': 3051, 'bartel': 3052, 'j': 3053, 'jonkman': 3054, 'incumbent': 3055, 'nixon': 3056, 'resignation': 3057, 'poorer': 3058, 'elmina': 3059, 'achieve': 3060, 'kufuor': 3061, 'kwame': 3062, 'nkrumah': 3063, 'wagadugu': 3064, 'controlled': 3065, 'sundiata': 3066, '1240': 3067, 'absorbed': 3068, 'mali': 3069, 'anecdotal': 3070, 'expansion': 3071, 'unicameral': 3072, '4th': 3073, '13th': 3074, 'coastline': 3075, 'spending': 3076, 'sits': 3077, 'osu': 3078, 'niger': 3079, 'congo': 3080, 'started': 3081, 'multiple': 3082, '63': 3083, 'facts': 3084, 'retailers': 3085, 'taxable': 3086, '546': 3087, 'marginal': 3088, 'sales': 3089, 'account': 3090, 'vat': 3091, 'tend': 3092, 'darker': 3093, 'scent': 3094, 'glands': 3095, 'howl': 3096, \"wolf's\": 3097, 'teeth': 3098, 'stamina': 3099, 'molt': 3100, 'beneficial': 3101, 'alpha': 3102, 'forcefully': 3103, 'prevent': 3104, 'mating': 3105, 'tools': 3106, 'biologists': 3107, 'tagging': 3108, 'forward': 3109, 'erect': 3110, 'bristle': 3111, 'hackles': 3112, \"women's\": 3113, 'suffrage': 3114, 'counter': 3115, 'innocent': 3116, 'cancer': 3117, 'surgery': 3118, 'seventh': 3119, 'honest': 3120, 'whitehouse': 3121, 'erire': 3122, 'parents': 3123, 'agrarians': 3124, 'silverites': 3125, 'chicago': 3126, 'erie': 3127, 'portrait': 3128, '1000': 3129, 'bill': 3130, '1946': 3131, 'princeton': 3132, 'presbyterian': 3133, 'agreements': 3134, 'sedating': 3135, 'nitrous': 3136, 'oxide': 3137, 'laughing': 3138, 'remove': 3139, 'portions': 3140, 'palate': 3141, 'emission': 3142, 'radiation': 3143, 'académie': 3144, 'generations': 3145, 'scientists': 3146, 'discovering': 3147, 'croisic': 3148, 'piece': 3149, 'screen': 3150, 'pierce': 3151, 'bromide': 3152, 'emulsion': 3153, 'sheets': 3154, 'thick': 3155, 'monarchy': 3156, 'subsequent': 3157, 'secede': 3158, 'hightest': 3159, 'biodiversity': 3160, 'originally': 3161, 'attracted': 3162, 'europeans': 3163, 'papua': 3164, 'srivijaya': 3165, 'wilderness': 3166, 'spectator': 3167, 'illegal': 3168, 'gambling': 3169, 'pencak': 3170, 'silat': 3171, 'martial': 3172, 'eves': 3173, 'rumors': 3174, 'virgin': 3175, 'contemporaries': 3176, 'thoroughly': 3177, 'unhappy': 3178, 'saw': 3179, 'admirers': 3180, 'contained': 3181, 'agrees': 3182, 'quartered': 3183, 'dispute': 3184, 'discoveries': 3185, 'trees': 3186, 'claimed': 3187, 'tree': 3188, 'describes': 3189, 'uncover': 3190, 'anything': 3191, 'chaloner': 3192, 'doubt': 3193, 'concluding': 3194, 'remarks': 3195, 'entertain': 3196, 'storer': 3197, 'lodged': 3198, 'clarke': 3199, 'equal': 3200, 'opposite': 3201, 'monrow': 3202, \"daughter's\": 3203, 'feelings': 3204, \"monroe'\": 3205, 'wedding': 3206, 'behind': 3207, 'property': 3208, 'rejection': 3209, 'dwindled': 3210, 'hartford': 3211, 'fredericksburg': 3212, 'anticlerical': 3213, 'racked': 3214, 'debts': 3215, 'dismantled': 3216, 'partisan': 3217, 'sectional': 3218, 'coalitions': 3219, 'childbirth': 3220, '1772': 3221, 'commemorated': 3222, 'statuary': 3223, 'princes': 3224, 'fellow': 3225, 'shop': 3226, '22nd': 3227, 'hart': 3228, 'list': 3229, 'congregationalist': 3230, 'draft': 3231, 'bicameral': 3232, '1765': 3233, 'anderw': 3234, 'diary': 3235, \"1800''\": 3236, 'represented': 3237, 'ambassador': 3238, 'send': 3239, 'quoted': 3240, 'survives': 3241, 'housed': 3242, 'boston': 3243, 'bitter': 3244, 'volatile': 3245, 'expressing': 3246, 'extraordinary': 3247, 'fear': 3248, 'policies': 3249, '1764': 3250, 'reptile': 3251, 'coat': 3252, 'kangooroo': 3253, 'joeys': 3254, 'postnatal': 3255, 'crawl': 3256, 'bite': 3257, 'responsible': 3258, 'converting': 3259, 'hydrogen': 3260, 'byproduct': 3261, 'fermentation': 3262, 'acetate': 3263, 'fared': 3264, 'vehicles': 3265, 'isolated': 3266, 'fitted': 3267, 'herbivour': 3268, 'shy': 3269, 'locomotion': 3270, 'protect': 3271, 'vehicale': 3272, 'asked': 3273, 'nearby': 3274, 'wallabies': 3275, 'adept': 3276, 'virus': 3277, 'dazzled': 3278, 'headlights': 3279, 'startled': 3280, 'noise': 3281, 'leap': 3282, 'cars': 3283, 'collision': 3284, 'game': 3285, 'marn': 3286, 'grook': 3287, 'ball': 3288, 'kurnai': 3289, 'leaping': 3290, 'balance': 3291, 'macropodidae': 3292, 'macropods': 3293, 'pythons': 3294, 'mistaken': 3295, 'hybrid': 3296, 'resulting': 3297, 'puma': 3298, 'kills': 3299, 'naturalists': 3300, 'dark': 3301, 'colloquially': 3302, \"'big\": 3303, \"cats'\": 3304, 'distributed': 3305, 'cheetahs': 3306, 'resembles': 3307, 'similarly': 3308, 'sized': 3309, 'centred': 3310, 'sierra': 3311, 'zealand': 3312, 'rugby': 3313, 'otahuhu': 3314, 'then': 3315, 'tamaki': 3316, 'secret': 3317, 'practised': 3318, 'cannibalism': 3319, 'heritable': 3320, 'recessive': 3321, 'gene': 3322, 'locus': 3323, 'big': 3324, 'panther': 3325, 'felid': 3326, 'graceful': 3327, 'predator': 3328, 'leichtenstein': 3329, 'worked': 3330, \"county's\": 3331, 'prosecuting': 3332, 'laundering': 3333, 'administers': 3334, \"leichtenstein's\": 3335, 'urbanized': 3336, 'doubly': 3337, 'landlocked': 3338, 'adopted': 3339, 'oberland': 3340, 'savings': 3341, 'bank': 3342, 'cotton': 3343, 'weaving': 3344, 'mill': 3345, 'enjoys': 3346, 'standards': 3347, 'recognizable': 3348, 'employer': 3349, 'principality': 3350, 'heliport': 3351, 'balzers': 3352, 'helicopter': 3353, 'flights': 3354, 'nationals': 3355, 'liechtensteiners': 3356, 'haven': 3357, 'moravia': 3358, 'silesia': 3359, 'styria': 3360, 'fief': 3361, 'senior': 3362, 'feudal': 3363, 'lords': 3364, 'webster': 3365, 'arrival': 3366, 'louis': 3367, 'kossuth': 3368, 'exiled': 3369, 'p': 3370, 'effects': 3371, 'stroke': 3372, 'got': 3373, 'seward': 3374, 'senate': 3375, 'commodore': 3376, 'matthew': 3377, 'perry': 3378, 'remarkable': 3379, 'partnership': 3380, 'caroline': 3381, 'mcintosh': 3382, 'disagree': 3383, 'ascend': 3384, 'clay': 3385, '1848': 3386, 'apprenticed': 3387, 'cloth': 3388, 'founders': 3389, 'objective': 3390, 'preserve': 3391, 'intensifying': 3392, 'debate': 3393, 'chancellor': 3394, 'maintained': 3395, 'indentured': 3396, 'comic': 3397, 'mallard': 3398, 'explaining': 3399, 'neither': 3400, 'attainment': 3401, 'justify': 3402, 'storm': 3403, 'smiljan': 3404, 'gospić': 3405, 'lika': 3406, 'croatian': 3407, 'krajina': 3408, 'croatia': 3409, 'films': 3410, 'theatrical': 3411, 'staged': 3412, 'challenges': 3413, 'establishing': 3414, 'derive': 3415, 'drives': 3416, 'herbivores': 3417, 'becoming': 3418, 'keeps': 3419, 'romp': 3420, 'myth': 3421, 'ransom': 3422, 'volsunga': 3423, 'saga': 3424, 'bitches': 3425, 'babies': 3426, 'supplemented': 3427, 'frogs': 3428, 'crayfish': 3429, 'crabs': 3430, 'krill': 3431, 'exclusively': 3432, 'tobogganing': 3433, 'afraid': 3434, 'isabelline': 3435, 'waterbirds': 3436, 'tobaggan': 3437, 'antarctic': 3438, 'told': 3439, 'useless': 3440, 'mothers': 3441, 'astonishingly': 3442, 'comes': 3443, 'pinguis': 3444, 'dive': 3445, 'gigantic': 3446, 'palaeeudyptines': 3447, 'constitute': 3448, 'monophyletic': 3449, 'lineage': 3450, 'gigantism': 3451, 'evolved': 3452, 'independently': 3453, 'palaeeudyptinae': 3454, 'anthropornithinae': 3455, 'aptenodytes': 3456, 'forsteri': 3457, 'km': 3458, 'equator': 3459, '35': 3460, 'mya': 3461, 'fossil': 3462, 'dna': 3463, 'tell': 3464, 'provide': 3465, 'pregnancy': 3466, 'lengthy': 3467, 'greenpeace': 3468, 'resources': 3469, 'mascot': 3470, 'bowdoin': 3471, 'thumbpolar': 3472, 'mitchell': 3473, 'nunavut': 3474, 'manager': 3475, 'arguing': 3476, 'awakening': 3477, 'eighth': 3478, 'richest': 3479, 'legally': 3480, 'drive': 3481, 'suicide': 3482, 'teacher': 3483, \"'cutter'\": 3484, 'universities': 3485, 'carried': 3486, 'tacit': 3487, 'recognition': 3488, 'bahrain': 3489, 'sovereign': 3490, 'consists': 3491, 'barren': 3492, 'arabia': 3493, 'launching': 3494, 'sites': 3495, 'choose': 3496, 'negotiator': 3497, 'entrepreneur': 3498, 'muhammed': 3499, 'bin': 3500, 'thani': 3501, 'probably': 3502, 'backbone': 3503, 'perspective': 3504, 'strengthen': 3505, 'economies': 3506, 'transliterated': 3507, 'dawlat': 3508, 'emirate': 3509, 'hungary': 3510, 'counties': 3511, 'roma': 3512, 'neutrality': 3513, 'moldova': 3514, 'gymnast': 3515, 'score': 3516, 'bigger': 3517, \"doesn't\": 3518, 'neutral': 3519, 'sibiu': 3520, 'transylvania': 3521, 'nicknamed': 3522, \"anina''\": 3523, '698': 3524, '181': 3525, 'tourism': 3526, 'attract': 3527, 'executive': 3528, 'functions': 3529, 'gellu': 3530, 'naum': 3531, 'surrealist': 3532, '1979': 3533, 'singaporeans': 3534, 'squid': 3535, 'media': 3536, 'contribute': 3537, 'bus': 3538, 'mrt': 3539, \"media's\": 3540, 'imperial': 3541, 'penisula': 3542, 'nila': 3543, 'utama': 3544, 'singa': 3545, 'invaded': 3546, 'churchill': 3547, 'singapor': 3548, 'janpan': 3549, \"britain's\": 3550, 'defeat': 3551, 'successful': 3552, 'succeed': 3553, 'orchid': 3554, 'garden': 3555, 'stamford': 3556, 'raffles': 3557, 'route': 3558, 'commercial': 3559, 'centres': 3560, 'boasted': 3561, 'sizeable': 3562, '1869': 3563, 'disputes': 3564, 'changi': 3565, '81': 3566, 'airlines': 3567, 'connecting': 3568, '185': 3569, '58': 3570, 'catchment': 3571, 'urbanization': 3572, 'eliminated': 3573, 'bukit': 3574, 'timah': 3575, 'nature': 3576, 'refining': 3577, 'manufacturing': 3578, '17th': 3579, 'wealthiest': 3580, 'thedore': 3581, 'physical': 3582, 'boxing': 3583, 'lessons': 3584, 'nickname': 3585, 'supporting': 3586, 'inviting': 3587, 'brooker': 3588, 'dinner': 3589, 'judo': 3590, 'biology': 3591, 'fund': 3592, 'safari': 3593, 'racial': 3594, 'integration': 3595, 'care': 3596, 'pets': 3597, 'larest': 3598, 'reproduce': 3599, 'sandy': 3600, 'beaches': 3601, 'flying': 3602, 'spaghetti': 3603, 'monster': 3604, 'suborders': 3605, 'popularly': 3606, 'pet': 3607, 'articles': 3608, 'hatch': 3609, 'turles': 3610, 'leathery': 3611, 'soft': 3612, 'examined': 3613, 'preared': 3614, 'incubate': 3615, 'deposited': 3616, 'respiration': 3617, 'freshwater': 3618, 'projections': 3619, 'researchers': 3620, 'examining': 3621, 'breeding': 3622, 'immature': 3623, 'cared': 3624, 'champion': 3625, 'damn': 3626, 'batte': 3627, 'horace': 3628, 'greenley': 3629, 'unjust': 3630, 'achieved': 3631, 'leading': 3632, 'line': 3633, 'violence': 3634, 'ku': 3635, 'klux': 3636, 'klan': 3637, 'buchanan': 3638, 'regular': 3639, 'pennsylvania': 3640, 'caught': 3641, 'essence': 3642, 'brand': 3643, 'whiskey': 3644, 'crow': 3645, 'sporadically': 3646, 'perkins': 3647, 'harnesses': 3648, 'saddles': 3649, 'leather': 3650, 'purchase': 3651, 'farmers': 3652, 'prosperous': 3653, 'galena': 3654, 'entrance': 3655, 'corner': 3656, 'bush': 3657, '1865': 3658, 'northwesten': 3659, 'summers': 3660, 'neighborhoods': 3661, 'mountainous': 3662, 'uruguayans': 3663, 'citizens': 3664, 'kilometres': 3665, 'descent': 3666, 'woman': 3667, 'recognize': 3668, 'sex': 3669, 'unions': 3670, 'warmest': 3671, 'month': 3672, 'competitive': 3673, 'parties': 3674, 'soverign': 3675, 'meanings': 3676, '1828': 3677, 'temperate': 3678, 'cairns': 3679, 'exporters': 3680, 'products': 3681, 'suriname': 3682, 'constitutional': 3683, 'democracy': 3684, 'fulfills': 3685, 'roles': 3686, 'thirtieth': 3687, 'finished': 3688, 'ask': 3689, 'damaging': 3690, 'psi': 3691, 'automobile': 3692, 'enthusiast': 3693, \"wilson's\": 3694, 'scots': 3695, 'defended': 3696, 'owned': 3697, 'sunday': 3698, 'awarded': 3699, 'peace': 3700, 'remarkably': 3701, 'writer': 3702, 'thinker': 3703, 'columbia': 3704, '1910': 3705, 'ballot': 3706, 'palmer': 3707, 'democrats': 3708, 'tariffs': 3709, 'beginning': 3710, 'trying': 3711, 'staunch': 3712, 'antisemitism': 3713, 'sympathetic': 3714, 'plight': 3715, 'poland': 3716, 'pittsburgh': 3717, 'disadvantage': 3718, 'unsafe': 3719, 'handle': 3720, \"napoleon's\": 3721, 'lira': 3722, 'banknote': 3723, 'euro': 3724, 'ruled': 3725, 'copley': 3726, 'individual': 3727, 'submit': 3728, 'poem': 3729, 'essay': 3730, 'determining': 3731, 'molecules': 3732, 'aurora': 3733, 'borealis': 3734, 'whad': 3735, 'persistent': 3736, 'degrees': 3737, 'halfway': 3738, \"celsius'\": 3739, '316': 3740, 'calligraphers': 3741, 'esteem': 3742, 'arabs': 3743, 'qur': 3744, 'grammatically': 3745, 'substantial': 3746, 'declines': 3747, 'bumblebee': 3748, 'cleptoparasitic': 3749, 'vespoid': 3750, 'wasps': 3751, 'foraging': 3752, 'caves': 3753, 'bone': 3754, 'zhoukoudian': 3755, 'fangshan': 3756, 'hutongs': 3757, 'disappearing': 3758, 'olympic': 3759, 'shi': 3760, 'rebellion': 3761, 'launched': 3762, '1949': 3763, 'yuan': 3764, 'shikai': 3765, 'pollution': 3766, '1st': 3767, 'trains': 3768, 'imparting': 3769, 'physician': 3770, 'eldest': 3771, 'sibling': 3772, 'aside': 3773, \"letters'\": 3774, 'continual': 3775, 'bowed': 3776, 'purfling': 3777, 'decoration': 3778, 'z': 3779, 'points': 3780, '“basso': 3781, 'performances': 3782, 'rihanna': 3783, 'glue': 3784, 'abbreviation': 3785, 'purling': 3786, 'educational': 3787, 'manufacturer': 3788, 'buy': 3789, 'institute': 3790, 'find': 3791, 'charges': 3792, 'poles': 3793, 'intendant': 3794, 'fontaine': 3795, 'investigation': 3796, 'friction': 3797, 'inverse': 3798, 'multisyllabic': 3799, 'wholly': 3800, 'uninflected': 3801, 'hanja': 3802, 'discontinued': 3803, 'hã¡n': 3804, 'success': 3805, 'transcription': 3806, 'idea': 3807, 'identity': 3808, 'fragmentary': 3809, 'disunified': 3810, 'looked': 3811, 'culturally': 3812, 'provocative': 3813, 'morphemes': 3814, 'guangzhou': 3815, 'taiwanese': 3816, 'subdivisions': 3817, '850': 3818, 'transnational': 3819, 'hub': 3820, '1251': 3821, '1255': 3822, 'surrounded': 3823, 'bacchanal': 3824, 'moden': 3825, 'hit': 3826, 'hat': 3827, 'germanic': 3828, 'mythical': 3829, 'technically': 3830, 'buriganga': 3831, '1970': 3832, 'bhola': 3833, 'cyclone': 3834, 'mughals': 3835, 'intonation': 3836, 'jure': 3837, 'minimal': 3838, 'inflection': 3839, 'magazines': 3840, 'syntax': 3841, 'semantics': 3842, 'false': 3843, 'here': 3844, 'unstressed': 3845, 'navy': 3846, 'ships': 3847, 'activities': 3848, 'version': 3849, 'ends': 3850, 'tin': 3851, 'wary': 3852, 'reptiles': 3853, 'damage': 3854, 'farms': 3855, 'francophone': 3856, 'catalan': 3857, 'vingts': 3858, 'lebanese': 3859, 'purposes': 3860, 'wallonia': 3861, 'prefixes': 3862, 'em': 3863, 'nasalized': 3864, 'recognised': 3865, 'flemish': 3866, 'facilities': 3867, 'palatal': 3868, 'nasal': 3869, 'initial': 3870, 'inflected': 3871, 'ãÿ': 3872, 'orders': 3873, 'feminines': 3874, 'tz': 3875, 'preceding': 3876, '622': 3877, '650': 3878, 'bundeslã¤nder': 3879, 'accept': 3880, 'rhine': 3881, 'westphalia': 3882, 'bavaria': 3883, 'adverbs': 3884, 'predicate': 3885, 'sexes': 3886, 'clean': 3887, 'bugs': 3888, 'face': 3889, 'taller': 3890, 'discoverers': 3891, \"d'histoire\": 3892, 'intentionally': 3893, 'musum': 3894, 'histoire': 3895, 'acadã©mie': 3896, 'â€¦': 3897, 'conclude': 3898, 'emits': 3899, 'rays': 3900, 'pass': 3901, 'opaque': 3902, 'reduces': 3903, 'silver': 3904, 'salts': 3905, 'havard': 3906, 'refraction': 3907, 'explain': 3908, 'interaction': 3909, 'stirred': 3910, 'alchemy': 3911, 'geminate': 3912, 'plosives': 3913, 'realised': 3914, 'lengthened': 3915, 'closures': 3916, 'silent': 3917, 'hear': 3918, 'istã\\xa0nbul': 3919, 'ãœstanbul': 3920, 'pronounced': 3921, 'separately': 3922, 'factors': 3923, 'openness': 3924, 'dictionaries': 3925, 'latter': 3926, 'alternative': 3927, 'adulthood': 3928, \"murray's\": 3929, 'historiometry': 3930, 'lodon': 3931, 'comment': 3932, 'circumstances': 3933, 'complicated': 3934, 'conception': 3935, 'counterpart': 3936, 'employ': 3937, 'politeness': 3938, 'kagoshima': 3939, 'situations': 3940, 'requiring': 3941, 'emphasis': 3942, 'please': 3943, 'inflections': 3944, 'honorific': 3945, 'actions': 3946, 'thus': 3947, 'polite': 3948, 'presumptuous': 3949, 'verbatim': 3950, 'acceptable': 3951, 'normal': 3952, 'our': 3953, 'volleyball': 3954, 'venues': 3955, 'colectivo': 3956, 'marcos': 3957, 'megaport': 3958, 'project': 3959, 'profitable': 3960, 'pizarro': 3961, \"london's\": 3962, 'draw': 3963, 'caunte': 3964, 'throne': 3965, 'unite': 3966, 'wars': 3967, 'affect': 3968, 'mordern': 3969, 'still': 3970, 'fingerboard': 3971, 'plectrum': 3972, 'devout': 3973, 'coach': 3974, 'ancestor': 3975, 'power': 3976, 'generators': 3977, 'lecture': 3978, '1854': 3979, 'extensive': 3980, 'historians': 3981, 'sponsor': 3982, 'laboratories': 3983, 'raise': 3984, 'ethical': 3985, 'attending': 3986, 'synthesis': 3987, 'carbon': 3988, 'chlorine': 3989, 'foul': 3990, 'thames': 3991, 'resulted': 3992, 'oft': 3993, 'reprinted': 3994, 'punch': 3995, 'properties': 3996, 'colloids': 3997, 'differed': 3998, 'bulk': 3999, 'assistant': 4000, 'davy': 4001, 'hampton': 4002, 'motor': 4003, 'operation': 4004, 'fulton': 4005, 'coliseum': 4006, 'dead': 4007, 'fighting': 4008, 'modeled': 4009, 'base': 4010, 'hired': 4011, 'demonstrate': 4012, 'wireless': 4013, 'radio': 4014, 'flux': 4015, 'density': 4016, 'mad': 4017, 'scientist': 4018, 'currents': 4019, 'sit': 4020, 'ottowa': 4021, 'tremors': 4022, 'junior': 4023, 'athletic': 4024, 'teams': 4025, 'colder': 4026, 'cholera': 4027, 'townships': 4028, '1850': 4029, 'tremor': 4030, 'discussions': 4031, 'oc': 4032, 'transpo': 4033, 'sto': 4034, 'transitway': 4035, 'networks': 4036, 'linking': 4037, 'gatineau': 4038, 'claws': 4039, 'depletion': 4040, 'whales': 4041, 'badger': 4042, 'indie': 4043, 'stories': 4044, 'santo': 4045, 'iago': 4046, 'regionalism': 4047, 'green': 4048, 'deeper': 4049, 'predominant': 4050, 'asterisk': 4051, 'lexical': 4052, 'similarity': 4053, 'universidad': 4054, 'mã©xico': 4055, 'instituto': 4056, 'cervantes': 4057, 'pasan': 4058, 'consecuencia': 4059, 'palabras': 4060, 'comienzan': 4061, 'por': 4062, 'estas': 4063, 'dos': 4064, 'letras': 4065, 'o': 4066, 'contienen': 4067, 'alfabetizarse': 4068, 'los': 4069, 'lugares': 4070, 'corresponden': 4071, 'dentro': 4072, 'l': 4073, 'respectivamente': 4074, 'amount': 4075, 'interlingual': 4076, 'reading': 4077, 'comprehension': 4078, 'oral': 4079, 'interterritorial': 4080, 'conference': 4081, 'mombasa': 4082, 'rulers': 4083, 'zanzibar': 4084, 'expeditions': 4085, 'rift': 4086, 'arrange': 4087, 'writers': 4088, 'aspirated': 4089, 'key': 4090, 'step': 4091, 'spreading': 4092, 'somali': 4093, 'swim': 4094, 'lir': 4095, 'bonny': 4096, 'polish': 4097, 'ballet': 4098, 'pyotr': 4099, 'tchaikovsky': 4100, 'partially': 4101, 'princess': 4102, 'turned': 4103, 'strongly': 4104, 'mythology': 4105, 'story': 4106, 'felidar': 4107, \"tigers'\": 4108, 'powerfully': 4109, 'shoulders': 4110, 'crocodile': 4111, 'mate': 4112, 'needed': 4113, 'feedon': 4114, 'mice': 4115, 'predecessors': 4116, 'valves': 4117, 'plastron': 4118, \"turtle's\": 4119, 'broken': 4120, 'layed': 4121, 'soup': 4122, 'superorder': 4123, 'chelonia': 4124, 'chelonian': 4125, 'approximate': 4126, 'violinists': 4127, 'fiddlers': 4128, 'thing': 4129, 'violas': 4130, 'whate': 4131, 'usual': 4132, 'rosewood': 4133, 'precursor': 4134, 'mallets': 4135, 'vibraphones': 4136, 'exist': 4137, 'popularize': 4138, 'improving': 4139, 'popularizing': 4140, 'someplace': 4141, 'volta\\x01s': 4142, 'temple': 4143, 'shore': 4144, 'instruction': 4145, 'showed': 4146, 'dilute': 4147, 'solutions': 4148, 'hailed': 4149, 'atomic': 4150, 'calculate': 4151, 'entities': 4152, 'mole': 4153, \"ant's\": 4154, 'sensory': 4155, 'fertile': 4156, 'tramp': 4157, 'abroad': 4158, 'meats': 4159, 'gives': 4160, 'bull': 4161, 'sight': 4162, 'antartica': 4163, 'ultraviolet': 4164, 'vision': 4165, '1881': 4166, 'thrive': 4167, 'ecosystems': 4168, 'earth\\x01s': 4169, 'caterpillars': 4170, 'vibrations': 4171, 'wasp': 4172, 'cretaceous': 4173, '130': 4174, 'diversified': 4175, 'rise': 4176, 'flowering': 4177, 'fashion': 4178, 'alongside': 4179, 'calligraphy': 4180, 'hassaniya': 4181, 'mauritania': 4182, 'academies': 4183, 'genre': 4184, 'remodel': 4185, 'shifting': 4186, 'cycloid': 4187, '1658': 4188, 'programming': 4189, 'crowds': 4190, 'believers': 4191, 'kiss': 4192, 'thorn': 4193, 'acclaimed': 4194, 'miracle': 4195, 'desargues': 4196, 'conic': 4197, 'morning': 4198, 'prodigy': 4199, 'applied': 4200, 'mechanical': 4201, 'calculators': 4202, 'fluids': 4203, 'clarified': 4204, 'concepts': 4205, 'vacuum': 4206, 'generalizing': 4207, 'evangelista': 4208, 'torricelli': 4209, 'wing': 4210, 'biologist': 4211, 'rochelle': 4212, 'resistance': 4213, 'masonries': 4214, 'montpeillier': 4215, 'collège': 4216, '1785': 4217, 'pursue': 4218, 'return': 4219, 'pioneer': 4220, 'prestigious': 4221, 'collge': 4222, 'angoulme\\x01': 4223, 'tonal': 4224, 'analytical': 4225, 'ketchup': 4226, 'minnan': 4227, '39853': 4228, '27713': 4229, 'koe': 4230, 'tsiap': 4231, 'huayu': 4232, 'definitions': 4233, 'zhonghua': 4234, 'zihai': 4235, '20013': 4236, '21326': 4237, '23383': 4238, '28023': 4239, 'prc': 4240, 'amongst': 4241, 'workers': 4242, 'linguistically': 4243, '24403': 4244, '30070': 4245, '“lunchbox': 4246, 'boxed': 4247, 'lunch”': 4248, 'bento': 4249, '26009': 4250, '29702': 4251, '“prepared': 4252, 'cuisine”': 4253, 'loan': 4254, 'disc': 4255, 'timber': 4256, 'cimbals': 4257, 'bow': 4258, 'nymphs': 4259, 'hunt': 4260, 'sinister': 4261, 'directions': 4262, 'propel': 4263, 'hobby': 4264, 'damselflies': 4265, 'claims': 4266, 'trolls': 4267, 'poke': 4268, \"enemies'\": 4269, 'exposure': 4270, 'larva': 4271, 'breathing': 4272, 'multifaceted': 4273, 'elongated': 4274, 'purpose': 4275, 'aburukuwa': 4276, 'factor': 4277, 'affecting': 4278, 'drummers': 4279, 'drumheads': 4280, 'whare': 4281, 'wires': 4282, 'christ': 4283, 'membranes': 4284, 'diatonic': 4285, 'chromatically': 4286, 'recently': 4287, 'rods': 4288, 'membrane': 4289, 'stretched': 4290, 'struck': 4291, 'implement': 4292, 'drumstick': 4293, 'techniques': 4294, 'thumb': 4295, \"roll''\": 4296, 'toxic': 4297, 'fresh': 4298, 'characteristic': 4299, 'kven': 4300, 'classification': 4301, 'book': 4302, 'transverse': 4303, 'ended': 4304, 'brighter': 4305, 'timbres': 4306, 'simpler': 4307, 'police': 4308, 'dated': 4309, 'appearing': 4310, 'chi': 4311, 'fashioned': 4312, \"china's\": 4313, 'emblem': 4314, 'hibernate': 4315, 'foods': 4316, 'diplomacy': 4317, \"panda's\": 4318, 'sequenced': 4319, 'acoustic': 4320, 'battente': 4321, 'flamenco': 4322, 'repaired': 4323, 'coil': 4324, 'pickups': 4325, 'picks': 4326, 'sizes': 4327, 'believe': 4328, 'representation': 4329, 'intrument': 4330, 'bolted': 4331, 'glued': 4332, 'école': 4333, 'ponts': 4334, 'chaussées': 4335, 'craters': 4336, 'bequerel': 4337, 'credit': 4338, 'calculus': 4339, 'generalized': 4340, 'binomial': 4341, 'theorem': 4342, 'occult': 4343, 'views': 4344, 'consistent': 4345, 'anglicanism': 4346, 'practical': 4347, 'reflecting': 4348, \"king's\": 4349, 'schol': 4350, 'grantham': 4351, 'principia': 4352, 'clues': 4353, 'gravity': 4354, 'krasner': 4355, 'artwork': 4356, 'notoriety': 4357, 'wisma': 4358, 'ciliwung': 4359, 'monas': 4360, 'mikrolets': 4361, 'contributes': 4362, 'purnawarman': 4363, 'sunda': 4364, 'pura': 4365, '1602': 4366, \"company's\": 4367, 'voyage': 4368, 'commanded': 4369, 'aceh': 4370, 'sailed': 4371, 'banten': 4372, \"jayawikarta's\": 4373, 'indianized': 4374, 'tarumanagara': 4375, 'landmarks': 4376, 'istiqlal': 4377, 'mosque': 4378, \"country's\": 4379, 'job': 4380, 'memorial': 4381, 'lunar': 4382, 'cousin': 4383, 'agnes': 4384, 'guild': 4385, 'hammermen': 4386, 'mathematical': 4387, 'slow': 4388, 'metabolism': 4389, 'fill': 4390, 'coastal': 4391, 'adelaide': 4392, 'goryeo': 4393, 'translation': 4394, 'misleadingly': 4395, 'loanwords': 4396, 'numbers': 4397, 'columns': 4398, 'jeong': 4399, 'jae': 4400, 'capitol': 4401, 'selangor': 4402, 'occupied': 4403, 'colonial': 4404, 'buildings': 4405, 'formula': 4406, 'championship': 4407, 'proximity': 4408, 'pertama': 4409, 'complex': 4410, 'industrialized': 4411, 'seats': 4412, 'worlds': 4413, 'riders': 4414, 'valued': 4415, 'baldassare': 4416, 'castiglione': 4417, 'author': 4418, 'il': 4419, 'cortegiano': 4420, 'courtier': 4421, 'venice': 4422, 'botticelli\\x01': 4423, 'archetype': 4424, 'unquenchable': 4425, 'curiosity': 4426, 'equaled': 4427, 'diversely': 4428, 'talented': 4429, 'historian': 4430, 'helen': 4431, 'gardner': 4432, 'scope': 4433, 'depth': 4434, 'precedent': 4435, 'personality': 4436, 'seem': 4437, 'superhuman': 4438, 'mysterious': 4439, \"remote''\": 4440, 'kosher': 4441, 'mercury': 4442, 'pain': 4443, 'moche': 4444, 'worship': 4445, 'caridoid': 4446, 'escape': 4447, 'recitations': 4448, 'greeks': 4449, 'hollow': 4450, 'constellation': 4451, 'resemble': 4452, 'extending': 4453, 'deepest': 4454, 'fewer': 4455, 'originated': 4456, 'negation': 4457, 'understand': 4458, 'austronesia': 4459, 'malays': 4460, \"australia's\": 4461, 'student': 4462, 'declared': 4463, 'visit': 4464, 'holds': 4465, 'kinematics': 4466, 'environmental': 4467, '1824': 4468, \"faraday's\": 4469, 'advise': 4470, 'crimean': 4471, 'maritime': 4472, 'reside': 4473, 'charged': 4474, 'homosexual': 4475, 'filippo': 4476, 'strozzi': 4477, 'michelangelo\\x01s': 4478, 'francesca': 4479, 'neri': 4480, 'miniato': 4481, 'siena': 4482, 'renowned': 4483, \"michelangelo's\": 4484, 'prodigious': 4485, 'incorporated': 4486, 'climatic': 4487, 'merged': 4488, 'resided': 4489, '1849': 4490, 'decorations': 4491, 'mount': 4492, \"park's\": 4493, 'wooden': 4494, 'designer': 4495, 'follows': 4496, 'milion': 4497, 'bombed': 4498, 'civilians': 4499, 'nse': 4500, 'interim': 4501, 'authority': 4502, \"nairobi''\": 4503, 'maasai': 4504, 'enkare': 4505, 'nyirobi': 4506, 'translates': 4507, 'cool': 4508, \"waters''\": 4509, 'illiterate': 4510, 'monument': 4511, 'niagara': 4512, 'falls': 4513, 'patent': 4514, 'consequently': 4515, 'serious': 4516, 'regard': 4517, 'bourgeois': 4518, 'kitsch': 4519, 'look': 4520, 'irene': 4521, \"o'connor\": 4522, 'residence': 4523, 'otis': 4524, 'covers': 4525, '47': 4526, 'appeal': 4527, 'illustrations': 4528, 'everyday': 4529, 'scenarios': 4530, 'decades': 4531, \"rockwell's\": 4532, 'willie': 4533, 'gillis': 4534, 'riveter': 4535, 'reproduced': 4536, 'saying': 4537, '1951': 4538, 'freedoms': 4539, 'bsa': 4540, 'lifespans': 4541, 'intelligent': 4542, 'arm': 4543, 'hectocotylus': 4544, 'insert': 4545, 'spermatophores': 4546, 'mediterranean': 4547, 'reserved': 4548, 'consumed': 4549, '1838': 4550, 'finding': 4551, 'lover': 4552, 'roque': 4553, 'trip': 4554, 'comprehensive': 4555, 'records': 4556, 'movie': 4557, 'anthony': 4558, 'hopkins': 4559, 'copyright': 4560, 'administration': 4561, 'founding': 4562, 'embodied': 4563, 'demoiselles': 4564, \"d'avignon\": 4565, '1907': 4566, '1937': 4567, 'portrayal': 4568, 'bartolomeo': 4569, 'cristofori': 4570, 'sustain': 4571, \"berlin's\": 4572, 'advantageous': 4573, 'massive': 4574, 'perpendicular': 4575, '1876': 4576, 'dance': 4577, 'moulin': 4578, 'galette': 4579, 'limoges\\x01': 4580, 'vienne\\x01': 4581, 'sold': 4582, 'us0': 4583, 'celebrator': 4584, 'beauty': 4585, 'sensuality': 4586, 'rubens': 4587, \"watteau''\": 4588, 'limoges': 4589, 'vienne': 4590, 'porcelain': 4591, 'drawing': 4592, 'talents': 4593, 'fine': 4594, 'roots': 4595, 'communities': 4596, 'requirements': 4597, 'apply': 4598, 'membership': 4599, 'cplp': 4600, '2050': 4601, 'arriving': 4602, 'alveolar': 4603, 'postalveolars': 4604, 'organizations': 4605, 'romanized': 4606, 'pre': 4607, 'iberian': 4608, 'namely': 4609, 'gallaeci': 4610, 'lusitanians': 4611, 'celtici': 4612, 'conii': 4613, 'exclusive': 4614, 'apostle': 4615, 'terrain': 4616, 'artificially': 4617, 'fireworks': 4618, 'celebrating': 4619, 'urban': 4620, \"russia's\": 4621, 'foundry': 4622, 'crime': 4623, 'premiered': 4624, 'equestrianism': 4625, 'tsars': 4626, 'aristocracy': 4627, 'leadership': 4628, 'conductors': 4629, 'yevgeny': 4630, 'mravinsky': 4631, 'yuri': 4632, 'temirkanov': 4633, 'longest': 4634, 'destructive': 4635, 'lethal': 4636, 'sieges': 4637, '1991': 4638, 'tsar': 4639, '1703': 4640, '1713': 4641, '1728': 4642, '1732': 4643, 'franciscio': 4644, 'franscico': 4645, 'parks': 4646, 'businesses': 4647, 'fransisco': 4648, '1855': 4649, \"california's\": 4650, 'circulated': 4651, 'destinations': 4652, 'conventions': 4653, 'conferences': 4654, 'manages': 4655, 'crissy': 4656, 'airfield': 4657, 'prompted': 4658, 'upgrade': 4659, 'codes': 4660, 'hispanic': 4661, 'whites': 4662, 'comprise': 4663, 'plan': 4664, 'expanded': 4665, 'acre': 4666, 'beta': 4667, 'consolidated': 4668, 'encompass': 4669, 'transportation': 4670, 'seize': 4671, 'norse': 4672, 'participle': 4673, 'reported': 4674, 'swedes': 4675, 'estonia': 4676, 'counterbalance': 4677, 'absence': 4678, 'annual': 4679, 'festivals': 4680, 'typhoon': 4681, 'sets': 4682, 'chromatic': 4683, 'guarded': 4684, 'pocket': 4685, 'dizzy': 4686, 'gillespie': 4687, 'augmented': 4688, 'valve': 4689, 'accurately': 4690, 'nineteen': 4691, 'breeze': 4692, \"eazy'\": 4693, 'teach': 4694, 'mouthpiece': 4695, \"buzzing''\": 4696, 'starts': 4697, 'wave': 4698, 'ottoman': 4699, 'replaced': 4700, 'variant': 4701, 'alter': 4702, 'importance': 4703, 'orkhon': 4704, 'inscriptions': 4705, 'introduction': 4706, 'absolute': 4707, 'nominative': 4708, 'exception': 4709, 'coin': 4710, 'consonant': 4711, 'clusters': 4712, 'frequented': 4713, 'russell': 4714, 'annotated': 4715, '1913': 4716, 'theo\\x01s': 4717, 'widow': 4718, 'johanna': 4719, 'bonger': 4720, 'kee': 4721, 'anxiety': 4722, 'mental': 4723, 'illness': 4724, 'unknown': 4725, 'inflicted': 4726, 'gunshot': 4727, 'wound': 4728, 'appreciated': 4729, \"history's\": 4730, 'contributor': 4731, 'foundations': 4732, 'hourglass': 4733, 'repairs': 4734, 'voice': 4735, '1980s': 4736, 'ix': 4737, 'amati': 4738, 'integer': 4739, 'division': 4740, 'tuning': 4741, \"violin''\": 4742, \"instrument''\": 4743, 'xylophonese': 4744, 'xylophonists': 4745, 'artifacts': 4746, '1920s': 4747, 'xylon': 4748, 'reached': 4749, 'crusades': 4750, 'bali': 4751, 'versions': 4752, 'resonators': 4753, 'usage': 4754, 'kelon': 4755, 'quality': 4756, 'interbreed': 4757, 'crossed': 4758, \"grevy's\": 4759, 'bedell': 4760, 'hardin': 4761, 'wilkes': 4762, 'booth': 4763, 'mcclellan': 4764, 'recalled': 4765, 'thorax': 4766, 'mimicry': 4767, 'darkened': 4768, 'chewing': 4769, 'spiracles': 4770, 'generalists': 4771, 'eating': 4772, 'specialised': 4773, 'pairing': 4774, 'obtained': 4775, 'via': 4776, 'tracheal': 4777, 'roaring': 4778, 'twenties': 4779, 'northampton': 4780, 'gamma': 4781, 'expensive': 4782, 'suez': 4783, 'crisis': 4784, '1956': 4785, 'lester': 4786, 'pearson': 4787, 'eased': 4788, 'tensions': 4789, 'proposing': 4790, 'inception': 4791, 'missions': 4792, 'effort': 4793, 'federation': 4794, 'comprising': 4795, 'lowest': 4796, 'alberta': 4797, 'newfoundland': 4798, 'labrador': 4799, 'corridor': 4800, 'lawrence': 4801, 'southeast': 4802, '77': 4803, 'christians': 4804, 'catholics': 4805, 'affiliated': 4806, 'numbering': 4807, 'lands': 4808, '1545': 4809, 'maintains': 4810, 'maple': 4811, 'leaf': 4812, 'units': 4813, 'ww': 4814, 'polity': 4815, 'smew': 4816, 'silly': 4817, 'bred': 4818, 'aviculturists': 4819, 'displayed': 4820, 'pike': 4821, 'crocodilians': 4822, 'herons': 4823, 'hawks': 4824, 'eagles': 4825, \"tongue's\": 4826, 'liftable': 4827, 'flap': 4828, 'spikes': 4829, 'pushing': 4830, 'struggling': 4831, 'throat': 4832, 'inability': 4833, 'tiny': 4834, 'lamellae': 4835, 'quacks': 4836, 'duckof': 4837, 'shooting': 4838, 'decoys': 4839, '1967': 4840, 'arable': 4841, '1550': 4842, '8722': 4843, '1070': 4844, '1953': 4845, 'libya': 4846, 'sudan': 4847, '6000': 4848, 'literally': 4849, 'supposedly': 4850, 'memory': 4851, 'beast': 4852, 'passeth': 4853, 'wit': 4854, 'receiving': 4855, 'frequency': 4856, 'sick': 4857, 'wounded': 4858, '60000': 4859, 'angola': 4860, '1952': 4861, 'gulf': 4862, 'imperative': 4863, 'interrogative': 4864, 'cmx': 4865, 'industrialised': 4866, 'twelfth': 4867, 'linebacker': 4868, 'abusive': 4869, 'hitting': 4870, 'bob': 4871, 'dole': 4872, \"michigan's\": 4873, '5th': 4874, 'berwanger': 4875, 'monterey': 4876, 'landings': 4877, 'locations': 4878, 'ensign': 4879, 'naval': 4880, '1957': 4881, 'kofuor': 4882, 'kwa': 4883, 'gur': 4884, 'warrior': 4885, 'patriotic': 4886, 'bulky': 4887, 'layers': 4888, 'helping': 4889, 'woldf': 4890, 'navigate': 4891, 'expanses': 4892, 'concurrently': 4893, 'keeping': 4894, 'informed': 4895, 'whereabouts': 4896, 'varies': 4897, '32': 4898, '62': 4899, 'allowing': 4900, 'thickly': 4901, 'specific': 4902, 'apos': 4903, 'tendency': 4904, 'imitation': 4905, 'rival': 4906, 'considers': 4907, 'kazakhstan': 4908, 'canis': 4909, 'suppport': 4910, 'littler': 4911, 'darting': 4912, 'hold': 4913, 'dominance': 4914, 'fathered': 4915, 'illegitimate': 4916, 'senator': 4917, 'blaine': 4918, 'avoid': 4919, 'further': 4920, 'panic': 4921, 'phographic': 4922, 'accidentally': 4923, 'clouded': 4924, '1999': 4925, 'purges': 4926, 'nutmeg': 4927, 'cloves': 4928, 'cubeb': 4929, 'pepper': 4930, \"indonesia's\": 4931, 'spence': 4932, 'declaring': 4933, 'opposition': 4934, 'interference': 4935, 'westmoreland': 4936, 'trenton': 4937, 'elizabeth': 4938, 'kortright': 4939, '1814': 4940, '1831': 4941, '1823': 4942, 'might': 4943, 'discussed': 4944, 'closer': 4945, '1812': 4946, 'tours': 4947, 'congressmen': 4948, 'delegates': 4949, 'friend': 4950, 'robison': 4951, '1755': 4952, 'benjamin': 4953, 'r': 4954, 'livingston': 4955, 'roger': 4956, 'sherman': 4957, 'colossus': 4958, '1797': 4959, 'parish': 4960, 'wanted': 4961, 'differently': 4962, 'descriptions': 4963, 'ompressions': 4964, \"adams's\": 4965, 'volumes': 4966, 'smith': 4967, 'mob': 4968, 'troop': 4969, 'marsupium': 4970, 'together': 4971, 'incisors': 4972, 'farther': 4973, 'apart': 4974, 'bacteria': 4975, 'thylacine': 4976, 'maagalania': 4977, 'wonambi': 4978, 'captain': 4979, 'naturalist': 4980, 'antilopine': 4981, 'veterinarians': 4982, 'diets': 4983, 'pumapard': 4984, 'dense': 4985, 'vegetation': 4986, 'eurasia': 4987, '110cm': 4988, 'considerably': 4989, \"cheetah's\": 4990, 'simple': 4991, 'spots': 4992, 'trend': 4993, 'subsaharan': 4994, '1836': 4995, 'swiss': 4996, 'franc': 4997, 'thirds': 4998, '1921': 4999, 'hilti': 5000, 'kunstmuseum': 5001, 'preserving': 5002, 'swaths': 5003, 'weed': 5004, 'fake': 5005, 'biography': 5006, 'real': 5007, 'nathaniel': 5008, 'phoebe': 5009, 'slavory': 5010, 'issues': 5011, 'ok': 5012, '1846': 5013, 'pounds': 5014, \"they've\": 5015, 'roadkill': 5016, 'deaths': 5017, 'enhydra': 5018, 'lutris': 5019, 'derives': 5020, 'otr': 5021, 'otor': 5022, 'oter': 5023, 'aquarius': 5024, 'zodiac': 5025, 'passes': 5026, 'poaching': 5027, 'toxins': 5028, 'mining': 5029, 'snowy': 5030, 'slopes': 5031, 'apparently': 5032, 'sheer': 5033, 'enjoyment': 5034, 'weasels': 5035, 'polecats': 5036, 'badgers': 5037, 'bellies': 5038, 'plumage': 5039, 'sphenisciformes': 5040, 'conserves': 5041, \"penguins'\": 5042, 'attempt': 5043, 'steal': 5044, 'connecticut': 5045, 'cream': 5046, 'latest': 5047, 'subpopulations': 5048, 'severely': 5049, 'diverged': 5050, '200': 5051, '660': 5052, '1320': 5053, '1002': 5054, 'double': 5055, 'invisible': 5056, 'database': 5057, 'entry': 5058, 'filed': 5059, 'lawsuits': 5060, 'arguable': 5061, 'combination': 5062, 'recycled': 5063, 'transported': 5064, 'thompson': 5065, 'manitoba': 5066, 'problems': 5067, 'dermatitis': 5068, 'baladiyah': 5069, 'mellon': 5070, 'georgetown': 5071, 'texas': 5072, 'commonwealth': 5073, 'cornell': 5074, 'weill': 5075, 'medical': 5076, 'protectorate': 5077, 'colonel': 5078, 'pelly': 5079, 'asking': 5080, 'negotiate': 5081, \"bahrain's\": 5082, 'violation': 5083, 'bahraini': 5084, 'model': 5085, 'transformation': 5086, 'investment': 5087, 'sectors': 5088, 'lead': 5089, 'cannot': 5090, '41': 5091, 'moldoveanu': 5092, 'nadia': 5093, 'comăneci': 5094, 'hungarians': 5095, 'ultimatum': 5096, 'remains': 5097, 'sure': 5098, 'answer': 5099, 'investments': 5100, 'worth': 5101, 'euros': 5102, 'contributed': 5103, 'passenger': 5104, 'transport': 5105, 'seeks': 5106, '2012': 5107, '1990': 5108, 'succeeded': 5109, 'botanic': 5110, 'gardens': 5111, 'obvious': 5112, 'geographical': 5113, 'monaco': 5114, '1959': 5115, 'drug': 5116, 'trafficking': 5117, 'raw': 5118, 'treatment': 5119, 'storage': 5120, 'locally': 5121, 'needs': 5122, 'exercise': 5123, 'deal': 5124, 'bullies': 5125, 'bamie': 5126, 'bye': 5127, 'noting': 5128, 'wrong': 5129, 'mixing': 5130, 'occassions': 5131, 'financed': 5132, 'gradually': 5133, 'efficient': 5134, 'shrug': 5135, 'triassic': 5136, 'ernst': 5137, 'haeckel': 5138, 'kunstformen': 5139, 'natur': 5140, 'paracryptodira': 5141, 'yolk': 5142, 'amniotes': 5143, 'fred': 5144, 'dent': 5145, 'pleasant': 5146, 'ohio': 5147, '1868': 5148, 'surrender': 5149, 'reputation': 5150, 'cantegriles': 5151, 'challenge': 5152, '176': 5153, 'km©÷': 5154, '718': 5155, '46': 5156, '67': 5157, 'referendum': 5158, 'jewish': 5159, 'nonprofessing': 5160, 'labeling': 5161, 'blanco': 5162, 'architectural': 5163, 'unrestricted': 5164, 'submarine': 5165, 'warfare': 5166, 'confrontation': 5167, 'fleming': 5168, 'staunton': 5169, 'americans': 5170, 'billions': 5171, 'liberty': 5172, 'imposed': 5173, 'board': 5174, 'promoted': 5175, 'labor': 5176, 'supervised': 5177, 'lever': 5178, 'suppressed': 5179, 'volt': 5180, '1815': 5181, 'philosophical': 5182, 'transactions': 5183, '02214199x10': 5184, '1853': 5185, 'latitude': 5186, 'carolus': 5187, 'linnaeus': 5188, 'cuckoo': 5189, 'predatory': 5190, 'replace': 5191, 'casualties': 5192, '755': 5193, 'beiping': 5194, '167': 5195, 'tsinghua': 5196, 'paralytic': 5197, '1647': 5198, 'ill': 5199, 'procedure': 5200, 'geometry': 5201, 'gilberte': 5202, 'means': 5203, 'violene': 5204, 'pernambuco': 5205, 'brazilwood': 5206, 'pegs': 5207, 'artificial': 5208, 'monteverdi': 5209, 'basso': 5210, 'violoncello': 5211, 'gamba': 5212, 'cellist': 5213, 'cracks': 5214, 'forming': 5215, 'misspelled': 5216, 'luis': 5217, 'clark': 5218, '1781': 5219, 'martinique': 5220, '273': 5221, '220': 5222, '203': 5223, '161': 5224, '063': 5225, 'oresund': 5226, 'bunch': 5227, 'livable': 5228, 'ww2': 5229, 'hats': 5230, 'splash': 5231, 'suspended': 5232, 'symbals': 5233, 'rest': 5234, 'symbal': 5235, 'edge': 5236, 'rim': 5237, 'fauns': 5238, 'satyrs': 5239, 'pair': 5240, '1462': 5241, 'flautist': 5242, 'flutist': 5243, '2004': 5244, \"swan's\": 5245, 'bones': 5246, 'bernoulli': 5247, 'siphon': 5248, 'captivity': 5249, 'vixens': 5250, 'burying': 5251, 'consumption': 5252, 'soil': 5253, '475': 5254, 'savannas': 5255, 'extremely': 5256, 'kick': 5257, '157': 5258, '117': 5259, '1852': 5260, 'rejected': 5261, 'decembeer': 5262, '1670': 5263, '1672': 5264, 'angular': 5265, 'firth': 5266, 'clyde': 5267, 'agnus': 5268, '229': 5269, '1753': 5270, '1535': 5271, 'downtown': 5272, 'automobiles': 5273, 'renders': 5274, 'express': 5275, 'metropolitan': 5276, 'hemming': 5277, 'lundenwic': 5278, 'untouched': 5279, 'doctor': 5280, 'honorary': 5281, 'experimentalist': 5282, 'bunsen': 5283, 'burner': 5284, '164': 5285, '154': 5286, '162': 5287, '1791': 5288, 'electromagnetic': 5289, 'uniondale': 5290, 'usa': 5291, 'accelerator': 5292, 'cannon': 5293, 'halo': 5294, '1893': 5295, 'polytechnic': 5296, 'graz': 5297, '190': 5298, '982': 5299, 'logging': 5300, 'lumber': 5301, \"67's\": 5302, 'senators': 5303, 'ravens': 5304, 'larry': 5305, \"o'brien\": 5306, '417': 5307, 'queensway': 5308, 'bytown': 5309, 'chieftains': 5310, 'loreena': 5311, 'mckennitt': 5312, 'knightly': 5313, 'benito': 5314, 'hugo': 5315, 'joey': 5316, 'liliana': 5317, 'rafael': 5318, 'caballero': 5319, 'cabrera': 5320, 'rainbow': 5321, 'covert': 5322, 'operations': 5323, 'essentials': 5324, 'gabriel': 5325, 'garcã\\xada': 5326, 'mã¡rquez': 5327, 'ernest': 5328, \"hemingway's\": 5329, \"rice's\": 5330, 'aulo': 5331, \"coelho's\": 5332, 'show': 5333, 'argentina': 5334, 'verde': 5335, 'chile': 5336, 'colombia': 5337, 'costa': 5338, 'rica': 5339, 'dominican': 5340, 'ecuador': 5341, 'guatemala': 5342, 'jamaica': 5343, 'nicaragua': 5344, 'panama': 5345, 'paraguay': 5346, 'venezuela': 5347, 'amazon': 5348, 'baseball': 5349, 'catcher': 5350, 'film': 5351, 'director': 5352, 'guitarist': 5353, 'economist': 5354, 'footballer': 5355, 'dj': 5356, 'couple': 5357, 'shortened': 5358, 'reconquista': 5359, 'cry': 5360, 'stepmother': 5361, 'transforming': 5362, '900': 5363, 'hamsa': 5364, 'hansa': 5365, 'mask': 5366, 'mirror': 5367, 'ab': 5368, '281': 5369, '378': 5370, 'ugly': 5371, 'duckling': 5372, 'fable': 5373, 'pen': 5374, 'ability': 5375, 'pull': 5376, 'substantially': 5377, 'strike': 5378, \"reptile's\": 5379, 'paws': 5380, 'plenty': 5381, 'blues': 5382, 'pop': 5383, 'polka': 5384, 'cuban': 5385, 'mariachi': 5386, 'funk': 5387, 'somce': 5388, 'trumpetes': 5389, 'seychelles': 5390, 'galã¡pagos': 5391, 'jaws': 5392, 'florida': 5393, 'archelon': 5394, 'ischyros': 5395, 'simply': 5396, 'g3': 5397, 'c8': 5398, 'arnold': 5399, \"schlick's\": 5400, 'spiegel': 5401, 'orgelmacher': 5402, 'und': 5403, 'organisten': 5404, 'sharp': 5405, 'popularized': 5406, '1775': 5407, 'gases': 5408, 'corresponds': 5409, 'respective': 5410, 'weights': 5411, 'jacobus': 5412, 'henricus': 5413, 'hoff': 5414, 'felicita': 5415, 'mazz': 5416, 'atom': 5417, 'constant': 5418, 'destroyed': 5419, 'antarctica': 5420, 'mesosoma': 5421, 'metasoma': 5422, 'gamergate': 5423, 'lubbok': 5424, \"antwerp's\": 5425, '472': 5426, '071': 5427, 'scheldt': 5428, '280': 5429, '786': 5430, 'liturgical': 5431, 'civilizations': 5432, 'maltese': 5433, \"germany's\": 5434, 'hosted': 5435, 'olympics': 5436, 'fifa': 5437, 'spree': 5438, 'stadtschloss': 5439, 'lustgarten': 5440, 'remodeled': 5441, 'burning': 5442, 'lignite': 5443, 'harmful': 5444, 'emissions': 5445, 'announced': 5446, 'commitment': 5447, 'shift': 5448, 'zoologischer': 5449, 'garten': 5450, 'tierpark': 5451, 'friedrichsfelde': 5452, 'stretches': 5453, 'altes': 5454, 'bellevue': 5455, '1451': 5456, 'tegel': 5457, 'cologne': 5458, 'ã‰tienne': 5459, '1588â€“1651': 5460, 'judge': 5461, 'influences': 5462, 'sickness': 5463, 'jansenism': 5464, '1651': 5465, 'mixture': 5466, 'chitin': 5467, 'proteins': 5468, 'kyoto': 5469, 'monarch': 5470, \"butterfly's\": 5471, 'ring': 5472, 'pieter': 5473, 'musschenbroek': 5474, 'intendent': 5475, 'fontains': 5476, 'pinyin': 5477, '85': 5478, '568': 5479, 'knowledge': 5480, 'displays': 5481, 'fangyan': 5482, 'sua': 5483, 'tang': 5484, 'employing': 5485, 'pronuncations': 5486, 'zidian': 5487, '54': 5488, '678': 5489, 'iucn': 5490, 'lists': 5491, 'ungulates': 5492, 'deer': 5493, 'elk': 5494, 'bighorn': 5495, 'cattle': 5496, 'horses': 5497, 'ft': 5498, 'bobcat': 5499, 'bells': 5500, 'keyed': 5501, 'harmonica': 5502, 'squealing': 5503, 'car': 5504, 'brakes': 5505, 'marching': 5506, 'capitalization': 5507, 'virtually': 5508, 'membranophone': 5509, 'drummer': 5510, 'snares': 5511, 'terry': 5512, 'bozzio': 5513, '800': 5514, 'netherlands': 5515, 'dorsal': 5516, 'anal': 5517, 'caudal': 5518, 'bce': 5519, 'morphology': 5520, 'aleksis': 5521, 'kivi': 5522, 'dictionary': 5523, 'dates': 5524, '433': 5525, 'directed': 5526, 'creates': 5527, 'bansuri': 5528, 'venu': 5529, 'pullanguzhal': 5530, 'lacquered': 5531, 'closing': 5532, 'tube': 5533, 'blown': 5534, 'bottle': 5535, 'ursidae': 5536, 'weeks': 5537, 'qinlingensis': 5538, 'ranges': 5539, 'luthiers': 5540, 'polymers': 5541, 'plant': 5542, 'product': 5543, 'transfer': 5544, 'soundboard': 5545, 'statocaster': 5546, 'standardise': 5547, 'joint': 5548, 'marie': 5549, 'curie': 5550, 'wilhelm': 5551, 'conrad': 5552, 'röntgen': 5553, 'discovery': 5554, 'woolsthorpe': 5555, 'manor': 5556, 'woosthorpe': 5557, 'colsterworth': 5558, 'gottfried': 5559, '1665': 5560, '1687': 5561, 'faith': 5562, 'leroy': 5563, 'introduced': 5564, 'liquid': 5565, 'mexican': 5566, 'muralist': 5567, '1983': 5568, \"pollock's\": 5569, 'pouring': 5570, 'dripping': 5571, 'daerah': 5572, 'khusus': 5573, 'ibukota': 5574, 'humid': 5575, 'jayakarta': 5576, 'northwest': 5577, 'herman': 5578, 'willem': 5579, 'deandels': 5580, 'lancaster': 5581, 'lieutenant': 5582, 'ali': 5583, 'sadikin': 5584, 'irian': 5585, 'liberation': 5586, 'newcomen': 5587, 'brought': 5588, 'colossal': 5589, 'chantrey': 5590, \"paul's\": 5591, 'shipwright': 5592, 'ship': 5593, 'owner': 5594, 'contractor': 5595, \"town's\": 5596, 'baillie': 5597, 'regularly': 5598, 'lamp': 5599, 'mangle': 5600, 'machine': 5601, 'specialise': 5602, 'eucalyptus': 5603, 'cooled': 5604, 'grew': 5605, 'fills': 5606, 'grammatical': 5607, 'category': 5608, 'nine': 5609, 'entirely': 5610, 'descriptive': 5611, 'stative': 5612, 'bahasa': 5613, 'melayu': 5614, 'estuary': 5615, 'subang': 5616, 'centuries': 5617, 'dap': 5618, 'kl': 5619, 'prix': 5620, 'csi': 5621, '1528': 5622, '1499': 5623, 'botticelli': 5624, 'previously': 5625, 'ppm': 5626, 'swimming': 5627, 'backwards': 5628, 'curling': 5629, 'uncurling': 5630, 'lyra': 5631, 'farthest': 5632, 'methods': 5633, 'malagasy': 5634, 'measure': 5635, 'penjodoh': 5636, 'bilangan': 5637, 'malayu': 5638, 'melburnian': 5639, '1847': 5640, 'boundary': 5641, 'ocean': 5642, 'visitors': 5643, 'plane': 5644, 'polarisation': 5645, 'linearly': 5646, 'polarised': 5647, 'rotated': 5648, 'aligned': 5649, 'direction': 5650, \"dissenters'\": 5651, 'highgate': 5652, '1529': 5653, '1504': 5654, 'gã©rald': 5655, 'tremblay': 5656, \"joseph's\": 5657, 'oratory': 5658, 'sud': 5659, 'ouest': 5660, 'borough': 5661, '75th': 5662, 'birthday': 5663, 'put': 5664, 'budapest': 5665, 'czech': 5666, '1963': 5667, 'trained': 5668, 'expel': 5669, 'ink': 5670, 'changing': 5671, 'devoting': 5672, 'energies': 5673, 'daring': 5674, 'colorful': 5675, 'expressive': 5676, 'don': 5677, 'josé': 5678, 'ruiz': 5679, 'blasco': 5680, 'museu': 5681, '36': 5682, 'smithsonian': 5683, 'transposing': 5684, '45': 5685, 'spruce': 5686, 'basswood': 5687, 'frame': 5688, 'damper': 5689, 'composer': 5690, 'wagner': 5691, 'palermo': 5692, 'sicily': 5693, 'jubilee': 5694, 'request': 5695, \"queen's\": 5696, 'associate': 5697, 'phillip': 5698, 'richbourg': 5699, 'catalog': 5700, 'token': 5701, 'loyalty': 5702, 'sells': 5703, 'publication': 5704, 'cancioneiro': 5705, 'geral': 5706, 'garcia': 5707, 'resende': 5708, '1516': 5709, '335': 5710, 'apartments': 5711, 'statues': 5712, 'kirov': 5713, 'stadium': 5714, 'philharmonic': 5715, 'orchestra': 5716, 'siege': 5717, '808': 5718, '976': 5719, 'andreas': 5720, 'fault': 5721, 'slipped': 5722, 'franciscans': 5723, 'firms': 5724, 'employees': 5725, 'fallen': 5726, 'families': 5727, 'hotel': 5728, 'facility': 5729, 'moscone': 5730, 'richardson': 5731, 'alcalde': 5732, 'haro': 5733, '1941': 5734, 'trancisco': 5735, 'typo': 5736, 'kiswahili': 5737, 'dawn': 5738, 'dusk': 5739, 'sixteen': 5740, '1886': 5741, 'hausa': 5742, '915': 5743, '26': 5744, 'basically': 5745, 'genders': 5746, 'additional': 5747, 'dative': 5748, 'genitive': 5749, 'compensated': 5750, 'prepositions': 5751, 'valleys': 5752, 'keelung': 5753, 'xindian': 5754, 'danshui': 5755, 'floor': 5756, 'landmark': 5757, 'skyscraper': 5758, 'lantern': 5759, 'tomb': 5760, 'sweeping': 5761, 'boat': 5762, 'homes': 5763, 'business': 5764, 'tech': 5765, 'components': 5766, '1500': 5767, 'trombone': 5768, 'bore': 5769, 'conical': 5770, 'bores': 5771, 'twelve': 5772, 'baptiste': 5773, 'arban': 5774, 'conservatory': 5775, 'persian': 5776, 'prince': 5777, 'kul': 5778, 'tigin': 5779, 'bilge': 5780, 'khan': 5781, 'accusative': 5782, 'suited': 5783, '86': 5784, 'reform': 5785, 'tdk': 5786, '1932': 5787, 'harmonize': 5788, 'constituent': 5789, 'rounded': 5790, 'unrounded': 5791, 'nghe': 5792, 'ha': 5793, 'tinh': 5794, 'quang': 5795, 'binh': 5796, 'denote': 5797, 'occurred': 5798, '1975': 5799, 'northerners': 5800, 'suthern': 5801, 'vincent': 5802, 'zundert': 5803, 'traditional': 5804, 'synthesized': 5805, 'dave': 5806, 'matthews': 5807, '1560': 5808, 'gamelan': 5809, 'gourds': 5810, 'grass': 5811, 'skins': 5812, 'arid': 5813, 'ethiopia': 5814, 'quagga': 5815, 'burchelli': 5816}\n",
            "(2457, 156)\n"
          ]
        }
      ]
    },
    {
      "cell_type": "code",
      "metadata": {
        "id": "vWViyWcQBsxS"
      },
      "source": [
        "# divide into train and test\n",
        "X_train, X_test, y_train, y_test = train_test_split(data_s8['Question'], data_s8['Answer'],\n",
        "          shuffle=True, test_size=0.1, random_state=5)\n"
      ],
      "execution_count": 10,
      "outputs": []
    },
    {
      "cell_type": "code",
      "metadata": {
        "id": "nTAHMnK7-0Co",
        "colab": {
          "base_uri": "https://localhost:8080/",
          "height": 204
        },
        "outputId": "50c4ecea-627c-49d2-e2f2-d9d35aa3ae6b"
      },
      "source": [
        "#Format for simpleT5\n",
        "train = pd.DataFrame({'source_text': X_train, 'target_text': y_train})\n",
        "# Add prefix for simpleT5\n",
        "train['source_text']    = \"answer question:\" + train['source_text']\n",
        "test = pd.DataFrame({'source_text': X_test, 'target_text': y_test}) \n",
        "test['source_text']    = \"answer question:\" + test['source_text']\n",
        "train.head()"
      ],
      "execution_count": 11,
      "outputs": [
        {
          "output_type": "execute_result",
          "data": {
            "text/html": [
              "<div>\n",
              "<style scoped>\n",
              "    .dataframe tbody tr th:only-of-type {\n",
              "        vertical-align: middle;\n",
              "    }\n",
              "\n",
              "    .dataframe tbody tr th {\n",
              "        vertical-align: top;\n",
              "    }\n",
              "\n",
              "    .dataframe thead th {\n",
              "        text-align: right;\n",
              "    }\n",
              "</style>\n",
              "<table border=\"1\" class=\"dataframe\">\n",
              "  <thead>\n",
              "    <tr style=\"text-align: right;\">\n",
              "      <th></th>\n",
              "      <th>source_text</th>\n",
              "      <th>target_text</th>\n",
              "    </tr>\n",
              "  </thead>\n",
              "  <tbody>\n",
              "    <tr>\n",
              "      <th>1214</th>\n",
              "      <td>answer question:Are otters playful animals?</td>\n",
              "      <td>yes</td>\n",
              "    </tr>\n",
              "    <tr>\n",
              "      <th>123</th>\n",
              "      <td>answer question:Did the scientific community n...</td>\n",
              "      <td>yes</td>\n",
              "    </tr>\n",
              "    <tr>\n",
              "      <th>1084</th>\n",
              "      <td>answer question:How many municipalities are wi...</td>\n",
              "      <td>6.</td>\n",
              "    </tr>\n",
              "    <tr>\n",
              "      <th>917</th>\n",
              "      <td>answer question:What information did he record...</td>\n",
              "      <td>He wrote descriptions of events and impression...</td>\n",
              "    </tr>\n",
              "    <tr>\n",
              "      <th>823</th>\n",
              "      <td>answer question:What does \"Era of Good Feeling...</td>\n",
              "      <td>Monroe allowed his political base to decay, wh...</td>\n",
              "    </tr>\n",
              "  </tbody>\n",
              "</table>\n",
              "</div>"
            ],
            "text/plain": [
              "                                            source_text                                        target_text\n",
              "1214        answer question:Are otters playful animals?                                                yes\n",
              "123   answer question:Did the scientific community n...                                                yes\n",
              "1084  answer question:How many municipalities are wi...                                                 6.\n",
              "917   answer question:What information did he record...  He wrote descriptions of events and impression...\n",
              "823   answer question:What does \"Era of Good Feeling...  Monroe allowed his political base to decay, wh..."
            ]
          },
          "metadata": {},
          "execution_count": 11
        }
      ]
    },
    {
      "cell_type": "markdown",
      "metadata": {
        "id": "RCvr5cncUTin"
      },
      "source": [
        "### Train a Simple Model\n",
        "A pretrained t5 model is used to test the question/answer process. No tokenization or context is required for this model."
      ]
    },
    {
      "cell_type": "code",
      "metadata": {
        "colab": {
          "base_uri": "https://localhost:8080/"
        },
        "id": "OcWYSAlzGYIH",
        "outputId": "c7419ea4-a5ec-4e11-f7d5-6f4d7a019fa1"
      },
      "source": [
        "pip install --upgrade simplet5"
      ],
      "execution_count": 12,
      "outputs": [
        {
          "output_type": "stream",
          "name": "stdout",
          "text": [
            "Requirement already satisfied: simplet5 in /usr/local/lib/python3.7/dist-packages (0.1.3)\n",
            "Requirement already satisfied: sentencepiece in /usr/local/lib/python3.7/dist-packages (from simplet5) (0.1.96)\n",
            "Requirement already satisfied: transformers==4.10.0 in /usr/local/lib/python3.7/dist-packages (from simplet5) (4.10.0)\n",
            "Requirement already satisfied: torch!=1.8.0,>=1.7.0 in /usr/local/lib/python3.7/dist-packages (from simplet5) (1.9.0+cu111)\n",
            "Requirement already satisfied: pytorch-lightning==1.4.5 in /usr/local/lib/python3.7/dist-packages (from simplet5) (1.4.5)\n",
            "Requirement already satisfied: tqdm in /usr/local/lib/python3.7/dist-packages (from simplet5) (4.62.3)\n",
            "Requirement already satisfied: PyYAML>=5.1 in /usr/local/lib/python3.7/dist-packages (from pytorch-lightning==1.4.5->simplet5) (6.0)\n",
            "Requirement already satisfied: future>=0.17.1 in /usr/local/lib/python3.7/dist-packages (from pytorch-lightning==1.4.5->simplet5) (0.18.2)\n",
            "Requirement already satisfied: packaging>=17.0 in /usr/local/lib/python3.7/dist-packages (from pytorch-lightning==1.4.5->simplet5) (21.0)\n",
            "Requirement already satisfied: fsspec[http]!=2021.06.0,>=2021.05.0 in /usr/local/lib/python3.7/dist-packages (from pytorch-lightning==1.4.5->simplet5) (2021.11.0)\n",
            "Requirement already satisfied: numpy>=1.17.2 in /usr/local/lib/python3.7/dist-packages (from pytorch-lightning==1.4.5->simplet5) (1.19.5)\n",
            "Requirement already satisfied: pyDeprecate==0.3.1 in /usr/local/lib/python3.7/dist-packages (from pytorch-lightning==1.4.5->simplet5) (0.3.1)\n",
            "Requirement already satisfied: torchmetrics>=0.4.0 in /usr/local/lib/python3.7/dist-packages (from pytorch-lightning==1.4.5->simplet5) (0.6.0)\n",
            "Requirement already satisfied: typing-extensions in /usr/local/lib/python3.7/dist-packages (from pytorch-lightning==1.4.5->simplet5) (3.7.4.3)\n",
            "Requirement already satisfied: tensorboard>=2.2.0 in /usr/local/lib/python3.7/dist-packages (from pytorch-lightning==1.4.5->simplet5) (2.6.0)\n",
            "Requirement already satisfied: requests in /usr/local/lib/python3.7/dist-packages (from transformers==4.10.0->simplet5) (2.23.0)\n",
            "Requirement already satisfied: importlib-metadata in /usr/local/lib/python3.7/dist-packages (from transformers==4.10.0->simplet5) (4.8.1)\n",
            "Requirement already satisfied: regex!=2019.12.17 in /usr/local/lib/python3.7/dist-packages (from transformers==4.10.0->simplet5) (2019.12.20)\n",
            "Requirement already satisfied: tokenizers<0.11,>=0.10.1 in /usr/local/lib/python3.7/dist-packages (from transformers==4.10.0->simplet5) (0.10.3)\n",
            "Requirement already satisfied: filelock in /usr/local/lib/python3.7/dist-packages (from transformers==4.10.0->simplet5) (3.3.0)\n",
            "Requirement already satisfied: sacremoses in /usr/local/lib/python3.7/dist-packages (from transformers==4.10.0->simplet5) (0.0.46)\n",
            "Requirement already satisfied: huggingface-hub>=0.0.12 in /usr/local/lib/python3.7/dist-packages (from transformers==4.10.0->simplet5) (0.1.2)\n",
            "Requirement already satisfied: aiohttp in /usr/local/lib/python3.7/dist-packages (from fsspec[http]!=2021.06.0,>=2021.05.0->pytorch-lightning==1.4.5->simplet5) (3.8.0)\n",
            "Requirement already satisfied: pyparsing>=2.0.2 in /usr/local/lib/python3.7/dist-packages (from packaging>=17.0->pytorch-lightning==1.4.5->simplet5) (2.4.7)\n",
            "Requirement already satisfied: markdown>=2.6.8 in /usr/local/lib/python3.7/dist-packages (from tensorboard>=2.2.0->pytorch-lightning==1.4.5->simplet5) (3.3.4)\n",
            "Requirement already satisfied: tensorboard-plugin-wit>=1.6.0 in /usr/local/lib/python3.7/dist-packages (from tensorboard>=2.2.0->pytorch-lightning==1.4.5->simplet5) (1.8.0)\n",
            "Requirement already satisfied: wheel>=0.26 in /usr/local/lib/python3.7/dist-packages (from tensorboard>=2.2.0->pytorch-lightning==1.4.5->simplet5) (0.37.0)\n",
            "Requirement already satisfied: google-auth-oauthlib<0.5,>=0.4.1 in /usr/local/lib/python3.7/dist-packages (from tensorboard>=2.2.0->pytorch-lightning==1.4.5->simplet5) (0.4.6)\n",
            "Requirement already satisfied: grpcio>=1.24.3 in /usr/local/lib/python3.7/dist-packages (from tensorboard>=2.2.0->pytorch-lightning==1.4.5->simplet5) (1.41.0)\n",
            "Requirement already satisfied: absl-py>=0.4 in /usr/local/lib/python3.7/dist-packages (from tensorboard>=2.2.0->pytorch-lightning==1.4.5->simplet5) (0.12.0)\n",
            "Requirement already satisfied: werkzeug>=0.11.15 in /usr/local/lib/python3.7/dist-packages (from tensorboard>=2.2.0->pytorch-lightning==1.4.5->simplet5) (1.0.1)\n",
            "Requirement already satisfied: google-auth<2,>=1.6.3 in /usr/local/lib/python3.7/dist-packages (from tensorboard>=2.2.0->pytorch-lightning==1.4.5->simplet5) (1.35.0)\n",
            "Requirement already satisfied: setuptools>=41.0.0 in /usr/local/lib/python3.7/dist-packages (from tensorboard>=2.2.0->pytorch-lightning==1.4.5->simplet5) (57.4.0)\n",
            "Requirement already satisfied: protobuf>=3.6.0 in /usr/local/lib/python3.7/dist-packages (from tensorboard>=2.2.0->pytorch-lightning==1.4.5->simplet5) (3.17.3)\n",
            "Requirement already satisfied: tensorboard-data-server<0.7.0,>=0.6.0 in /usr/local/lib/python3.7/dist-packages (from tensorboard>=2.2.0->pytorch-lightning==1.4.5->simplet5) (0.6.1)\n",
            "Requirement already satisfied: six in /usr/local/lib/python3.7/dist-packages (from absl-py>=0.4->tensorboard>=2.2.0->pytorch-lightning==1.4.5->simplet5) (1.15.0)\n",
            "Requirement already satisfied: rsa<5,>=3.1.4 in /usr/local/lib/python3.7/dist-packages (from google-auth<2,>=1.6.3->tensorboard>=2.2.0->pytorch-lightning==1.4.5->simplet5) (4.7.2)\n",
            "Requirement already satisfied: pyasn1-modules>=0.2.1 in /usr/local/lib/python3.7/dist-packages (from google-auth<2,>=1.6.3->tensorboard>=2.2.0->pytorch-lightning==1.4.5->simplet5) (0.2.8)\n",
            "Requirement already satisfied: cachetools<5.0,>=2.0.0 in /usr/local/lib/python3.7/dist-packages (from google-auth<2,>=1.6.3->tensorboard>=2.2.0->pytorch-lightning==1.4.5->simplet5) (4.2.4)\n",
            "Requirement already satisfied: requests-oauthlib>=0.7.0 in /usr/local/lib/python3.7/dist-packages (from google-auth-oauthlib<0.5,>=0.4.1->tensorboard>=2.2.0->pytorch-lightning==1.4.5->simplet5) (1.3.0)\n",
            "Requirement already satisfied: pyasn1<0.5.0,>=0.4.6 in /usr/local/lib/python3.7/dist-packages (from pyasn1-modules>=0.2.1->google-auth<2,>=1.6.3->tensorboard>=2.2.0->pytorch-lightning==1.4.5->simplet5) (0.4.8)\n",
            "Requirement already satisfied: idna<3,>=2.5 in /usr/local/lib/python3.7/dist-packages (from requests->transformers==4.10.0->simplet5) (2.10)\n",
            "Requirement already satisfied: chardet<4,>=3.0.2 in /usr/local/lib/python3.7/dist-packages (from requests->transformers==4.10.0->simplet5) (3.0.4)\n",
            "Requirement already satisfied: urllib3!=1.25.0,!=1.25.1,<1.26,>=1.21.1 in /usr/local/lib/python3.7/dist-packages (from requests->transformers==4.10.0->simplet5) (1.24.3)\n",
            "Requirement already satisfied: certifi>=2017.4.17 in /usr/local/lib/python3.7/dist-packages (from requests->transformers==4.10.0->simplet5) (2021.5.30)\n",
            "Requirement already satisfied: oauthlib>=3.0.0 in /usr/local/lib/python3.7/dist-packages (from requests-oauthlib>=0.7.0->google-auth-oauthlib<0.5,>=0.4.1->tensorboard>=2.2.0->pytorch-lightning==1.4.5->simplet5) (3.1.1)\n",
            "Requirement already satisfied: attrs>=17.3.0 in /usr/local/lib/python3.7/dist-packages (from aiohttp->fsspec[http]!=2021.06.0,>=2021.05.0->pytorch-lightning==1.4.5->simplet5) (21.2.0)\n",
            "Requirement already satisfied: yarl<2.0,>=1.0 in /usr/local/lib/python3.7/dist-packages (from aiohttp->fsspec[http]!=2021.06.0,>=2021.05.0->pytorch-lightning==1.4.5->simplet5) (1.7.2)\n",
            "Requirement already satisfied: charset-normalizer<3.0,>=2.0 in /usr/local/lib/python3.7/dist-packages (from aiohttp->fsspec[http]!=2021.06.0,>=2021.05.0->pytorch-lightning==1.4.5->simplet5) (2.0.7)\n",
            "Requirement already satisfied: aiosignal>=1.1.2 in /usr/local/lib/python3.7/dist-packages (from aiohttp->fsspec[http]!=2021.06.0,>=2021.05.0->pytorch-lightning==1.4.5->simplet5) (1.2.0)\n",
            "Requirement already satisfied: multidict<7.0,>=4.5 in /usr/local/lib/python3.7/dist-packages (from aiohttp->fsspec[http]!=2021.06.0,>=2021.05.0->pytorch-lightning==1.4.5->simplet5) (5.2.0)\n",
            "Requirement already satisfied: async-timeout<5.0,>=4.0.0a3 in /usr/local/lib/python3.7/dist-packages (from aiohttp->fsspec[http]!=2021.06.0,>=2021.05.0->pytorch-lightning==1.4.5->simplet5) (4.0.0)\n",
            "Requirement already satisfied: frozenlist>=1.1.1 in /usr/local/lib/python3.7/dist-packages (from aiohttp->fsspec[http]!=2021.06.0,>=2021.05.0->pytorch-lightning==1.4.5->simplet5) (1.2.0)\n",
            "Requirement already satisfied: asynctest==0.13.0 in /usr/local/lib/python3.7/dist-packages (from aiohttp->fsspec[http]!=2021.06.0,>=2021.05.0->pytorch-lightning==1.4.5->simplet5) (0.13.0)\n",
            "Requirement already satisfied: zipp>=0.5 in /usr/local/lib/python3.7/dist-packages (from importlib-metadata->transformers==4.10.0->simplet5) (3.6.0)\n",
            "Requirement already satisfied: click in /usr/local/lib/python3.7/dist-packages (from sacremoses->transformers==4.10.0->simplet5) (7.1.2)\n",
            "Requirement already satisfied: joblib in /usr/local/lib/python3.7/dist-packages (from sacremoses->transformers==4.10.0->simplet5) (1.0.1)\n"
          ]
        }
      ]
    },
    {
      "cell_type": "code",
      "metadata": {
        "id": "HD5guUqB7-Ib",
        "colab": {
          "base_uri": "https://localhost:8080/",
          "height": 390,
          "referenced_widgets": [
            "0581e91536454d3599ccd00beee23f36",
            "0ceb1ff1e98245c889b91e21fa08b68e",
            "b6034394363949b2bff20e463bda6aaf",
            "a78790c25d79458290d0946aefbbbd0b",
            "236f0b38f13a41ba887f623e57aabfb5",
            "8f16836d9b214b55a23e08e22e238957",
            "79a33805bebe4064bb0ed66aac67dd7c",
            "c48e211a6092447bba6ea210e53d9d09",
            "89f2673d471b463cabb572887b701ce2",
            "65319a7b370044ba9595395a956679d3",
            "14162fae06704f438c6e5fecec8f593e",
            "e0d25b8fce4f4149827dc8a93fb721d9",
            "8d6cf1dc1ad04b62807591550c287c2d",
            "b6e1f4d4041a4c8fa2157abef3f1f11b",
            "5529e4ff18dc49dca10669cc9ed02048",
            "f6ad61cc4d1440cc83a24aedbf324d38",
            "fc71ea78258d4c5aab214c5409961d73",
            "ac8a747fae42461b8ca1bd0812582ca7",
            "bc97e0a2d0484933a2d5b4d52e2ad282",
            "c6e4671a47454b61a57b64affd687ec5",
            "8727b5e6643d48ab9ed275bcba244ea4",
            "600eead99baf4874a19995980e683de2",
            "91bc2fdb72c7485cb23ae12afa2e10c3",
            "49e96f55df974c2fb52eca1bbcb70608",
            "97c8957c2cd24192a1335404867f6ef6",
            "cf16f8b523eb492d96b5361381e986d4",
            "266bbe7f4da146e7801b50bf0105f15e",
            "265df34ce7764bcd8da4485aee39ae2f",
            "04e915c8f68747978c936467684b57bc",
            "ff3b3bec989c4ddf82a5f09856dd4909",
            "83f87b2cfe214ff5863c906a45edcd6b",
            "2c4851e408324ac9829f96513c0623e5",
            "5c5b5e8d6355418ca080fa04ca76586b"
          ]
        },
        "outputId": "8eedc626-ac41-4756-c405-17e8753a7f4c"
      },
      "source": [
        "# import\n",
        "from simplet5 import SimpleT5\n",
        "\n",
        "\n",
        "# instantiate\n",
        "model = SimpleT5()\n",
        "\n",
        "# load (supports t5, mt5, byT5 models)\n",
        "model.from_pretrained(\"t5\",\"t5-base\")\n",
        "\n",
        "# train\n",
        "model.train(train_df=train.applymap(str), # pandas dataframe with 2 columns: source_text & target_text\n",
        "            eval_df=test.applymap(str), # pandas dataframe with 2 columns: source_text & target_text\n",
        "            source_max_token_len = 64, #Issue: not sure of max len - 512\n",
        "            target_max_token_len = 32, #Issue: not sure of max len - 128\n",
        "            batch_size = 8,\n",
        "            max_epochs = 1,\n",
        "            use_gpu = False,\n",
        "            #outputdir = '/model/simpleT5',\n",
        "            early_stopping_patience_epochs = 0,\n",
        "            )"
      ],
      "execution_count": 20,
      "outputs": [
        {
          "output_type": "stream",
          "name": "stderr",
          "text": [
            "GPU available: False, used: False\n",
            "TPU available: False, using: 0 TPU cores\n",
            "IPU available: False, using: 0 IPUs\n",
            "\n",
            "  | Name  | Type                       | Params\n",
            "-----------------------------------------------------\n",
            "0 | model | T5ForConditionalGeneration | 222 M \n",
            "-----------------------------------------------------\n",
            "222 M     Trainable params\n",
            "0         Non-trainable params\n",
            "222 M     Total params\n",
            "891.614   Total estimated model params size (MB)\n"
          ]
        },
        {
          "output_type": "display_data",
          "data": {
            "application/vnd.jupyter.widget-view+json": {
              "model_id": "0581e91536454d3599ccd00beee23f36",
              "version_minor": 0,
              "version_major": 2
            },
            "text/plain": [
              "Validation sanity check: 0it [00:00, ?it/s]"
            ]
          },
          "metadata": {}
        },
        {
          "output_type": "stream",
          "name": "stderr",
          "text": [
            "/usr/local/lib/python3.7/dist-packages/pytorch_lightning/trainer/data_loading.py:106: UserWarning: The dataloader, val dataloader 0, does not have many workers which may be a bottleneck. Consider increasing the value of the `num_workers` argument` (try 4 which is the number of cpus on this machine) in the `DataLoader` init to improve performance.\n",
            "  f\"The dataloader, {name}, does not have many workers which may be a bottleneck.\"\n",
            "Global seed set to 42\n",
            "/usr/local/lib/python3.7/dist-packages/pytorch_lightning/trainer/data_loading.py:106: UserWarning: The dataloader, train dataloader, does not have many workers which may be a bottleneck. Consider increasing the value of the `num_workers` argument` (try 4 which is the number of cpus on this machine) in the `DataLoader` init to improve performance.\n",
            "  f\"The dataloader, {name}, does not have many workers which may be a bottleneck.\"\n"
          ]
        },
        {
          "output_type": "display_data",
          "data": {
            "application/vnd.jupyter.widget-view+json": {
              "model_id": "e0d25b8fce4f4149827dc8a93fb721d9",
              "version_minor": 0,
              "version_major": 2
            },
            "text/plain": [
              "Training: -1it [00:00, ?it/s]"
            ]
          },
          "metadata": {}
        },
        {
          "output_type": "display_data",
          "data": {
            "application/vnd.jupyter.widget-view+json": {
              "model_id": "91bc2fdb72c7485cb23ae12afa2e10c3",
              "version_minor": 0,
              "version_major": 2
            },
            "text/plain": [
              "Validating: 0it [00:00, ?it/s]"
            ]
          },
          "metadata": {}
        }
      ]
    },
    {
      "cell_type": "code",
      "metadata": {
        "colab": {
          "base_uri": "https://localhost:8080/"
        },
        "id": "46vbmnMWbv2O",
        "outputId": "10c10acd-bb3b-4606-a0b5-5d849612f8ec"
      },
      "source": [
        "#Issue:Unable to load and predict with model\n",
        "# load trained T5 model\n",
        "model.load_model(\"t5\",'outputs/simplet5-epoch-0-train-loss-3.0084', use_gpu=False)\n",
        "# for each test data perform prediction\n",
        "model.predict(\"Did Lincoln start his political career in 1832?\")"
      ],
      "execution_count": 22,
      "outputs": [
        {
          "output_type": "execute_result",
          "data": {
            "text/plain": [
              "['nan']"
            ]
          },
          "metadata": {},
          "execution_count": 22
        }
      ]
    }
  ]
}