{
  "nbformat": 4,
  "nbformat_minor": 0,
  "metadata": {
    "colab": {
      "name": "SEP_728_Chatbot_Questiontype_classification.ipynb",
      "provenance": [],
      "collapsed_sections": [],
      "machine_shape": "hm",
      "include_colab_link": true
    },
    "kernelspec": {
      "name": "python3",
      "display_name": "Python 3"
    },
    "language_info": {
      "name": "python"
    }
  },
  "cells": [
    {
      "cell_type": "markdown",
      "metadata": {
        "id": "view-in-github",
        "colab_type": "text"
      },
      "source": [
        "<a href=\"https://colab.research.google.com/github/aanchal0431/chatbot/blob/main/SEP_728_Chatbot_Questiontype_classification.ipynb\" target=\"_parent\"><img src=\"https://colab.research.google.com/assets/colab-badge.svg\" alt=\"Open In Colab\"/></a>"
      ]
    },
    {
      "cell_type": "markdown",
      "metadata": {
        "id": "DURsnZQMXtJb"
      },
      "source": [
        "# Chatbot"
      ]
    },
    {
      "cell_type": "code",
      "metadata": {
        "id": "aMvG1Xz-X0Mc"
      },
      "source": [
        "import tensorflow as tf\n",
        "from tensorflow import keras\n",
        "from tensorflow.keras.layers import Dense, Dropout\n",
        "\n",
        "\n",
        "import numpy as np\n",
        "import matplotlib.pyplot as plt\n",
        "import pandas as pd\n",
        "\n",
        "import os\n",
        "\n",
        "from sklearn.model_selection import train_test_split"
      ],
      "execution_count": 60,
      "outputs": []
    },
    {
      "cell_type": "code",
      "metadata": {
        "id": "zdJBLOq-X-9D",
        "colab": {
          "base_uri": "https://localhost:8080/"
        },
        "outputId": "003f5747-a047-4799-9519-510560bf3260"
      },
      "source": [
        "print(tf.__version__)"
      ],
      "execution_count": 61,
      "outputs": [
        {
          "output_type": "stream",
          "name": "stdout",
          "text": [
            "2.7.0\n"
          ]
        }
      ]
    },
    {
      "cell_type": "markdown",
      "metadata": {
        "id": "s_bnxMqMt4Ou"
      },
      "source": [
        "Git Commands to clone repository, pull and push data"
      ]
    },
    {
      "cell_type": "code",
      "metadata": {
        "id": "DKQpD0hXcckM",
        "colab": {
          "base_uri": "https://localhost:8080/"
        },
        "outputId": "7e403581-1aa7-4644-f4bc-a59571fce16f"
      },
      "source": [
        "!git clone https://github.com/aanchal0431/chatbot.git\n",
        "#!git pull\n",
        "%cd chatbot/\n",
        "#!git config --global user.name \"aanchal0431\"\n",
        "#!git config --global user.email \"aanchal0431@gmail.com\"\n",
        "#!git remote add aanchal0431 https://github.com/aanchal0431/chatbot.git\n",
        "#!git --help\n",
        "#!git remote -v\n",
        "#!git init\n",
        "#%ls\n",
        "#!git add outputs/\n",
        "!git status \n",
        "#!git commit -m 'Model epoch 1'\n"
      ],
      "execution_count": 62,
      "outputs": [
        {
          "output_type": "stream",
          "name": "stdout",
          "text": [
            "Cloning into 'chatbot'...\n",
            "remote: Enumerating objects: 742, done.\u001b[K\n",
            "remote: Counting objects: 100% (256/256), done.\u001b[K\n",
            "remote: Compressing objects: 100% (204/204), done.\u001b[K\n",
            "remote: Total 742 (delta 80), reused 178 (delta 35), pack-reused 486\u001b[K\n",
            "Receiving objects: 100% (742/742), 8.10 MiB | 14.96 MiB/s, done.\n",
            "Resolving deltas: 100% (127/127), done.\n",
            "/content/chatbot/chatbot\n",
            "On branch main\n",
            "Your branch is up to date with 'origin/main'.\n",
            "\n",
            "nothing to commit, working tree clean\n"
          ]
        }
      ]
    },
    {
      "cell_type": "markdown",
      "metadata": {
        "id": "qn72E7Do2G4y"
      },
      "source": [
        "### Data Preprocessing - **Cleaning**\n",
        "\n",
        "*   Load datasets\n",
        "*   Append question and answer datasets\n",
        "*   Remove questions with no answers\n",
        "*   Drop irrelevant columns\n",
        "*   Remove duplicate questions\n",
        "*   Convert data to lower case\n",
        "*   Add context"
      ]
    },
    {
      "cell_type": "code",
      "metadata": {
        "colab": {
          "base_uri": "https://localhost:8080/",
          "height": 258
        },
        "id": "-dOzYIWu25hY",
        "outputId": "79d9a585-c2df-4e9d-e932-4098ec31d7f3"
      },
      "source": [
        "cur_path = 'Data/Question_Answer_Dataset_v1.2/'\n",
        "data_s8 = pd.read_csv(cur_path + 'S08/question_answer_pairs.txt', delimiter=\"\\t\")\n",
        "data_s9 = pd.read_csv(cur_path + 'S09/question_answer_pairs.txt', delimiter=\"\\t\")\n",
        "data_s10 = pd.read_csv(cur_path + 'S10/question_answer_pairs.txt', delimiter=\"\\t\")\n",
        "print(\"Shape s8:\", data_s8.shape)\n",
        "print(\"Shape s9:\", data_s9.shape)\n",
        "print(\"Shape s10:\", data_s10.shape)\n",
        "data_s8.head()"
      ],
      "execution_count": 63,
      "outputs": [
        {
          "output_type": "stream",
          "name": "stdout",
          "text": [
            "Shape s8: (1715, 6)\n",
            "Shape s9: (825, 6)\n",
            "Shape s10: (1458, 6)\n"
          ]
        },
        {
          "output_type": "execute_result",
          "data": {
            "text/html": [
              "<div>\n",
              "<style scoped>\n",
              "    .dataframe tbody tr th:only-of-type {\n",
              "        vertical-align: middle;\n",
              "    }\n",
              "\n",
              "    .dataframe tbody tr th {\n",
              "        vertical-align: top;\n",
              "    }\n",
              "\n",
              "    .dataframe thead th {\n",
              "        text-align: right;\n",
              "    }\n",
              "</style>\n",
              "<table border=\"1\" class=\"dataframe\">\n",
              "  <thead>\n",
              "    <tr style=\"text-align: right;\">\n",
              "      <th></th>\n",
              "      <th>ArticleTitle</th>\n",
              "      <th>Question</th>\n",
              "      <th>Answer</th>\n",
              "      <th>DifficultyFromQuestioner</th>\n",
              "      <th>DifficultyFromAnswerer</th>\n",
              "      <th>ArticleFile</th>\n",
              "    </tr>\n",
              "  </thead>\n",
              "  <tbody>\n",
              "    <tr>\n",
              "      <th>0</th>\n",
              "      <td>Abraham_Lincoln</td>\n",
              "      <td>Was Abraham Lincoln the sixteenth President of...</td>\n",
              "      <td>yes</td>\n",
              "      <td>easy</td>\n",
              "      <td>easy</td>\n",
              "      <td>data/set3/a4</td>\n",
              "    </tr>\n",
              "    <tr>\n",
              "      <th>1</th>\n",
              "      <td>Abraham_Lincoln</td>\n",
              "      <td>Was Abraham Lincoln the sixteenth President of...</td>\n",
              "      <td>Yes.</td>\n",
              "      <td>easy</td>\n",
              "      <td>easy</td>\n",
              "      <td>data/set3/a4</td>\n",
              "    </tr>\n",
              "    <tr>\n",
              "      <th>2</th>\n",
              "      <td>Abraham_Lincoln</td>\n",
              "      <td>Did Lincoln sign the National Banking Act of 1...</td>\n",
              "      <td>yes</td>\n",
              "      <td>easy</td>\n",
              "      <td>medium</td>\n",
              "      <td>data/set3/a4</td>\n",
              "    </tr>\n",
              "    <tr>\n",
              "      <th>3</th>\n",
              "      <td>Abraham_Lincoln</td>\n",
              "      <td>Did Lincoln sign the National Banking Act of 1...</td>\n",
              "      <td>Yes.</td>\n",
              "      <td>easy</td>\n",
              "      <td>easy</td>\n",
              "      <td>data/set3/a4</td>\n",
              "    </tr>\n",
              "    <tr>\n",
              "      <th>4</th>\n",
              "      <td>Abraham_Lincoln</td>\n",
              "      <td>Did his mother die of pneumonia?</td>\n",
              "      <td>no</td>\n",
              "      <td>easy</td>\n",
              "      <td>medium</td>\n",
              "      <td>data/set3/a4</td>\n",
              "    </tr>\n",
              "  </tbody>\n",
              "</table>\n",
              "</div>"
            ],
            "text/plain": [
              "      ArticleTitle  ...   ArticleFile\n",
              "0  Abraham_Lincoln  ...  data/set3/a4\n",
              "1  Abraham_Lincoln  ...  data/set3/a4\n",
              "2  Abraham_Lincoln  ...  data/set3/a4\n",
              "3  Abraham_Lincoln  ...  data/set3/a4\n",
              "4  Abraham_Lincoln  ...  data/set3/a4\n",
              "\n",
              "[5 rows x 6 columns]"
            ]
          },
          "metadata": {},
          "execution_count": 63
        }
      ]
    },
    {
      "cell_type": "markdown",
      "metadata": {
        "id": "jK3tjZLW9pJr"
      },
      "source": [
        "Append Data"
      ]
    },
    {
      "cell_type": "code",
      "metadata": {
        "id": "yp1GPEjLASkF",
        "colab": {
          "base_uri": "https://localhost:8080/",
          "height": 224
        },
        "outputId": "26ea4fbb-88cf-40c8-f96d-16133fe7a738"
      },
      "source": [
        "#append all questions into one data set\n",
        "data_all = data_s8.append(data_s9.append(data_s10))\n",
        "print(\"Shape:\", data_all.shape)\n",
        "data_all.head()\n"
      ],
      "execution_count": 64,
      "outputs": [
        {
          "output_type": "stream",
          "name": "stdout",
          "text": [
            "Shape: (3998, 6)\n"
          ]
        },
        {
          "output_type": "execute_result",
          "data": {
            "text/html": [
              "<div>\n",
              "<style scoped>\n",
              "    .dataframe tbody tr th:only-of-type {\n",
              "        vertical-align: middle;\n",
              "    }\n",
              "\n",
              "    .dataframe tbody tr th {\n",
              "        vertical-align: top;\n",
              "    }\n",
              "\n",
              "    .dataframe thead th {\n",
              "        text-align: right;\n",
              "    }\n",
              "</style>\n",
              "<table border=\"1\" class=\"dataframe\">\n",
              "  <thead>\n",
              "    <tr style=\"text-align: right;\">\n",
              "      <th></th>\n",
              "      <th>ArticleTitle</th>\n",
              "      <th>Question</th>\n",
              "      <th>Answer</th>\n",
              "      <th>DifficultyFromQuestioner</th>\n",
              "      <th>DifficultyFromAnswerer</th>\n",
              "      <th>ArticleFile</th>\n",
              "    </tr>\n",
              "  </thead>\n",
              "  <tbody>\n",
              "    <tr>\n",
              "      <th>0</th>\n",
              "      <td>Abraham_Lincoln</td>\n",
              "      <td>Was Abraham Lincoln the sixteenth President of...</td>\n",
              "      <td>yes</td>\n",
              "      <td>easy</td>\n",
              "      <td>easy</td>\n",
              "      <td>data/set3/a4</td>\n",
              "    </tr>\n",
              "    <tr>\n",
              "      <th>1</th>\n",
              "      <td>Abraham_Lincoln</td>\n",
              "      <td>Was Abraham Lincoln the sixteenth President of...</td>\n",
              "      <td>Yes.</td>\n",
              "      <td>easy</td>\n",
              "      <td>easy</td>\n",
              "      <td>data/set3/a4</td>\n",
              "    </tr>\n",
              "    <tr>\n",
              "      <th>2</th>\n",
              "      <td>Abraham_Lincoln</td>\n",
              "      <td>Did Lincoln sign the National Banking Act of 1...</td>\n",
              "      <td>yes</td>\n",
              "      <td>easy</td>\n",
              "      <td>medium</td>\n",
              "      <td>data/set3/a4</td>\n",
              "    </tr>\n",
              "    <tr>\n",
              "      <th>3</th>\n",
              "      <td>Abraham_Lincoln</td>\n",
              "      <td>Did Lincoln sign the National Banking Act of 1...</td>\n",
              "      <td>Yes.</td>\n",
              "      <td>easy</td>\n",
              "      <td>easy</td>\n",
              "      <td>data/set3/a4</td>\n",
              "    </tr>\n",
              "    <tr>\n",
              "      <th>4</th>\n",
              "      <td>Abraham_Lincoln</td>\n",
              "      <td>Did his mother die of pneumonia?</td>\n",
              "      <td>no</td>\n",
              "      <td>easy</td>\n",
              "      <td>medium</td>\n",
              "      <td>data/set3/a4</td>\n",
              "    </tr>\n",
              "  </tbody>\n",
              "</table>\n",
              "</div>"
            ],
            "text/plain": [
              "      ArticleTitle  ...   ArticleFile\n",
              "0  Abraham_Lincoln  ...  data/set3/a4\n",
              "1  Abraham_Lincoln  ...  data/set3/a4\n",
              "2  Abraham_Lincoln  ...  data/set3/a4\n",
              "3  Abraham_Lincoln  ...  data/set3/a4\n",
              "4  Abraham_Lincoln  ...  data/set3/a4\n",
              "\n",
              "[5 rows x 6 columns]"
            ]
          },
          "metadata": {},
          "execution_count": 64
        }
      ]
    },
    {
      "cell_type": "markdown",
      "metadata": {
        "id": "FT3qd3s19_WC"
      },
      "source": [
        "Drop irrelevant columns and remove questions without an answer"
      ]
    },
    {
      "cell_type": "code",
      "metadata": {
        "colab": {
          "base_uri": "https://localhost:8080/",
          "height": 224
        },
        "id": "b4kf9-I797XS",
        "outputId": "ed21ee48-6b82-4df8-bc52-6fab2e920e35"
      },
      "source": [
        "#remove irrelevant columns\n",
        "data_all = data_all.drop(labels = ['DifficultyFromQuestioner', 'DifficultyFromAnswerer', 'ArticleFile'], axis = 1)\n",
        "\n",
        "#drop rows with NULL values\n",
        "data_all = data_all.dropna(subset=['Answer'])\n",
        "print(\"Shape:\", data_all.shape)\n",
        "data_all.head()"
      ],
      "execution_count": 65,
      "outputs": [
        {
          "output_type": "stream",
          "name": "stdout",
          "text": [
            "Shape: (3422, 3)\n"
          ]
        },
        {
          "output_type": "execute_result",
          "data": {
            "text/html": [
              "<div>\n",
              "<style scoped>\n",
              "    .dataframe tbody tr th:only-of-type {\n",
              "        vertical-align: middle;\n",
              "    }\n",
              "\n",
              "    .dataframe tbody tr th {\n",
              "        vertical-align: top;\n",
              "    }\n",
              "\n",
              "    .dataframe thead th {\n",
              "        text-align: right;\n",
              "    }\n",
              "</style>\n",
              "<table border=\"1\" class=\"dataframe\">\n",
              "  <thead>\n",
              "    <tr style=\"text-align: right;\">\n",
              "      <th></th>\n",
              "      <th>ArticleTitle</th>\n",
              "      <th>Question</th>\n",
              "      <th>Answer</th>\n",
              "    </tr>\n",
              "  </thead>\n",
              "  <tbody>\n",
              "    <tr>\n",
              "      <th>0</th>\n",
              "      <td>Abraham_Lincoln</td>\n",
              "      <td>Was Abraham Lincoln the sixteenth President of...</td>\n",
              "      <td>yes</td>\n",
              "    </tr>\n",
              "    <tr>\n",
              "      <th>1</th>\n",
              "      <td>Abraham_Lincoln</td>\n",
              "      <td>Was Abraham Lincoln the sixteenth President of...</td>\n",
              "      <td>Yes.</td>\n",
              "    </tr>\n",
              "    <tr>\n",
              "      <th>2</th>\n",
              "      <td>Abraham_Lincoln</td>\n",
              "      <td>Did Lincoln sign the National Banking Act of 1...</td>\n",
              "      <td>yes</td>\n",
              "    </tr>\n",
              "    <tr>\n",
              "      <th>3</th>\n",
              "      <td>Abraham_Lincoln</td>\n",
              "      <td>Did Lincoln sign the National Banking Act of 1...</td>\n",
              "      <td>Yes.</td>\n",
              "    </tr>\n",
              "    <tr>\n",
              "      <th>4</th>\n",
              "      <td>Abraham_Lincoln</td>\n",
              "      <td>Did his mother die of pneumonia?</td>\n",
              "      <td>no</td>\n",
              "    </tr>\n",
              "  </tbody>\n",
              "</table>\n",
              "</div>"
            ],
            "text/plain": [
              "      ArticleTitle                                           Question Answer\n",
              "0  Abraham_Lincoln  Was Abraham Lincoln the sixteenth President of...    yes\n",
              "1  Abraham_Lincoln  Was Abraham Lincoln the sixteenth President of...   Yes.\n",
              "2  Abraham_Lincoln  Did Lincoln sign the National Banking Act of 1...    yes\n",
              "3  Abraham_Lincoln  Did Lincoln sign the National Banking Act of 1...   Yes.\n",
              "4  Abraham_Lincoln                   Did his mother die of pneumonia?     no"
            ]
          },
          "metadata": {},
          "execution_count": 65
        }
      ]
    },
    {
      "cell_type": "markdown",
      "metadata": {
        "id": "hp-3Ro8K_NXb"
      },
      "source": [
        "Remove duplicate questions"
      ]
    },
    {
      "cell_type": "code",
      "metadata": {
        "colab": {
          "base_uri": "https://localhost:8080/",
          "height": 224
        },
        "id": "mpP0ksyOBIQY",
        "outputId": "b26e12ca-0018-46d6-a8c4-0a9732667e92"
      },
      "source": [
        "#remove duplicate questions\n",
        "data_all = data_all.drop_duplicates(subset=['Question'])\n",
        "print(\"Shape:\", data_all.shape)\n",
        "data_all.head()"
      ],
      "execution_count": 66,
      "outputs": [
        {
          "output_type": "stream",
          "name": "stdout",
          "text": [
            "Shape: (2203, 3)\n"
          ]
        },
        {
          "output_type": "execute_result",
          "data": {
            "text/html": [
              "<div>\n",
              "<style scoped>\n",
              "    .dataframe tbody tr th:only-of-type {\n",
              "        vertical-align: middle;\n",
              "    }\n",
              "\n",
              "    .dataframe tbody tr th {\n",
              "        vertical-align: top;\n",
              "    }\n",
              "\n",
              "    .dataframe thead th {\n",
              "        text-align: right;\n",
              "    }\n",
              "</style>\n",
              "<table border=\"1\" class=\"dataframe\">\n",
              "  <thead>\n",
              "    <tr style=\"text-align: right;\">\n",
              "      <th></th>\n",
              "      <th>ArticleTitle</th>\n",
              "      <th>Question</th>\n",
              "      <th>Answer</th>\n",
              "    </tr>\n",
              "  </thead>\n",
              "  <tbody>\n",
              "    <tr>\n",
              "      <th>0</th>\n",
              "      <td>Abraham_Lincoln</td>\n",
              "      <td>Was Abraham Lincoln the sixteenth President of...</td>\n",
              "      <td>yes</td>\n",
              "    </tr>\n",
              "    <tr>\n",
              "      <th>2</th>\n",
              "      <td>Abraham_Lincoln</td>\n",
              "      <td>Did Lincoln sign the National Banking Act of 1...</td>\n",
              "      <td>yes</td>\n",
              "    </tr>\n",
              "    <tr>\n",
              "      <th>4</th>\n",
              "      <td>Abraham_Lincoln</td>\n",
              "      <td>Did his mother die of pneumonia?</td>\n",
              "      <td>no</td>\n",
              "    </tr>\n",
              "    <tr>\n",
              "      <th>6</th>\n",
              "      <td>Abraham_Lincoln</td>\n",
              "      <td>How many long was Lincoln's formal education?</td>\n",
              "      <td>18 months</td>\n",
              "    </tr>\n",
              "    <tr>\n",
              "      <th>8</th>\n",
              "      <td>Abraham_Lincoln</td>\n",
              "      <td>When did Lincoln begin his political career?</td>\n",
              "      <td>1832</td>\n",
              "    </tr>\n",
              "  </tbody>\n",
              "</table>\n",
              "</div>"
            ],
            "text/plain": [
              "      ArticleTitle  ...     Answer\n",
              "0  Abraham_Lincoln  ...        yes\n",
              "2  Abraham_Lincoln  ...        yes\n",
              "4  Abraham_Lincoln  ...         no\n",
              "6  Abraham_Lincoln  ...  18 months\n",
              "8  Abraham_Lincoln  ...       1832\n",
              "\n",
              "[5 rows x 3 columns]"
            ]
          },
          "metadata": {},
          "execution_count": 66
        }
      ]
    },
    {
      "cell_type": "markdown",
      "metadata": {
        "id": "2kyp9pdO_ViF"
      },
      "source": [
        "Convert all text to lower case"
      ]
    },
    {
      "cell_type": "code",
      "metadata": {
        "id": "HqCHtna--_FI",
        "colab": {
          "base_uri": "https://localhost:8080/",
          "height": 206
        },
        "outputId": "edc3cbf4-3baa-4822-de39-25852a746a2c"
      },
      "source": [
        "# convert text to lower case\n",
        "data_all = data_all.apply(lambda x: x.astype(str).str.lower())\n",
        "data_all.head()"
      ],
      "execution_count": 67,
      "outputs": [
        {
          "output_type": "execute_result",
          "data": {
            "text/html": [
              "<div>\n",
              "<style scoped>\n",
              "    .dataframe tbody tr th:only-of-type {\n",
              "        vertical-align: middle;\n",
              "    }\n",
              "\n",
              "    .dataframe tbody tr th {\n",
              "        vertical-align: top;\n",
              "    }\n",
              "\n",
              "    .dataframe thead th {\n",
              "        text-align: right;\n",
              "    }\n",
              "</style>\n",
              "<table border=\"1\" class=\"dataframe\">\n",
              "  <thead>\n",
              "    <tr style=\"text-align: right;\">\n",
              "      <th></th>\n",
              "      <th>ArticleTitle</th>\n",
              "      <th>Question</th>\n",
              "      <th>Answer</th>\n",
              "    </tr>\n",
              "  </thead>\n",
              "  <tbody>\n",
              "    <tr>\n",
              "      <th>0</th>\n",
              "      <td>abraham_lincoln</td>\n",
              "      <td>was abraham lincoln the sixteenth president of...</td>\n",
              "      <td>yes</td>\n",
              "    </tr>\n",
              "    <tr>\n",
              "      <th>2</th>\n",
              "      <td>abraham_lincoln</td>\n",
              "      <td>did lincoln sign the national banking act of 1...</td>\n",
              "      <td>yes</td>\n",
              "    </tr>\n",
              "    <tr>\n",
              "      <th>4</th>\n",
              "      <td>abraham_lincoln</td>\n",
              "      <td>did his mother die of pneumonia?</td>\n",
              "      <td>no</td>\n",
              "    </tr>\n",
              "    <tr>\n",
              "      <th>6</th>\n",
              "      <td>abraham_lincoln</td>\n",
              "      <td>how many long was lincoln's formal education?</td>\n",
              "      <td>18 months</td>\n",
              "    </tr>\n",
              "    <tr>\n",
              "      <th>8</th>\n",
              "      <td>abraham_lincoln</td>\n",
              "      <td>when did lincoln begin his political career?</td>\n",
              "      <td>1832</td>\n",
              "    </tr>\n",
              "  </tbody>\n",
              "</table>\n",
              "</div>"
            ],
            "text/plain": [
              "      ArticleTitle  ...     Answer\n",
              "0  abraham_lincoln  ...        yes\n",
              "2  abraham_lincoln  ...        yes\n",
              "4  abraham_lincoln  ...         no\n",
              "6  abraham_lincoln  ...  18 months\n",
              "8  abraham_lincoln  ...       1832\n",
              "\n",
              "[5 rows x 3 columns]"
            ]
          },
          "metadata": {},
          "execution_count": 67
        }
      ]
    },
    {
      "cell_type": "markdown",
      "metadata": {
        "id": "YzeXNomdBVnp"
      },
      "source": [
        "Load Wikipedia article and add to the dataframe"
      ]
    },
    {
      "cell_type": "code",
      "metadata": {
        "colab": {
          "base_uri": "https://localhost:8080/",
          "height": 224
        },
        "id": "E0O8WpXIBOc9",
        "outputId": "c5a3be5c-b0d6-427e-a6c2-4be4e0bced8c"
      },
      "source": [
        "#Add a column containing the context\n",
        "#create dataset with column\n",
        "title = []\n",
        "context = []\n",
        "\n",
        "#pull context and titles from S08\n",
        "for y in range (8, 11):   \n",
        "  for s in range(1, 7):\n",
        "    for a in range(1, 11):\n",
        "      file = str('Data/Question_Answer_Dataset_v1.2/S0' + str(y) + '/data/set' + str(s) + '/a' + str(a) + '.txt.clean' )\n",
        "      if os.path.exists(file):\n",
        "        article = open(file, encoding = \"ISO-8859-1\").read()\n",
        "        context.append(article)\n",
        "        title.append(article.split('\\n')[0])\n",
        "\n",
        "#create dataframe for context and titles\n",
        "data_articles = pd.DataFrame({'ArticleTitle': title,\n",
        "                              'Context': context})\n",
        "\n",
        "#make lower case\n",
        "data_articles = data_articles.apply(lambda x: x.astype(str).str.lower())\n",
        "\n",
        "print(\"Shape:\", data_articles.shape)\n",
        "data_articles.head()"
      ],
      "execution_count": 68,
      "outputs": [
        {
          "output_type": "stream",
          "name": "stdout",
          "text": [
            "Shape: (90, 2)\n"
          ]
        },
        {
          "output_type": "execute_result",
          "data": {
            "text/html": [
              "<div>\n",
              "<style scoped>\n",
              "    .dataframe tbody tr th:only-of-type {\n",
              "        vertical-align: middle;\n",
              "    }\n",
              "\n",
              "    .dataframe tbody tr th {\n",
              "        vertical-align: top;\n",
              "    }\n",
              "\n",
              "    .dataframe thead th {\n",
              "        text-align: right;\n",
              "    }\n",
              "</style>\n",
              "<table border=\"1\" class=\"dataframe\">\n",
              "  <thead>\n",
              "    <tr style=\"text-align: right;\">\n",
              "      <th></th>\n",
              "      <th>ArticleTitle</th>\n",
              "      <th>Context</th>\n",
              "    </tr>\n",
              "  </thead>\n",
              "  <tbody>\n",
              "    <tr>\n",
              "      <th>0</th>\n",
              "      <td>kangaroo</td>\n",
              "      <td>kangaroo\\n\\n\\na kangaroo is a marsupial from t...</td>\n",
              "    </tr>\n",
              "    <tr>\n",
              "      <th>1</th>\n",
              "      <td>leopard</td>\n",
              "      <td>leopard\\n\\n\\n\\nthe leopard (panthera pardus) i...</td>\n",
              "    </tr>\n",
              "    <tr>\n",
              "      <th>2</th>\n",
              "      <td>penguin</td>\n",
              "      <td>penguin\\n\\n\\n\\na penguin encounters a human du...</td>\n",
              "    </tr>\n",
              "    <tr>\n",
              "      <th>3</th>\n",
              "      <td>polar bear</td>\n",
              "      <td>polar bear\\n\\n\\n\\nthe polar bear (ursus mariti...</td>\n",
              "    </tr>\n",
              "    <tr>\n",
              "      <th>4</th>\n",
              "      <td>elephant</td>\n",
              "      <td>elephant\\n\\n\\n\\nelephants (elephantidae) are a...</td>\n",
              "    </tr>\n",
              "  </tbody>\n",
              "</table>\n",
              "</div>"
            ],
            "text/plain": [
              "  ArticleTitle                                            Context\n",
              "0     kangaroo  kangaroo\\n\\n\\na kangaroo is a marsupial from t...\n",
              "1      leopard  leopard\\n\\n\\n\\nthe leopard (panthera pardus) i...\n",
              "2      penguin  penguin\\n\\n\\n\\na penguin encounters a human du...\n",
              "3   polar bear  polar bear\\n\\n\\n\\nthe polar bear (ursus mariti...\n",
              "4     elephant  elephant\\n\\n\\n\\nelephants (elephantidae) are a..."
            ]
          },
          "metadata": {},
          "execution_count": 68
        }
      ]
    },
    {
      "cell_type": "code",
      "metadata": {
        "colab": {
          "base_uri": "https://localhost:8080/",
          "height": 224
        },
        "id": "xIsdAK3WBp0R",
        "outputId": "c789b42f-e551-4d6a-ada4-88db2a4996c5"
      },
      "source": [
        "#replace all _ in titles with spaces\n",
        "data_all['ArticleTitle'] = data_all['ArticleTitle'].str.replace('_', ' ')\n",
        "data_articles['ArticleTitle'] = data_articles['ArticleTitle'].str.replace('_', ' ')\n",
        "\n",
        "#join context into data all\n",
        "data_all = data_all.merge(data_articles, how='left', on='ArticleTitle')\n",
        "\n",
        "print(\"Shape:\", data_all.shape)\n",
        "data_all.head()"
      ],
      "execution_count": 69,
      "outputs": [
        {
          "output_type": "stream",
          "name": "stdout",
          "text": [
            "Shape: (2755, 4)\n"
          ]
        },
        {
          "output_type": "execute_result",
          "data": {
            "text/html": [
              "<div>\n",
              "<style scoped>\n",
              "    .dataframe tbody tr th:only-of-type {\n",
              "        vertical-align: middle;\n",
              "    }\n",
              "\n",
              "    .dataframe tbody tr th {\n",
              "        vertical-align: top;\n",
              "    }\n",
              "\n",
              "    .dataframe thead th {\n",
              "        text-align: right;\n",
              "    }\n",
              "</style>\n",
              "<table border=\"1\" class=\"dataframe\">\n",
              "  <thead>\n",
              "    <tr style=\"text-align: right;\">\n",
              "      <th></th>\n",
              "      <th>ArticleTitle</th>\n",
              "      <th>Question</th>\n",
              "      <th>Answer</th>\n",
              "      <th>Context</th>\n",
              "    </tr>\n",
              "  </thead>\n",
              "  <tbody>\n",
              "    <tr>\n",
              "      <th>0</th>\n",
              "      <td>abraham lincoln</td>\n",
              "      <td>was abraham lincoln the sixteenth president of...</td>\n",
              "      <td>yes</td>\n",
              "      <td>abraham lincoln\\n\\n\\n\\nabraham lincoln (februa...</td>\n",
              "    </tr>\n",
              "    <tr>\n",
              "      <th>1</th>\n",
              "      <td>abraham lincoln</td>\n",
              "      <td>did lincoln sign the national banking act of 1...</td>\n",
              "      <td>yes</td>\n",
              "      <td>abraham lincoln\\n\\n\\n\\nabraham lincoln (februa...</td>\n",
              "    </tr>\n",
              "    <tr>\n",
              "      <th>2</th>\n",
              "      <td>abraham lincoln</td>\n",
              "      <td>did his mother die of pneumonia?</td>\n",
              "      <td>no</td>\n",
              "      <td>abraham lincoln\\n\\n\\n\\nabraham lincoln (februa...</td>\n",
              "    </tr>\n",
              "    <tr>\n",
              "      <th>3</th>\n",
              "      <td>abraham lincoln</td>\n",
              "      <td>how many long was lincoln's formal education?</td>\n",
              "      <td>18 months</td>\n",
              "      <td>abraham lincoln\\n\\n\\n\\nabraham lincoln (februa...</td>\n",
              "    </tr>\n",
              "    <tr>\n",
              "      <th>4</th>\n",
              "      <td>abraham lincoln</td>\n",
              "      <td>when did lincoln begin his political career?</td>\n",
              "      <td>1832</td>\n",
              "      <td>abraham lincoln\\n\\n\\n\\nabraham lincoln (februa...</td>\n",
              "    </tr>\n",
              "  </tbody>\n",
              "</table>\n",
              "</div>"
            ],
            "text/plain": [
              "      ArticleTitle  ...                                            Context\n",
              "0  abraham lincoln  ...  abraham lincoln\\n\\n\\n\\nabraham lincoln (februa...\n",
              "1  abraham lincoln  ...  abraham lincoln\\n\\n\\n\\nabraham lincoln (februa...\n",
              "2  abraham lincoln  ...  abraham lincoln\\n\\n\\n\\nabraham lincoln (februa...\n",
              "3  abraham lincoln  ...  abraham lincoln\\n\\n\\n\\nabraham lincoln (februa...\n",
              "4  abraham lincoln  ...  abraham lincoln\\n\\n\\n\\nabraham lincoln (februa...\n",
              "\n",
              "[5 rows x 4 columns]"
            ]
          },
          "metadata": {},
          "execution_count": 69
        }
      ]
    },
    {
      "cell_type": "markdown",
      "metadata": {
        "id": "-n9qiwcW_-bM"
      },
      "source": [
        "### Explore Data\n",
        "Check the word length of the answers. How many questions are yes/no questions? What type of question is asked most often?"
      ]
    },
    {
      "cell_type": "code",
      "metadata": {
        "colab": {
          "base_uri": "https://localhost:8080/",
          "height": 473
        },
        "id": "kkthNMr8AJ0u",
        "outputId": "fc484e2f-6096-4120-9471-f3adba3722f0"
      },
      "source": [
        "#plot the distribution of answer word length\n",
        "word_length = data_all['Answer'].str.count(' ') + 1\n",
        "string_length = data_all['Answer'].str.len()\n",
        "\n",
        "print('Single word answers:', (word_length == 1).sum())\n",
        "print('Two word answers:', (word_length == 2).sum())\n",
        "print('Three word answers:', (word_length == 3).sum())\n",
        "print('Four word answers:', (word_length == 4).sum())\n",
        "print('Five word answers:', (word_length == 5).sum())\n",
        "print('6-10 word answers:', ((word_length > 5) & (word_length <= 10)).sum())\n",
        "print('11-20 word answers:', ((word_length > 10) & (word_length <= 20)).sum())\n",
        "print('More than 20 words answers:', (word_length > 20).sum())\n",
        "print('\\nMax answer word length:', word_length.max())\n",
        "print('Max answer string length:', string_length.max())\n",
        "\n",
        "#plt.hist(word_length, bins = 100)\n",
        "plt.bar(word_length.unique(), word_length.value_counts())\n",
        "plt.ylim([0,1250])\n",
        "plt.show"
      ],
      "execution_count": 70,
      "outputs": [
        {
          "output_type": "stream",
          "name": "stdout",
          "text": [
            "Single word answers: 1575\n",
            "Two word answers: 231\n",
            "Three word answers: 161\n",
            "Four word answers: 124\n",
            "Five word answers: 88\n",
            "6-10 word answers: 341\n",
            "11-20 word answers: 186\n",
            "More than 20 words answers: 49\n",
            "\n",
            "Max answer word length: 156\n",
            "Max answer string length: 926\n"
          ]
        },
        {
          "output_type": "execute_result",
          "data": {
            "text/plain": [
              "<function matplotlib.pyplot.show>"
            ]
          },
          "metadata": {},
          "execution_count": 70
        },
        {
          "output_type": "display_data",
          "data": {
            "image/png": "[encoded data removed]",
            "text/plain": [
              "<Figure size 432x288 with 1 Axes>"
            ]
          },
          "metadata": {
            "needs_background": "light"
          }
        }
      ]
    },
    {
      "cell_type": "code",
      "metadata": {
        "colab": {
          "base_uri": "https://localhost:8080/"
        },
        "id": "FvIcXDR4AVYQ",
        "outputId": "8953864d-c257-4597-9837-572690a72fc0"
      },
      "source": [
        "#examine types of questions\n",
        "question_type = data_all['Question'].str.split(' ').str[0]\n",
        "question_type.value_counts()"
      ],
      "execution_count": 71,
      "outputs": [
        {
          "output_type": "execute_result",
          "data": {
            "text/plain": [
              "what         564\n",
              "is           395\n",
              "was          247\n",
              "how          196\n",
              "did          193\n",
              "            ... \n",
              "with           1\n",
              "whare          1\n",
              "different      1\n",
              "drums          1\n",
              "adams          1\n",
              "Name: Question, Length: 102, dtype: int64"
            ]
          },
          "metadata": {},
          "execution_count": 71
        }
      ]
    },
    {
      "cell_type": "code",
      "metadata": {
        "colab": {
          "base_uri": "https://localhost:8080/",
          "height": 224
        },
        "id": "so8tYjgtAZjG",
        "outputId": "67d790e2-fc3b-42e7-f6ac-c31643fb040b"
      },
      "source": [
        "#pull all yes/no questions\n",
        "yes_no = ['yes', 'yes.', 'yes,', 'no', 'no.', 'no,']\n",
        "data_yn = data_all.where(data_all['Answer'].str.split(' ').str[0].isin(yes_no)).dropna()\n",
        "data_yn['Answer'] = data_yn['Answer'].str.split(' ').str[0]\n",
        "\n",
        "#remove periods & commas\n",
        "data_yn['Answer'] = data_yn['Answer'].str.replace('.','')\n",
        "data_yn['Answer'] = data_yn['Answer'].str.replace(',','')\n",
        "\n",
        "print(\"Shape:\", data_yn.shape)\n",
        "data_yn.head()"
      ],
      "execution_count": 72,
      "outputs": [
        {
          "output_type": "stream",
          "name": "stdout",
          "text": [
            "Shape: (1070, 4)\n"
          ]
        },
        {
          "output_type": "execute_result",
          "data": {
            "text/html": [
              "<div>\n",
              "<style scoped>\n",
              "    .dataframe tbody tr th:only-of-type {\n",
              "        vertical-align: middle;\n",
              "    }\n",
              "\n",
              "    .dataframe tbody tr th {\n",
              "        vertical-align: top;\n",
              "    }\n",
              "\n",
              "    .dataframe thead th {\n",
              "        text-align: right;\n",
              "    }\n",
              "</style>\n",
              "<table border=\"1\" class=\"dataframe\">\n",
              "  <thead>\n",
              "    <tr style=\"text-align: right;\">\n",
              "      <th></th>\n",
              "      <th>ArticleTitle</th>\n",
              "      <th>Question</th>\n",
              "      <th>Answer</th>\n",
              "      <th>Context</th>\n",
              "    </tr>\n",
              "  </thead>\n",
              "  <tbody>\n",
              "    <tr>\n",
              "      <th>0</th>\n",
              "      <td>abraham lincoln</td>\n",
              "      <td>was abraham lincoln the sixteenth president of...</td>\n",
              "      <td>yes</td>\n",
              "      <td>abraham lincoln\\n\\n\\n\\nabraham lincoln (februa...</td>\n",
              "    </tr>\n",
              "    <tr>\n",
              "      <th>1</th>\n",
              "      <td>abraham lincoln</td>\n",
              "      <td>did lincoln sign the national banking act of 1...</td>\n",
              "      <td>yes</td>\n",
              "      <td>abraham lincoln\\n\\n\\n\\nabraham lincoln (februa...</td>\n",
              "    </tr>\n",
              "    <tr>\n",
              "      <th>2</th>\n",
              "      <td>abraham lincoln</td>\n",
              "      <td>did his mother die of pneumonia?</td>\n",
              "      <td>no</td>\n",
              "      <td>abraham lincoln\\n\\n\\n\\nabraham lincoln (februa...</td>\n",
              "    </tr>\n",
              "    <tr>\n",
              "      <th>8</th>\n",
              "      <td>abraham lincoln</td>\n",
              "      <td>did lincoln beat john c. breckinridge in the 1...</td>\n",
              "      <td>yes</td>\n",
              "      <td>abraham lincoln\\n\\n\\n\\nabraham lincoln (februa...</td>\n",
              "    </tr>\n",
              "    <tr>\n",
              "      <th>9</th>\n",
              "      <td>abraham lincoln</td>\n",
              "      <td>was abraham lincoln the first president of the...</td>\n",
              "      <td>no</td>\n",
              "      <td>abraham lincoln\\n\\n\\n\\nabraham lincoln (februa...</td>\n",
              "    </tr>\n",
              "  </tbody>\n",
              "</table>\n",
              "</div>"
            ],
            "text/plain": [
              "      ArticleTitle  ...                                            Context\n",
              "0  abraham lincoln  ...  abraham lincoln\\n\\n\\n\\nabraham lincoln (februa...\n",
              "1  abraham lincoln  ...  abraham lincoln\\n\\n\\n\\nabraham lincoln (februa...\n",
              "2  abraham lincoln  ...  abraham lincoln\\n\\n\\n\\nabraham lincoln (februa...\n",
              "8  abraham lincoln  ...  abraham lincoln\\n\\n\\n\\nabraham lincoln (februa...\n",
              "9  abraham lincoln  ...  abraham lincoln\\n\\n\\n\\nabraham lincoln (februa...\n",
              "\n",
              "[5 rows x 4 columns]"
            ]
          },
          "metadata": {},
          "execution_count": 72
        }
      ]
    },
    {
      "cell_type": "code",
      "metadata": {
        "colab": {
          "base_uri": "https://localhost:8080/",
          "height": 224
        },
        "id": "ZeCGYVNYAeea",
        "outputId": "4cf78a53-4296-4807-ad3d-8bfe89f31467"
      },
      "source": [
        "#pull all other questions that pull \"direct\" answers from the context\n",
        "data_context = data_all.where((data_all['Answer'].str.split(' ').str[0].isin(yes_no)) == False).dropna()\n",
        "data_context.to_csv('Questions_toClean.csv', index=False)\n",
        "print(\"Shape:\", data_context.shape)\n",
        "data_context.head()"
      ],
      "execution_count": 73,
      "outputs": [
        {
          "output_type": "stream",
          "name": "stdout",
          "text": [
            "Shape: (1252, 4)\n"
          ]
        },
        {
          "output_type": "execute_result",
          "data": {
            "text/html": [
              "<div>\n",
              "<style scoped>\n",
              "    .dataframe tbody tr th:only-of-type {\n",
              "        vertical-align: middle;\n",
              "    }\n",
              "\n",
              "    .dataframe tbody tr th {\n",
              "        vertical-align: top;\n",
              "    }\n",
              "\n",
              "    .dataframe thead th {\n",
              "        text-align: right;\n",
              "    }\n",
              "</style>\n",
              "<table border=\"1\" class=\"dataframe\">\n",
              "  <thead>\n",
              "    <tr style=\"text-align: right;\">\n",
              "      <th></th>\n",
              "      <th>ArticleTitle</th>\n",
              "      <th>Question</th>\n",
              "      <th>Answer</th>\n",
              "      <th>Context</th>\n",
              "    </tr>\n",
              "  </thead>\n",
              "  <tbody>\n",
              "    <tr>\n",
              "      <th>3</th>\n",
              "      <td>abraham lincoln</td>\n",
              "      <td>how many long was lincoln's formal education?</td>\n",
              "      <td>18 months</td>\n",
              "      <td>abraham lincoln\\n\\n\\n\\nabraham lincoln (februa...</td>\n",
              "    </tr>\n",
              "    <tr>\n",
              "      <th>4</th>\n",
              "      <td>abraham lincoln</td>\n",
              "      <td>when did lincoln begin his political career?</td>\n",
              "      <td>1832</td>\n",
              "      <td>abraham lincoln\\n\\n\\n\\nabraham lincoln (februa...</td>\n",
              "    </tr>\n",
              "    <tr>\n",
              "      <th>5</th>\n",
              "      <td>abraham lincoln</td>\n",
              "      <td>what did the legal tender act of 1862 establish?</td>\n",
              "      <td>the united states note, the first paper curren...</td>\n",
              "      <td>abraham lincoln\\n\\n\\n\\nabraham lincoln (februa...</td>\n",
              "    </tr>\n",
              "    <tr>\n",
              "      <th>6</th>\n",
              "      <td>abraham lincoln</td>\n",
              "      <td>who suggested lincoln grow a beard?</td>\n",
              "      <td>11-year-old grace bedell</td>\n",
              "      <td>abraham lincoln\\n\\n\\n\\nabraham lincoln (februa...</td>\n",
              "    </tr>\n",
              "    <tr>\n",
              "      <th>7</th>\n",
              "      <td>abraham lincoln</td>\n",
              "      <td>when did the gettysburg address argue that ame...</td>\n",
              "      <td>1776</td>\n",
              "      <td>abraham lincoln\\n\\n\\n\\nabraham lincoln (februa...</td>\n",
              "    </tr>\n",
              "  </tbody>\n",
              "</table>\n",
              "</div>"
            ],
            "text/plain": [
              "      ArticleTitle  ...                                            Context\n",
              "3  abraham lincoln  ...  abraham lincoln\\n\\n\\n\\nabraham lincoln (februa...\n",
              "4  abraham lincoln  ...  abraham lincoln\\n\\n\\n\\nabraham lincoln (februa...\n",
              "5  abraham lincoln  ...  abraham lincoln\\n\\n\\n\\nabraham lincoln (februa...\n",
              "6  abraham lincoln  ...  abraham lincoln\\n\\n\\n\\nabraham lincoln (februa...\n",
              "7  abraham lincoln  ...  abraham lincoln\\n\\n\\n\\nabraham lincoln (februa...\n",
              "\n",
              "[5 rows x 4 columns]"
            ]
          },
          "metadata": {},
          "execution_count": 73
        }
      ]
    },
    {
      "cell_type": "code",
      "metadata": {
        "colab": {
          "base_uri": "https://localhost:8080/",
          "height": 477
        },
        "id": "RSmrKDXEAkij",
        "outputId": "82cf5bb7-cc8f-4d58-cd6c-2cf443010b45"
      },
      "source": [
        "#plot the distribution of answer word length for questions that aren't yes/no\n",
        "word_length = data_context['Answer'].str.count(' ') + 1\n",
        "string_length = data_context['Answer'].str.len()\n",
        "\n",
        "print('Single word answers:', (word_length == 1).sum())\n",
        "print('Two word answers:', (word_length == 2).sum())\n",
        "print('Three word answers:', (word_length == 3).sum())\n",
        "print('Four word answers:', (word_length == 4).sum())\n",
        "print('Five word answers:', (word_length == 5).sum())\n",
        "print('6-10 word answers:', ((word_length > 5) & (word_length <= 10)).sum())\n",
        "print('11-20 word answers:', ((word_length > 10) & (word_length <= 20)).sum())\n",
        "print('More than 20 words answers:', (word_length > 20).sum())\n",
        "print('\\nMax answer word length:', word_length.max())\n",
        "print('Max answer string length:', string_length.max())\n",
        "\n",
        "#plt.hist(word_length, bins = 100)\n",
        "plt.bar(word_length.unique(), word_length.value_counts())\n",
        "plt.ylim([0,300])\n",
        "plt.show"
      ],
      "execution_count": 74,
      "outputs": [
        {
          "output_type": "stream",
          "name": "stdout",
          "text": [
            "Single word answers: 363\n",
            "Two word answers: 197\n",
            "Three word answers: 141\n",
            "Four word answers: 99\n",
            "Five word answers: 69\n",
            "6-10 word answers: 236\n",
            "11-20 word answers: 116\n",
            "More than 20 words answers: 31\n",
            "\n",
            "Max answer word length: 156\n",
            "Max answer string length: 926\n"
          ]
        },
        {
          "output_type": "execute_result",
          "data": {
            "text/plain": [
              "<function matplotlib.pyplot.show>"
            ]
          },
          "metadata": {},
          "execution_count": 74
        },
        {
          "output_type": "display_data",
          "data": {
            "image/png": "[encoded data removed]",
            "text/plain": [
              "<Figure size 432x288 with 1 Axes>"
            ]
          },
          "metadata": {
            "needs_background": "light"
          }
        }
      ]
    },
    {
      "cell_type": "code",
      "metadata": {
        "colab": {
          "base_uri": "https://localhost:8080/"
        },
        "id": "fVwRqfVVA6Gn",
        "outputId": "86a5125a-8479-43c8-846b-3e9b1afa1e29"
      },
      "source": [
        "#create type indicator in data set and combine clean yes/no and context\n",
        "data_yn['Answer Type'] = '1'\n",
        "data_context['Answer Type'] = '0'\n",
        "data_all = data_yn.append(data_context)\n",
        "\n",
        "print(\"Shape:\", data_all.shape)\n",
        "print(\"Shape of Yes/No questions:\", data_yn.shape)\n",
        "print(\"Shape of Context questions:\", data_context.shape)\n",
        "data_all.head()\n",
        "\n",
        "print(type(data_all))\n",
        "df = data_all.iloc[2311]\n",
        "print(df)\n"
      ],
      "execution_count": 75,
      "outputs": [
        {
          "output_type": "stream",
          "name": "stdout",
          "text": [
            "Shape: (2322, 5)\n",
            "Shape of Yes/No questions: (1070, 5)\n",
            "Shape of Context questions: (1252, 5)\n",
            "<class 'pandas.core.frame.DataFrame'>\n",
            "ArticleTitle                                               violin\n",
            "Question        what is a person that makes or repairs violins...\n",
            "Answer                                                    luthier\n",
            "Context         violin\\n\\n\\n\\nthe violin is a bowed string ins...\n",
            "Answer Type                                                     0\n",
            "Name: 2724, dtype: object\n"
          ]
        }
      ]
    },
    {
      "cell_type": "markdown",
      "metadata": {
        "id": "SQv-B6tMCdAr"
      },
      "source": [
        "### Data Preprocess - Model preparation"
      ]
    },
    {
      "cell_type": "code",
      "metadata": {
        "id": "hesWN6lUs4wN"
      },
      "source": [
        "# split yes/no question answers into train test dataset\n",
        "X_train_yn, X_test_yn, y_train_yn, y_test_yn = train_test_split(list(data_yn['Question']), list(data_yn['Answer Type']),\n",
        "          shuffle=True, test_size=0.1, random_state=5)\n",
        "\n",
        "vocab_size = 10000\n",
        "trunc_type =  'post'\n",
        "padding_type = 'post'"
      ],
      "execution_count": 76,
      "outputs": []
    },
    {
      "cell_type": "code",
      "metadata": {
        "id": "qwyYgQchBMik",
        "colab": {
          "base_uri": "https://localhost:8080/"
        },
        "outputId": "dddc2265-46f9-4942-c500-9402b128df0e"
      },
      "source": [
        "#Tokenization Example for Questions/Answers\n",
        "# import APIs\n",
        "from tensorflow.keras.preprocessing.text import Tokenizer\n",
        "from tensorflow.keras.preprocessing.sequence import pad_sequences\n",
        "\n",
        "#initialize the tokenizer\n",
        "tokenizer = Tokenizer(num_words=vocab_size, oov_token=\"<OOV>\") #oov: out of vocabulary token => used to handle newly encountered words in the training dataset, new\n",
        "\n",
        "#creating word index\n",
        "tokenizer.fit_on_texts(X_train_yn)\n",
        "word_index = tokenizer.word_index\n",
        "max_len = len(word_index) + 1\n",
        "print(max_len)\n",
        "\n",
        "# method to tokenize text data\n",
        "def tokenize_text(text, vocab_size, max_len, trunc_type, padding_type):\n",
        "  #create sequences using tokenizer\n",
        "  sequences = tokenizer.texts_to_sequences(text)\n",
        "\n",
        "  #padding the sequences to make sure length matches for all the sequences\n",
        "  padded_sequences = pad_sequences(sequences, maxlen=max_len, padding=padding_type, truncating=trunc_type)\n",
        "\n",
        "  print(padded_sequences.shape)\n",
        "  return padded_sequences\n"
      ],
      "execution_count": 77,
      "outputs": [
        {
          "output_type": "stream",
          "name": "stdout",
          "text": [
            "2195\n"
          ]
        }
      ]
    },
    {
      "cell_type": "code",
      "metadata": {
        "id": "_1PLpln8ncSg",
        "colab": {
          "base_uri": "https://localhost:8080/"
        },
        "outputId": "25b5a484-3ad1-464f-a320-e40e090f7aa7"
      },
      "source": [
        "# Tokenization example for all the Yes No Questions/Answers in the dataset\n",
        "\n",
        "train_sequences_ques = tokenize_text(X_train_yn, vocab_size, max_len, trunc_type, padding_type)\n",
        "# train_sequences_ans = tokenize_text(y_train_yn, vocab_size, max_len, trunc_type, padding_type)\n",
        "test_sequences_ques = tokenize_text(X_test_yn, vocab_size, max_len, trunc_type, padding_type)\n",
        "# test_sequences_ans = tokenize_text(y_test_yn, vocab_size, max_len, trunc_type, padding_type)"
      ],
      "execution_count": 78,
      "outputs": [
        {
          "output_type": "stream",
          "name": "stdout",
          "text": [
            "(963, 2195)\n",
            "(107, 2195)\n"
          ]
        }
      ]
    },
    {
      "cell_type": "code",
      "metadata": {
        "id": "vWViyWcQBsxS"
      },
      "source": [
        "# divide into train and test\n",
        "X_train, X_test, y_train, y_test = train_test_split(data_s8['Question'], data_s8['Answer'],\n",
        "          shuffle=True, test_size=0.1, random_state=5)\n"
      ],
      "execution_count": 79,
      "outputs": []
    },
    {
      "cell_type": "markdown",
      "metadata": {
        "id": "arp5F9Onn8Wr"
      },
      "source": [
        "### LSTM - Implementation for Yes/No questions"
      ]
    },
    {
      "cell_type": "code",
      "metadata": {
        "id": "M7zIh62koBZl",
        "colab": {
          "base_uri": "https://localhost:8080/"
        },
        "outputId": "9bc1ccfa-7d6d-4854-cf73-374b1af79020"
      },
      "source": [
        "# Need this block to get it to work with TensorFlow 2.x\n",
        "# import numpy as np\n",
        "training_padded = np.array(train_sequences_ques)\n",
        "testing_padded = np.array(test_sequences_ques)\n",
        "\n",
        "y_train_yn = np.asarray(y_train_yn).astype('float32').reshape((-1,1))\n",
        "y_test_yn = np.asarray(y_test_yn).astype('float32').reshape((-1,1))\n",
        "print(training_padded.shape)\n",
        "print(y_train_yn.shape)\n",
        "print(testing_padded.shape)\n",
        "print(y_test_yn.shape)\n"
      ],
      "execution_count": 80,
      "outputs": [
        {
          "output_type": "stream",
          "name": "stdout",
          "text": [
            "(963, 2195)\n",
            "(963, 1)\n",
            "(107, 2195)\n",
            "(107, 1)\n"
          ]
        }
      ]
    },
    {
      "cell_type": "code",
      "metadata": {
        "id": "fT6hlAjHpkFx"
      },
      "source": [
        "# Bi-directional LSTM model with 64 and 32 layers to classify the question as yes/no or context based\n",
        "model = tf.keras.Sequential([\n",
        "    tf.keras.layers.Embedding(vocab_size, 32, input_length=max_len),\n",
        "    tf.keras.layers.Bidirectional(tf.keras.layers.LSTM(64, return_sequences=True)),\n",
        "    tf.keras.layers.Bidirectional(tf.keras.layers.LSTM(32)),\n",
        "    tf.keras.layers.Dense(72, activation='relu'),\n",
        "    tf.keras.layers.Dense(1, activation='softmax')\n",
        "])\n",
        "\n",
        "# binary_cross entropy as loss for textual data\n",
        "model.compile(loss='binary_crossentropy',optimizer='adam',metrics=['accuracy'])"
      ],
      "execution_count": 81,
      "outputs": []
    },
    {
      "cell_type": "code",
      "metadata": {
        "id": "ZlhtcDq1p2qh",
        "colab": {
          "base_uri": "https://localhost:8080/"
        },
        "outputId": "3a00c832-375a-4bf5-dfc4-3cf68609fa8a"
      },
      "source": [
        "history = model.fit(training_padded,\n",
        "                    y_train_yn,\n",
        "                    epochs=10,\n",
        "                    validation_data=(testing_padded, y_test_yn),\n",
        "                    verbose=2)"
      ],
      "execution_count": 82,
      "outputs": [
        {
          "output_type": "stream",
          "name": "stdout",
          "text": [
            "Epoch 1/10\n",
            "31/31 - 138s - loss: 0.2118 - accuracy: 1.0000 - val_loss: 1.4158e-04 - val_accuracy: 1.0000 - 138s/epoch - 4s/step\n",
            "Epoch 2/10\n",
            "31/31 - 130s - loss: 4.9698e-05 - accuracy: 1.0000 - val_loss: 2.1272e-05 - val_accuracy: 1.0000 - 130s/epoch - 4s/step\n",
            "Epoch 3/10\n",
            "31/31 - 129s - loss: 1.7002e-05 - accuracy: 1.0000 - val_loss: 1.3532e-05 - val_accuracy: 1.0000 - 129s/epoch - 4s/step\n",
            "Epoch 4/10\n",
            "31/31 - 129s - loss: 1.1405e-05 - accuracy: 1.0000 - val_loss: 9.2950e-06 - val_accuracy: 1.0000 - 129s/epoch - 4s/step\n",
            "Epoch 5/10\n",
            "31/31 - 129s - loss: 7.8520e-06 - accuracy: 1.0000 - val_loss: 6.4276e-06 - val_accuracy: 1.0000 - 129s/epoch - 4s/step\n",
            "Epoch 6/10\n",
            "31/31 - 129s - loss: 5.4719e-06 - accuracy: 1.0000 - val_loss: 4.5351e-06 - val_accuracy: 1.0000 - 129s/epoch - 4s/step\n",
            "Epoch 7/10\n",
            "31/31 - 131s - loss: 3.9092e-06 - accuracy: 1.0000 - val_loss: 3.2938e-06 - val_accuracy: 1.0000 - 131s/epoch - 4s/step\n",
            "Epoch 8/10\n",
            "31/31 - 131s - loss: 2.8780e-06 - accuracy: 1.0000 - val_loss: 2.4657e-06 - val_accuracy: 1.0000 - 131s/epoch - 4s/step\n",
            "Epoch 9/10\n",
            "31/31 - 130s - loss: 2.1822e-06 - accuracy: 1.0000 - val_loss: 1.8985e-06 - val_accuracy: 1.0000 - 130s/epoch - 4s/step\n",
            "Epoch 10/10\n",
            "31/31 - 129s - loss: 1.6998e-06 - accuracy: 1.0000 - val_loss: 1.4987e-06 - val_accuracy: 1.0000 - 129s/epoch - 4s/step\n"
          ]
        }
      ]
    },
    {
      "cell_type": "markdown",
      "metadata": {
        "id": "z1QMqNhdM2rT"
      },
      "source": [
        "Visualize accuracy and loss for the LSTM model"
      ]
    },
    {
      "cell_type": "code",
      "metadata": {
        "id": "KNEoPxQiM5nQ"
      },
      "source": [
        "#function to visualiz results\n",
        "def plot_results(history, metric):\n",
        "  plt.plot(history.history[metric])\n",
        "  plt.plot(history.history['val_' + metric])\n",
        "  plt.title('Train and Validation ' + metric)\n",
        "  plt.xlabel('Epoch')\n",
        "  plt.ylabel(metric)  \n",
        "  plt.legend(['Train', 'Validation'], loc='upper left')\n",
        "  plt.show()"
      ],
      "execution_count": 83,
      "outputs": []
    },
    {
      "cell_type": "code",
      "metadata": {
        "id": "NP6Pcle-NoSh",
        "colab": {
          "base_uri": "https://localhost:8080/",
          "height": 573
        },
        "outputId": "20055628-db91-4872-f52f-6c056a128320"
      },
      "source": [
        "plot_results(history, \"loss\")\n",
        "plot_results(history, \"accuracy\")\n",
        "\n",
        "y_pred=model.predict(y_test_yn)\n"
      ],
      "execution_count": 86,
      "outputs": [
        {
          "output_type": "display_data",
          "data": {
            "image/png": "[encoded data removed]",
            "text/plain": [
              "<Figure size 432x288 with 1 Axes>"
            ]
          },
          "metadata": {
            "needs_background": "light"
          }
        },
        {
          "output_type": "display_data",
          "data": {
            "image/png": "[encoded data removed]",
            "text/plain": [
              "<Figure size 432x288 with 1 Axes>"
            ]
          },
          "metadata": {
            "needs_background": "light"
          }
        }
      ]
    },
    {
      "cell_type": "code",
      "source": [
        "plt.figure(figsize=(14,5))\n",
        "plt.plot(y_test_yn, label = 'Y')\n",
        "plt.plot(y_pred, label = 'Y_Pred')\n",
        "plt.legend()\n",
        "plt.show()"
      ],
      "metadata": {
        "colab": {
          "base_uri": "https://localhost:8080/",
          "height": 320
        },
        "id": "Fk3l5otV6uLc",
        "outputId": "b867c6cf-4084-4fab-a148-734289f89c16"
      },
      "execution_count": 87,
      "outputs": [
        {
          "output_type": "display_data",
          "data": {
            "image/png": "[encoded data removed]",
            "text/plain": [
              "<Figure size 1008x360 with 1 Axes>"
            ]
          },
          "metadata": {
            "needs_background": "light"
          }
        }
      ]
    }
  ]
}