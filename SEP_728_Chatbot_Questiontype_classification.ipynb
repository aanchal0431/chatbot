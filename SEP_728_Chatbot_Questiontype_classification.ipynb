{
  "nbformat": 4,
  "nbformat_minor": 0,
  "metadata": {
    "colab": {
      "name": "SEP_728_Chatbot_Questiontype_classification.ipynb",
      "provenance": [],
      "collapsed_sections": [],
      "machine_shape": "hm",
      "include_colab_link": true
    },
    "kernelspec": {
      "name": "python3",
      "display_name": "Python 3"
    },
    "language_info": {
      "name": "python"
    }
  },
  "cells": [
    {
      "cell_type": "markdown",
      "metadata": {
        "id": "view-in-github",
        "colab_type": "text"
      },
      "source": [
        "<a href=\"https://colab.research.google.com/github/aanchal0431/chatbot/blob/main/SEP_728_Chatbot_Questiontype_classification.ipynb\" target=\"_parent\"><img src=\"https://colab.research.google.com/assets/colab-badge.svg\" alt=\"Open In Colab\"/></a>"
      ]
    },
    {
      "cell_type": "markdown",
      "metadata": {
        "id": "DURsnZQMXtJb"
      },
      "source": [
        "# Chatbot"
      ]
    },
    {
      "cell_type": "code",
      "metadata": {
        "id": "aMvG1Xz-X0Mc"
      },
      "source": [
        "import tensorflow as tf\n",
        "from tensorflow import keras\n",
        "from tensorflow.keras.layers import Dense, Dropout\n",
        "\n",
        "\n",
        "import numpy as np\n",
        "import matplotlib.pyplot as plt\n",
        "import pandas as pd\n",
        "\n",
        "import os\n",
        "\n",
        "from sklearn.model_selection import train_test_split"
      ],
      "execution_count": 1,
      "outputs": []
    },
    {
      "cell_type": "code",
      "metadata": {
        "id": "zdJBLOq-X-9D",
        "colab": {
          "base_uri": "https://localhost:8080/"
        },
        "outputId": "40f50f91-6199-412b-a284-ffe79b24d1ac"
      },
      "source": [
        "print(tf.__version__)"
      ],
      "execution_count": 2,
      "outputs": [
        {
          "output_type": "stream",
          "name": "stdout",
          "text": [
            "2.7.0\n"
          ]
        }
      ]
    },
    {
      "cell_type": "markdown",
      "metadata": {
        "id": "s_bnxMqMt4Ou"
      },
      "source": [
        "Git Commands to clone repository, pull and push data"
      ]
    },
    {
      "cell_type": "code",
      "metadata": {
        "id": "DKQpD0hXcckM",
        "colab": {
          "base_uri": "https://localhost:8080/"
        },
        "outputId": "8272400b-b078-469a-eb6b-1df238b198ed"
      },
      "source": [
        "!git clone https://github.com/aanchal0431/chatbot.git\n",
        "#!git pull\n",
        "%cd chatbot/\n",
        "#!git config --global user.name \"aanchal0431\"\n",
        "#!git config --global user.email \"aanchal0431@gmail.com\"\n",
        "#!git remote add aanchal0431 https://github.com/aanchal0431/chatbot.git\n",
        "#!git --help\n",
        "#!git remote -v\n",
        "#!git init\n",
        "#%ls\n",
        "#!git add outputs/\n",
        "!git status \n",
        "#!git commit -m 'Model epoch 1'\n"
      ],
      "execution_count": 3,
      "outputs": [
        {
          "output_type": "stream",
          "name": "stdout",
          "text": [
            "Cloning into 'chatbot'...\n",
            "remote: Enumerating objects: 731, done.\u001b[K\n",
            "remote: Counting objects: 100% (245/245), done.\u001b[K\n",
            "remote: Compressing objects: 100% (193/193), done.\u001b[K\n",
            "remote: Total 731 (delta 73), reused 178 (delta 35), pack-reused 486\u001b[K\n",
            "Receiving objects: 100% (731/731), 7.99 MiB | 13.29 MiB/s, done.\n",
            "Resolving deltas: 100% (120/120), done.\n",
            "/content/chatbot\n",
            "On branch main\n",
            "Your branch is up to date with 'origin/main'.\n",
            "\n",
            "nothing to commit, working tree clean\n"
          ]
        }
      ]
    },
    {
      "cell_type": "markdown",
      "metadata": {
        "id": "qn72E7Do2G4y"
      },
      "source": [
        "### Data Preprocessing - **Cleaning**\n",
        "\n",
        "*   Load datasets\n",
        "*   Append question and answer datasets\n",
        "*   Remove questions with no answers\n",
        "*   Drop irrelevant columns\n",
        "*   Remove duplicate questions\n",
        "*   Convert data to lower case\n",
        "*   Add context"
      ]
    },
    {
      "cell_type": "code",
      "metadata": {
        "colab": {
          "base_uri": "https://localhost:8080/",
          "height": 258
        },
        "id": "-dOzYIWu25hY",
        "outputId": "3866ee3f-b32f-4199-8e0c-f5c354a60f0e"
      },
      "source": [
        "cur_path = 'Data/Question_Answer_Dataset_v1.2/'\n",
        "data_s8 = pd.read_csv(cur_path + 'S08/question_answer_pairs.txt', delimiter=\"\\t\")\n",
        "data_s9 = pd.read_csv(cur_path + 'S09/question_answer_pairs.txt', delimiter=\"\\t\")\n",
        "data_s10 = pd.read_csv(cur_path + 'S10/question_answer_pairs.txt', delimiter=\"\\t\")\n",
        "print(\"Shape s8:\", data_s8.shape)\n",
        "print(\"Shape s9:\", data_s9.shape)\n",
        "print(\"Shape s10:\", data_s10.shape)\n",
        "data_s8.head()"
      ],
      "execution_count": 4,
      "outputs": [
        {
          "output_type": "stream",
          "name": "stdout",
          "text": [
            "Shape s8: (1715, 6)\n",
            "Shape s9: (825, 6)\n",
            "Shape s10: (1458, 6)\n"
          ]
        },
        {
          "output_type": "execute_result",
          "data": {
            "text/html": [
              "<div>\n",
              "<style scoped>\n",
              "    .dataframe tbody tr th:only-of-type {\n",
              "        vertical-align: middle;\n",
              "    }\n",
              "\n",
              "    .dataframe tbody tr th {\n",
              "        vertical-align: top;\n",
              "    }\n",
              "\n",
              "    .dataframe thead th {\n",
              "        text-align: right;\n",
              "    }\n",
              "</style>\n",
              "<table border=\"1\" class=\"dataframe\">\n",
              "  <thead>\n",
              "    <tr style=\"text-align: right;\">\n",
              "      <th></th>\n",
              "      <th>ArticleTitle</th>\n",
              "      <th>Question</th>\n",
              "      <th>Answer</th>\n",
              "      <th>DifficultyFromQuestioner</th>\n",
              "      <th>DifficultyFromAnswerer</th>\n",
              "      <th>ArticleFile</th>\n",
              "    </tr>\n",
              "  </thead>\n",
              "  <tbody>\n",
              "    <tr>\n",
              "      <th>0</th>\n",
              "      <td>Abraham_Lincoln</td>\n",
              "      <td>Was Abraham Lincoln the sixteenth President of...</td>\n",
              "      <td>yes</td>\n",
              "      <td>easy</td>\n",
              "      <td>easy</td>\n",
              "      <td>data/set3/a4</td>\n",
              "    </tr>\n",
              "    <tr>\n",
              "      <th>1</th>\n",
              "      <td>Abraham_Lincoln</td>\n",
              "      <td>Was Abraham Lincoln the sixteenth President of...</td>\n",
              "      <td>Yes.</td>\n",
              "      <td>easy</td>\n",
              "      <td>easy</td>\n",
              "      <td>data/set3/a4</td>\n",
              "    </tr>\n",
              "    <tr>\n",
              "      <th>2</th>\n",
              "      <td>Abraham_Lincoln</td>\n",
              "      <td>Did Lincoln sign the National Banking Act of 1...</td>\n",
              "      <td>yes</td>\n",
              "      <td>easy</td>\n",
              "      <td>medium</td>\n",
              "      <td>data/set3/a4</td>\n",
              "    </tr>\n",
              "    <tr>\n",
              "      <th>3</th>\n",
              "      <td>Abraham_Lincoln</td>\n",
              "      <td>Did Lincoln sign the National Banking Act of 1...</td>\n",
              "      <td>Yes.</td>\n",
              "      <td>easy</td>\n",
              "      <td>easy</td>\n",
              "      <td>data/set3/a4</td>\n",
              "    </tr>\n",
              "    <tr>\n",
              "      <th>4</th>\n",
              "      <td>Abraham_Lincoln</td>\n",
              "      <td>Did his mother die of pneumonia?</td>\n",
              "      <td>no</td>\n",
              "      <td>easy</td>\n",
              "      <td>medium</td>\n",
              "      <td>data/set3/a4</td>\n",
              "    </tr>\n",
              "  </tbody>\n",
              "</table>\n",
              "</div>"
            ],
            "text/plain": [
              "      ArticleTitle  ...   ArticleFile\n",
              "0  Abraham_Lincoln  ...  data/set3/a4\n",
              "1  Abraham_Lincoln  ...  data/set3/a4\n",
              "2  Abraham_Lincoln  ...  data/set3/a4\n",
              "3  Abraham_Lincoln  ...  data/set3/a4\n",
              "4  Abraham_Lincoln  ...  data/set3/a4\n",
              "\n",
              "[5 rows x 6 columns]"
            ]
          },
          "metadata": {},
          "execution_count": 4
        }
      ]
    },
    {
      "cell_type": "markdown",
      "metadata": {
        "id": "jK3tjZLW9pJr"
      },
      "source": [
        "Append Data"
      ]
    },
    {
      "cell_type": "code",
      "metadata": {
        "id": "yp1GPEjLASkF",
        "colab": {
          "base_uri": "https://localhost:8080/",
          "height": 224
        },
        "outputId": "c0800cd4-d60d-4a22-fd26-43c763655d1b"
      },
      "source": [
        "#append all questions into one data set\n",
        "data_all = data_s8.append(data_s9.append(data_s10))\n",
        "print(\"Shape:\", data_all.shape)\n",
        "data_all.head()\n"
      ],
      "execution_count": 5,
      "outputs": [
        {
          "output_type": "stream",
          "name": "stdout",
          "text": [
            "Shape: (3998, 6)\n"
          ]
        },
        {
          "output_type": "execute_result",
          "data": {
            "text/html": [
              "<div>\n",
              "<style scoped>\n",
              "    .dataframe tbody tr th:only-of-type {\n",
              "        vertical-align: middle;\n",
              "    }\n",
              "\n",
              "    .dataframe tbody tr th {\n",
              "        vertical-align: top;\n",
              "    }\n",
              "\n",
              "    .dataframe thead th {\n",
              "        text-align: right;\n",
              "    }\n",
              "</style>\n",
              "<table border=\"1\" class=\"dataframe\">\n",
              "  <thead>\n",
              "    <tr style=\"text-align: right;\">\n",
              "      <th></th>\n",
              "      <th>ArticleTitle</th>\n",
              "      <th>Question</th>\n",
              "      <th>Answer</th>\n",
              "      <th>DifficultyFromQuestioner</th>\n",
              "      <th>DifficultyFromAnswerer</th>\n",
              "      <th>ArticleFile</th>\n",
              "    </tr>\n",
              "  </thead>\n",
              "  <tbody>\n",
              "    <tr>\n",
              "      <th>0</th>\n",
              "      <td>Abraham_Lincoln</td>\n",
              "      <td>Was Abraham Lincoln the sixteenth President of...</td>\n",
              "      <td>yes</td>\n",
              "      <td>easy</td>\n",
              "      <td>easy</td>\n",
              "      <td>data/set3/a4</td>\n",
              "    </tr>\n",
              "    <tr>\n",
              "      <th>1</th>\n",
              "      <td>Abraham_Lincoln</td>\n",
              "      <td>Was Abraham Lincoln the sixteenth President of...</td>\n",
              "      <td>Yes.</td>\n",
              "      <td>easy</td>\n",
              "      <td>easy</td>\n",
              "      <td>data/set3/a4</td>\n",
              "    </tr>\n",
              "    <tr>\n",
              "      <th>2</th>\n",
              "      <td>Abraham_Lincoln</td>\n",
              "      <td>Did Lincoln sign the National Banking Act of 1...</td>\n",
              "      <td>yes</td>\n",
              "      <td>easy</td>\n",
              "      <td>medium</td>\n",
              "      <td>data/set3/a4</td>\n",
              "    </tr>\n",
              "    <tr>\n",
              "      <th>3</th>\n",
              "      <td>Abraham_Lincoln</td>\n",
              "      <td>Did Lincoln sign the National Banking Act of 1...</td>\n",
              "      <td>Yes.</td>\n",
              "      <td>easy</td>\n",
              "      <td>easy</td>\n",
              "      <td>data/set3/a4</td>\n",
              "    </tr>\n",
              "    <tr>\n",
              "      <th>4</th>\n",
              "      <td>Abraham_Lincoln</td>\n",
              "      <td>Did his mother die of pneumonia?</td>\n",
              "      <td>no</td>\n",
              "      <td>easy</td>\n",
              "      <td>medium</td>\n",
              "      <td>data/set3/a4</td>\n",
              "    </tr>\n",
              "  </tbody>\n",
              "</table>\n",
              "</div>"
            ],
            "text/plain": [
              "      ArticleTitle  ...   ArticleFile\n",
              "0  Abraham_Lincoln  ...  data/set3/a4\n",
              "1  Abraham_Lincoln  ...  data/set3/a4\n",
              "2  Abraham_Lincoln  ...  data/set3/a4\n",
              "3  Abraham_Lincoln  ...  data/set3/a4\n",
              "4  Abraham_Lincoln  ...  data/set3/a4\n",
              "\n",
              "[5 rows x 6 columns]"
            ]
          },
          "metadata": {},
          "execution_count": 5
        }
      ]
    },
    {
      "cell_type": "markdown",
      "metadata": {
        "id": "FT3qd3s19_WC"
      },
      "source": [
        "Drop irrelevant columns and remove questions without an answer"
      ]
    },
    {
      "cell_type": "code",
      "metadata": {
        "colab": {
          "base_uri": "https://localhost:8080/",
          "height": 224
        },
        "id": "b4kf9-I797XS",
        "outputId": "be474445-d9df-4541-bb67-158a3fb21f0e"
      },
      "source": [
        "#remove irrelevant columns\n",
        "data_all = data_all.drop(labels = ['DifficultyFromQuestioner', 'DifficultyFromAnswerer', 'ArticleFile'], axis = 1)\n",
        "\n",
        "#drop rows with NULL values\n",
        "data_all = data_all.dropna(subset=['Answer'])\n",
        "print(\"Shape:\", data_all.shape)\n",
        "data_all.head()"
      ],
      "execution_count": 6,
      "outputs": [
        {
          "output_type": "stream",
          "name": "stdout",
          "text": [
            "Shape: (3422, 3)\n"
          ]
        },
        {
          "output_type": "execute_result",
          "data": {
            "text/html": [
              "<div>\n",
              "<style scoped>\n",
              "    .dataframe tbody tr th:only-of-type {\n",
              "        vertical-align: middle;\n",
              "    }\n",
              "\n",
              "    .dataframe tbody tr th {\n",
              "        vertical-align: top;\n",
              "    }\n",
              "\n",
              "    .dataframe thead th {\n",
              "        text-align: right;\n",
              "    }\n",
              "</style>\n",
              "<table border=\"1\" class=\"dataframe\">\n",
              "  <thead>\n",
              "    <tr style=\"text-align: right;\">\n",
              "      <th></th>\n",
              "      <th>ArticleTitle</th>\n",
              "      <th>Question</th>\n",
              "      <th>Answer</th>\n",
              "    </tr>\n",
              "  </thead>\n",
              "  <tbody>\n",
              "    <tr>\n",
              "      <th>0</th>\n",
              "      <td>Abraham_Lincoln</td>\n",
              "      <td>Was Abraham Lincoln the sixteenth President of...</td>\n",
              "      <td>yes</td>\n",
              "    </tr>\n",
              "    <tr>\n",
              "      <th>1</th>\n",
              "      <td>Abraham_Lincoln</td>\n",
              "      <td>Was Abraham Lincoln the sixteenth President of...</td>\n",
              "      <td>Yes.</td>\n",
              "    </tr>\n",
              "    <tr>\n",
              "      <th>2</th>\n",
              "      <td>Abraham_Lincoln</td>\n",
              "      <td>Did Lincoln sign the National Banking Act of 1...</td>\n",
              "      <td>yes</td>\n",
              "    </tr>\n",
              "    <tr>\n",
              "      <th>3</th>\n",
              "      <td>Abraham_Lincoln</td>\n",
              "      <td>Did Lincoln sign the National Banking Act of 1...</td>\n",
              "      <td>Yes.</td>\n",
              "    </tr>\n",
              "    <tr>\n",
              "      <th>4</th>\n",
              "      <td>Abraham_Lincoln</td>\n",
              "      <td>Did his mother die of pneumonia?</td>\n",
              "      <td>no</td>\n",
              "    </tr>\n",
              "  </tbody>\n",
              "</table>\n",
              "</div>"
            ],
            "text/plain": [
              "      ArticleTitle                                           Question Answer\n",
              "0  Abraham_Lincoln  Was Abraham Lincoln the sixteenth President of...    yes\n",
              "1  Abraham_Lincoln  Was Abraham Lincoln the sixteenth President of...   Yes.\n",
              "2  Abraham_Lincoln  Did Lincoln sign the National Banking Act of 1...    yes\n",
              "3  Abraham_Lincoln  Did Lincoln sign the National Banking Act of 1...   Yes.\n",
              "4  Abraham_Lincoln                   Did his mother die of pneumonia?     no"
            ]
          },
          "metadata": {},
          "execution_count": 6
        }
      ]
    },
    {
      "cell_type": "markdown",
      "metadata": {
        "id": "hp-3Ro8K_NXb"
      },
      "source": [
        "Remove duplicate questions"
      ]
    },
    {
      "cell_type": "code",
      "metadata": {
        "colab": {
          "base_uri": "https://localhost:8080/",
          "height": 224
        },
        "id": "mpP0ksyOBIQY",
        "outputId": "799b356a-85cb-4299-ec35-2ce10ccf7499"
      },
      "source": [
        "#remove duplicate questions\n",
        "data_all = data_all.drop_duplicates(subset=['Question'])\n",
        "print(\"Shape:\", data_all.shape)\n",
        "data_all.head()"
      ],
      "execution_count": 7,
      "outputs": [
        {
          "output_type": "stream",
          "name": "stdout",
          "text": [
            "Shape: (2203, 3)\n"
          ]
        },
        {
          "output_type": "execute_result",
          "data": {
            "text/html": [
              "<div>\n",
              "<style scoped>\n",
              "    .dataframe tbody tr th:only-of-type {\n",
              "        vertical-align: middle;\n",
              "    }\n",
              "\n",
              "    .dataframe tbody tr th {\n",
              "        vertical-align: top;\n",
              "    }\n",
              "\n",
              "    .dataframe thead th {\n",
              "        text-align: right;\n",
              "    }\n",
              "</style>\n",
              "<table border=\"1\" class=\"dataframe\">\n",
              "  <thead>\n",
              "    <tr style=\"text-align: right;\">\n",
              "      <th></th>\n",
              "      <th>ArticleTitle</th>\n",
              "      <th>Question</th>\n",
              "      <th>Answer</th>\n",
              "    </tr>\n",
              "  </thead>\n",
              "  <tbody>\n",
              "    <tr>\n",
              "      <th>0</th>\n",
              "      <td>Abraham_Lincoln</td>\n",
              "      <td>Was Abraham Lincoln the sixteenth President of...</td>\n",
              "      <td>yes</td>\n",
              "    </tr>\n",
              "    <tr>\n",
              "      <th>2</th>\n",
              "      <td>Abraham_Lincoln</td>\n",
              "      <td>Did Lincoln sign the National Banking Act of 1...</td>\n",
              "      <td>yes</td>\n",
              "    </tr>\n",
              "    <tr>\n",
              "      <th>4</th>\n",
              "      <td>Abraham_Lincoln</td>\n",
              "      <td>Did his mother die of pneumonia?</td>\n",
              "      <td>no</td>\n",
              "    </tr>\n",
              "    <tr>\n",
              "      <th>6</th>\n",
              "      <td>Abraham_Lincoln</td>\n",
              "      <td>How many long was Lincoln's formal education?</td>\n",
              "      <td>18 months</td>\n",
              "    </tr>\n",
              "    <tr>\n",
              "      <th>8</th>\n",
              "      <td>Abraham_Lincoln</td>\n",
              "      <td>When did Lincoln begin his political career?</td>\n",
              "      <td>1832</td>\n",
              "    </tr>\n",
              "  </tbody>\n",
              "</table>\n",
              "</div>"
            ],
            "text/plain": [
              "      ArticleTitle  ...     Answer\n",
              "0  Abraham_Lincoln  ...        yes\n",
              "2  Abraham_Lincoln  ...        yes\n",
              "4  Abraham_Lincoln  ...         no\n",
              "6  Abraham_Lincoln  ...  18 months\n",
              "8  Abraham_Lincoln  ...       1832\n",
              "\n",
              "[5 rows x 3 columns]"
            ]
          },
          "metadata": {},
          "execution_count": 7
        }
      ]
    },
    {
      "cell_type": "markdown",
      "metadata": {
        "id": "2kyp9pdO_ViF"
      },
      "source": [
        "Convert all text to lower case"
      ]
    },
    {
      "cell_type": "code",
      "metadata": {
        "id": "HqCHtna--_FI",
        "colab": {
          "base_uri": "https://localhost:8080/",
          "height": 206
        },
        "outputId": "f8d8398e-d36e-4d2b-d34b-48b75ff735c7"
      },
      "source": [
        "# convert text to lower case\n",
        "data_all = data_all.apply(lambda x: x.astype(str).str.lower())\n",
        "data_all.head()"
      ],
      "execution_count": 8,
      "outputs": [
        {
          "output_type": "execute_result",
          "data": {
            "text/html": [
              "<div>\n",
              "<style scoped>\n",
              "    .dataframe tbody tr th:only-of-type {\n",
              "        vertical-align: middle;\n",
              "    }\n",
              "\n",
              "    .dataframe tbody tr th {\n",
              "        vertical-align: top;\n",
              "    }\n",
              "\n",
              "    .dataframe thead th {\n",
              "        text-align: right;\n",
              "    }\n",
              "</style>\n",
              "<table border=\"1\" class=\"dataframe\">\n",
              "  <thead>\n",
              "    <tr style=\"text-align: right;\">\n",
              "      <th></th>\n",
              "      <th>ArticleTitle</th>\n",
              "      <th>Question</th>\n",
              "      <th>Answer</th>\n",
              "    </tr>\n",
              "  </thead>\n",
              "  <tbody>\n",
              "    <tr>\n",
              "      <th>0</th>\n",
              "      <td>abraham_lincoln</td>\n",
              "      <td>was abraham lincoln the sixteenth president of...</td>\n",
              "      <td>yes</td>\n",
              "    </tr>\n",
              "    <tr>\n",
              "      <th>2</th>\n",
              "      <td>abraham_lincoln</td>\n",
              "      <td>did lincoln sign the national banking act of 1...</td>\n",
              "      <td>yes</td>\n",
              "    </tr>\n",
              "    <tr>\n",
              "      <th>4</th>\n",
              "      <td>abraham_lincoln</td>\n",
              "      <td>did his mother die of pneumonia?</td>\n",
              "      <td>no</td>\n",
              "    </tr>\n",
              "    <tr>\n",
              "      <th>6</th>\n",
              "      <td>abraham_lincoln</td>\n",
              "      <td>how many long was lincoln's formal education?</td>\n",
              "      <td>18 months</td>\n",
              "    </tr>\n",
              "    <tr>\n",
              "      <th>8</th>\n",
              "      <td>abraham_lincoln</td>\n",
              "      <td>when did lincoln begin his political career?</td>\n",
              "      <td>1832</td>\n",
              "    </tr>\n",
              "  </tbody>\n",
              "</table>\n",
              "</div>"
            ],
            "text/plain": [
              "      ArticleTitle  ...     Answer\n",
              "0  abraham_lincoln  ...        yes\n",
              "2  abraham_lincoln  ...        yes\n",
              "4  abraham_lincoln  ...         no\n",
              "6  abraham_lincoln  ...  18 months\n",
              "8  abraham_lincoln  ...       1832\n",
              "\n",
              "[5 rows x 3 columns]"
            ]
          },
          "metadata": {},
          "execution_count": 8
        }
      ]
    },
    {
      "cell_type": "markdown",
      "metadata": {
        "id": "YzeXNomdBVnp"
      },
      "source": [
        "Load Wikipedia article and add to the dataframe"
      ]
    },
    {
      "cell_type": "code",
      "metadata": {
        "colab": {
          "base_uri": "https://localhost:8080/",
          "height": 224
        },
        "id": "E0O8WpXIBOc9",
        "outputId": "497f8815-9ccf-4fa8-b064-e4a0ab6b04db"
      },
      "source": [
        "#Add a column containing the context\n",
        "#create dataset with column\n",
        "title = []\n",
        "context = []\n",
        "\n",
        "#pull context and titles from S08\n",
        "for y in range (8, 11):   \n",
        "  for s in range(1, 7):\n",
        "    for a in range(1, 11):\n",
        "      file = str('Data/Question_Answer_Dataset_v1.2/S0' + str(y) + '/data/set' + str(s) + '/a' + str(a) + '.txt.clean' )\n",
        "      if os.path.exists(file):\n",
        "        article = open(file, encoding = \"ISO-8859-1\").read()\n",
        "        context.append(article)\n",
        "        title.append(article.split('\\n')[0])\n",
        "\n",
        "#create dataframe for context and titles\n",
        "data_articles = pd.DataFrame({'ArticleTitle': title,\n",
        "                              'Context': context})\n",
        "\n",
        "#make lower case\n",
        "data_articles = data_articles.apply(lambda x: x.astype(str).str.lower())\n",
        "\n",
        "print(\"Shape:\", data_articles.shape)\n",
        "data_articles.head()"
      ],
      "execution_count": 9,
      "outputs": [
        {
          "output_type": "stream",
          "name": "stdout",
          "text": [
            "Shape: (90, 2)\n"
          ]
        },
        {
          "output_type": "execute_result",
          "data": {
            "text/html": [
              "<div>\n",
              "<style scoped>\n",
              "    .dataframe tbody tr th:only-of-type {\n",
              "        vertical-align: middle;\n",
              "    }\n",
              "\n",
              "    .dataframe tbody tr th {\n",
              "        vertical-align: top;\n",
              "    }\n",
              "\n",
              "    .dataframe thead th {\n",
              "        text-align: right;\n",
              "    }\n",
              "</style>\n",
              "<table border=\"1\" class=\"dataframe\">\n",
              "  <thead>\n",
              "    <tr style=\"text-align: right;\">\n",
              "      <th></th>\n",
              "      <th>ArticleTitle</th>\n",
              "      <th>Context</th>\n",
              "    </tr>\n",
              "  </thead>\n",
              "  <tbody>\n",
              "    <tr>\n",
              "      <th>0</th>\n",
              "      <td>kangaroo</td>\n",
              "      <td>kangaroo\\n\\n\\na kangaroo is a marsupial from t...</td>\n",
              "    </tr>\n",
              "    <tr>\n",
              "      <th>1</th>\n",
              "      <td>leopard</td>\n",
              "      <td>leopard\\n\\n\\n\\nthe leopard (panthera pardus) i...</td>\n",
              "    </tr>\n",
              "    <tr>\n",
              "      <th>2</th>\n",
              "      <td>penguin</td>\n",
              "      <td>penguin\\n\\n\\n\\na penguin encounters a human du...</td>\n",
              "    </tr>\n",
              "    <tr>\n",
              "      <th>3</th>\n",
              "      <td>polar bear</td>\n",
              "      <td>polar bear\\n\\n\\n\\nthe polar bear (ursus mariti...</td>\n",
              "    </tr>\n",
              "    <tr>\n",
              "      <th>4</th>\n",
              "      <td>elephant</td>\n",
              "      <td>elephant\\n\\n\\n\\nelephants (elephantidae) are a...</td>\n",
              "    </tr>\n",
              "  </tbody>\n",
              "</table>\n",
              "</div>"
            ],
            "text/plain": [
              "  ArticleTitle                                            Context\n",
              "0     kangaroo  kangaroo\\n\\n\\na kangaroo is a marsupial from t...\n",
              "1      leopard  leopard\\n\\n\\n\\nthe leopard (panthera pardus) i...\n",
              "2      penguin  penguin\\n\\n\\n\\na penguin encounters a human du...\n",
              "3   polar bear  polar bear\\n\\n\\n\\nthe polar bear (ursus mariti...\n",
              "4     elephant  elephant\\n\\n\\n\\nelephants (elephantidae) are a..."
            ]
          },
          "metadata": {},
          "execution_count": 9
        }
      ]
    },
    {
      "cell_type": "code",
      "metadata": {
        "colab": {
          "base_uri": "https://localhost:8080/",
          "height": 224
        },
        "id": "xIsdAK3WBp0R",
        "outputId": "12270f3d-bb38-481b-bb79-f0a0f0f1de8a"
      },
      "source": [
        "#replace all _ in titles with spaces\n",
        "data_all['ArticleTitle'] = data_all['ArticleTitle'].str.replace('_', ' ')\n",
        "data_articles['ArticleTitle'] = data_articles['ArticleTitle'].str.replace('_', ' ')\n",
        "\n",
        "#join context into data all\n",
        "data_all = data_all.merge(data_articles, how='left', on='ArticleTitle')\n",
        "\n",
        "print(\"Shape:\", data_all.shape)\n",
        "data_all.head()"
      ],
      "execution_count": 10,
      "outputs": [
        {
          "output_type": "stream",
          "name": "stdout",
          "text": [
            "Shape: (2755, 4)\n"
          ]
        },
        {
          "output_type": "execute_result",
          "data": {
            "text/html": [
              "<div>\n",
              "<style scoped>\n",
              "    .dataframe tbody tr th:only-of-type {\n",
              "        vertical-align: middle;\n",
              "    }\n",
              "\n",
              "    .dataframe tbody tr th {\n",
              "        vertical-align: top;\n",
              "    }\n",
              "\n",
              "    .dataframe thead th {\n",
              "        text-align: right;\n",
              "    }\n",
              "</style>\n",
              "<table border=\"1\" class=\"dataframe\">\n",
              "  <thead>\n",
              "    <tr style=\"text-align: right;\">\n",
              "      <th></th>\n",
              "      <th>ArticleTitle</th>\n",
              "      <th>Question</th>\n",
              "      <th>Answer</th>\n",
              "      <th>Context</th>\n",
              "    </tr>\n",
              "  </thead>\n",
              "  <tbody>\n",
              "    <tr>\n",
              "      <th>0</th>\n",
              "      <td>abraham lincoln</td>\n",
              "      <td>was abraham lincoln the sixteenth president of...</td>\n",
              "      <td>yes</td>\n",
              "      <td>abraham lincoln\\n\\n\\n\\nabraham lincoln (februa...</td>\n",
              "    </tr>\n",
              "    <tr>\n",
              "      <th>1</th>\n",
              "      <td>abraham lincoln</td>\n",
              "      <td>did lincoln sign the national banking act of 1...</td>\n",
              "      <td>yes</td>\n",
              "      <td>abraham lincoln\\n\\n\\n\\nabraham lincoln (februa...</td>\n",
              "    </tr>\n",
              "    <tr>\n",
              "      <th>2</th>\n",
              "      <td>abraham lincoln</td>\n",
              "      <td>did his mother die of pneumonia?</td>\n",
              "      <td>no</td>\n",
              "      <td>abraham lincoln\\n\\n\\n\\nabraham lincoln (februa...</td>\n",
              "    </tr>\n",
              "    <tr>\n",
              "      <th>3</th>\n",
              "      <td>abraham lincoln</td>\n",
              "      <td>how many long was lincoln's formal education?</td>\n",
              "      <td>18 months</td>\n",
              "      <td>abraham lincoln\\n\\n\\n\\nabraham lincoln (februa...</td>\n",
              "    </tr>\n",
              "    <tr>\n",
              "      <th>4</th>\n",
              "      <td>abraham lincoln</td>\n",
              "      <td>when did lincoln begin his political career?</td>\n",
              "      <td>1832</td>\n",
              "      <td>abraham lincoln\\n\\n\\n\\nabraham lincoln (februa...</td>\n",
              "    </tr>\n",
              "  </tbody>\n",
              "</table>\n",
              "</div>"
            ],
            "text/plain": [
              "      ArticleTitle  ...                                            Context\n",
              "0  abraham lincoln  ...  abraham lincoln\\n\\n\\n\\nabraham lincoln (februa...\n",
              "1  abraham lincoln  ...  abraham lincoln\\n\\n\\n\\nabraham lincoln (februa...\n",
              "2  abraham lincoln  ...  abraham lincoln\\n\\n\\n\\nabraham lincoln (februa...\n",
              "3  abraham lincoln  ...  abraham lincoln\\n\\n\\n\\nabraham lincoln (februa...\n",
              "4  abraham lincoln  ...  abraham lincoln\\n\\n\\n\\nabraham lincoln (februa...\n",
              "\n",
              "[5 rows x 4 columns]"
            ]
          },
          "metadata": {},
          "execution_count": 10
        }
      ]
    },
    {
      "cell_type": "markdown",
      "metadata": {
        "id": "-n9qiwcW_-bM"
      },
      "source": [
        "### Explore Data\n",
        "Check the word length of the answers. How many questions are yes/no questions? What type of question is asked most often?"
      ]
    },
    {
      "cell_type": "code",
      "metadata": {
        "colab": {
          "base_uri": "https://localhost:8080/",
          "height": 473
        },
        "id": "kkthNMr8AJ0u",
        "outputId": "9f0a6488-e32b-4eb7-d701-3770e1f604e4"
      },
      "source": [
        "#plot the distribution of answer word length\n",
        "word_length = data_all['Answer'].str.count(' ') + 1\n",
        "string_length = data_all['Answer'].str.len()\n",
        "\n",
        "print('Single word answers:', (word_length == 1).sum())\n",
        "print('Two word answers:', (word_length == 2).sum())\n",
        "print('Three word answers:', (word_length == 3).sum())\n",
        "print('Four word answers:', (word_length == 4).sum())\n",
        "print('Five word answers:', (word_length == 5).sum())\n",
        "print('6-10 word answers:', ((word_length > 5) & (word_length <= 10)).sum())\n",
        "print('11-20 word answers:', ((word_length > 10) & (word_length <= 20)).sum())\n",
        "print('More than 20 words answers:', (word_length > 20).sum())\n",
        "print('\\nMax answer word length:', word_length.max())\n",
        "print('Max answer string length:', string_length.max())\n",
        "\n",
        "#plt.hist(word_length, bins = 100)\n",
        "plt.bar(word_length.unique(), word_length.value_counts())\n",
        "plt.ylim([0,1250])\n",
        "plt.show"
      ],
      "execution_count": 11,
      "outputs": [
        {
          "output_type": "stream",
          "name": "stdout",
          "text": [
            "Single word answers: 1575\n",
            "Two word answers: 231\n",
            "Three word answers: 161\n",
            "Four word answers: 124\n",
            "Five word answers: 88\n",
            "6-10 word answers: 341\n",
            "11-20 word answers: 186\n",
            "More than 20 words answers: 49\n",
            "\n",
            "Max answer word length: 156\n",
            "Max answer string length: 926\n"
          ]
        },
        {
          "output_type": "execute_result",
          "data": {
            "text/plain": [
              "<function matplotlib.pyplot.show>"
            ]
          },
          "metadata": {},
          "execution_count": 11
        },
        {
          "output_type": "display_data",
          "data": {
            "image/png": "[encoded data removed]",
            "text/plain": [
              "<Figure size 432x288 with 1 Axes>"
            ]
          },
          "metadata": {
            "needs_background": "light"
          }
        }
      ]
    },
    {
      "cell_type": "code",
      "metadata": {
        "colab": {
          "base_uri": "https://localhost:8080/"
        },
        "id": "FvIcXDR4AVYQ",
        "outputId": "a2680701-ce99-4a1d-aff6-dc118cd74bab"
      },
      "source": [
        "#examine types of questions\n",
        "question_type = data_all['Question'].str.split(' ').str[0]\n",
        "question_type.value_counts()"
      ],
      "execution_count": 12,
      "outputs": [
        {
          "output_type": "execute_result",
          "data": {
            "text/plain": [
              "what         564\n",
              "is           395\n",
              "was          247\n",
              "how          196\n",
              "did          193\n",
              "            ... \n",
              "with           1\n",
              "whare          1\n",
              "different      1\n",
              "drums          1\n",
              "adams          1\n",
              "Name: Question, Length: 102, dtype: int64"
            ]
          },
          "metadata": {},
          "execution_count": 12
        }
      ]
    },
    {
      "cell_type": "code",
      "metadata": {
        "colab": {
          "base_uri": "https://localhost:8080/",
          "height": 224
        },
        "id": "so8tYjgtAZjG",
        "outputId": "f9f9a469-4eda-4ca7-e62f-bd36909d0ec1"
      },
      "source": [
        "#pull all yes/no questions\n",
        "yes_no = ['yes', 'yes.', 'yes,', 'no', 'no.', 'no,']\n",
        "data_yn = data_all.where(data_all['Answer'].str.split(' ').str[0].isin(yes_no)).dropna()\n",
        "data_yn['Answer'] = data_yn['Answer'].str.split(' ').str[0]\n",
        "\n",
        "#remove periods & commas\n",
        "data_yn['Answer'] = data_yn['Answer'].str.replace('.','')\n",
        "data_yn['Answer'] = data_yn['Answer'].str.replace(',','')\n",
        "\n",
        "print(\"Shape:\", data_yn.shape)\n",
        "data_yn.head()"
      ],
      "execution_count": 13,
      "outputs": [
        {
          "output_type": "stream",
          "name": "stdout",
          "text": [
            "Shape: (1070, 4)\n"
          ]
        },
        {
          "output_type": "execute_result",
          "data": {
            "text/html": [
              "<div>\n",
              "<style scoped>\n",
              "    .dataframe tbody tr th:only-of-type {\n",
              "        vertical-align: middle;\n",
              "    }\n",
              "\n",
              "    .dataframe tbody tr th {\n",
              "        vertical-align: top;\n",
              "    }\n",
              "\n",
              "    .dataframe thead th {\n",
              "        text-align: right;\n",
              "    }\n",
              "</style>\n",
              "<table border=\"1\" class=\"dataframe\">\n",
              "  <thead>\n",
              "    <tr style=\"text-align: right;\">\n",
              "      <th></th>\n",
              "      <th>ArticleTitle</th>\n",
              "      <th>Question</th>\n",
              "      <th>Answer</th>\n",
              "      <th>Context</th>\n",
              "    </tr>\n",
              "  </thead>\n",
              "  <tbody>\n",
              "    <tr>\n",
              "      <th>0</th>\n",
              "      <td>abraham lincoln</td>\n",
              "      <td>was abraham lincoln the sixteenth president of...</td>\n",
              "      <td>yes</td>\n",
              "      <td>abraham lincoln\\n\\n\\n\\nabraham lincoln (februa...</td>\n",
              "    </tr>\n",
              "    <tr>\n",
              "      <th>1</th>\n",
              "      <td>abraham lincoln</td>\n",
              "      <td>did lincoln sign the national banking act of 1...</td>\n",
              "      <td>yes</td>\n",
              "      <td>abraham lincoln\\n\\n\\n\\nabraham lincoln (februa...</td>\n",
              "    </tr>\n",
              "    <tr>\n",
              "      <th>2</th>\n",
              "      <td>abraham lincoln</td>\n",
              "      <td>did his mother die of pneumonia?</td>\n",
              "      <td>no</td>\n",
              "      <td>abraham lincoln\\n\\n\\n\\nabraham lincoln (februa...</td>\n",
              "    </tr>\n",
              "    <tr>\n",
              "      <th>8</th>\n",
              "      <td>abraham lincoln</td>\n",
              "      <td>did lincoln beat john c. breckinridge in the 1...</td>\n",
              "      <td>yes</td>\n",
              "      <td>abraham lincoln\\n\\n\\n\\nabraham lincoln (februa...</td>\n",
              "    </tr>\n",
              "    <tr>\n",
              "      <th>9</th>\n",
              "      <td>abraham lincoln</td>\n",
              "      <td>was abraham lincoln the first president of the...</td>\n",
              "      <td>no</td>\n",
              "      <td>abraham lincoln\\n\\n\\n\\nabraham lincoln (februa...</td>\n",
              "    </tr>\n",
              "  </tbody>\n",
              "</table>\n",
              "</div>"
            ],
            "text/plain": [
              "      ArticleTitle  ...                                            Context\n",
              "0  abraham lincoln  ...  abraham lincoln\\n\\n\\n\\nabraham lincoln (februa...\n",
              "1  abraham lincoln  ...  abraham lincoln\\n\\n\\n\\nabraham lincoln (februa...\n",
              "2  abraham lincoln  ...  abraham lincoln\\n\\n\\n\\nabraham lincoln (februa...\n",
              "8  abraham lincoln  ...  abraham lincoln\\n\\n\\n\\nabraham lincoln (februa...\n",
              "9  abraham lincoln  ...  abraham lincoln\\n\\n\\n\\nabraham lincoln (februa...\n",
              "\n",
              "[5 rows x 4 columns]"
            ]
          },
          "metadata": {},
          "execution_count": 13
        }
      ]
    },
    {
      "cell_type": "code",
      "metadata": {
        "colab": {
          "base_uri": "https://localhost:8080/",
          "height": 224
        },
        "id": "ZeCGYVNYAeea",
        "outputId": "f51f8e10-0546-426d-ac11-5e699cab35bb"
      },
      "source": [
        "#pull all other questions that pull \"direct\" answers from the context\n",
        "data_context = data_all.where((data_all['Answer'].str.split(' ').str[0].isin(yes_no)) == False).dropna()\n",
        "data_context.to_csv('Questions_toClean.csv', index=False)\n",
        "print(\"Shape:\", data_context.shape)\n",
        "data_context.head()"
      ],
      "execution_count": 14,
      "outputs": [
        {
          "output_type": "stream",
          "name": "stdout",
          "text": [
            "Shape: (1252, 4)\n"
          ]
        },
        {
          "output_type": "execute_result",
          "data": {
            "text/html": [
              "<div>\n",
              "<style scoped>\n",
              "    .dataframe tbody tr th:only-of-type {\n",
              "        vertical-align: middle;\n",
              "    }\n",
              "\n",
              "    .dataframe tbody tr th {\n",
              "        vertical-align: top;\n",
              "    }\n",
              "\n",
              "    .dataframe thead th {\n",
              "        text-align: right;\n",
              "    }\n",
              "</style>\n",
              "<table border=\"1\" class=\"dataframe\">\n",
              "  <thead>\n",
              "    <tr style=\"text-align: right;\">\n",
              "      <th></th>\n",
              "      <th>ArticleTitle</th>\n",
              "      <th>Question</th>\n",
              "      <th>Answer</th>\n",
              "      <th>Context</th>\n",
              "    </tr>\n",
              "  </thead>\n",
              "  <tbody>\n",
              "    <tr>\n",
              "      <th>3</th>\n",
              "      <td>abraham lincoln</td>\n",
              "      <td>how many long was lincoln's formal education?</td>\n",
              "      <td>18 months</td>\n",
              "      <td>abraham lincoln\\n\\n\\n\\nabraham lincoln (februa...</td>\n",
              "    </tr>\n",
              "    <tr>\n",
              "      <th>4</th>\n",
              "      <td>abraham lincoln</td>\n",
              "      <td>when did lincoln begin his political career?</td>\n",
              "      <td>1832</td>\n",
              "      <td>abraham lincoln\\n\\n\\n\\nabraham lincoln (februa...</td>\n",
              "    </tr>\n",
              "    <tr>\n",
              "      <th>5</th>\n",
              "      <td>abraham lincoln</td>\n",
              "      <td>what did the legal tender act of 1862 establish?</td>\n",
              "      <td>the united states note, the first paper curren...</td>\n",
              "      <td>abraham lincoln\\n\\n\\n\\nabraham lincoln (februa...</td>\n",
              "    </tr>\n",
              "    <tr>\n",
              "      <th>6</th>\n",
              "      <td>abraham lincoln</td>\n",
              "      <td>who suggested lincoln grow a beard?</td>\n",
              "      <td>11-year-old grace bedell</td>\n",
              "      <td>abraham lincoln\\n\\n\\n\\nabraham lincoln (februa...</td>\n",
              "    </tr>\n",
              "    <tr>\n",
              "      <th>7</th>\n",
              "      <td>abraham lincoln</td>\n",
              "      <td>when did the gettysburg address argue that ame...</td>\n",
              "      <td>1776</td>\n",
              "      <td>abraham lincoln\\n\\n\\n\\nabraham lincoln (februa...</td>\n",
              "    </tr>\n",
              "  </tbody>\n",
              "</table>\n",
              "</div>"
            ],
            "text/plain": [
              "      ArticleTitle  ...                                            Context\n",
              "3  abraham lincoln  ...  abraham lincoln\\n\\n\\n\\nabraham lincoln (februa...\n",
              "4  abraham lincoln  ...  abraham lincoln\\n\\n\\n\\nabraham lincoln (februa...\n",
              "5  abraham lincoln  ...  abraham lincoln\\n\\n\\n\\nabraham lincoln (februa...\n",
              "6  abraham lincoln  ...  abraham lincoln\\n\\n\\n\\nabraham lincoln (februa...\n",
              "7  abraham lincoln  ...  abraham lincoln\\n\\n\\n\\nabraham lincoln (februa...\n",
              "\n",
              "[5 rows x 4 columns]"
            ]
          },
          "metadata": {},
          "execution_count": 14
        }
      ]
    },
    {
      "cell_type": "code",
      "metadata": {
        "colab": {
          "base_uri": "https://localhost:8080/",
          "height": 477
        },
        "id": "RSmrKDXEAkij",
        "outputId": "39a4da17-5e4e-4ba6-89b9-de6f735b5b71"
      },
      "source": [
        "#plot the distribution of answer word length for questions that aren't yes/no\n",
        "word_length = data_context['Answer'].str.count(' ') + 1\n",
        "string_length = data_context['Answer'].str.len()\n",
        "\n",
        "print('Single word answers:', (word_length == 1).sum())\n",
        "print('Two word answers:', (word_length == 2).sum())\n",
        "print('Three word answers:', (word_length == 3).sum())\n",
        "print('Four word answers:', (word_length == 4).sum())\n",
        "print('Five word answers:', (word_length == 5).sum())\n",
        "print('6-10 word answers:', ((word_length > 5) & (word_length <= 10)).sum())\n",
        "print('11-20 word answers:', ((word_length > 10) & (word_length <= 20)).sum())\n",
        "print('More than 20 words answers:', (word_length > 20).sum())\n",
        "print('\\nMax answer word length:', word_length.max())\n",
        "print('Max answer string length:', string_length.max())\n",
        "\n",
        "#plt.hist(word_length, bins = 100)\n",
        "plt.bar(word_length.unique(), word_length.value_counts())\n",
        "plt.ylim([0,300])\n",
        "plt.show"
      ],
      "execution_count": 15,
      "outputs": [
        {
          "output_type": "stream",
          "name": "stdout",
          "text": [
            "Single word answers: 363\n",
            "Two word answers: 197\n",
            "Three word answers: 141\n",
            "Four word answers: 99\n",
            "Five word answers: 69\n",
            "6-10 word answers: 236\n",
            "11-20 word answers: 116\n",
            "More than 20 words answers: 31\n",
            "\n",
            "Max answer word length: 156\n",
            "Max answer string length: 926\n"
          ]
        },
        {
          "output_type": "execute_result",
          "data": {
            "text/plain": [
              "<function matplotlib.pyplot.show>"
            ]
          },
          "metadata": {},
          "execution_count": 15
        },
        {
          "output_type": "display_data",
          "data": {
            "image/png": "[encoded data removed]",
            "text/plain": [
              "<Figure size 432x288 with 1 Axes>"
            ]
          },
          "metadata": {
            "needs_background": "light"
          }
        }
      ]
    },
    {
      "cell_type": "code",
      "metadata": {
        "colab": {
          "base_uri": "https://localhost:8080/",
          "height": 258
        },
        "id": "fVwRqfVVA6Gn",
        "outputId": "a14e727f-6a21-498c-cd94-b77d8ec4c7f0"
      },
      "source": [
        "#create type indicator in data set and combine clean yes/no and context\n",
        "data_yn['Answer Type'] = '1'\n",
        "data_context['Answer Type'] = '0'\n",
        "data_all = data_yn.append(data_context)\n",
        "\n",
        "print(\"Shape:\", data_all.shape)\n",
        "print(\"Shape of Yes/No questions:\", data_yn.shape)\n",
        "print(\"Shape of Context questions:\", data_context.shape)\n",
        "data_all.head()"
      ],
      "execution_count": 26,
      "outputs": [
        {
          "output_type": "stream",
          "name": "stdout",
          "text": [
            "Shape: (2322, 5)\n",
            "Shape of Yes/No questions: (1070, 5)\n",
            "Shape of Context questions: (1252, 5)\n"
          ]
        },
        {
          "output_type": "execute_result",
          "data": {
            "text/html": [
              "<div>\n",
              "<style scoped>\n",
              "    .dataframe tbody tr th:only-of-type {\n",
              "        vertical-align: middle;\n",
              "    }\n",
              "\n",
              "    .dataframe tbody tr th {\n",
              "        vertical-align: top;\n",
              "    }\n",
              "\n",
              "    .dataframe thead th {\n",
              "        text-align: right;\n",
              "    }\n",
              "</style>\n",
              "<table border=\"1\" class=\"dataframe\">\n",
              "  <thead>\n",
              "    <tr style=\"text-align: right;\">\n",
              "      <th></th>\n",
              "      <th>ArticleTitle</th>\n",
              "      <th>Question</th>\n",
              "      <th>Answer</th>\n",
              "      <th>Context</th>\n",
              "      <th>Answer Type</th>\n",
              "    </tr>\n",
              "  </thead>\n",
              "  <tbody>\n",
              "    <tr>\n",
              "      <th>0</th>\n",
              "      <td>abraham lincoln</td>\n",
              "      <td>was abraham lincoln the sixteenth president of...</td>\n",
              "      <td>yes</td>\n",
              "      <td>abraham lincoln\\n\\n\\n\\nabraham lincoln (februa...</td>\n",
              "      <td>1</td>\n",
              "    </tr>\n",
              "    <tr>\n",
              "      <th>1</th>\n",
              "      <td>abraham lincoln</td>\n",
              "      <td>did lincoln sign the national banking act of 1...</td>\n",
              "      <td>yes</td>\n",
              "      <td>abraham lincoln\\n\\n\\n\\nabraham lincoln (februa...</td>\n",
              "      <td>1</td>\n",
              "    </tr>\n",
              "    <tr>\n",
              "      <th>2</th>\n",
              "      <td>abraham lincoln</td>\n",
              "      <td>did his mother die of pneumonia?</td>\n",
              "      <td>no</td>\n",
              "      <td>abraham lincoln\\n\\n\\n\\nabraham lincoln (februa...</td>\n",
              "      <td>1</td>\n",
              "    </tr>\n",
              "    <tr>\n",
              "      <th>8</th>\n",
              "      <td>abraham lincoln</td>\n",
              "      <td>did lincoln beat john c. breckinridge in the 1...</td>\n",
              "      <td>yes</td>\n",
              "      <td>abraham lincoln\\n\\n\\n\\nabraham lincoln (februa...</td>\n",
              "      <td>1</td>\n",
              "    </tr>\n",
              "    <tr>\n",
              "      <th>9</th>\n",
              "      <td>abraham lincoln</td>\n",
              "      <td>was abraham lincoln the first president of the...</td>\n",
              "      <td>no</td>\n",
              "      <td>abraham lincoln\\n\\n\\n\\nabraham lincoln (februa...</td>\n",
              "      <td>1</td>\n",
              "    </tr>\n",
              "  </tbody>\n",
              "</table>\n",
              "</div>"
            ],
            "text/plain": [
              "      ArticleTitle  ... Answer Type\n",
              "0  abraham lincoln  ...           1\n",
              "1  abraham lincoln  ...           1\n",
              "2  abraham lincoln  ...           1\n",
              "8  abraham lincoln  ...           1\n",
              "9  abraham lincoln  ...           1\n",
              "\n",
              "[5 rows x 5 columns]"
            ]
          },
          "metadata": {},
          "execution_count": 26
        }
      ]
    },
    {
      "cell_type": "markdown",
      "metadata": {
        "id": "SQv-B6tMCdAr"
      },
      "source": [
        "### Data Preprocess - Model preparation"
      ]
    },
    {
      "cell_type": "code",
      "metadata": {
        "id": "hesWN6lUs4wN"
      },
      "source": [
        "# split yes/no question answers into train test dataset\n",
        "X_train_yn, X_test_yn, y_train_yn, y_test_yn = train_test_split(list(data_yn['Question']), list(data_yn['Answer Type']),\n",
        "          shuffle=True, test_size=0.1, random_state=5)\n",
        "\n",
        "# print(X_train_yn.shape)\n",
        "# print(X_test_yn.shape)\n",
        "# print(y_train_yn.shape)\n",
        "# print(y_test_yn.shape)\n",
        "# questions_yn = list(data_all['Question'])\n",
        "# answers_yn = list(data_all['Answer'])\n",
        "vocab_size = 10000\n",
        "trunc_type =  'post'\n",
        "padding_type = 'post'"
      ],
      "execution_count": 17,
      "outputs": []
    },
    {
      "cell_type": "code",
      "metadata": {
        "id": "qwyYgQchBMik",
        "colab": {
          "base_uri": "https://localhost:8080/"
        },
        "outputId": "d549100d-2270-40e6-8eaa-0ea7f598a369"
      },
      "source": [
        "#Tokenization Example for Questions/Answers\n",
        "# import APIs\n",
        "from tensorflow.keras.preprocessing.text import Tokenizer\n",
        "from tensorflow.keras.preprocessing.sequence import pad_sequences\n",
        "\n",
        "#initialize the tokenizer\n",
        "tokenizer = Tokenizer(num_words=vocab_size, oov_token=\"<OOV>\") #oov: out of vocabulary token => used to handle newly encountered words in the training dataset, new\n",
        "\n",
        "#creating word index\n",
        "tokenizer.fit_on_texts(X_train_yn)\n",
        "word_index = tokenizer.word_index\n",
        "max_len = len(word_index) + 1\n",
        "print(max_len)\n",
        "\n",
        "# method to tokenize text data\n",
        "def tokenize_text(text, vocab_size, max_len, trunc_type, padding_type):\n",
        "  #create sequences using tokenizer\n",
        "  sequences = tokenizer.texts_to_sequences(text)\n",
        "\n",
        "  #padding the sequences to make sure length matches for all the sequences\n",
        "  padded_sequences = pad_sequences(sequences, maxlen=max_len, padding=padding_type, truncating=trunc_type)\n",
        "\n",
        "  print(padded_sequences.shape)\n",
        "  return padded_sequences\n"
      ],
      "execution_count": 18,
      "outputs": [
        {
          "output_type": "stream",
          "name": "stdout",
          "text": [
            "2195\n"
          ]
        }
      ]
    },
    {
      "cell_type": "code",
      "metadata": {
        "id": "_1PLpln8ncSg",
        "colab": {
          "base_uri": "https://localhost:8080/"
        },
        "outputId": "08d5db0c-2e3d-4bed-9708-dd0f1925bf6f"
      },
      "source": [
        "# Tokenization example for all the Yes No Questions/Answers in the dataset\n",
        "\n",
        "train_sequences_ques = tokenize_text(X_train_yn, vocab_size, max_len, trunc_type, padding_type)\n",
        "# train_sequences_ans = tokenize_text(y_train_yn, vocab_size, max_len, trunc_type, padding_type)\n",
        "test_sequences_ques = tokenize_text(X_test_yn, vocab_size, max_len, trunc_type, padding_type)\n",
        "# test_sequences_ans = tokenize_text(y_test_yn, vocab_size, max_len, trunc_type, padding_type)"
      ],
      "execution_count": 19,
      "outputs": [
        {
          "output_type": "stream",
          "name": "stdout",
          "text": [
            "(963, 2195)\n",
            "(107, 2195)\n"
          ]
        }
      ]
    },
    {
      "cell_type": "code",
      "metadata": {
        "id": "vWViyWcQBsxS"
      },
      "source": [
        "# divide into train and test\n",
        "X_train, X_test, y_train, y_test = train_test_split(data_s8['Question'], data_s8['Answer'],\n",
        "          shuffle=True, test_size=0.1, random_state=5)\n"
      ],
      "execution_count": 20,
      "outputs": []
    },
    {
      "cell_type": "markdown",
      "metadata": {
        "id": "arp5F9Onn8Wr"
      },
      "source": [
        "### LSTM - Implementation for Yes/No questions"
      ]
    },
    {
      "cell_type": "code",
      "metadata": {
        "id": "M7zIh62koBZl",
        "colab": {
          "base_uri": "https://localhost:8080/"
        },
        "outputId": "6401df29-524d-439e-be03-faefdcf59a69"
      },
      "source": [
        "# Need this block to get it to work with TensorFlow 2.x\n",
        "# import numpy as np\n",
        "training_padded = np.array(train_sequences_ques)\n",
        "# training_padded = training_padded.reshape((training_padded.shape[0], training_padded.shape[1], 1))\n",
        "# training_labels = np.array(train_sequences_ans)\n",
        "testing_padded = np.array(test_sequences_ques)\n",
        "# testing_padded = testing_padded.reshape((testing_padded.shape[0], testing_padded.shape[1], 1))\n",
        "# testing_labels = np.array(test_sequences_ans)\n",
        "\n",
        "#y_train_yn = [item.replace('yes', '1') for item in y_train_yn]\n",
        "#y_train_yn = [item.replace('no', '0') for item in y_train_yn]\n",
        "#y_train_yn.replace('yes',1)\n",
        "#y_test_yn = [item.replace('yes', '1') for item in y_test_yn]\n",
        "#y_test_yn = [item.replace('no', '0') for item in y_test_yn]\n",
        "##one-hot encode the labels to get y\n",
        "y_train_yn = np.asarray(y_train_yn).astype('float32').reshape((-1,1))\n",
        "y_test_yn = np.asarray(y_test_yn).astype('float32').reshape((-1,1))\n",
        "print(training_padded.shape)\n",
        "print(y_train_yn.shape)\n",
        "print(testing_padded.shape)\n",
        "print(y_test_yn.shape)\n",
        "\n",
        "print(training_padded[0])\n"
      ],
      "execution_count": 21,
      "outputs": [
        {
          "output_type": "stream",
          "name": "stdout",
          "text": [
            "(963, 2195)\n",
            "(963, 1)\n",
            "(107, 2195)\n",
            "(107, 1)\n",
            "[  7 110   5 ...   0   0   0]\n"
          ]
        }
      ]
    },
    {
      "cell_type": "code",
      "metadata": {
        "id": "fT6hlAjHpkFx"
      },
      "source": [
        "# Bi-directional LSTM model with 64 and 32 layers\n",
        "model = tf.keras.Sequential([\n",
        "    tf.keras.layers.Embedding(vocab_size, 32, input_length=max_len),\n",
        "    tf.keras.layers.Bidirectional(tf.keras.layers.LSTM(64, return_sequences=True)),\n",
        "    tf.keras.layers.Bidirectional(tf.keras.layers.LSTM(32)),\n",
        "    tf.keras.layers.Dense(72, activation='relu'),\n",
        "    tf.keras.layers.Dense(1, activation='softmax')\n",
        "])\n",
        "\n",
        "# binary_cross entropy as loss for textual data\n",
        "model.compile(loss='binary_crossentropy',optimizer='adam',metrics=['accuracy'])"
      ],
      "execution_count": 22,
      "outputs": []
    },
    {
      "cell_type": "code",
      "metadata": {
        "id": "ZlhtcDq1p2qh",
        "colab": {
          "base_uri": "https://localhost:8080/"
        },
        "outputId": "dfa6e4ae-8d01-4eda-c39d-d27f741fd819"
      },
      "source": [
        "history = model.fit(training_padded,\n",
        "                    y_train_yn,\n",
        "                    epochs=10,\n",
        "                    validation_data=(testing_padded, y_test_yn),\n",
        "                    verbose=2)"
      ],
      "execution_count": 23,
      "outputs": [
        {
          "output_type": "stream",
          "name": "stdout",
          "text": [
            "Epoch 1/10\n",
            "31/31 - 138s - loss: 0.1848 - accuracy: 1.0000 - val_loss: 1.0301e-04 - val_accuracy: 1.0000 - 138s/epoch - 4s/step\n",
            "Epoch 2/10\n",
            "31/31 - 129s - loss: 4.0399e-05 - accuracy: 1.0000 - val_loss: 2.1827e-05 - val_accuracy: 1.0000 - 129s/epoch - 4s/step\n",
            "Epoch 3/10\n",
            "31/31 - 129s - loss: 1.9676e-05 - accuracy: 1.0000 - val_loss: 1.8094e-05 - val_accuracy: 1.0000 - 129s/epoch - 4s/step\n",
            "Epoch 4/10\n",
            "31/31 - 130s - loss: 1.7130e-05 - accuracy: 1.0000 - val_loss: 1.6106e-05 - val_accuracy: 1.0000 - 130s/epoch - 4s/step\n",
            "Epoch 5/10\n",
            "31/31 - 128s - loss: 1.5277e-05 - accuracy: 1.0000 - val_loss: 1.4377e-05 - val_accuracy: 1.0000 - 128s/epoch - 4s/step\n",
            "Epoch 6/10\n",
            "31/31 - 129s - loss: 1.3645e-05 - accuracy: 1.0000 - val_loss: 1.2854e-05 - val_accuracy: 1.0000 - 129s/epoch - 4s/step\n",
            "Epoch 7/10\n",
            "31/31 - 129s - loss: 1.2214e-05 - accuracy: 1.0000 - val_loss: 1.1524e-05 - val_accuracy: 1.0000 - 129s/epoch - 4s/step\n",
            "Epoch 8/10\n",
            "31/31 - 129s - loss: 1.0968e-05 - accuracy: 1.0000 - val_loss: 1.0368e-05 - val_accuracy: 1.0000 - 129s/epoch - 4s/step\n",
            "Epoch 9/10\n",
            "31/31 - 129s - loss: 9.8849e-06 - accuracy: 1.0000 - val_loss: 9.3638e-06 - val_accuracy: 1.0000 - 129s/epoch - 4s/step\n",
            "Epoch 10/10\n",
            "31/31 - 129s - loss: 8.9445e-06 - accuracy: 1.0000 - val_loss: 8.4911e-06 - val_accuracy: 1.0000 - 129s/epoch - 4s/step\n"
          ]
        }
      ]
    },
    {
      "cell_type": "markdown",
      "metadata": {
        "id": "z1QMqNhdM2rT"
      },
      "source": [
        "Visualize accuracy and loss for the LSTM model"
      ]
    },
    {
      "cell_type": "code",
      "metadata": {
        "id": "KNEoPxQiM5nQ"
      },
      "source": [
        "#function to visualiz results\n",
        "def plot_results(history, metric):\n",
        "  plt.plot(history.history[metric])\n",
        "  plt.plot(history.history['val_' + metric])\n",
        "  plt.title('Train and Validation ' + metric)\n",
        "  plt.xlabel('Epoch')\n",
        "  plt.ylabel(metric)  \n",
        "  plt.legend(['Train', 'Validation'], loc='upper left')\n",
        "  plt.show()"
      ],
      "execution_count": 24,
      "outputs": []
    },
    {
      "cell_type": "code",
      "metadata": {
        "id": "NP6Pcle-NoSh",
        "colab": {
          "base_uri": "https://localhost:8080/",
          "height": 573
        },
        "outputId": "bfc0b55e-e6ab-48eb-b801-6dffc9c2ed5d"
      },
      "source": [
        "plot_results(history, \"loss\")\n",
        "plot_results(history, \"accuracy\")\n"
      ],
      "execution_count": 27,
      "outputs": [
        {
          "output_type": "display_data",
          "data": {
            "image/png": "[encoded data removed]",
            "text/plain": [
              "<Figure size 432x288 with 1 Axes>"
            ]
          },
          "metadata": {
            "needs_background": "light"
          }
        },
        {
          "output_type": "display_data",
          "data": {
            "image/png": "[encoded data removed]",
            "text/plain": [
              "<Figure size 432x288 with 1 Axes>"
            ]
          },
          "metadata": {
            "needs_background": "light"
          }
        }
      ]
    }
  ]
}