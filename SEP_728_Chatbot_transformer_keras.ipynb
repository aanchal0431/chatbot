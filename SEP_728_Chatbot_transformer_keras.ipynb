{
  "nbformat": 4,
  "nbformat_minor": 0,
  "metadata": {
    "accelerator": "TPU",
    "colab": {
      "name": "SEP-728 Chatbot transformer keras.ipynb",
      "provenance": [],
      "collapsed_sections": [],
      "toc_visible": true,
      "machine_shape": "hm",
      "include_colab_link": true
    },
    "kernelspec": {
      "display_name": "Python 3",
      "name": "python3"
    },
    "language_info": {
      "name": "python"
    }
  },
  "cells": [
    {
      "cell_type": "markdown",
      "metadata": {
        "id": "view-in-github",
        "colab_type": "text"
      },
      "source": [
        "<a href=\"https://colab.research.google.com/github/aanchal0431/chatbot/blob/main/SEP_728_Chatbot_transformer_keras.ipynb\" target=\"_parent\"><img src=\"https://colab.research.google.com/assets/colab-badge.svg\" alt=\"Open In Colab\"/></a>"
      ]
    },
    {
      "cell_type": "markdown",
      "metadata": {
        "id": "DURsnZQMXtJb"
      },
      "source": [
        "# Chatbot"
      ]
    },
    {
      "cell_type": "code",
      "metadata": {
        "id": "aMvG1Xz-X0Mc"
      },
      "source": [
        "import tensorflow as tf\n",
        "from tensorflow import keras\n",
        "from tensorflow.keras.layers import Dense, Dropout\n",
        "\n",
        "\n",
        "import numpy as np\n",
        "import matplotlib.pyplot as plt\n",
        "import pandas as pd\n",
        "\n",
        "import os\n",
        "\n",
        "from sklearn.model_selection import train_test_split"
      ],
      "execution_count": 8,
      "outputs": []
    },
    {
      "cell_type": "code",
      "metadata": {
        "colab": {
          "base_uri": "https://localhost:8080/"
        },
        "id": "zdJBLOq-X-9D",
        "outputId": "2361d5d0-4f18-40c2-ab50-60cf9749d29e"
      },
      "source": [
        "print(tf.__version__)"
      ],
      "execution_count": 9,
      "outputs": [
        {
          "output_type": "stream",
          "name": "stdout",
          "text": [
            "2.7.0\n"
          ]
        }
      ]
    },
    {
      "cell_type": "markdown",
      "metadata": {
        "id": "s_bnxMqMt4Ou"
      },
      "source": [
        "Git Commands to clone repository, pull and push data"
      ]
    },
    {
      "cell_type": "code",
      "metadata": {
        "colab": {
          "base_uri": "https://localhost:8080/"
        },
        "id": "DKQpD0hXcckM",
        "outputId": "9e0a051c-c617-411e-f0da-e96194577f00"
      },
      "source": [
        "!git clone https://github.com/aanchal0431/chatbot.git\n",
        "#!git pull\n",
        "%cd chatbot/\n",
        "#!git config --global user.name \"aanchal0431\"\n",
        "#!git config --global user.email \"aanchal0431@gmail.com\"\n",
        "#!git remote add aanchal0431 https://github.com/aanchal0431/chatbot.git\n",
        "#!git --help\n",
        "#!git remote -v\n",
        "#!git init\n",
        "#%ls\n",
        "#!git add outputs/\n",
        "!git status \n",
        "#!git commit -m 'Model epoch 1'\n"
      ],
      "execution_count": 10,
      "outputs": [
        {
          "output_type": "stream",
          "name": "stdout",
          "text": [
            "Cloning into 'chatbot'...\n",
            "remote: Enumerating objects: 703, done.\u001b[K\n",
            "remote: Counting objects: 100% (217/217), done.\u001b[K\n",
            "remote: Compressing objects: 100% (165/165), done.\u001b[K\n",
            "remote: Total 703 (delta 56), reused 178 (delta 35), pack-reused 486\u001b[K\n",
            "Receiving objects: 100% (703/703), 6.73 MiB | 19.63 MiB/s, done.\n",
            "Resolving deltas: 100% (103/103), done.\n",
            "/content/chatbot/chatbot\n",
            "On branch main\n",
            "Your branch is up to date with 'origin/main'.\n",
            "\n",
            "nothing to commit, working tree clean\n"
          ]
        }
      ]
    },
    {
      "cell_type": "code",
      "metadata": {
        "colab": {
          "base_uri": "https://localhost:8080/"
        },
        "id": "oVCdVZjGJ9aq",
        "outputId": "93cc8ae2-105a-47a5-c0a3-debaf77f6cea"
      },
      "source": [
        "from google.colab import drive\n",
        "drive.mount('/content/drive')"
      ],
      "execution_count": 11,
      "outputs": [
        {
          "output_type": "stream",
          "name": "stdout",
          "text": [
            "Drive already mounted at /content/drive; to attempt to forcibly remount, call drive.mount(\"/content/drive\", force_remount=True).\n"
          ]
        }
      ]
    },
    {
      "cell_type": "markdown",
      "metadata": {
        "id": "qn72E7Do2G4y"
      },
      "source": [
        "### Data Preprocessing - **Cleaning**\n",
        "\n",
        "*   Load datasets\n",
        "*   Append question and answer datasets\n",
        "*   Remove questions with no answers\n",
        "*   Drop irrelevant columns\n",
        "*   Remove duplicate questions\n",
        "*   Convert data to lower case\n",
        "*   Add context"
      ]
    },
    {
      "cell_type": "code",
      "metadata": {
        "colab": {
          "base_uri": "https://localhost:8080/",
          "height": 257
        },
        "id": "-dOzYIWu25hY",
        "outputId": "978fdb1e-e0ec-4db7-8cf9-67d61fc4d042"
      },
      "source": [
        "cur_path = 'Data/Question_Answer_Dataset_v1.2/'\n",
        "data_s8 = pd.read_csv(cur_path + 'S08/question_answer_pairs.txt', delimiter=\"\\t\")\n",
        "data_s9 = pd.read_csv(cur_path + 'S09/question_answer_pairs.txt', delimiter=\"\\t\")\n",
        "data_s10 = pd.read_csv(cur_path + 'S10/question_answer_pairs.txt', delimiter=\"\\t\")\n",
        "print(\"Shape s8:\", data_s8.shape)\n",
        "print(\"Shape s9:\", data_s9.shape)\n",
        "print(\"Shape s10:\", data_s10.shape)\n",
        "data_s8.head()"
      ],
      "execution_count": 12,
      "outputs": [
        {
          "output_type": "stream",
          "name": "stdout",
          "text": [
            "Shape s8: (1715, 6)\n",
            "Shape s9: (825, 6)\n",
            "Shape s10: (1458, 6)\n"
          ]
        },
        {
          "output_type": "execute_result",
          "data": {
            "text/html": [
              "<div>\n",
              "<style scoped>\n",
              "    .dataframe tbody tr th:only-of-type {\n",
              "        vertical-align: middle;\n",
              "    }\n",
              "\n",
              "    .dataframe tbody tr th {\n",
              "        vertical-align: top;\n",
              "    }\n",
              "\n",
              "    .dataframe thead th {\n",
              "        text-align: right;\n",
              "    }\n",
              "</style>\n",
              "<table border=\"1\" class=\"dataframe\">\n",
              "  <thead>\n",
              "    <tr style=\"text-align: right;\">\n",
              "      <th></th>\n",
              "      <th>ArticleTitle</th>\n",
              "      <th>Question</th>\n",
              "      <th>Answer</th>\n",
              "      <th>DifficultyFromQuestioner</th>\n",
              "      <th>DifficultyFromAnswerer</th>\n",
              "      <th>ArticleFile</th>\n",
              "    </tr>\n",
              "  </thead>\n",
              "  <tbody>\n",
              "    <tr>\n",
              "      <th>0</th>\n",
              "      <td>Abraham_Lincoln</td>\n",
              "      <td>Was Abraham Lincoln the sixteenth President of...</td>\n",
              "      <td>yes</td>\n",
              "      <td>easy</td>\n",
              "      <td>easy</td>\n",
              "      <td>data/set3/a4</td>\n",
              "    </tr>\n",
              "    <tr>\n",
              "      <th>1</th>\n",
              "      <td>Abraham_Lincoln</td>\n",
              "      <td>Was Abraham Lincoln the sixteenth President of...</td>\n",
              "      <td>Yes.</td>\n",
              "      <td>easy</td>\n",
              "      <td>easy</td>\n",
              "      <td>data/set3/a4</td>\n",
              "    </tr>\n",
              "    <tr>\n",
              "      <th>2</th>\n",
              "      <td>Abraham_Lincoln</td>\n",
              "      <td>Did Lincoln sign the National Banking Act of 1...</td>\n",
              "      <td>yes</td>\n",
              "      <td>easy</td>\n",
              "      <td>medium</td>\n",
              "      <td>data/set3/a4</td>\n",
              "    </tr>\n",
              "    <tr>\n",
              "      <th>3</th>\n",
              "      <td>Abraham_Lincoln</td>\n",
              "      <td>Did Lincoln sign the National Banking Act of 1...</td>\n",
              "      <td>Yes.</td>\n",
              "      <td>easy</td>\n",
              "      <td>easy</td>\n",
              "      <td>data/set3/a4</td>\n",
              "    </tr>\n",
              "    <tr>\n",
              "      <th>4</th>\n",
              "      <td>Abraham_Lincoln</td>\n",
              "      <td>Did his mother die of pneumonia?</td>\n",
              "      <td>no</td>\n",
              "      <td>easy</td>\n",
              "      <td>medium</td>\n",
              "      <td>data/set3/a4</td>\n",
              "    </tr>\n",
              "  </tbody>\n",
              "</table>\n",
              "</div>"
            ],
            "text/plain": [
              "      ArticleTitle  ...   ArticleFile\n",
              "0  Abraham_Lincoln  ...  data/set3/a4\n",
              "1  Abraham_Lincoln  ...  data/set3/a4\n",
              "2  Abraham_Lincoln  ...  data/set3/a4\n",
              "3  Abraham_Lincoln  ...  data/set3/a4\n",
              "4  Abraham_Lincoln  ...  data/set3/a4\n",
              "\n",
              "[5 rows x 6 columns]"
            ]
          },
          "metadata": {},
          "execution_count": 12
        }
      ]
    },
    {
      "cell_type": "markdown",
      "metadata": {
        "id": "jK3tjZLW9pJr"
      },
      "source": [
        "Append Data"
      ]
    },
    {
      "cell_type": "code",
      "metadata": {
        "colab": {
          "base_uri": "https://localhost:8080/",
          "height": 223
        },
        "id": "yp1GPEjLASkF",
        "outputId": "a3caf4ed-54ad-4812-91e1-a4db32bf49d1"
      },
      "source": [
        "#append all questions into one data set\n",
        "data_all = data_s8.append(data_s9.append(data_s10))\n",
        "print(\"Shape:\", data_all.shape)\n",
        "data_all.head()\n"
      ],
      "execution_count": 13,
      "outputs": [
        {
          "output_type": "stream",
          "name": "stdout",
          "text": [
            "Shape: (3998, 6)\n"
          ]
        },
        {
          "output_type": "execute_result",
          "data": {
            "text/html": [
              "<div>\n",
              "<style scoped>\n",
              "    .dataframe tbody tr th:only-of-type {\n",
              "        vertical-align: middle;\n",
              "    }\n",
              "\n",
              "    .dataframe tbody tr th {\n",
              "        vertical-align: top;\n",
              "    }\n",
              "\n",
              "    .dataframe thead th {\n",
              "        text-align: right;\n",
              "    }\n",
              "</style>\n",
              "<table border=\"1\" class=\"dataframe\">\n",
              "  <thead>\n",
              "    <tr style=\"text-align: right;\">\n",
              "      <th></th>\n",
              "      <th>ArticleTitle</th>\n",
              "      <th>Question</th>\n",
              "      <th>Answer</th>\n",
              "      <th>DifficultyFromQuestioner</th>\n",
              "      <th>DifficultyFromAnswerer</th>\n",
              "      <th>ArticleFile</th>\n",
              "    </tr>\n",
              "  </thead>\n",
              "  <tbody>\n",
              "    <tr>\n",
              "      <th>0</th>\n",
              "      <td>Abraham_Lincoln</td>\n",
              "      <td>Was Abraham Lincoln the sixteenth President of...</td>\n",
              "      <td>yes</td>\n",
              "      <td>easy</td>\n",
              "      <td>easy</td>\n",
              "      <td>data/set3/a4</td>\n",
              "    </tr>\n",
              "    <tr>\n",
              "      <th>1</th>\n",
              "      <td>Abraham_Lincoln</td>\n",
              "      <td>Was Abraham Lincoln the sixteenth President of...</td>\n",
              "      <td>Yes.</td>\n",
              "      <td>easy</td>\n",
              "      <td>easy</td>\n",
              "      <td>data/set3/a4</td>\n",
              "    </tr>\n",
              "    <tr>\n",
              "      <th>2</th>\n",
              "      <td>Abraham_Lincoln</td>\n",
              "      <td>Did Lincoln sign the National Banking Act of 1...</td>\n",
              "      <td>yes</td>\n",
              "      <td>easy</td>\n",
              "      <td>medium</td>\n",
              "      <td>data/set3/a4</td>\n",
              "    </tr>\n",
              "    <tr>\n",
              "      <th>3</th>\n",
              "      <td>Abraham_Lincoln</td>\n",
              "      <td>Did Lincoln sign the National Banking Act of 1...</td>\n",
              "      <td>Yes.</td>\n",
              "      <td>easy</td>\n",
              "      <td>easy</td>\n",
              "      <td>data/set3/a4</td>\n",
              "    </tr>\n",
              "    <tr>\n",
              "      <th>4</th>\n",
              "      <td>Abraham_Lincoln</td>\n",
              "      <td>Did his mother die of pneumonia?</td>\n",
              "      <td>no</td>\n",
              "      <td>easy</td>\n",
              "      <td>medium</td>\n",
              "      <td>data/set3/a4</td>\n",
              "    </tr>\n",
              "  </tbody>\n",
              "</table>\n",
              "</div>"
            ],
            "text/plain": [
              "      ArticleTitle  ...   ArticleFile\n",
              "0  Abraham_Lincoln  ...  data/set3/a4\n",
              "1  Abraham_Lincoln  ...  data/set3/a4\n",
              "2  Abraham_Lincoln  ...  data/set3/a4\n",
              "3  Abraham_Lincoln  ...  data/set3/a4\n",
              "4  Abraham_Lincoln  ...  data/set3/a4\n",
              "\n",
              "[5 rows x 6 columns]"
            ]
          },
          "metadata": {},
          "execution_count": 13
        }
      ]
    },
    {
      "cell_type": "markdown",
      "metadata": {
        "id": "FT3qd3s19_WC"
      },
      "source": [
        "Drop irrelevant columns and remove questions without an answer"
      ]
    },
    {
      "cell_type": "code",
      "metadata": {
        "colab": {
          "base_uri": "https://localhost:8080/",
          "height": 223
        },
        "id": "b4kf9-I797XS",
        "outputId": "652236e9-acf5-426c-aa2f-9f655833797a"
      },
      "source": [
        "#remove irrelevant columns\n",
        "data_all = data_all.drop(labels = ['DifficultyFromQuestioner', 'DifficultyFromAnswerer', 'ArticleFile'], axis = 1)\n",
        "\n",
        "#drop rows with NULL values\n",
        "data_all = data_all.dropna(subset=['Answer'])\n",
        "print(\"Shape:\", data_all.shape)\n",
        "data_all.head()"
      ],
      "execution_count": 14,
      "outputs": [
        {
          "output_type": "stream",
          "name": "stdout",
          "text": [
            "Shape: (3422, 3)\n"
          ]
        },
        {
          "output_type": "execute_result",
          "data": {
            "text/html": [
              "<div>\n",
              "<style scoped>\n",
              "    .dataframe tbody tr th:only-of-type {\n",
              "        vertical-align: middle;\n",
              "    }\n",
              "\n",
              "    .dataframe tbody tr th {\n",
              "        vertical-align: top;\n",
              "    }\n",
              "\n",
              "    .dataframe thead th {\n",
              "        text-align: right;\n",
              "    }\n",
              "</style>\n",
              "<table border=\"1\" class=\"dataframe\">\n",
              "  <thead>\n",
              "    <tr style=\"text-align: right;\">\n",
              "      <th></th>\n",
              "      <th>ArticleTitle</th>\n",
              "      <th>Question</th>\n",
              "      <th>Answer</th>\n",
              "    </tr>\n",
              "  </thead>\n",
              "  <tbody>\n",
              "    <tr>\n",
              "      <th>0</th>\n",
              "      <td>Abraham_Lincoln</td>\n",
              "      <td>Was Abraham Lincoln the sixteenth President of...</td>\n",
              "      <td>yes</td>\n",
              "    </tr>\n",
              "    <tr>\n",
              "      <th>1</th>\n",
              "      <td>Abraham_Lincoln</td>\n",
              "      <td>Was Abraham Lincoln the sixteenth President of...</td>\n",
              "      <td>Yes.</td>\n",
              "    </tr>\n",
              "    <tr>\n",
              "      <th>2</th>\n",
              "      <td>Abraham_Lincoln</td>\n",
              "      <td>Did Lincoln sign the National Banking Act of 1...</td>\n",
              "      <td>yes</td>\n",
              "    </tr>\n",
              "    <tr>\n",
              "      <th>3</th>\n",
              "      <td>Abraham_Lincoln</td>\n",
              "      <td>Did Lincoln sign the National Banking Act of 1...</td>\n",
              "      <td>Yes.</td>\n",
              "    </tr>\n",
              "    <tr>\n",
              "      <th>4</th>\n",
              "      <td>Abraham_Lincoln</td>\n",
              "      <td>Did his mother die of pneumonia?</td>\n",
              "      <td>no</td>\n",
              "    </tr>\n",
              "  </tbody>\n",
              "</table>\n",
              "</div>"
            ],
            "text/plain": [
              "      ArticleTitle                                           Question Answer\n",
              "0  Abraham_Lincoln  Was Abraham Lincoln the sixteenth President of...    yes\n",
              "1  Abraham_Lincoln  Was Abraham Lincoln the sixteenth President of...   Yes.\n",
              "2  Abraham_Lincoln  Did Lincoln sign the National Banking Act of 1...    yes\n",
              "3  Abraham_Lincoln  Did Lincoln sign the National Banking Act of 1...   Yes.\n",
              "4  Abraham_Lincoln                   Did his mother die of pneumonia?     no"
            ]
          },
          "metadata": {},
          "execution_count": 14
        }
      ]
    },
    {
      "cell_type": "markdown",
      "metadata": {
        "id": "hp-3Ro8K_NXb"
      },
      "source": [
        "Remove duplicate questions"
      ]
    },
    {
      "cell_type": "code",
      "metadata": {
        "colab": {
          "base_uri": "https://localhost:8080/",
          "height": 223
        },
        "id": "mpP0ksyOBIQY",
        "outputId": "a85cb41a-b648-4945-9631-65122c56a8e2"
      },
      "source": [
        "#remove duplicate questions\n",
        "data_all = data_all.drop_duplicates(subset=['Question'])\n",
        "print(\"Shape:\", data_all.shape)\n",
        "data_all.head()"
      ],
      "execution_count": 15,
      "outputs": [
        {
          "output_type": "stream",
          "name": "stdout",
          "text": [
            "Shape: (2203, 3)\n"
          ]
        },
        {
          "output_type": "execute_result",
          "data": {
            "text/html": [
              "<div>\n",
              "<style scoped>\n",
              "    .dataframe tbody tr th:only-of-type {\n",
              "        vertical-align: middle;\n",
              "    }\n",
              "\n",
              "    .dataframe tbody tr th {\n",
              "        vertical-align: top;\n",
              "    }\n",
              "\n",
              "    .dataframe thead th {\n",
              "        text-align: right;\n",
              "    }\n",
              "</style>\n",
              "<table border=\"1\" class=\"dataframe\">\n",
              "  <thead>\n",
              "    <tr style=\"text-align: right;\">\n",
              "      <th></th>\n",
              "      <th>ArticleTitle</th>\n",
              "      <th>Question</th>\n",
              "      <th>Answer</th>\n",
              "    </tr>\n",
              "  </thead>\n",
              "  <tbody>\n",
              "    <tr>\n",
              "      <th>0</th>\n",
              "      <td>Abraham_Lincoln</td>\n",
              "      <td>Was Abraham Lincoln the sixteenth President of...</td>\n",
              "      <td>yes</td>\n",
              "    </tr>\n",
              "    <tr>\n",
              "      <th>2</th>\n",
              "      <td>Abraham_Lincoln</td>\n",
              "      <td>Did Lincoln sign the National Banking Act of 1...</td>\n",
              "      <td>yes</td>\n",
              "    </tr>\n",
              "    <tr>\n",
              "      <th>4</th>\n",
              "      <td>Abraham_Lincoln</td>\n",
              "      <td>Did his mother die of pneumonia?</td>\n",
              "      <td>no</td>\n",
              "    </tr>\n",
              "    <tr>\n",
              "      <th>6</th>\n",
              "      <td>Abraham_Lincoln</td>\n",
              "      <td>How many long was Lincoln's formal education?</td>\n",
              "      <td>18 months</td>\n",
              "    </tr>\n",
              "    <tr>\n",
              "      <th>8</th>\n",
              "      <td>Abraham_Lincoln</td>\n",
              "      <td>When did Lincoln begin his political career?</td>\n",
              "      <td>1832</td>\n",
              "    </tr>\n",
              "  </tbody>\n",
              "</table>\n",
              "</div>"
            ],
            "text/plain": [
              "      ArticleTitle  ...     Answer\n",
              "0  Abraham_Lincoln  ...        yes\n",
              "2  Abraham_Lincoln  ...        yes\n",
              "4  Abraham_Lincoln  ...         no\n",
              "6  Abraham_Lincoln  ...  18 months\n",
              "8  Abraham_Lincoln  ...       1832\n",
              "\n",
              "[5 rows x 3 columns]"
            ]
          },
          "metadata": {},
          "execution_count": 15
        }
      ]
    },
    {
      "cell_type": "markdown",
      "metadata": {
        "id": "2kyp9pdO_ViF"
      },
      "source": [
        "Convert all text to lower case"
      ]
    },
    {
      "cell_type": "code",
      "metadata": {
        "id": "HqCHtna--_FI",
        "colab": {
          "base_uri": "https://localhost:8080/",
          "height": 206
        },
        "outputId": "64796bd3-4500-4b60-d14e-19ea55c74527"
      },
      "source": [
        "# convert text to lower case\n",
        "data_all = data_all.apply(lambda x: x.astype(str).str.lower())\n",
        "data_all.head()"
      ],
      "execution_count": 16,
      "outputs": [
        {
          "output_type": "execute_result",
          "data": {
            "text/html": [
              "<div>\n",
              "<style scoped>\n",
              "    .dataframe tbody tr th:only-of-type {\n",
              "        vertical-align: middle;\n",
              "    }\n",
              "\n",
              "    .dataframe tbody tr th {\n",
              "        vertical-align: top;\n",
              "    }\n",
              "\n",
              "    .dataframe thead th {\n",
              "        text-align: right;\n",
              "    }\n",
              "</style>\n",
              "<table border=\"1\" class=\"dataframe\">\n",
              "  <thead>\n",
              "    <tr style=\"text-align: right;\">\n",
              "      <th></th>\n",
              "      <th>ArticleTitle</th>\n",
              "      <th>Question</th>\n",
              "      <th>Answer</th>\n",
              "    </tr>\n",
              "  </thead>\n",
              "  <tbody>\n",
              "    <tr>\n",
              "      <th>0</th>\n",
              "      <td>abraham_lincoln</td>\n",
              "      <td>was abraham lincoln the sixteenth president of...</td>\n",
              "      <td>yes</td>\n",
              "    </tr>\n",
              "    <tr>\n",
              "      <th>2</th>\n",
              "      <td>abraham_lincoln</td>\n",
              "      <td>did lincoln sign the national banking act of 1...</td>\n",
              "      <td>yes</td>\n",
              "    </tr>\n",
              "    <tr>\n",
              "      <th>4</th>\n",
              "      <td>abraham_lincoln</td>\n",
              "      <td>did his mother die of pneumonia?</td>\n",
              "      <td>no</td>\n",
              "    </tr>\n",
              "    <tr>\n",
              "      <th>6</th>\n",
              "      <td>abraham_lincoln</td>\n",
              "      <td>how many long was lincoln's formal education?</td>\n",
              "      <td>18 months</td>\n",
              "    </tr>\n",
              "    <tr>\n",
              "      <th>8</th>\n",
              "      <td>abraham_lincoln</td>\n",
              "      <td>when did lincoln begin his political career?</td>\n",
              "      <td>1832</td>\n",
              "    </tr>\n",
              "  </tbody>\n",
              "</table>\n",
              "</div>"
            ],
            "text/plain": [
              "      ArticleTitle  ...     Answer\n",
              "0  abraham_lincoln  ...        yes\n",
              "2  abraham_lincoln  ...        yes\n",
              "4  abraham_lincoln  ...         no\n",
              "6  abraham_lincoln  ...  18 months\n",
              "8  abraham_lincoln  ...       1832\n",
              "\n",
              "[5 rows x 3 columns]"
            ]
          },
          "metadata": {},
          "execution_count": 16
        }
      ]
    },
    {
      "cell_type": "markdown",
      "metadata": {
        "id": "YzeXNomdBVnp"
      },
      "source": [
        "Load Wikipedia article and add to the dataframe"
      ]
    },
    {
      "cell_type": "code",
      "metadata": {
        "id": "E0O8WpXIBOc9",
        "colab": {
          "base_uri": "https://localhost:8080/",
          "height": 223
        },
        "outputId": "67c93ae2-8235-4ee7-b6c3-d050420a331b"
      },
      "source": [
        "#Add a column containing the context\n",
        "#create dataset with column\n",
        "title = []\n",
        "context = []\n",
        "\n",
        "#pull context and titles from S08\n",
        "for y in range (8, 11):   \n",
        "  for s in range(1, 7):\n",
        "    for a in range(1, 11):\n",
        "      file = str('Data/Question_Answer_Dataset_v1.2/S0' + str(y) + '/data/set' + str(s) + '/a' + str(a) + '.txt.clean' )\n",
        "      if os.path.exists(file):\n",
        "        article = open(file, encoding = \"ISO-8859-1\").read()\n",
        "        context.append(article)\n",
        "        title.append(article.split('\\n')[0])\n",
        "\n",
        "#create dataframe for context and titles\n",
        "data_articles = pd.DataFrame({'ArticleTitle': title,\n",
        "                              'Context': context})\n",
        "\n",
        "#make lower case\n",
        "data_articles = data_articles.apply(lambda x: x.astype(str).str.lower())\n",
        "\n",
        "print(\"Shape:\", data_articles.shape)\n",
        "data_articles.head()"
      ],
      "execution_count": 17,
      "outputs": [
        {
          "output_type": "stream",
          "name": "stdout",
          "text": [
            "Shape: (90, 2)\n"
          ]
        },
        {
          "output_type": "execute_result",
          "data": {
            "text/html": [
              "<div>\n",
              "<style scoped>\n",
              "    .dataframe tbody tr th:only-of-type {\n",
              "        vertical-align: middle;\n",
              "    }\n",
              "\n",
              "    .dataframe tbody tr th {\n",
              "        vertical-align: top;\n",
              "    }\n",
              "\n",
              "    .dataframe thead th {\n",
              "        text-align: right;\n",
              "    }\n",
              "</style>\n",
              "<table border=\"1\" class=\"dataframe\">\n",
              "  <thead>\n",
              "    <tr style=\"text-align: right;\">\n",
              "      <th></th>\n",
              "      <th>ArticleTitle</th>\n",
              "      <th>Context</th>\n",
              "    </tr>\n",
              "  </thead>\n",
              "  <tbody>\n",
              "    <tr>\n",
              "      <th>0</th>\n",
              "      <td>kangaroo</td>\n",
              "      <td>kangaroo\\n\\n\\na kangaroo is a marsupial from t...</td>\n",
              "    </tr>\n",
              "    <tr>\n",
              "      <th>1</th>\n",
              "      <td>leopard</td>\n",
              "      <td>leopard\\n\\n\\n\\nthe leopard (panthera pardus) i...</td>\n",
              "    </tr>\n",
              "    <tr>\n",
              "      <th>2</th>\n",
              "      <td>penguin</td>\n",
              "      <td>penguin\\n\\n\\n\\na penguin encounters a human du...</td>\n",
              "    </tr>\n",
              "    <tr>\n",
              "      <th>3</th>\n",
              "      <td>polar bear</td>\n",
              "      <td>polar bear\\n\\n\\n\\nthe polar bear (ursus mariti...</td>\n",
              "    </tr>\n",
              "    <tr>\n",
              "      <th>4</th>\n",
              "      <td>elephant</td>\n",
              "      <td>elephant\\n\\n\\n\\nelephants (elephantidae) are a...</td>\n",
              "    </tr>\n",
              "  </tbody>\n",
              "</table>\n",
              "</div>"
            ],
            "text/plain": [
              "  ArticleTitle                                            Context\n",
              "0     kangaroo  kangaroo\\n\\n\\na kangaroo is a marsupial from t...\n",
              "1      leopard  leopard\\n\\n\\n\\nthe leopard (panthera pardus) i...\n",
              "2      penguin  penguin\\n\\n\\n\\na penguin encounters a human du...\n",
              "3   polar bear  polar bear\\n\\n\\n\\nthe polar bear (ursus mariti...\n",
              "4     elephant  elephant\\n\\n\\n\\nelephants (elephantidae) are a..."
            ]
          },
          "metadata": {},
          "execution_count": 17
        }
      ]
    },
    {
      "cell_type": "code",
      "metadata": {
        "id": "xIsdAK3WBp0R",
        "colab": {
          "base_uri": "https://localhost:8080/",
          "height": 223
        },
        "outputId": "562879fa-c7df-4cc1-9ea6-e859400eba68"
      },
      "source": [
        "#replace all _ in titles with spaces\n",
        "data_all['ArticleTitle'] = data_all['ArticleTitle'].str.replace('_', ' ')\n",
        "data_articles['ArticleTitle'] = data_articles['ArticleTitle'].str.replace('_', ' ')\n",
        "\n",
        "#join context into data all\n",
        "data_all = data_all.merge(data_articles, how='left', on='ArticleTitle')\n",
        "\n",
        "print(\"Shape:\", data_all.shape)\n",
        "data_all.head()"
      ],
      "execution_count": 18,
      "outputs": [
        {
          "output_type": "stream",
          "name": "stdout",
          "text": [
            "Shape: (2755, 4)\n"
          ]
        },
        {
          "output_type": "execute_result",
          "data": {
            "text/html": [
              "<div>\n",
              "<style scoped>\n",
              "    .dataframe tbody tr th:only-of-type {\n",
              "        vertical-align: middle;\n",
              "    }\n",
              "\n",
              "    .dataframe tbody tr th {\n",
              "        vertical-align: top;\n",
              "    }\n",
              "\n",
              "    .dataframe thead th {\n",
              "        text-align: right;\n",
              "    }\n",
              "</style>\n",
              "<table border=\"1\" class=\"dataframe\">\n",
              "  <thead>\n",
              "    <tr style=\"text-align: right;\">\n",
              "      <th></th>\n",
              "      <th>ArticleTitle</th>\n",
              "      <th>Question</th>\n",
              "      <th>Answer</th>\n",
              "      <th>Context</th>\n",
              "    </tr>\n",
              "  </thead>\n",
              "  <tbody>\n",
              "    <tr>\n",
              "      <th>0</th>\n",
              "      <td>abraham lincoln</td>\n",
              "      <td>was abraham lincoln the sixteenth president of...</td>\n",
              "      <td>yes</td>\n",
              "      <td>abraham lincoln\\n\\n\\n\\nabraham lincoln (februa...</td>\n",
              "    </tr>\n",
              "    <tr>\n",
              "      <th>1</th>\n",
              "      <td>abraham lincoln</td>\n",
              "      <td>did lincoln sign the national banking act of 1...</td>\n",
              "      <td>yes</td>\n",
              "      <td>abraham lincoln\\n\\n\\n\\nabraham lincoln (februa...</td>\n",
              "    </tr>\n",
              "    <tr>\n",
              "      <th>2</th>\n",
              "      <td>abraham lincoln</td>\n",
              "      <td>did his mother die of pneumonia?</td>\n",
              "      <td>no</td>\n",
              "      <td>abraham lincoln\\n\\n\\n\\nabraham lincoln (februa...</td>\n",
              "    </tr>\n",
              "    <tr>\n",
              "      <th>3</th>\n",
              "      <td>abraham lincoln</td>\n",
              "      <td>how many long was lincoln's formal education?</td>\n",
              "      <td>18 months</td>\n",
              "      <td>abraham lincoln\\n\\n\\n\\nabraham lincoln (februa...</td>\n",
              "    </tr>\n",
              "    <tr>\n",
              "      <th>4</th>\n",
              "      <td>abraham lincoln</td>\n",
              "      <td>when did lincoln begin his political career?</td>\n",
              "      <td>1832</td>\n",
              "      <td>abraham lincoln\\n\\n\\n\\nabraham lincoln (februa...</td>\n",
              "    </tr>\n",
              "  </tbody>\n",
              "</table>\n",
              "</div>"
            ],
            "text/plain": [
              "      ArticleTitle  ...                                            Context\n",
              "0  abraham lincoln  ...  abraham lincoln\\n\\n\\n\\nabraham lincoln (februa...\n",
              "1  abraham lincoln  ...  abraham lincoln\\n\\n\\n\\nabraham lincoln (februa...\n",
              "2  abraham lincoln  ...  abraham lincoln\\n\\n\\n\\nabraham lincoln (februa...\n",
              "3  abraham lincoln  ...  abraham lincoln\\n\\n\\n\\nabraham lincoln (februa...\n",
              "4  abraham lincoln  ...  abraham lincoln\\n\\n\\n\\nabraham lincoln (februa...\n",
              "\n",
              "[5 rows x 4 columns]"
            ]
          },
          "metadata": {},
          "execution_count": 18
        }
      ]
    },
    {
      "cell_type": "markdown",
      "metadata": {
        "id": "-n9qiwcW_-bM"
      },
      "source": [
        "### Explore Data\n",
        "Check the word length of the answers. How many questions are yes/no questions? What type of question is asked most often?"
      ]
    },
    {
      "cell_type": "code",
      "metadata": {
        "id": "kkthNMr8AJ0u",
        "colab": {
          "base_uri": "https://localhost:8080/",
          "height": 473
        },
        "outputId": "20039f60-2d2a-4a43-cec7-efaffd9de858"
      },
      "source": [
        "#plot the distribution of answer word length\n",
        "word_length = data_all['Answer'].str.count(' ') + 1\n",
        "string_length = data_all['Answer'].str.len()\n",
        "\n",
        "print('Single word answers:', (word_length == 1).sum())\n",
        "print('Two word answers:', (word_length == 2).sum())\n",
        "print('Three word answers:', (word_length == 3).sum())\n",
        "print('Four word answers:', (word_length == 4).sum())\n",
        "print('Five word answers:', (word_length == 5).sum())\n",
        "print('6-10 word answers:', ((word_length > 5) & (word_length <= 10)).sum())\n",
        "print('11-20 word answers:', ((word_length > 10) & (word_length <= 20)).sum())\n",
        "print('More than 20 words answers:', (word_length > 20).sum())\n",
        "print('\\nMax answer word length:', word_length.max())\n",
        "print('Max answer string length:', string_length.max())\n",
        "\n",
        "#plt.hist(word_length, bins = 100)\n",
        "plt.bar(word_length.unique(), word_length.value_counts())\n",
        "plt.ylim([0,1250])\n",
        "plt.show"
      ],
      "execution_count": 19,
      "outputs": [
        {
          "output_type": "stream",
          "name": "stdout",
          "text": [
            "Single word answers: 1575\n",
            "Two word answers: 231\n",
            "Three word answers: 161\n",
            "Four word answers: 124\n",
            "Five word answers: 88\n",
            "6-10 word answers: 341\n",
            "11-20 word answers: 186\n",
            "More than 20 words answers: 49\n",
            "\n",
            "Max answer word length: 156\n",
            "Max answer string length: 926\n"
          ]
        },
        {
          "output_type": "execute_result",
          "data": {
            "text/plain": [
              "<function matplotlib.pyplot.show>"
            ]
          },
          "metadata": {},
          "execution_count": 19
        },
        {
          "output_type": "display_data",
          "data": {
            "image/png": "[encoded data removed]",
            "text/plain": [
              "<Figure size 432x288 with 1 Axes>"
            ]
          },
          "metadata": {
            "needs_background": "light"
          }
        }
      ]
    },
    {
      "cell_type": "code",
      "metadata": {
        "colab": {
          "base_uri": "https://localhost:8080/"
        },
        "id": "FvIcXDR4AVYQ",
        "outputId": "b8a689d7-b564-4c59-e25d-c5561960fd1a"
      },
      "source": [
        "#examine types of questions\n",
        "question_type = data_all['Question'].str.split(' ').str[0]\n",
        "question_type.value_counts()"
      ],
      "execution_count": 20,
      "outputs": [
        {
          "output_type": "execute_result",
          "data": {
            "text/plain": [
              "what        564\n",
              "is          395\n",
              "was         247\n",
              "how         196\n",
              "did         193\n",
              "           ... \n",
              "today,        1\n",
              "forward,      1\n",
              "at            1\n",
              "hard          1\n",
              "hassan        1\n",
              "Name: Question, Length: 102, dtype: int64"
            ]
          },
          "metadata": {},
          "execution_count": 20
        }
      ]
    },
    {
      "cell_type": "code",
      "metadata": {
        "colab": {
          "base_uri": "https://localhost:8080/",
          "height": 223
        },
        "id": "so8tYjgtAZjG",
        "outputId": "91372a50-03f6-4b01-8872-7afc29192b61"
      },
      "source": [
        "#pull all yes/no questions\n",
        "yes_no = ['yes', 'yes.', 'yes,', 'no', 'no.', 'no,']\n",
        "data_yn = data_all.where(data_all['Answer'].str.split(' ').str[0].isin(yes_no)).dropna()\n",
        "data_yn['Answer'] = data_yn['Answer'].str.split(' ').str[0]\n",
        "\n",
        "#remove periods & commas\n",
        "data_yn['Answer'] = data_yn['Answer'].str.replace('.','')\n",
        "data_yn['Answer'] = data_yn['Answer'].str.replace(',','')\n",
        "\n",
        "print(\"Shape:\", data_yn.shape)\n",
        "data_yn.head()"
      ],
      "execution_count": 21,
      "outputs": [
        {
          "output_type": "stream",
          "name": "stdout",
          "text": [
            "Shape: (1070, 4)\n"
          ]
        },
        {
          "output_type": "execute_result",
          "data": {
            "text/html": [
              "<div>\n",
              "<style scoped>\n",
              "    .dataframe tbody tr th:only-of-type {\n",
              "        vertical-align: middle;\n",
              "    }\n",
              "\n",
              "    .dataframe tbody tr th {\n",
              "        vertical-align: top;\n",
              "    }\n",
              "\n",
              "    .dataframe thead th {\n",
              "        text-align: right;\n",
              "    }\n",
              "</style>\n",
              "<table border=\"1\" class=\"dataframe\">\n",
              "  <thead>\n",
              "    <tr style=\"text-align: right;\">\n",
              "      <th></th>\n",
              "      <th>ArticleTitle</th>\n",
              "      <th>Question</th>\n",
              "      <th>Answer</th>\n",
              "      <th>Context</th>\n",
              "    </tr>\n",
              "  </thead>\n",
              "  <tbody>\n",
              "    <tr>\n",
              "      <th>0</th>\n",
              "      <td>abraham lincoln</td>\n",
              "      <td>was abraham lincoln the sixteenth president of...</td>\n",
              "      <td>yes</td>\n",
              "      <td>abraham lincoln\\n\\n\\n\\nabraham lincoln (februa...</td>\n",
              "    </tr>\n",
              "    <tr>\n",
              "      <th>1</th>\n",
              "      <td>abraham lincoln</td>\n",
              "      <td>did lincoln sign the national banking act of 1...</td>\n",
              "      <td>yes</td>\n",
              "      <td>abraham lincoln\\n\\n\\n\\nabraham lincoln (februa...</td>\n",
              "    </tr>\n",
              "    <tr>\n",
              "      <th>2</th>\n",
              "      <td>abraham lincoln</td>\n",
              "      <td>did his mother die of pneumonia?</td>\n",
              "      <td>no</td>\n",
              "      <td>abraham lincoln\\n\\n\\n\\nabraham lincoln (februa...</td>\n",
              "    </tr>\n",
              "    <tr>\n",
              "      <th>8</th>\n",
              "      <td>abraham lincoln</td>\n",
              "      <td>did lincoln beat john c. breckinridge in the 1...</td>\n",
              "      <td>yes</td>\n",
              "      <td>abraham lincoln\\n\\n\\n\\nabraham lincoln (februa...</td>\n",
              "    </tr>\n",
              "    <tr>\n",
              "      <th>9</th>\n",
              "      <td>abraham lincoln</td>\n",
              "      <td>was abraham lincoln the first president of the...</td>\n",
              "      <td>no</td>\n",
              "      <td>abraham lincoln\\n\\n\\n\\nabraham lincoln (februa...</td>\n",
              "    </tr>\n",
              "  </tbody>\n",
              "</table>\n",
              "</div>"
            ],
            "text/plain": [
              "      ArticleTitle  ...                                            Context\n",
              "0  abraham lincoln  ...  abraham lincoln\\n\\n\\n\\nabraham lincoln (februa...\n",
              "1  abraham lincoln  ...  abraham lincoln\\n\\n\\n\\nabraham lincoln (februa...\n",
              "2  abraham lincoln  ...  abraham lincoln\\n\\n\\n\\nabraham lincoln (februa...\n",
              "8  abraham lincoln  ...  abraham lincoln\\n\\n\\n\\nabraham lincoln (februa...\n",
              "9  abraham lincoln  ...  abraham lincoln\\n\\n\\n\\nabraham lincoln (februa...\n",
              "\n",
              "[5 rows x 4 columns]"
            ]
          },
          "metadata": {},
          "execution_count": 21
        }
      ]
    },
    {
      "cell_type": "code",
      "metadata": {
        "colab": {
          "base_uri": "https://localhost:8080/",
          "height": 310
        },
        "id": "ZeCGYVNYAeea",
        "outputId": "5603263a-6a7a-43e8-89a5-4d940366029f"
      },
      "source": [
        "#pull all other questions that pull \"direct\" answers from the context\n",
        "data_context = data_all.where((data_all['Answer'].str.split(' ').str[0].isin(yes_no)) == False).dropna()\n",
        "data_context.to_csv('Questions_toClean.csv', index=False)\n",
        "print(\"Shape:\", data_context.shape)\n",
        "data_context.head()"
      ],
      "execution_count": 22,
      "outputs": [
        {
          "output_type": "stream",
          "name": "stdout",
          "text": [
            "Shape: (1252, 4)\n"
          ]
        },
        {
          "output_type": "execute_result",
          "data": {
            "text/html": [
              "<div>\n",
              "<style scoped>\n",
              "    .dataframe tbody tr th:only-of-type {\n",
              "        vertical-align: middle;\n",
              "    }\n",
              "\n",
              "    .dataframe tbody tr th {\n",
              "        vertical-align: top;\n",
              "    }\n",
              "\n",
              "    .dataframe thead th {\n",
              "        text-align: right;\n",
              "    }\n",
              "</style>\n",
              "<table border=\"1\" class=\"dataframe\">\n",
              "  <thead>\n",
              "    <tr style=\"text-align: right;\">\n",
              "      <th></th>\n",
              "      <th>ArticleTitle</th>\n",
              "      <th>Question</th>\n",
              "      <th>Answer</th>\n",
              "      <th>Context</th>\n",
              "    </tr>\n",
              "  </thead>\n",
              "  <tbody>\n",
              "    <tr>\n",
              "      <th>3</th>\n",
              "      <td>abraham lincoln</td>\n",
              "      <td>how many long was lincoln's formal education?</td>\n",
              "      <td>18 months</td>\n",
              "      <td>abraham lincoln\\n\\n\\n\\nabraham lincoln (februa...</td>\n",
              "    </tr>\n",
              "    <tr>\n",
              "      <th>4</th>\n",
              "      <td>abraham lincoln</td>\n",
              "      <td>when did lincoln begin his political career?</td>\n",
              "      <td>1832</td>\n",
              "      <td>abraham lincoln\\n\\n\\n\\nabraham lincoln (februa...</td>\n",
              "    </tr>\n",
              "    <tr>\n",
              "      <th>5</th>\n",
              "      <td>abraham lincoln</td>\n",
              "      <td>what did the legal tender act of 1862 establish?</td>\n",
              "      <td>the united states note, the first paper curren...</td>\n",
              "      <td>abraham lincoln\\n\\n\\n\\nabraham lincoln (februa...</td>\n",
              "    </tr>\n",
              "    <tr>\n",
              "      <th>6</th>\n",
              "      <td>abraham lincoln</td>\n",
              "      <td>who suggested lincoln grow a beard?</td>\n",
              "      <td>11-year-old grace bedell</td>\n",
              "      <td>abraham lincoln\\n\\n\\n\\nabraham lincoln (februa...</td>\n",
              "    </tr>\n",
              "    <tr>\n",
              "      <th>7</th>\n",
              "      <td>abraham lincoln</td>\n",
              "      <td>when did the gettysburg address argue that ame...</td>\n",
              "      <td>1776</td>\n",
              "      <td>abraham lincoln\\n\\n\\n\\nabraham lincoln (februa...</td>\n",
              "    </tr>\n",
              "  </tbody>\n",
              "</table>\n",
              "</div>"
            ],
            "text/plain": [
              "      ArticleTitle  ...                                            Context\n",
              "3  abraham lincoln  ...  abraham lincoln\\n\\n\\n\\nabraham lincoln (februa...\n",
              "4  abraham lincoln  ...  abraham lincoln\\n\\n\\n\\nabraham lincoln (februa...\n",
              "5  abraham lincoln  ...  abraham lincoln\\n\\n\\n\\nabraham lincoln (februa...\n",
              "6  abraham lincoln  ...  abraham lincoln\\n\\n\\n\\nabraham lincoln (februa...\n",
              "7  abraham lincoln  ...  abraham lincoln\\n\\n\\n\\nabraham lincoln (februa...\n",
              "\n",
              "[5 rows x 4 columns]"
            ]
          },
          "metadata": {},
          "execution_count": 22
        }
      ]
    },
    {
      "cell_type": "code",
      "metadata": {
        "colab": {
          "base_uri": "https://localhost:8080/",
          "height": 476
        },
        "id": "RSmrKDXEAkij",
        "outputId": "cc3c9355-973a-407b-9c2d-748383fdd292"
      },
      "source": [
        "#plot the distribution of answer word length for questions that aren't yes/no\n",
        "word_length = data_context['Answer'].str.count(' ') + 1\n",
        "string_length = data_context['Answer'].str.len()\n",
        "\n",
        "print('Single word answers:', (word_length == 1).sum())\n",
        "print('Two word answers:', (word_length == 2).sum())\n",
        "print('Three word answers:', (word_length == 3).sum())\n",
        "print('Four word answers:', (word_length == 4).sum())\n",
        "print('Five word answers:', (word_length == 5).sum())\n",
        "print('6-10 word answers:', ((word_length > 5) & (word_length <= 10)).sum())\n",
        "print('11-20 word answers:', ((word_length > 10) & (word_length <= 20)).sum())\n",
        "print('More than 20 words answers:', (word_length > 20).sum())\n",
        "print('\\nMax answer word length:', word_length.max())\n",
        "print('Max answer string length:', string_length.max())\n",
        "\n",
        "#plt.hist(word_length, bins = 100)\n",
        "plt.bar(word_length.unique(), word_length.value_counts())\n",
        "plt.ylim([0,300])\n",
        "plt.show"
      ],
      "execution_count": 23,
      "outputs": [
        {
          "output_type": "stream",
          "name": "stdout",
          "text": [
            "Single word answers: 363\n",
            "Two word answers: 197\n",
            "Three word answers: 141\n",
            "Four word answers: 99\n",
            "Five word answers: 69\n",
            "6-10 word answers: 236\n",
            "11-20 word answers: 116\n",
            "More than 20 words answers: 31\n",
            "\n",
            "Max answer word length: 156\n",
            "Max answer string length: 926\n"
          ]
        },
        {
          "output_type": "execute_result",
          "data": {
            "text/plain": [
              "<function matplotlib.pyplot.show>"
            ]
          },
          "metadata": {},
          "execution_count": 23
        },
        {
          "output_type": "display_data",
          "data": {
            "image/png": "[encoded data removed]",
            "text/plain": [
              "<Figure size 432x288 with 1 Axes>"
            ]
          },
          "metadata": {
            "needs_background": "light"
          }
        }
      ]
    },
    {
      "cell_type": "code",
      "metadata": {
        "colab": {
          "base_uri": "https://localhost:8080/",
          "height": 223
        },
        "id": "fVwRqfVVA6Gn",
        "outputId": "4f4639b4-bfc9-4102-d092-cc3f57cf9419"
      },
      "source": [
        "#create type indicator in data set and combine clean yes/no and context\n",
        "data_yn['Answer Type'] = 'yes/no'\n",
        "data_context['Answer Type'] = 'context'\n",
        "data_all = data_yn.append(data_context)\n",
        "\n",
        "print(\"Shape:\", data_all.shape)\n",
        "data_all.head()"
      ],
      "execution_count": 24,
      "outputs": [
        {
          "output_type": "stream",
          "name": "stdout",
          "text": [
            "Shape: (2322, 5)\n"
          ]
        },
        {
          "output_type": "execute_result",
          "data": {
            "text/html": [
              "<div>\n",
              "<style scoped>\n",
              "    .dataframe tbody tr th:only-of-type {\n",
              "        vertical-align: middle;\n",
              "    }\n",
              "\n",
              "    .dataframe tbody tr th {\n",
              "        vertical-align: top;\n",
              "    }\n",
              "\n",
              "    .dataframe thead th {\n",
              "        text-align: right;\n",
              "    }\n",
              "</style>\n",
              "<table border=\"1\" class=\"dataframe\">\n",
              "  <thead>\n",
              "    <tr style=\"text-align: right;\">\n",
              "      <th></th>\n",
              "      <th>ArticleTitle</th>\n",
              "      <th>Question</th>\n",
              "      <th>Answer</th>\n",
              "      <th>Context</th>\n",
              "      <th>Answer Type</th>\n",
              "    </tr>\n",
              "  </thead>\n",
              "  <tbody>\n",
              "    <tr>\n",
              "      <th>0</th>\n",
              "      <td>abraham lincoln</td>\n",
              "      <td>was abraham lincoln the sixteenth president of...</td>\n",
              "      <td>yes</td>\n",
              "      <td>abraham lincoln\\n\\n\\n\\nabraham lincoln (februa...</td>\n",
              "      <td>yes/no</td>\n",
              "    </tr>\n",
              "    <tr>\n",
              "      <th>1</th>\n",
              "      <td>abraham lincoln</td>\n",
              "      <td>did lincoln sign the national banking act of 1...</td>\n",
              "      <td>yes</td>\n",
              "      <td>abraham lincoln\\n\\n\\n\\nabraham lincoln (februa...</td>\n",
              "      <td>yes/no</td>\n",
              "    </tr>\n",
              "    <tr>\n",
              "      <th>2</th>\n",
              "      <td>abraham lincoln</td>\n",
              "      <td>did his mother die of pneumonia?</td>\n",
              "      <td>no</td>\n",
              "      <td>abraham lincoln\\n\\n\\n\\nabraham lincoln (februa...</td>\n",
              "      <td>yes/no</td>\n",
              "    </tr>\n",
              "    <tr>\n",
              "      <th>8</th>\n",
              "      <td>abraham lincoln</td>\n",
              "      <td>did lincoln beat john c. breckinridge in the 1...</td>\n",
              "      <td>yes</td>\n",
              "      <td>abraham lincoln\\n\\n\\n\\nabraham lincoln (februa...</td>\n",
              "      <td>yes/no</td>\n",
              "    </tr>\n",
              "    <tr>\n",
              "      <th>9</th>\n",
              "      <td>abraham lincoln</td>\n",
              "      <td>was abraham lincoln the first president of the...</td>\n",
              "      <td>no</td>\n",
              "      <td>abraham lincoln\\n\\n\\n\\nabraham lincoln (februa...</td>\n",
              "      <td>yes/no</td>\n",
              "    </tr>\n",
              "  </tbody>\n",
              "</table>\n",
              "</div>"
            ],
            "text/plain": [
              "      ArticleTitle  ... Answer Type\n",
              "0  abraham lincoln  ...      yes/no\n",
              "1  abraham lincoln  ...      yes/no\n",
              "2  abraham lincoln  ...      yes/no\n",
              "8  abraham lincoln  ...      yes/no\n",
              "9  abraham lincoln  ...      yes/no\n",
              "\n",
              "[5 rows x 5 columns]"
            ]
          },
          "metadata": {},
          "execution_count": 24
        }
      ]
    },
    {
      "cell_type": "code",
      "metadata": {
        "colab": {
          "base_uri": "https://localhost:8080/",
          "height": 286
        },
        "id": "XJKA88Gy8uoz",
        "outputId": "602ecaaf-5517-456b-9d8f-40ee5c1c9daa"
      },
      "source": [
        "#plot the distribution of answer word length for questions that aren't yes/no\n",
        "word_length = data_context['Context'].str.count(' ') + 1\n",
        "\n",
        "plt.hist(word_length, bins = 10)\n",
        "#plt.bar(word_length.unique(), word_length.value_counts())\n",
        "#plt.bar(np.arange(90), word_length)\n",
        "plt.ylim([0,2000])\n",
        "plt.show"
      ],
      "execution_count": 25,
      "outputs": [
        {
          "output_type": "execute_result",
          "data": {
            "text/plain": [
              "<function matplotlib.pyplot.show>"
            ]
          },
          "metadata": {},
          "execution_count": 25
        },
        {
          "output_type": "display_data",
          "data": {
            "image/png": "[encoded data removed]",
            "text/plain": [
              "<Figure size 432x288 with 1 Axes>"
            ]
          },
          "metadata": {
            "needs_background": "light"
          }
        }
      ]
    },
    {
      "cell_type": "markdown",
      "metadata": {
        "id": "SQv-B6tMCdAr"
      },
      "source": [
        "## Transformer (Context Questions)"
      ]
    },
    {
      "cell_type": "code",
      "metadata": {
        "id": "IQYy0c9_UWaE"
      },
      "source": [
        "from tensorflow.keras.preprocessing.text import Tokenizer\n",
        "from tensorflow.keras.preprocessing.sequence import pad_sequences"
      ],
      "execution_count": 26,
      "outputs": []
    },
    {
      "cell_type": "code",
      "metadata": {
        "id": "9vB_C3DdWkOP"
      },
      "source": [
        "# segregating questions and answers into different lists\n",
        "question = list(data_context['Question'])\n",
        "answer = list(data_context['Answer'])\n",
        "context = list((data_context['Context']))\n",
        "\n",
        "input = list(map(lambda q, c: str(q + ' <SEP> ' + c), question, context))\n",
        "output = list(map(lambda a: str('<START> ' + a + '<END>'), answer))"
      ],
      "execution_count": 27,
      "outputs": []
    },
    {
      "cell_type": "code",
      "metadata": {
        "colab": {
          "base_uri": "https://localhost:8080/"
        },
        "id": "VbzE-evLUXDt",
        "outputId": "aae7b041-3f99-4cf5-fc75-3099a67fe084"
      },
      "source": [
        "#initialize the tokenizer\n",
        "tokenizer = Tokenizer(oov_token=\"<oov>\", char_level = False, lower = True) #oov: out of vocabulary token => used to handle newly encountered words in the training dataset, new\n",
        "\n",
        "#creating word index\n",
        "tokenizer.fit_on_texts(input + output)\n",
        "word_index = tokenizer.word_index\n",
        "vocab_size = len(tokenizer.word_index) + 1\n",
        "\n",
        "#create sequences using tokenizer\n",
        "input_token = tokenizer.texts_to_sequences(input)\n",
        "output_token = tokenizer.texts_to_sequences(output)\n",
        "\n",
        "#padding the sequences to make sure length matches for all the sequences\n",
        "padded_input_tokens = pad_sequences(input_token, padding='post', maxlen = 4000)\n",
        "padded_output_tokens = pad_sequences(output_token , padding='post', maxlen = 4001)\n",
        "\n",
        "print(\"Vocabulary size:\", vocab_size)\n",
        "\n",
        "max_input = padded_input_tokens.shape[1]\n",
        "print(\"Max input length:\", max_input)\n",
        "\n",
        "#padded_output_tokens = pad_sequences(output_token , padding='post', maxlen=max_input + 1)\n",
        "\n",
        "max_output = padded_output_tokens.shape[1]\n",
        "print(\"Max answer length:\", max_output)\n",
        "\n",
        "print(\"Input token shape:\", padded_input_tokens.shape)"
      ],
      "execution_count": 28,
      "outputs": [
        {
          "output_type": "stream",
          "name": "stdout",
          "text": [
            "Vocabulary size: 30655\n",
            "Max input length: 4000\n",
            "Max answer length: 4001\n",
            "Input token shape: (1252, 4000)\n"
          ]
        }
      ]
    },
    {
      "cell_type": "code",
      "metadata": {
        "id": "5W1xxPxXUmhE"
      },
      "source": [
        "# divide into train and test\n",
        "X_train, X_test, y_train, y_test = train_test_split(padded_input_tokens, padded_output_tokens,\n",
        "          shuffle=True, test_size=0.1, random_state=5)\n",
        "X_train, X_val, y_train, y_val = train_test_split(X_train, y_train,\n",
        "          shuffle=True, test_size=0.2, random_state=5)"
      ],
      "execution_count": 29,
      "outputs": []
    },
    {
      "cell_type": "code",
      "metadata": {
        "id": "JiXXFZip2yFZ"
      },
      "source": [
        "def format_dataset(input, answer):\n",
        "  return ({\"encoder_inputs\": input, \"decoder_inputs\": answer[:, :-1],}, answer[:, 1:])\n",
        "\n",
        "def make_dataset(X, y):\n",
        "  dataset = tf.data.Dataset.from_tensor_slices((X_train, y_train))\n",
        "  dataset = dataset.batch(batch_size=8)\n",
        "  dataset = dataset.map(format_dataset)\n",
        "  return dataset.shuffle(2048).prefetch(16).cache()\n",
        "  \n",
        "train_ds = make_dataset(X_train, y_train)\n",
        "val_ds = make_dataset(X_val, y_val)\n",
        "test_ds = make_dataset(X_test, y_test)"
      ],
      "execution_count": 30,
      "outputs": []
    },
    {
      "cell_type": "code",
      "metadata": {
        "colab": {
          "base_uri": "https://localhost:8080/"
        },
        "id": "A6VlPG6RGBZX",
        "outputId": "d103d662-f5ea-4842-ad24-f743f3ef0a1f"
      },
      "source": [
        "for inputs, targets in train_ds.take(1):\n",
        "    print(f'inputs[\"encoder_inputs\"].shape: {inputs[\"encoder_inputs\"].shape}')\n",
        "    print(f'inputs[\"decoder_inputs\"].shape: {inputs[\"decoder_inputs\"].shape}')\n",
        "    print(f\"targets.shape: {targets.shape}\")"
      ],
      "execution_count": 31,
      "outputs": [
        {
          "output_type": "stream",
          "name": "stdout",
          "text": [
            "inputs[\"encoder_inputs\"].shape: (8, 4000)\n",
            "inputs[\"decoder_inputs\"].shape: (8, 4000)\n",
            "targets.shape: (8, 4000)\n"
          ]
        }
      ]
    },
    {
      "cell_type": "code",
      "metadata": {
        "id": "wUoEAfEU1VJg"
      },
      "source": [
        "from tensorflow import keras\n",
        "from tensorflow.keras import layers"
      ],
      "execution_count": 32,
      "outputs": []
    },
    {
      "cell_type": "code",
      "metadata": {
        "id": "lWu2pmrSzRUP"
      },
      "source": [
        "class TransformerEncoder(layers.Layer):\n",
        "    def __init__(self, embed_dim, dense_dim, num_heads, **kwargs):\n",
        "        super(TransformerEncoder, self).__init__(**kwargs)\n",
        "        self.embed_dim = embed_dim\n",
        "        self.dense_dim = dense_dim\n",
        "        self.num_heads = num_heads\n",
        "        self.attention = layers.MultiHeadAttention(\n",
        "            num_heads=num_heads, key_dim=embed_dim\n",
        "        )\n",
        "        self.dense_proj = keras.Sequential(\n",
        "            [layers.Dense(dense_dim, activation=\"relu\"), layers.Dense(embed_dim),]\n",
        "        )\n",
        "        self.layernorm_1 = layers.LayerNormalization()\n",
        "        self.layernorm_2 = layers.LayerNormalization()\n",
        "        self.supports_masking = True\n",
        "\n",
        "    def call(self, inputs, mask=None):\n",
        "        if mask is not None:\n",
        "            padding_mask = tf.cast(mask[:, tf.newaxis, tf.newaxis, :], dtype=\"int32\")\n",
        "        attention_output = self.attention(\n",
        "            query=inputs, value=inputs, key=inputs, attention_mask=padding_mask\n",
        "        )\n",
        "        proj_input = self.layernorm_1(inputs + attention_output)\n",
        "        proj_output = self.dense_proj(proj_input)\n",
        "        return self.layernorm_2(proj_input + proj_output)\n",
        "\n",
        "\n",
        "class PositionalEmbedding(layers.Layer):\n",
        "    def __init__(self, sequence_length, vocab_size, embed_dim, **kwargs):\n",
        "        super(PositionalEmbedding, self).__init__(**kwargs)\n",
        "        self.token_embeddings = layers.Embedding(\n",
        "            input_dim=vocab_size, output_dim=embed_dim\n",
        "        )\n",
        "        self.position_embeddings = layers.Embedding(\n",
        "            input_dim=sequence_length, output_dim=embed_dim\n",
        "        )\n",
        "        self.sequence_length = sequence_length\n",
        "        self.vocab_size = vocab_size\n",
        "        self.embed_dim = embed_dim\n",
        "\n",
        "    def call(self, inputs):\n",
        "        length = tf.shape(inputs)[-1]\n",
        "        positions = tf.range(start=0, limit=length, delta=1)\n",
        "        embedded_tokens = self.token_embeddings(inputs)\n",
        "        embedded_positions = self.position_embeddings(positions)\n",
        "        return embedded_tokens + embedded_positions\n",
        "\n",
        "    def compute_mask(self, inputs, mask=None):\n",
        "        return tf.math.not_equal(inputs, 0)\n",
        "\n",
        "\n",
        "class TransformerDecoder(layers.Layer):\n",
        "    def __init__(self, embed_dim, latent_dim, num_heads, **kwargs):\n",
        "        super(TransformerDecoder, self).__init__(**kwargs)\n",
        "        self.embed_dim = embed_dim\n",
        "        self.latent_dim = latent_dim\n",
        "        self.num_heads = num_heads\n",
        "        self.attention_1 = layers.MultiHeadAttention(\n",
        "            num_heads=num_heads, key_dim=embed_dim\n",
        "        )\n",
        "        self.attention_2 = layers.MultiHeadAttention(\n",
        "            num_heads=num_heads, key_dim=embed_dim\n",
        "        )\n",
        "        self.dense_proj = keras.Sequential(\n",
        "            [layers.Dense(latent_dim, activation=\"relu\"), layers.Dense(embed_dim),]\n",
        "        )\n",
        "        self.layernorm_1 = layers.LayerNormalization()\n",
        "        self.layernorm_2 = layers.LayerNormalization()\n",
        "        self.layernorm_3 = layers.LayerNormalization()\n",
        "        self.supports_masking = True\n",
        "\n",
        "    def call(self, inputs, encoder_outputs, mask=None):\n",
        "        causal_mask = self.get_causal_attention_mask(inputs)\n",
        "        if mask is not None:\n",
        "            padding_mask = tf.cast(mask[:, tf.newaxis, :], dtype=\"int32\")\n",
        "            padding_mask = tf.minimum(padding_mask, causal_mask)\n",
        "\n",
        "        attention_output_1 = self.attention_1(\n",
        "            query=inputs, value=inputs, key=inputs, attention_mask=causal_mask\n",
        "        )\n",
        "        out_1 = self.layernorm_1(inputs + attention_output_1)\n",
        "\n",
        "        attention_output_2 = self.attention_2(\n",
        "            query=out_1,\n",
        "            value=encoder_outputs,\n",
        "            key=encoder_outputs,\n",
        "            attention_mask=padding_mask,\n",
        "        )\n",
        "        out_2 = self.layernorm_2(out_1 + attention_output_2)\n",
        "\n",
        "        proj_output = self.dense_proj(out_2)\n",
        "        return self.layernorm_3(out_2 + proj_output)\n",
        "\n",
        "    def get_causal_attention_mask(self, inputs):\n",
        "        input_shape = tf.shape(inputs)\n",
        "        batch_size, sequence_length = input_shape[0], input_shape[1]\n",
        "        i = tf.range(sequence_length)[:, tf.newaxis]\n",
        "        j = tf.range(sequence_length)\n",
        "        mask = tf.cast(i >= j, dtype=\"int32\")\n",
        "        mask = tf.reshape(mask, (1, input_shape[1], input_shape[1]))\n",
        "        mult = tf.concat(\n",
        "            [tf.expand_dims(batch_size, -1), tf.constant([1, 1], dtype=tf.int32)],\n",
        "            axis=0,\n",
        "        )\n",
        "        return tf.tile(mask, mult)\n"
      ],
      "execution_count": 33,
      "outputs": []
    },
    {
      "cell_type": "code",
      "metadata": {
        "id": "y-pjdzV31vK0"
      },
      "source": [
        "embed_dim = 256\n",
        "latent_dim = 2048\n",
        "num_heads = 8\n",
        "\n",
        "encoder_inputs = keras.Input(shape=(None,), dtype=\"int64\", name=\"encoder_inputs\")\n",
        "x = PositionalEmbedding(max_input, vocab_size, embed_dim)(encoder_inputs)\n",
        "encoder_outputs = TransformerEncoder(embed_dim, latent_dim, num_heads)(x)\n",
        "encoder = keras.Model(encoder_inputs, encoder_outputs)\n",
        "\n",
        "decoder_inputs = keras.Input(shape=(None,), dtype=\"int64\", name=\"decoder_inputs\")\n",
        "encoded_seq_inputs = keras.Input(shape=(None, embed_dim), name=\"decoder_state_inputs\")\n",
        "x = PositionalEmbedding(max_input, vocab_size, embed_dim)(decoder_inputs)\n",
        "x = TransformerDecoder(embed_dim, latent_dim, num_heads)(x, encoded_seq_inputs)\n",
        "x = layers.Dropout(0.5)(x)\n",
        "decoder_outputs = layers.Dense(vocab_size, activation=\"softmax\")(x)\n",
        "decoder = keras.Model([decoder_inputs, encoded_seq_inputs], decoder_outputs)\n",
        "\n",
        "decoder_outputs = decoder([decoder_inputs, encoder_outputs])\n",
        "transformer = keras.Model(\n",
        "    [encoder_inputs, decoder_inputs], decoder_outputs, name=\"transformer\"\n",
        ")"
      ],
      "execution_count": 34,
      "outputs": []
    },
    {
      "cell_type": "markdown",
      "metadata": {
        "id": "HmrYSpQgBH7I"
      },
      "source": [
        "### Run first 10 epochs"
      ]
    },
    {
      "cell_type": "code",
      "metadata": {
        "colab": {
          "base_uri": "https://localhost:8080/"
        },
        "id": "jqHL2fNub3ZU",
        "outputId": "b4cdcf56-4410-46ad-d08d-a31e1e1df06f"
      },
      "source": [
        "checkpoint_path = '/content/drive/MyDrive/colab/chatbot/cp-{epoch:04}.ckpt'\n",
        "checkpoint_dir = os.path.dirname(checkpoint_path)\n",
        "\n",
        "\n",
        "#create a callback that saves the model's weights every 5 epochs\n",
        "cp_callback = tf.keras.callbacks.ModelCheckpoint(\n",
        "    filepath=checkpoint_path, \n",
        "    verbose=1, \n",
        "    save_weights_only=True,\n",
        "    save_freq='epoch')\n",
        "\n",
        "epochs = 10\n",
        "\n",
        "transformer.summary()\n",
        "transformer.compile(\n",
        "    \"rmsprop\", loss=\"sparse_categorical_crossentropy\", metrics=[\"accuracy\"]\n",
        ")\n",
        "\n",
        "transformer.save_weights(checkpoint_path.format(epoch=0))\n",
        "\n",
        "history = transformer.fit(train_ds, epochs=epochs, validation_data=val_ds, callbacks=[cp_callback])"
      ],
      "execution_count": 36,
      "outputs": [
        {
          "output_type": "stream",
          "name": "stdout",
          "text": [
            "Model: \"transformer\"\n",
            "__________________________________________________________________________________________________\n",
            " Layer (type)                   Output Shape         Param #     Connected to                     \n",
            "==================================================================================================\n",
            " encoder_inputs (InputLayer)    [(None, None)]       0           []                               \n",
            "                                                                                                  \n",
            " positional_embedding_2 (Positi  (None, None, 256)   8871680     ['encoder_inputs[0][0]']         \n",
            " onalEmbedding)                                                                                   \n",
            "                                                                                                  \n",
            " decoder_inputs (InputLayer)    [(None, None)]       0           []                               \n",
            "                                                                                                  \n",
            " transformer_encoder_1 (Transfo  (None, None, 256)   3155456     ['positional_embedding_2[0][0]'] \n",
            " rmerEncoder)                                                                                     \n",
            "                                                                                                  \n",
            " model_3 (Functional)           (None, None, 30655)  22009535    ['decoder_inputs[0][0]',         \n",
            "                                                                  'transformer_encoder_1[0][0]']  \n",
            "                                                                                                  \n",
            "==================================================================================================\n",
            "Total params: 34,036,671\n",
            "Trainable params: 34,036,671\n",
            "Non-trainable params: 0\n",
            "__________________________________________________________________________________________________\n",
            "Epoch 1/10\n",
            "113/113 [==============================] - ETA: 0s - loss: 0.0125 - accuracy: 0.2720 \n",
            "Epoch 00001: saving model to /content/drive/MyDrive/colab/chatbot/cp-0001.ckpt\n",
            "113/113 [==============================] - 3254s 29s/step - loss: 0.0125 - accuracy: 0.2720 - val_loss: 0.0106 - val_accuracy: 0.3032\n",
            "Epoch 2/10\n",
            "113/113 [==============================] - ETA: 0s - loss: 0.0107 - accuracy: 0.3075 \n",
            "Epoch 00002: saving model to /content/drive/MyDrive/colab/chatbot/cp-0002.ckpt\n",
            "113/113 [==============================] - 3256s 29s/step - loss: 0.0107 - accuracy: 0.3075 - val_loss: 0.0098 - val_accuracy: 0.3277\n",
            "Epoch 3/10\n",
            "113/113 [==============================] - ETA: 0s - loss: 0.0100 - accuracy: 0.3192 \n",
            "Epoch 00003: saving model to /content/drive/MyDrive/colab/chatbot/cp-0003.ckpt\n",
            "113/113 [==============================] - 3293s 29s/step - loss: 0.0100 - accuracy: 0.3192 - val_loss: 0.0093 - val_accuracy: 0.3334\n",
            "Epoch 4/10\n",
            "113/113 [==============================] - ETA: 0s - loss: 0.0094 - accuracy: 0.3479 \n",
            "Epoch 00004: saving model to /content/drive/MyDrive/colab/chatbot/cp-0004.ckpt\n",
            "113/113 [==============================] - 3318s 29s/step - loss: 0.0094 - accuracy: 0.3479 - val_loss: 0.0085 - val_accuracy: 0.3632\n",
            "Epoch 5/10\n",
            "113/113 [==============================] - ETA: 0s - loss: 0.0087 - accuracy: 0.3839 \n",
            "Epoch 00005: saving model to /content/drive/MyDrive/colab/chatbot/cp-0005.ckpt\n",
            "113/113 [==============================] - 3317s 29s/step - loss: 0.0087 - accuracy: 0.3839 - val_loss: 0.0079 - val_accuracy: 0.4057\n",
            "Epoch 6/10\n",
            "113/113 [==============================] - ETA: 0s - loss: 0.0080 - accuracy: 0.4230 \n",
            "Epoch 00006: saving model to /content/drive/MyDrive/colab/chatbot/cp-0006.ckpt\n",
            "113/113 [==============================] - 3320s 29s/step - loss: 0.0080 - accuracy: 0.4230 - val_loss: 0.0072 - val_accuracy: 0.4678\n",
            "Epoch 7/10\n",
            "113/113 [==============================] - ETA: 0s - loss: 0.0075 - accuracy: 0.4564 \n",
            "Epoch 00007: saving model to /content/drive/MyDrive/colab/chatbot/cp-0007.ckpt\n",
            "113/113 [==============================] - 3318s 29s/step - loss: 0.0075 - accuracy: 0.4564 - val_loss: 0.0066 - val_accuracy: 0.5096\n",
            "Epoch 8/10\n",
            "113/113 [==============================] - ETA: 0s - loss: 0.0070 - accuracy: 0.4992 \n",
            "Epoch 00008: saving model to /content/drive/MyDrive/colab/chatbot/cp-0008.ckpt\n",
            "113/113 [==============================] - 3317s 29s/step - loss: 0.0070 - accuracy: 0.4992 - val_loss: 0.0061 - val_accuracy: 0.5436\n",
            "Epoch 9/10\n",
            "113/113 [==============================] - ETA: 0s - loss: 0.0065 - accuracy: 0.5221 \n",
            "Epoch 00009: saving model to /content/drive/MyDrive/colab/chatbot/cp-0009.ckpt\n",
            "113/113 [==============================] - 3339s 30s/step - loss: 0.0065 - accuracy: 0.5221 - val_loss: 0.0058 - val_accuracy: 0.5675\n",
            "Epoch 10/10\n",
            "113/113 [==============================] - ETA: 0s - loss: 0.0061 - accuracy: 0.5516 \n",
            "Epoch 00010: saving model to /content/drive/MyDrive/colab/chatbot/cp-0010.ckpt\n",
            "113/113 [==============================] - 3323s 29s/step - loss: 0.0061 - accuracy: 0.5516 - val_loss: 0.0053 - val_accuracy: 0.6172\n"
          ]
        }
      ]
    },
    {
      "cell_type": "code",
      "metadata": {
        "id": "DolX1McGvcWZ"
      },
      "source": [
        "hist_all = pd.DataFrame(history.history)\n",
        "hist_all[\"epoch\"] = history.epoch\n",
        "hist_all.to_csv('/content/drive/MyDrive/colab/chatbot/hist.csv')"
      ],
      "execution_count": 37,
      "outputs": []
    },
    {
      "cell_type": "markdown",
      "metadata": {
        "id": "614fIQCeA7l7"
      },
      "source": [
        "### Run next 10 epochs"
      ]
    },
    {
      "cell_type": "code",
      "metadata": {
        "id": "ZtlGrCO8DMLe"
      },
      "source": [
        "# Load the previously saved weights\n",
        "#latest = tf.train.latest_checkpoint(checkpoint_dir)\n",
        "latest = '/content/drive/MyDrive/colab/chatbot/cp-0010.ckpt'"
      ],
      "execution_count": 35,
      "outputs": []
    },
    {
      "cell_type": "code",
      "metadata": {
        "colab": {
          "base_uri": "https://localhost:8080/"
        },
        "id": "2oG7SKBvxe2B",
        "outputId": "2b326dd4-91ca-47bb-9caa-29caa93fc184"
      },
      "source": [
        "checkpoint_path = '/content/drive/MyDrive/colab/chatbot/cp-{epoch:04}.ckpt'\n",
        "checkpoint_dir = os.path.dirname(checkpoint_path)\n",
        "\n",
        "epochs = 10\n",
        "\n",
        "# Load the previously saved weights\n",
        "latest = tf.train.latest_checkpoint(checkpoint_dir)\n",
        "transformer.load_weights(latest)\n",
        "\n",
        "#create a callback that saves the model's weights every epoch\n",
        "cp_callback = tf.keras.callbacks.ModelCheckpoint(\n",
        "    filepath=checkpoint_path, \n",
        "    verbose=1, \n",
        "    save_weights_only=True,\n",
        "    save_freq='epoch')\n",
        "\n",
        "# Keep training model\n",
        "transformer.summary()\n",
        "transformer.compile(\n",
        "    \"rmsprop\", loss=\"sparse_categorical_crossentropy\", metrics=[\"accuracy\"]\n",
        ")\n",
        "\n",
        "transformer.save_weights(checkpoint_path.format(epoch=0))\n",
        "\n",
        "history = transformer.fit(train_ds, epochs=epochs, validation_data=val_ds, callbacks=[cp_callback])"
      ],
      "execution_count": 36,
      "outputs": [
        {
          "output_type": "stream",
          "name": "stdout",
          "text": [
            "Model: \"transformer\"\n",
            "__________________________________________________________________________________________________\n",
            " Layer (type)                   Output Shape         Param #     Connected to                     \n",
            "==================================================================================================\n",
            " encoder_inputs (InputLayer)    [(None, None)]       0           []                               \n",
            "                                                                                                  \n",
            " positional_embedding (Position  (None, None, 256)   8871680     ['encoder_inputs[0][0]']         \n",
            " alEmbedding)                                                                                     \n",
            "                                                                                                  \n",
            " decoder_inputs (InputLayer)    [(None, None)]       0           []                               \n",
            "                                                                                                  \n",
            " transformer_encoder (Transform  (None, None, 256)   3155456     ['positional_embedding[0][0]']   \n",
            " erEncoder)                                                                                       \n",
            "                                                                                                  \n",
            " model_1 (Functional)           (None, None, 30655)  22009535    ['decoder_inputs[0][0]',         \n",
            "                                                                  'transformer_encoder[0][0]']    \n",
            "                                                                                                  \n",
            "==================================================================================================\n",
            "Total params: 34,036,671\n",
            "Trainable params: 34,036,671\n",
            "Non-trainable params: 0\n",
            "__________________________________________________________________________________________________\n",
            "Epoch 1/10\n",
            "113/113 [==============================] - ETA: 0s - loss: 0.0050 - accuracy: 0.6428 \n",
            "Epoch 00001: saving model to /content/drive/MyDrive/colab/chatbot/cp-0001.ckpt\n",
            "113/113 [==============================] - 3101s 27s/step - loss: 0.0050 - accuracy: 0.6428 - val_loss: 0.0039 - val_accuracy: 0.7406\n",
            "Epoch 2/10\n",
            "113/113 [==============================] - ETA: 0s - loss: 0.0046 - accuracy: 0.6698 \n",
            "Epoch 00002: saving model to /content/drive/MyDrive/colab/chatbot/cp-0002.ckpt\n",
            "113/113 [==============================] - 3160s 28s/step - loss: 0.0046 - accuracy: 0.6698 - val_loss: 0.0037 - val_accuracy: 0.7668\n",
            "Epoch 3/10\n",
            "113/113 [==============================] - ETA: 0s - loss: 0.0044 - accuracy: 0.6895 \n",
            "Epoch 00003: saving model to /content/drive/MyDrive/colab/chatbot/cp-0003.ckpt\n",
            "113/113 [==============================] - 3264s 29s/step - loss: 0.0044 - accuracy: 0.6895 - val_loss: 0.0036 - val_accuracy: 0.7704\n",
            "Epoch 4/10\n",
            "113/113 [==============================] - ETA: 0s - loss: 0.0042 - accuracy: 0.7100 \n",
            "Epoch 00004: saving model to /content/drive/MyDrive/colab/chatbot/cp-0004.ckpt\n",
            "113/113 [==============================] - 3214s 29s/step - loss: 0.0042 - accuracy: 0.7100 - val_loss: 0.0034 - val_accuracy: 0.7876\n",
            "Epoch 5/10\n",
            "113/113 [==============================] - ETA: 0s - loss: 0.0040 - accuracy: 0.7236 \n",
            "Epoch 00005: saving model to /content/drive/MyDrive/colab/chatbot/cp-0005.ckpt\n",
            "113/113 [==============================] - 3370s 30s/step - loss: 0.0040 - accuracy: 0.7236 - val_loss: 0.0033 - val_accuracy: 0.8008\n",
            "Epoch 6/10\n",
            "113/113 [==============================] - ETA: 0s - loss: 0.0039 - accuracy: 0.7368 \n",
            "Epoch 00006: saving model to /content/drive/MyDrive/colab/chatbot/cp-0006.ckpt\n",
            "113/113 [==============================] - 3232s 29s/step - loss: 0.0039 - accuracy: 0.7368 - val_loss: 0.0032 - val_accuracy: 0.8070\n",
            "Epoch 7/10\n",
            "113/113 [==============================] - ETA: 0s - loss: 0.0038 - accuracy: 0.7430 \n",
            "Epoch 00007: saving model to /content/drive/MyDrive/colab/chatbot/cp-0007.ckpt\n",
            "113/113 [==============================] - 3262s 29s/step - loss: 0.0038 - accuracy: 0.7430 - val_loss: 0.0031 - val_accuracy: 0.8170\n",
            "Epoch 8/10\n",
            "113/113 [==============================] - ETA: 0s - loss: 0.0036 - accuracy: 0.7588 \n",
            "Epoch 00008: saving model to /content/drive/MyDrive/colab/chatbot/cp-0008.ckpt\n",
            "113/113 [==============================] - 3261s 29s/step - loss: 0.0036 - accuracy: 0.7588 - val_loss: 0.0030 - val_accuracy: 0.8216\n",
            "Epoch 9/10\n",
            "113/113 [==============================] - ETA: 0s - loss: 0.0035 - accuracy: 0.7653 \n",
            "Epoch 00009: saving model to /content/drive/MyDrive/colab/chatbot/cp-0009.ckpt\n",
            "113/113 [==============================] - 3214s 29s/step - loss: 0.0035 - accuracy: 0.7653 - val_loss: 0.0030 - val_accuracy: 0.8264\n",
            "Epoch 10/10\n",
            "113/113 [==============================] - ETA: 0s - loss: 0.0035 - accuracy: 0.7710 \n",
            "Epoch 00010: saving model to /content/drive/MyDrive/colab/chatbot/cp-0010.ckpt\n",
            "113/113 [==============================] - 3233s 29s/step - loss: 0.0035 - accuracy: 0.7710 - val_loss: 0.0028 - val_accuracy: 0.8233\n"
          ]
        }
      ]
    },
    {
      "cell_type": "code",
      "metadata": {
        "colab": {
          "base_uri": "https://localhost:8080/",
          "height": 206
        },
        "id": "wV790BIvwz9r",
        "outputId": "3a9b5488-c0d8-4b68-c9b9-44899c9b32d5"
      },
      "source": [
        "#update epoch metric history\n",
        "hist_all = pd.read_csv('/content/drive/MyDrive/colab/chatbot/hist.csv', index_col = 0)\n",
        "hist_run = pd.DataFrame(history.history)\n",
        "hist_run['epoch'] = history.epoch\n",
        "\n",
        "offset = 10\n",
        "hist_run[\"epoch\"] = list(map(lambda x: x + offset, history.epoch)) #adjust offset as needed\n",
        "\n",
        "hist_all = hist_all.append(hist_run)\n",
        "hist_all.to_csv('/content/drive/MyDrive/colab/chatbot/hist.csv')\n",
        "hist_all.head()"
      ],
      "execution_count": 37,
      "outputs": [
        {
          "output_type": "execute_result",
          "data": {
            "text/html": [
              "<div>\n",
              "<style scoped>\n",
              "    .dataframe tbody tr th:only-of-type {\n",
              "        vertical-align: middle;\n",
              "    }\n",
              "\n",
              "    .dataframe tbody tr th {\n",
              "        vertical-align: top;\n",
              "    }\n",
              "\n",
              "    .dataframe thead th {\n",
              "        text-align: right;\n",
              "    }\n",
              "</style>\n",
              "<table border=\"1\" class=\"dataframe\">\n",
              "  <thead>\n",
              "    <tr style=\"text-align: right;\">\n",
              "      <th></th>\n",
              "      <th>loss</th>\n",
              "      <th>accuracy</th>\n",
              "      <th>val_loss</th>\n",
              "      <th>val_accuracy</th>\n",
              "      <th>epoch</th>\n",
              "    </tr>\n",
              "  </thead>\n",
              "  <tbody>\n",
              "    <tr>\n",
              "      <th>0</th>\n",
              "      <td>0.012451</td>\n",
              "      <td>0.271972</td>\n",
              "      <td>0.010575</td>\n",
              "      <td>0.303217</td>\n",
              "      <td>0</td>\n",
              "    </tr>\n",
              "    <tr>\n",
              "      <th>1</th>\n",
              "      <td>0.010662</td>\n",
              "      <td>0.307527</td>\n",
              "      <td>0.009766</td>\n",
              "      <td>0.327690</td>\n",
              "      <td>1</td>\n",
              "    </tr>\n",
              "    <tr>\n",
              "      <th>2</th>\n",
              "      <td>0.010040</td>\n",
              "      <td>0.319224</td>\n",
              "      <td>0.009293</td>\n",
              "      <td>0.333385</td>\n",
              "      <td>2</td>\n",
              "    </tr>\n",
              "    <tr>\n",
              "      <th>3</th>\n",
              "      <td>0.009403</td>\n",
              "      <td>0.347853</td>\n",
              "      <td>0.008506</td>\n",
              "      <td>0.363245</td>\n",
              "      <td>3</td>\n",
              "    </tr>\n",
              "    <tr>\n",
              "      <th>4</th>\n",
              "      <td>0.008688</td>\n",
              "      <td>0.383869</td>\n",
              "      <td>0.007864</td>\n",
              "      <td>0.405726</td>\n",
              "      <td>4</td>\n",
              "    </tr>\n",
              "  </tbody>\n",
              "</table>\n",
              "</div>"
            ],
            "text/plain": [
              "       loss  accuracy  val_loss  val_accuracy  epoch\n",
              "0  0.012451  0.271972  0.010575      0.303217      0\n",
              "1  0.010662  0.307527  0.009766      0.327690      1\n",
              "2  0.010040  0.319224  0.009293      0.333385      2\n",
              "3  0.009403  0.347853  0.008506      0.363245      3\n",
              "4  0.008688  0.383869  0.007864      0.405726      4"
            ]
          },
          "metadata": {},
          "execution_count": 37
        }
      ]
    },
    {
      "cell_type": "markdown",
      "metadata": {
        "id": "XLdyPtcvn7vE"
      },
      "source": [
        "## Run 10 more"
      ]
    },
    {
      "cell_type": "code",
      "metadata": {
        "id": "6XDtA4GfeE5s"
      },
      "source": [
        "# Load the previously saved weights\n",
        "latest = tf.train.latest_checkpoint(checkpoint_dir)\n",
        "latest"
      ],
      "execution_count": null,
      "outputs": []
    },
    {
      "cell_type": "code",
      "metadata": {
        "id": "lCc4I7DtnvKG"
      },
      "source": [
        "checkpoint_path = '/content/drive/MyDrive/colab/chatbot/cp-{epoch:04}.ckpt'\n",
        "checkpoint_dir = os.path.dirname(checkpoint_path)\n",
        "\n",
        "epochs = 10\n",
        "\n",
        "# Load the previously saved weights\n",
        "latest = tf.train.latest_checkpoint(checkpoint_dir)\n",
        "transformer.load_weights(latest)\n",
        "\n",
        "#create a callback that saves the model's weights every epoch\n",
        "cp_callback = tf.keras.callbacks.ModelCheckpoint(\n",
        "    filepath=checkpoint_path, \n",
        "    verbose=1, \n",
        "    save_weights_only=True,\n",
        "    save_freq='epoch')\n",
        "\n",
        "# Keep training model\n",
        "transformer.summary()\n",
        "transformer.compile(\n",
        "    \"rmsprop\", loss=\"sparse_categorical_crossentropy\", metrics=[\"accuracy\"]\n",
        ")\n",
        "\n",
        "transformer.save_weights(checkpoint_path.format(epoch=0))\n",
        "\n",
        "history = transformer.fit(train_ds, epochs=epochs, validation_data=val_ds, callbacks=[cp_callback])"
      ],
      "execution_count": null,
      "outputs": []
    },
    {
      "cell_type": "code",
      "metadata": {
        "id": "is311Gpsn4Y8"
      },
      "source": [
        "#update epoch metric history\n",
        "hist_all = pd.read_csv('/content/drive/MyDrive/colab/chatbot/hist.csv')\n",
        "hist_run = pd.DataFrame(history.history)\n",
        "hist_run['epoch'] = history.epoch\n",
        "\n",
        "offset = 20\n",
        "hist_run[\"epoch\"] = list(map(lambda x: x + offset, history.epoch)) #adjust offset as needed\n",
        "\n",
        "hist_all = hist_all.append(hist_run)\n",
        "hist_all.to_csv('/content/drive/MyDrive/colab/chatbot/hist.csv')\n",
        "hist_all.head()"
      ],
      "execution_count": null,
      "outputs": []
    },
    {
      "cell_type": "code",
      "metadata": {
        "colab": {
          "base_uri": "https://localhost:8080/",
          "height": 300
        },
        "id": "x_JKbu7hyAdi",
        "outputId": "e4a1c4ac-88bb-4b81-b5b8-fdc69fe489d8"
      },
      "source": [
        "plt.figure()\n",
        "plt.xlabel('Epoch')\n",
        "plt.ylabel('Loss')\n",
        "plt.plot(hist_all['epoch'], hist_all['loss'], label='Train Error')\n",
        "plt.plot(hist_all['epoch'], hist_all['val_loss'], label='Val Error')\n",
        "plt.legend()\n",
        "plt.ylim([0,0.02])"
      ],
      "execution_count": 38,
      "outputs": [
        {
          "output_type": "execute_result",
          "data": {
            "text/plain": [
              "(0.0, 0.02)"
            ]
          },
          "metadata": {},
          "execution_count": 38
        },
        {
          "output_type": "display_data",
          "data": {
            "image/png": "[encoded data removed]",
            "text/plain": [
              "<Figure size 432x288 with 1 Axes>"
            ]
          },
          "metadata": {
            "needs_background": "light"
          }
        }
      ]
    },
    {
      "cell_type": "markdown",
      "metadata": {
        "id": "oqnYjaw5PAS3"
      },
      "source": [
        "## Evaluate"
      ]
    },
    {
      "cell_type": "code",
      "metadata": {
        "colab": {
          "base_uri": "https://localhost:8080/",
          "height": 335
        },
        "id": "5mYzIJTMKHjd",
        "outputId": "65eec041-412d-4be6-9606-b6eb4853bbd5"
      },
      "source": [
        "transformer.evaluate(test_ds)"
      ],
      "execution_count": null,
      "outputs": [
        {
          "name": "stdout",
          "output_type": "stream",
          "text": [
            " 10/113 [=>............................] - ETA: 15:45 - loss: 0.0088 - accuracy: 0.3445"
          ]
        },
        {
          "ename": "KeyboardInterrupt",
          "evalue": "ignored",
          "output_type": "error",
          "traceback": [
            "\u001b[0;31m---------------------------------------------------------------------------\u001b[0m",
            "\u001b[0;31mKeyboardInterrupt\u001b[0m                         Traceback (most recent call last)",
            "\u001b[0;32m<ipython-input-59-db9eb6cf4145>\u001b[0m in \u001b[0;36m<module>\u001b[0;34m()\u001b[0m\n\u001b[0;32m----> 1\u001b[0;31m \u001b[0mtransformer\u001b[0m\u001b[0;34m.\u001b[0m\u001b[0mevaluate\u001b[0m\u001b[0;34m(\u001b[0m\u001b[0mtest_ds\u001b[0m\u001b[0;34m)\u001b[0m\u001b[0;34m\u001b[0m\u001b[0;34m\u001b[0m\u001b[0m\n\u001b[0m",
            "\u001b[0;32m/usr/local/lib/python3.7/dist-packages/keras/utils/traceback_utils.py\u001b[0m in \u001b[0;36merror_handler\u001b[0;34m(*args, **kwargs)\u001b[0m\n\u001b[1;32m     62\u001b[0m     \u001b[0mfiltered_tb\u001b[0m \u001b[0;34m=\u001b[0m \u001b[0;32mNone\u001b[0m\u001b[0;34m\u001b[0m\u001b[0;34m\u001b[0m\u001b[0m\n\u001b[1;32m     63\u001b[0m     \u001b[0;32mtry\u001b[0m\u001b[0;34m:\u001b[0m\u001b[0;34m\u001b[0m\u001b[0;34m\u001b[0m\u001b[0m\n\u001b[0;32m---> 64\u001b[0;31m       \u001b[0;32mreturn\u001b[0m \u001b[0mfn\u001b[0m\u001b[0;34m(\u001b[0m\u001b[0;34m*\u001b[0m\u001b[0margs\u001b[0m\u001b[0;34m,\u001b[0m \u001b[0;34m**\u001b[0m\u001b[0mkwargs\u001b[0m\u001b[0;34m)\u001b[0m\u001b[0;34m\u001b[0m\u001b[0;34m\u001b[0m\u001b[0m\n\u001b[0m\u001b[1;32m     65\u001b[0m     \u001b[0;32mexcept\u001b[0m \u001b[0mException\u001b[0m \u001b[0;32mas\u001b[0m \u001b[0me\u001b[0m\u001b[0;34m:\u001b[0m  \u001b[0;31m# pylint: disable=broad-except\u001b[0m\u001b[0;34m\u001b[0m\u001b[0;34m\u001b[0m\u001b[0m\n\u001b[1;32m     66\u001b[0m       \u001b[0mfiltered_tb\u001b[0m \u001b[0;34m=\u001b[0m \u001b[0m_process_traceback_frames\u001b[0m\u001b[0;34m(\u001b[0m\u001b[0me\u001b[0m\u001b[0;34m.\u001b[0m\u001b[0m__traceback__\u001b[0m\u001b[0;34m)\u001b[0m\u001b[0;34m\u001b[0m\u001b[0;34m\u001b[0m\u001b[0m\n",
            "\u001b[0;32m/usr/local/lib/python3.7/dist-packages/keras/engine/training.py\u001b[0m in \u001b[0;36mevaluate\u001b[0;34m(self, x, y, batch_size, verbose, sample_weight, steps, callbacks, max_queue_size, workers, use_multiprocessing, return_dict, **kwargs)\u001b[0m\n\u001b[1;32m   1535\u001b[0m             \u001b[0;32mwith\u001b[0m \u001b[0mtf\u001b[0m\u001b[0;34m.\u001b[0m\u001b[0mprofiler\u001b[0m\u001b[0;34m.\u001b[0m\u001b[0mexperimental\u001b[0m\u001b[0;34m.\u001b[0m\u001b[0mTrace\u001b[0m\u001b[0;34m(\u001b[0m\u001b[0;34m'test'\u001b[0m\u001b[0;34m,\u001b[0m \u001b[0mstep_num\u001b[0m\u001b[0;34m=\u001b[0m\u001b[0mstep\u001b[0m\u001b[0;34m,\u001b[0m \u001b[0m_r\u001b[0m\u001b[0;34m=\u001b[0m\u001b[0;36m1\u001b[0m\u001b[0;34m)\u001b[0m\u001b[0;34m:\u001b[0m\u001b[0;34m\u001b[0m\u001b[0;34m\u001b[0m\u001b[0m\n\u001b[1;32m   1536\u001b[0m               \u001b[0mcallbacks\u001b[0m\u001b[0;34m.\u001b[0m\u001b[0mon_test_batch_begin\u001b[0m\u001b[0;34m(\u001b[0m\u001b[0mstep\u001b[0m\u001b[0;34m)\u001b[0m\u001b[0;34m\u001b[0m\u001b[0;34m\u001b[0m\u001b[0m\n\u001b[0;32m-> 1537\u001b[0;31m               \u001b[0mtmp_logs\u001b[0m \u001b[0;34m=\u001b[0m \u001b[0mself\u001b[0m\u001b[0;34m.\u001b[0m\u001b[0mtest_function\u001b[0m\u001b[0;34m(\u001b[0m\u001b[0miterator\u001b[0m\u001b[0;34m)\u001b[0m\u001b[0;34m\u001b[0m\u001b[0;34m\u001b[0m\u001b[0m\n\u001b[0m\u001b[1;32m   1538\u001b[0m               \u001b[0;32mif\u001b[0m \u001b[0mdata_handler\u001b[0m\u001b[0;34m.\u001b[0m\u001b[0mshould_sync\u001b[0m\u001b[0;34m:\u001b[0m\u001b[0;34m\u001b[0m\u001b[0;34m\u001b[0m\u001b[0m\n\u001b[1;32m   1539\u001b[0m                 \u001b[0mcontext\u001b[0m\u001b[0;34m.\u001b[0m\u001b[0masync_wait\u001b[0m\u001b[0;34m(\u001b[0m\u001b[0;34m)\u001b[0m\u001b[0;34m\u001b[0m\u001b[0;34m\u001b[0m\u001b[0m\n",
            "\u001b[0;32m/usr/local/lib/python3.7/dist-packages/tensorflow/python/util/traceback_utils.py\u001b[0m in \u001b[0;36merror_handler\u001b[0;34m(*args, **kwargs)\u001b[0m\n\u001b[1;32m    148\u001b[0m     \u001b[0mfiltered_tb\u001b[0m \u001b[0;34m=\u001b[0m \u001b[0;32mNone\u001b[0m\u001b[0;34m\u001b[0m\u001b[0;34m\u001b[0m\u001b[0m\n\u001b[1;32m    149\u001b[0m     \u001b[0;32mtry\u001b[0m\u001b[0;34m:\u001b[0m\u001b[0;34m\u001b[0m\u001b[0;34m\u001b[0m\u001b[0m\n\u001b[0;32m--> 150\u001b[0;31m       \u001b[0;32mreturn\u001b[0m \u001b[0mfn\u001b[0m\u001b[0;34m(\u001b[0m\u001b[0;34m*\u001b[0m\u001b[0margs\u001b[0m\u001b[0;34m,\u001b[0m \u001b[0;34m**\u001b[0m\u001b[0mkwargs\u001b[0m\u001b[0;34m)\u001b[0m\u001b[0;34m\u001b[0m\u001b[0;34m\u001b[0m\u001b[0m\n\u001b[0m\u001b[1;32m    151\u001b[0m     \u001b[0;32mexcept\u001b[0m \u001b[0mException\u001b[0m \u001b[0;32mas\u001b[0m \u001b[0me\u001b[0m\u001b[0;34m:\u001b[0m\u001b[0;34m\u001b[0m\u001b[0;34m\u001b[0m\u001b[0m\n\u001b[1;32m    152\u001b[0m       \u001b[0mfiltered_tb\u001b[0m \u001b[0;34m=\u001b[0m \u001b[0m_process_traceback_frames\u001b[0m\u001b[0;34m(\u001b[0m\u001b[0me\u001b[0m\u001b[0;34m.\u001b[0m\u001b[0m__traceback__\u001b[0m\u001b[0;34m)\u001b[0m\u001b[0;34m\u001b[0m\u001b[0;34m\u001b[0m\u001b[0m\n",
            "\u001b[0;32m/usr/local/lib/python3.7/dist-packages/tensorflow/python/eager/def_function.py\u001b[0m in \u001b[0;36m__call__\u001b[0;34m(self, *args, **kwds)\u001b[0m\n\u001b[1;32m    908\u001b[0m \u001b[0;34m\u001b[0m\u001b[0m\n\u001b[1;32m    909\u001b[0m       \u001b[0;32mwith\u001b[0m \u001b[0mOptionalXlaContext\u001b[0m\u001b[0;34m(\u001b[0m\u001b[0mself\u001b[0m\u001b[0;34m.\u001b[0m\u001b[0m_jit_compile\u001b[0m\u001b[0;34m)\u001b[0m\u001b[0;34m:\u001b[0m\u001b[0;34m\u001b[0m\u001b[0;34m\u001b[0m\u001b[0m\n\u001b[0;32m--> 910\u001b[0;31m         \u001b[0mresult\u001b[0m \u001b[0;34m=\u001b[0m \u001b[0mself\u001b[0m\u001b[0;34m.\u001b[0m\u001b[0m_call\u001b[0m\u001b[0;34m(\u001b[0m\u001b[0;34m*\u001b[0m\u001b[0margs\u001b[0m\u001b[0;34m,\u001b[0m \u001b[0;34m**\u001b[0m\u001b[0mkwds\u001b[0m\u001b[0;34m)\u001b[0m\u001b[0;34m\u001b[0m\u001b[0;34m\u001b[0m\u001b[0m\n\u001b[0m\u001b[1;32m    911\u001b[0m \u001b[0;34m\u001b[0m\u001b[0m\n\u001b[1;32m    912\u001b[0m       \u001b[0mnew_tracing_count\u001b[0m \u001b[0;34m=\u001b[0m \u001b[0mself\u001b[0m\u001b[0;34m.\u001b[0m\u001b[0mexperimental_get_tracing_count\u001b[0m\u001b[0;34m(\u001b[0m\u001b[0;34m)\u001b[0m\u001b[0;34m\u001b[0m\u001b[0;34m\u001b[0m\u001b[0m\n",
            "\u001b[0;32m/usr/local/lib/python3.7/dist-packages/tensorflow/python/eager/def_function.py\u001b[0m in \u001b[0;36m_call\u001b[0;34m(self, *args, **kwds)\u001b[0m\n\u001b[1;32m    947\u001b[0m       \u001b[0;31m# In this case we have not created variables on the first call. So we can\u001b[0m\u001b[0;34m\u001b[0m\u001b[0;34m\u001b[0m\u001b[0;34m\u001b[0m\u001b[0m\n\u001b[1;32m    948\u001b[0m       \u001b[0;31m# run the first trace but we should fail if variables are created.\u001b[0m\u001b[0;34m\u001b[0m\u001b[0;34m\u001b[0m\u001b[0;34m\u001b[0m\u001b[0m\n\u001b[0;32m--> 949\u001b[0;31m       \u001b[0mresults\u001b[0m \u001b[0;34m=\u001b[0m \u001b[0mself\u001b[0m\u001b[0;34m.\u001b[0m\u001b[0m_stateful_fn\u001b[0m\u001b[0;34m(\u001b[0m\u001b[0;34m*\u001b[0m\u001b[0margs\u001b[0m\u001b[0;34m,\u001b[0m \u001b[0;34m**\u001b[0m\u001b[0mkwds\u001b[0m\u001b[0;34m)\u001b[0m\u001b[0;34m\u001b[0m\u001b[0;34m\u001b[0m\u001b[0m\n\u001b[0m\u001b[1;32m    950\u001b[0m       \u001b[0;32mif\u001b[0m \u001b[0mself\u001b[0m\u001b[0;34m.\u001b[0m\u001b[0m_created_variables\u001b[0m \u001b[0;32mand\u001b[0m \u001b[0;32mnot\u001b[0m \u001b[0mALLOW_DYNAMIC_VARIABLE_CREATION\u001b[0m\u001b[0;34m:\u001b[0m\u001b[0;34m\u001b[0m\u001b[0;34m\u001b[0m\u001b[0m\n\u001b[1;32m    951\u001b[0m         raise ValueError(\"Creating variables on a non-first call to a function\"\n",
            "\u001b[0;32m/usr/local/lib/python3.7/dist-packages/tensorflow/python/eager/function.py\u001b[0m in \u001b[0;36m__call__\u001b[0;34m(self, *args, **kwargs)\u001b[0m\n\u001b[1;32m   3129\u001b[0m        filtered_flat_args) = self._maybe_define_function(args, kwargs)\n\u001b[1;32m   3130\u001b[0m     return graph_function._call_flat(\n\u001b[0;32m-> 3131\u001b[0;31m         filtered_flat_args, captured_inputs=graph_function.captured_inputs)  # pylint: disable=protected-access\n\u001b[0m\u001b[1;32m   3132\u001b[0m \u001b[0;34m\u001b[0m\u001b[0m\n\u001b[1;32m   3133\u001b[0m   \u001b[0;34m@\u001b[0m\u001b[0mproperty\u001b[0m\u001b[0;34m\u001b[0m\u001b[0;34m\u001b[0m\u001b[0m\n",
            "\u001b[0;32m/usr/local/lib/python3.7/dist-packages/tensorflow/python/eager/function.py\u001b[0m in \u001b[0;36m_call_flat\u001b[0;34m(self, args, captured_inputs, cancellation_manager)\u001b[0m\n\u001b[1;32m   1958\u001b[0m       \u001b[0;31m# No tape is watching; skip to running the function.\u001b[0m\u001b[0;34m\u001b[0m\u001b[0;34m\u001b[0m\u001b[0;34m\u001b[0m\u001b[0m\n\u001b[1;32m   1959\u001b[0m       return self._build_call_outputs(self._inference_function.call(\n\u001b[0;32m-> 1960\u001b[0;31m           ctx, args, cancellation_manager=cancellation_manager))\n\u001b[0m\u001b[1;32m   1961\u001b[0m     forward_backward = self._select_forward_and_backward_functions(\n\u001b[1;32m   1962\u001b[0m         \u001b[0margs\u001b[0m\u001b[0;34m,\u001b[0m\u001b[0;34m\u001b[0m\u001b[0;34m\u001b[0m\u001b[0m\n",
            "\u001b[0;32m/usr/local/lib/python3.7/dist-packages/tensorflow/python/eager/function.py\u001b[0m in \u001b[0;36mcall\u001b[0;34m(self, ctx, args, cancellation_manager)\u001b[0m\n\u001b[1;32m    601\u001b[0m               \u001b[0minputs\u001b[0m\u001b[0;34m=\u001b[0m\u001b[0margs\u001b[0m\u001b[0;34m,\u001b[0m\u001b[0;34m\u001b[0m\u001b[0;34m\u001b[0m\u001b[0m\n\u001b[1;32m    602\u001b[0m               \u001b[0mattrs\u001b[0m\u001b[0;34m=\u001b[0m\u001b[0mattrs\u001b[0m\u001b[0;34m,\u001b[0m\u001b[0;34m\u001b[0m\u001b[0;34m\u001b[0m\u001b[0m\n\u001b[0;32m--> 603\u001b[0;31m               ctx=ctx)\n\u001b[0m\u001b[1;32m    604\u001b[0m         \u001b[0;32melse\u001b[0m\u001b[0;34m:\u001b[0m\u001b[0;34m\u001b[0m\u001b[0;34m\u001b[0m\u001b[0m\n\u001b[1;32m    605\u001b[0m           outputs = execute.execute_with_cancellation(\n",
            "\u001b[0;32m/usr/local/lib/python3.7/dist-packages/tensorflow/python/eager/execute.py\u001b[0m in \u001b[0;36mquick_execute\u001b[0;34m(op_name, num_outputs, inputs, attrs, ctx, name)\u001b[0m\n\u001b[1;32m     57\u001b[0m     \u001b[0mctx\u001b[0m\u001b[0;34m.\u001b[0m\u001b[0mensure_initialized\u001b[0m\u001b[0;34m(\u001b[0m\u001b[0;34m)\u001b[0m\u001b[0;34m\u001b[0m\u001b[0;34m\u001b[0m\u001b[0m\n\u001b[1;32m     58\u001b[0m     tensors = pywrap_tfe.TFE_Py_Execute(ctx._handle, device_name, op_name,\n\u001b[0;32m---> 59\u001b[0;31m                                         inputs, attrs, num_outputs)\n\u001b[0m\u001b[1;32m     60\u001b[0m   \u001b[0;32mexcept\u001b[0m \u001b[0mcore\u001b[0m\u001b[0;34m.\u001b[0m\u001b[0m_NotOkStatusException\u001b[0m \u001b[0;32mas\u001b[0m \u001b[0me\u001b[0m\u001b[0;34m:\u001b[0m\u001b[0;34m\u001b[0m\u001b[0;34m\u001b[0m\u001b[0m\n\u001b[1;32m     61\u001b[0m     \u001b[0;32mif\u001b[0m \u001b[0mname\u001b[0m \u001b[0;32mis\u001b[0m \u001b[0;32mnot\u001b[0m \u001b[0;32mNone\u001b[0m\u001b[0;34m:\u001b[0m\u001b[0;34m\u001b[0m\u001b[0;34m\u001b[0m\u001b[0m\n",
            "\u001b[0;31mKeyboardInterrupt\u001b[0m: "
          ]
        }
      ]
    },
    {
      "cell_type": "markdown",
      "metadata": {
        "id": "VOTe3zrCFASj"
      },
      "source": [
        "## Inference"
      ]
    },
    {
      "cell_type": "code",
      "metadata": {
        "colab": {
          "base_uri": "https://localhost:8080/"
        },
        "id": "aJmenKDQkdZG",
        "outputId": "cc00ffd3-682a-469d-bad3-4f56473116e4"
      },
      "source": [
        "word_lookup = list(word_index.keys())\n",
        "word_lookup.insert(0,'shift')\n",
        "print(word_lookup)"
      ],
      "execution_count": null,
      "outputs": [
        {
          "name": "stdout",
          "output_type": "stream",
          "text": [
            "['shift', '<oov>', 'the', 'of', 'and', 'in', 'a', 'to', 'is', 'as', 'was', 'by', 'for', 'on', 'that', 'with', 'are', 'his', 'he', 'from', 'it', 'at', 'an', 'or', 'which', 'have', 'this', 'be', 'their', 'also', 'not', 'has', 'one', 'other', 'its', 'but', 'most', 'were', 'had', 'some', 'they', 'tesla', 'first', 'more', 'been', 'new', 'two', 'many', 'than', 'after', 'such', 'all', 'there', 'turtles', 'into', 'when', 'used', 'time', 'can', 'these', 'years', 'only', 'world', 'between', 'president', 'known', 'may', 'war', 'who', 'during', 'made', 'about', 'species', 'would', 'national', '1', 'over', 'up', 'while', 'states', 'city', 'government', 'singapore', 'chinese', 'state', 'called', 'use', 'well', 'him', 'faraday', 'them', 'no', 'university', 'however', 'both', 'often', 'language', 'united', '000', 'where', 'american', 'later', 'like', 'three', 'modern', 'lincoln', 'large', 'newton', '2', 'population', 'grant', 'out', 'john', 'through', 'became', 'century', 'i', 'will', '4', 's', 'around', 'end', '2006', 'although', 'de', 'very', 'year', 'south', 'country', 'english', 'part', 'being', 'several', 'canada', 'people', '3', 'law', 'much', 'since', 'because', 'so', 'high', 'french', '5', 'did', 'under', 'early', '2007', 'system', 'number', 'work', 'roosevelt', 'arabic', 'family', 'york', 'finland', 'great', 'long', 'life', 'history', 'north', 'adams', 'area', 'turtle', 'same', 'any', 'london', 'wilson', 'largest', 'house', 'now', 'including', 'music', 'wolves', 'sound', 'until', 'party', 'second', 'different', 'what', 'small', 'elephant', 'european', 'then', 'string', 'strings', 'see', 'p', 'nikola', 'could', 'pascal', 'elephants', 'water', 'day', 'even', 'usually', 'polar', 'power', 'sea', 'international', 'british', 'each', 'found', 'against', 'coolidge', 'royal', 'isbn', 'instrument', 'guitar', 'do', 'named', 'public', 'though', 'age', 'important', 'electric', 'ford', 'shell', 'four', 'major', 'school', 'c', 'violin', 'political', 'million', 'languages', 'union', 'white', 'another', 'if', '6', 'land', 'popular', 'among', 'common', 'u', 'james', 'wolf', 'before', 'those', 'death', 'general', 'natural', 'river', 'press', 'e', 'sometimes', 'form', 'northern', 'few', 'still', '8', 'name', 'romania', 'according', 'old', 'based', 'down', 'back', '7', \"newton's\", 'air', 'times', 'left', 'due', 'using', 'watt', 'areas', 'less', 'body', 'foreign', 'ottawa', 'bears', \"tesla's\", 'finnish', 'force', 'h', 'within', '2005', '10', 'copenhagen', 'm', 'become', 'following', 'standard', 'beijing', 'july', 'instruments', 'considered', 'written', 'light', 'term', '0', 'western', 'words', 'began', 'december', 'official', 'black', 'flute', 'countries', 'own', 'born', 'capital', 'published', 'act', 'et', 'liechtenstein', 'group', 'home', 'percent', 'egypt', 'monroe', 'trumpet', 'bear', 'along', 'died', 'include', 'china', 'america', 'played', 'word', 'east', 'period', 'cello', 'current', 'science', 'electricity', 'last', 'william', 'note', 'republican', 'local', 'southern', 'african', 'spoken', 'developed', 'august', 'order', 'military', 'elected', 'museum', 'church', 'free', 'court', 'lower', 'march', 'europe', 'top', 'example', 'food', 'd', 'upon', 'january', 'without', 'society', 'des', 'various', 'smaller', 'range', 'similar', 'way', 'middle', 'generally', 'led', 'place', 'established', 'almost', 'late', 'thus', 'near', 'economic', 'central', 'five', 'j', 'france', 'electrical', 'theory', 'start', 'education', 'single', 'especially', 'member', 'man', 'scientific', 'wrote', 'human', 'classical', 'length', 'said', 'take', 'her', 'former', 'little', 'mother', 'groups', 'west', 'region', 'piano', 'election', 'g', 'make', 'army', 'held', 'trade', 'famous', 'male', 'rather', 'congress', 'june', 'parliament', 'must', 'today', 'federal', 'german', 'live', 'discovered', 'energy', 'beetles', '20', 'b', 'came', 'took', 'best', 'paris', 'animals', 'study', 'head', 'point', 'making', 'republic', 'across', 'series', 'company', 'position', 'island', 'economy', 'development', 'radio', 'presidential', '2004', 'having', 'never', 'how', 'parts', 'young', 'pitch', 'size', 'laws', 'members', '9', 'support', 'others', 'vietnamese', 'every', 'produced', 'feet', 'otter', 'animal', 'above', 'higher', 'research', 'built', 'result', 'full', 'neck', 'canadian', 'leopard', 'prey', 'control', 'otters', 'policy', 'service', 'notes', '12', 'field', 'sep', 'culture', 'right', 'per', 'africa', 'playing', 'charles', 'men', 'instead', 'experiments', 'al', 'volta', 'romanian', 'father', 'given', 'egyptian', 'third', 'means', 'guitars', 'michael', '2001', 'larger', 'social', 'main', 'asian', 'ref', 'just', 'appointed', 'september', 'latin', 'indian', 'us', 'nations', 'la', 'produce', \"avogadro's\", 'ancient', 'female', 'himself', 'eastern', 'tortoises', \"world's\", 'believed', 'set', 'below', 'includes', 'religious', 'list', 'throughout', 'studies', 'minister', '25', 'book', 'tiger', 'won', 'constitution', 'far', 'six', 'democratic', 'open', 'office', 'terms', 'served', '30', 'penguins', 'uruguay', 'george', 'placed', 'seen', 'half', 'tone', '15', 'non', 'thought', 'thomas', 'isaac', '2003', 'low', '2000', 'does', 'total', 'nation', 'r', 'short', 'bow', 'empire', 'cleveland', 'skin', 'nature', 'f', 'good', 'lima', 'secretary', 'commonly', 'moved', 'months', 'located', 'april', 'either', 'days', 'taken', 'once', 'off', 'close', 'received', 'eggs', 'least', 'magnetic', 'independence', 'october', 'present', 'particularly', 'influence', 'itself', 'washington', 'method', 'average', 'mostly', 'gave', 'seven', 'independent', 'asia', 'cambridge', 'treaty', 'hand', 'dialects', 'side', 'significant', 'kangaroo', '100', '2002', 'territory', 'pp', 'finger', 'britain', '2008', 'despite', 'formed', 'red', 'highest', 'able', 'wood', 'recent', 'fillmore', 'retrieved', 'center', 'revolution', 'rights', 'kg', 'february', 'civil', 'related', 'play', 'temperature', 'living', 'summer', 'governor', 'robert', 'centre', 'numbers', 'cymbals', 'males', 'cities', 'case', 'presidency', '50', 'eventually', 'continued', 'department', 'building', 'â\\x80\\x93', 'wild', 'children', 'humans', 'image', 'swan', 'further', 'king', \"pascal's\", 'certain', 'recently', 'front', 'meaning', 'strong', 'virginia', 'should', 'spanish', 'physics', 'primary', 'page', '14', 'park', 'campaign', 'subject', 'birth', 'vice', 'described', 'varieties', 'jefferson', 'together', 'works', 'largely', 'stated', 'administration', 'bridge', 'historical', 'actually', '19', 'hunting', 'paper', 'volume', 'port', 'henry', 'original', 'coulomb', 'w', 'practice', 'league', 'outside', 'she', '11', 'player', 'females', 'college', 'line', 'characters', 'sur', 'give', 'street', 'allowed', 'art', 'arab', 'team', 'we', 'majority', 'surface', 'winter', 'again', 'referred', 'typically', 'proposed', 'you', 'ii', '16', 'level', 'pressure', 'rate', 'pianos', 'india', 'religion', 'special', 'italian', 'metal', 'native', 'created', 'next', 'prime', 'fur', 'traditional', 'l', 'went', '18', 'peace', 'fact', 'papers', 'sobel', 'battle', 'upper', 'era', 'systems', 'complete', 'evidence', 'forms', 'reptiles', 'â\\x80\\x94', 'possible', 'letter', 'construction', 'municipality', 'steam', 'type', 'mandarin', 'god', 'gold', 'leopards', '13', 'ed', 'grand', 'remained', 'urban', 'st', 'kangaroos', 'england', 'change', 'refused', 'schools', 'themselves', \"faraday's\", 'aquatic', 'addition', 'too', 'square', 'lost', 'institution', 'heavy', 'forces', 'avogadro', 'widely', 'cold', 'growth', 'soviet', 'health', 'variety', 'books', 'active', 'qatar', 'engineering', 'germany', 'movement', 'council', 'mainly', 'financial', 'industry', 'theodore', 'son', 'duck', 'slavery', 'final', 'sent', 'ice', 'separate', 'business', 'come', 'bass', 'always', 'nearly', 'greater', 'bees', 'ago', 'pack', '23', 't', 'effect', 'rule', 'motion', 'lb', 'brought', 'domestic', 'ever', 'ground', 'letters', 'library', 'key', 'cannot', 'statue', 'edison', 'abraham', 'predators', 'principles', 'followed', 'philosophy', 'professor', 'scale', 'fuess', \"country's\", 'private', 'help', 'attack', 'relationship', 'divided', 'coast', 'plan', 'islands', 'cm', 'makes', 'prince', 'whose', 'increase', 'currently', 'slightly', 'buildings', 'indonesia', 'action', 'populations', 'joined', 'flutes', 'rest', 'available', 'increased', 'report', 'earlier', 'relations', 'weight', 'regions', 'legs', 'quebec', 'drum', 'declared', 'kingdom', 'territories', 'highly', 'recorded', 'whether', 'politics', 'regional', 'adult', 'move', 'approximately', 'province', 'fish', 'speech', 'ideas', 'post', 'killed', 'tigers', 'eat', 'role', 'lives', 'probably', 'christian', 'engine', 'sports', 'film', 'village', '1999', 'extensive', 'earliest', 'senate', 'wide', 'speakers', 'invented', 'future', 'collection', 'provinces', 'santiago', 'view', 'county', 'reported', '40', 'via', 'allows', 'beetle', 'traditionally', 'shells', 'technology', 'eyes', 'lived', 'longer', 'relatively', 'tuning', 'les', 'changes', 'frequency', 'mechanical', 'issue', 'interest', 'italy', 'sciences', 'successful', 'working', 'primarily', 'kept', 'read', 'conservation', 'already', 'whom', 'my', 'genus', 'married', 'illinois', 'run', 'birds', 'greatest', 'david', 'included', 'introduced', 'potential', 'penguin', 'freshwater', 'dictionary', '200', 'airport', 'fourth', 'cultural', 'mathematics', 'lee', 'rock', 'inside', 'australia', 'supported', 'oldest', 'provide', 're', 'cabinet', 'results', 'davy', 'chemistry', 'scientists', 'fall', '300', 'global', 'bill', 'offered', 'legal', 'services', 'quality', '28', 'notably', 'worked', 'allow', 'powers', 'tree', 'soon', 'degree', 'style', 'resources', 'district', 'away', 'except', '500', 'jpg', \"lincoln's\", 'online', 'reach', '22', 'chief', \"grant's\", 'studied', 'colonies', 'mammals', 'institute', 'unit', 'giant', '1998', 'musical', '1800', 'acoustic', 'noted', 'november', 'road', 'climate', 'swahili', 'sources', 'japanese', 'induction', 'enough', 'km', 'true', 'limited', 'media', 'hall', 'republicans', 'massachusetts', 'ethnic', '19th', 'device', 'likely', 'self', 'patent', '1994', 'therefore', 'austria', 'supreme', 'status', 'protection', 'friend', 'speaking', 'show', 'find', 'extinct', 'vote', 'wife', 'football', 'charge', 'signed', 'design', 'notable', 'asked', 'failed', 'twenty', 'suggested', 'brown', 'votes', 'numerous', 'remains', 'writing', 'clear', 'frequently', 'estimated', 'cases', 'russia', 'owned', 'difficult', 'roman', 'ghana', 'biography', 'required', 'consists', 'russian', 'site', 'commission', 'respectively', 'network', 'beginning', 'responsible', 'opposed', 'forced', 'chemical', '1991', 'appeared', 'accepted', 'ontario', 'invention', 'wireless', 'increasing', 'machine', 'unlike', 'rise', 'put', 'running', 'information', 'association', 'historic', 'ducks', '20th', 'cause', 'habitat', 'centuries', 'police', 'academy', 'finally', 'masses', 'particular', 'idea', 'arctic', 'lines', 'joseph', 'le', 'date', 'replaced', 'basis', 'moving', 'eight', 'freedom', 'becquerel', 'toward', 'prize', 'character', 'normally', 'space', 'motor', \"roosevelt's\", 'concert', 'slave', 'closely', 'leader', 'might', 'simple', 'source', 'adopted', 'attention', 'announced', 'ten', 'our', 'players', 'bodies', '31', 'vibrato', 'story', 'entire', 'glass', '60', 'contact', '1992', 'contains', 'layer', 'tuned', 'win', 'emperor', 'violins', 'better', 'events', 'gdp', 'closer', 'sir', 'border', 'rare', '1996', 'elections', 'origin', 'magazine', 'success', 'greek', '26', 'lay', 'caused', 'swedish', 'behind', 'hill', 'pre', 'piece', 'bay', 'whole', 'trunk', \"canada's\", 'personal', 'billion', 'dialect', 'extremely', 'decided', 'started', '17', 'hours', 'influenced', 'jazz', 'grew', 'affairs', 'spend', 'market', 'oil', 'discovery', 'defence', 'basic', 'women', 'vol', 'pronounced', 'steel', 'presidents', '24', 'process', 'reserve', 'spread', 'accessed', 'students', 'believe', 'friends', 'convention', 'bee', 'committee', 'opened', 'regular', 'electromagnetic', 'v', 'confederate', 'older', '1919', 'stage', 'ch', 'inches', 'perhaps', 'southeast', '80', 'subspecies', 'portrait', 'flat', 'mass', 'distance', 'maintained', 'molecular', 'plate', \"coolidge's\", 'transport', 'constructed', 'saw', 'louis', 'methods', 'community', 'weigh', 'objects', 'genius', 'claimed', 'project', 'ft', 'boulton', 'authority', 'derived', 'canal', 'appears', 'go', 'tend', 'levels', 'create', 'class', 'worldwide', 'trumpets', 'here', 'section', 'waves', 'cup', 'tones', 'cygnus', 'founded', 'record', '1811', 'rich', 'covered', 'scutes', 'courts', 'california', 'dr', 'past', 'shape', 'know', 'originally', 'testudines', 'spent', 'simply', 'why', 'issues', 'greatly', 'engines', 'expansion', 'growing', 'gases', 'problem', 'sun', 'teeth', 'claims', 'yet', '1975', 'oxford', 'provided', 'democracy', 'equal', 'officially', 'candidate', 'fully', 'tax', 'â°c', 'ray', 'honor', 'holes', 'dynasty', 'distribution', 'co', 'queen', 'soft', 'statistics', 'speed', 'argued', 'individual', 'places', 'historians', 'troops', 'edition', 'journal', 'richard', 'navy', 'provincial', 'double', 'companies', 'cubs', 'serbian', 'spring', 'annual', 'wildlife', 'cymbal', 'contributions', 'silver', 'tail', 'harmonics', 'tube', 'person', 'warm', 'serve', 'article', 'leaders', 'metropolitan', 'associated', 'title', 'gas', 'lack', 'uk', 'feature', 'pages', 'leading', '21', 'killing', 'base', 'ears', 'endangered', 'fields', 'visible', 'colonial', 'get', 'victory', 'big', 'introduction', 'account', 'observed', 'australian', 'leibniz', 'supply', 'opposition', 'x', 'pronunciation', 'call', 'poor', 'nobel', 'marine', 'technique', 'lectures', 'woodrow', 'views', 'composed', 'vary', 'breeding', 'literature', 'unique', '1862', 'zoo', 'prominent', 'alone', 'ability', 'substance', 'tried', 'dominant', 'parties', 'molecules', 'prior', 'version', '1990s', 'florida', 'uses', 'giving', 'efforts', 'smallest', 'gulf', 'inventions', 'problems', 'determined', 'station', '1995', 'lightning', 'bar', '29', 'previous', 'strongly', 'mind', \"singapore's\", 'harmonic', 'involved', 'relative', 'forest', 'showed', 'physicist', 'transmission', 'entirely', 'directly', 'assistant', 'branch', 'distinguished', 'cover', 'becoming', 'justice', 'night', 'democrat', 'passed', 'mark', 'pair', 'commercial', 'agreement', \"ford's\", 'fossil', 'extant', 'catholic', 'bank', '1917', 'secondary', 'serving', 'com', 'cut', 'causes', 'magnetism', 'color', 'n', 'influential', '27', 'tourism', 'allowing', 'hole', 'room', 'raised', 'contemporary', 'demonstrated', 'anti', 'turn', 'game', 'regarding', 'foot', 'currency', 'evolution', 'travel', 'internal', 'recognized', 'build', 'master', 'nine', 'extent', 'appear', 'initial', 'fifth', 'coil', 'sister', 'matter', 'pacific', 'sought', 'calf', 'effort', 'colour', 'saint', 'evolved', 'administrative', 'electoral', 'remain', 'mathematical', 'performance', '1943', 'cellos', 'families', 'production', 'entered', 'wanted', 'lowest', 'connected', 'chicago', 'mid', 'industrial', 'tusks', 'ac', 'response', 'keep', 'johnson', 'continental', 'resulting', 'san', 'constitutional', 'defense', 'effects', 'dogs', 'scientist', 'peru', 'wire', 'designed', 'map', 'missouri', 'memorial', 'consider', 'experiment', 'constant', 'celsius', 'dominated', 'borders', 'television', \"wilson's\", 'terrestrial', 'physical', 'settled', 'stay', 'direct', 'settlement', 'lakes', 'manufacturing', 'regarded', 'question', 'measures', 'broke', 'massive', 'minority', 'explained', 'points', 'occurred', 'honour', 'conflict', 'daily', 'gray', 'ulysses', 'returned', 'attempt', 'standing', 'pop', 'income', 'leaving', 'news', 'sounds', 'danish', 'pedal', 'nomination', 'applied', '1815', 'sides', 'rod', 'pieces', 'attacks', 'taking', '90', 'occasionally', 'helsinki', \"finland's\", 'agriculture', 'object', 'faith', 'environment', 'changed', 'debate', 'valley', 'policies', 'vacuum', 'fingerboard', 'conservative', 'wealth', 'engineer', 'malaysia', 'k', 'value', 'assumed', 'tension', 'rivers', 'shaped', '18th', 'keys', 'opening', 'quickly', 'suffered', 'stopped', 'ended', 'citizens', 'ring', 'immediately', 'census', 'reference', '1776', 'acts', 'jacqueline', 'democrats', 'reasons', 'plants', 'roughly', 'location', 'normal', 'egyptians', 'distinct', 'rejected', 'phenomenon', \"people's\", 'superior', 'hair', 'latter', \"elephant's\", 'hunt', 'granted', 'grow', 'names', 'â°f', 'cell', '1861', 'americans', 'marked', 'temperatures', 'shown', 'individuals', 'calvin', 'sector', 'threat', 'dog', 'blaise', '400', 'smith', 'indonesian', 'signals', 'ribs', '1864', 'communities', 'edge', 'devices', 'attraction', 'need', 'folk', 'tall', 'face', 'board', 'corps', 'buried', 'semi', 'instance', 'examples', 'bc', 'types', '1980', 'speak', 'alpha', 'declaration', 'agricultural', 'sense', 'controversy', 'orthodox', 'patents', 'blood', 'carried', '1856', 'bones', 'whereas', 'dead', 'hold', 'colorado', 'iron', 'compared', 'kill', 'leg', 'engineers', 'techniques', 'rays', 'fine', 'helped', '1911', 'say', 'avoid', 'legislation', 'taft', 'week', 'stop', 'dry', 'expected', 'weights', 'feed', 'symbol', 'material', 'access', 'improved', 'jr', 'gives', 'fundamental', 'somewhat', 'ad', '35', 'something', 'closed', 'pinyin', 'compromise', 'survey', 'universal', 'diversity', 'onto', 'continue', 'display', 'parliamentary', 'continent', 'guide', 'gerald', 'investigated', 'award', '1934', 'electrode', 'principia', 'stand', 'occur', 'malay', 'defeated', 'charged', 'particles', 'refer', 'improvements', 'strength', 'specific', 'hard', 'influences', 'serbia', 'vowel', 'cross', 'understanding', 'bottom', 'thick', 'changing', 'anything', 'difference', 'selected', 'mate', 'immigrants', 'arrived', 'volumes', 'sweden', 'houses', 'literary', 'season', 'si', 'inventor', 'lieutenant', 'weeks', 'exist', 'stations', 'spain', 'virtually', 'plans', 'dutch', 'rarely', 'hunters', 'command', 'round', 'reports', 'portuguese', 'presented', 'completed', 'christmas', 'classified', 'imperial', 'produces', 'encyclopedia', 'shows', 'ranges', 'arts', 'el', 'livestock', 'promoted', 'money', 'anniversary', 'extreme', 'heat', 'loss', 'bucharest', 'cantonese', 'reached', 'elements', 'slide', 'bush', 'race', 'turin', 'height', 'metres', 'powerful', 'rates', 'coastal', 'takes', 'permanent', 'crown', 'thumb', 'westinghouse', 'boston', 'minor', 'directed', 'efficient', 'sold', 'drawn', 'controlled', 'trees', 'things', 'rapid', 'communication', 'effective', '1918', 'wars', 'falls', 'ferling', 'thousands', 'executive', 'revolutionary', 'heavily', 'negative', 'phenomena', 'mentioned', 'net', 'alternating', 'fellow', 'done', 'green', 'baby', 'exception', 'grey', 'model', 'conductor', 'hotel', 'subsequent', 'iii', 'appearance', 'japan', 'indicate', 'proceedings', 'whig', 'positions', 'lead', 'protect', 'perfect', 'actions', 'â\\x80\\x9d', 'bus', 'resulted', 'bird', 'coat', 'lion', 'hands', 'features', 'hypothesis', 'amounts', 'professional', 'etc', 'town', 'hunted', 'tourists', 'swim', 'producing', 'script', 'torsion', 'mã©moire', 'crisis', 'peninsula', 'providing', 'amendment', 'implemented', 'degrees', 'historically', 'heads', 'conditions', 'regulation', 'fairly', 'lungs', '150', 'yellow', 'mouth', 'swans', 'broad', 'deep', 'prepared', 'claws', 'comes', 'cairo', 'voltage', 'calculus', 'transportation', 'protected', 'inhabitants', 'wall', 'sami', 'kmâ²', 'mercury', 'released', 'andrew', 'count', 'residents', 'twice', 'featured', 'critical', 'progressive', 'debt', 'gained', 'student', 'o', 'roads', 'gravitation', 'ones', 'fluid', 'bony', 'mississippi', 'paid', 'damage', 'modified', 'decades', 'me', 'write', 'care', 'popularity', 'ultimately', 'lake', 'valve', 'breathe', 'importance', 'removed', 'canadians', 'belgrade', 'baroque', '1860', 'defined', 'fort', 'strategy', 'principle', 'festival', 'researchers', 'hamilton', 'workers', '1997', '1976', '1989', 'proportional', 'ã\\x89tienne', '1986', 'amount', '1967', 'banks', 'ranked', 'reduced', 'valves', 'choice', 'kinds', 'definition', 'honey', '16th', 'purposes', 'website', '1973', 'rail', 'table', 'princeton', 'musicians', 'solo', '75', 'depending', 'forests', 'capita', 'going', 'ancestry', \"'\", 'met', 'fight', 'gravity', 'hind', 'hundred', 'establishment', 'mya', \"father's\", 'easily', 'claim', 'adults', '1892', 'serious', 'distances', 'drums', 'leave', 'plant', 'nominated', 'irish', 'stone', 'surviving', 'pile', 'band', 'told', 'eating', 'inspired', 'retired', 'westminster', 'child', 'added', 'hit', '1965', 'receive', 'parks', 'awarded', 'cuisine', 'nevertheless', 'combined', 'governments', 'publication', '1960s', 'heritage', 'sport', 'materials', 'daughter', 'dispute', 'colony', 'wardenclyffe', 'piccolo', 'universities', 'share', '1980s', 'brazil', 'thoughts', 'senator', 'stephen', 'description', 'indigenous', 'differences', 'opponent', '1858', 'occupied', 'complex', 'institutions', 'shoulder', 'universe', 'contract', 'chair', 'aid', 'review', 'apple', 'extended', 'architecture', 'turned', 'suggest', 'beyond', '1970s', 'denmark', 'index', 'baker', 'felt', 'teaching', 'catch', 'jean', 'temple', 'reason', 'alessandro', 'cemetery', 'cultures', 'styles', 'copper', 'orchestra', 'ran', 'liberal', 'seems', '1896', 'return', 'islam', 'panthera', 'pg', 'taught', 'adapted', 'egg', 'density', 'program', '1785', 'concluded', 'balance', 'sign', 'regard', '1914', 'immigration', 'investigation', 'frontier', 'fell', 'straight', 'existed', 'quite', \"egypt's\", 'carter', 'indicated', 'contribution', 'chapter', 'earth', 'determination', 'translated', 'consisting', 'atlantic', '65', 'publications', 'sri', 'technical', 'pounds', 'snapping', 'shelled', '1865', 'illegal', 'contributed', 'chance', 'fingers', 'contained', 'discoveries', 'transylvania', 'doctrine', 'inc', 'amedeo', 'proportions', 'founder', 'pierre', 'remaining', '1974', 'rideau', 'combination', 'mating', 'interior', 'olympics', 'nothing', 'douglas', 'holding', 'learning', 'medical', 'establish', 'dans', '1982', 'sizes', 'syllable', 'chaloner', 'vec', 'attended', 'taylor', 'experienced', 'peoples', 'plays', 'kind', 'vowels', 'fighting', 'railway', 'renaissance', 'musth', 'battery', 'discussion', 'relatives', '1821', 'text', 'norway', 'christianity', 'belief', 'reputation', 'weapon', 'winning', 'begin', '600', 'analysis', 'solitary', 'labor', 'particle', 'reading', 'possibly', 'poverty', 'nor', 'creation', 'crater', 'develop', 'creating', 'zinc', 'tower', '1979', 'churches', 'slaves', 'foundation', 'refers', 'ruled', 'depends', 'apart', 'pups', 'lab', 'your', \"city's\", 'external', 'buffalo', 'sharp', 'link', 'swiss', 'mi', 'gradually', 'archives', 'keyboard', 'octave', 'pay', 'matters', 'plates', 'obtained', 'occurs', 'otherwise', 'spots', 'mexico', 'generation', 'secret', 'saying', 'frequent', 'soldiers', 'chemist', 'varies', 'equivalent', 'upright', 'contain', 'antarctic', 'enlightenment', 'theories', '1924', 'ocean', 'muslim', 'reform', 'maintain', 'root', 'biggest', 'wave', 'rank', 'traffic', 'interests', 'naval', 'specialized', 'persian', 'gardens', 'follow', 'vision', 'thin', 'genera', 'diet', 'snow', 'writings', 'octaves', 'bell', 'dedicated', 'identified', 'internet', 'intended', 'pattern', 'palace', 'split', 'survive', 'estimates', 'estate', 'fox', 'districts', 'defeat', 'lie', 'carry', 'nouns', 'vaduz', 'seifer', 'corum', 'mint', 'fretboard', 'fought', '1913', 'columbia', 'rainfall', 'corruption', 'recognition', 'exceptions', 'flight', 'wings', 'division', 'trading', 'sized', 'plastic', 'property', 'behaviour', 'lesser', 'easier', 'mccoy', 'real', 'eurasian', 'consonants', 'remainder', 'brother', 'represented', 'solid', '1916', 'visit', 'philosopher', 'sons', 'figure', '1848', 'moon', 'mathematician', 'tubes', 'thousand', 'brief', 'nixon', 'outer', 'expanded', 'classification', 'neither', 'application', 'educational', 'argentina', 'telescope', 'proper', 'scales', 'predator', 'sixth', '250', 'austrian', 'electrolyte', 'electrodes', 'pensã©es', 'multiple', 'miles', 'philosophical', 'multi', '1867', 'borrowed', 'jaws', 'packs', 'alphabet', 'course', 'commerce', 'dollar', 'unemployment', 'unusual', 'reflecting', 'underwater', 'varying', 'progress', 'stands', 'developing', 'assembly', 'bring', 'investment', 'survival', 'sites', 'ways', '42', 'zealand', 'repulsion', 'lutra', '34', 'judicial', '62', '1915', 'records', 'concept', 'territorial', 'alongside', '1812', 'products', 'scotland', 'syllables', 'decision', 'shot', 'formerly', 'completely', 'operation', 'figures', 'software', '1819', 'congressional', 'memoirs', 'breed', 'birmingham', 'publishing', 'corresponding', 'phonetic', 'advanced', 'lands', 'kilometres', 'exists', '1894', 'grover', 'treatise', 'walking', 'salt', 'arms', 'articles', 'hence', 'increasingly', '36', 'rural', 'stream', 'tools', 'preparation', 'annually', 'optical', 'legislative', 'organization', 'activity', 'heart', 'delta', 'orchestral', 'ohio', 'significantly', 'vietnam', 'genetic', 'step', 'nuclear', 'identical', '1893', \"uruguay's\", 'fingering', 'colonel', 'difficulty', 'explain', 'strike', 'newspapers', 'ordered', '1794', 'millard', 'flippers', 'substantial', 'vicksburg', 'instruction', 'recognised', 'atmospheric', 'larvae', 'israel', 'zone', 'cited', 'triassic', 'monument', '1990', '1988', 'coptic', 'radiation', 'jackson', 'bible', 'background', 'ancestor', 'hungary', '45', 'impact', 'needed', 'train', 'cells', '1971', '1960', 'stops', 'mechanics', 'downtown', 'dt', '1863', 'sheet', 'limbs', 'attributed', 'alexander', 'towns', 'wind', 'starting', 'classes', 'innovations', 'consist', 'transverse', 'ion', 'montevideo', 'magnet', 'sovereign', 'portion', 'ships', 'affected', 'gallery', 'designs', 'li', 'scholars', 'infrastructure', 'estimate', 'lawrence', 'samuel', 'assistance', 'mud', 'passenger', 'federalists', 'stick', '1970', 'insects', 'attached', 'medium', 'accounts', 'vocabulary', \"king's\", 'educated', 'attacked', 'sections', '1912', 'guard', 'severe', 'golden', 'causing', 'management', '17th', 'parish', 'partly', '1944', 'battles', '1900', 'statement', 'carbon', 'paul', '1820', 'experience', 'initially', '1931', 'niagara', 'nordic', 'hungarian', 'pardon', 'tubing', 'albert', 'anders', 'data', 'greenberg', 'writer', 'consonant', 'frets', 'sub', 'autonomy', 'structure', 'islamic', 'pleurodira', 'purchased', 'huge', 'forty', 'swimming', 'fifty', 'marking', 'singular', 'du', 'tortoise', 'pickups', 'legislature', 'edward', 'birthday', 'tropical', 'sell', 'emerged', 'fire', 'headquarters', 'woman', 'ieee', 'models', 'chlorine', 'farmers', '1952', 'confederation', 'nearby', 'projects', '38', 'minutes', 'visitors', 'chelonian', 'viola', 'stringed', 'career', 'measure', 'ages', 'fewer', '1910', 'entitled', 'issued', 'want', 'den', 'radioactivity', 'highway', 'dhaka', \"davy's\", 'chosen', 'representatives', 'learned', 'spoke', 'nationalism', 'organized', 'aircraft', 'researches', '1906', 'launched', 'ministry', 'carrying', 'municipalities', 'castle', 'love', 'beam', 'northwest', 'expensive', 'agreed', 'renamed', 'determine', 'break', 'cryptodira', 'plastron', 'anapsid', 'fda', 'exchange', 'charges', 'respective', 'telephone', 'overall', 'lions', 'says', 'duties', 'van', 'arthur', 'revenue', 'listed', 'reforms', 'conducting', 'fourteen', 'ranking', '1796', 'employed', 'core', 'pursue', 'properties', 'separated', 'leaves', 'seals', 'mainland', 'needs', 'parents', 'guinea', 'extinction', 'unusually', 'rapidly', 'visited', 'host', 'firm', 'planning', 'wider', 'makers', 'courses', 'twelve', 'filled', 'previously', 'mammal', 'exposed', 'desire', 'wing', 'ship', 'legacy', 'ill', '1950s', '70', 'platform', 'begun', \"nation's\", 'diving', 'units', 'arm', 'fear', 'pope', 'document', '1908', 'lies', 'learn', 'hub', 'reduce', 'flying', 'quick', 'photographic', 'markings', 'cellists', 'coming', 'photograph', 'bronze', 'function', 'competition', 'becomes', 'eu', 'apparently', 'bars', 'giraffe', 'address', 'towards', 'excellent', 'victoria', 'archipelago', 'widespread', 'landscape', 'linked', 'circular', 'cylinder', \"romania's\", 'vermont', 'indeed', 'structures', 'practical', 'mountains', 'zoos', 'predominantly', 'decline', 'characteristics', 'sort', 'cats', 'quincy', 'expressed', 'defend', 'advice', 'picture', 'circle', 'artificial', 'garden', 'contracting', 'shared', 'theatre', 'exclusively', 'representation', '15th', 'indo', 'unknown', 'ivory', 'walk', '1st', 'accompanied', 'voted', 'entering', 'aggressive', 'observations', 'shares', 'linguistic', 'affect', 'generate', 'formal', 'draft', 'shortly', 'quoted', 'encouraged', 'acquired', 'fast', 'molécules', 'wooden', 'product', 'survived', 'webbed', 'register', 'como', 'plane', 'donald', 'franklin', 'tennessee', '44', 'doctor', 'presence', 'patterns', 'suborders', 'depicted', 'identity', '4th', 'video', 'officials', 'controversial', 'provides', 'floor', 'bowed', 'sherman', 'seat', 'loschmidt', 'hemisphere', '1940', 'extending', 'continues', 'resonant', 'inner', 'tariff', '1825', 'margaret', 'apparatus', 'lontra', 'captain', '1854', 'corporation', 'subsequently', 'academic', 'surrounding', 'industries', 'concerning', 'event', 'celebrated', 'favor', 'condition', 'portrayed', 'hoover', '1870', 'specifically', 'diplomatic', 'cattle', 'genome', 'purpose', 'ticket', 'strategic', 'fly', 'communist', 'waters', 'christians', 'exports', 'piston', 'proved', 'preserve', 'got', 'documents', 'standards', 'alaska', 'achieved', 'org', 'machines', 'lombardy', 'soundboard', 'speeches', 'farm', \"president's\", 'railroad', 'newspaper', 'recognize', 'happened', 'roots', 'expression', 'situation', 'peter', 'additional', 'initiated', 'hockey', 'ottoman', 'ease', 'projections', 'distributed', 'crash', '1928', 'accept', 'solutions', 'mayor', 'serves', 'similarly', 'trinity', 'correspondence', 'moldavia', 'romanians', 'brine', 'favored', 'cartoon', 'suspended', 'holidays', 'possibility', 'expedition', 'drop', 'margin', 'headed', 'activities', 'dominance', 'trust', 'jay', \"indonesia's\", 'lecture', 'opponents', 'elementary', 'remarkable', '1904', 'detail', 'nile', 'threats', 'shorter', 'hide', 'proto', 'municipal', 'performed', 'painted', 'pollution', \"adams's\", 'electro', 'route', 'charter', 'think', 'chamber', 'arabia', 'abstract', 'flow', 'bands', '1775', 'engaged', 'plural', 'recalled', 'memoir', 'carnivorous', 'containing', 'federation', 'legend', 'captured', 'twentieth', 'dance', 'musician', 'captive', 'training', '1885', 'demonstration', 'birthplace', '32', 'broken', '1984', 'uniform', 'desert', 'muscles', 'horse', 'interview', 'looked', 'assassination', 'younger', 'prevent', 'voice', 'noble', 'essay', 'quarter', 'elizabeth', 'americas', 'popularized', 'club', 'bringing', 'remote', 'responsibility', 'let', 'simon', 'keeping', 'aspects', 'armed', 'dated', '1977', 'usa', 'warming', 'raffles', 'chelonia', 'beliefs', 'mr', 'star', 'invasion', 'devised', '1957', 'saudi', 'existence', 'weather', 'credited', 'entry', 'wizard', 'radar', 'eared', 'grammar', 'bows', 'treasury', '1907', 'reporters', 'fifteen', 'stability', '1956', 'bulk', 'pick', '1881', 'henri', 'composition', 'ancestral', 'terminology', 'elder', 'grounds', 'branches', 'tradition', 'sectors', 'documented', \"watt's\", 'augustin', '1872', 'conference', 'succeeded', 'adding', 'locations', 'channels', 'markets', 'morning', 'deal', 'historian', 'easy', 'millions', 'achieve', 'consensus', 'enormous', 'trunks', 'federalist', 'experimental', 'latest', 'dramatic', '1920', 'attracted', 'operations', 'calves', 'southwest', 'medal', 'replacement', 'admitted', 'ready', 'inhabited', 'maple', 'tip', 'golf', 'foxes', 'jewish', '5th', 'michigan', 'thirds', 'sino', 'fret', 'radical', 'sovereignty', 'threatened', 'senior', 'comparison', 'vast', 'gets', 'programme', 'lot', 'resigned', 'avenue', 'price', 'colonization', 'rome', '1898', 'veto', 'geographical', 'loxodonta', 'focus', 'hong', 'wires', 'origins', 'manitoba', 'concentrated', 'unable', 'capable', 'resonance', 'bowing', 'reprinted', 'arguments', 'drawing', '39', 'disease', 'congressman', 'fashion', 'ireland', 'vulnerable', '55', 'grave', 'da', 'woolsthorpe', 'alchemy', 'autobiography', 'slowly', 'struck', '43', 'eds', 'approved', 'funeral', 'ranging', 'atom', 'staff', 'pan', 'gross', 'eye', 'temporal', 'humidity', 'mute', 'release', '1789', '56', 'uppsala', 'destroyed', 'entrance', 'typical', '73', 'meat', 'desired', 'medals', 'nut', 'friction', 'lyre', 'transformed', 'else', '1823', 'actual', 'reportedly', 'aware', 'minorities', 'sporting', 'jews', 'injured', 'environmental', 'gain', 'imported', 'trip', 'details', 'ltd', 'vehicle', 'ridges', 'royale', 'failure', 'attending', 'grace', 'exact', 'considerable', 'prefer', 'painting', 'independently', 'un', 'operated', 'increases', 'lighter', 'immature', 'composer', 'meters', '1784', 'understood', 'restaurants', 'histoire', 'vibration', 'proclamation', 'reconstruction', 'characterized', 'lawyer', 'armies', 'effectively', 'tomb', 'intellectual', 'memory', 'bright', 'principal', '1945', 'photo', 'ending', 'campaigns', 'substances', 'mechanism', 'enter', 'thames', 'decade', 'trying', 'suffer', 'extra', 'bridges', \"monroe's\", 'loan', 'switzerland', 'lâ\\x80\\x99acadã©mie', 'resonator', 'sandemanian', 'turning', 'museums', 'sale', '86', 'napoleon', '1981', 'amongst', 'improve', 'generations', 'taiwan', 'wales', 'edinburgh', 'abbey', 'tuners', 'blown', 'criticized', 'del', 'thirteen', 'minnesota', 'defensive', 'fit', '1972', 'rim', 'ranks', 'reserves', 'teams', 'centres', 'formula', 'treatment', 'electronic', 'deaths', '1993', 'overseas', '1727', 'planet', 'intonation', 'counties', 'solution', 'delivered', 'dissolved', 'tends', 'coins', 'seal', 'electronics', 'composers', 'employ', '1962', '2nd', 'strung', 'kentucky', 'goods', 'doing', 'losses', 'context', 'victor', 'organs', 'accomplished', 'resident', 'resignation', 'artists', 'prehistoric', 'savanna', 'hybrid', '1868', 'nassau', 'variation', 'moldova', 'danube', 'attempted', 'necessary', 'authorities', 'traders', '1774', 'tongues', 'literally', '37', 'dangerous', 'finns', 'carl', 'pass', 'raise', 'repertoire', 'concerto', 'violinists', '1936', 'none', 'francis', 'tourist', '1736', 'knowledge', 'taxes', 'considerably', 'medieval', 'kong', 'devoted', 'croatian', 'shellfish', 'hammers', 'pardus', 'antarctica', \"instrument's\", 'boy', 'am', 'direction', 'unified', 'resistance', 'proclaimed', 'manufactured', 'finished', '1987', 'subjects', 'trains', \"beijing's\", 'posts', 'reaction', 'orders', 'tour', 'nova', 'mounted', 'variations', 'constitute', 'civilization', 'disputes', 'sand', 'bce', 'films', '1903', 'phosphorescent', 'java', 'exterior', 'singaporean', 'papillae', 'discussed', 'seemed', 'miller', 'look', 'hairs', 'dark', 'depression', 'longest', 'montreal', 'neutral', 'cheney', 'ends', 'develops', 'clarke', 'sounding', 'gut', 'intervention', 'factor', 'varied', 'month', 'referendum', 'factbook', 'correct', 'begins', 'cia', \"london's\", 'additionally', 'milk', 'mary', 'everything', 'bark', 'holy', 'centered', 'pet', 'principality', 'planets', \"turtle's\", 'vessel', 'poem', 'represent', 'director', 'europeans', 'dependent', 'spotted', '1699', 'demonstrations', 'moderate', 'louisiana', 'formally', 'toronto', 'intense', \"wolf's\", 'disputed', 'distinctive', 'antonio', 'managed', 'showing', 'signing', 'barnes', 'sponsored', 'slight', 'rising', 'declining', 'officers', 'destruction', 'cavity', 'poet', 'closest', 'beside', 'terrapins', 'leatherback', 'softshell', 'horny', 'carapace', 'diapsids', 'res', 'selection', 'thirty', 'richmond', 'benjamin', 'duty', 'regularly', 'movie', 'sixteen', 'rough', 'exposition', 'transit', 'declined', 'danger', 'images', 'newly', 'founding', 'collections', 'offices', 'personality', 'replace', \"don't\", 'throat', 'contrast', 'discovering', 'banknote', 'grammatical', '93', 'looking', 'attend', 'herbert', 'merged', 'alive', 'forward', 'slow', 'promote', 'songs', 'scheme', 'hampton', 'divisions', 'iv', \"liechtenstein's\", 'window', 'vibrating', 'timbre', 'tunings', \"player's\", 'successfully', 'stressed', 'confederacy', 'understand', 'imposed', 'harbor', 'acting', 'cooperation', 'continuous', 'approval', 'poaching', 'die', 'tv', 'describes', 'pitches', 'investigating', 'hydrogen', '1855', 'electrostatic', 'comprehensive', 'manufacturers', 'movements', 'invisible', 'holds', 'representing', 'equally', 'arabs', 'attained', \"mother's\", 'partnership', 'turkey', \"cleveland's\", 'describing', 'cast', 'noun', 'spirit', 'chose', 'elsewhere', 'nunavut', 'mountain', 'nest', 'verb', 'opera', 'termed', 'rival', 'mythology', 'polyphase', 'gospiä\\x87', 'experimenter', \"o'neill\", 'prodigal', 'marconi', '1827', 'tailpiece', 'fipple', 'leadership', 'citizen', 'trial', 'skiing', 'audio', 'abigail', 'bbc', 'kills', 'internationally', 'sheep', '1901', 'politician', 'hudson', 'frog', 'mutual', 'distinction', 'draw', 'vi', 'joey', 'electrons', 'generated', 'hughes', 'precisely', 'harvard', 'focused', 'chase', '72', 'carolina', 'politicians', 'credit', 'meeting', 'soccer', 'invaded', 'conducted', 'colours', 'games', 'voltaic', 'indicates', 'measuring', 'url', 'dynamic', 'withdraw', 'carleton', 'instructions', 'values', 'anderson', 'www', 'memoria', 'aboriginal', 'compulsory', 'catholics', 'illustrated', 'intervals', 'submission', 'secure', 'cathedral', 'linguistics', 'ensure', 'boat', 'criticism', 'georgia', 'supporting', 'occurring', 'lapland', 'construct', 'scene', 'proof', 'alternative', 'frank', 'eighteenth', 'silent', 'ongoing', 'vancouver', 'certainly', 'hospital', 'seeing', 'pets', 'ma', 'dc', 'offer', 'permanently', 'atoms', 'piedmont', 'manière', 'lesquelles', 'combinaisons', 'considering', '1897', '1902', 'initiative', 'honorary', 'fuel', 'iraq', 'hosted', 'safe', 'spark', 'muslims', 'suggests', 'interactions', 'presumably', 'ce', 'export', 'extends', 'maximum', 'edited', 'pollen', 'descartes', 'cornet', 'impossible', 'believing', 'aristotle', '1000', 'economies', 'peak', 'appointment', 'rapids', 'investors', 'ca', 'glasgow', 'q', 'necked', 'definitions', 'westfall', 'populated', 'capture', 'positive', 'warren', 'job', 'prices', 'percentage', 'existing', 'stadium', 'displays', 'hot', 'manner', 'fluids', 'simultaneously', 'coach', 'task', 'signature', 'pitched', 'croatia', 'preferred', 'hollow', 'electromagnetism', 'advantage', 'denounced', 'davis', 'detailed', 'scottish', '1968', 'pouch', '01', 'rã\\xado', 'overtone', '1874', 'classic', '1923', 'universally', 'amphibians', 'anglo', 'mean', '1978', 'ronald', 'murdoch', 'prestigious', 'metals', 'descent', 'electrochemical', 'tune', 'optics', 'opticks', 'childhood', 'anne', 'justices', '1963', 'comprise', 'funding', 'sensitive', 'vibrations', 'matthew', 'moral', 'sarah', 'stating', 'contest', 'protecting', 'mole', 'violence', 'kennedy', 'judges', 'forum', 'sexual', 'rated', 'mm', 'husband', 'fleet', 'car', 'unpublished', 'cat', 'circuits', 'receivers', 'wallachia', 'johor', \"volta's\", \"frog's\", 'emf', 'mathcal', '1654', 'truths', 'quicksilver', 'forming', 'wade', 'colleges', 'respect', 'coloured', 'interested', 'thrust', '85', 'tongue', 'incident', 'writers', 'kenya', 'risk', 'consistently', 'bitter', 'governed', 'junior', 'routes', '1831', 'decorated', 'maxwell', 'ming', 'tibetan', 'forcing', 'supporters', 'require', 'join', '1869', 'besides', 'diverged', 'russell', 'settlements', '1949', 'vehicles', 'glands', 'employment', '280', '1891', 'possession', 'fishing', 'aimed', 'brain', 'exhibits', 'inheritance', 'satellite', 'protestant', 'ny', 'barely', 'subfamily', \"bear's\", 'emphasis', 'delegates', 'reaches', 'usage', 'hearing', 'rules', 'mph', 'abilities', 'mascot', 'hindu', 'calling', 'spelling', 'accused', '1806', 'nervous', '1782', '1781', '14th', 'tonal', 'lute', 'respected', 'preserved', 'youth', '1926', 'whigs', 'clearly', '1959', 'attempts', 'submarine', 'mount', '130', 'atomic', 'camouflage', 'hosts', 'rain', 'arrival', 'biological', 'orange', 'bid', 'enhydra', 'allies', 'opinion', 'repeated', 'theater', 'bills', 'relationships', 'corresponds', 'stayed', '41', 'thereafter', 'demand', 'extensively', '10th', 'diverse', 'regulations', 'ear', 'originated', 'sex', 'panama', 'ban', 'fc', 'housing', '88', 'static', 'capacitance', 'linguists', 'selling', 'choose', 'damaged', 'obtain', 'watching', 'struggle', 'lifetime', 'coal', 'membership', 'parallel', 'germanic', 'performing', 'rigid', 'narrow', 'lanka', 'condemned', 'seem', 'channel', 'olympic', 'rational', '1888', 'pa', '1799', 'accident', 'protein', 'glued', 'signal', 'republicanism', 'judge', 'settlers', 'deemed', 'edwin', '1895', '120', 'gay', 'carrier', 'tribute', 'publish', '83', 'joining', 'trans', 'premier', 'broadcasting', 'links', 'neighbouring', 'operating', '700', 'residence', 'alien', 'fiber', 'britannica', 'snakes', 'theorem', 'seventeenth', 'pegs', 'returning', 'angle', 'graduate', 'advocated', 'pushing', 'alberta', 'printed', 'tremendous', 'sole', 'hardly', 'achievements', 'endpin', 'fiddle', '1850', 'savoy', 'organic', 'pairs', 'reply', 'archive', 'referring', 'emergency', '3rd', 'arabian', 'escape', 'berlin', 'sustained', '1764', \"america's\", 'polytechnic', 'stationary', 'amniotes', 'berkeley', 'col', \"coulomb's\", 'message', 'faction', '51', 'liberty', 'sustain', 'approach', 'leaf', 'faced', 'successor', 'timber', 'basketball', 'fame', 'clubs', 'y', 'extend', 'mixed', 'demonstrating', 'substantially', 'gender', 'triangle', 'cellist', 'opportunity', 'argues', 'cost', 'nonetheless', 'bull', 'target', 'semitic', 'elephas', 'wear', 'newborn', 'improvement', 'biodiversity', 'issn', 'priest', 'lined', 'overtones', 'suburbs', 'truss', 'passage', '1832', 'repeatedly', 'purchase', 'wound', 'allied', '1925', 'carved', 'hunter', 'customs', '06', 'repairs', 'namely', 'scattered', 'inflation', 'concern', '1886', 'papua', 'campus', 'vertical', 'leathery', 'sliders', 'terrapin', '33', 'incorporated', 'sr', 'holiday', 'unfortunately', 'triumph', 'elytra', 'conventions', 'seated', 'corporations', 'peacekeeping', '68', 'poetry', 'merely', 'retreat', 'corrupt', 'romantic', 'circuit', 'regime', 'siberian', 'springs', 'ludwig', 'wager', 'macmillan', 'variants', 'afterwards', 'mexican', 'session', 'responded', 'youngest', 'decisions', 'agree', 'programs', 'terminal', 'calls', 'weapons', 'authors', 'hills', 'alternate', 'grown', 'agreements', 'derives', 'strange', 'node', 'vibrate', '95', 'collectively', 'reagan', 'plains', 'temperate', 'descendant', 'pull', '1500', 'negotiations', 'paws', '1813', '1779', 'prose', 'experimentalist', 'happen', 'maintaining', 'amherst', 'spending', 'religions', 'limit', 'epic', 'tertiary', 'digital', 'useful', 'twain', 'wrapped', 'isolated', 'placement', 'harp', 'tribe', 'essays', 'album', 'consequence', '170', 'harding', 'operate', 'participation', 'weekly', 'receiving', 'frequencies', 'neutrality', 'essential', 'playful', 'argument', \"washington's\", 'bore', 'cone', 'hi', 'purfling', 'lâ\\x80\\x99electricitã©', 'magnã©tisme', 'kit', 'electrolysis', 'fullerian', 'humphry', 'valet', 'blue', 'partner', '140', 'enemies', 'nineteenth', 'stamp', 'specimens', 'scandal', 'occasion', '1958', 'ordinary', 'pointed', 'grass', 'nineteen', '800', '1937', 'inch', 'surplus', 'severely', 'maker', 'violent', 'terminals', 'tremolo', 'explains', '1816', 'deeply', 'laid', 'naturally', 'railways', '49', 'flag', 'loans', 'saxon', 'negatively', 'mirror', 'stopping', 'soup', 'houston', '200px', 'conclusions', 'campaigned', 'thing', 'voters', 'pests', 'biology', 'indians', '1905', 'meet', 'commonwealth', 'supplies', 'reaching', 'jaw', 'tough', 'eldest', 'herd', 'politically', 'relation', 'detected', 'crude', 'conversion', 'alto', 'bahrain', 'translation', 'metro', 'reelection', 'foundations', 'consisted', 'avoided', 'springfield', 'add', 'kansas', 'pennsylvania', '1814', 'abroad', 'traditions', 'ties', 'tundra', 'vegetation', 'counterpart', 'cohen', 'dna', 'rotation', 'manuscript', 'comparatively', 'recreational', 'jersey', 'doctors', 'examination', 'smiljan', 'lika', 'currents', 'unesco', 'texts', 'whistle', 'amended', 'unless', '76', 'relief', 'blind', 'fertile', 'literacy', 'profile', 'sufficient', '220', 'monuments', 'furthermore', 'attractions', 'favour', 'der', 'lever', 'equations', 'wrong', 'convert', 'bullet', 'relied', 'essai', 'consume', 'situated', 'passive', 'officer', 'dropped', 'concerned', 'bryan', 'coin', 'ministers', 'dating', 'aspect', 'streets', 'taxonomy', 'racing', '1935', 'fed', 'partial', 'motors', 'teslaâ\\x80\\x99s', '1909', 'ire', \"'death\", '150th', 'diseases', 'pap', 'marina', 'singaporeans', 'determines', 'clash', 'recorder', 'nguyá»\\x85n', 'fired', 'hat', 'determining', 'urged', 'concerns', 'readily', 'exhibit', 'search', 'requirements', '1884', 'convinced', 'withdrew', 'scotia', 'tiny', 'computer', '1882', 'periods', '1930s', 'restrictions', 'occasions', 'bamboo', 'captivity', 'try', 'harbour', '1947', 'lasted', 'author', 'fair', 'poles', 'rev', '1642', 'binomial', 'conception', 'candidates', 'negotiated', 'welfare', 'displayed', 'reign', 'justify', '53', 'passes', 'spruce', 'eleven', 'friendly', 'arch', 'demanded', 'enterprise', 'beaches', 'madison', 'patented', 'thompson', 'taxon', 'hung', 'emancipation', 'gettysburg', 'permitted', 'partners', 'seats', 'connections', 'adopt', 'booth', 'viewed', 'governance', 'sentence', 'ratified', 'newfoundland', 'equipment', 'completion', 'supports', 'sandy', 'marks', 'hour', 'rendered', 'disliked', 'anywhere', 'rugby', 'sliding', 'texas', 'planned', 'persuaded', '1833', 'suite', 'resemble', 'tennis', 'inscriptions', 'humor', 'prompted', 'mubarak', 'rolling', 'element', 'ibid', 'alliance', 'shanghai', 'observation', '1824', 'greenock', 'experimentation', 'sedition', 'frs', 'fermat', 'probability', 'morphemes', 'xylophone', 'buchanan', 'warfare', 'hero', 'williams', 'freezing', '350', 'phylogenetic', '103', 'ceded', 'sanskrit', '78', 'familiar', 'whales', 'reptile', 'output', '1887', '1817', 'aside', 'connect', 'transmitted', 'czech', 'chest', 'luthiers', 'portions', 'pulling', 'retirement', 'anyone', 'graduated', 'autonomous', '1759', \"years'\", 'proud', 'scholar', 'pleistocene', 'components', 'confirmed', 'hammer', 'humid', 'block', 'naturalis', 'pteronura', 'chick', 'dish', 'handle', 'soaked', 'geometry', 'soil', 'tons', 'commander', 'excess', 'sitting', 'passion', '1744', 'firmly', 'resign', 'follows', 'tenor', 'recovering', 'litter', 'gear', 'progressed', 'laboratory', 'brass', 'buenos', 'aires', 'frame', 'combat', 'equality', 'holt', 'calculated', 'ancestors', '47', 'comprising', 'destination', 'plumage', 'villages', 'sumatra', 'participate', 'mix', 'bulgaria', 'reintroduction', \"fillmore's\", 'technologies', 'underwood', 'drink', 'aptenodytes', 'storer', 'duillier', 'newtonian', 'hooke', 'frac', 'chord', '61', 'strict', 'medicine', 'engraving', 'perform', 'crush', 'suitable', 'cousins', 'biographers', 'caught', 'cuba', 'column', 'commitment', 'liver', 'framework', 'really', 'tails', 'boundaries', 'diameter', 'quantity', '1728', 'bound', 'petersburg', '54', 'pour', 'roll', \"party's\", 'involving', 'exported', 'experts', 'assigned', 'proposals', 'manufacture', 'fuller', 'doha', '1879', 'regardless', 'organizations', 'combining', 'molecule', 'abdomen', 'loose', 'remembered', 'reflected', 'netherlands', 'proportion', 'affiliation', 'migration', 'covers', 'faster', 'maturity', 'emblem', 'wealthy', 'verbs', 'famously', 'preference', 'canis', 'doubled', 'plaza', 'nanjing', 'violoncello', '215', 'warned', 'surrender', 'victories', 'promised', 'amnesty', 'prisoners', 'lincolnâ\\x80\\x99s', 'appearing', 'observatory', 'underground', 'curtis', '1969', 'centred', 'settle', 'centers', 'thereby', 'dense', 'pdf', '1948', 'capacity', 'song', 'sculptor', 'phone', 'embassy', 'compensate', 'interpretation', 'comments', 'gentleman', '1829', 'derive', 'carol', 'viable', 'tr', 'theological', 'louder', 'chá»¯', 'mouthpiece', 'giraffes', '64', 'featuring', 'noise', 'scheduled', 'entities', 'dependence', 'transferred', 'watch', 'mckinley', '1866', 'roles', 'aerial', 'suez', 'southeastern', 'counter', 'nationalist', 'identify', 'stress', 'stable', 'kilograms', 'arguably', 'smooth', 'chart', 'tokyo', 'exhibition', 'kingdoms', 'arranged', 'print', 'franz', 'shallow', 'busiest', 'pronunciations', 'concertos', 'placing', 'skilled', 'stories', 'leur', '1841', 'boiling', 'compound', 'marriage', 'maintains', 'alexandria', 'interference', 'overlap', 'belly', 'injury', 'debts', 'champion', 'spine', 'ride', 'streams', '900', 'rose', 'tin', 'reverse', 'concepts', 'opposite', 'olive', \"leibniz's\", 'technological', 'winfield', 'restored', 'shifted', 'insect', 'feeding', 'farmer', 'suffrage', 'publicly', 'security', '2012', 'heavier', 'consecutive', 'citing', 'reality', 'horizontal', 'resting', 'establishing', 'numerals', 'adam', 'highways', 'emission', 'au', 'beauty', 'quoting', 'studying', \"china's\", '1830', 'stood', 'ex', 'se', 'replied', 'dalton', 'conflicts', 'quarters', 'tell', 'occupying', 'monarchy', '1791', '1873', 'populous', 'larco', 'missing', 'factors', 'africana', 'unlikely', 'summers', 'departments', 'doubt', 'melanistic', 'theoretical', 'primitive', 'musk', 'curve', 'fingerings', '1687', 'viá»\\x87t', 'representative', 'resolution', 'morgan', 'freed', 'mcclellan', 'frederick', 'conduct', 'extraordinary', 'voting', 'pact', '77', \"it's\", 'indistinguishable', 'fauna', 'joint', 'rubber', 'represents', 'organ', 'facility', 'tigris', 'archelon', 'generals', 'nebraska', 'citizenship', \"lee's\", 'scarab', 'minimum', 'nato', 'stock', 'falling', 'passages', 'chemicals', 'meant', 'athletes', 'offering', 'walter', 'vs', 'thinking', 'archaic', 'helpful', 'palmer', 'remarkably', 'romã¢nia', 'indicators', 'nostrils', 'qing', 'quartet', 'scroll', 'mutes', 'taiwanese', 'rotary', 'indiana', '1857', 'coalition', 'mention', 'integrity', 'usual', 'maps', 'component', 'strip', \"government's\", '96', 'manipulation', 'unite', 'ben', '50th', 'churchill', 'stradivari', 'vetoed', 'habitats', 'striking', 'restricted', 'chairman', 'volunteers', 'employs', 'lord', 'howling', 'touch', 'lessons', '1801', 'flux', 'cooling', 'cbd', 'alligator', 'proganochelys', 'fontanelles', 'chun', 'rieppel', 'millerettids', 'protorothyrids', 'pareiasaurs', 'squamata', 'archosauria', 'diapsid', 'guilinggao', \"'turtle'\", 'amati', 'divides', 'nã´m', 'ideal', 'attract', 'negro', 'denied', 'inauguration', 'skull', 'argue', 'marie', 'mature', 'tribes', 'descended', 'tensions', 'maritime', 'listing', 'enjoy', 'immediate', 'travels', 'breaking', 'erected', 'subordinate', 'abandoned', 'bicycle', 'unsuccessfully', 'expert', 'reservoirs', 'bengal', '1846', 'attractive', 'boundary', 'forever', 'interesting', 'thermometer', 'creates', 'possess', 'francisco', 'joints', 'committed', 'occupation', 'brunswick', 'collaboration', 'korean', 'resembles', 'deposited', 'bouts', 'asiatic', 'worth', 'scandinavian', 'outstanding', 'gone', 'colored', 'explaining', '1765', '229', 'generators', 'coils', 'transformer', 'fossils', 'carries', 'woods', 'ought', 'profound', 'assist', 'criminal', 'authorized', 'samples', 'graduating', 'northampton', 'stationed', 'administered', 'helping', 'flightless', 'consequently', 'exceptional', 'manufacturer', 'congo', 'xiv', 'diary', 'puma', 'violinist', 'mrt', '1845', 'gatineau', 'commemorate', '1786', 'associates', 'lady', 'hans', 'lloyd', 'molarity', 'reproduction', 'ferrell', 'conventional', '1798', 'hopkins', 'belong', 'trained', 'weighing', 'implications', 'incisors', 'sits', 'rings', 'actively', 'turku', 'recordings', 'alpine', 'jane', 'consumption', 'distinguish', 'preceding', 'zagreb', 'poland', 'sq', 'recovered', 'skins', 'vedic', 'quantum', 'renovated', 'collected', 'taxa', 'qatari', 'catchment', '1810', 'legno', 'inlays', 'lasting', 'favorite', '1920s', 'explicitly', 'casualties', 'wisconsin', 'stored', 'wages', 'allen', 'visual', 'rely', 'recognizes', 'mutually', 'magazines', 'winner', 'circumstances', 'score', 'necks', 'symptoms', 'resolved', 'attempting', 'pure', 'edith', 'subantarctic', 'morphology', 'eudyptes', 'transliteration', 'peking', 'arguing', \"d'une\", 'sardinia', 'resolve', 'decrease', 'strikes', 'budget', '1929', 'deliver', '67', 'southwestern', 'surveys', 'encounters', 'tests', 'touching', 'compounds', 'hanoi', 'genes', 'os', 'feb', 'edgar', 'contrary', 'pound', '1985', 'thorn', 'scandinavia', '1809', 'protest', 'offers', 'soul', 'express', 'depressed', 'household', 'proposal', 'modifications', 'exercise', 'winters', 'mediterranean', 'extension', 'conquest', 'references', 'hundreds', 'significance', 'performers', 'uss', 'negotiating', 'recovery', 'researched', 'trapped', 'crocodiles', 'lutris', 'colloquial', 'bangladesh', 'motions', 'witness', 'bad', 'todd', 'oregon', 'seward', 'emergence', 'maryland', 'vercelli', 'déterminer', 'élémentaires', 'selon', 'elles', 'entrent', 'ces', 'napoléon', 'physique', 'mémoire', 'déterminées', 'détermination', 'corpi', 'demonstrate', 'emmanuel', 'dilute', 'arc', 'shield', 'fused', 'ceremonies', 'healthy', 'jacques', 'harper', 'recommendation', 'entertainment', 'ta', 'web', 'finance', 'labour', 'ingredients', 'meets', 'revealed', \"adams'\", 'expired', '1788', 'korea', 'dots', 'galã¡pagos', 'criticised', 'fits', 'simplified', 'partido', 'blues', 'send', 'conceived', 'blacks', 'dakota', 'cycle', 'characterised', 'smell', 'jobs', 'lawn', 'densely', 'counterparts', 'sunni', 'heard', 'intelligence', 'weighs', 'iucn', 'elongated', 'importantly', 'dug', 'versions', 'jimmy', 'boxing', '1961', 'tenure', 'investigate', 'gun', 'differ', 'mere', 'norman', 'accurately', 'apprenticeship', 'lutrogale', 'aonyx', 'oz', 'morphological', 'pipe', 'fred', 'uruguayans', 'sa', 'synthetic', 'chromatic', 'trombone', 'instrumental', 'rebellion', 'depicts', 'cousin', 'reactions', 'reversed', 'flesh', 'confidence', '1763', 'false', 'seized', 'secular', 'asians', 'ultraviolet', 'absence', 'ceased', 'khmer', 'deer', 'bureau', 'travelled', 'soho', 'macropus', 'wallabies', 'possessed', 'austro', 'differed', 'thayer', 'muir', 'creator', 'volt', 'maltese', 'gilberte', 'miracle', 'wrist', 'trill', 'goes', 'grandfather', 'disorder', 'obvious', 'knife', 'mentor', 'ecosystems', 'abundant', 'handed', 'speaker', 'wine', 'stronger', 'collective', 'blowing', 'accurate', 'explanation', 'communicate', 'achieving', 'friendship', 'conductors', 'restaurant', 'marshall', 'von', 'spectrum', 'yellowstone', 'aligned', 'constructing', 'alternately', '71', 'niece', 'methane', 'rainforest', 'thicker', 'clade', 'incubate', 'hatch', 'brands', 'supplied', 'melody', 'trumpeter', 'sangamon', 'confederates', 'upheld', 'kings', 'visiting', 'cave', 'intention', 'aluminum', 'identification', 'pro', 'expanding', 'disappeared', 'beast', 'maximus', 'depend', 'infantry', 'stores', 'associate', 'babies', 'mars', 'carnivores', 'fund', 'evil', 'favorable', 'sheets', '578', 'locomotive', 'mission', 'panther', 'conical', 'å\\x9fi', 'bucureå\\x9fti', 'botanic', 'tamil', 'standardized', 'attractiva', 'galvani', 'galvanic', 'dissimilar', 'cardboard', 'sulphuric', 'acid', 'tempio', 'voltiano', 'origination', 'min', 'pã©rier', 'sainte', 'beuve', 'jansenist', 'sul', 'refusing', 'rhetoric', 'unity', 'ward', 'pose', 'tuberculosis', 'pole', 'launch', 'looks', 'factories', 'flood', 'commons', 'coasts', 'bred', 'ka', 'equator', 'sets', 'uncommon', 'howl', 'content', 'humane', 'annexation', 'finding', 'bone', 'abandon', 'din', 'turkish', 'facilities', 'shopping', 'flexible', 'leather', 'stradivarius', 'confined', 'distant', '1946', 'passing', 'confusion', 'careful', 'pumping', 'quiet', 'pushed', '1800s', 'occasional', 'macdonald', 'refugees', 'geography', 'covering', 'sahara', 'ali', 'contested', 'item', 'chew', 'benefit', 'technically', 'goals', 'arena', 'arrangement', 'greece', 'faculty', 'mountainous', 'exactly', 'graz', 'enable', 'embouchure', 'headstock', '1853', '81', 'threatening', 'doubts', 'farther', 'dorothy', 'partisan', 'rush', 'dates', 'concentrations', 'realized', 'denominations', 'paintings', 'domesticated', 'manager', 'nazi', 'seventy', 'inhabits', 'assured', 'hear', 'flowed', 'roger', 'resonators', 'bin', 'bb', 'phrases', 'punch', 'momentum', 'bansuri', 'spot', 'potomac', 'disagreement', 'schuster', 'confirm', 'naturelle', 'simples', 'leurs', '1701', 'astronomer', 'measurement', 'oxygen', 'opposing', 'suddenly', 'deployed', 'denomination', 'katherine', 'versailles', 'shoulders', 'practically', 'symphony', 'apply', \"others'\", 'founders', 'aims', 'crucial', 'revised', 'integrated', 'lomas', 'marc', 'rotating', \"company's\", \"edison's\", 'therapeutic', 'volts', 'longitudinal', 'ruä\\x91er', 'boå¡koviä\\x87', 'meå¡troviä\\x87', 'fbi', 'conspiracy', 'nissen', 'juan', 'shipping', 'examining', 'longevity', 'pegbox', 'orchestras', 'alloys', 'difficulties', 'goal', 'relieved', '59', 'cavities', 'dinosaurs', '1899', 'surprise', 'continuously', 'mothers', 'trouble', 'prestige', '1955', 'guitarist', 'inland', 'enemy', 'lineage', 'jim', 'northeast', 'feudal', 'ownership', 'â\\x80\\x9cthe', '87', 'deeper', 'titled', 'cared', 'loanwords', 'maynard', 'liberalism', 'collecting', 'commented', 'necessity', \"d'histoire\", 'seek', 'dollars', 'specimen', 'attorney', 'decreased', 'broadcast', 'banknotes', 'monitor', 'versa', 'sumatran', 'teachers', 'triple', 'inscription', 'drive', 'bonds', 'bourbon', 'reserved', '1802', '66', '1875', 'generating', \"earth's\", 'akin', 'rankings', 'electromotive', 'sulphate', 'fractional', 'montpellier', '1807', 'teach', 'wounded', 'newer', 'tickets', 'inaugural', 'densities', 'retaining', 'mccall', 'telegram', 'temporary', 'logs', 'finno', 'twelfth', 'prefixes', 'transparency', 'users', 'grip', 'searching', 'malays', 'advised', 'bernard', 'columbus', '1878', 'items', 'oriental', 'anglican', 'residential', 'finish', 'giles', 'han', 'kã¸benhavn', 'sinking', 'fled', \"taylor's\", 'flea', 'staying', 'clerk', 'tense', '1927', 'reluctant', 'stretching', 'mild', 'championships', 'helps', 'favoured', 'aggression', 'amphibious', 'shed', 'plus', 'muirhead', 'chamberlain', 'elite', 'rods', 'philosophiae', 'clusters', 'planetary', 'hydraulic', 'notion', 'treble', 'generalized', 'manor', 'diamagnetism', 'benzene', '2009', 'statute', 'anatomy', 'acted', 'granting', 'dominion', 'summit', 'save', 'cheap', 'baseball', 'guaranteed', 'test', 'turks', 'en', 'molars', 'listening', '13th', 'eighteen', 'sculptures', 'earned', 'suburban', 'shore', 'mood', 'positively', 'turkic', 'cancer', 'wilhelm', 'promotion', 'venus', 'wish', 'ballot', 'nationalists', 'lose', 'openly', 'sat', 'ball', 'lodged', 'novel', '9th', 'segments', 'feel', 'digging', 'consumed', \"women's\", '104', 'transfer', 'nicaragua', 'cartier', 'ideology', 'softer', 'mates', 'foul', 'moves', 'germans', 'pronouns', 'cooking', 'facts', 'depictions', 'dynamics', 'siberia', 'bandung', '1790', '501', 'newcomen', 'employee', 'daniel', 'essentially', 'cloth', 'kenneth', 'calculator', 'adjusted', 'tallest', 'pygoscelis', 'spheniscus', 'monastery', 'passengers', 'virtuoso', 'riders', 'kolkata', 'transactions', 'angoulãªme', 'mathematica', 'prism', 'einstein', 'grantham', 'stukeley', '1704', 'corpuscles', 'occult', 'keynes', 'alchemical', 'halley', 'boyleâ\\x80\\x99s', 'acceleration', 'lagrange', 'paperback', 'peruvian', 'bunsen', 'burner', 'highgate', 'seeking', 'virtue', 'simpson', 'radicals', 'salary', 'withdrawn', 'sending', 'tsunami', 'confused', 'compare', 'festivals', 'sunday', 'lankan', 'fruit', 'starvation', 'format', 'euro', 'ann', '6th', 'highland', 'ash', 'henceforth', '1826', \"society's\", 'lectured', 'jaguar', 'forbidden', 'donelson', 'harvesting', 'miocene', 'ra', 'diphthongs', 'ebony', 'demanding', 'welles', 'hope', 'critics', 'seriously', 'teacher', 'commemorated', 'monophyletic', 'dung', 'ambassador', 'treaties', 'prairies', 'freedoms', 'solely', 'vessels', 'beak', 'wisdom', 'tusk', 'appropriate', 'muscular', 'flora', 'holder', 'cruise', 'fixed', 'watergate', 'hoped', 'haig', 'coats', 'canids', 'spontaneous', 'connection', 'institutes', 'aftermath', 'greenland', 'romanization', 'outbreak', 'brighter', 'inspector', 'insulated', 'hanyu', 'lovetoknow', 'clathrate', 'hydrate', 'oxidation', 'anode', 'cathode', 'candle', 'liquefying', 'wollaston', 'loop', 'gladstone', 'tyndall', 'longmans', 'eighth', 'closing', '1843', 'forth', 'gen', 'convicted', 'sculpture', '1983', 'harry', '375', 'till', 'commemorative', 'mackenzie', 'riding', 'participated', 'oecd', 'calgary', 'testament', 'ask', 'corner', 'requirement', 'steady', 'theorized', 'gate', 'wartime', 'kalevala', '48', 'ashanti', '63', 'requires', 'comprises', '12th', '122', 'aristocracy', 'keeps', 'pseudo', 'beat', 'mental', 'arrangements', 'spherical', 'pizzicato', 'solos', 'carnatic', 'dimensions', 'chattanooga', 'coordinated', 'divine', 'moment', 'admitting', '1745', 'stages', 'pressing', 'virtual', 'separation', 'withdrawal', 'phrase', 'bilateral', 'driving', 'eagle', 'funded', 'airlines', 'someone', 'continually', 'sydney', 'rosettes', 'sleep', 'teachings', 'oscillations', 'stack', 'files', 'braå\\x9fov', 'gheorghe', 'diffusion', 'knew', 'morris', 'insular', 'jesse', 'halleck', 'empty', 'malmã¶', 'rhythm', 'cabin', 'surrendered', '57', 'foremost', 'mining', 'ã\\xa0', 'constantly', 'tightly', 'subpopulations', 'empires', 'nicknamed', 'behavior', 'baltic', 'structural', 'imports', 'connecting', 'championship', 'impressed', 'presently', 'adjacent', 'intensity', 'homeland', \"school's\", 'javanese', 'habit', 'superseded', 'breakdown', 'cretaceous', 'walls', 'kuan', 'drug', 'cumberland', 'catherine', 'dover', 'innovation', 'brothers', 'enthusiasm', 'governors', 'landing', 'underlying', 'oak', 'answers', 'savant', 'recording', 'underwent', 'renewed', 'portugal', '1890', 'replica', 'horses', 'estonia', '1852', 'vegetables', 'priority', 'halfway', 'ã\\x89cole', 'salts', 'gouverneur', 'landmark', 'bulletin', 'possessions', 'plaque', 'clothing', 'proponent', 'phylogeny', '8th', 'temasek', 'mediacorp', 'yolk', 'paracryptodira', 'philosophers', 'voltaire', 'plucking', \"lima's\", 'lyres', 'guitarists', 'pickup', '58', 'retained', 'mobile', 'absent', 'pension', 'pride', 'symbols', 'nomadic', 'procedure', 'span', 'mixture', 'dome', 'ratio', 'efficiency', 'brains', 'raw', 'feelings', 'alan', 'documentary', 'interactive', 'naturalist', 'campuses', 'marsupials', '454', 'predecessors', 'vols', 'plata', 'frente', 'amplio', 'calligraphy', 'trumpeters', 'belonged', '82', 'assaults', 'baltimore', 'molar', 'sacred', 'incumbent', 'commissioner', '117', 'taxation', 'legislatures', 'cf', 'recession', 'sees', 'pyramid', 'sadat', 'petroleum', 'inspiration', 'subdivided', 'speckled', 'blow', 'raising', 'bachelor', 'reproduce', 'nasal', 'continuation', 'continuing', 'chancellor', 'cable', 'airports', 'hop', 'coined', 'eventual', 'economics', 'stroke', 'treat', 'molt', 'consulted', 'blotches', 'tank', 'exit', \"today's\", 'semantic', 'bankers', 'teddy', 'spaces', 'clark', 'ensembles', 'describe', 'destroying', 'feared', 'emphasizing', 'controls', 'harrison', 'clean', 'enjoyed', 'suggestions', 'select', 'millennia', 'capitals', 'fathers', 'yugoslavia', 'supposed', 'enclosed', 'gaining', 'pace', 'getting', 'fill', 'pregnancy', 'travelling', 'tendency', 'expectancy', 'hip', '52', 'wedding', 'request', 'sight', 'interstate', 'processes', 'naming', 'panthers', 'repelled', 'filed', 'guides', 'shielded', 'cartilaginous', 'lizards', 'blooded', 'hatchling', 'refill', 'respiration', 'cloacal', 'cloaca', 'gills', 'respire', 'albumen', 'coagulate', 'cooked', 'squirm', 'cares', 'turtleâ\\x80\\x99s', 'kidneys', 'centenarian', 'ageless', 'spur', 'thighed', 'alderton', 'salamander', 'aldabra', 'iskandar', 'itb', 'pritchard', 'pether', 'marching', 'convenient', 'glue', 'curved', \"flute's\", \"ottawa's\", 'businessman', 'angry', 'freely', 'scott', 'nectar', 'autumn', 'â\\x80¦', 'volunteer', 'harsh', 'nests', 'ruling', 'johns', 'nasser', 'tool', 'altered', 'antiquity', 'percussion', 'batteries', 'bigger', 'disappear', 'pursuit', 'agrarian', 'seas', 'brand', 'awards', '26th', 'reminiscent', 'philip', 'setting', 'challenge', 'securing', 'aim', 'scent', 'attacking', 'ignored', 'carnegie', 'comfortable', 'harpercollins', \"didn't\", 'ignition', 'ariel', 'brasiliensis', 'fat', 'simultaneous', 'traits', '1702', 'chi', 'xylophones', 'log', 'schooling', 'notice', 'defeating', 'agents', 'dying', '1735', 'antennae', 'windsor', 'burden', 'unicameral', 'projected', 'grasses', 'millennium', 'dissolution', 'renowned', 'trends', 'lip', 'wet', '2011', 'grade', 'mistake', 'induced', 'ton', 'narrative', 'louvre', 'craft', 'receiver', 'manhattan', 'evening', 'seldom', 'eric', 'biogeography', 'colombia', 'abbreviated', 'msa', 'dictionaries', 'wallace', 'resolutions', 'markers', 'reelected', 'brady', 'removal', 'grants', 'tariffs', 'distinguishing', 'quantities', 'invertebrates', 'abdominal', 'permian', 'maurice', 'bonus', 'restriction', 'judiciary', '2010', 'grasslands', 'requiring', 'supposedly', 'ã\\x85land', 'dominates', 'regulated', \"nixon's\", 'admission', 'betty', 'praised', 'privately', 'acute', 'crossing', 'crabs', 'onset', 'hungarians', 'involve', 'alice', 'kermit', 'wu', 'buying', 'moreover', 'characteristic', 'oeuvres', '1661', 'pedals', 'cremona', 'plain', 'fusion', 'rebels', 'haven', '1716', 'creatures', 'organisation', 'locally', 'lyon', 'integrating', 'numbering', 'treasures', 'dynasties', 'syria', 'clans', 'cards', 'workforce', 'steps', 'facto', 'altogether', 'relies', 'rid', 'sample', 'nobility', 'chiefly', 'solving', 'undertook', 'neighbours', 'monthly', 'educate', 'orbital', 'bond', 'elaborate', 'encounter', '1859', 'rice', 'incomplete', 'gambling', '1790s', 'plot', 'manage', 'basin', 'arriving', 'blubber', 'rooms', 'conversation', 'servants', 'sonatas', 'examinations', 'defended', 'decide', 'crowds', 'corpus', 'box', 'philadelphia', 'nouvelles', 'latitude', 'wasps', 'architect', 'avoiding', '145', 'boom', 'francophonie', 'sizeable', 'nominal', 'struggled', 'arid', 'reside', 'engage', 'thailand', 'originating', 'advance', 'vested', 'array', 'rocks', 'extract', 'accomplishments', 'interred', 'lingua', 'foreigners', 'antoine', 'wwii', 'commissioned', \"clay's\", 'invent', 'princes', 'collins', '1880', 'loudspeaker', 'complicated', 'insulating', 'phonology', '1657', 'acceptance', 'traveled', 'temporarily', 'unification', 'organisations', '125', 'lowered', 'manipulating', '370', 'oriented', 'francophone', 'sudan', 'flourished', 'realm', 'investments', 'paved', 'registered', 'sum', 'writes', 'pig', 'foods', 'truly', 'pain', 'transform', 'landed', 'burial', 'legends', 'acadã©mie', 'sectional', 'ivan', 'cricket', 'ernst', \"cello's\", 'handled', 'executed', 'dream', 'lone', 'bonaparte', 'quelques', 'coleoptera', 'potato', 'involves', 'resemblance', 'dive', 'pesticides', 'likened', 'governing', 'anna', 'rejection', 'briefly', 'expand', 'occupies', 'renewable', 'declare', 'marketed', 'gestation', 'gene', 'duchy', 'ski', 'narrowly', 'everett', 'assume', 'audience', '84', 'mortality', 'confrontation', 'hostile', 'fluorescent', 'jakarta', 'surrounded', 'poems', 'dynamo', '1880s', 'royalties', 'talking', 'demolished', 'directing', 'multimedia', 'cruel', 'sphenisciformes', \"qatar's\", 'seafood', 'assisted', 'nacional', 'musã©e', '1647', 'inverse', 'sinitic', 'farms', 'lying', 'thorax', 'basal', 'uncertain', 'tribal', 'ceremony', 'reducing', 'worst', 'driven', 'onwards', 'biologists', 'africans', 'breathing', 'cycling', 'emotional', 'folklore', 'alter', 'designated', 'backs', 'sit', 'valid', 'signs', 'jones', '1778', 'constitutions', 'convictions', 'gates', 'antique', 'aquaria', 'cladogram', 'nosed', 'spheniscinae', 'forsteri', 'ksepka', 'pliocene', 'romance', 'studio', 'klan', 'finest', 'yuan', 'putonghua', 'abolition', '1808', 'salem', '1871', 'nevins', \"beetle's\", 'weevils', 'flower', 'elm', 'scarce', 'grove', 'asserted', 'notwithstanding', 'sharing', '485', 'flap', 'swallow', 'moche', 'comparable', 'heaviest', 'cooled', 'sensitivity', '1693', 'economist', 'formation', 'charts', 'surfaces', 'specialist', 'prominence', 'costa', 'handbook', 'rã¶ntgen', '1822', 'bankrupt', 'mines', 'enthusiastic', '1761', 'embryonic', 'amplifier', 'transmitter', 'theorists', 'quotas', 'khalifa', 'bessarabia', 'statistical', 'cluj', 'napoca', 'pianist', 'wilsonâ\\x80\\x99s', 'definite', 'announcing', '1662', 'mersenne', 'pascaline', 'ellipse', 'durant', 'richelieu', 'rouen', \"l'esprit\", 'gã©omã©trique', 'barometer', 'carriage', '1656', 'marguerite', 'fistula', 'shanghainese', 'zhuyin', 'frederiksberg', 'mallets', 'discoverer', 'professorship', 'knighthood', 'mathematically', 'callao', 'olor', 'etudes', 'flamenco', \"guitar's\", 'picks', 'thirteenth', 'suspected', 'minute', 'murder', 'arrested', '195', 'drew', \"'s\", 'geographically', 'sinai', 'seventh', 'communications', 'forbidding', 'constitutes', 'partially', 'belt', 'herds', 'gait', 'myth', 'jurisdiction', 'castles', '79', 'detached', 'secured', 'certificate', 'stays', 'propose', 'polish', 'panic', 'sponsor', 'assault', 'hailed', 'frogs', '1900s', 'geographic', '1847', 'fringe', 'pool', 'hiding', 'counting', 'duration', 'accent', 'kingston', 'hired', 'manual', 'dire', 'perceived', 'bloody', 'blamed', 'observing', 'eaten', 'practiced', 'nominee', 'occupy', 'fishermen', 'estuary', 'deposits', 'terrorism', 'iraqi', 'vocal', 'nursing', 'caring', 'trait', 'thai', 'skulls', 'grows', 'architects', 'waiting', '175', 'lips', 'cougars', 'traps', 'heated', 'hawaii', 'clouded', 'ki', 'fail', 'housed', 'crawl', 'andrã©', 'transmit', 'pigeon', 'generator', 'niche', 'accumulate', 'chronology', 'routledge', 'conform', 'posthumously', 'counterfeiters', 'zero', 'transcription', 'winding', '1672', 'unsuccessful', 'payment', 'limits', 'governmental', 'crossed', 'claiming', 'retain', 'veterans', 'invited', '135', 'ceremonial', '1940s', '1939', 'prosperity', 'hatchlings', 'greeks', 'anger', 'license', 'vertically', 'carefully', 'moscow', 'mammalian', 'midnight', 'poll', 'pearl', 'monterey', 'philippines', 'options', 'disagreed', 'trace', 'labeled', 'ricklefs', 'holdings', 'houghton', 'mifflin', 'herbivorous', 'irregular', 'vienna', 'regiment', 'colorful', 'wang', 'disadvantages', 'feminine', 'silk', 'drumhead', 'drumheads', 'exhibited', 'challenged', 'cavalry', 'cease', 'grasp', 'talk', 'questions', 'banking', 'firing', 'artifacts', 'aux', '1732', 'approve', 'gift', 'explorer', 'inuit', 'personnel', 'payments', 'tar', 'touched', 'cartoons', 'hebrew', 'jan', 'ecology', 'copts', 'tanzania', 'graham', 'hybrids', 'beds', 'liquid', 'norwegian', 'modesty', 'absorbed', 'merger', 'overthrow', 'conclude', 'worse', 'fulltext', 'limitations', 'vigorous', 'martin', 'stripes', 'maritimus', 'svalbard', 'walrus', 'halocarbons', 'pcbs', 'importation', 'iran', 'exciting', 'taxi', \"mckinley's\", '1883', 'fever', 'extensions', 'xiao', 'row', 'giuseppe', 'purely', 'soprano', '1684', 'steinway', 'ngá»¯', 'successive', 'dismantled', 'pocket', 'treated', 'photographs', \"de'\", 'aiming', 'flexibility', 'needing', 'ninth', 'fraternity', 'phi', 'losing', 'rumors', 'terrified', 'filmed', 'wealthiest', 'shooting', 'migrated', 'contacts', 'fraud', 'atheist', 'chester', 'phase', 'gather', 'converted', 'intelligible', 'johan', '22nd', 'toes', 'angles', 'compelled', 'servant', 'unions', 'restoration', '1758', '279', 'christ', 'torn', 'radiated', 'slicing', 'preferring', 'casual', 'removing', 'lowers', 'magnets', 'opportunities', '1851', 'honest', 'arkansas', 'valuable', 'mario', '1733', 'attachment', 'thriving', \"administration's\", 'marion', 'parker', 'retiring', 'constituted', 'bilingual', 'pioneered', 'lester', 'experiences', 'enjoys', 'offshore', 'grinding', 'citadel', 'deputy', 'informal', 'sheikh', 'elderly', 'reanalysis', 'supplemented', \"female's\", 'mad', 'refining', 'guangzhou', '1966', 'expatriates', 'sympathetic', 'speeds', 'shift', 'relevant', 'negotiate', 'gabriel', 'introduce', 'dozens', 'mccullough', 'hopping', 'somalia', 'artistic', 'slopes', 'google', 'eminent', 'adds', 'achievement', 'deliberately', 'physician', 'outskirts', 'contemplated', 'ethical', 'fifths', 'mon', 'hamlet', 'andean', 'rivals', 'steadily', '1850s', 'secession', 'exiled', 'linnaeus', 'physically', 'interpret', 'assessment', 'plymouth', '99', 'corporate', '1938', 'consolidated', 'seeks', 'commanded', 'tapers', 'imf', 'welcome', 'complexity', 'reversion', 'stretched', 'episode', 'parasites', 'elk', 'storm', 'fitted', 'properly', 'norse', 'coyotes', 'functions', 'correspondent', 'marsupial', '46', 'improving', 'cyrillic', 'redesign', 'novelty', 'astoria', 'modest', 'coated', 'persons', 'aided', 'topic', 'closeup', 'agility', '678', 'gordon', 'ballet', 'remarried', '1842', 'taller', 'rises', 'shall', 'formulated', 'downfall', 'astronomical', 'posterior', 'openings', 'ensuring', 'facilitate', '1933', 'hopes', '74', 'integration', 'ethnicity', 'cognate', 'metropolis', 'uncle', 'rests', 'oracle', 'banned', 'genre', 'borneo', 'sanctuary', 'payne', 'preventing', 'communists', 'ally', 'autopsy', 'plague', 'outcome', 'concentration', 'marginal', 'garbage', 'selective', 'maintenance', 'laureate', 'weakened', 'checks', 'balances', 'rocking', 'macropods', 'correctly', 'tendons', 'collision', 'trophies', 'princely', 'budapest', 'calculations', 'mysterious', 'usgs', 'secrets', 'recover', 'don', 'sec', 'upgrade', '456', 'antitrust', 'rio', 'cumbersome', 'dragging', 'meyer', 'implying', 'thursday', 'propagated', 'pemberton', 'colonia', 'uruguayan', 'tuner', 'simplest', 'rotated', \"trumpet's\", 'gillespie', 'statements', 'appeal', 'wilderness', 'fictional', 'hoff', 'segment', 'dave', 'earthquake', 'unrelated', 'levant', 'romans', 'transition', 'revenues', 'berber', '89', 'averages', 'saimaa', 'whooper', 'suffixes', 'tuition', 'sundays', 'coverage', 'contribute', '11th', 'ga', 'tales', 'mile', 'behalf', 'divide', 'pursued', 'assistants', 'advisers', 'julian', 'welsh', 'evolutionary', '1921', 'italians', 'boss', 'fugitive', 'clifford', 'pbs', 'transformers', 'prone', 'digits', '10000', 'glottal', 'tentative', 'chords', 'spiccato', '1665', 'bolted', 'conversely', 'jaffa', 'talented', 'debates', 'editor', '202', 'acknowledging', 'cautious', 'insistence', 'releasing', 'skepticism', 'admirers', 'hometown', 'isolation', 'disposition', 'variable', 'beneficial', 'grandmother', 'beer', 'somewhere', 'skyline', 'geese', 'rescue', 'soldier', 'devout', 'imposing', 'lasts', 'herself', 'speculated', 'swelling', 'runs', 'lacked', 'attendance', 'leads', 'machinery', 'obligation', 'delayed', 'pulled', 'reflect', 'functional', 'sequence', 'stretch', 'presbyterian', 'reads', 'succeed', 'divergence', '684', 'sailing', 'krajina', 'arnold', 'slipping', 'doc', 'amazon', 'petitioned', 'backbone', 'stimulate', 'simplicity', 'orang', \"taft's\", 'diaphragm', 'knobs', 'prized', 'commanding', 'los', 'gathering', 'metallic', 'magical', 'hardwood', 'tissue', '1837', 'globe', 'answered', 'lorenzo', 'dei', 'pairing', 'beneath', '169', 'personally', 'imitated', 'weighed', 'wit', 'drinking', 'flowers', 'mouths', 'dramatically', 'safari', 'overnight', 'tolerate', 'countryside', 'brazilian', 'burned', 'bed', '1240', 'profit', 'eurasia', 'drops', 'patronage', 'jennings', 'surgery', 'malayan', 'dress', 'architectural', 'deistic', 'liberia', 'protested', 'gathered', 'realizing', 'bite', 'parent', 'hz', 'princess', 'zu', \"otter's\", 'switch', 'emperors', 'ross', 'yew', 'brunei', 'substitute', 'expressways', 'bout', 'mitochondrial', 'bit', 'phonemes', '1651', 'beethoven', 'cylindrical', 'fender', 'sickness', 'procedural', 'zachary', 'railroads', '180', 'abolish', 'wake', 'quote', \"states'\", 'steal', 'consistent', 'upcoming', 'romano', 'metric', 'materiale', 'indispensable', 'aurora', 'blister', 'dealing', 'bosses', 'maritimes', 'saskatchewan', 'defining', \"other's\", 'contributor', 'replacing', 'sparked', 'adoption', 'judgment', 'jew', 'sharm', 'dipped', 'forehead', 'edges', 'pressures', 'bearing', 'database', 'remnant', 'walked', 'tears', '1964', 'salty', 'withdrawing', 'appointments', 'mrs', 'rabies', 'posture', 'separately', 'stricken', 'blocks', 'indonesians', 'blocked', 'copying', 'descriptions', 'skill', 'sanctuaries', \"napoleon's\", 'landlocked', 'schellenberg', 'eighty', 'serb', 'patron', 'wheelwork', 'eccentric', 'confã©rence', 'gã©nã©rale', 'poids', 'mesures', 'robotics', '0743215362', 'milutin', 'kosovo', 'jovan', 'uth', 'glenn', '0760710058', 'semester', 'blinding', 'batchelor', 'jonnes', 'ditches', 'ironically', 'roentgen', 'oscillators', 'conductivity', 'disabling', 'hsv', 'wirelessly', 'grotz', 'toby', 'lamps', 'cosmic', 'coherer', 'igniter', 'telegraphy', 'aidinejad', 'regenerative', 'detectors', 'plasma', 'hp', 'bladeless', 'turbine', 'rumored', 'telefunken', 'obsessive', 'compulsive', 'obsessed', 'waldorf', 'boldt', 'utilization', \"einstein's\", 'relativity', 'teleforce', \"ray'\", 'bust', 'yorker', 'foia', 'yugoslav', 'husum', 'dinar', 'ericsson', 'pigeons', 'stanford', 'swezey', 'secor', 'theatrical', 'germano', 'pratt', 'nomenclature', 'sheer', 'uae', 'malaya', 'jurong', 'pulau', 'sentosa', 'desalination', 'tonnage', 'changi', 'indoor', 'hawker', 'sph', 'submerged', 'sturdy', 'goblet', 'eusocial', 'viol', 'catalogue', 'horsehair', 'concerts', 'drummer', 'sring', 'komitas', 'universidad', 'banjo', 'atratus', 'gibson', 'whammy', 'há»\\x8dc', 'shaping', 'maine', 'della', '316', '124', 'colonists', 'cape', 'monarch', 'eased', 'planted', 'grouped', 'ussr', 'liberties', 'neighboring', 'predation', 'locals', 'witnesses', 'monetary', 'outdoor', 'insight', 'yale', 'lowering', 'variables', 'alaskan', 'vital', 'ferdinand', 'bali', 'prospered', 'gregarious', 'laboratories', 'resides', 'circumpolar', 'categories', 'axis', 'incorporating', 'definitive', 'lira', 'transposing', 'damper', 'mounting', 'stanton', 'owners', 'collapse', \"sherman's\", 'atlanta', 'hooker', 'destroy', 'shenandoah', 'crowd', 'propositions', 'combine', 'guelzo', 'carlo', 'sont', 'editors', 'longhorn', 'rove', 'pest', 'hurricane', 'expeditions', '1839', 'animated', 'ringed', '612', 'distinctly', 'inability', 'rafael', '1953', 'constructions', 'boutros', 'code', 'traces', 'par', 'reds', 'declines', '420', 'ports', 'jerry', 'indicating', 'norton', 'encountered', 'coloration', 'submissive', 'stance', 'gigantic', 'earl', 'hinduism', '206', 'chicken', 'fretted', '1772', 'donation', '1770', 'rehabilitation', 'infamous', 'harsher', 'advancing', \"scribner's\", 'schumann', 'lawsuit', 'predictions', 'conspiracies', 'clams', 'bukovina', 'scris', 'dacian', 'dacia', 'dual', 'antonescu', 'roma', 'endless', 'enescu', 'pinchot', 'rondon', 'seychelles', 'georges', 'clermont', 'julia', 'mcfeely', 'shiloh', 'walworth', 'reconstruct', 'velar', 'indicative', 'rmb', 'numbered', \"o'clock\", 'plucked', 'hakka', 'separating', 'colsterworth', 'casting', 'bantu', 'adulthood', 'resource', 'liberated', 'capturing', 'telegraph', 'leap', 'seed', 'graduation', 'primaries', 'sworn', 'conscription', '2000s', 'feathers', 'etymology', 'mosque', 'fdi', 'vernacular', 'fragmented', 'awareness', 'whites', 'tended', 'collapsed', 'lutheran', 'nationality', 'crystal', 'gardner', 'applying', 'helicopters', 'employees', 'acquire', 'traveling', 'respond', 'pursuing', 'genesis', 'shapes', 'buddhism', 'terrorist', 'professors', 'cook', 'repair', 'cool', 'canadensis', 'perspicillata', 'alluvial', 'hydrictis', 'felina', 'robin', 'reformers', 'pancake', 'maghreb', 'variant', 'lanes', 'andrea', 'syndrome', '127', 'racial', 'landslide', 'possessing', 'scenes', 'proposition', 'ecclesiastical', 'kinetic', 'intricate', 'undergraduate', 'suffering', 'disaster', 'ignited', 'discriminatory', 'uranium', 'aged', 'fifa', 'stem', 'venue', 'marred', 'chronicle', 'lebanon', 'meanings', 'undergone', 'dig', 'tom', 'tries', 'seasons', 'equals', 'revival', \"can't\", 'designate', 'presided', 'cracks', '1777', 'injected', 'roebuck', 'reciprocating', 'crank', 'boilers', 'handsworth', 'heriot', 'bought', 'burr', 'prosecution', 'cappon', 'ye', 'virus', 'riverside', 'decreed', 'peaks', 'slack', 'bartonian', 'insufficient', 'translations', 'broadly', 'miami', 'instituto', 'exerted', 'thickness', '1643', \"kepler's\", 'prematurely', 'ayscough', 'miss', 'galileo', 'copernicus', 'kepler', 'nicolas', 'fatio', 'approximated', 'lucasian', 'ordained', 'refracting', 'diffraction', 'ether', 'flamsteed', 'edmond', 'locke', 'warden', 'conduitt', 'rationally', 'preachers', 'newtonâ\\x80\\x99s', 'selections', 'dissent', 'odo', 'marquard', 'predicting', 'counterfeiting', 'treason', 'hanged', 'quartered', \"moon's\", 'dampier', 'whiteside', 'ode', '91', 'auction', 'poorer', 'cotton', 'forts', 'weaken', 'stevens', 'alfred', 'adaptations', 'fiscal', 'prayer', 'lifting', 'fiske', 'archaeological', 'northernmost', 'corridor', 'minerals', 'bend', 'popularly', \"doesn't\", 'apparent', 'torture', 'bordered', 'pink', 'equipped', 'eocene', 'pioneering', 'shortage', 'censorship', 'owing', 'absolute', 'publisher', '00', 'trend', 'dining', \"ghana's\", 'locomotion', 'resort', 'catholicism', 'ernest', 'saved', 'installed', 'companion', '1787', 'humanity', 'anticipated', 'nocturnal', 'match', 'rotate', 'northwestern', 'geological', 'judging', 'incorporates', 'contraction', 'olivier', '174', 'levantine', 'buses', 'philharmonic', 'snowfall', 'modelled', 'yamaha', 'wright', 'sword', 'weak', 'mathew', 'statehood', 'spy', 'larva', 'emerge', 'hampshire', 'conservatives', 'safety', 'alliances', 'putting', 'coastline', 'dominate', 'proximity', 'preservation', 'ornamental', 'ahmed', 'announcement', '05', 'thinner', 'climates', 'digest', 'confident', 'consuming', 'consequences', 'propagation', 'periodic', 'calendar', 'prohibited', 'athletic', 'promise', 'sailors', 'appeals', 'strokes', 'photos', 'akan', 'lupus', 'darker', 'urine', 'moose', 'coyote', 'descendants', 'folsom', '1950', 'energetic', 'agile', 'eyesight', 'apprenticed', 'webster', 'continual', 'believers', 'metabolic', 'feeds', 'methodology', 'cheaper', 'discouraged', '1876', 'mont', 'colombian', 'ratification', 'theology', 'crevices', 'ponds', '384', 'scholarly', 'padua', 'bun', 'subgenus', 'cardinal', 'strap', 'bent', 'beginners', 'mks', 'torres', 'issuing', 'accepting', 'whereby', 'civilians', 'keen', 'brood', 'senators', 'expense', '269', 'accomplish', 'multicultural', '1942', 'missions', 'comprised', 'mine', 'affiliated', 'breeds', 'fiction', 'whilst', 'necessarily', 'skeptical', 'thesis', 'pregnant', 'burn', 'tied', 'linguist', 'reindeer', 'therein', 'acclaimed', 'attaining', 'civic', 'suharto', 'marines', 'seventeen', 'couples', 'anthony', 'underside', 'capabilities', 'specially', 'lightly', 'screen', 'reduces', 'nam', 'vii', 'elastic', 'startled', 'monaco', 'nerve', 'abrupt', 'transported', 'penetrate', 'das', 'ischyros', 'edged', 'kunstformen', 'natur', 'pressed', '393', 'chile', \"qur'an\", 'layout', 'loses', 'transcriptions', 'acoustics', 'surrey', 'cooper', 'ultimate', 'knows', 'remnants', 'jubal', '1889', 'forcibly', 'websites', 'cabot', 'demands', '186', 'stiff', 'tide', 'plurality', 'penny', 'coup', 'persecution', 'asylum', 'harmony', 'giants', 'frames', 'rear', \"elephants'\", 'pygmy', 'dirt', 'coordinate', 'allomothers', 'sabi', 'unexpected', '1930', 'instituted', 'conquered', 'televised', 'snowy', 'rearing', 'subtle', 'inform', 'fertility', 'louise', 'ppp', 'financially', 'monograph', 'articulation', 'commissioners', 'shade', 'spurred', 'obscure', 'sightings', 'throne', 'neighbor', 'comptroller', 'montenegro', 'illness', 'affliction', 'burnt', 'astonished', 'discharge', 'formulation', 'dispatch', 'adamant', 'brilliant', 'hibernation', 'cubic', 'kindergarten', 'clues', '497', 'floyd', 'tasks', 'biographical', 'durable', 'masters', '1670', 'stringing', 'encyclopaedia', 'coffee', 'vigorously', 'reject', 'expressions', 'enthusiasts', 'implies', 'homage', 'persistent', 'check', 'organisms', 'predatory', 'alumni', 'howard', 'hazardous', 'culminating', '1603', 'missionaries', 'slimmer', 'goose', 'fresh', 'odd', 'entity', 'malta', 'op', '94', 'stretches', 'lifted', 'warmer', 'reproductive', 'competitors', 'stars', 'sunlight', 'directions', 'circulation', 'cannon', 'bob', 'versus', 'schemes', 'kalimantan', 'sulawesi', 'presbyterians', 'guild', 'animosity', 'swimmers', 'luxembourg', '1844', 'guidance', 'realistic', 'adjusting', 'storms', 'curious', 'zhao', 'specialists', 'ethnologue', 'corresponded', 'preface', 'prefix', 'worldâ\\x80\\x99s', 'amager', 'brã¸ndby', 'relocated', 'formidable', 'supporter', 'cent', 'laying', 'whenever', 'subfamilies', 'floods', 'laurier', 'quã©bã©cois', 'enforcement', 'rcmp', 'evolve', 'palestinian', 'identities', 'challenging', 'forested', 'herbivores', 'susceptible', 'planes', '582', 'flights', 'developments', 'assuming', 'saigon', 'dispatched', 'breath', 'usd', 'belonging', '550', 'terrain', 'lineages', 'alienated', 'imagination', 'maria', 'farewell', 'buddhist', 'critically', 'strait', 'missionary', 'painful', \"college's\", 'punish', \"jefferson's\", 'quasi', 'aptitude', 'sorts', 'followers', '119', 'forelimbs', 'exporters', 'reservoir', 'toy', 'aldrich', 'superorder', 'enchanted', 'ectotherms', 'ambient', 'pelochelys', 'cantorii', 'dwarfs', 'attains', '31â½', 'geochelone', 'meiolania', '670', \"cttc's\", 'trivia', 'padloper', 'chelydra', 'serpentina', 'backyard', 'retinas', 'subtypes', 'sensitivities', 'uv', 'snap', 'serrated', 'encases', 'epidermis', 'fibrous', 'keratin', 'seams', 'buccal', 'secondly', 'streamlined', 'plastrons', 'scute', 'sloughed', 'rubs', 'outstretched', 'pond', 'restricts', 'stride', 'paddle', 'clamber', 'riverbanks', 'floating', 'bask', 'paddles', 'propulsion', 'rudders', 'steering', 'mobility', 'dash', 'laboriously', 'forwards', \"haeckel's\", 'mesozoic', 'backbones', 'odontochelys', 'semitestacea', 'guangling', 'ting', 'jun', 'clue', 'anatomical', 'jurassic', 'anapsida', 'procolophonids', 'zygomatic', 'procolophonoids', 'procolophonoidea', 'debraga', '453', '455', 'zardoya', 'affinities', '14226', '14231', 'phylogenies', 'anapsids', 'reptilian', 'herpesviruses', 'herpesviridae', 'spiked', 'ankylosaurs', 'salmonella', 'discontinue', 'loophole', 'gctts', 'faq', 'intrastate', 'd1', 'invasive', 'albino', 'pastel', 'newszap', 'é¾\\x9c', 'delicacy', 'jelly', 'powdered', 'herbal', 'lauderdale', 'harvesters', 'tampa', 'gobbling', 'craig', 'pittman', 'adwaita', 'araripemys', 'arturi', 'slider', 'uc', 'paleontology', 'studbook', 'legler', 'outraged', 'electrophorus', 'fricatives', 'townships', 'mystical', 'groundwork', 'jacob', 'sins', 'papal', 'epitaph', '1659', 'rosicrucian', 'elasticity', 'symphonic', \"group's\", 'francesco', 'martinique', 'exert', 'affinity', 'shielding', 'swansea', 'anchor', 'shepherd', 'competing', \"i'm\", 'delaware', 'listened', 'insisted', 'lacking', 'celebration', 'consequent', 'sp', 'controlling', 'regulating', 'liked', 'conferences', 'avert', 'pearson', 'afghanistan', 'labrador', 'rocky', 'testing', 'straits', 'publishers', 'headquartered', 'fierce', 'possesses', 'raises', 'leo', 'bruce', 'lift', 'athletics', 'potentially', 'natively', 'boasts', 'virgin', 'contacted', 'spiritual', 'rally', 'abc', \"d'ivoire\", 'harm', 'abundance', 'cougar', 'accidentally', 'highlands', 'paternal', 'honolulu', 'cancel', 'protests', 'strengthening', \"island's\", 'marble', \"jackson's\", 'owner', 'systematic', 'peculiar', 'averted', 'opportunistic', 'russians', 'clock', '7th', '2015', 'ellen', '2h', 'hindustani', 'indefinite', 'orthography', 'authentic', 'derek', 'patrick', 'tea', 'informed', 'underway', 'loyal', 'siege', 'fascinated', 'pondered', 'lewis', 'statues', '02214199x10', 'felicita', 'decimal', 'ou', 'nombre', 'folded', 'tooth', 'weed', 'notch', 'diplomat', 'businesses', 'managing', \"harding's\", 'dawes', 'yukon', 'multiculturalism', 'tributary', '2017', 'cbc', 'distinctions', 'abdel', 'israeli', 'gradual', 'detect', 'reputed', 'hindus', 'ugric', 'vantaa', '92', 'adjectives', 'leslie', 'wool', 'scout', 'expenses', 'detroit', 'petition', 'strengthen', 'emerging', 'rufus', 'creature', 'affecting', 'accounting', 'reverend', 'wraps', 'circles', 'continents', 'customary', 'ellis', 'precious', 'colloquially', 'cornell', 'schaller', 'altitudes', 'births', 'sg', 'finances', '474', 'projecting', 'staged', 'descriptive', 'slim', 'depletion', 'insulate', 'ursus', 'tapered', 'walruses', 'algae', 'poisoning', 'dormant', 'quota', 'thani', 'emir', 'hamad', 'classics', 'orchard', 'conversations', 'oyster', 'icc', 'pavia', 'peregrini', 'teresa', 'unintelligible', 'reprint', 'pollinators', 'khan', 'manchu', 'unaccompanied', 'compositions', 'rostropovich', 'saddle', 'nucleus', 'inca', 'hyde', 'generalization', \"violin's\", 'hammered', 'nylon', 'mandolin', 'amplified', 'radius', 'harpsichord', 'viennese', 'pianists', 'zanzibar', 'raid', 'sentiment', 'deist', 'witnessed', 'oath', 'justified', 'idaho', 'karlsruhe', 'nuremberg', 'horizontally', 'renominated', 'gompers', 'brigadier', 'katrina', 'haiti', 'breton', '450', 'icon', 'farmed', 'overcome', 'fan', 'connects', 'warning', 'rounded', 'comparisons', 'chances', 'owen', 'steve', '1860s', 'reparations', 'romani', 'admiral', 'owns', 'patricia', 'exposes', 'reliance', 'targeting', 'intent', 'complaints', 'encouraging', 'prove', 'elimination', 'enjoyment', 'accommodation', 'discipline', 'diego', 'replies', 'presenting', 'warsaw', \"man's\", 'nights', 'blindness', 'subsidiary', 'succeeding', 'hart', 'sparks', 'isles', 'accompanying', 'nowadays', 'smithsonian', 'quiz', 'imperative', 'percussive', 'studios', 'emanating', 'flugelhorn', 'strips', 'delicate', 'nancy', 'homestead', 'store', 'stuart', 'owning', 'filing', 'rebel', 'wearing', 'surgeon', 'ridge', 'connecticut', 'caricature', 'quaregna', 'cerreto', 'ions', 'liceo', 'submitted', 'glad', 'statuto', 'albertino', 'sober', 'mazzé', 'sardinian', 'plotters', 'organising', 'concession', \"albert's\", 'meteorology', '0221415', 'compute', 'chemists', 'concise', \"lamétherie's\", 'chimie', 'lussac', 'keener', 'densités', 'présumées', 'gaz', 'uns', 'composés', 'servir', 'à', \"l'essai\", 'même', 'sujet', 'publié', 'juillet', 'considérations', 'théorie', 'ramener', 'composès', 'organiques', 'lois', 'ordinaires', 'fisica', 'ponderabili', 'ossia', 'trattato', 'costituzione', 'andré', 'ampère', 'combinent', \"d'après\", 'dont', 'particules', 'intégrantes', 'composées', 'indifferent', 'gerhardt', 'laurent', 'williamson', 'vapour', 'inorganic', 'stanislao', 'cannizzaro', 'dissociations', 'hundredth', 'clausius', 'confirmation', 'analogies', \"'t\", 'morselli', 'kluwer', '9027716242', 'hardened', 'fashionable', 'advocate', 'dabbling', 'quacks', 'practices', 'humiliated', \"shi'a\", 'complain', 'singer', 'leonard', 'dwindled', 'tear', \"male's\", 'seeds', 'exceptionally', 'sisters', \"children's\", 'predominant', 'codified', 'enjoying', 'melodies', 'meal', 'fare', 'kappa', 'walker', 'dedication', 'compete', 'carcasses', 'ecological', 'flee', 'oscar', 'homo', 'protestantism', 'dexterity', 'foundry', 'bargaining', 'compact', 'pulitzer', 'targeted', 'chronicles', 'clarity', 'exceed', 'photography', 'brooklyn', 'hardware', 'abalone', 'videos', '1711', 'optional', 'remarks', 'observe', 'exchanged', 'migrant', 'integrate', 'binding', 'shortened', 'villa', 'ludovico', 'lire', 'subjunctive', 'livres', 'jansenism', 'ensemble', 'breaks', '1560', 'ropes', 'plastics', 'curvature', 'tale', 'ferguson', 'conservatory', 'expect', 'neighbors', 'militia', 'practicing', 'salmon', 'declaring', 'execute', 'objective', 'wilkes', 'borealis', 'mimicry', 'employing', 'depicting', 'professionals', 'messages', 'circa', 'angered', 'composite', 'lithuanian', 'rspca', 'instability', '1954', 'subjected', \"bahã¡'ã\\xad\", 'path', 'clearing', 'senses', 'keepers', 'instinct', 'fences', 'victorian', 'albums', 'subgroup', '1600', 'processed', 'cnn', '435', 'permit', 'jennifer', 'financing', 'kazakhstan', 'attach', 'chasing', 'rodents', 'inefficient', 'bering', 'immune', 'utilize', 'humanitarian', 'neighborhood', 'utama', 'badminton', 'busy', 'forepaws', 'jet', 'hosting', 'orca', 'sibiu', 'artist', 'tens', '04', 'vincent', 'dent', 'galena', 'artigas', 'estancia', 'switching', 'prc', 'aristotelian', 'screw', 'bach', 'guarneri', 'inflections', 'mozart', 'semitones', 'dizzy', 'wynton', 'marsalis', 'copperheads', 'generous', 'diggins', 'boys', \"wife's\", 'heaven', 'writ', 'exploited', 'perpetual', 'allan', 'incensed', 'appomattox', 'defied', 'ladybirds', 'carabidae', 'coleopterists', 'intervened', 'dinner', 'barry', 'moments', 'producer', 'environs', '438', 'silly', 'cit', 'sudanese', 'armenian', 'peaked', 'blows', 'famed', 'hairy', 'drunk', 'prominently', 'anthem', 'titles', 'xv', 'consideration', 'namesake', 'farming', 'encourage', 'humiliation', 'vowed', 'southerner', \"elizabeth's\", 'seminole', 'scherr', 'southampton', 'wrought', 'heating', 'suppress', 'rhine', 'nearest', 'adventures', 'tara', 'slovenia', 'optic', 'duplicate', 'milan', 'suit', 'html', 'mimic', 'hotels', 'romã¢n', 'lui', 'cu', 'ã®n', 'principalities', 'vlad', 'mihai', 'desperate', 'stä\\x83nescu', 'ceauå\\x9fescu', 'iliescu', 'timiå\\x9foara', 'tap', 'eminescu', 'constituencies', 'terminus', 'pillow', 'rhea', '8071', 'segregation', 'anastasio', 'fascinating', \"''de\", 'ignis', 'electrici', 'phaenomenis', 'inde', 'pendentibus', 'wilcke', 'detector', 'potentials', 'emfs', 'luigi', 'experimented', 'goblets', 'squeeze', 'nicholson', 'tiberius', 'cavallo', 'bennet', 'reacts', 'bubbles', 'depositing', 'unsafe', 'finishes', 'giuliano', 'pancaldi', 'copley', 'discovories', 'toyota', 'alessando', 'investigations', 'taxis', 'calculators', 'evangelista', 'auvergne', '1631', 'desargues', 'pã¨re', 'mã©tiers', 'conic', 'hexagram', 'conics', 'vertices', 'subsection', 'connor', '1653', 'probabilities', 'cycloid', 'huygens', 'pseudonym', \"l'art\", 'persuader', 'axioms', 'montaigne', 'hydrostatics', '1646', 'replicated', 'impossibility', 'puy', 'dã´me', 'minim', 'fortunately', 'monsieur', 'deslandes', 'bouteillerie', 'passions', 'mesnard', 'complã¨tes', 'casuistry', 'satire', 'rousseau', 'nuns', 'jansenists', 'ascetic', 'stomach', 'luthier', 'rosewood', 'quatre', 'dungan', 'minnan', 'transliterations', 'ã\\x98resund', 'nã¸rrebro', 'carlsberg', 'tivoli', 'holed', 'gottfried', 'genres', 'newington', 'butts', 'bytown', 'quá»\\x91c', 'ä\\x83', 'offglide', 'ä\\x90ã¬nh', 'hoã\\xa0', 'promoting', 'fledgling', 'couple', 'evidenced', 'articulated', 'acres', '1742', 'reduction', 'cox', 'noteworthy', 'surpluses', '1849', 'unwritten', 'aerospace', 'hydroelectric', 'logging', 'extravagant', 'giza', 'muhammad', '237', 'conviction', 'interaction', 'reformer', 'uncertainty', 'daughters', 'tracts', 'approaching', 'cedi', 'distribute', 'canine', \"wolves'\", 'visually', 'sessions', 'affects', 'mongolian', 'gently', 'evident', 'goats', 'track', 'ordering', 'interventionist', 'sympathies', 'barrier', 'differential', 'analyses', 'oberland', 'prussia', 'conformity', 'kunstmuseum', '5000', 'renting', '433', 'bibliography', '105', 'fastest', 'basically', 'borrowing', 'cites', 'palestine', 'bumblebee', 'inlay', 'harder', 'hidden', 'twickenham', 'brunel', 'decomposed', 'nepean', 'kanata', 'steamboat', 'sparsely', 'intimate', 'defenders', 'consistency', 'delay', 'govern', 'justification', 'interact', 'widened', 'decay', 'foster', 'journals', 'solicitor', 'ballots', 'remarked', 'twenties', '1689', 'assert', 'choices', 'pike', 'revived', 'overview', 'prepare', 'encouragement', 'easter', 'crete', 'infrasound', 'happens', 'discover', 'pathways', 'picking', 'buddhists', '1941', 'reviews', 'accents', 'sonata', 'publishes', 'drivers', '25th', 'infant', \"mary's\", 'sounded', 'fitting', 'clinton', 'enhance', 'permits', 'truce', 'dealt', 'poster', \"''\", 'maluku', 'schwarz', 'networks', '1690', 'discrete', 'unterland', 'seize', 'reigning', 'liechtensteiners', 'feldkirch', 'buchs', '1828', 'downloadable', 'perfectly', 'scat', 'upwards', 'sterling', 'mitchell', 'georgetown', 'starts', 'stamford', 'romanized', 'chinatown', 'augmented', 'inspect', 'wore', 'dixon', 'sentences', 'pollination', 'fingertip', '1757', 'eaux', 'blois', 'austroasiatic', 'loaned', 'woodwind', 'ocarina', 'ducted', 'chimney', 'duct', 'boehm', 'plectrum', \"'mad\", \"jack'\", 'consort', 'scordatura', 'camp', 'blair', 'hoping', 'escaped', 'belongs', 'capitalism', 'montana', 'carolus', 'exploit', 'carrion', 'amateur', 'cary', \"workers'\", 'parlor', 'quotation', 'judaism', 'tags', 'mallard', 'concluding', 'protectorate', 'saharan', 'feeling', 'mainstream', 'hollywood', 'champions', 'arched', 'ordinarily', 'protective', 'gland', 'concessions', 'exotic', 'urbanisation', 'iceland', 'alma', 'tie', 'sweet', 'wherein', 'niger', 'southward', 'undercoat', 'departure', 'confrontations', 'carpathian', 'ukraine', 'sharply', 'freight', 'lit', 'bombing', '167', 'compensated', 'workshop', 'backing', 'weaving', \"one's\", 'hurt', 'deferred', 'overweight', 'dawson', '1836', 'considerations', 'czechoslovakia', 'wholly', 'hu', 'excluding', 'polytechnics', 'parisian', 'lyra', 'temperament', 'lucas', 'neighborhoods', 'endings', 'projection', 'bowl', 'isle', 'sect', 'acoustical', 'iowa', 'fascination', 'bypass', 'blake', 'beveridge', 'prosperous', 'joshua', 'trips', 'sealed', 'commanders', 'overland', 'advancement', 'criteria', 'automobile', 'nickname', '1741', 'differentiated', 'strongest', 'toxic', 'spray', 'preying', 'everywhere', 'sands', '98', 'violently', 'ph', 'upward', 'tearing', 'intimidate', 'perception', 'thunder', 'nutrition', 'discharges', 'estrus', 'mtv', 'enforce', 'conclusion', 'aides', 'merchant', 'saturday', 'lacks', 'singing', 'weaker', 'supplying', 'complained', 'abuses', 'suppressed', 'threatens', 'shrinking', 'correction', 'irregularly', \"men's\", '1797', 'climbing', 'albany', 'habituated', 'cannibalism', '1712', 'remedy', 'isabelline', 'palaeeudyptinae', 'northwards', 'handedness', 'winners', 'malaysian', 'ideological', 'creole', 'neighbourhoods', 'morocco', 'precursor', 'resumed', 'wayne', 'aramaic', 'dialectal', 'emphatic', 'learners', '521', 'nodes', 'pianoforte', 'pernambuco', 'masonries', 'pieter', 'musschenbroek', 'intendant', 'geotechnical', 'qualities', 'barnard', 'polarisation', 'colloids', 'linearly', 'oft', 'sostenuto', 'debated', 'prison', 'waste', 'nationally', 'allegiance', 'actor', 'meridian', 'melbourne', 'smile', 'crane', 'vying', 'proposing', '113', 'picked', '261', 'lamp', 'spite', 'addressing', 'polity', 'viceroy', 'eastward', \"1990's\", 'anatidae', 'worship', 'transparent', 'suggesting', 'progressively', 'creative', 'inhabit', 'sexes', 'breeze', 'revolves', 'shrubs', 'hereditary', 'crushed', '171', 'protects', 'amounted', 'precise', 'concurrently', 'klaus', '287', 'prix', 'finals', 'approached', 'scouts', 'trophy', 'reasonable', 'nelson', '165', 'aging', 'weaned', 'moods', 'mane', 'snare', 'installing', 'tying', 'braintree', 'barton', 'dissertation', 'contemporaries', 'tired', 'enormously', 'comte', '1780', 'turgot', 'aaron', 'refashioned', 'minds', 'universalist', 'insists', \"leopard's\", 'counts', 'johann', '27th', 'intensifying', 'spiral', 'nephew', 'imagined', 'dragon', 'unlimited', 'memorized', 'attaching', 'connoisseur', 'imaging', 'eudyptula', 'waimanu', 'paleogene', 'balloon', 'literal', 'correspond', 'di', '176', 'operators', 'stalls', 'licensed', 'eloquent', 'rope', 'poetic', 'fer', 'rosin', 'expressive', 'heel', 'ponticello', 'tasto', 'quadruple', 'baptiste', 'yes', 'abbott', 'fingerboards', 'vibrates', 'destiny', '380', 'breckenridge', 'implied', 'envelope', 'concrete', 'powered', 'blend', 'contrasting', 'excavated', 'involvement', '136', 'profits', 'incursions', 'volleyball', 'unaware', 'eagles', 'saad', 'zaghlul', 'hosni', 'arabism', 'nour', 'urbanization', 'troop', 'rumours', 'noticeable', 'quantify', 'aids', 'ceramic', 'unofficial', 'acclaim', 'shadow', 'massacre', 'consumer', 'reinforced', 'compliance', 'larry', 'virtues', 'wage', 'diploma', 'fairy', 'hyena', 'encroach', 'slogan', 'ha', 'beito', 'lorieux', 'conrad', 'bromide', 'emulsion', 'curie', 'provisions', 'shop', 'cheetah', 'superstitious', 'abdicated', 'pointing', 'impoverished', 'roommate', '082', 'reneged', 'illuminate', 'logic', 'explanations', 'proprietor', 'inquiry', 'cigar', 'destitute', 'recognizing', 'instructed', 'reveal', 'behaved', 'streak', 'creditors', 'schedule', 'gazetteer', 'wiley', 'palo', 'smash', 'bahraini', \"state's\", 'spectacular', 'computers', 'laut', 'punishment', 'afternoon', 'bulloch', 'poorly', 'buy', '21st', 'retains', 'beiping', 'fm', 'fiberglass', 'pins', 'perpendicular', 'bajet', 'collã¨ge', 'monnier', 'danyzy', 'mã©ziã¨res', 'rochemore', 'escarpe', 'supportings', 'rochelle', 'aix', 'cherbourg', 'fontaines', 'feeble', 'thã©orie', 'ayant', 'ã©gard', 'frottement', 'roideur', 'cordages', 'viscosity', 'recherches', 'thã©oriques', 'expã©rimentales', \"l'ã©lasticitã©\", 'fils', '569', '577', 'â\\x80\\x9chow', 'angleâ\\x80\\x9d', 'experimentally', 'â\\x80\\x9ctwo', 'electrified', 'otherâ\\x80\\x9d', 'sã©cond', '611', 'â\\x80\\x9cdetermination', 'attractionâ\\x80\\x9d', 'troisiã¨me', '638', 'â\\x80\\x9con', 'idio', 'electricâ\\x80\\x9d', 'quatriã¨me', 'elective', 'expands', 'cinquiã¨me', 'sixiã¨me', 'septiã¨me', 'mã©moires', 'classify', 'rhyme', 'hanja', 'drummers', 'loud', 'electrochemistry', 'bathâ\\x80\\x99s', 'farad', 'coulombs', 'watkins', 'outhgill', 'westmorland', 'blacksmith', 'educations', 'bookbinder', 'bookseller', 'riebau', \"watts'\", 'enthusiastically', 'marcet', 'tatum', 'nitrogen', 'trichloride', \"institution's\", 'apreece', 'miserable', 'stimulating', 'offshoot', 'chlorides', 'glasses', 'endeavoured', 'bicarburet', 'inventing', 'syntheses', 'whewell', 'nanoparticles', 'nanoscience', 'halfpence', 'stacked', 'disks', 'moistened', 'magnesia', 'adlard', 'maull', 'polyblank', 'ã\\x98rsted', 'homopolar', 'faradayâ\\x80\\x99s', 'fruitless', 'endeavors', 'worthwhile', 'zantedeschi', 'breakthrough', 'momentary', 'foley', 'illusory', 'visualize', 'electromechanical', 'polarization', 'polarized', 'notebook', 'illuminating', 'magnetising', 'resided', 'redistribute', 'cage', 'conveyed', 'trigonometry', 'algebra', 'explosions', 'bottoms', 'corrosion', 'stink', 'cleaning', \"public's\", 'mesmerism', 'seances', 'chastising', '125px', 'representations', 'upkeep', \"mason's\", 'flames', 'crimean', 'loughborough', 'hangs', 'â£20', 'chromehounds', 'thermovision', \"hamilton's\", 'acknowledged', 'hesitate', 'disturbed', '389', 'bence', 'pearce', 'agassi', '150px', 'everyman', 'cygnets', 'semitone', 'clavichord', 'cristofori', \"cristofori's\", 'silbermann', 'dampers', 'broadwood', 'grands', 'outspoken', 'allegedly', 'hats', 'whiskey', 'routine', 'alton', 'elect', 'addressed', 'transformation', 'click', 'collect', 'embodied', 'cum', 'loving', 'committees', '243', 'boards', 'northward', 'suppliers', 'spectator', 'erratic', 'industrialization', 'failures', 'rating', 'operates', 'obstacles', 'vocational', 'pictures', 'premolars', 'pad', 'ecosystem', 'reintroducing', 'morph', 'enmity', 'lynx', 'exempt', 'permission', 'susanna', 'trio', 'chapel', 'sure', 'strain', 'updated', 'alleged', 'ewe', 'sequencing', 'juvenile', 'incidents', 'grazing', 'eugene', 'hugely', 'provenance', 'commemorating', 'amsterdam', 'functioning', 'unitarian', 'commonplace', 'subsaharan', 'afford', 'badly', 'im', 'fã¼r', 'template', '650', 'violation', 'sapiens', 'precipitation', 'fortified', 'sang', 'orchid', 'aviation', 'thanks', 'extraordinarily', \"isn't\", 'viceroyalty', 'voiced', 'tiananmen', 'jesuits', 'subway', 'lifestyle', \"copenhagen's\", 'biotech', 'kensington', 'clarendon', 'unison', 'cooperate', 'scare', 'paine', 'burying', 'surveyor', 'armstrong', 'impasse', 'adamantly', 'recommended', 'appoint', '576', 'enters', 'concludes', 'highlighted', 'uprising', 'conspirators', 'unconstitutional', 'somehow', 'tips', 'pin', 'emigrated', 'industrialized', '1783', 'westward', 'nesting', 'modernization', 'pains', 'gutenberg', 'cyclotis', 'depigmentation', 'cutting', 'wallowing', 'kruger', 'seleucid', 'eleazar', 'invested', 'laos', 'secretion', 'socialists', 'legally', 'belgium', 'spices', 'measured', 'hitting', 'engagement', 'unconditional', 'guilt', 'invade', 'timor', 'phrasing', '240', 'embrace', 'colors', 'rarer', 'trademark', 'discoverers', 'polytechnique', 'ponts', 'chaussã©es', 'dã©sirã©e', 'musã©um', 'phosphorescence', 'potassium', 'uranyl', 'sulfate', 'lumiã¨re', 'slab', 'silhouette', 'pierced', 'emits', 'opaque', 'comptes', 'rendus', 'carmen', 'giunta', 'croisic', 'bq', 'package', 'averaging', 'rector', 'seaport', 'pump', 'hated', 'recall', 'adversity', 'bicameral', 'lend', 'bradley', 'resembled', 'tawny', 'overlooking', 'josef', 'baccalaureate', 'designing', 'naturalized', 'advantages', 'transmitting', 'hertz', 'assigns', 'amplifying', 'warp', 'vastly', 'wired', 'weasels', 'polecats', 'badgers', 'romp', 'roadkill', 'toxins', 'otr', 'otor', 'oter', '253', 'initiatives', 'proceed', 'sabah', 'sarawak', 'singapura', 'nila', 'syonan', 'yusof', 'ishak', 'jemaah', 'islamiyah', 'hsien', 'loong', 'analysts', 'seow', 'chee', 'stabilizing', 'causeway', 'tuas', 'bukit', 'timah', 'reclamation', 'newater', 'shipped', 'gst', 'infocomm', 'operationally', 'reservist', 'chinook', 'mariamman', \"'singapore\", \"residents'\", 'eurasians', 'nanyang', 'singlish', 'halal', 'esplanade', 'nbl', 'coss', 'uob', 'oub', 'psa', 'lrt', 'ku', 'hannah', '214', 'discredit', 'portsmouth', 'knopf', 'jesuit', 'entertained', 'resisted', 'introducing', 'knox', 'bengali', 'sicily', 'tapes', '1660', 'violone', 'mstislav', 'spalla', 'crack', 'basses', 'adjustable', 'webber', 'yo', 'sofa', '1748', 'slang', 'contrabass', 'tunes', 'columbianus', 'tigress', 'bracing', 'niibori', 'archtop', 'rosette', 'inlaid', 'mæ°á»\\x9dng', 'ho', 'alves', 'nh', 'insurrection', 'totaling', 'trail', 'worms', 'laissez', 'peters', 'meetings', 'seasonal', 'richer', 'pools', 'avian', 'attracts', '69', 'sultan', 'antiquities', \"africa's\", 'crop', 'tame', 'shoot', 'hindi', 'fatal', 'obligations', 'readiness', '1890s', 'competitions', 'wonderful', 'nationals', 'concord', 'reintroduced', 'domination', 'dreams', 'franca', 'lining', 'inflicted', 'preferable', 'twin', 'oral', 'noticed', 'starving', 'applicable', 'lethal', '146', 'injunction', 'findings', '164', 'balinese', 'performances', 'tours', 'efficiently', 'signaled', 'cars', 'faded', 'vicious', 'recognizable', 'fallen', 'outlets', 'grams', 'oslo', 'bulgarians', 'gothic', 'chambers', 'barcelona', 'super', 'polo', 'lengths', 'josã©', 'violated', 'adequate', 'fronts', 'liberian', 'lest', 'informally', 'dot', 'ascii', '1700', 'dem', 'etymologies', 'eerie', 'alchemist', 'factions', 'infancy', 'theme', 'straw', 'honesty', 'crops', '187', 'originate', 'refuse', 'brave', 'shores', 'raided', 'jill', 'resultant', 'booming', 'criticize', 'entrepreneurs', 'laureates', 'oud', 'drought', 'comparative', 'burning', 'cows', 'stuck', 'veterinary', 'collar', 'greenhouse', 'activist', 'bordering', 'willow', '158', 'hiking', 'lively', 'linux', 'competed', 'magnificent', 'antiaircraft', 'nod', 'tape', \"you've\", 'oliver', '160', 'bids', 'colonialism', 'apex', 'pads', 'tunnel', 'hunts', 'tells', 'carnivore', 'discontinued', '161', '328', 'albeit', '440', 'kilometers', 'congestion', 'import', 'livingston', 'congressmen', 'favoring', 'coalesced', 'hamburg', 'purchases', 'wwi', 'palaces', 'paths', 'surprising', 'matriculated', 'memorizing', 'forerunner', 'asset', 'retina', 'airplane', 'obverse', 'courtesy', 'replicas', 'lutrinae', 'mustelidae', 'bitches', 'underfur', '10â°c', 'crayfish', 'waterlogged', 'morro', 'kamchatka', 'unprofitable', 'urchins', 'topped', 'chlorinated', 'hydrocarbon', 'envisages', 'gallant', 'vasseur', 'bã©rubã©', 'unveiling', '258â\\x80\\x93265', 'longicaudis', 'clawless', 'clawed', 'brian', 'rudimentary', '660', '310', '137', 'f1', 'facilitated', 'editions', 'carlos', 'htm', 'brahms', 'mellow', 'piatti', 'entries', 'crafted', 'disguised', 'sentiments', 'perry', 'clay', 'promising', 'peer', 'oppose', 'dozen', 'astronomy', 'sky', 'policemen', '238', 'pen', '190', 'divorced', 'severed', \"britain's\", 'totem', 'leagues', 'runner', 'funds', 'mosques', 'organised', 'nose', 'alps', 'jungle', 'eleventh', 'juha', 'janhunen', 'uralic', 'alvar', 'aalto', 'eduskunta', 'tarja', 'matti', 'fuels', 'nokia', 'cruises', 'savonlinna', 'karelian', 'mika', 'saarinen', 'pekka', 'timo', 'sanomat', 'berries', 'rã¤ikkã¶nen', 'scored', 'tables', 'max', 'rebuilding', 'drift', 'diamond', 'horror', 'maternal', 'considers', 'stakes', 'harassment', 'situations', 'modification', 'condensed', 'flocks', 'concentrate', 'dispersal', 'criminals', 'frances', '168', 'debs', 'jonathan', 'hornblower', 'aceh', 'oct', 'tni', '52â\\x80\\x9357', 'calhoun', 'innumerable', 'avow', '557', 'milling', 'thorough', 'anonymously', 'framing', 'contended', 'tombs', \"york's\", 'kossuth', 'johnny', 'prague', 'goat', 'uncertainties', 'recycled', 'cola', 'las', 'commuting', 'joe', 'mombasa', 'keith', 'diplomacy', 'yemen', 'render', 'verbal', 'kh', 'lexicon', 'designers', 'elevation', 'vulpes', 'protestants', 'drone', 'fiddling', 'sord', 'stowell', 'saa', 'sixteenth', 'audiences', 'strenuous', 'afraid', 'campaigning', 'covenant', 'renomination', 'gunshot', 'severity', 'rushmore', 'retention', 'notorious', 'collectors', 'opinions', 'murray', 'arbitrate', '142', 'expenditures', 'diversified', 'automatically', 'nickel', 'mandatory', 'flags', 'duckling', 'generic', 'museo', 'hanging', 'grandson', '1922', 'drafted', 'arrest', 'indices', 'competitive', 'suspects', 'earner', 'productivity', 'vibrant', 'crimes', \"bahã¡'ã\\xads\", 'advocating', 'beginnings', 'straighter', 'disabled', 'transitional', 'centimetres', 'nails', 'moore', 'legged', 'everyone', 'demise', 'patches', 'eliminating', 'clip', 'unpredictable', 'drunkenness', 'peaceful', 'reformation', 'fees', 'motorway', 'eurovision', 'stepfather', 'hearts', 'marrying', 'webb', 'kissinger', '595', 'failing', 'finds', 'fenrir', 'paw', 'omega', 'domain', 'resentment', 'martial', 'staple', 'schooled', 'precision', 'conversationalist', 'perfection', 'ssc', 'sierra', 'caves', '665', 'matthews', 'incorporation', 'admit', 'pierce', 'cloud', 'load', 'closure', '97', 'russo', 'monsoon', 'enhanced', 'directory', 'stewart', 'collier', 'scripture', 'copy', 'ahead', 'beach', 'babcock', 'suriname', 'estadistica', 'punta', 'este', 'uvular', 'ingram', 'accessible', 'vide', 'haydn', 'monosyllabic', 'coda', 'isolating', 'istanbul', 'velocity', 'finite', '1698', 'kent', 'arturo', 'gloucester', 'osgoode', 'barrhaven', 'ncc', 'transitway', 'midi', '307', 'freshman', 'forgotten', 'duff', 'almanac', 'depth', 'looming', 'fredericksburg', 'fortress', 'pistol', 'beard', 'individually', 'chestnut', 'scandals', 'classmates', 'graces', 'lawless', '143', 'unfinished', 'solemn', 'pershing', 'mellon', 'dean', \"queen's\", 'appoints', 'localised', 'epoch', 'evangelical', 'weddings', 'receives', 'wooded', 'poachers', 'harvest', 'bolshevik', 'ubiquitous', 'influencing', 'subdivisions', '416', 'provoking', 'billy', 'gould', 'liturgical', 'mask', 'ambiguous', 'yearly', 'jackals', 'beta', 'taxonomic', 'altaic', 'celebrations', 'stabilized', 'firearms', 'flanks', 'pelt', 'accomplishment', 'srivijaya', 'holmes', 'coalitions', 'perkins', 'deportation', 'acre', 'logos', 'pale', 'styled', 'comment', 'profitable', 'ozone', 'innovative', 'regeneration', 'nr', 'splitting', 'localities', 'gymnast', 'upstream', 'utilities', 'hectare', 'undertake', 'daring', 'klux', 'cincinnati', 'sad', 'revision', 'underneath', 'prevalent', 'roberto', 'guoyu', 'syntax', 'eg', 'abolitionist', 'reunite', 'mcpherson', 'admirer', 'proving', 'johnston', 'abe', 'sugar', 'shields', 'herndon', 'hell', 'barret', 'pledge', 'horace', 'greeley', 'bodyguard', 'unionists', 'conditional', 'gideon', 'douglass', 'brooks', 'repudiated', 'youthful', \"mcclellan's\", 'burnside', 'offensive', 'fights', 'morale', 'sheridan', 'sumner', 'assassinate', 'physicians', 'relating', 'photographed', 'philosophies', 'agendas', '1730', 'leptinotarsa', 'decemlineata', 'weevil', 'veins', 'coxae', 'sclerites', 'appendages', 'concealed', 'arthropods', 'exoskeleton', 'curculionidae', 'mouthparts', 'mandibles', 'whirligig', 'dytiscidae', 'sedentary', 'scarabaeidae', 'myxophaga', 'devastation', 'entomology', 'assembled', 'expressing', 'drafting', 'contracted', 'chills', 'neighbour', 'beaver', 'bilingualism', 'presumed', 'prehistory', 'advisors', 'define', 'approves', 'card', \"region's\", 'governorates', 'metre', 'excitement', 'placenames', 'pirates', 'speaks', 'sibelius', '320', 'migrants', 'resistant', 'muzzles', 'ovulation', 'saving', 'instances', 'sheriff', 'rica', 'asean', 'hunger', \"war's\", 'refusal', 'vitality', 'republics', \"university's\", 'jstor', 'tailed', 'remove', 'outlying', 'theatres', 'mythic', 'schlesinger', 'mar', 'columbian', 'infrared', 'brings', 'derivative', 'che', 'traian', 'rumã¢n', 'pentru', 'mare', 'voo', 'romã¢ni', 'å¢ara', 'anina', 'dacians', 'goths', '275', 'bran', 'suzerainty', 'dracula', 'transylvanian', 'ioan', 'iaå\\x9fi', 'dobruja', 'balkan', 'holocaust', 'nicolae', 'cult', 'comuniste', 'fsn', 'undemocratic', 'biosphere', 'constanå£a', 'craiova', 'galaå£i', 'tutoring', 'pharmaceuticals', 'focuses', 'sighiå\\x9foara', 'merry', 'nichita', 'socialist', \"brancusi's\", 'zamfir', 'masterpiece', 'presentation', 'nuts', 'insistent', 'empress', 'radically', 'scenic', 'tolerated', 'quartermaster', 'hesseltine', 'reinforcements', 'retreated', 'spotsylvania', 'tactics', 'eicher', 'revitalized', 'grebo', 'speculation', 'belknap', 'korn', 'objected', 'fading', 'garfield', 'slipped', 'davidson', 'anarchist', 'telling', 'benedict', 'diglossia', 'stingless', 'bumblebees', 'liao', 'hutongs', 'fragmentary', 'fingered', 'sustaining', 'violas', 'arco', 'guangdong', 'macau', 'pictographs', 'ideographs', 'zhuang', 'syllabic', 'cã\\xad', 'dropping', 'æ²\\x99ç\\x99¼', 'monocle', 'vesterbro', 'kongens', 'taastrup', 'jacobsen', 'pipes', 'ã¢', 'notation', 'pi', '674', 'miraflores', 'cono', 'norte', 'lutes', 'tanbå«ra', 'spacing', '1820s', 'hanks', 'affectionate', 'overwhelming', 'crime', 'counsel', 'emphasize', 'myself', 'dick', 'stained', 'examined', 'immigrant', 'dwelling', 'adaptability', 'stearns', 'nominate', 'dominican', 'exceeding', 'hull', 'heights', 'haul', 'zones', 'fruits', 'muscle', 'landscapes', 'predicted', 'synonym', 'homes', 'fennoscandian', 'wiped', 'pine', '290', 'draws', 'crippled', 'bribes', 'agency', 'obtaining', 'insurgency', 'discrimination', '1951', 'backed', 'sweat', 'layers', 'facial', 'willing', 'bold', 'ethiopian', 'revered', 'victim', 'mills', 'provisional', 'endemic', 'textiles', 'waterfront', 'fee', 'liable', 'estates', 'fines', 'dogma', 'domiciled', 'hc', 'bowie', 'squid', 'showcase', 'tu', 'ai', 'outline', 'critic', 'celebrate', 'cater', 'doctoral', 'spelled', 'sided', 'santo', 'nationalities', 'kissed', 'morpheme', 'ni', 'zhou', 'meanwhile', 'intrinsic', 'lists', 'mongolia', 'madame', 'braccio', 'bang', 'narrowing', 'magicians', 'bk', 'paired', 'timpani', 'dancing', 'unicode', 'denser', 'guarded', 'stan', 'canary', 'corners', 'una', 'corda', 'supervised', 'challenger', 'assassin', 'wounds', 'procession', '194', 'insurance', 'observatories', 'maupertuis', \"linnaeus'\", 'barometric', 'deviates', 'retracted', 'parasitic', 'infected', 'retire', 'relieve', 'whatever', '101', 'reinforce', 'reservations', 'trustee', 'explored', 'stadacona', 'erupted', \"quebec's\", 'loyalists', \"rupert's\", 'exhibiting', 'wilfrid', 'borden', 'liberation', 'trudeau', 'worry', 'privy', \"minister's\", 'consultation', 'oas', 'prairie', 'horseshoe', 'â\\x88\\x9240', 'g8', 'edmonton', 'forecasts', 'franchises', '245', 'migratory', 'gatherers', 'pharaohs', 'mohamed', 'vatikiotis', 'jankowski', 'naguib', 'anwar', 'activists', 'murphy', 'amendments', 'arbitrary', 'ghali', 'episcopal', 'unconfirmed', 'prevalence', 'eaters', 'sick', 'gallop', 'whale', 'whichever', 'flies', 'domestically', 'myths', 'linda', 'varnish', 'testimony', 'woodward', 'rumsfeld', 'flu', 'fromme', 'patriotic', 'threaten', 'enforced', 'unrestricted', 'intensive', 'indications', 'defunct', 'acquisition', '155', \"walker's\", '8018', '5789', 'alemannic', 'adversaries', 'ills', 'vegetarian', 'kodiak', 'translucent', 'excerpts', 'insulation', 'overheat', 'ethylene', 'glycol', 'decreasing', 'beaufort', 'berlevag', 'killer', 'dump', 'pollutants', 'baffin', 'burnett', 'fws', 'jurisprudence', 'reasoning', 'inappropriate', 'socio', 'attested', 'caucasus', 'possibilities', 'cowboy', 'quentin', 'exams', 'gifford', 'malaria', \"'i\", 'guiana', 'stronghold', 'disability', 'tagalog', 'sh', 'messaging', 'podcast', 'rectangular', 'labels', 'suffice', 'siegfried', 'tops', 'brazilwood', 'chopin', 'skyscrapers', 'permitting', 'acoustically', 'shining', \"uk's\", 'ska', 'ringing', 'accompaniment', 'cones', 'tiáº¿ng', 'minh', 'nho', 'nã³i', 'lã¡i', 'há»\\x99i', 'stature', 'symbolic', 'orleans', 'sales', 'postmaster', 'energies', 'prospective', 'disadvantage', 'endure', 'appealed', \"buchanan's\", '446', 'consciousness', 'push', 'similarities', 'lodge', 'bolt', '112', '317', 'tragedy', 'dear', '239', '1932', '1535', 'exporter', 'inherently', 'similarity', 'colleagues', 'mentioning', 'swims', 'mutation', 'intellectuals', 'disasters', 'winds', 'botswana', 'incorrectly', 'swells', 'researcher', 'tracks', 'bulls', 'disney', 'fi', 'migrating', 'subarctic', 'proficient', 'smoking', 'sufficiency', 'gauge', 'santa', 'kayaking', 'label', 'apocalyptica', 'sportsmen', 'mater', 'slowed', 'exhausted', 'negotiator', 'handling', 'unjust', 'boost', 'cã´te', 'endowed', '530', 'suspicion', 'loudly', 'squat', 'documentation', 'antelope', 'wished', 'subordinates', 'endorsing', 'fathered', 'barring', 'venezuela', 'sore', 'hartford', 'overstated', 'antilopine', 'joeys', 'woodlands', 'fearsome', 'designation', 'searched', 'bike', 'feat', 'diplomas', 'charlotte', 'clutch', 'contention', 'relay', \"europe's\", 'evenly', 'intensely', 'persisted', 'blanco', 'scores', 'versteegh', 'maghrebi', 'ä\\x81', 'kaa', 'buu', 'interdental', 'imperfective', 'jussive', 'cursive', 'sequences', 'mayors', 'jambe', '1556', 'bending', 'spike', 'button', '1740', 'oscillation', 'legato', 'bluegrass', 'giovanni', 'viking', 'combinations', 'godfrey', '288', 'oblong', 'rib', 'flame', 'interval', 'electronically', 'resonating', 'capo', 'undertaking', 'horseback', 'capitol', 'secede', 'swing', 'routed', 'mistreated', 'imprisoned', 'execution', 'probe', 'perspectives', 'variously', 'finer', 'reviewed', 'cultivated', '08', 'separatist', '5â\\x80\\x937', 'telecommunications', 'punjabi', 'grebes', 'drake', 'ende', 'anas', 'quack', 'scaup', 'berrin', 'arqueolã³gico', 'herrera', 'angel', 'coexisted', 'intermediate', 'zionism', 'questioned', 'uncontested', 'believes', 'trials', 'detainees', 'offense', 'propaganda', 'purchasing', 'benefits', 'deserts', 'implicitly', 'dust', '2â\\x80\\x932', 'nutritious', 'burma', 'circus', 'jack', \"harper's\", 'seasonally', 'nicholas', 'exceeded', 'accords', 'augusta', 'raids', \"wasn't\", 'pleaded', 'inherited', 'bankruptcy', 'recruit', 'protesters', 'episcopalian', 'garner', 'gov', 'implementation', 'ritual', 'drastically', 'muzzle', 'ambitious', 'ungulates', 'cd', 'victims', 'stout', 'balancing', 'palm', 'expenditure', 'profession', 'endured', 'ebsco', 'solved', 'macropodidae', 'endeavour', 'adept', 'teat', 'infertile', 'embryo', 'hindleg', 'dreaming', \"word's\", 'daytime', 'mated', 'silesia', 'karl', '162', 'principally', 'beasts', '2016', 'weekend', 'authoritarian', 'patients', 'resorts', 'impregnable', 'restricting', 'reversal', 'curriculum', 'academically', 'complexes', 'alabama', 'stalwart', 'delighted', 'xiii', 'bitterly', 'evans', \"sister's\", 'conjunction', 'downturn', 'nominally', 'guaranã\\xad', 'provincia', 'easterners', 'orientales', 'commodity', 'privatization', 'inequality', 'tabare', 'vazquez', 'estancias', 'ine', 'indigence', 'narrower', 'siculo', 'jordan', 'hum', 'voices', 'sophisticated', 'programming', 'owed', 'contempt', 'resonate', 'partials', 'spreading', 'th', \"church's\", \"latter's\", 'curves', 'punishable', 'applications', 'finely', 'buzzing', 'tarr', 'signaling', 'bugle', 'berlioz', 'leadpipes', 'bergeron', 'jon', 'faddis', 'severinsen', 'sandoval', 'hardenberger', 'sopranos', 'bugles', \"arban's\", 'fischer', '8258', 'drills', 'colin', 'vassily', \"ferguson's\", 'stepwise', \"haydn's\", 'liszt', 'viii', 'desk', 'ransom', 'enlarged', 'rage', 'suborder', '111', 'exclusion', 'maligned', 'automobiles', 'loon', 'ups', 'towers', 'associations', 'katz', 'savannah', '270', 'worn', 'wait', '205', 'stolen', 'spear', '80s', 'subsistence', 'pilot', 'airline', 'cellular', 'pastry', 'marcus', 'reluctantly', 'mali', 'canines', 'dens', 'hierarchies', 'attitude', 'yak', 'goddess', 'illegally', 'favors', 'door', 'corrected', 'unitary', 'fundamentally', 'inaugurating', 'cassation', 'chaos', 'riots', 'trusts', 'leaping', 'catching', 'genetically', 'moravia', 'fief', 'vatican', 'hilti', 'adhere', '008', 'pittsburgh', 'scrap', 'undoubtedly', 'accelerated', 'seinem', 'fluent', 'buoyancy', 'interestingly', 'southernmost', 'clades', 'directs', 'trafficking', 'saxons', 'ahmad', 'storage', 'suffix', 'holland', 'displaying', 'martã\\xadn', 'compiled', 'ciudad', 'differing', '1644', 'hai', 'gamba', 'staccato', 'analytic', \"mozart's\", 'flutist', 'simmons', 'races', 'strategies', 'chased', 'rituals', 'legislator', 'responsibilities', 'analogous', 'contributing', 'struggling', 'unimportant', 'waterfowl', 'arable', 'endorsed', 'unprecedented', 'expertise', 'authorised', '03', 'favourite', 'mammoth', 'circuses', 'dwindling', 'shake', 'bathing', 'metabolism', 'accounted', 'foreleg', 'designer', 'aboard', 'chairs', 'profiles', 'traced', 'reflects', 'offspring', '301', 'vickers', 'sukarno', 'yogyakarta', 'sultanate', 'dividing', 'pragmatic', 'childbirth', 'firth', 'clyde', 'shipwright', 'contractor', 'agnus', 'robison', 'mangle', \"murray's\", 'historiometry', 'reflection', 'administrations', 'explorers', 'frenzy', \"cats'\", 'doubly', 'hohenems', 'suzerain', '1818', 'liechtensteiner', 'referendums', 'gemeinden', 'marino', 'generates', 'liechtensteinisches', 'latvian', 'qualifying', 'tobogganing', 'ð\\x9dð¸ðºð¾ð»ð°', 'ð¢ðµñ\\x81ð»ð°', 'usher', 'synopsis', 'groundbreaking', 'rivaled', 'harnessing', 'valone', 'unbelievable', 'bizarre', 'ostracized', 'childress', 'hatcher', 'ballistics', 'pseudosciences', 'ufo', 'occultism', 'honoured', 'dommermuth', 'baptism', 'christened', 'toma', 'oklobdå¾ija', 'metropolitanate', 'sremski', 'karlovci', 'meduc', 'medak', 'napoleonic', 'gospic', 'ana', 'kaliniä\\x87', 'kalinic', 'draganiä\\x87', 'vlach', 'genealogical', 'herzegovinian', 'komnenoviä\\x87', 'herzegovina', 'orloviä\\x87', 'pavle', 'orlovic', \"lazar's\", 'banner', '1389', 'ä\\x90uka', 'mandiä\\x87', 'banija', 'godfather', 'drenovac', 'dane', 'milka', 'angelina', 'marica', 'karlovac', 'vividly', 'kuhlman', 'recollections', 'mrkich', 'discharged', 'nonpayment', 'drowned', 'mura', 'maribor', 'flashes', 'hallucinations', 'visions', 'involuntarily', 'envision', 'synesthetes', 'visualise', 'flashbacks', 'tivadar', 'puskã¡s', \"appleton's\", 'cyclopã¦dia', 'nebojå¡a', 'petroviä\\x87', 'turbines', 'electrician', 'repeater', 'hastened', 'nidå¾o', 'recuperating', 'tomingaj', 'graä\\x8dac', \"inflation'\", 'redesigned', 'inquired', 'pickover', 'madmen', '352', '0688168949', 'p110', 'intently', 'laborer', 'brushless', 'labs', 'bremsstrahlung', 'braking', 'emitting', 'thermionic', 'oscillating', 'hv', 'collide', 'geissler', 'setups', 'obtainable', 'hazards', \"roentgen's\", 'photographing', 'mediums', 'ionized', 'electrolaser', 'electroshock', 'laser', 'berthel', 'ndia', 'conduction', 'norrie', 'schneider', 'belatedly', 'sledge', 'terminate', 'pp162', 'krumme', 'befriended', 'jovanoviä\\x87', 'zmaj', 'swami', 'vivekananda', 'inducing', 'cordless', 'bulbs', \"ac's\", 'counterbalanced', 'waser', 'radiations', 'torpedoes', 'telautomatics', 'teslaplay', 'comversion', 'rastko', 'teleautomaton', 'robots', 'laborious', '75884', '355', 'referencing', 'mckay', 'plug', 'combustion', 'gasoline', 'gerlach', 'broadway', 'pikes', 'ionosphere', \"ground's\", 'telluric', 'gillispie', 'coulston', 'reproductions', 'unpredicted', 'helical', 'feedback', 'heterodyne', 'kennelly', 'heaviside', 'transceivers', 'computations', 'ionospheric', 'extraterrestrial', \"collier's\", 'earlyradiohistory', 'repetitive', 'clicks', 'teslascope', 'debatable', 'misunderstanding', 'jovian', 'torus', 'contents', '178', '505', '825', 'superconductivity', 'pierpont', 'folly', 'guglielmo', 'kw', 'rpm', 'waterside', 'tested', 'controversies', 'minimize', 'pp228', 'pp378', 'sayville', 'spies', 'napkins', 'ocd', 'treatments', 'insanity', 'deed', \"aiee's\", 'ã\\x89mile', 'girardeau', 'caption', 'vtol', 'consul', 'jankoviä\\x87', 'gratitude', 'mihajlo', 'pupin', 'researching', 'vlatko', 'maä\\x8dek', 'bounds', 'patenting', 'electrodynamics', \"mach's\", 'rudjer', \"boscovich's\", 'theoria', 'bares', 'invents', 'manifestations', 'repelling', 'projector', 'dispersive', 'beams', 'expound', 'superweapon', 'charging', 'nondispersive', 'tungsten', 'magnifying', \"gun's\", \"beam'\", 'velox', 'everything2', 'theorize', \"magnetism's\", 'engendered', 'airships', 'teleportation', 'strangest', 'reasoned', 'neural', 'viewscreen', 'propelled', 'ailerons', 'propellers', 'onboard', 'grounded', 'mechanically', 'saucer', 'custodian', 'prototype', 'transcripts', 'muzar', 'sava', 'kosanoviä\\x8b', 'cremated', 'ashes', 'urn', 'portraits', 'vilma', 'lwoff', 'parlaghy', 'lengsfeld', 'sammlung', 'dokumentation', 'kunstsammlung', 'nissens', 'anlã¤ssl', 'ausstellung', 'geburtstag', 'nissenhaus', 'schriften', 'nordfriesischen', 'haus', \"zagreb's\", '2244', '100rsd', 'dinars', 'recognitions', 'tpp', 'roadster', 'weâ\\x80\\x98re', \"'ericsson\", \"d'\", \"'nikola\", \"tesla'\", 'parochial', 'ljubo', 'vujovic', 'blazevic', 'reopening', 'frano', 'krsinic', 'unsuitably', 'unscientific', 'conformed', 'unrealistic', 'unquestionable', \"'hidden\", \"knowledge'\", 'angelic', 'serbo', 'kerryr', 'quirks', 'phobias', 'threes', 'divisible', 'revolted', 'jewelry', 'earrings', 'fastidious', 'cleanliness', 'hygiene', 'germaphobic', 'lover', 'contentedly', 'macak', 'celibate', 'chastity', 'affection', 'madly', 'polite', 'ambivalently', 'alienating', 'admiringly', 'sweetness', 'sincerity', 'refinement', 'generosity', 'skerrit', 'genial', 'denoted', 'gentlemanly', 'ingrained', 'hawthorne', 'appreciator', 'disgust', 'showmanship', 'artform', 'magician', 'reclusiveness', 'blasting', 'amicable', 'crawford', 'fritz', 'lowenstein', 'scherff', 'inept', 'unconcerned', 'ripped', 'billionaire', '33rd', '3327', 'recurrence', 'eugenics', 'subservience', \"humanity's\", 'colliers', 'vegetarianism', 'commendable', 'barbarous', 'uneconomic', 'slaughter', 'wanton', 'electrosensitivity', 'unveiled', 'drysdale', \"drysdale's\", 'alternator', 'instititute', 'penner', 'corrupted', 'weisstein', \"weisstein's\", 'astrogeology', 'dimitrijevic', 'publ', 'astron', 'obs', 'srpski', 'asteroidi', 'astronomski', 'roguin', 'magn', 'reson', '369', '374', 'â©', 'liss', 'florey', 'glen', 'meyl', 'konstantin', 'weidner', 'zentgraf', 'senkel', 'junker', 'winkels', 'scalar', 'institut', 'gravitationsforschung', 'igf', 'heerbach', '63857', 'waldaschaff', 'radiofrequency', 'mackechnie', 'jarvis', 'phys', 'educ', 'nichelson', 'iecec', '222px', 'ratzlaff', 'ragusan', 'carlson', 'v292', 'i3', 'p78', 'rybak', '1042170x', 'nov99', 'lawren', 'rediscovering', 'omni', 'mar88', 'rade', 'å\\xa0erbedå¾ija', 'orson', 'tajna', 'nikole', 'tesle', 'krsto', 'papiä\\x87', 'petar', 'boå¾oviä\\x87', 'antigravity', \"corum's\", 'arcs', \"'n\", 'behar', 'yugoslavian', 'archival', 'resin', 'pearling', 'jazeera', 'amenities', '432', 'redevelopment', 'lighting', 'positioning', 'wi', 'retractable', 'pleasant', 'commands', 'emulate', 'oman', 'sting', 'buccinator', 'prodigy', 'clever', 'diminutive', 'suites', 'shostakovich', 'ligeti', 'decorative', \"strings'\", 'slower', 'determinant', 'forearm', 'strumming', 'fourths', 'kanji', 'phonetically', 'distortion', 'dacca', 'gemshorn', 'tonette', 'impedance', 'pahlevanian', 'dayton', 'sadie', 'tyrrell', 'averill', 'vardapeti', 'phelan', 'evanston', 'whistles', 'xii', 'understandable', 'angular', 'refraction', 'rã\\xadmac', 'klarã©n', 'perãº', 'banco', 'zither', 'uprights', 'sachs', 'yoke', 'transmits', 'kithara', 'cygnet', 'falconeri', 'coscoroba', 'leda', 'modernismo', \"tiger's\", 'soundhole', 'vihuela', 'amplification', 'humbucker', 'vai', 'piezoelectric', 'transducers', 'fretting', 'adjust', 'timbers', 'hex', 'backward', 'hexaphonic', 'kerfed', 'kiswahili', 'shakespeare', '233', 'regained', '177', '254', 'ss', 'constituting', 'generalists', 'specialised', 'laude', 'bag', 'levi', 'unexpectedly', 'ethel', 'technologically', '1545', '1608', 'colonized', 'ravaged', 'override', 'appellate', 'exercises', 'reuters', 'reasonably', 'glaciers', 'coniferous', 'attainment', 'nhl', 'anglophone', 'patchy', 'stimulated', 'overviews', 'bate', 'zoology', 'hump', 'heterosexual', 'premature', 'hindered', 'urdu', 'scots', 'vetoes', 'pronounce', 'harvested', 'funk', 'sentenced', 'coleman', 'barrels', 'taxable', 'tighten', 'licence', 'risen', 'abandoning', 'collared', 'shut', 'mansion', 'spice', 'predating', 'austronesian', 'hardest', 'kilometer', 'proclaiming', 'colossus', 'marquis', 'silence', 'undeclared', 'foreground', 'survives', 'topics', \"haven't\", '786', 'dwarf', 'oceans', 'useless', 'yielded', 'shifts', 'emil', 'yearbook', 'answer', 'reverted', 'undeveloped', 'recreation', 'beautiful', 'boxed', 'phonological', 'scripts', 'file', 'tianjin', 'scarcely', 'jin', 'dadu', 'yan', \"tian'anmen\", 'overseeing', 'cure', 'visits', 'lavish', 'glittering', '1658', 'guests', 'brink', 'abbreviation', 'authoritative', 'kopenhagen', 'lyngby', 'gladsaxe', 'nytorv', 'christiansborg', 'rosenborg', 'roskilde', 'amusement', 'shops', 'christianshavns', 'splash', 'taper', 'gravitational', 'diatonic', 'wharf', 'sympathetically', 'repetition', 'reconciliation', 'borrow', 'balanced', 'lifelong', 'edmund', 'blockade', 'affirmed', 'mortal', 'polls', 'wyoming', 'celebrating', 'bicentennial', 'fungi', 'arise', 'armoured', 'rows', 'emerges', 'sexually', 'sperm', 'harmless', 'behavioural', 'poisonous', 'spotlight', 'savings', 'sporadic', 'newest', \"farmer's\", 'claude', 'watershed', 'annexed', '49th', 'auto', 'clause', 'inception', 'tidal', 'flows', 'counted', 'enacted', '271', 'demography', 'operational', 'libya', 'gaza', 'byzantine', 'ostensibly', 'inter', 'rigging', 'prohibit', 'violations', 'sweeping', 'dam', 'honored', 'liberalization', 'judgements', 'togo', 'strikingly', 'hussein', 'umm', 'pockets', 'economical', 'protector', 'rhinoceros', 'deduction', 'audit', 'freest', 'bishop', 'wrath', '1721', 'richest', 'plentiful', 'devalued', 'brava', 'metallica', 'cambodia', 'servicemen', 'trigger', 'presents', 'senegal', 'ghanaian', 'nkrumah', 'gestures', 'tucked', 'relaxed', 'arbitration', 'marã\\xada', 'covenanters', 'lore', 'apprentice', 'hammermen', 'artisans', 'macgregor', 'dye', 'shipwrecked', 'satisfactorily', 'latent', 'condense', 'carron', 'falkirk', 'machining', 'blacksmiths', 'machinists', 'strapped', 'wilkinson', 'boring', 'bersham', 'wrexham', 'enterprises', 'pumps', 'cornwall', 'rotational', 'logical', 'stymied', 'pickard', 'condensor', 'circumvented', 'throttle', 'centrifugal', 'expansively', 'installation', 'indicator', 'informative', 'linkage', 'exploding', 'leaks', '1164', 'horsepower', 'fortunes', 'finishing', 'measurements', 'lunar', 'horizons', 'worrier', 'congenial', 'heathfield', 'staffordshire', 'condenser', '1780s', 'empt', 'prohibitions', 'battled', 'rotative', 'tinkerers', 'inventors', 'cottages', 'cascade', 'batavian', 'moonstones', \"boulton's\", \"glasgow's\", 'inverclyde', 'vestibule', 'statuary', 'kilwinning', 'ayrshire', 'finnart', 'largs', \"heriot's\", 'needy', 'orphans', 'contemplating', 'eckford', 'lauder', \"hart's\", 'colossal', 'chantrey', 'cenotaph', \"'g31\", \"theatre'\", 'dickenson', 'craftsman', 'smiles', '89875', 'toil', '84306', '045', 'marsden', '231', '13172', '1792', 'boylston', 'worcester', 'congregational', 'restraint', 'canon', 'taxed', 'hutchinson', 'novanglus', \"needn't\", 'radicalism', 'adamsâ\\x80\\x99s', 'laurens', 'consult', 'guilders', 'majesty', 'aristocracies', '1795', 'contrived', 'pinckney', 'stressing', 'jeffersonians', 'kurtz', 'reconciled', 'alcoholic', 'crypt', 'sincere', 'printing', 'somali', 'spheniscidae', 'renner', 'dives', 'extremities', 'albinism', 'marples', 'linnean', 'bertelli', 'giannini', 'oligocene', 'eastwards', 'patagonia', 'priabonian', 'neogene', 'spheniscine', 'autapomorphies', 'megadyptes', 'tortonian', 'episodes', 'plotopterids', 'pelecaniformes', 'auk', 'auks', 'buggy', 'fantasy', 'trilogy', 'pays', 'voyage', 'pe', 'minima', 'importing', 'journeys', 'recommendations', 'tackled', 'impacts', 'suits', \"'one\", 'tier', 'phases', 'squad', 'dislike', 'magna', 'civilian', 'photographer', 'conservationist', 'eliminate', 'likeness', 'ectothermic', 'erroneously', 'initials', 'surprised', 'domingo', 'stein', 'paraguay', 'pueblo', 'hydrodynamics', 'miracles', 'thorns', 'renewal', 'laminated', 'inexpensive', 'depressing', 'smoothly', 'modify', 'crotales', 'sizzle', 'scraping', 'philosophiã¦', 'celestial', 'heliocentrism', 'enunciated', 'decomposes', 'empirical', 'approximating', 'zeroes', 'kneller', 'lincolnshire', 'quart', 'mug', 'barnabus', 'margery', 'asperger', 'autism', 'eves', 'apothecary', \"apothecary's\", 'stepdaughter', 'engrossed', \"eves'\", 'sill', 'widowed', 'thoroughly', 'unhappy', 'stokes', 'admirable', 'astronomers', 'precaution', 'bolton', 'crowell', 'notations', 'notebooks', 'mocked', '1691', 'knittingcircle', '1694', 'plagiarism', \"study's\", 'exponent', 'polynomials', 'diophantine', 'sums', 'logarithms', \"euler's\", 'summation', 'revert', 'calculating', '1669', 'ordination', 'orthodoxy', 'decompose', 'lens', 'recompose', 'multicoloured', 'dispersion', 'mirrors', 'telescopes', '1671', 'offended', \"hooke's\", 'refracted', 'accelerating', 'props', 'physicists', 'wavelike', 'photons', 'duality', '1675', 'posited', 'theosophist', 'hermetic', 'expounded', 'corpuscular', 'grosser', 'transmutation', 'convertible', 'frictional', 'query', 'corrections', '1677', 'orbits', 'consulting', 'motu', 'corporum', 'gravitas', 'analytical', \"boyle's\", 'thornhill', '1690s', \"more's\", 'cartesian', 'dualism', 'prophecies', 'apocalypse', '1696', 'montagu', 'halifax', 'exchequer', \"england's\", 'recoining', 'treading', \"lucas'\", 'sinecures', 'exercising', 'clippers', '1717', 'unofficially', '1705', '1703', \"flamsteed's\", 'hostess', 'jermyn', 'smallpox', 'divested', 'intestate', 'pursuits', 'eccentricity', 'governs', 'textual', 'corruptions', 'crucifixion', 'jesus', 'agrees', 'meier', '382â\\x80\\x93402', 'provisionally', 'pfizenmaier', 'anglicans', 'immanent', 'hylozoism', 'implicit', 'baruch', 'spinoza', 'dynamically', 'geometer', 'rationalist', 'pamphleteers', 'pantheists', 'hesitantly', 'dissident', 'latitudinarians', 'metaphysical', 'superlatives', 'atheism', 'deists', 'proofs', 'popularising', 'fruitfully', 'grandeur', 'hafner', 'brewster', 'knud', 'haakonssen', 'p19', 'unforeseen', 'imperfection', 'godâ\\x80\\x99s', 'omnipotent', 'p201', 'theodicy', 'cleared', \"l'origine\", 'mal', 'burdened', 'disemburdened', 'unindictability', 'latitudinarian', 'millenarians', 'mysticism', 'extinguish', 'newtonians', '1689â\\x80\\x931720', 'p100â\\x80\\x93101', '2060', 'rash', 'conjectures', 'fanciful', 'prophesies', 'recoinage', 'counterfeit', 'flagrant', 'taverns', 'barriers', 'informers', \"chaloner's\", 'phony', 'hapless', 'entrapped', 'petitioning', \"mint's\", 'coinage', 'counterfeited', 'uncover', 'conclusive', 'tyburn', 'gallows', '571â\\x80\\x935', 'predecessorsâ\\x80\\x94galileo', 'boyle', 'principallyâ\\x80\\x94as', 'guarantors', 'discarded', 'cassels', 'p2', 'physiocrats', 'conceptions', 'psychology', 'sociologists', 'monboddo', 'rationalised', 'inertia', 'dm', 'vanishes', 'equation', 'magnitude', 'inversely', 'squared', 'newtons', 'formulate', 'orbit', 'calculate', 'guessed', '1726', 'occasioned', 'contemplative', 'descend', 'perpendicularly', 'sideways', 'exaggerations', 'uprooted', \"headmaster's\", 'brogdale', 'grafts', '729', 'coarse', 'fleshed', 'mundi', 'systemate', 'fortunate', 'delambre', 'vie', 'ouvrages', 'xx', '1676', 'hunchbacked', 'berlinski', 'unlocked', '84392', 'hardback', 'christianson', 'gale', '608', 'readings', 'gjertsen', 'kegan', 'gleick', 'hardcover', '42233', 'hawking', '7624', '1348', '8065', '1350', 'kandaswamy', 'anand', '00189', '46853', 'shapley', 'harlow', 'rapport', 'newtonia', '147â\\x80\\x939', 'bros', 'villamil', '1967â\\x80\\x9381', 'dobbs', 'greene', '291â\\x80\\x93297', 'herivel', 'dynamical', '1664â\\x80\\x9384', 'koyrã©', 'maclaurin', 'millar', 'nourse', 'motte', 'cajori', 'reflections', 'refractions', 'schofield', '1959â\\x80\\x931977', 'turnbull', \"'theory\", \"motion'\", 'shamos', 'animations', 'multifaceted', 'phaser', 'infinite', 'â£1', 'orchestration', 'muted', 'quieter', 'anonymous', 'tactic', 'eyewitness', 'countered', 'garrison', 'sucking', 'jumping', 'moult', 'colouring', 'forestry', 'brooding', 'marry', 'vague', 'sympathy', 'reliant', 'respects', 'urgent', 'courtyard', 'culturally', 'syriac', 'poets', 'invalid', '470', 'downward', 'annum', 'engraved', 'bites', 'jump', 'circulated', 'structured', 'info', 'kilometre', 'elects', 'strictly', 'swedes', 'arrange', 'incorrect', 'shadows', 'retail', 'perspective', 'devastating', 'insignificant', 'reveals', 'jeff', 'fante', '1482', 'bono', 'adjustment', 'inflationary', 'romulus', 'remus', 'blended', 'dispersing', 'pheromones', 'suited', 'bison', 'systema', 'naturae', 'habituation', 'unnecessary', 'forcefully', 'minded', 'blaine', 'gorman', 'posed', 'richardson', 'militant', 'warnings', 'susilo', 'coral', 'reefs', 'employer', 'forecast', '222', 'masjid', 'silat', 'chili', 'communion', 'unpopular', 'silenced', 'relates', 'provocation', 'tan', 'pumapard', 'leone', 'surpassed', 'preliminary', '513', 'invasions', 'vampire', 'lowland', 'ukrainians', 'armenians', 'logo', 'tudor', 'prolonged', 'wheel', 'malls', 'lumber', 'adaptation', 'pledging', 'pause', '199', 'focusing', 'fourteenth', '230', 'filling', 'wren', 'fingertips', 'indie', 'socially', 'rhyming', 'proficiency', '07', 'attracting', 'worlds', 'applies', 'damp', 'timbres', '486', 'yehudi', 'menuhin', '1840s', 'vanier', 'goulbourn', 'orlã©ans', 'greenbelt', 'coldest', 'oc', 'transpo', 'skating', 'rink', 'theaters', 'seriousness', 'mighty', 'happy', '409', 'salaries', 'presiding', 'republished', 'wives', 'appointees', 'federalism', '181', 'puritan', 'joan', '817', 'ducklings', 'sphinx', 'carvings', 'grain', 'rulers', 'syrian', 'formative', 'lebanese', 'orientation', 'contexts', 'compass', 'civilizations', 'waterway', 'elephantidae', 'skinned', 'cetaceans', '690', 'reclassification', 'roam', 'appendage', 'litres', 'sunscreen', 'caressing', 'tusked', 'deinotherium', 'greyish', 'expose', 'hips', 'kerala', 'cooler', 'recki', 'altruism', 'innervated', 'receptors', 'knit', 'aunts', 'inflict', 'listen', 'suckles', 'learns', 'sitters', 'allomother', 'feces', 'tuskless', 'crushing', 'porus', 'diadoch', 'mounts', 'corea', \"kipling's\", 'warrior', 'kham', 'esala', 'perahera', 'indochinese', 'nast', 'rhinoceroses', 'pumilio', 'restrict', 'conurbation', 'auditorium', \"area's\", 'pioneers', 'lunch', 'siblings', 'upbringing', 'dishes', 'commissioning', 'mason', 'limitation', '110', 'soviets', 'pastor', 'dies', \"bergmann's\", 'privileges', 'cry', 'relented', 'guarding', 'horns', 'travellers', 'imperialism', 'lane', 'congresses', 'postage', 'brinkley', 'dyer', 'likewise', 'snake', 'graceful', 'nowak', 'nowell', 'antelopes', 'impala', 'lateral', 'swirls', 'malabar', 'hagenbeck', 'leopardess', 'passant', 'heraldric', 'rudraprayag', 'panar', 'nissan', 'khalaf', 'bassam', 'taher', 'gazelle', 'neunkirchen', 'characterize', 'florian', 'vassal', 'afterward', 'vineyards', 'proposes', 'germain', 'fidelity', 'vitamin', 'cub', 'awakening', 'phonemics', 'suicide', 'brussels', 'conservationists', 'township', 'accompany', 'friday', 'marx', 'angeles', 'competes', 'baron', 'farmland', 'cane', 'diacritic', 'decoration', 'jing', 'outward', 'rides', 'crutches', 'vein', 'relic', 'ignorance', 'assertion', 'subscription', 'yi', 'beginner', 'classed', 'greco', 'fans', 'confusingly', 'rubbing', 'senza', \"berlioz's\", 'diacritics', 'sunquist', 'mariachi', 'mahogany', 'johannes', \"piano's\", 'annamese', 'vietic', 'emeneau', 'æ¡', 'thanh', 'khoa', 'xã£', 'sealang', 'auckland', 'grandiose', 'rails', 'duel', 'acquitted', 'trumbull', 'attrition', 'integral', 'confess', 'gore', '2â\\x80\\x933', 'fondness', 'moor', 'gamma', 'apocryphal', 'greet', 'harlan', 'explore', 'boomed', 'guarantees', 'predominates', 'commitments', 'dotted', 'curling', 'cfl', 'tropics', 'hawks', 'pyramids', 'albanian', 'alike', 'problematic', 'commit', 'festivities', 'dunes', 'concave', 'pulp', 'cushion', \"animal's\", 'frans', 'diana', 'centimeters', 'nurse', 'slash', 'industrialised', 'glacial', 'birch', 'fond', 'cmx', 'cinema', 'provision', 'swine', 'albion', 'mirage', 'carnivora', 'rolls', 'speculate', 'diets', 'deity', 'rethink', 'snares', 'perpetrators', 'scavengers', \"1980's\", 'tissues', 'injuries', 'trappers', 'buildup', 'depleted', 'administratively', 'orangutan', 'tobacco', 'frustrated', 'immigrated', 'guilty', 'obnoxious', 'tot', 'irrelevant', 'input', 'quotes', 'seniority', 'vain', 'stubborn', 'embarrassed', 'deport', 'punishments', 'atmosphere', 'volatile', 'resumption', 'clerical', 'thinker', 'multivolume', 'mob', 'darling', 'crepuscular', 'skeleton', 'dubbed', 'nairobi', 'uzbekistan', 'icelandic', 'refuge', 'unclear', 'seymour', 'northerly', 'coca', 'countryâ\\x80\\x99s', 'slam', 'boats', 'ferris', 'expatriate', 'flagship', 'talent', 'skytrax', 'ferry', 'desirable', 'zoological', 'reptilians', 'interpet', 'addyaita', 'husbandry', 'garland', 'quietly', '1680', 'peso', 'yields', 'javier', 'masculine', 'email', 'processing', 'queens', 'illustrate', 'surround', 'nicole', 'apostrophe', '1830s', 'internally', 'forums', '09', 'jamaica', 'bottle', 'punk', 'removable', 'registers', 'ix', 'tribune', 'restore', 'wandered', 'muffle', 'cite', 'colouration', 'preferences', '265', 'producers', 'depict', 'faire', 'brewer', 'jokes', 'schoolteacher', 'dwight', 'morrow', 'hammond', 'socks', 'bread', '111â\\x80\\x93113', 'greenwood', 'alumnus', '133â\\x80\\x93136', 'officio', 'prohibition', 'publicized', 'cal', 'hannaford', 'dressed', '342', '310â\\x80\\x93311', 'cuts', 'mcnary', 'haugen', \"hoover's\", 'kellogg', 'briand', '122â\\x80\\x93123', 'reorganization', 'accommodate', 'attendees', 'paving', 'nascent', 'objection', 'unilateral', 'prevails', 'boer', 'stabilization', 'vaccine', 'lowlands', 'contiguous', 'rainy', 'reunification', 'echo', 'kemet', 'luxor', 'adjective', 'copt', 'memphis', 'ptah', 'ian', 'pharaonic', 'sufi', '1250', '1805', 'gamal', 'mahmoud', 'dawisha', 'jerusalem', 'depiction', 'custody', 'aswan', 'siwa', 'tanks', 'coating', '126', 'lean', 'hannibal', 'siam', 'eyed', 'buddha', 'balfour', 'tastes', 'distress', 'emerson', \"reader's\", 'peasantry', 'mikael', 'agricola', 'bothnia', '1835', 'bolshevist', 'pechenga', 'karelia', 'fen', 'finnr', '888', 'taiga', 'rebound', 'squirrel', 'hare', 'pl', 'oulu', 'espoo', 'kauniainen', 'tampere', 'finnic', 'prepositions', 'estonian', 'inari', 'skolt', 'pupils', 'constitutionality', 'halonen', 'vanhanen', 'ilkka', 'neste', 'hydropower', 'peat', 'markka', 'aker', 'finnair', 'eckerã¶', 'tallinn', 'sudden', 'modernisation', 'pristine', 'sauna', 'eino', 'aino', 'pacius', 'salonen', 'kari', 'mcs', 'darude', 'lordi', 'antti', 'analog', 'helsingin', 'tabloid', 'yle', 'subscriptions', 'pentecost', '23rd', 'saturdays', 'paavo', 'nurmi', 'kimi', 'jari', 'careers', 'rosberg', 'mclaren', 'finnishness', \"runeberg's\", 'lynch', 'scouting', 'washed', 'coaching', 'leyte', 'deck', 'fords', \"kennedy's\", 'supervisor', 'rockefeller', 'courage', 'voter', 'hospitalized', 'handicapped', 'mayaguez', 'crew', 'agent', 'journalist', 'eisenhower', 'rancho', 'morton', 'prevailing', 'plebiscite', 'grassy', 'interviews', 'navigate', 'punching', 'adolph', 'striped', \"species'\", 'attitudes', 'timid', 'unprovoked', 'ranchers', 'mice', 'specialize', 'mildly', 'foe', 'hester', 'dow', 'waterways', 'owes', 'misconception', 'felis', 'iranian', 'manchuria', 'inherit', 'interchangeably', 'nathaniel', 'thurlow', 'touring', 'pendle', 'pirate', 'arisen', 'facilitating', 'doubling', 'ashore', 'regulate', 'emirates', 'equivalents', 'dusk', 'impose', 'orchids', 'unconventional', 'contingent', '4â\\x80\\x935', 'warwick', '185', 'masculinity', 'businessmen', 'mittie', 'pringle', \"tr's\", 'thieves', 'sagamore', 'archie', 'beats', 'hanna', 'wilcox', 'observer', 'upset', 'brenner', 'financed', 'lafollette', 'cherrie', 'cajazeira', \"expedition's\", 'alternated', 'hinterland', 'afro', 'translating', 'haitian', '459', 'genitive', 'pronoun', 'readers', 'pollinated', 'primitively', 'portland', 'predominate', 'sibling', 'wallis', 'paralytic', 'kiss', 'mendelssohn', 'prescribed', 'abrsm', 'hã¡n', 'rhodes', 'diphthong', 'triphthong', 'rime', 'cluster', 'modes', 'illustration', 'custom', 'facilitates', 'tonic', 'iconography', 'rimac', 'moorish', 'isidro', 'limean', 'expresa', 'fiddlers', 'rebab', 'venice', 'ashmolean', 'craftsmanship', 'chinrest', 'hourglass', 'suzuki', 'danse', 'macabre', 'martelã©', 'con', 'ã\\x89rard', 'duplex', 'spinet', 'inharmonicity', 'teflon', \"'hour\", 'victorious', 'affluent', '152', '1834', 'specified', '349', 'pres', 'glory', 'innocent', 'alamo', 'shareholder', 'misunderstood', '865', 'disguise', 'bates', \"union's\", 'antietam', 'appeasing', 'unsolicited', 'urging', 'wielded', 'tender', 'appointing', 'suggestion', 'memorialized', 'oklahoma', 'forewings', 'spiracles', 'fittest', 'billions', 'coleopterology', '418', 'oration', 'costly', 'darn', '597', '108', '773', '774', 'wilsonian', 'signatories', 'toll', '252', 'sesquicentennial', 'repudiate', 'rebellions', 'hardship', 'aforementioned', 'praeger', 'cyprus', 'raya', 'expelled', 'flare', 'reddish', 'foraging', 'deforestation', 'judeo', 'emissions', 'leverage', '319', '179', 'pisa', 'osce', 'eur', \"eu's\", 'urbanised', 'claus', 'modernist', '109', 'broadband', 'breakfast', 'superb', 'matched', 'reliably', 'sometime', 'sacramento', 'awkward', 'danso', 'discontent', 'legendary', 'contrasts', 'shepherds', 'beaten', 'resorted', 'spence', 'westmoreland', 'trenton', 'kortright', 'resist', '1607', 'seizing', 'inconsistent', 'fared', 'fears', 'valor', '527', 'sitcom', 'doctorate', 'zodiac', 'locate', 'gracile', 'approximation', 'parler', 'differentiation', 'scoring', '332', 'uncovered', 'artefacts', 'oversaw', '2030', 'assignments', 'banana', 'cosmopolitan', 'turnover', 'ura', 'cargo', 'airways', 'youngster', 'geology', 'constituency', 'exercised', 'maiden', 'damn', 'sam', 'staunton', 'embraced', 'shia', 'accusative', 'affixes', 'diacritical', 'numeral', 'periodically', 'certainty', 'seine', 'coherent', 'math', 'straps', 'soli', \"beethoven's\", 'intelligibility', 'huayu', 'disco', 'etymological', 'oresund', 'commuter', 'venues', 'utilized', \"wagner's\", 'tapping', 'pit', 'pakistan', 'laurence', 'imitate', 'amadeus', 'melodic', 'holzer', 'secessionist', 'defused', 'rallied', 'martyr', 'redefinition', 'foner', '399', 'marfan', 'aug', 'seceded', 'lamon', 'ensuing', \"stillman's\", 'commentaries', 'lawyers', 'daguerreotype', 'tad', '30th', 'volunteered', 'lied', 'emphasized', 'boritt', 'boyhood', 'sizable', 'crittenden', 'sumter', 'seceding', 'prisons', 'abolitionists', 'threw', 'hodges', 'altoona', 'contentious', 'sioux', 'criticizing', 'meade', 'spare', 'waged', 'proportionately', \"south's\", 'hofstadter', \"enemy's\", 'offensives', 'admired', 'tolerance', 'legalisms', 'mencken', 'sympathizers', 'vehemently', 'rathbone', 'hayes', 'waited', 'laughter', 'petersen', 'angels', 'albc', 'hodgenville', 'morgenthau', 'morningside', '4039', 'boll', 'anthonomus', 'grandis', 'flour', 'mungbean', 'coccinellidae', 'cockchafer', 'thoracic', 'sclerotized', \"beetles'\", 'segmented', 'gyrinidae', 'cerambycidae', 'antennal', 'clavate', 'hydrophilidae', 'scarabs', 'clown', 'scarabaeiform', 'melolontha', 'endopterygotes', 'substrate', 'elateriform', 'wireworms', 'instars', 'instar', 'meloidae', 'iridescent', 'nicrophorus', 'bombardier', 'staphylinidae', 'coprophagous', 'necrophagous', 'bubble', 'sphaerius', 'polyphaga', 'adephaga', 'archostemata', 'caterpillars', 'amulets', 'balls', 'prohibiting', '129', 'movies', 'posted', 'biblical', 'dissolve', 'advances', 'seekers', 'armenia', 'harps', 'ney', 'lisbon', 'blade', 'twigs', 'hovering', 'responds', 'jumbo', 'trucks', 'fares', 'broadcasts', 'ascension', 'totally', 'laundering', 'confronted', 'helicopter', 'dignity', 'laura', 'equity', 'sheds', 'snarl', 'conspicuous', 'interspersed', 'devotion', 'necessitate', 'initiating', 'specify', 'defending', 'reward', 'chain', 'rallies', 'suspending', 'succession', 'affair', 'banda', 'freeze', 'cairns', '134', 'smog', 'liga', 'flores', 'presidentâ\\x80\\x99s', 'woodworker', 'slaveholder', 'campbelltown', 'dutifully', 'britiain', '1803', 'unsatisfactory', 'impressment', 'interim', 'northerner', 'westerner', 'deserving', 'organizational', 'caucus', 'undiminished', 'precipitated', 'floridas', \"countries'\", 'counseled', 'candid', 'cock', 'racked', 'plantation', 'solvent', 'vault', 'bliss', 'isely', 'infidel', 'anticlerical', 'monrovia', 'courier', 'prisoner', 'flagg', 'bemis', 'dangerfield', 'heidler', '0275', '1275', 'seminoles', 'aiding', 'exploits', 'expansionist', 'ulterior', 'weakly', 'discredited', 'unanswered', 'dexter', \"'foreign\", 'ratifying', '0026', '2927', 'analyzes', 'untoward', 'alarmed', 'gardoqui', 'overinfluencing', 'risked', 'dupe', 'traitor', 'paranoid', '0018', '2370', 'swetswise', 'assesses', 'slaveholding', 'exhaustive', 'warranted', \"prosser's\", 'lucier', 'regnery', '863', \"colony's\", 'discussions', 'wards', 'recessive', 'skewed', 'nepal', 'sci', 'anton', 'mechanisms', 'attribute', 'perished', 'electorate', 'divergent', 'ruins', 'colder', 'crowded', 'lonely', 'mites', 'cope', 'interbreeding', 'romanus', 'questo', 'erano', 'studii', 'rumanian', 'å¢eara', 'sç\\x8e', 'rumã¢ni', 'romã¢neascç\\x8e', 'numai', 'nu', 'limba', 'cä\\x83rå£i', 'fraå£ilor', 'peste', 'istoria', 'romã¢neascä\\x83', 'lazä\\x83r', 'slavic', \"dracula's\", 'kronstadt', 'voroneå£', 'vaslui', 'cuza', 'scurtu', 'anii', 'countrystudies', 'plo', 'culminated', 'maå\\x9fina', 'analiza', 'dictaturii', 'jiu', 'pdsr', 'bä\\x83sescu', 'retezat', 'maxima', 'spells', '535', 'usatoday', 'plight', \"michael's\", 'ploieå\\x9fti', 'oradea', '260', 'parity', 'macroeconomic', 'tech', '298', 'mamaia', 'maramureå\\x9f', 'playwright', 'publicist', 'marin', 'realism', 'mircea', 'constantin', \"'bird\", \"space'\", 'cannes', 'fortresses', 'camera', 'communes', 'moldovan', 'steaua', 'semifinal', 'slump', 'belgian', 'hiram', '1877', 'scaturro', 'bankrupted', 'terminally', 'buck', 'hamer', 'knowing', 'ulys', 'battlefield', 'lt', 'frã©mont', 'elihu', 'washburne', 'yates', 'brig', 'captures', 'smoked', 'corinth', 'rosecrans', \"thomas'\", 'tactical', 'trenches', 'korda', 'freedmen', 'schenck', 'tilden', 'boutwell', 'reorganized', 'greenbacks', 'fisk', 'tricked', 'sanborn', 'semitism', 'rescinded', 'bertram', 'meiji', \"japan's\", 'conkling', 'earning', 'honors', 'paletta', 'lu', 'skylight', 'jeffrey', 'contestants', 'maj', 'generalship', '13400', 'mcdonough', 'opens', 'clayton', 'idealistic', 'pcus', 'shorthand', 'psi', 'wesleyan', \"princeton's\", 'trustees', 'guidelines', \"west's\", \"worker's\", 'shenkman', 'ambition', '018373', 'warburg', 'bryanâ\\x80\\x99s', 'unused', 'submarines', 'violating', '277', 'peacemaking', 'avrich', 'sacco', 'vanzetti', 'creel', 'advisor', 'takeover', 'trani', 'equitable', 'zionist', 'dubois', '0021', '8723', 'selassie', 'quarterly', 'damascus', 'converse', 'ipa', 'fem', 'nominative', 'handwriting', 'explicit', 'intuitively', 'ching', 'hebei', 'zhongdu', 'yongle', 'wangfujing', 'zhongguancun', 'beihai', 'botanical', 'chaoyang', 'programmes', 'employers', 'renmin', '1623', 'clarified', 'generalizing', 'torricelli', 'projective', 'lettres', 'provinciales', '39th', 'ferrand', 'antoinette', 'begon', '1588â\\x80\\x931651', 'noblesse', 'robe', 'amazing', 'euclid', 'looker', 'gatherings', 'mathematicians', 'europeâ\\x80\\x94such', 'roberval', 'mydorge', 'gassendi', 'descartesâ\\x80\\x94in', 'monastic', \"desargues's\", 'mystic', 'coniques', 'mathematicsâ\\x80\\x94to', 'slice', 'ellipses', 'intersect', 'pencil', 'precocious', 'dismissed', 'sniff', 'ancients', 'beâ\\x80\\x94and', 'wereâ\\x80\\x94bought', 'cour', '1638', 'defaulting', \"ã\\x89tienne's\", 'sainctot', 'salons', 'pardoned', '1639', 'uprisings', 'utter', 'exhausting', 'recalculations', 'subtraction', 'zwinger', 'dresden', 'forerunners', 'marvels', 'traitã©', 'arithmã©tique', 'arithmetical', 'tabular', 'coefficients', 'chevalier', 'mã©rã©', 'probabilistic', 'virtuous', 'infinitesimal', 'sleepless', 'quadrature', 'geometrical', 'textbook', 'petites', 'ecoles', 'upâ\\x80\\x94first', 'referent', 'essentialism', 'formalism', 'persuasion', \"geometry's\", 'axiomatic', 'grasped', 'intuition', 'underscored', 'multiply', 'syringe', \"torricelli's\", 'barometers', 'upside', 'ergo', 'vacuumsâ\\x80\\x94the', 'everythingâ\\x80\\x94were', 'touchant', 'liquids', '1648', 'prodding', 'florin', 'chancy', 'ascent', 'poured', 'hermetically', '3â½', 'chastin', 'fathoms', 'å\\x92uves', 'completes', '682', 'boucherie', 'estienne', 'noel', \"century's\", 'suffices', 'falsity', 'pajou', 'biographically', 'ailment', 'ached', 'bowels', 'wearisome', 'circulate', 'stockings', 'steeped', 'brandy', 'deepening', 'hypochondria', 'irritable', 'imperious', 'smiled', 'icy', 'guillebert', 'splinter', 'jansenius', 'headroads', 'espoused', 'rigorous', 'augustinism', 'worldly', '1648â\\x80\\x9354', 'postulant', 'convent', \"blaise's\", 'abandonment', 'respectable', 'stipend', 'handsome', 'dowry', 'sadly', 'badgering', 'consigned', 'genteel', 'teetered', 'sappho', 'havet', 'introd', 'civ', 'discours', \"l'amour\", 'reproached', 'frivolity', 'prayed', 'neuilly', 'plunged', 'parapet', 'reins', 'unscathed', 'nearness', 'fainted', 'unconscious', 'scholarsâ\\x80¦', 'psalm', 'forget', 'thy', 'amen', 'sewn', 'clothes', '618', 'mathpages', 'convents', '1655', 'memorable', 'thinkers', 'escobar', 'laxity', 'pretended', 'fervor', 'montalte', 'shredded', 'midsts', 'formulary', 'condemning', 'jansen', 'heretical', 'condemn', 'laxism', 'casuistical', '1665â\\x80\\x9366', 'mockery', 'ripe', 'nunnery', 'lacrymalis', 'exuded', 'noisome', 'pus', 'noseâ\\x80\\x94an', 'hopeless', 'believer', 'tortured', 'psalms', 'altar', 'worshipers', \"girl's\", 'pained', 'summoned', 'miraculous', \"marguerite's\", 'diocesan', 'te', 'deum', 'armorial', 'scio', 'cui', 'credidiâ\\x80\\x94', '173f', 'apologie', 'chrã©tienne', 'sifting', 'scraps', 'autres', 'sujets', \"apology's\", 'contradictory', 'stoicism', 'personnalized', 'epictetus', 'unbeliever', 'despair', 'arnauld', 'piety', 'xxviii', '137â\\x80\\x93138', 'commenting', 'paradoxes', 'infinity', 'vanityâ\\x80\\x94seemingly', 'humility', 'eliot', 'ascetics', 'ministrations', 'ã\\x89crit', 'formulaire', 'exhorting', 'polemics', 'incurable', 'unstable', 'convulsions', 'unction', 'headaches', 'afflicted', 'lesion', 'actuarial', \"individual's\", 'christiaan', 'moivre', 'laplace', 'polemicists', 'rationalism', 'renã©', 'countervailing', 'empiricism', 'ile', \"maud's\", 'ã\\x89ric', 'rohmer', 'rossellini', 'biopic', 'aired', 'arditi', 'starred', 'hugh', 'twayne', 'farrell', 'paranoia', 'modernity', 'cervantes', 'miel', 'seuil', 'orig', 'knuth', 'etext', 'sria', 'crisp', 'defrancis', 'xiang', 'roc', 'hokkien', 'danzhou', 'hunan', 'â\\x80\\x9cdialectsâ\\x80\\x9d', 'hanzi', 'columns', 'nã¼', 'shu', 'syllabary', 'kangxi', 'defines', 'insights', 'reconstructing', 'philologists', 'reconstructions', 'codas', 'enunciation', 'taipei', 'bopomofo', 'katakana', 'disyllabic', 'æ±\\x89å\\xa0¡å\\x8c\\x85', 'grammars', 'jä«', 'jiä\\x81yä«ng', 'cidian', 'è\\x91¡è\\x90\\x84', 'grape', 'shä\\x81fä\\x81', 'é©¬è¾¾', 'é¦¬é\\x81\\x94', 'å¹½é»\\x98', 'yå\\x8dumã²', 'humour', 'ç\\x94µè¯\\x9d', 'é\\x9b»è©±', 'diã\\xa0nhuã\\xa0', 'blog', 'narrowed', 'idiom', 'hawaiâ\\x80\\x99i', \"webster's\", 'annotator', 'bicycling', 'dk', 'ã\\x98sterbro', 'christianshavn', 'christiania', 'brygge', 'gentofte', 'dragã¸r', 'tã¥rnby', 'hã¸je', 'herlev', 'glostrup', 'rã¸dovre', 'hvidovre', 'amalienborg', 'spires', \"denmark's\", 'nyhavn', 'fury', 'ucla', 'pyotr', 'canberra', 'caspian', 'singh', 'f0', 'stepmother', 'discuss', 'remember', 'appropriated', 'norm', '141', 'afl', 'alcohol', '341', '346', 'worker', '1605', 'wheat', 'herons', 'centralized', 'assyrians', 'persians', 'acknowledge', 'revealing', '264', 'tight', 'sects', 'clustered', 'converting', 'warships', 'intrusion', 'gravely', 'terrains', 'classifications', 'iain', 'baseline', 'rip', 'intruders', 'fringes', 'navigation', 'twins', 'domesticate', 'advocates', 'allege', '390', 'accidents', 'rampage', 'protocol', '1200', 'milestones', 'sixty', '70th', 'verified', 'performs', 'manipulated', 'engineered', 'intercity', 'bangkok', 'publicity', 'distantly', 'furniture', 'singers', 'productive', 'bassist', 'preceded', 'steep', 'noting', 'gilbert', 'unanimous', '387', 'profoundly', 'voluntarily', 'amidst', 'intellect', 'lexington', 'appearances', 'experiencing', 'thrive', 'pelage', 'drives', 'imitation', 'motivated', 'canid', 'rabid', 'preys', 'silently', 'sectarian', 'indies', 'dpr', 'dpd', \"sukarno's\", 'prosecute', 'papuan', 'sunda', 'lombok', 'minimal', 'rp', 'putnam', 'zeal', 'littlefield', 'buren', '311', 'evils', 'disapproval', 'talents', 'delight', 'ralph', 'annotated', 'ankle', 'nathan', 'firms', 'tyler', 'adventure', 'peaking', 'swept', 'launching', 'grigore', 'conflicting', 'editura', '973', 'valued', 'substratum', 'bucuresti', 'winston', 'shah', 'deploy', 'golfers', 'eleanor', 'rebuilt', 'turk', 'displaced', 'est', 'lent', 'grammatically', 'instant', 'chat', 'capitalization', '978', 'framed', 'soloists', 'responsive', 'tailpin', 'soundpost', 'reversible', 'diluted', 'tightens', 'viols', 'bologna', 'epitome', 'peg', 'pluck', \"tchaikovsky's\", \"berio's\", 'crossover', 'enclave', 'boroughs', 'halls', 'bangla', 'â\\x86\\x92', 'fiddles', 'henryk', 'gu', 'vibrated', 'gentle', 'backwards', \"string's\", 'eddie', 'stresses', 'evocative', 'pending', 'symbolically', 'perish', 'warrants', 'discernible', 'externally', 'exam', 'graduates', 'disagree', '115', 'strikers', 'inaugurated', 'delegate', \"veterans'\", 'reductions', 'vestiges', '1610', 'violate', 'newcomers', 'habitation', 'blackwell', 'precursors', 'predates', 'switched', 'struggles', 'polling', 'agencies', 'squash', 'infection', 'blanc', '116', 'devoting', 'erosion', 'ailments', \"jehovah's\", 'avoidance', 'totals', 'delhi', 'mumbai', 'odds', '291', 'assignment', '02', 'merchants', 'greenwich', 'letting', 'aroused', 'disastrous', 'litters', 'psychological', 'prevents', 'saiga', 'impair', 'trapping', 'zorn', 'legality', 'australasian', '408', 'pencak', \"that's\", 'climb', 'kick', 'catches', '1â\\x80\\x932', 'namibia', 'malawi', 'sickly', 'hepburn', 'essex', 'settling', 'capensis', 'arkive', 'decreases', 'hibernate', 'melting', '935', 'rosa', 'ventures', 'welcomed', 'disengage', '295', 'specialty', 'temps', '1746', 'scythians', 'exceedingly', 'gypsies', 'impressive', 'goh', 'chok', 'tong', 'announce', \"o'brien\", 'girls', 'exiles', 'heartland', 'deposit', 'allusion', 'compensation', 'wells', 'hypothetical', 'sicilian', 'norms', 'grammarians', 'moroccan', 'nabataean', 'algerian', 'bahrani', 'yemeni', 'ä«', 'phonemically', 'contrastive', 'taa', 'ti', 'mak', 'desks', 'ba', 'sana', 'palatalized', 'preposition', 'ah', 'nunation', 'perfective', 'participles', 'encoding', 'enclitic', 'typing', 'harassowitz', 'kees', 'category', 'shi', 'lacquer', 'misleading', 'composites', 'und', 'ons', 'rhythmical', 'fashioned', 'fife', 'musicologist', 'tabor', 'francophones', 'ãª', 'sing', 'medici', 'harlequins', 'linking', 'c8', 'confluence', 'hardships', 'uniting', 'pressured', 'curiosity', 'vetoing', 'assassinated', 'memorials', 'recessed', 'biting', 'curl', 'distasteful', 'warn', 'repel', 'thirtieth', 'biographer', 'archibald', 'unanimously', 'getter', 'divisive', 'irvine', 'progressivism', \"family's\", 'echoed', 'commentators', 'concurred', 'isolationist', 'advisory', 'elaborated', 'rejecting', 'addresses', '100th', 'terror', 'renaming', 'vikings', \"john's\", 'bloc', 'alert', 'nautical', 'ethnically', 'participants', 'pottery', '3200', '1650', 'persecuted', 'neil', 'amr', 'saints', 'unrest', 'novelists', 'ombo', 'flock', 'spectacle', 'qualified', 'mauritania', 'sumatrans', 'exuberance', 'cultivation', 'slaughtered', 'indus', 'composing', 'receded', '1747', 'clergy', 'meaningless', 'overcame', 'xxi', 'ninety', 'impeachment', 'emotionally', 'certified', 'manners', 'rivalry', 'jumper', 'asking', 'twisted', 'proceeding', 'bismarck', 'crimson', 'roe', 'heal', 'invading', 'bois', 'overthrown', 'suspension', 'deficit', '734', 'retailers', 'gap', '850', 'enrollment', 'suckling', 'anticipation', 'licking', 'classifying', 'bulgarian', 'mongols', 'holders', 'diminish', 'shifting', 'banquet', 'sneaking', 'ignoring', 'flank', 'ammunition', 'pensions', 'dela', 'va', 'forfeited', 'rogers', 'ruined', 'royster', '555', 'graff', 'richly', 'grouping', 'puppet', 'cinemas', 'duo', 'mornings', 'diapause', 'roadside', 'toys', 'subcontinent', 'communicating', 'luxury', 'singled', 'southerly', 'compares', 'excel', 'masonic', 'benton', 'impetus', 'delirious', 'aquarius', 'vicinity', 'availability', 'allophones', '444', 'touristic', 'balkans', 'singa', 'boasted', 'typifies', 'mastery', 'nie', 'meter', 'australasia', 'mt', 'junction', 'copies', '1536', 'soriano', 'argentine', 'cerro', 'spaniards', 'barrios', 'boast', 'iberian', 'operas', '585', 'usefulness', 'amoy', 'livable', 'confucius', 'tightening', 'repaired', 'drumming', 'mughal', 'uganda', 'deriving', 'verde', 'inventory', 'gla', 'denote', \"swan's\", 'hamsa', 'dried', 'screws', 'minutely', 'trills', 'multiples', 'gourds', 'sticks', 'vibraphone', 'wa', \"read'\", 'na', 'kamusi', 'usiku', 'nghe', 'rhetorical', 'abolishing', 'cash', 'baptist', \"parents'\", 'deeds', 'heroism', 'acquainted', \"'and\", 'pioneer', 'nicknames', 'rescind', 'follower', 'energized', \"harrison's\", 'midterm', 'inactivity', 'alienate', 'greeted', 'posterity', 'proclaim', 'transcontinental', 'caliber', 'casket', 'savior', 'impelled', '251', '297', 'ssbn', 'cvn', 'brigade', 'monday', '200th', 'articulating', 'ventral', 'voraciously', 'bugs', 'taxidermy', \"egyptians'\", 'ethics', '22â\\x80\\x9326', '315', 'cn', 'trek', 'hertfordshire', '8000', '639', 'abdicate', 'spanning', 'ethno', 'mode', 'disillusioned', 'glorious', 'demonstrators', 'inaccurate', 'unfair', 'excuse', 'mediator', 'outrage', 'outsourcing', 'microsoft', \"undp's\", 'helm', 'artillery', 'receptive', 'mcgraw', 'tony', 'realms', 'undergoing', 'competitiveness', '616', 'trader', 'banker', 'butcher', 'paint', 'marjorie', 'drill', 'coached', 'shipbuilding', 'casualty', 'saturn', \"johnson's\", 'gains', 'remind', 'ratify', 'chaotic', 'vladivostok', 'impeached', \"court's\", 'camps', 'requested', 'evaluation', 'frail', '34th', \"stephen's\", 'burkina', 'faso', 'monitored', 'fable', 'arizona', 'palate', 'resume', 'academia', 'frisian', 'wicked', 'abolished', '247', 'carey', 'evenings', 'adapt', 'whitish', 'pythons', 'paler', 'daniels', 'charlie', 'chartered', 'hedges', 'cream', 'lengthy', 'subpopulation', 'defects', 'deficiency', '518', 'emirate', 'qatura', 'qatara', 'hydrocarbons', 'clan', 'khalifas', 'wakrah', 'qataris', 'sociopolitical', 'cultured', 'trillion', 'aspire', 'qfc', 'khor', 'dukhan', 'hanbali', 'voip', 'miners', 'reed', 'weighted', 'outlook', 'obsolete', 'euros', 'loved', 'alex', 'landmarks', 'maybe', 'riau', '704', '272', 'petrochemicals', 'entrepã´t', '44th', '147', 'à®\\x9aà®¿à®\\x99à¯\\x8dà®\\x95', 'à®ªà¯\\x81à®°', 'annals', 'thunderstorm', 'auspicious', 'outpost', \"'sea\", \"town'\", 'tumasek', 'archaeologists', '1613', 'ablaze', 'spotting', \"raffles's\", 'farquhar', 'answerable', 'coolies', 'unload', 'barge', 'bumboats', 'lauts', 'farers', 'kampong', 'glam', 'canning', 'kampongs', 'woolner', 'bastion', 'tomoyuki', 'yamashita', \"empire's\", 'shå\\x8dwa', 'repossessed', 'shå\\x8dnantå\\x8d', 'yang', 'pertuan', 'negara', 'kuala', 'lumpur', 'shortages', 'dearth', \"yew's\", 'curbed', 'centring', 'sars', 'casinos', 'istana', 'worthington', 'mauzy', 'milne', 'sdp', 'sda', 'illiberal', 'flawed', 'irregularities', 'gerrymandering', 'libel', 'jeyaretnam', \"all'\", 'disharmony', 'multiracial', 'bloggers', 'posting', 'racist', 'offences', 'caning', 'appropriateness', 'penalty', 'fpda', 'counterbalance', 'provident', 'malaysians', 'dhl', 'tekong', 'ubin', '166', 'kã¶ppen', '72â°', 'hottest', 'wetter', 'haze', 'prompt', 'bushfires', 'daylight', 'eliminated', 'entrepot', 'biomedical', 'wafer', 'erc', 'revitalising', 'estimation', 'legalise', 'flyer', 'helix', 'hubâ\\x80\\x94about', 'expects', 'ida', \"ida's\", 'singtel', 'icell', 'qmax', 'exchangeable', 'ringgit', 'interchangeability', 'bruneian', 'rss', 'intrepid', 'mindef', 'teo', 'hean', 'oversees', 'desmond', 'kuek', 'bak', 'chye', 'bodied', 'exemption', 'deterrent', 'aggressors', 'pacts', 'gurkha', 'hijacking', 'storming', 'hijackers', 'sof', 'foiled', 'rsaf', 'saf', 'macao', 'ageing', 'immigrate', \"andrew's\", 'cathedralsingapore', 'taoism', 'sikhism', 'preschool', 'curricular', 'dichotomy', 'cohort', 'ngee', 'psle', 'lets', 'inclined', 'skip', \"bachelor's\", \"master's\", 'ite', 'recruiting', 'schoolhouse', '150000', 'insead', 'essec', 'tisch', 'edb', 'achieves', 'upgrading', 'flexsi', 'modular', 'classrooms', 'mould', 'inclement', 'majulah', 'discourage', 'intermarriages', 'fisherfolk', 'peranakan', \"'straits\", \"chinese'\", 'kopi', 'tiams', 'hainanese', 'satay', 'oysters', 'stingray', 'barbecued', 'sambal', 'baysince', 'striving', \"'gateway\", \"west'\", 'highlight', 'biennale', 'safra', 'unionworks', 'viewing', 'uncensored', 'scuba', 'hantu', 'kallang', 'roof', 'seater', 'bowling', 'fandi', 'ang', 'peng', 'siong', 'jiawei', 'slingers', 'mcys', 'caters', 'teenagers', 'capability', 'mooted', 'aspirations', 'segregate', 'jamae', 'gregory', 'illuminator', 'fullerton', 'lau', 'scattering', 'conserve', 'shophouses', 'gazetted', 'postmodern', 'recycle', 'diversify', 'barrage', 'expire', '2061', 'positioned', 'containerised', 'teus', '423', 'transshipment', 'refuelling', 'keppel', 'stopover', 'cebu', 'sia', 'privatising', 'keretapi', 'tanah', 'melayu', 'tanjong', 'pagar', 'c751b', 'eunos', 'infrequency', 'scheduling', \"buses'\", 'ez', 'contactless', 'smartcards', '991', 'tolls', 'pricing', 'drugs', 'biased', 'raider', 'css', 'roscoe', \"bright's\", 'rifle', 'stole', 'relentless', 'turner', 'nashville', 'curb', 'workings', 'meatpacking', 'regretted', 'install', 'rampant', 'banners', \"brady's\", 'adroit', 'stumping', 'soared', 'debilitating', \"lodge's\", 'telegrams', 'doomed', \"keith's\", 'lesson', 'enduring', 'bestseller', 'sidney', 'chip', 'dupont', 'basics', 'digraphs', 'oligolectic', 'provisioning', 'bombus', 'linear', 'postal', 'windy', 'width', \"'cello\", \"bach's\", 'dvoå\\x99ã¡k', 'zoltã¡n', 'hindemith', 'prokofiev', 'britten', 'dutilleux', 'poplar', 'servais', \"body's\", 'haired', '1538', 'performer', 'knees', 'carving', \"cellist's\", 'glissando', 'inward', 'downbow', 'upbow', 'battuto', 'tratto', 'dip', 'eighths', 'accessories', 'shoe', 'tempo', 'humidifiers', 'elgar', 'concertante', \"britten's\", 'nom', 'strawberry', 'nicolã²', 'battista', 'davidov', 'linguistically', 'unfamiliar', 'squares', 'galleries', 'keyed', 'kinnor', 'chã¢teau', 'necking', 'quechua', 'incas', 'andrien', 'estadã\\xadstica', 'informã¡tica', 'perfil', 'caribbean', 'freddie', 'león', 'maior', 'knob', 'bewickii', 'ornithological', 'dursunlu', 'louchart', 'anser', 'lohengrin', 'etain', 'edda', 'tuonela', 'odette', 'amur', 'javan', 'parentheses', 'smithers', 'marimba', 'djembe', 'guitarra', 'cithara', 'vinaccia', 'jurado', 'amplify', 'requinto', 'dobro', 'spider', 'slides', 'battente', 'stratocaster', 'ibanez', 'fretless', 'pickguard', 'headstocks', 'graphite', 'stainless', 'buzz', 'embedded', 'fretboards', 'clockwise', 'aluminium', 'cedar', 'piezo', 'scratchplate', 'vibrolux', 'amps', 'bigsby', 'bender', 'annam', 'quáº£ng', 'hoã\\xa0ng', 'mæ°æ¡i', 'lä\\x83m', 'há»\\x8fi', 'ngã£', 'contours', 'hã\\xa0', 'náº·ng', 'contour', 'phonation', 'triphthongs', 'centering', 'offglides', 'alexandre', 'sophana', 'flourish', 'guerrilla', '263', '3â\\x80\\x934', 'ladder', 'humorous', 'babylon', '1840', 'headcount', 'arose', 'bedouin', 'mizrahi', 'libyan', 'cow', 'outwards', 'knock', 'baths', '128', \"magazine's\", 'assam', 'complicates', '362', '371', 'promulgated', 'kwame', 'economically', 'entails', 'kwa', 'gur', 'contrasted', 'healthcare', 'whereabouts', 'perennial', 'mandible', 'erect', 'flattens', 'traversing', 'monogamous', 'personalities', 'taboo', 'yield', 'fluctuations', 'gods', 'agrarians', 'caldwell', 'vacation', 'lump', '24th', 'motto', 'erectus', 'condemnation', 'revamped', 'exclusive', 'hostility', 'bombings', 'prospects', 'curtailed', 'groupings', 'pivotal', 'bn', 'inexperienced', 'negligible', '256', 'formality', 'patriots', '333', 'vans', 'prevailed', 'extracts', 'roo', 'mascots', 'mistaken', 'storing', 'packed', 'swathes', 'preserving', 'unwelcome', 'maxwelli', 'gavin', 'euphrates', 'marsh', 'drainage', 'ã\\x93tr', 'habitually', 'volsunga', 'saga', 'southwold', 'suffolk', 'footnotes', '50â°f', 'koepfli', 'bininda', 'emonds', 'sumatrana', 'maculicollis', 'provocax', 'neotropical', 'congicus', 'cinerea', 'strands', 'centimetre', 'amblonyx', 'cinereus', 'tortuguero', 'perth', 'fischotter', 'otterinholt', 'otternet', 'morphologically', 'adapting', 'adaptive', 'convergent', 'stereotype', 'dramas', 'forelegs', 'interpreted', 'rum', 'surrounds', 'grades', 'mankind', 'upscale', 'reformed', 'gash', 'youtube', 'archaeology', 'administrators', 'sake', 'turmoil', 'genders', 'fa', 'keyboards', 'inclusion', '118', 'heroes', 'wedged', 'faces', 'vases', 'ich', 'damped', 'crowned', 'mozambique', 'freeways', '327', '417', 'stripe', 'arises', 'roy', 'basswood', '183', 'tightened', 'beating', '192', 'brandes', '153', '410', '1534', 'emigration', 'jurisdictions', 'opt', 'acadian', 'whence', 'bard', 'jebel', 'theoretically', 'breach', 'detention', 'accordance', 'oasis', 'beja', 'hanafi', 'imams', 'repairing', 'proboscis', 'unwanted', 'hatches', 'adopting', 'sustainability', 'stockholm', 'dj', 'ingredient', 'hose', 'recounts', 'nick', 'loaded', 'imagery', 'tempered', '201', 'dagomba', 'gonja', 'akans', 'cote', 'elmina', 'africanism', 'garvey', 'rawlings', 'kufuor', 'embarked', 'ghâ¢', 'vat', 'dangme', 'dagbani', 'jss', 'buduburam', 'refugee', 'familiaris', 'villain', 'tending', 'pelages', 'tread', 'rub', 'irises', 'dispersals', 'ejaculation', 'thrusting', 'roaming', 'epidemics', 'wagging', 'whimpering', 'bristles', 'crouch', 'suspicious', 'wag', 'camaraderie', 'indiscriminate', 'aggressively', 'whimper', 'defecation', 'hierarchy', \"pair's\", 'disperse', 'trap', 'alphas', 'betas', 'ritualized', 'caribou', 'lycaon', 'sufficiently', 'odin', 'touches', 'asena', 'fatalities', 'cull', 'belarus', 'unprotected', 'depredation', 'bounty', 'lusatia', 'reintroductions', 'proponents', 'disturbance', 'tibet', 'collars', 'pullman', 'fayetteville', 'erie', \"where's\", 'halpin', 'geronimo', 'reciprocity', 'fareed', 'hawaiian', 'liliuokalani', \"blount's\", 'wheeler', 'tumor', 'bryant', 'oneida', 'surgeons', 'reliable', \"james's\", 'worries', 'rift', 'bytes', 'ruminants', 'consumes', 'overcast', 'prussian', 'lucrative', 'mixes', 'confusing', 'confounded', \"'i'\", 'alteration', '2200', 'filipinos', 'noi', 'dickinson', 'uniquely', 'superiority', 'curse', 'ineffective', 'parade', 'reynolds', 'nicaraguan', 'rubã©n', 'darã\\xado', 'regimental', 'dana', 'watson', 'vaudeville', 'sociolinguistic', 'phoneme', 'chris', 'rugged', 'exemplified', 'bing', 'hammering', 'tsinghua', 'augmentative', 'versatility', 'alcoa', 'shrinks', 'bouncing', 'rehearsal', 'a4', 'choir', 'chao', 'ã©', 'muong', 'tá»±', 'intonations', 'semivowel', 'pali', 'rimes', 'bangladeshi', 'taste', 'comoros', '278', 'odawa', 'algonquin', 'lowertown', 'metcalfe', 'gouzenko', 'amalgamated', 'rockcliffe', 'centretown', 'fitzroy', 'gower', \"l'outaouais\", 'ulaanbaatar', 'humidex', 'tornadoes', 'richter', 'parkways', 'autoroute', 'sto', 'scotiabank', 'rapidz', 'hugo', 'invariably', 'subcategories', 'inverted', 'spaced', 'incorporate', 'gripping', \"manufacturer's\", 'aesthetic', 'irving', 'expressly', 'imagine', 'amateurs', 'yesterday', 'bet', 'champlain', 'utrecht', 'accepts', 'administers', 'loons', 'divers', 'gallinules', 'coots', 'ie', 'pharaoh', 'deposed', 'parcel', 'outlawed', 'commissions', 'hampered', 'ardent', 'happening', 'irrespective', 'creed', 'protectorates', 'dental', 'solve', 'madness', 'coincided', 'monopoly', 'households', '107', \"germany's\", 'monumental', '292', 'libraries', 'epiphany', 'abusive', 'wolverines', 'heisman', 'landings', 'philippine', 'auxiliary', 'pigs', 'interdependent', 'webbing', 'bureaucracy', 'observers', 'restoring', 'happiness', 'atop', 'yielding', 'confronting', 'cried', 'devouring', 'venture', 'ranching', 'sleeping', 'praise', 'mugwumps', 'sturdiness', 'deals', 'forbid', 'fairness', 'mail', 'obey', 'sailed', '289', 'fostered', 'adrian', '172', 'herald', 'option', 'practised', 'urbanized', 'habsburg', 'tasting', 'error', '1320', '330', '1002', 'dermatitis', 'invalidated', 'greenpeace', 'occurrence', 'altitude', 'heatwaves', 'partnerships', 'destinations', 'dec', 'paddlers', 'robinson', 'discount', 'warring', 'alleviate', 'spin', 'mausoleum', 'beef', 'belgians', 'doors', '473', '481', 'preview', 'syntactic', 'everyday', 'lexical', 'djibouti', 'prefixed', 'verse', 'greetings', 'crab', 'bä\\x9bijä«ng', 'chinaâ\\x80\\x99s', 'approximates', 'mongol', 'zhoukoudian', 'pagoda', 'tianning', '1420', 'zhili', 'mao', 'zedong', 'xidan', 'influx', 'zhongnanhai', \"chang'an\", 'pm', 'dumped', 'wudaokou', 'unregistered', 'cloisonnã©', 'shui', 'hutong', 'jia', 'expressway', 'matches', 'top50', 'mastercard', 'chefs', 'ramparts', 'sã¸erne', 'ã\\x98restad', 'hã¸rsholm', 'ballerup', 'albertslund', 'strand', 'gefion', 'spire', 'ã\\x98stre', 'anlã¦g', 'hectars', 'fra', 'henning', 'michelin', 'noma', 'nordisk', 'tripadvisor', 'lars', 'danmarks', 'bã¸rsen', 'sewage', 'slot', 'grist', 'bohr', 'painter', 'ghosh', 'kahn', 'rickshaws', \"dhaka's\", 'enabling', 'simpler', 'fennec', 'giraffa', 'camelopardalis', '1300', 'equestrian', 'alberto', 'bomb', 'fasten', 'ribbon', 'bachmann', 'transporting', 'dawn', 'dominic', 'bongo', 'muslin', 'phillips', 'guerrillas', 'fragments', 'undescribed', 'grasshoppers', 'ocelli', 'toxicity', 'reticulated', 'roses', 'accretion', 'tradeâ\\x80\\x94particularly', 'iroquoian', \"'canada'\", 'donnacona', 'prehistorically', \"l'anse\", 'meadows', '1497', 'basque', 'whalers', 'tadoussac', 'acadia', 'canadiens', 'acadians', 'iroquois', 'wolfe', 'outposts', 'intercolonial', '1713', '1769', 'loyalist', 'surpass', \"harris's\", 'amalgamation', 'charlottetown', 'aborted', 'durham', 'recommend', 'assimilation', 'canadas', 'reinstate', 'exploratory', 'offset', 'refactoring', \"mã©tis'\", 'grievances', \"macdonald's\", 'klondike', 'vimy', 'quebecers', 'operative', 'ccf', 'presaged', 'tommy', 'dieppe', 'scheldt', 'materiel', 'parti', 'registrar', 'assertive', 'patriation', 'enshrining', 'automotive', 'omnipresent', 'precedent', 'overridden', 'empowered', 'wielding', 'chooses', 'michaã«lle', 'advises', 'apportioned', 'ndp', 'interpreting', 'arbiter', 'honourable', 'madam', 'beverley', 'mclachlin', 'policing', 'undefended', '861', 'multilateralism', 'norad', 'apec', 'dart', 'kashmir', 'vaccines', 'seabed', 'geopolitical', 'federations', 'initiate', 'equalization', 'boreal', 'prevail', 'rockies', '60â°w', '141â°w', 'longitude', 'cfs', 'ellesmere', 'islandâ\\x80\\x94latitude', '5â°nâ\\x80\\x94just', 'scoured', 'thinly', 'soiled', 'voluminous', 'waterfalls', 'widens', 'protrude', 'appalachian', 'gaspã©', 'fundy', 'nahanni', 'waterfall', 'barrens', 'â\\x88\\x9215', '20s', '70s', 'athabasca', 'canola', 'grains', 'aeronautics', 'fta', 'nafta', 'budgetary', '149', '897', 'anchored', 'ukrainian', 'respondents', \"toronto's\", 'canadaâ\\x80\\x99s', 'inflow', 'pluralism', '16â\\x80\\x9318', 'postsecondary', 'scholarships', \"kwakwaka'wakw\", 'entertainers', 'nfb', 'crtc', 'enshrined', 'expo', 'lacrosse', 'pastime', 'professionally', 'whistler', \"province's\", 'inuktitut', '853', '745', '469', '080', 'lamellae', 'filter', 'beaks', 'smew', \"tongue's\", 'liftable', 'spikes', 'crocodilians', 'decoys', 'aviculturists', 'silliness', 'daffy', 'conceptual', 'kä«mi', 'dynastic', 'aã\\xadgyptos', 'oases', 'predynastic', 'badarian', 'naqada', 'shaw', 'hyksos', \"cairo's\", '343', 'kamil', 'daly', 'okasha', 'egyptology', 'ucl', 'caliphate', 'mamluks', 'evacuation', 'pasha', 'husayn', \"d'ã©tat\", 'fuad', \"sadat's\", 'kifaya', 'vis', \"'we\", 'yom', 'imbaba', 'hate', 'hawass', 'leila', 'arabicnews', 'contend', 'mohammed', 'ayman', 'surveillance', 'divorce', 'eohr', 'moussa', 'slated', 'trickle', 'globally', 'adherents', 'awkaf', 'azhar', 'filmmaker', 'risks', 'conversions', 'tahtawi', 'sayed', 'forged', 'bolster', 'kom', 'ramadan', 'nisim', 'yuval', 'steinitz', 'farafra', '38th', 'traversed', 'chaldã¦a', 'babylonia', 'assyria', 'angola', 'hybridization', 'dolphin', 'natal', 'zimbabwe', 'kipling', 'oakland', 'rudyard', 'genetics', 'atlas', 'scenery', \"continent's\", \"france's\", 'gateway', 'jimi', 'designations', 'nationwide', 'prototypical', \"year's\", 'tournament', 'runners', 'dã©tente', 'intervene', 'cst', 'ayer', 'addison', \"couple's\", 'rudolff', 'epsilon', 'annapolis', 'preflight', \"ship's\", 'marianas', 'carolines', 'mindoro', 'typhoon', 'ingersoll', 'fix', 'ulithi', 'dancer', 'internationalist', 'fulfilled', \"congressman's\", 'editorial', 'appropriations', 'briefing', 'elevated', 'â\\x80\\x9ca', 'gum', 'disappointment', 'incapable', 'unwise', 'competence', 'intimates', 'dissatisfaction', 'whip', 'pandemic', 'vaccinated', 'plagued', 'delays', 'abortion', 'evacuated', 'rouge', 'lynette', 'insert', 'automatic', 'lingering', 'outsider', 'plea', 'shabecoff', 'excellence', 'deb', 'lesbian', 'embargoed', 'pneumonia', 'vail', 'mayo', 'clinic', 'transcript', 'surpassing', 'eulogized', 'eulogy', 'invitation', 'dictrict', 'oval', 'exploration', 'flats', 'communal', 'pouncing', 'catastrophe', 'subsidies', '812', 'es', 'combative', 'marsupium', 'postnatal', 'byproduct', 'fermentation', 'acetate', 'bacteria', 'thylacine', 'wonambi', 'veterinarians', 'felidae', 'lanky', 'monkeys', 'chital', 'excessive', 'underparts', 'dappled', 'pigment', 'dwarfism', 'gabon', '475', 'participates', 'inscribed', '565', 'streamline', 'zoologists', 'climatologists', 'summarizing', \"center's\", '770', 'stirling', 'seaworld', 'dimorphic', 'kotzebue', 'droplets', 'traction', 'kolenosky', '475â\\x80\\x93485', 'furbearer', 'novak', 'obbard', 'malloch', 'conjectured', 'disproved', 'polarbear', 'peroxide', 'bleach', 'stocky', \"allen's\", 'snowshoes', 'trichinella', 'roundworm', 'antifreeze', 'insulative', 'bacterial', 'leptospirosis', 'morbillivirus', 'viral', 'pollutant', \"bears'\", 'immunological', 'weaknesses', 'ursidae', 'ursinae', 'marris', 'specious', 'grizzlyâ\\x80\\x93polar', 'behaviors', 'phenotypic', \"alaska's\", 'vestigial', 'denning', 'constantine', 'phipps', 'marinus', 'pallas', 'pbsg', 'guillemot', 'ukkusiksalik', 'spends', 'mainstay', 'fissures', 'polynyas', 'appenzeller', 'dimick', 'topically', 'drastic', 'shrinkage', 'melt', 'photographically', 'drifting', 'recurring', 'meme', 'forelimb', 'poke', 'beluga', 'muskox', 'kelp', 'outrun', 'subsists', 'stomachs', 'orcas', 'orcinus', 'ingests', 'livers', 'hypervitaminosis', 'floes', 'undertaken', 'drownings', 'regression', 'styrofoam', 'lipophilicity', 'soluble', 'hormone', 'biomarkers', 'immunoglobulin', 'retinol', 'summertime', 'fasting', 'incidence', 'hermaphroditic', 'persistant', 'discouraging', 'ddt', 'induce', 'fertilized', 'prodigial', 'breakup', 'maternity', 'purports', '2001â\\x80\\x932010', '2041â\\x80\\x932050', '2050', '2080', 'exhaust', 'drowning', 'inaccessibility', '1194', 'advocacy', 'disproportionate', 'refuted', 'pbi', \"andrã©e's\", \"1960's\", 'enforceable', 'icebreakers', 'nigel', 'bankes', 'liberally', 'viability', 'unsustainable', 'sled', \"resident's\", 'jul', 'biologist', 'inuvialuit', 'plummeted', 'injuring', '2327', 'environmentalists', 'contends', 'fails', 'vanishing', 'meehan', 'chukotka', 'thumbpolar', 'beverages', 'nelvana', 'bundaberg', 'breyers', 'hemispheres', 'panserbjã¸rne', 'bowdoin', 'prolific', 'pattou', 'weaves', 'enchantment', 'troll', 'ala', 'retelling', 'terra', 'ruler', 'exerting', 'looting', 'undisturbed', 'notoriously', 'echoes', 'renown', 'madrid', 'buster', 'progressives', 'corinne', 'columnists', 'roosevelts', \"theodore's\", 'illnesses', 'bartleby', 'hathaway', 'rowing', 'assemblyman', 'badlands', 'tiffany', 'awake', 'carow', '1889â\\x80\\x931896', 'squalid', 'greatness', 'savages', 'tartar', 'midwest', 'kettle', \"army's\", 'soots', 'softly', 'rushed', 'creek', 'ansley', 'inspection', 'blum', 'toured', 'conservationism', '1901â\\x80\\x931909', 'panamanian', \"fleet's\", 'waved', \"brenner's\", 'bas', '512', \"o'toole\", \"lafollette's\", 'caucuses', 'eyeglass', 'schrank', 'zahm', 'brazilians', 'cã¢ndido', '507', 'youngs', 'matinecock', 'palma', 'humboldt', 'corroborated', 'fortifications', 'evacuate', 'tres', 'paranã¡', 'contributes', 'scandinavians', 'mennonite', 'maldonado', 'nonprofessing', 'cantegriles', '314', 'outgrowth', 'suppression', 'infinitive', 'hassan', 'luis', 'loosening', 'michel', 'otto', 'omitted', 'painters', 'novo', 'climax', 'bounded', 'weber', 'identifying', 'bushy', 'gawc', 'londinium', \"'the\", 'm25', \"regent's\", 'pancras', 'wembley', 'curt', 'ligers', 'valmik', 'thapar', 'bores', 'mellower', 'arban', 'polka', 'cuban', 'guiding', 'manipulate', 'gaspar', 'blogspot', 'forte', 'responsiveness', 'builder', 'dulcimer', 'pollens', 'bartolomeo', 'builders', \"silbermann's\", 'lifts', 'andreas', 'escapement', 'alpheus', 'pape', '182', 'diagonally', 'accomodate', 'console', 'kawai', 'a0', 'fazioli', 'beech', 'softwood', 'braces', 'technicians', 'ivorite', 'movers', 'ivories', 'prins', 'chimwiini', 'mti', 'kiunguja', 'lambert', \"'a\", 'intact', 'broader', 'feeders', 'dredging', 'molluscs', 'moulting', 'precedes', 'forage', 'submerge', 'submerging', \"whale's\", 'baleen', 'goosander', 'mergansers', 'drakes', 'moulted', 'eclipse', 'dimorphism', 'hen', 'fliers', 'muskie', 'peregrine', 'falcon', 'då«ce', 'då«can', 'upending', 'duiken', 'tauchen', 'ened', 'eend', 'eind', 'ente', 'anat', 'antis', 'î½î·ï\\x83ï\\x83î±', 'î½î·ï\\x84ï\\x84î±', 'nä\\x93ssa', 'nä\\x93tta', 'anta', 'platyrhynchos', 'muscovy', 'routinely', 'rana', 'temporaria', 'foie', 'gras', 'misconceptions', 'mallards', 'nested', 'unsuitable', 'fao', 'psychologist', 'wiseman', 'laughlab', \"you're\", 'joke', 'funny', 'patito', 'proverbial', 'abstruse', \"'behavioral'\", \"'claimed'\", \"'computing'\", \"'covered'\", \"'meta'\", 'prows', \"duck's\", 'tallahassee', 'refrigerator', 'anesthesia', 'polymelia', 'worshipped', 'benson', 'mochica', 'islamism', 'brutality', 'democratization', 'statutes', 'facing', 'stagnant', 'imam', 'ethiopia', 'novelist', 'geopolitics', 'calcium', 'cartilage', \"males'\", 'primates', 'bagemihl', 'homosexuality', \"martin's\", 'suckle', '2020', 'enclosures', 'cord', 'probable', '65â\\x80\\x9380', 'allegations', 'pt', 'breathy', 'choosing', 'villagers', '14â\\x80\\x9315', 'nutmeg', '163', 'scope', 'slowing', 'stipulated', 'ordinance', 'stirred', \"'large\", \"foot'\", 'wallaroos', 'pademelons', 'quokka', \"australia's\", 'qantas', 'guugu', 'yimidhirr', 'gangurru', 'kangooroo', 'kanguru', 'cooktown', 'hm', 'beached', 'reef', \"kangaroo's\", 'exploring', 'dawsonville', 'bucks', 'boomers', 'jacks', 'flyers', 'jills', 'wallaby', 'roos', 'tasmanian', 'forester', 'giganteus', 'fuliginosus', 'antilopinus', 'antlers', 'hopped', 'dismiss', \"travellers'\", 'tripod', 'grazers', 'swamp', 'hypogeal', 'chop', 'grind', 'silica', 'abrasive', 'exhaling', 'eructation', 'transferring', 'dioxide', 'palaeontologists', 'megalania', 'dingo', 'barking', 'boomer', 'wedge', 'raptors', 'goannas', 'dingos', 'feral', 'drown', 'disembowelling', 'permanence', 'conceive', 'stretchy', 'refills', 'quadruped', 'moderately', 'hops', 'genomics', 'dairy', 'geelong', 'wallal', 'midge', 'carriers', 'aborigines', 'sinews', 'aherrenge', 'marn', 'grook', 'kurnai', 'watering', 'dingoes', 'shy', 'playfully', 'utilised', 'grappling', 'sharpened', 'toenails', 'disembowel', 'fatality', 'fray', 'thirst', 'lulu', 'dazzled', 'headlights', 'occupants', 'windscreen', 'minimise', 'bonnet', 'ultrasound', 'checked', 'vet', 'lactose', \"joey's\", 'cuddle', 'endearing', '7ft', 'emblems', 'souvenirs', 'terence', 'ithaca', '8014', '8262', 'hyenas', 'estrous', 'rothschild', \"zoo's\", 'menagerie', 'factory', 'raetia', 'styria', 'lords', 'mill', 'nazis', 'nauru', 'franc', 'bavaria', 'exhibitions', 'qualification', 'comic', 'devoid', 'ensured', 'passports', 'accredited', 'interwar', 'premiership', '750', 'eurostat', 'ridership', 'survivors', 'councils', 'differently', 'random', 'numerical', 'bedford', '395', 'pron', 'fulfills', \"'painted'\", 'chinchillas', 'zorrilla', 'marton', 'gatherer', 'charrãºa', 'independencia', 'palacio', 'salvo', '1624', \"portugal's\", \"brazil's\", 'frontiers', \"argentina's\", \"uruguayans'\", 'jose', 'gervasio', 'piedras', 'cisplatina', 'lavalleja', 'treinta', 'brokered', 'pluriform', 'taxing', 'pickles', 'tupamaros', 'majorities', 'tabarã©', 'vã¡zquez', '57th', 'democracies', \"democracy's\", '28th', 'cpi', \"pensioners'\", 'incomes', '036', '903', 'jurisdictional', 'cuchillas', 'fluvial', 'basins', 'deltas', 'laguna', 'merã\\xadn', \"'black\", \"river'\", 'lagoons', 'catedral', '685', \"'sierra\", \"carapã©'\", 'intendente', 'departmental', 'undulating', 'coolest', 'warmest', 'thunderstorms', 'snowed', 'playa', 'shetland', 'slumps', 'slowdowns', 'shocks', 'stabler', 'resilient', 'worsening', 'dilution', \"'on\", '100m', 'casco', 'eugenio', 'casupã¡', 'uruguayâ\\x80\\x99s', 'inputs', 'â\\x80\\x9curuguayan', 'beefâ\\x80\\x9d', 'â\\x80\\x9curuguay', 'naturalâ\\x80\\x9d', 'premium', 'capitalizes', 'folkloristic', 'connotations', 'gaucho', 'prevalently', 'lithuanians', 'estonians', 'latvians', 'croatians', 'mestizo', 'thessaloniki', 'tel', 'aviv', 'valdense', 'waldensian', 'suiza', 'nueva', 'helvecia', 'conchillas', 'barker', 'canelones', 'ombãº', 'dulce', 'leche', 'claldy', 'gini', 'targets', 'pedestrian', 'vieja', 'rents', 'warranty', 'rented', 'precarious', 'asentamientos', 'ironic', 'cantegril', 'favelas', 'villas', 'miseria', 'arrabales', 'poblaciones', 'callampa', 'jacales', 'wise', 'copa', 'amã©rica', 'constituents', 'wheelchair', 'selecting', 'novels', 'cameroon', 'hornets', 'cuckoo', 'immense', 'temples', 'matteo', 'concentric', 'noticeably', 'leveled', 'nightlife', '1576', 'seating', 'analogy', 'pie', 'compendium', 'fabric', 'mall', 'avenues', '872', 'ernie', 'vega', 'spectators', 'container', 'accentuate', 'flautist', 'swabian', 'lacquered', 'bernoulli', 'siphon', 'fraction', 'venu', 'pullanguzhal', 'pizarro', 'hemming', 'sociã©tã©', 'loreena', 'shaved', '306', 'obstacle', \"tutankhamun's\", 'lurs', 'oxus', 'swellings', 'wonder', 'laird', 'guilds', 'clarino', 'cesare', 'bendinelli', 'homophony', 'relegated', 'loftiness', 'degraded', 'excepting', 'confining', 'unworthy', 'formulae', 'hector', 'instrumentation', 'kalmus', 'crooks', 'shanks', 'aperture', 'singly', \"lips'\", 'shank', 'playability', 'comfort', 'swappable', 'lew', 'soloff', 'tofanelli', 'gorruso', 'morrison', 'endurance', 'hã¥kan', 'euphonium', 'clef', 'chromaticism', 'alta', 'capella', 'leadpipe', 'originals', 'shawms', '466', 'conjecture', 'sloppy', 'bends', \"cornet's\", 'interchangeable', 'transposition', 'engaging', 'firmness', 'schema', \"valve's\", '0385', '0158', 'jacome', 'schlossberg', 'flexibilities', \"brandt's\", 'brandt', '7692', '9779', 'permutations', 'transpositions', 'beeler', 'vizzutti', \"eazy''\", 'virtuosity', \"armstrong's\", 'improvisations', 'gifted', 'improviser', 'eldridge', \"kenton's\", 'musicality', 'showboating', 'instantly', 'miyashiro', 'musculature', 'hubbard', 'chet', 'cherry', 'voisin', 'armando', 'ghitalla', 'vacchiano', 'bud', 'herseth', 'schlueter', 'malcolm', 'mcnab', 'sergei', 'nakariakov', 'hakan', 'mã©ndez', '1700s', 'liner', 'naxos', '550243', 'weidinger', 'hitherto', 'practicable', 'c4', '8da', 'syracuse', '0815621574', 'benn', '0393021297', \"trumpeter's\", 'accura', '0918194024', 'skardinski', 'lothrop', 'shepard', '0688419631', 'barclay', '0198162235', 'brownlow', 'pendragon', '0945193815', 'campos', '0195166922', \"players'\", \"lichtmann's\", 'dallas', 'furthest', 'slate', 'soundly', 'chronically', 'borne', 'textile', 'lights', 'camille', 'lease', 'inflected', 'dix', 'shortness', 'danes', 'accord', 'habitations', 'saxony', 'confines', 'guatemala', 'postcard', '508', 'archipelagic', 'monopolize', 'separatism', 'oost', 'indiã«', 'multatuli', 'borobudur', '18â\\x80\\x9320', 'voc', 'pki', \"suharto's\", 'harmonious', 'mpr', 'handles', 'opec', 'kuta', 'regencies', 'desa', 'jaya', 'toba', 'seismic', 'volcanic', 'volcanoes', 'eruptions', 'millimeters', 'shelf', 'rupiah', 'orientated', 'madurese', 'dayak', 'wayang', 'kulit', 'flavors', 'gamelan', '1755', 'indochina', \"linnaeus's\", 'benin', 'enfeoffed', 'faraway', '1140', 'onward', 'qualify', 'reichstag', 'yearned', 'unmittelbar', 'personage', 'minuscule', 'herrschaft', 'lordship', 'countship', 'comital', '1719', 'duly', 'fã¼rstentum', 'expediency', 'schloss', 'hegemon', 'alois', 'ceramics', 'miscount', 'disbanded', 'incarnated', 'dethroned', 'continuity', 'abdicating', 'gobbled', 'simmering', 'safekeeping', 'expropriated', 'entirety', \"dynasty's\", 'bohemia', 'anschluss', 'expropriations', 'â²', 'collaborationist', 'wehrmacht', 'hinterschellenberg', 'resettle', 'repatriated', 'gulag', 'priceless', 'ginevra', 'benci', 'leonardo', 'vinci', 'modernized', 'collegial', 'councilors', 'concurrence', 'stipulates', 'landtag', 'landesausschuss', 'oversight', 'requisite', \"ii's\", 'repercussions', 'otmar', 'hasler', 'leodis', 'esq', 'consuls', 'gemeinde', 'faintly', 'delineating', 'enlarge', 'grauspitz', '599', 'redraws', 'worldâ\\x80\\x94being', 'countriesâ\\x80\\x94the', 'tuvalu', 'favourably', 'advantageously', 'taxesâ\\x80\\x94the', 'â\\x80\\x94as', \"'letter\", \"box'\", 'stiftungs', 'privacy', 'nonresident', \"foreigners'\", 'legitimate', 'efta', 'harmonize', 'landesspital', 'fastening', 'curta', 'tracht', 'triesenberg', 'roadway', 'schaan', 'forst', 'nendeln', 'schaanwald', 'eurocity', 'postbus', 'sargans', 'zã¼rich', 'heliport', 'balzers', 'tyrol', 'internationl', 'morger', 'degelo', 'kerez', 'â\\x80\\x9cblack', 'boxâ\\x80\\x9d', 'tinted', 'basalt', 'landesmuseum', 'rheinberger', 'uefa', \"winners'\", 'universitate', 'riga', '1â\\x80\\x931', '4â\\x80\\x932', 'fixture', '0â\\x80\\x934', '0â\\x80\\x933', 'connelly', 'nikodem', 'finalists', 'minnows', 'latvia', 'downhill', 'hanni', 'wenzel', 'malbun', '2018', '2022', 'rent', 'schwarzler', 'liechenstein', 'ig', \"harry's\", 'walks', 'liechtensteins', 'fabulous', '151', 'astonishingly', 'countershaded', 'bellies', 'conserves', 'palaeeudyptines', 'gigantism', 'anthropornithinae', 'nightclubs', 'hilly', 'conceal', 'catalan', 'preserves', 'swamps', 'windows', 'shirt', 'reader', 'hides', 'harbors', 'alsace', 'reproduced', 'intimidation', 'sept', 'arrow', 'medial', 'gujarati', 'kitä\\x81b', 'chad', 'plurals', 'ya', 'flowering', 'enables', 'halictidae', 'osmia', 'floral', 'wasp', 'amber', 'apis', 'constructs', 'beeswax', 'cleptoparasite', 'subgenera', 'helen', 'koppen', 'silicon', 'residences', 'utmost', 'mike', 'capon', 'fujian', 'xinhua', 'modeled', 'tenses', 'lows', 'pharmaceutical', 'fauns', 'satyrs', 'wie', 'squealing', 'brakes', 'bells', 'harmonica', 'reedless', 'geiã\\x9fenklã¶sterle', 'alb', \"swans'\", 'fragment', 'femur', 'divje', 'babe', 'ugab', 'tibias', 'shin', 'playable', '9000', 'gudi', 'cranes', 'jiahu', 'henan', 'ç¯ª', 'zeng', 'suizhou', 'hubei', '1285', 'thereof', 'symphonies', 'recorders', 'unsw', 'karman', 'vortex', 'excites', 'fippled', 'windway', 'compress', 'labium', 'ramp', 'blower', 'trickier', 'intensities', 'excite', \"air's\", 'deflection', 'parameter', 'radiuses', 'nohkan', 'blindfolded', 'appreciable', 'headjoint', 'inefficiency', 'sensors', 'zampoã±a', 'flageolet', 'fujara', 'dizi', 'kaval', 'shakuhachi', 'anasazi', 'quena', \"bosun's\", 'flue', 'bellows', 'kingma', 'hyperbass', 'pitching', 'db', 'eb', 'krishna', 'keyless', 'pannalal', 'madhyam', 'meends', 'ragas', 'appropriately', 'bangalore', 'flutists', 'mahalingam', 'sharaba', 'shastri', 'palladam', 'bharata', 'natya', \"shastra's\", 'sarana', 'chatushtai', 'avinash', 'balkrishna', 'patwardhan', 'thatas', 'nagarcoil', 'fue', 'encompasses', 'blul', 'lyrical', 'chaban', 'bayaty', 'programmatic', 'def', 'dohl', 'diple', 'duduk', 'palendag', 'tumpong', 'washint', 'fleadh', 'cheoil', 'theobald', '21259', 'donna', 'â\\x80\\x9cbulgaria', 'â§ii', '1800â\\x80\\x931944', 'instrumentsâ\\x80\\x9d', '87745', '022', 'galway', '0356047113', '0356047121', 'pbk', 'schirmer', '002871380x', '1871082137', 'vardapet', 'grakan', \"nshkhark'\", 'beghun', \"grch'ä\\x93n\", 'npast', 'mä\\x93', 'srbadasman', \"harts'in\", 'abel', 'oghlukian', \"ganatahayots'\", 'aá¹\\x9bajnordarani', \"k'ristonä\\x93akan\", 'usman', 'ew', \"astuatsabanut'ean\", 'kedron', 'alina', 'â\\x80\\x9carmenia', 'â§i', 'epicsâ\\x80\\x9d', 'burkart', 'putnik', 'summy', 'birchard', '0874870771', 'toff', \"charles's\", 'scribners', '0684182416', 'abbot', '0715387715', '0195105028', 'wye', 'trevor', 'novello', '0711984654', 'fluteinfo', 'khlui', 'imslp', 'chiff', 'chiffboard', 'vidly', 'flutehistory', 'krantz', 'flautistico', 'cluff', 'multiphonic', 'pinkillo', 'ikonographie', 'renaissanceflã¶te', 'download', 'trainer', 'tã¢y', 'bá»\\x93i', 'lengthened', 'ã´', 'deutsche', 'valleys', 'lurã\\xadn', 'reyes', 'limaq', 'cuzco', 'amerindian', 'higgings', 'ramã³n', 'dietz', 'migrate', 'plazas', 'mãºsica', 'organologists', 'crwth', 'lap', 'crossbar', 'thrace', 'kissar', 'fingernails', 'ornate', 'querétaro', \"mckennitt's\", 'felix', 'downwards', \"wikirecording's\", 'ubiquity', 'distinguishes', 'soften', '691', 'inherent', '184', 'circulatory', 'leafy', 'colourful', 'goodhue', '75th', 'paleolithic', 'declares', 'dan', 'passeth', 'absorbing', 'lockwood', \"'elephants\", \"forget'\", 'metaphorical', 'expectations', '2006â\\x80\\x932007', 'eurobarometer', 'consultant', 'alternatives', 'conditioned', 'susan', 'manso', 'hausa', 'deaf', 'seneca', 'contamination', 'honduras', 'challenges', 'diplomats', 'deacon', 'somerset', '1636', 'ap', 'boylstons', 'brookline', '1751', 'msn', 'encarta', 'impressions', 'otis', 'writs', 'otisâ\\x80\\x99s', '1744â\\x80\\x931818', 'weymouth', '1767', '1768â\\x80\\x931770', 'stillborn', 'inborn', 'contentiousness', 'pointless', 'johna', 'gazette', '1768', 'deprived', 'englishmen', 'deserved', 'consent', 'jury', 'peers', 'succinct', 'forthright', 'assented', 'preston', 'chinard', 'retainer', 'guineas', 'manslaughter', 'misgivings', 'objections', 'workable', '1754', \"hutchinson's\", 'refutation', \"leonard's\", 'escalating', 'hostilities', 'climaxed', \"trumbull's\", 'deliberated', 'dawned', 'repeating', 'pamphlet', 'nobles', '213', 'nefarious', 'aristocrats', \"'an\", 'bicameralism', 'vices', 'follies', 'frailties', \"government'\", 'referenced', 'seconded', 'pillar', 'ablest', 'lipscomb', 'bergh', 'xxiv', 'plenipotentiary', 'vergennes', 'overruling', 'fisheries', 'negotiators', 'patriot', 'capellen', 'pol', 'hague', 'floated', 'nicolaas', 'staphorst', 'willink', 'amity', 'intimated', \"massachusetts's\", 'restrained', 'viciousness', 'â\\x80\\x9call', 'dominating', 'intellectually', 'experiential', \"americans'\", 'possessors', 'missed', '173', 'overlooks', 'underplays', '132', '0146', '437x', 'emancipate', 'wizje', 'stanã³w', 'zjednoczonych', 'pismach', 'ojcã³w', 'zaå\\x82oå¼ycieli', 'mondale', 'mightiness', 'pomposity', 'rotundity', 'votesâ\\x80\\x94a', 'frustrating', 'vigor', 'vanity', 'grudge', 'opinionated', 'washingtonâ\\x80\\x99s', 'negotiation', 'augment', 'implicated', 'confirming', 'unpractised', 'intrigues', 'statesman', 'soothe', 'orderly', '471', 'decorum', 'sighed', 'sobbed', 'groaned', 'screeched', 'screamed', 'shame', 'sorrow', 'swore', 'xyz', 'cracked', 'naturalization', 'naturalize', 'foreigner', 'criminalized', 'punishing', 'abused', 'furor', 'outset', 'aliens', 'alarms', 'shortsightedly', 'yyoaoaoaschwing', '331', 'stunned', 'entanglements', 'demobilized', 'symbolized', 'distrust', 'politicking', \"burr's\", 'cotesworth', 'sabotage', 'boosting', \"pinckney's\", 'expiring', 'unseated', 'nationalizing', 'effectually', 'aristoi', 'wondered', 'conferred', 'imperiously', 'commence', 'fate', 'bestow', 'nabby', 'stephens', 'louisa', \"abigail's\", 'fiftieth', 'coincidences', 'congregationalist', 'unitarianism', 'goodness', 'divinity', 'strove', 'reasonableness', '0361', '6207', 'railed', 'overclaiming', 'teachingamericanhistory', 'deism', 'blackguard', '421', 'promoter', 'â\\x80\\x9ci', 'obliged', 'commandments', 'sermon', 'â\\x80\\x9cmy', 'adoration', 'joy', 'tryumph', 'exaltation', \"tho'\", 'organique', 'â\\x80\\x9chowl', 'calvinistick', 'athanasian', 'divines', 'ballanced', 'demonstrates', 'doctrines', 'predestination', 'equated', 'conscience', 'â\\x80\\x9ccelestial', 'communicationâ\\x80\\x9d', 'revelation', 'â\\x80\\x9cyou', 'ashamed', 'passionate', 'sage', 'interpretative', 'tumultuous', 'knollenberg', '1766', 'ryerson', \"'bolder\", 'gregg', 'lint', 'joanne', 'freeman', 'disenchantment', 'reckons', \"'splendid\", \"misery'\", 'gelles', 'sloan', 'butterfield', 'letterpress', 'diaries', 'compilation', 'naturalists', '110cm', \"cheetah's\", 'summerhill', 'flippered', 'macaroni', 'eligible', 'rockhopper', 'harboured', 'decidedy', 'krill', 'sealife', 'hesitation', '250px', 'superbly', 'upperside', 'reflective', 'camouflages', 'velocities', 'waddle', 'wever', 'chicks', 'jouventin', 'locating', 'nearsighted', 'sivak', 'huddle', 'supraorbital', 'filters', 'bloodstream', 'excreted', 'assemble', 'crã¨ches', 'adã©lie', 'gourdin', 'archduchess', 'isabella', 'undergarments', 'ostend', 'isabellinism', 'camouflaged', 'acosta', 'hospitaleche', 'pansphenisciformes', 'spurious', 'seminal', 'cretaceousâ\\x80\\x93tertiary', 'byrd', 'tectonics', 'campanian', 'maastrichtian', 'evolutionarily', 'resilience', 'trophic', 'webs', 'extinctions', 'cormorant', 'manneringi', 'paleocene', 'swam', 'perudyptes', 'unnamed', 'proves', 'contra', \"nordenskjoeld's\", 'paraphyletic', 'paleeeudyptines', 'plasticity', 'jadwiszczak', 'delimited', 'anthropornis', 'nordenskjoeldi', 'icadyptes', 'salasi', 'disappearance', 'coincides', 'squalodontoidea', 'toothed', 'paraptenodytes', 'decidedly', 'morphotype', 'palaeospheniscinae', 'consititute', 'undisputed', 'presumedly', 'diverging', 'basalmost', 'breast', 'naked', \"aptenodytes'\", \"genus'\", 'synchronous', 'allopatric', 'burdigalian', 'carotenoid', 'banded', 'burrows', 'chattian', 'latitudes', 'galapagos', 'langhian', 'paleoclimatic', 'hospitable', \"groups'\", 'homoplasies', 'datasets', 'neoaves', 'paleognaths', 'fowl', 'waterbirds', 'storks', 'seabirds', 'charadriiformes', 'fain', 'houde', 'dataset', 'ciconiiformes', 'procellariiformes', 'mayr', 'anhingas', 'cormorants', 'pelecaniforms', 'superficially', 'convergence', 'marcel', 'tuinen', 'butvill', 'kirsch', 'gwyn', 'pengwyn', 'pinguis', 'â\\x80\\x9cfatâ\\x80\\x9d', 'pingouin', 'pinguin', \"'e'\", 'â\\x80\\x9cpen', 'wingâ\\x80\\x9d', 'tux', 'kernel', 'waddling', 'tuxedo', 'cutesy', 'grouchy', 'sinister', \"surf's\", 'cgi', 'parody', 'farce', 'mistakenly', 'pingu', 'silvio', 'mazzola', 'patagonicus', 'schlegeli', 'chrysocome', 'pachyrhynchus', 'robustus', 'chrysolophus', 'antipodes', 'demersus', 'mendiculus', 'humboldti', 'magellanicus', 'adeliae', 'iceberg', 'leeper', 'sikhs', '391', 'tournaments', 'reception', 'flourishing', 'faculties', 'outlined', 'talks', 'florence', 'prefers', 'algeria', 'deutsch', 'motorways', 'encyclopã¦dia', 'unchanged', 'polishing', 'functioned', 'depart', 'translates', 'beatles', 'continuum', 'dragons', 'roller', 'symposium', 'sampled', \"''see\", 'coffin', 'mummy', 'ankhhape', 'sanj', 'cymbalum', 'kumbalom', 'ping', 'orhestrations', 'bacchanalian', 'revels', 'tannhã¤user', \"grieg's\", 'gynt', \"osmin's\", 'aria', 'triumphieren', 'entfã¼hrung', 'aus', 'serail', 'scrape', 'zishend', 'shutting', 'choking', 'pianissimo', 'almighty', 'vibrer', 'secco', 'satisfying', 'wallop', 'sock', 'yarn', 'beaters', 'inaudible', 'satisfyingly', \"humperdink's\", 'beater', 'zing', \"dvoå\\x99ã¡k's\", 'highschool', 'drumset', 'sus', 'cym', 'cymb', 'romeo', 'juliet', 'pompeian', 'swish', 'pang', 'trash', 'setup', 'zill', 'avedis', 'zildjian', 'saluda', 'bellotti', 'agean', 'bosphorus', 'meinl', 'paiste', 'sabian', 'stagg', 'ufip', 'wuhan', 'agop', 'cymbalplanet', 'accessory', 'fetish', 'durga', 'madagascar', 'digraph', 'mobs', 'shanty', 'sunshine', 'freeway', 'duke', 'coliseum', 'shepperton', 'sofia', 'artifact', 'supernatural', 'beings', 'vitula', 'boyd', 'tinsley', 'tanganyika', 'tinh', 'quang', 'binh', '673', 'themes', 'roaring', 'caste', 'rejects', 'hydro', 'stagnation', 'impediment', 'nubian', 'assimilated', 'proboscidea', 'mammalia', 'pachydermata', 'á¼\\x90î»î\\xadï\\x86î±ï\\x82', 'creticus', 'proc', 'zool', 'soc', 'hominids', 'loveridge', 'murindagomo', '523â\\x80\\x93530', 'hemson', 'c1860', '7500', 'vanishingly', 'humps', 'smugglers', 'evade', 'hybridise', 'comprehensively', 'hybridisation', 'sired', 'motty', 'cheeks', 'lobes', 'toenail', 'wrinkled', 'sloping', 'domes', 'deformed', 'mikumi', \"africans'\", '5500â\\x80\\x936000', '1â\\x80\\x936', 'marshes', 'lakeshores', 'postulated', 'rounder', 'overestimate', 'iucnâ\\x80\\x99s', 'bushmeat', 'elephante', 'gobin', 'ramus', 'lamoureaux', 'magalhã£es', 'moniz', 'editores', 'nuno', 'carvalho', 'sousa', 'tenth', 'encroachment', '000â\\x80\\x934', 'cranial', 'bulges', 'orphanage', 'pinnawala', 'shelter', 'indicus', 'sumatranus', '7â\\x80\\x932', '6â\\x80\\x938', 'tamer', 'versatile', 'fingerlike', 'infirm', 'graze', 'wrap', 'suck', 'quarts', 'inhale', 'watery', 'snorkel', 'entwining', 'handshake', 'wrestling', 'courtship', 'flailing', 'grasping', 'flinging', 'wiping', 'swivelling', 'periscope', 'debark', 'baobab', 'phosphate', 'apatite', 'carvability', 'gomphotherium', 'cycles', 'progression', 'conveyor', 'stumps', 'marshy', 'wearout', 'rupert', 'sheldrake', 'graveyards', 'mastodons', 'erupting', 'pachyderms', 'brownish', 'fuzz', 'darkens', 'sparse', 'socialization', 'moisture', 'bake', 'soles', 'watermelon', 'pillars', 'tiring', 'gelatinous', 'shock', 'absorber', 'sink', 'swimmer', 'trot', 'gaits', 'pendulums', 'turns', 'biomechanics', 'kinetics', 'punnathur', 'kotta', 'flapping', 'cools', 'fahrenheit', 'wants', 'odour', 'joyce', 'poole', 'propel', 'cologne', 'sirenians', 'hyraxes', 'hyrax', 'hyracoid', 'snorkels', 'mammoths', 'stegodons', 'deinotheria', 'cavarretta', 'gioia', 'mussi', 'palombo', 'consiglio', 'nazionale', 'delle', 'ricerche', 'quaternary', 'digestive', \"system's\", '140â\\x80\\x93270', '300â\\x80\\x93600', 'undigested', 'cerebrum', '1a', 'lobe', 'cerebellum', 'twentyfold', 'grief', 'allomothering', 'compassion', 'intelligent', 'coordination', 'footprints', 'tire', 'matriarch', 'encountering', 'bluffs', 'cognition', 'empathy', 'apes', 'bottlenose', 'dolphins', 'plotnik', 'waal', 'reiss', '17053â\\x80\\x9317057', '1073', 'pnas', '0608062103', 'bonding', 'kissing', 'intertwining', 'signify', 'fleeting', 'companionship', 'attendant', '427', '430', 'sonic', 'rumbling', 'attentively', 'breakthroughs', 'katy', 'mysteries', '9â\\x80\\x9312', '55â\\x80\\x9360', '630â\\x80\\x93660', '90â\\x80\\x93115', '200â\\x80\\x93250', 'nurtured', 'sneezing', 'snorting', 'mammary', 'nipples', 'flop', 'gallons', 'weaning', 'wiggles', 'rubbery', 'shakes', \"offspring's\", 'instincts', 'elders', 'cynthia', 'moss', \"calf's\", 'clearings', 'termites', 'termite', 'mounds', 'piles', 'overhunting', 'grazer', 'ravage', 'cohabitants', 'anchoring', 'runoff', 'crashing', 'regrown', 'samburu', 'ngorongoro', 'deproclaimed', 'reproclaimed', 'tract', 'fence', 'trampled', 'belie', 'raiding', 'overcrowding', '562', 'tusklessness', 'abnormality', 'spar', 'capacities', 'hellenistic', 'ptolemaic', 'carthaginian', 'hydaspes', 'uprooting', 'executioners', 'underfoot', 'judean', 'maccabeus', 'miniature', \"''speculum\", 'humanae', 'salvationis', 'shikar', 'domesticable', 'mahouts', 'uttum', 'gaborone', 'temperamental', 'temperaments', 'orphaned', 'safaris', \"corea's\", 'entertain', 'confinement', 'chronic', 'deprivation', 'enclosure', 'enrichment', 'wellbeing', 'bactria', 'demetrius', 'scalp', 'embossed', \"rudyard's\", 'orwell', 'chronicling', 'policeman', \"'white\", \"sale'\", 'jumble', 'dumbo', 'storybook', 'babar', 'brunhoff', \"giants'\", 'shibe', 'â\\x80\\x9cwhite', 'connie', 'mack', 'defiantly', 'aâ\\x80\\x99s', 'infrequently', 'stomper', 'horton', 'seuss', 'faithful', 'irresponsible', 'merrick', 'deformities', \"stripes'\", \"white's\", \"animals'\", 'yum', 'goong', 'prachya', 'pinkaew', 'jaa', \"tolkien's\", 'oliphaunts', 'kandy', 'thidambu', 'thrissur', 'pooram', 'cyclops', \"homer's\", 'odyssey', 'ganesh', 'jainists', 'sufis', 'discordians', 'midrash', 'maccabees', 'hasmonean', 'maccabee', 'assyrian', 'evm', 'inaccessible', \"alexander's\", 'umbrella', 'donkey', 'badge', 'vindictive', 'teenage', 'revenge', 'cullings', 'jharkhand', 'spelt', 'excited', 'ducts', 'arousal', 'goring', 'hluhluwe', 'umfolozi', 'rob', 'slotow', 'howison', 'pachyderm', 'hormones', 'testosterone', 'hormonal', 'surge', 'placid', 'uncharacterised', 'rut', 'mast', 'intoxicated', 'presses', 'abscess', 'toothache', 'counteract', 'ketones', 'aldehydes', 'unbelievably', 'hirano', 'tyke', 'overran', 'purportedly', 'hijack', 'sugarcane', 'rogue', 'calque', 'sinhala', 'hora', 'aliya', 'tennent', 'sirr', 'ecto', 'endo', 'cobboldia', 'fransseni', 'noack', 'lophodontinae', 'rhynchotheriinae', 'gomphotheres', 'quicktime', 'howenwald', 'tenn', 'verifiable', 'parallels', 'modifies', 'competent', 'andy', 'olympiad', 'prayers', 'albuquerque', 'intersected', 'moshi', 'canidae', 'greeting', 'curled', 'wary', 'puts', 'offerings', 'bitten', 'disabilities', 'adolf', 'consultative', 'outlines', 'subdistricts', '050', 'kyoto', \"'big\", 'î»î\\xadï\\x89î½', 'lã©on', 'ï\\x80î¬ï\\x81î´î¿ï\\x82', 'pã¡rdos', 'à¤ªà¥\\x83à¤¦à¤¾à¤\\x95à¥\\x81', 'pá¹\\x9ddä\\x81ku', 'felid', 'jaguars', 'ï\\x80î¬î½î¸î·ï\\x81', 'pã¡nthä\\x93r', 'ï\\x80î±î½', 'î¸î·ï\\x81', 'reflex', 'à¤ªà¤¾à¤£à¥\\x8dà¤¡à¤°', 'pä\\x81á¹\\x87á¸\\x8dara', 'à¤ªà¥\\x81à¤£à¥\\x8dà¤¡à¤°à¥\\x80à¤\\x95', 'puá¹\\x87á¸\\x8dã¡rä«ka', 'utilizes', 'heritable', 'locus', 'stealthy', 'undetected', 'climbers', 'headfirst', 'flexibilityâ\\x80\\x94the', 'margay', 'grassalong', 'olfaction', 'depress', 'ribcages', 'blades', 'treetops', 'elands', \"thomson's\", 'gazelles', 'chitals', 'muntjacs', 'ibex', 'stalks', 'pounces', 'strangles', 'fetching', '293', 'bushbuck', 'duiker', '6â\\x80\\x937', 'crevice', 'boulders', 'thicket', 'infants', 'fend', '18â\\x80\\x9324', 'focussed', 'spatial', 'farmlands', 'infrequent', 'enounters', 'carcass', 'convalescence', 'intraspecific', 'olga', 'uphyrkina', 'phylogenetics', '2617', 'sriyanie', 'miththapala', 'phylogeographic', '1115', 'saxicolor', 'fusca', 'unbroken', 'expanse', 'streaks', 'ounces', 'reginald', 'innes', 'pocock', 'rimmed', \"pocock's\", 'streaked', 'morphs', 'melanism', 'abundism', 'merge', 'coalescing', 'holdridge', 'ozro', 'swirling', 'curls', 'traceries', 'cryptozoology', 'grahamstown', 'tring', 'pumapards', 'dionysus', 'persia', '1235', 'arboreal', 'illustrating', 'yala', 'reopened', 'wilpattu', 'madhya', 'pradesh', 'uttarakhand', 'baden', 'wã¼rttemberg', 'guardant', 'heraldry', 'guardants', 'naturalistic', 'waylaying', 'claw', \"leopards'\", \"victims'\", 'poacher', 'corbett', 'feline', 'subsist', 'cinematic', 'misadventures', 'madcap', 'comedy', 'katharine', \"institute's\", 'tarzan', 'sabor', \"tarzan's\", 'mangani', 'sheeta', 'stumbles', 'afc', \"swaziland's\", 'otahuhu', 'tamaki', 'mac', 'narnia', 'witch', 'wardrobe', 'pevensie', 'nimr', 'sakerfalke', 'japonensis', 'saarland', 'deruiter', 'berger', 'taphonomic', 'dolomitic', 'accumulations', 'hominid', 'phoebe', 'complement', 'commodore', 'caroline', 'mcintosh', 'fake', 'diminished', 'leipzig', 'vulgar', 'europa', 'sophistication', 'tolstoy', 'teutonic', 'preparing', 'construed', 'mosquitoes', 'furnishings', 'barbara', 'leased', 'shades', 'elites', 'lorraine', 'rohingya', 'disappearing', 'ideally', 'cajun', 'aspiration', 'transcribed', 'calcutta', 'cockney', 'polarity', 'adjustments', 'nd', 'historia', 'sticker', 'hamlets', 'wellington', 'suburb', 'centrepiece', 'cancelled', 'ashton', 'pearls', 'abridged', 'mangrove', 'inbreeding', 'mel', 'fiona', 'tabby', 'sloth', 'sundarbans', 'rewilding', 'arjan', 'g3', 'synthesized', 'spoon', 'gusikov', 'xylophonists', 'drumsticks', 'bodhrã¡n', 'truncated', 'ashiko', 'timbales', 'slit', 'counterhoop', 'howie', 'ngæ°á»\\x9di', \"vietnam's\", 'tay', 'hæ°æ¡ng', 'forthcoming', 'honda', 'ä\\x90', 'pham', 'vå©', 'væ°æ¡ng', 'nghá»\\x87', 'gi', 'ng', 'nä\\x83m', 'gregerson', 'glottalization', 'borrowings', 'font', 'æ°', 'unrounded', 'ã¢m', 'edmondson', 'politeness', 'vä\\x83n', 'ntc', 'sidwell', 'phæ°æ¡ng', 'ná»\\x99i', 'srichampa', 'sophanasrichampa', 'nguyen', 'yourself', 'asu', 'uneducated', 'hardin', 'rainbow', \"farmers'\", 'responding', 'assigning', 'bedell', 'tracheal', 'darkened', 'chewing', 'developmental', 'deceive', '1923â\\x80\\x931929', 'throwback', \"predecessor's\", '420â\\x80\\x93421', '49â\\x80\\x9353', 'longings', 'convincing', '146â\\x80\\x93150', '66â\\x80\\x9372', '12â\\x80\\x9313', '1â\\x80\\x937', '1630', 'watertown', 'selectmen', 'coolidges', 'allerton', 'almeda', 'olympia', 'suffragist', 'josephine', 'johnsbury', 'garman', '63â\\x80\\x9370', 'compose', 'apprenticing', 'transactional', 'clients', 'diligent', '74â\\x80\\x9381', 'vermonter', 'opposites', 'talkative', 'fun', '58â\\x80\\x9359', \"grace's\", 'cracking', 'handy', 'telleen', '65â\\x80\\x9366', '89â\\x80\\x9392', '57â\\x80\\x9358', 'rosy', '21â\\x80\\x9323', 'infirmities', 'rejoiced', \"hammond's\", \"field's\", '49â\\x80\\x9351', '84â\\x80\\x9385', 'barred', 'winthrop', '63â\\x80\\x9366', '68â\\x80\\x9369', \"teachers'\", '106â\\x80\\x93107', 'woolen', '110â\\x80\\x93111', '45â\\x80\\x9346', '79â\\x80\\x9380', 'eventful', '114â\\x80\\x93115', \"crane's\", '80â\\x80\\x9382', '1417926082', 'summarized', '90â\\x80\\x9392', '92â\\x80\\x9398', 'gubernatorial', \"mccall's\", '139â\\x80\\x93142', 'preside', \"governor's\", '151â\\x80\\x93152', '107â\\x80\\x93110', 'unopposed', 'channing', 'conservatism', '75â\\x80\\x9376', 'countenanced', '77â\\x80\\x9379', 'insubordinate', 'suspend', '86â\\x80\\x9387', '544', 'rioting', '131â\\x80\\x93170', 'furious', 'recruited', '182â\\x80\\x93183', \"curtis's\", \"gompers's\", 'midst', 'reissued', 'tally', '239â\\x80\\x93243', '102â\\x80\\x93113', 'humanize', 'trimming', \"legislators'\", 'contravention', 'constrained', 'outmatch', 'void', '187â\\x80\\x93188', 'favorites', '152â\\x80\\x93153', '259â\\x80\\x93260', 'lenroot', 'mccamant', '262â\\x80\\x93264', 'ohioan', '204â\\x80\\x93212', 'porch', '204â\\x80\\x93207', '210â\\x80\\x93211', '219', 'vivacious', 'anecdotes', \"i've\", 'uncomfortable', '217', 'indiscriminately', 'ass', 'barrymore', '308â\\x80\\x93309', 'downstairs', 'notary', 'kerosene', 'hoehling', '310â\\x80\\x93315', 'appropriation', '226â\\x80\\x93228', '303â\\x80\\x93305', '43â\\x80\\x9351', 'bascom', 'slemp', '320â\\x80\\x93322', 'tarred', 'resignations', 'reconvened', '328â\\x80\\x93329', '248â\\x80\\x93249', 'appended', 'unhappiness', \"bill's\", '278â\\x80\\x93279', '345', 'lowden', 'davisthe', 'deadlocked', \"democrats'\", 'buoyed', 'follette', 'sadness', '300â\\x80\\x93301', 'subdued', 'grieving', 'confrontational', '302â\\x80\\x93303', \"follette's\", \"opponents'\", 'cameramen', 'misquoted', 'doctrinaire', 'ideologue', '127â\\x80\\x93129', '382â\\x80\\x93383', '383â\\x80\\x93384', 'modernize', '388', '286â\\x80\\x93287', '132â\\x80\\x93135', 'grandstanding', 'incur', '330â\\x80\\x93331', 'mitigation', 'costs', '372â\\x80\\x93374', 'portraitwhile', '184â\\x80\\x93185', '360', '363', '114â\\x80\\x93116', 'aristide', 'renounce', '421â\\x80\\x93423', 'outlawry', '380â\\x80\\x93381', '123â\\x80\\x93124', 'embargo', '178â\\x80\\x93179', 'havana', '414â\\x80\\x93417', 'terseness', 'itâ\\x80\\x94too', '361', 'lukewarm', \"secretary's\", '390â\\x80\\x93391', 'nominating', '125â\\x80\\x93127', 'reclusive', '529', \"deforest's\", 'phonofilm', 'deforest', '364', 'arlington', \"cemetery's\", 'amphitheater', 'antiquarian', '1802â\\x80\\x931932', 'lewiston', 'syndicated', '1930â\\x80\\x931931', '403', '201â\\x80\\x93202', '457â\\x80\\x93459', '460', 'beeches', '154â\\x80\\x93155', 'confided', 'headstone', \"visitors'\", 'montpelier', '0944951031', '0684840022', '0700608923', '0837193206', '0805069577', 'quotable', '1884592333', '0945707231', '0807050334', '0890890382', 'enigma', '0895264102', '0316944165', '30â\\x80\\x9331', 'lantern', 'neolithic', 'expelling', 'extremist', 'forging', 'procedures', 'navigable', 'suomen', 'tasavalta', 'republiken', \"nations'\", 'happiest', 'astuvansalmi', 'ristiina', 'savonia', '8500', '5300', 'comb', 'axe', 'beem', 'korta', 'finska', 'rã¶tter', 'hufvudstadsbladet', 'suomenlinna', 'lutheranism', '1640', '1714', '1743', 'celebrates', 'centenary', 'sever', 'fennoman', 'famine', 'soured', 'practise', 'propertyless', 'bourgeoisie', 'heimosodat', 'strained', 'flirtation', 'kaarlo', 'juho', 'stã¥hlberg', 'tartu', 'petsamo', 'barents', 'upsurge', 'rightist', 'lapua', \"'30s\", 'legislators', 'fokker', 'barbarossa', 'porkkala', 'restraints', 'salla', 'evacuees', 'yya', 'urho', 'kekkonen', 'finlandisation', 'suomettuminen', 'suomi', 'zeme', 'suomaa', 'suoniemi', 'exonym', 'finnmark', 'finnveden', 'toponyms', 'fin', 'obviously', 'wanderer', 'finder', 'agriculturists', 'faring', 'runestones', 'sã¶derby', 'finlont', 'gotland', 'finlandi', 'mâ²', '584', 'halti', '324', 'fens', 'granite', 'wherever', 'moraine', 'humus', 'hanko', 'nuorgam', \"land's\", \"o'\", 'groats', 'vascular', 'bryophytes', 'lichen', '248', 'warbler', 'chaffinch', 'redwing', 'perch', '60th', 'warmed', 'lã¤ã¤ni', 'lã¤ã¤nit', '1634', 'redivision', 'karelians', 'democratically', 'kainuu', 'domicile', 'kunta', 'kommun', 'voluntary', 'typologically', 'agglutinative', 'inflects', '65â\\x80\\x9370', 'registry', 'suopma', 'suomã¢', 'lã¤ã¤â´ddjã¢nnam', '000â\\x80\\x935', 'cherish', 'unaffiliated', 'funerals', 'unicef', \"technology's\", 'egalitarian', 'meals', 'interoperating', \"oecd's\", 'scorers', 'olds', 'eduskuntatalo', 'parliamentarism', 'riksdag', 'litigation', 'offence', 'ombudsman', 'strengths', 'legistlation', 'lawmaking', 'expires', 'annulled', 'goodwill', 'reallocating', 'deepened', 'moderated', 'alignment', 'auspices', 'battlegroups', 'kanerva', 'conscript', 'cadre', 'exemptions', 'mobilised', '490', 'reservists', 'juhani', 'kaskeala', 'refines', 'refineries', 'nordpool', 'decentralised', 'pã¤ijã¤nne', 'olkiluoto', 'portfolio', 'mwe', 'areva', 'siemens', 'ag', 'fortum', 'teollisuuden', 'voima', 'tvo', 'eia', 'shale', 'burns', 'byproducts', 'liquor', 'residues', 'chippings', 'homeowners', 'bogs', 'bioenergy', '5â\\x80\\x9317', 'equalling', 'emu', 'fim', '2003â\\x80\\x932005', 'feudally', 'totalitarian', 'overheating', 'dismantling', 'barter', 'defaults', 'avalanche', 'alleviated', 'stabilise', 'bottomed', 'fulfilling', '339', 'yards', 'perno', 'telephony', 'stora', 'enso', 'marketing', 'upm', 'kymmene', 'finnyards', \"caribbean's\", 'kone', 'elevators', 'escalators', 'wã¤rtsilã¤', '258', '653', 'vr', 'valtion', 'rautatiet', 'pendolino', 'discounts', '7â\\x80\\x9316', 'yr', 'conscripts', 'ferries', 'grisslehamn', 'blue1', 'finncomm', 'nagoya', 'osaka', 'optimal', 'silja', 'grossed', 'â\\x82¬6', 'globalisation', 'complemented', 'labyrinth', 'inlets', 'fells', 'travemã¼nde', 'sledding', 'santaâ\\x80\\x99s', 'fluorescence', 'exquisite', 'receding', 'everlasting', 'yachting', 'cathedrals', 'allure', 'hã¤meenlinna', 'olavinlinna', 'chimneyless', 'enonkoski', 'tatar', 'comfortably', 'elias', 'lã¶nnrot', 'aleksis', 'kivi', 'leino', 'waltari', 'eemil', 'sillanpã¤ã¤', 'vã¤inã¶', 'linna', 'detective', 'remes', 'thrillers', 'handicrafts', 'wã¤inã¶', 'aaltonen', 'busts', 'eliel', 'eero', 'functionalist', 'glassware', 'lyrics', 'purest', 'joik', 'lavlu', 'vuelie', '1865â\\x80\\x931957', 'fredrik', 'maamme', 'vã¥rt', 'kullervo', 'runo', 'finlandia', 'magnus', 'lindberg', 'kaija', 'saariaho', 'aulis', 'sallinen', 'einojuhani', 'rautavaara', 'sakari', 'oramo', 'mikko', 'franck', 'esa', 'osmo', 'vã¤nskã¤', 'jukka', 'saraste', 'mã¤lkki', 'leif', 'segerstam', 'karita', 'mattila', 'soile', 'isokoski', 'kriikku', 'kuusisto', 'rã©ka', 'szilvay', 'bomfunk', 'sã¤hkã¶', 'iskelmã¤', 'schlager', 'tango', 'argentinean', 'toivo', 'kã¤rki', 'olavi', 'virta', '1915â\\x80\\x931972', 'lyricists', 'sauvo', 'puhtila', 'reino', 'helismaa', 'veikko', 'vexi', 'salmi', 'bandleader', 'retro', 'bomfunc', 'js16', 'orkidea', 'amorphis', 'bodom', 'impaled', 'nazarene', 'nightwish', 'arctica', 'stratovarius', 'turunen', 'quartettos', 'rautiainen', 'niskalaukaus', \"cmx's\", 'vainajala', 'ravelin', 'aol', 'hulkko', 'aka', 'rasmus', 'releases', 'garnered', 'platinum', 'riaa', 'tuska', 'kaisaniemi', 'erkki', 'karu', 'cinematographer', 'directors', 'aki', 'kaurismã¤ki', 'koivusalo', 'aleksi', 'mã¤kelã¤', 'hã¤rã¶', 'renny', 'harlin', 'lauri', 'mauritz', 'harjola', 'linus', 'torvalds', 'societies', '434', 'sanomawsoy', 'ilta', 'taloussanomat', 'nelonen', \"sanomawsoy's\", 'aatos', 'erkko', 'aamulehti', 'iltalehti', 'kauppalehti', 'mtv3', 'bonnier', 'proventus', 'industrier', 'accustomed', 'subscribers', 'penetration', 'outnumbered', 'karjalanpiirakka', 'unavailability', 'lakeside', 'oatmeal', 'canteen', 'workplaces', 'combines', 'haute', 'recipes', 'pagan', 'midsummer', 'categorised', 'pesã¤pallo', 'kurri', 'teemu', 'selã¤nne', 'litmanen', 'hyypiã¤', 'keke', 'hã¤kkinen', 'ferrari', 'driver', 'heikki', 'kovalainen', \"rosberg's\", 'nico', 'kinnunen', 'jj', 'lehto', 'salo', 'wrc', 'grã¶nholm', 'kankkunen', 'hannu', 'mikkola', 'tommi', 'mã¤kinen', 'ari', 'vatanen', 'finn', 'jarno', 'nykã¤nen', 'kalle', 'palander', 'kitzbã¼hel', 'tanja', 'poutiainen', 'hannes', 'kolehmainen', '1890â\\x80\\x931966', '1897â\\x80\\x931973', 'ville', 'ritola', '1896â\\x80\\x931982', 'lasse', 'virã©n', 'riku', 'kiri', 'jouko', 'ahola', 'janne', 'virtanen', 'beetwen', 'floorball', 'suuret', 'suomalaiset', 'triptych', 'akseli', 'gallen', 'kallela', 'panes', 'tart', 'ludvig', 'fireworks', 'arbor', 'banning', 'scrub', 'charity', 'werewolf', 'proportionally', 'stamina', 'dentition', 'carnassial', 'penis', 'ranged', 'transient', 'systematics', 'intolerant', 'worshiped', 'likelihood', 'fearful', 'fearlessness', 'purity', 'earthquakes', 'nationhood', '605', 'mock', 'gastroenteritis', 'dissenters', 'ub', 'fillmorein', 'posterhaving', \"seward's\", 'advising', 'detest', 'wracking', 'foote', 'merits', 'fillmorefillmore', 'ascended', 'objectives', 'recuperate', 'juncture', 'recommending', 'wilmot', 'proviso', 'â\\x80\\x94the', 'stipulation', \"douglas's\", 'disposal', 'slaveholders', 'escapeesâ\\x80\\x94the', 'fillmorewhigs', 'finality', 'seeming', 'appease', 'enforcing', 'hungaryâ\\x80\\x99s', 'irreconcilable', 'forgive', 'deprive', 'uneasy', 'completing', 'joking', 'dissension', 'showings', 'widow', 'hospitality', 'continentals', 'guards', 'upstate', 'nourishment', 'palatable', 'espn', 'sportscenter', 'improbable', 'abducted', 'mutiny', 'rokwood', 'bravo', 'filmore', 'handsomest', \"she'd\", 'bookworm', 'indentured', 'clothmaker', 'fillmoreâ\\x80\\x9d', 'deusen', 'glydon', 'americana', 'unaspirated', 'ultimatum', 'arbitrarily', 'moldoveanu', 'nadia', 'halted', 'disciplinary', 'pistols', 'genuine', 'normandy', 'harnesses', 'saddles', 'anomaly', 'dyslexia', 'damaging', 'fleming', 'outnumber', 'ignores', 'needless', 'tunisia', 'nigeria', 'predictably', 'massoudy', 'phonetics', 'kinh', 'prefecture', 'emotion', 'fangyan', 'vocabularies', 'unabridged', 'cognates', 'academies', 'multilingualism', 'kam', 'disregarded', 'zidian', 'inclusive', 'zhonghua', 'zihai', '568', 'bento', 'coining', 'mouse', '063', 'implement', 'veteran', 'enhancing', 'mirpur', 'upgraded', 'compressed', 'behaviours', 'withstand', 'derivatives', 'ftse', 'heathrow', 'covent', '1666', \"mayor's\", 'trafalgar', 'middlesex', 'knightsbridge', 'piccadilly', 'chelsea', 'sikh', 'synagogue', '480', 'brick', 'dickens', 'drama', 'guildhall', 'wimbledon', \"lord's\", 'cake', '235', \"what's\", 'fiddler', 'morin', 'huur', 'horsemen', 'horseâ\\x80\\x99s', 'nomads', 'erhu', 'esraj', 'genoa', 'rebec', '1555', 'doubtuful', 'messiah', 'messie', 'salabue', 'zaccaria', 'altarpiece', 'bellini', '1505', 'brescia', '1626', '1737', 'doubtless', 'gesã¹', 'endblocks', 'fittings', 'optionally', 'arching', 'waist', 'clearance', 'adhesive', 'disassembled', 'flex', 'faux', 'inferior', 'matching', 'fiddleback', 'flamed', 'compatible', 'hardness', 'lengthwise', 'scoop', 'concavity', 'grafted', 'reset', 'centimeter', 'graft', 'conformance', 'fleur', 'lis', 'anchors', 'tailgut', 'loops', 'wrapping', 'catgut', 'stranded', 'unwound', 'plated', 'undone', 'glitter', 'sprinkled', 'chladni', 'verify', 'assembling', 'nonexistent', \"lady's\", 'adjusters', 'adequately', 'accordion', 'nicks', 'crooked', 'nonstandard', \"saã«ns'\", 'impart', 'dissonance', 'bã©la', 'bartã³k', 'archetier', 'adjuster', 'loosens', 'whalebone', 'sleeve', 'intermittently', 'regulates', \"violinist's\", 'lieu', 'conventionally', 'instructional', 'reachable', \"beginners'\", 'placements', 'rd', 'arranger', 'bagpipe', 'pulsating', 'oscillate', 'classically', 'wishing', 'modulates', 'elbow', 'directional', 'rhythmic', 'shimmer', 'liveliness', 'schleske', 'weinreich', 'trilling', 'nicer', 'integer', 'clearest', 'fractions', \"heller's\", 'simrock', 'michelangelo', \"abbado's\", 'tecnica', 'suoni', 'armonici', 'ricordi', 'vittorio', \"monti's\", 'csã¡rdã¡s', 'ilyich', 'intersects', 'ethereal', 'kreisler', \"'attack'\", 'articulations', 'collã©', 'ricochet', 'sautillã©', 'pizz', 'plucks', \"witches'\", 'symphonie', 'fantastique', \"saens'\", 'skeletons', 'gustav', \"holst's\", 'accented', 'bowstroke', 'arrowhead', 'audible', 'hushed', 'sordina', 'deaden', 'luciano', 'sequenza', 'assign', 'seamless', 'venuti', 'lang', 'improvising', 'stã©phane', 'grappelli', 'stuff', 'regina', 'frigo', 'luc', 'ponty', 'darol', \"o'connor\", 'backgrounds', 'motown', 'texture', 'crooners', 'crosby', 'gloria', 'gaynor', \"love's\", 'corrs', 'likes', 'fairport', 'steeleye', 'goodman', 'mahavishnu', 'yellowcard', 'smashing', 'pumpkins', \"james'\", 'saul', 'davies', 'enlisted', 'singles', 'pallet', 'brethren', 'sigur', 'rã³s', 'zox', 'zion', 'crã¼xshadows', 'karnatic', 'baluswamy', 'dikshitar', 'ilaiyaraaja', 'hins', 'descends', 'appealing', 'displacing', 'ethnomusicologists', 'varnished', 'pfeil', 'oskar', 'vierling', 'eisenberg', 'miessner', 'beauchamp', 'benioff', 'fredray', 'kislingbury', 'authentication', 'forgery', 'fraudulent', 'misrepresentation', 'inflate', 'stroh', 'galamian', 'shar', '9621416', '520', '22409', 'thede', '8256', '0145', 'bardfeld', '9628467', '39033', 'beament', '816623', \"1737'\", 'ebsworth', 'oclc', '172278', '0486204251', '80004', 'coetzee', '84330', 'flammarion', '013623', 'gill', 'phaidon', '7148', '2286', 'heron', 'lock', '7063', '1045', 'farga', 'rockliff', 'virginals', 'charlton', '907849', 'rowland', 'entwistle', '340', '05992', '62555', \"luthier's\", 'regazzi', 'florenus', '85250', 'dubourg', 'cocks', '23279', 'sandys', '45269', '8153', '3637', 'gli', 'occhi', \"'l\", 'strumenti', 'musicali', \"nell'arte\", 'flavio', 'dassenno', 'brescian', 'templeton', \"''fresh\", 'hyperviolins', 'phd', 'anechoic', 'tomography', 'examine', 'dendochronology', 'tenser', 'barawa', 'mtoto', 'miti', 'diminutives', 'chombo', \"'you\", 'moja', \"quarter'\", 'kampala', \"'briefly\", 'doris', 'kearns', 'goodwin', '232', \"'course\", 'speedily', 'surveyed', 'larue', 'autosomal', 'connective', 'assumption', 'steiner', 'spencer', 'macon', 'desolate', 'brutal', 'coles', 'canoeing', 'denton', 'offutt', 'flatboat', 'visitor', 'mastered', 'puzzled', 'wrestler', 'ax', 'centerpiece', 'navigational', 'hawk', 'satisfaction', 'basler', '551', 'isaiah', 'calico', 'adversary', 'injustice', 'fry', 'mocking', 'auditor', 'barbs', 'swords', \"herndon's\", 'exeter', 'manchester', 'teen', 'commandant', 'libby', \"polk's\", 'showers', 'spilt', 'unnecessarily', 'unconstitutionally', 'reemerged', 'murderers', 'demons', 'pillage', 'polk', 'orchestrated', 'outbursts', 'fervent', 'wrathful', 'denunciation', 'treasonable', 'demagogues', 'slanderers', 'butchery', 'traducers', 'jacinto', 'irreparable', 'atrocities', 'haunt', 'governorship', \"counties'\", 'courthouses', '428', 'piatt', 'dewitt', 'caseload', 'barges', 'accordingly', 'sue', 'delinquent', 'testified', 'moonlight', 'illumination', 'voir', 'jurors', 'interrupted', 'wasting', 'juror', 'disqualify', 'repealed', \"slavery's\", 'peoria', 'orators', 'stirring', 'lyman', 'lecompton', 'disunion', 'supremacy', 'freeport', 'eloquence', 'egalitarianism', 'citizenshipâ\\x80¦', 'yourselvesâ\\x80¦', 'charleston', 'decatur', 'endorsement', 'candidacy', 'underdog', 'contenders', 'aggrieved', 'incite', 'gabor', \"came'\", 'turnout', 'wheeling', 'posters', 'leaflets', 'editorials', 'obscurity', 'splitter', '216', 'reinhard', 'luthin', 'breckinridge', '996', '908', '848', '019', '590', '901', 'secessionists', 'evaded', 'assassins', 'turners', 'contemplation', 'perpetuity', 'rhetorically', 'corwin', 'tierra', 'fuego', 'rejoining', 'jeremiah', 'miscalculations', 'underrated', 'overestimated', 'unionist', 'improvised', 'detachments', 'recapture', 'urgently', 'interfere', 'clement', 'vallandigham', 'parte', 'merryman', 'caleb', 'montgomery', 'confiscation', 'liberating', 'freeing', 'sluggishness', \"governors'\", 'executives', 'favorably', 'talked', 'reminded', 'stalemates', 'deny', 'pinkerton', 'mcclernand', 'grimsley', 'replacements', 'mobilized', 'defeatist', 'jitters', '212', 'â\\x80\\x9crunning', 'â\\x80\\x98machineâ\\x80\\x99â\\x80\\x9d', 'fessenden', 'frustration', 'embarrassing', 'inexperience', 'priorities', 'twofold', 'irritated', 'temperamentally', 'caution', 'complied', 'panicked', 'enabled', 'ambrose', 'stunningly', 'idle', 'dictator', 'chancellorsville', \"meade's\", 'bottled', 'totaled', 'prentice', 'motivating', 'insist', 'relentlessly', 'dispatches', \"early's\", 'reintegrate', 'moderates', 'reconstructionist', 'thaddeus', 'cooperated', 'speedy', 'pardons', 'reconquered', 'lenient', 'retaliated', 'gesture', \"davis's\", 'conquering', 'epitomized', \"admirer's\", \"'em\", '580', 'eywitnesstohistory', 'dedicating', 'prediction', 'rationale', 'sanctity', 'valuesâ\\x80\\x94what', \"declaration's\", \"constitution's\", 'slavers', 'guarantee', 'accomplices', 'herold', 'powell', 'atzerodt', 'surratt', 'spangler', 'redefined', 'sacrifices', 'rededicated', 'centrality', 'rebuffed', 'untrue', 'wills', 'habeas', 'authorization', 'morrill', 'southâ\\x80\\x94the', 'incursion', '303', 'santee', 'massacred', 'reprieved', 'clara', 'harris', 'kidnap', 'lowell', '0813121566', 'balcony', 'crept', 'funniest', 'jumped', 'slug', 'deringer', 'blank', 'momentarily', 'grappled', \"booth's\", 'leapt', 'shouted', 'sic', 'semper', 'tyrannis', 'tyrants', 'townsend', 'fitzgerald', 'lccn', '12002580', 'manhunt', 'ensued', 'cornered', 'barn', 'leale', 'assessed', 'coma', \"stanton's\", 'repose', 'derringer', \"surgeon's\", 'cuff', 'mourners', '654', '661', 'mourned', 'tyrant', 'surmounted', 'exhumed', 'reinterred', 'cameron', 'â\\x80\\x9cwhenever', 'amazingly', 'retentive', 'calvinistic', 'denying', 'â\\x80\\x9creligious', 'scoffer', 'justifying', 'plainly', '514', 'matured', 'interacting', 'willie', 'solace', 'willieâ\\x80\\x99s', 'musings', 'standpoint', 'fueled', 'exposure', 'lockean', 'nativist', 'nothings', 'absorb', 'antislavery', 'bearded', 'personifying', 'ballistic', 'missile', '602', 'brigades', 'shrine', 'redlands', 'smiley', 'nevada', \"presidents'\", \"'presidents'\", \"day'\", 'renewing', 'appreciation', 'lawmakers', 'adivsory', 'organizing', 'tributes', 'highlighting', 'elwood', 'hein', 'burkett', 'ostendorf', '089029', '087', \"honor's\", '4000', 'vidal', '70876', 'sheathed', 'liebherr', 'mchugh', 'resh', 'cardã©', 'debris', 'tribolium', 'castaneum', 'cowpea', 'callosobruchus', 'maculatus', 'ladybugs', 'aphids', 'thrips', 'coleo', 'ptera', 'exposing', 'membranous', 'trogodendron', 'fasciculatum', 'clerid', 'holometabolous', 'prothorax', 'mesothorax', 'meso', 'meta', 'fusing', 'pterothorax', 'sternites', 'tergites', 'genitalic', 'deceptive', 'pronotum', 'segmentation', 'sutures', 'defences', 'alae', 'glow', 'phengodidae', 'larviform', 'pincers', 'maxillary', 'labial', 'palpi', 'waterline', 'notched', 'vertex', 'flabellate', 'lamellate', 'clubbed', 'filiform', 'geniculate', 'moniliform', 'pectinate', 'serrate', 'antenna', 'acilius', 'sulcatus', 'tarsi', 'tarsal', 'haliplidae', 'fossorial', 'spined', 'histeridae', 'chrysomelidae', 'fibres', 'haemolymph', 'metamorphosis', 'hatching', 'clumps', 'borers', 'carrot', 'buprestidae', 'larval', 'flattened', 'campodeiform', 'capsules', 'elateridae', 'darkling', 'tenebrionidae', 'scarabaeoidea', 'grubs', 'lifestyles', 'planidium', 'hypermetamorphosis', 'aleochara', 'pupate', 'pupa', 'imago', 'lifespan', 'flamboyant', 'eudicella', 'gralli', 'fiercely', 'patch', 'intruding', 'fertilise', 'parental', 'rollers', 'inwards', 'brachinus', 'parasitoids', 'chysomelidae', 'fools', 'secrete', 'unpalatable', 'aposematism', 'persuade', 'acidic', 'earthworms', 'snails', 'decaying', 'silphidae', \"water's\", 'crawling', 'acaroides', 'predate', 'mosher', 'livescience', 'stag', 'lucanidae', 'cervical', 'testes', 'tubular', 'sternum', 'cupedidae', 'hydroscaphidae', 'poses', 'potatoes', 'solanaceae', 'nightshade', 'tomato', 'aubergine', 'capsicum', 'hylurgopinus', 'rufipes', 'scolytus', 'multistriatus', 'pyrrhalta', 'luteola', 'fungus', 'xestobium', 'rufovillosum', 'anobiidae', 'hardwoods', 'fungal', 'coccinella', 'septempunctata', 'aphid', 'mealybugs', 'honeydew', 'weeds', 'aphthona', 'spurge', 'rangeland', 'dermestidae', 'scarabaeus', 'sacer', 'khepri', 'mummies', 'mummified', 'deceased', 'adornment', 'practitioners', 'americanus', 'tricks', 'drove', 'monitoring', 'hood', 'tufts', 'emit', 'stimuli', 'himalayan', 'interbreed', 'calamities', 'licences', 'devastated', 'hazard', 'fulton', 'ethnicities', 'broadcasters', 'contracts', 'merging', 'curtain', 'humanists', 'nunc', 'romanos', 'vocant', 'verres', 'acta', 'epistolae', 'dimandano', 'loro', 'romei', 'alcuno', 'dimanda', 'sano', 'parlare', 'valacca', 'dicono', 'modo', 'sti', 'rominest', 'sai', 'cl', 'isopescu', 'notizie', 'intorno', 'romeni', 'nella', 'letteratura', 'geografica', 'italiana', 'cinquecento', 'historique', 'xvi', 'â\\x80\\x9canzi', 'essi', 'chiamano', 'romanesci', 'vogliono', 'molti', 'mandati', 'quã¬', 'quei', 'dannati', 'cavar', 'metalli', 'holban', 'cä\\x83lä\\x83tori', 'strä\\x83ini', 'despre', 'å¢ä\\x83rile', 'romã¢ne', 'tout', 'wallachie', 'moldavie', 'transivanie', 'estã©', 'peuplã©', 'colonie', 'romaines', 'lâ\\x80\\x99empereurâ\\x80¦ceux', 'disent', 'vrais', 'successeurs', 'romains', 'nomment', 'romanechte', \"c'est\", 'romain', 'fait', 'moy', 'lescalopier', 'lâ\\x80\\x99an', '1574', 'venise', 'constantinople', 'fol', 'cernovodeanu', 'istorie', 'medievala', '1521', \"neacå\\x9fu's\", 'cã¢mpulung', 'notifies', 'imminent', 'rumã¢neascä\\x83', 'aceste', 'sfente', 'cç\\x8erå£i', 'ã®nvä\\x83å£ä\\x83turi', 'fie', 'popilor', 'rumã¢nesti', 'ã®nå£eleagç\\x8e', 'toå£i', 'oamenii', 'cine', 'creå\\x9ftini', 'ã\\x8entrebare', 'creå\\x9ftineascç\\x8e', '1559', 'bibliografia', 'veche', 'cä\\x83', 'vä\\x83zum', 'toate', 'limbile', 'ã®nfluresc', 'ã®ntru', 'cuvintele', 'slç\\x8evite', 'dumnezeu', 'romã¢nii', 'limbä\\x83', 'avem', 'aceia', 'muncç\\x8e', 'scoasem', 'jidoveascç\\x8e', 'greceascç\\x8e', 'srã¢beascç\\x8e', 'ale', 'moisi', 'prorocul', 'patru', 'dä\\x83ruim', 'fraå£i', 'cheltuialä\\x83', 'multç\\x8e', 'dä\\x83ruit', 'palia', 'orç\\x8eå\\x9ftie', '1581', '1582', 'ã\\x8en', 'ardealului', 'lä\\x83cuiesc', 'unguri', 'saå\\x9fi', 'seamä\\x83', 'mulå£i', 'locul', 'ureche', 'letopiseå£ul', 'å¢ä\\x83rii', 'moldovei', '133', 'evolutions', 'bondsman', 'serfdom', 'disappears', 'definitively', 'stabilises', 'romã¢nesc', 'ienä\\x83chiå£ä\\x83', 'vä\\x83cä\\x83rescu', 'urmaå\\x9filor', 'mei', 'vä\\x83cä\\x83reå\\x9fti', 'vouä\\x83', 'moå\\x9ftenire', 'creå\\x9fterea', 'limbei', 'romã¢neå\\x9fti', 'å\\x9e', 'patriei', 'cinstire', 'faptelor', 'mavroghene', 'vodä\\x83', 'rä\\x83zmeriå£ei', 'timpul', 'pitar', 'hristache', 'ã\\x8encep', 'dupä\\x83', 'mea', 'ideie', 'vreo', 'cã¢teva', 'condeie', 'povestea', 'mavrogheneascä\\x83', 'denotation', 'dimitrie', 'philippide', 'tombstone', 'avrig', 'precum', 'hristos', 'morå£i', 'ã®nviat', 'aå\\x9fa', 'somn', 'deå\\x9fteptat', 'peå\\x9ftera', 'oase', 'europeâ\\x80\\x99s', 'neanderthal', \"trajan's\", 'herodotus', 'getae', 'darius', 'thracians', 'inhabitanted', 'burebista', 'scrutiny', 'moesia', \"domitian's\", 'trajan', '106', 'ores', 'huns', 'gepids', 'avars', 'pechenegs', 'cumans', 'uzes', 'basarab', '1310', 'dragoå\\x9f', '1352', 'putna', 'pilgrimage', 'geo', '1212', 'attestation', '1377', 'brassã³', 'privilege', 'impaler', '1448', '1456â\\x80\\x9362', '1476', 'tepes', 'bram', \"stoker's\", 'defender', 'expansionism', '1488', '1457', '1504', 'monasteries', \"unesco's\", '1475', 'sixtus', 'verus', 'christianae', 'fidei', 'athleta', 'viteazul', '1593', '1601', '1599', 'partium', 'xvith', \"romanians'\", 'electors', 'alexandru', 'domnitor', 'inevitably', \"d'etat\", 'hohenzollern', 'sigmaringen', 'dobrudja', 'quadrilateral', 'durostor', 'caliacra', 'peleå\\x9f', 'monarchs', 'trianon', 'renounced', 'statul', 'unitar', 'romã\\x82nia', 'purple', 'ultimata', 'theodora', 'stanciu', 'georgiana', 'margareta', 'romã¢nilor', 'ã®ntre', 'legionary', 'oppression', 'romas', 'transnistria', 'toppled', 'divison', 'petru', \"groza's\", 'mergers', 'clodfelter', '7864', '1204', 'drained', 'sovrom', 'intermediating', 'openness', \"ceauå\\x9fescu's\", 'autarchic', 'reimbursement', 'deported', 'cicerone', 'ioniå£oiu', 'victimele', 'terorii', 'arestaå£i', 'torturaå£i', 'ã®ntemniå£aå£i', 'uciå\\x9fi', 'dicå£ionar', '99994', 'detained', 'psychiatric', 'sadistic', 'gheorghiu', 'dej', 'plenary', 'amnesties', 'recensä\\x83mã¢ntul', 'populaå£iei', 'concentraå£ionare', 'centrul', 'internaå£ional', 'asupra', 'comunismului', 'sighet', 'raportul', 'comisiei', 'prezidenå£iale', 'comisia', 'prezidenå£ialä\\x83', 'salvation', \"peasant's\", 'pnå¢cd', 'pnl', 'psdr', 'resurrected', 'contesting', 'securitate', 'golaniad', 'degenerated', 'mineriad', 'disintegration', 'psd', 'pd', 'apr', 'constantinescu', 'acceded', 'truth', 'acceding', 'topographic', 'prut', 'siret', 'olt', 'oltenia', 'mureå\\x9f', '2544', 'carpathians', 'sweeten', 'bä\\x83rä\\x83gan', 'bucura', 'chamois', 'earthtrends', 'wetland', '5800', 'ramsar', 'biosphera', 'rodna', 'worldtravels', 'parameters', 'seaside', 'permafrost', 'precipitations', 'centern', '698', 'id', 'spotlights', 'harghita', 'covasna', 'lipovans', 'tatars', 'serbs', 'slovaks', 'croats', 'czechs', 'â\\x80\\x9ccontactâ\\x80\\x9d', 'subcarpathians', 'mineral', 'orchards', 'pastures', \"minority's\", 'signage', 'tracing', 'timiá¹£oara', 'temesvã¡r', 'kolozsvã¡r', 'germ', 'klausenburg', '1316', 'pentecostal', 'dobrogea', 'registration', 'brä\\x83ila', 'braila', 'bacau', 'metorpolitan', 'maroon', 'legislations', 'meditaå£ii', 'subsisted', 'enrolled', '45th', '52nd', 'participant', 'rä\\x83zvan', 'metallurgic', 'privatisations', 'â\\x82¬8', 'judged', '1411', 'lei', 'equating', 'â\\x82¬403', '1001', 'mbit', 'megabits', 'romã¢naå\\x9ful', 'jurnalul', 'naå£ional', 'newaspaper', 'crossroad', 'lags', 'ispa', 'corridors', 'radâ\\x80\\x99s', 'workweek', 'wttc', '607', '48th', '3746', 'â\\x82¬400', 'gandul', 'mangalia', 'neptun', 'olimp', 'constanta', 'riviera', 'valea', 'prahovei', 'poiana', 'gorge', 'scä\\x83riå\\x9foara', 'apuseni', 'tapped', 'nagyszeben', 'segesvã¡r', 'coå\\x9fbuc', 'slavici', 'ici', 'ro', 'revolutions', 'mihail', 'kogä\\x83lniceanu', 'vasile', 'alecsandri', 'andrei', 'mureå\\x9fanu', 'bä\\x83lcescu', 'luca', 'caragiale', 'creangä\\x83', 'arghezi', 'lucian', 'blaga', 'barbu', 'synchronize', 'gellu', 'naum', 'surrealist', 'sorescu', 'preda', 'å\\x9etefä\\x83nescu', 'ã\\x8engerul', 'carte', 'mã¢ini', 'edit', 'pag', 'targu', 'eugen', 'ionescu', 'eliade', 'cioran', 'noica', 'tristan', 'tzara', 'cä\\x83rtä\\x83rescu', 'celan', 'elie', 'wiesel', 'ciprian', 'porumbescu', 'brã¢ncuå\\x9fi', 'sculptors', 'soars', 'brancusi', 'â\\x80\\x9cbird', 'spaceâ\\x80\\x9d', 'hunyadi', '1419', 'lazarescu', 'cristi', 'puiu', 'cristian', 'mungiu', 'palme', \"d'or\", 'whs', 'frescoes', 'maramures', 'horezu', 'orä\\x83å\\x9ftie', 'brukenthal', 'cotroceni', 'palatul', 'parlamentului', 'sw', 'pentagon', 'parlamentul', 'romã¢niei', 'senat', 'deputies', 'deputaå£ilor', 'hierarchical', 'inquisitorial', 'curtea', 'constituå£ionalä\\x83', 'overruled', 'judeå£e', 'consiliu', 'judeå£ean', 'prefect', 'macroregiunea', 'ordinating', '2686', 'primar', 'privileged', 'condoleezza', \"moldova's\", \"'special\", \"relationship'\", 'comä\\x83neci', 'bela', 'karolyi', 'herman', 'hagi', 'galatasaray', 'dinamo', 'liverpool', 'anderlecht', 'bruxelles', 'progresul', 'fcu', 'politehnica', 'universitatea', 'cfr', 'oå£elul', 'sportul', 'studenå£esc', 'farul', 'arges', 'pitestietc', 'ilie', 'nä\\x83stase', 'atp', 'doubles', 'ruzici', '283', 'standings', 'concerted', 'booker', 'trails', 'outright', 'charismatic', 'stuffed', 'andâ\\x80\\x94with', 'gettysburgâ\\x80\\x94turned', \"north's\", 'strategists', 'scrutinized', 'quartile', 'skidmore', 'bunting', 'tanner', 'horsham', 'boggs', 'wrenshall', 'nellie', 'forgetting', 'lyss', '524', \"'simpson\", 'fearless', 'horseman', '1846â\\x80\\x931848', 'resaca', 'monterrey', 'sniper', 'veracruz', 'furiously', 'brevetted', 'bravery', 'molino', 'rey', 'chapultepec', 'colonels', 'bvt', 'lieutenants', 'educator', 'eaton', 'intemperance', 'concocted', 'labored', 'prosper', 'anheuser', 'busch', 'collector', 'apolitical', 'undisciplined', 'rebellious', 'claiborne', 'lobbied', 'paducah', 'indecisive', 'belmont', \"foote's\", 'gunboats', 'counterattacks', 'buckner', 'classmate', 'fleeing', \"buckner's\", 'inundated', 'cigars', 'wishers', 'sporadically', 'distaste', 'drunks', \"halleck's\", 'buell', 'rejoined', 'beauregard', 'reeling', 'grim', 'timely', 'counterattacked', 'bloodiest', 'disorganized', 'relegating', 'powerless', 'despondent', 'iuka', 'bayous', 'masterful', 'marched', 'guns', 'dispensed', 'requisitions', 'foraged', 'staples', 'hardtack', 'wagons', 'swiftly', 'promptly', 'breastworks', 'futile', 'chickamauga', 'braxton', 'bragg', 'lookout', 'federals', 'devising', 'cracker', 'baldy', 'reprovisioning', 'reinforcing', 'piecemeal', \"hooker's\", 'assaulting', 'willingness', \"scott's\", 'brevet', 'butler', 'sigel', 'crook', 'averell', 'pitted', 'rapidan', 'scrubby', 'undergrowth', 'exploiting', 'setback', \"sigel's\", \"butler's\", 'anticipating', 'summed', \"hancock's\", 'stonewall', \"contest's\", 'regroup', 'replenish', 'reconnaissance', 'horrific', 'outnumbering', 'overly', 'manned', 'stalled', 'bleaker', 'infrastructures', 'swath', 'carolinas', 'semblance', 'reconcile', 'kirby', 'pallbearer', 'essence', 'bulldog', 'tenacity', 'oversimplifies', 'maneuvering', 'irreplaceable', 'accusation', 'appalled', 'staggering', 'persevered', 'horatio', '716', 'breakaway', 'redeemers', 'begged', 'autumnal', 'outbreaks', 'militias', 'prop', 'prosecuting', 'fifteenth', 'supremacists', 'apathetic', 'kkk', 'factional', 'crs', 'stathis', 'decisive', 'greenback', 'redeem', 'disarray', \"blaine's\", '811ff', '811', 'calm', 'watterson', 'gop', 'ounce', 'specie', 'discharging', 'hasten', 'tresury', 'appromixately', 'auctions', 'payed', 'acomplishments', 'bolstered', 'annex', 'tactically', 'exodus', 'realize', 'urge', \"sumner's\", 'depose', 'chairmanship', 'dispatchment', 'envoy', 'milton', 'ousting', 'taint', 'manipulators', 'thugs', 'bristow', 'orville', 'indicted', 'rang', 'cyrus', 'scofield', 'crã©dit', 'mobilier', 'schuyler', 'colfax', 'malefactors', 'react', 'contributors', 'errors', 'nasty', 'greedy', 'maliciously', 'inclinations', \"jews'\", 'eager', 'ridding', 'jewry', 'israelites', 'intolerable', 'nuisance', 'purged', 'semite', 'postbellum', 'dined', 'cordially', 'shå\\x8dken', 'shibakoen', 'ryukyu', 'methodist', 'terrific', \"garfield's\", 'assets', 'swindled', 'warmly', \"book's\", 'julius', 'caesar', 'gertrude', 'mcgregor', 'saratoga', 'astride', 'm3', 'bronx', 'thoroughfare', \"francisco's\", 'intersection', 'tanning', 'shattered', 'shards', 'unharmed', 'cormac', 'willard', 'lobby', 'lobbyists', 'lobbyist', 'deafness', \"shaara's\", \"'yankee\", \"doodle'\", 'shaara', 'crow', 'cucumbers', 'vinegar', \"who's\", 'groucho', 'consolation', 'trick', 'jeopardy', 'loveless', 'speeding', 'fined', 'pocanticohills', 'catton', 'catalog', '12632', '8047', '3641', 'hamlin', '914427', '52348', '01372', '503863', '65994', 'shuster', '84927', 'woodworth', 'steven', '41218', 'reconsidered', 'badeau', 'ballard', '8078', '2893', 'bearss', '89029', '308', 'gott', 'kendall', 'stackpole', '8117', '0049', 'maney', 'miers', 'mosier', 'palgrave', '7136', 'tavern', '2136', '2535', '2803', 'tecumseh', '1856â\\x80\\x93february', 'admonishing', 'waging', 'surprisingly', 'armistice', 'postwar', 'anyway', 'internationalism', 'progressiveness', 'idealists', 'realists', '1822â\\x80\\x931903', 'janet', '1826â\\x80\\x931888', 'grandparents', 'strabane', 'tyrone', 'steubenville', 'uncles', 'chaplain', 'churchâ\\x80\\x99s', 'moderator', 'teenager', 'seminary', 'debating', 'dictated', 'wilmington', 'axson', 'hypochondriac', 'hyper', 'cycled', 'vacations', 'weinstein', 'renick', 'hillyer', 'mulder', 'gist', \"bagehot's\", 'diagnosing', 'prescribing', 'remedies', 'accountable', 'pours', 'scorn', 'petty', 'barons', 'despotic', 'sway', 'shires', 'convulse', 'presidencies', 'degradation', 'frozen', 'bryn', 'mawr', 'evelyn', 'lecturer', 'alluded', 'fitzrandolph', 'prospect', 'endowment', 'preceptorial', 'raiser', 'preceptors', 'aspired', 'thoughtless', 'curtail', 'elitist', 'temporize', 'invitations', 'reformist', 'agenda', 'utility', 'denouncing', 'champ', 'rolla', 'treasurer', 'handily', 'implementing', 'pledges', 'galt', 'outmaneuver', 'strenuously', 'decentralized', 'decentralization', \"reformers'\", 'battered', 'downâ\\x80¦concessions', 'financiers', 'safeguarded', 'unwilling', 'overlooked', 'appleman', \"william's\", \"seaman's\", 'rms', 'titanic', 'retrofitted', 'lifeboats', 'mortgages', 'keating', 'brotherhoods', 'adamson', 'trustbusters', 'companiesâ\\x80\\x99', 'directorates', 'carta', 'liability', 'requests', 'provoke', 'germanyâ\\x80\\x99s', 'â\\x80\\x9ccontrabandâ\\x80\\x9d', 'forceful', 'neutrals', 'benefited', 'pointedly', 'shave', 'partisans', 'reserving', 'â\\x80\\x9cnever', 'committing', 'lame', '358', 'clumsy', 'enlist', 'zimmermann', 'catastrophic', 'defeatism', 'espionage', 'lippmann', 'impede', \"'moderate'\", 'rationing', 'belligerent', 'disarmament', 'decolonization', 'antebellum', 'redrawn', 'deoccupied', 'adriatic', 'multilateral', 'compromised', 'clemenceau', 'chamorro', 'munitions', 'czarist', 'slovak', 'arkangel', 'safeguard', 'tsarist', 'bolsheviks', 'lansing', 'colby', 'containment', 'standoff', 'misunderstandings', 'communism', 'assuring', 'oppressed', 'tirelessly', \"conference's\", 'demobilization', 'burst', 'agitators', 'jail', 'anarchists', 'staunch', 'antisemitism', 'acquiesce', 'esp', 'melvin', 'urofsky', 'herzl', 'brecher', 'litani', 'watersheds', 'hermon', 'jaulon', 'hauran', 'mutilation', 'realization', 'sin', 'meir', 'abelson', 'sentinels', 'absolutely', 'lobbying', 'guaranteeing', 'incapacitation', 'incapacitated', 'paralyzed', 'purposely', 'steward', 'delegating', 'volstead', 'tumulty', 'upstaged', 'bolling', 'confidant', 'mead', 'rested', 'idealism', 'delano', 'precepts', 'wilsonianism', \"'w'\", \"'ww'\", '502', 'hounded', 'naacp', \"'closing\", \"ranks'\", \"'seeking\", \"honors'\", 'delegation', 'gentlemen', 'racists', 'georgian', 'truman', 'â\\x80\\x9cbegan', 'racism', 'clansman', 'regret', 'terribly', 'sheppard', 'reborn', 'â\\x80\\x9c', 'harmful', 'â\\x80\\x9dalthough', 'halie', 'loyalty', 'proceeded', 'disloyalty', 'hyphen', 'dagger', 'plunge', 'vitals', '424', '598', 'motives', 'honoring', 'starring', 'nominations', \"turtledove's\", 'stardust', 'dundern', 'actress', 'badie', 'ambrosius', 'â\\x80\\x9cwoodrow', '509â\\x80\\x9343', 'clements', 'kendrick', \"wesley's\", 'dcl', 'familiarity', 'capitalizing', 'lengthening', 'burmese', '193', 'pei', 'daidu', 'regimes', 'cambuluc', 'marco', 'peiping', 'hongwu', 'kuomintang', 'kmt', 'yanjing', 'brewed', '936', 'relics', 'kublai', 'zhu', 'å\\x8c\\x97å¹³', 'jingshi', 'dorgon', 'warlords', 'fengtian', 'pacified', 'bicycles', 'steppes', 'xishan', \"municipality's\", 'chaobai', 'heavenly', 'thoroughfares', 'shichahai', 'xicheng', 'charming', 'ccp', 'cctv', 'haidian', 'disposable', '032', 'multitude', 'gong', 'siheyuans', 'alleys', 'pedestrians', 'crafts', 'enamel', 'jingshan', 'pagodas', 'badaling', 'bao', 'kowloon', 'jams', 'nanyuan', 'renminbi', 'hyundai', 'zhong', 'guan', 'cun', 'ne', 'trois', '312', 'unintelligibility', 'sandra', 'mislead', 'minimizing', 'disparities', 'extralinguistic', 'overlook', 'sinologists', 'macrolanguage', 'iso', 'å®\\x98è¯\\x9d', 'guä\\x81nhuã\\xa0', 'å\\x8c\\x97æ\\x96¹è¯\\x9d', 'bä\\x9bifä\\x81nghuã\\xa0', 'chineseâ\\x80\\x94de', 'mandarinâ\\x80\\x94is', 'hoklo', 'å\\x85¨å\\x9c\\x8bç´\\x84æ\\x9c\\x8953', 'ç\\x9a\\x84äººè\\x83½ç\\x94¨æ\\x99®é\\x80\\x9aè©±äº¤æµ\\x81', 'hainan', 'xianghua', 'ä¹¡è¯\\x9d', 'æ¹\\x98', 'shaozhou', 'tuhua', 'overlapped', 'minbei', 'fuchow', 'swatow', 'marginally', 'wuzhou', 'taishan', 'ramsey', 'intend', 'idiolects', 'zhongwen', 'ä¸\\xadæ\\x96\\x87', 'æ±\\x89è¯\\xad', 'â\\x80\\x9cspoken', 'â\\x80\\x9clanguageâ\\x80\\x9d', 'â\\x80\\x9clanguagesâ\\x80\\x9d', 'è¯\\xad', 'yu', 'æ\\x96\\x87', 'wen', 'disunified', 'provocative', 'peopleâ\\x80\\x99s', 'â\\x80\\x9cregional', 'tonguesâ\\x80\\x9d', 'substandard', 'sinophone', 'sinae', 'shang', 'imaginary', 'yat', 'chiì\\x8dt', 'yit', 'ä¸\\x80', 'å\\x86\\x87', 'ä¿\\x82', 'kongers', 'hieroglyphs', 'erroneous', 'ren', 'äºº', 'ri', 'æ\\x97¥', 'shan', 'å±±', 'æ°´', 'pictorial', 'xç\\x9a', 'shã¨n', 'hã\\xa0n', 'categorized', 'æ¥·ä¹¦', 'æ¥·æ\\x9b¸', 'kç\\x8eishå«', 'ç¯\\x86ä¹¦', 'ç¯\\x86æ\\x9b¸', 'zhuã\\xa0nshå«', 'è\\x8d\\x89ä¹¦', 'è\\x8d\\x89æ\\x9b¸', 'cç\\x8eoshå«', 'é\\x9a¶ä¹¦', 'é\\x9a¸æ\\x9b¸', 'lã¬shå«', 'simplifies', 'glyphs', 'caoshu', 'tibeto', 'burman', 'paucity', 'pst', 'categorization', 'bernhard', 'karlgren', \"karlgren's\", 'zhå\\x8du', '1122', 'shä«jä«ng', 'shå«jä«ng', 'yã¬jä«ng', 'hints', 'uninflected', 'qä«ng', 'è\\x9c\\x9c', 'mã¬', 'ç\\x8d\\x85', 'shä«', 'é¦¬', 'mç\\x8e', 'ç\\x8a¬', 'quç\\x8en', 'éµ\\x9d', \"â\\x80\\x98honey'\", 'â\\x80\\x98lion', 'â\\x80\\x98horse', 'â\\x80\\x98dog', 'â\\x80\\x98goose', 'tocharian', 'sogdian', 'ulenbrook', 'einige', 'ã\\x9cbereinstimmungen', 'zwischen', 'chinesischen', 'indogermanischen', 'tsung', 'tung', 'chang', 'suã\\xad', 'tã¡ng', 'sã²ng', 'å\\x88\\x87é\\x9f»', 'qiã¨yã¹n', '601', 'å»£é\\x9f»', 'guç\\x8engyã¹n', 'reconstructed', 'summarize', 'cantopop', 'rhymes', 'sã¬chuä\\x81n', 'yunnan', 'orthoepy', \"qing's\", 'populace', 'handover', 'ã©lites', 'sharper', 'hangul', 'boldface', 'logograms', 'minglang', 'gruyter', '017896', '251â\\x80\\x93258', 'classifiers', 'è\\x8c¶', 'poj', 'tãª', 'ketchup', 'è\\x8c\\x84æ±\\x81', 'ke', 'chap', 'kumquat', 'é\\x87\\x91æ©\\x98', 'kuat', 'monophthong', 'sonorant', 'affricate', 'multisyllabic', '398', 'jespersen', 'monosyllabism', 'toned', 'hemp', 'torpid', 'scold', 'translators', 'missionariesâ\\x80\\x99', 'transcribing', \"chinese's\", 'æ¼¢èª\\x9eæ\\x8b¼é\\x9f³', 'æ±\\x89è¯\\xadæ\\x8b¼é\\x9f³', 'romanisation', 'anglicization', 'tå\\x8dngyã²ng', 'é\\x80\\x9aç\\x94¨æ\\x8b¼é\\x9f³', \"giles'\", 'apostrophes', \"t'aiâ²\", 'peiâ³', 'gwoyeu', 'romatzyh', 'efeo', \"'phags\", 'æ³¨é\\x9f³', \"taiwan's\", 'substantiate', 'cyrillization', 'palladius', 'trisyllabic', 'tetra', 'agglutination', 'zã¬', 'å\\xad\\x97', 'è¯\\x8d', 'è©\\x9e', 'â\\x80\\x9cwordâ\\x80\\x9d', 'yun', 'äº\\x91', 'â\\x80\\x9ccloudâ\\x80\\x9d', 'hanbaobao', 'â\\x80\\x93â\\x80\\x9chamburgerâ\\x80\\x9d', 'wo', 'æ\\x88\\x91', 'â\\x80\\x93â\\x80\\x9ci', 'meâ\\x80\\x9d', 'äººæ°\\x91', 'â\\x80\\x93â\\x80\\x9cpeopleâ\\x80\\x9d', 'diqiu', 'å\\x9c°ç\\x90\\x83', 'â\\x80\\x93â\\x80\\x9cearth', 'globosity', 'shandian', 'é\\x97ªç\\x94µ', 'â\\x80\\x93â\\x80\\x9clightningâ\\x80\\x9d', 'meng', 'æ¢¦', 'â\\x80\\x93â\\x80\\x9cdreamâ\\x80\\x9d', 'äº\\x86', 'è¿\\x98', 'yijing', 'å·²ç»\\x8f', 'serial', 'monosyllables', 'homophones', 'distinguishable', 'mono', 'é\\x9b\\x9e', 'é¸¡', 'æ©\\x9f', 'æ\\x9cº', 'å\\x9fº', 'æ\\x93\\x8a', 'å\\x87»', 'é¥\\x91', 'é¥¥', 'ç©\\x8d', 'ç§¯', 'glyphing', 'monosyllable', 'convenience', 'å\\x90\\x8då\\xad\\x97å\\x8f«å\\x98\\x89è\\x8b±ï¼\\x8cå\\x98\\x89é\\x99µæ±\\x9fç\\x9a\\x84å\\x98\\x89ï¼\\x8cè\\x8b±å\\x9c\\x8bç\\x9a\\x84è\\x8b±', 'mã\\xadngzi', 'jiã\\xa0o', 'jiä\\x81lã\\xadng', 'jiä\\x81ng', 'jiä\\x81', 'yä«ngguã³', 'yä«ng', 'jialing', 'ying', 'jyutping', 'gik1', 'gai1', 'gei1', 'ä¸\\xadå\\x8d\\x8eå\\xad\\x97æµ·', 'volumed', 'æ±\\x89è¯\\xadå¤§è¯\\x8då\\x85¸', 'cihai', 'encyclopedic', '836', 'sociological', 'xiandai', 'ç\\x8e°ä»£æ±\\x89è¯\\xadè¯\\x8då\\x85¸', 'ç\\x9f³æ¦´', 'pomegranate', 'ç\\x8b®å\\xad\\x90', 'ç\\x8d\\x85å\\xad\\x90', 'scriptures', 'ä½\\x9b', 'è\\x8f©è\\x90¨', 'è\\x8f©è\\x96©', 'bodhisattva', 'è\\x83¡å\\x90\\x8c', 'pãºtã¡o', 'pä\\x81li', 'gobi', 'ç\\x90µç\\x90¶', 'pã\\xadpa', 'é\\x85ª', 'cheese', 'yoghurt', 'ä»¥è\\x89²å\\x88\\x97', 'yç\\x90sã¨liã¨', 'å·´é»\\x8e', 'mç\\x8edã¡', 'é\\x80»è¾\\x91', 'é\\x82\\x8fè¼¯', 'luã³jã\\xad', 'æ\\x97¶é«¦', 'æ\\x99\\x82é«¦', 'shã\\xadmã¡o', 'smart', 'æ\\xad\\x87æ\\x96¯åº\\x95é\\x87\\x8c', 'xiä\\x93sä«dç\\x90lç\\x90', 'hysterics', 'æ²\\x99å\\x8f\\x91', 'comprehensible', 'å¾·å¾\\x8bé£\\x8e', 'å¾·å¾\\x8bé¢¨', 'tã©lã\\xadfon', 'dã©lç\\x9cfä\\x93ng', 'ç\\x94µè§\\x86', 'é\\x9b»è¦\\x96', 'diã\\xa0nshã¬', 'ç\\x94µè\\x84\\x91', 'é\\x9b»è\\x85¦', 'diã\\xa0nnç\\x8eo', 'æ\\x89\\x8bæ\\x9cº', 'æ\\x89\\x8bæ©\\x9f', 'shç\\x92ujä«', 'cellphone', 'è\\x93\\x9dç\\x89\\x99', 'è\\x97\\x8dè\\x8a½', 'lã¡nyã¡', 'bluetooth', 'ç¶²èª\\x8c', 'wç\\x8eng', 'zhã¬', 'logbook', 'compromises', 'æ¼¢å\\xa0¡å\\x8c\\x85', 'hã\\xa0nbç\\x8eo', 'bä\\x81o', 'hamburger', 'æ\\x8b\\x96æ\\x8b\\x89æ\\x9cº', 'æ\\x8b\\x96æ\\x8b\\x89æ©\\x9f', 'tuå\\x8dlä\\x81jä«', 'tractor', 'é©¬å\\x88©å¥¥', 'é¦¬å\\x88©å¥§', 'å¥\\x94è\\x85¾', 'å¥\\x94é¨°', 'bä\\x93ntã©ng', 'pentium', 'èµ\\x9bç\\x99¾å\\x91³', 'è³½ç\\x99¾å\\x91³', 'sã\\xa0ibç\\x8eiwã¨i', 'moulded', 'wasei', 'kango', 'å\\x92\\x8cè£½æ¼¢èª\\x9e', 'denwa', 'shã¨huã¬', 'ç¤¾ä¼\\x9a', 'shakai', 'kä\\x93xuã©', 'ç§\\x91å\\xad¦', 'ç§\\x91å\\xad¸', 'kagaku', 'chå\\x8duxiã\\xa0ng', 'æ\\x8a½è±¡', 'chå«shå\\x8d', 'jä«ngjã¬', 'ç»\\x8fæµ\\x8e', 'ç¶\\x93æ¿\\x9f', 'keizai', 'reimported', 'toing', 'froing', 'ä¾¿å½\\x93', 'ä¾¿ç\\x95¶', 'â\\x80\\x9clunchbox', 'lunchâ\\x80\\x9d', 'æ\\x96\\x99ç\\x90\\x86', 'â\\x80\\x9cprepared', 'cuisineâ\\x80\\x9d', 'è\\x8a\\xadè\\x95¾', 'bä\\x81lã©i', 'é¦\\x99æ§\\x9f', 'xiä\\x81ngbä«n', 'champagne', 'å\\x92\\x96å\\x95¡', 'kä\\x81fä\\x93i', 'caffã¨', 'é«\\x98å°\\x94å¤«', 'gä\\x81oä\\x9brfå«', 'è¿ªæ\\x96¯ç§\\x91', 'dã\\xadsä«kã¨', 'å\\x8f¯ä¹\\x90', 'kä\\x9blã¨', 'è¿·ä½\\xa0', 'mã\\xadnç\\x90', 'mini', 'skirt', 'å\\x8d¡é\\x80\\x9a', 'å\\x9fºä½¬', 'ç\\x9a\\x84å£«', 'å·´å£«', 'vogue', 'ç²\\x89çµ²', 'fä\\x9bnsä«', 'é§\\xadå®¢', 'hã¨ikã¨', 'hacker', 'é\\x83¨è\\x90½æ\\xa0¼', 'bã¹luå\\x8dgã©', \"english's\", 'honorifics', 'punctuation', 'exclamative', 'haner', 'hsk', '8248', '2766', 'axel', 'schuessler', '08248', '2975', 'worksheet', 'chinglish', 'nciku', 'clips', 'mdbg', 'rosetta', 'cedict', 'stardict', 'gpl', 'multilanguage', 'unix', 'freebsd', 'win32', 'cantodict', 'openoffice', 'prints', 'nicely', 'firefox', 'offline', 'cognitive', 'mian', 'chia', 'liu', 'oneaday', \"chan's\", 'chinalinks', 'liveable', 'environmentally', 'bornholm', 'amagerbro', 'habour', 'valby', 'sundby', 'brã¸nshã¸j', 'landsdele', '656', 'bef1a07', 'mansions', 'klampenborg', 'hellerup', 'taarbã¦k', 'holte', 'birkerã¸d', 'allerã¸d', 'fredensborg', 'dwellings', 'farum', 'vallensbã¦k', 'ishã¸j', 'greve', 'solrã¸d', 'kã¸ge', 'er', 'til', 'kastrup', 'fountian', 'nikolaj', \"iv's\", 'hadid', 'nouvel', 'highrises', 'premises', 'breweries', 'maze', 'fã¦lledparken', 'carnival', 'andersen', 'approx', 'kã¸benhavns', 'statistikbanken', 'glyptotek', 'impressionist', 'bertel', 'thorvaldsen', 'bournonville', 'hik', 'helt', 'manifesto', 'bryggeriforeningen', 'cafã©s', 'trier', 'middelgrunden', 'arne', 'statistik', 'benelux', 'medicon', 'maersk', \"education's\", 'dtu', 'kanal', 'mermaid', 'kbh', 'copenhague', 'gammel', 'amagergade', 'gebauede', 'loading', 'torv', 'gammeltorv', 'monocles', 'forbes', 'niels', 'millimetres', 'hail', 'langue', 'franã§ais', 'il', '148', 'flash', 'franchise', 'timothy', 'indirectly', 'soils', 'invaders', 'kamal', 'stir', 'arrests', 'sharif', 'rahman', 'mahmud', 'dressing', 'administrator', 'visibly', 'gang', 'occurrences', 'markedly', 'bambang', 'mangroves', 'ascend', 'pelly', 'tacit', 'baladiyah', 'ar', 'barren', 'profess', 'weill', 'telecommunication', 'horn', 'rick', 'wishes', 'puerto', 'rico', 'battleship', 'andalus', 'localized', 'predominately', 'abbasid', \"qur'anic\", 'normative', 'sibawayh', 'lisä\\x81n', 'incomprehensible', 'soap', 'lastly', 'ù\\x81ù\\x8aù\\x84ù\\x85', 'ù\\x87ø§øªù\\x81', 'hä\\x81tif', 'caller', 'sindhi', 'kurdish', 'pashto', 'libro', 'livro', 'aklat', 'kinubi', 'druze', 'mandaeans', 'recite', 'hasaean', 'epigraphic', 'musnad', 'lihyanite', 'thamudic', 'thamud', 'safaitic', 'qaryat', 'faw', 'sulayyil', 'lakhmids', 'ghassanids', 'kindite', 'easternâ\\x80\\x94especially', 'egyptianâ\\x80\\x94films', 'aku', 'fä«h', 'kayé\\x99n', 'yakå«n', 'fä«hi', \"kä\\x81'in\", 'cypriot', 'tunisian', 'kaplan', 'baldauf', 'multilingual', 'bateson', 'mccarus', 'andalusi', 'tajikistan', 'hassaniya', 'hejazi', 'hejaz', 'najdi', 'nejd', 'shuwa', 'med', 'allah', 'å«', 'unvelarized', 'bismi', 'lä\\x81h', 'epiglottal', 'pharyngealization', 'velarization', 'phonologists', 'â\\x80¹dâ\\x80º', 'underlined', 'â\\x80¹', 'â\\x80º', 'phonologically', 'geminate', 'dd', 'shaddah', 'qabala', 'qabbala', 'cv', 'cvv', 'cvc', 'elided', 'closes', 'baytu', 'mudi', 'superheavy', \"'heavy\", 'allowable', 'tun', 'bu', 'tab', 'tabt', 'jal', 'qaa', 'tayn', 'maa', 'tiib', 'zaa', 'rat', 'hiin', 'coallesced', 'ù\\x82', 'beirut', 'bahrainis', 'constrictive', 'ø¬', 'ù\\x83', 'masc', 'suffixed', 'tanwä«n', 'conjugated', 'paradigms', 'enclitics', 'prepositional', 'chiasmic', 'bi', 'unmarked', 'triconsonantal', 'xi', 'incidental', 'nabatean', 'alphabetâ\\x80\\x94in', 'qaf', 'calligraphic', 'quranic', 'zaouias', \"ge'ez\", 'naskh', \"ruq'ah\", 'fixing', 'khalil', 'ibn', 'farahidi', 'calligraphers', 'esteem', 'hadith', 'proverb', 'motivations', 'unambiguously', 'å¡', 'equivalently', 'italicizing', 'underlining', 'gashouse', 'sacrifice', 'definiteness', 'satts', 'mapping', 'ambiguities', 'irc', 'communicated', 'transliterating', 'ø¹', 'ayn', 'ø¯', 'daal', 'ø¶', 'manuscripts', 'quran', 'arabist', '0107', '3064', 'traini', 'vocabolario', 'arabo', 'wehr', 'arabisches', 'wã¶rterbuch', 'schriftsprache', 'gegenwart', 'arabisch', '447', '01998', '1452', 'mumisa', 'goodword', 'haywood', 'nahmad', '85331', 'veccia', 'vaglieri', 'grammatica', 'teorico', 'pratica', 'araba', \"l'arabe\", 'parlã©', 'mardin', 'monographie', \"d'un\", 'arabe', 'pã©riphã©rique', 'universitatii', '737', '249', 'isa', 'sari', 'musi', 'applet', 'arabicpod', 'emails', 'stools', \"habash's\", 'cleptoparasitic', 'advertisements', 'triangular', 'advertisement', 'monteverdi', 'basso', 'effectiveness', 'archeological', 'riba', 'differs', 'internationale', 'hsbc', 'cottage', 'overseen', 'celtic', 'habits', 'inflection', 'hittite', 'hiatus', 'interface', 'pub', 'differentiating', 'tailored', 'shortest', 'ecuador', 'regiments', 'stones', 'announcements', 'guillaume', 'ugly', 'lir', 'transforming', 'hansa', 'tchaikovsky', 'bonny', 'standardise', 'polymers', 'puns', 'plosive', 'phrasebook', '6000', 'conscious', 'dom', 'prescription', 'quid', 'quo', 'liaison', 'gambia', 'agyekum', 'expanses', 'bulky', 'hackles', 'bristle', 'thickly', 'accentuated', 'notions', 'slovakia', 'guardian', 'darting', 'silverites', 'neal', 'illegitimate', 'md', 'campbell', 'inviting', '197', 'yacht', 'commodities', '868', \"asia's\", 'dances', 'ø¯ù\\x88ù\\x84ø©', 'ù\\x82ø·ø±', 'transliterated', 'dawlat', 'northeasterly', 'exude', 'qatran', 'mcfarland', 'zubara', \"ptolemy's\", \"'cutter'\", \"'gutter'\", \"'guitar'\", 'peninsular', 'saud', 'thrones', 'camped', 'intermediary', 'vantage', 'invigorate', 'britainâ\\x80\\x99s', 'reigned', 'dependency', 'festered', 'seaboard', 'quash', 'eventuate', 'censuring', 'qatarâ\\x80\\x99s', 'entrepreneur', 'muhammed', 'thanis', 'foray', 'selfhood', 'emiri', 'diwan', \"kuwait's\", 'trucial', 'vacationed', 'enfranchisement', 'shocking', '100px', 'dawhah', 'ghuwariyah', 'jumaliyah', 'khawr', 'rayyan', 'jariyan', 'batnah', 'shamal', 'salal', 'mesaieed', 'faltered', 'kmâ³', 'pars', 'straddles', '800â\\x80\\x93900tcf', '1tcf', \"qataris'\", 'kicked', 'conduit', 'providers', 'gcc', 'lusail', 'juts', 'adaid', 'inlet', 'limestone', 'outcrops', 'zikrit', 'bab', 'asl', 'onshore', 'petrochemical', 'faiths', 'messaeed', 'criterion', \"baha'i\", 'madhhab', 'ø\\xadù\\x86ø¨ù\\x84ù\\x89', 'madhhabs', 'fiqh', 'maliki', 'shafii', 'fundamentals', 'methodologies', 'extraction', 'usul', \"shi'as\", 'please', 'abaya', 'liberalisation', 'shorts', 'establishments', 'liberalised', 'journalism', \"emir's\", 'highness', 'sheikha', 'mozah', 'bint', 'missned', 'tropospheric', 'scatter', 'microwave', 'intelsat', 'arabsat', 'qtel', 'interfered', \"skype's\", 'unblocked', 'paltalk', \"qtel's\", 'isp', 'smartfilter', 'deem', 'morality', 'ø§ù\\x84ø¬ø²ù\\x8aø±ø©â\\x80\\x8e', 'ä\\x9fazä«rã¤', 'dê\\x92aë\\x88zië\\x90', \"department's\", 'lured', 'promises', 'underpaid', 'gramercy', 'camping', 'supervision', 'ants', 'superfamily', 'apoidea', 'danforth', 'megachile', 'leafcutter', 'attain', 'beekeeping', 'eater', 'pollinating', 'pollinator', 'beekeepers', 'scopa', 'oils', 'halictid', 'behavioral', 'colletidae', 'castes', 'carpenter', \"larva's\", 'hive', 'mellifera', 'africanized', 'oligoleges', 'apid', 'vortices', 'caltech', \"bee's\", 'bumble', 'sphaeralcea', 'mesa', 'az', 'agapostemon', 'virescens', 'honeybee', 'blossom', 'mormodes', 'focal', 'ji', 'edifice', 'crosses', 'celliâ\\x80\\x94the', 'chel', 'lo', 'c2', 'g2', 'd3', 'a3', 'rihanna', \"yo's\", 'lesh', 'saskia', 'rao', 'haas', 'compositional', \"elgar's\", \"debussy's\", 'kodã¡ly', 'collaborating', 'delbanco', 'bazaar', 'countess', 'stanlein', '302', 'abbreviate', 'acceptable', 'bumped', 'pfretzschner', 'untold', 'violoncellos', 'boxwood', 'cores', 'perlon', 'titanium', 'chromium', 'attaches', 'auguste', 'adrien', 'endpins', 'capped', 'dulling', 'transfers', 'sponge', 'dampit', 'inserted', 'humidifier', 'disassembly', 'caesalpina', 'echinata', 'heartwood', 'resinous', 'sticky', 'specifying', 'gabrieli', 'sacrae', 'symphoniae', '1597', 'orfeo', 'consorts', '1500s', 'bolognese', 'virtuosic', 'violones', 'basse', 'violon', \"'servais'\", 'cyr', 'grassineau', '1750', \"bruegel's\", 'rustic', 'ergonomic', \"bow's\", \"corrette's\", 'mã©thode', 'thã¨orique', 'pratique', 'apprendre', 'peu', 'violoncelle', 'steadied', 'improper', 'asymmetrical', 'knuckle', 'nail', 'absorbs', 'ornament', 'stylistic', 'unfingered', 'depresses', 'expressiveness', 'pronation', 'pushes', 'counterforce', 'shimmery', 'slope', 'uitti', 'briskly', 'nearer', 'flautando', \"'scaled\", \"down'\", 'configuration', 'conifer', 'additives', 'tradenames', 'rockstop', 'floors', 'rectangle', 'carpet', 'eliminators', 'anomalies', 'wolfs', 'disc', 'metronomes', 'stabilize', 'drip', 'memorize', \"audience's\", 'bowings', 'principals', 'vivaldi', 'boccherini', 'saã«ns', 'lalo', \"brahms'\", \"strauss'\", 'quixote', 'rococo', \"bloch's\", 'schelomo', \"bruch's\", 'kol', 'nidrei', 'premiered', \"prokofiev's\", 'symphonia', 'lutoså\\x82awski', 'barber', 'honegger', 'lobos', 'myaskovsky', 'walton', 'rodrigo', 'penderecki', 'gregor', 'piatigorsky', 'grieg', 'rachmaninoff', 'debussy', \"kodã¡ly's\", \"dutilleux'\", 'strophes', 'sacher', 'mots', 'allã©s', \"sacher's\", \"carter's\", \"xenakis'\", 'nomos', 'kottos', 'quintets', 'sextet', 'trios', \"rossini's\", 'overture', \"zaccharias'\", \"verdi's\", 'nabucco', \"lobos'\", 'bachianas', 'brasileiras', \"boulez'\", 'messagesquisse', 'lineup', 'cher', 'rigby', 'beatlesque', 'combo', 'colosseum', 'collaborated', 'rutherford', 'foxtrot', 'rasputina', 'intermingled', 'fronted', 'silenzium', 'vivacello', 'novosibirsk', 'aerosmith', 'nirvana', 'onerepublic', 'kronos', 'margot', \"so's\", 'stiletto', 'orch', 'polyphonic', 'spree', 'psycadelic', 'esque', 'avant', 'garde', 'contrabasses', 'jason', \"brown's\", 'duncan', \"sheik's\", \"guettel's\", 'ricky', \"gordon's\", 'albertine', 'sollee', 'sparrow', 'sean', 'grissom', 'bassists', 'pettiford', 'babasin', 'abdul', 'wadud', 'diedre', 'ron', 'lucio', 'amanti', 'akua', 'reijseger', 'lonberg', 'holm', 'courtois', 'erik', 'friedlander', 'forster', 'gagliano', 'goffriller', 'guadagnini', 'domenico', 'montagnana', 'rogeri', 'ruggieri', 'stefano', 'scarampella', 'tecchler', 'testore', 'vuillaume', 'celloist', 'notability', \"collector's\", 'priced', 'vuitton', 'prã©', 'barjansky', 'bonjour', 'soo', 'bae', 'paganini', 'ladenburg', 'clive', 'greensmith', 'duport', '1720', 'prieto', 'bonta', 'macy', 'grovemusic', \"teacher's\", 'nl', 'syllabus', '615', 'timesonline', 'radial', 'congested', 'supplement', 'mathias', 'twinned', 'jahangir', 'nagar', 'bazar', 'ramna', 'ul', 'ing', 'zambia', 'wolff', 'advent', 'ã\\x9f', \"giraffe's\", 'stereotypic', 'chillã³n', 'talker', 'conlee', 'prehispanic', 'conquistadors', 'privateers', 'velasco', 'chilean', 'metropolitana', 'demogrã¡fico', 'chorrillos', 'cercado', 'fog', 'andes', 'sociodemogrã¡fico', 'monterrico', \"peru's\", 'bolsa', 'valores', 'pacifico', 'paseo', 'torre', 'tagle', 'parque', 'universitario', 'gastronomy', 'gastronomical', 'beachgoers', 'castile', 'voseo', 'bartolo', 'molina', 'pontificia', 'catã³lica', 'peruana', 'jorge', 'panamerican', 'megaport', 'huancavelica', 'pasco', 'colectivos', 'windshield', 'panamericana', 'autopista', 'austin', 'paulo', 'inei', 'strummed', 'zithers', 'soundbox', 'kinsky', 'pontic', 'talharpa', 'jouhikko', 'simsimiyya', 'litungu', 'synthesis', '982', 'tremor', 'queensway', \"67's\", 'ravens', 'estero', 'caballeros', 'guayaquil', 'veraguas', 'alcácer', 'sal', 'arganil', 'armamar', 'seia', 'sesimbra', 'tavira', 'novas', 'vila', 'dos', 'alandroal', 'castelo', 'valdés', 'sariego', 'comarca', 'caracas', 'anserinae', 'cygnini', 'cygninae', \"'divorce'\", 'schwan', 'zwaan', 'swen', 'sonus', 'cob', 'cobbe', 'blackish', 'patterned', 'furling', 'paddling', 'furled', 'branched', 'fluffed', 'flush', 'uninhabitable', 'circumboreal', 'mingled', 'bog', 'chenopis', 'sumnerensis', 'chatham', 'sthenelides', 'melancoryphus', \"bewick's\", 'migrates', 'allocation', 'grooming', 'csakvarensis', 'cygnanser', 'mariae', 'wickieup', 'verae', 'liskunae', 'hibbardi', 'paloregonus', 'wc', 'condoni', 'matthewi', 'equitum', 'lacustris', 'eyre', 'archaeocygnus', 'bilinicus', 'herrenthalsi', 'stork', 'atavus', 'shelducks', 'cosmogony', 'pazyryk', 'accession', 'å\\x81abä\\x99dåº', 'szlachta', \"sienkiewicz's\", 'parsifal', 'wooing', 'sidhe', 'subterranean', 'transforms', \"ireland's\", 'troy', 'zeus', 'sparta', 'beautifully', \"juvenal's\", 'sarcastic', 'rara', 'avis', 'urd', 'asgard', 'volundarkvida', 'volund', 'maidens', 'tuoni', 'underworld', 'whoever', 'lemminkã¤inen', 'tuonelan', 'joutsen', 'consecrated', 'constancy', 'rape', \"darã\\xado's\", 'blasã³n', 'enrique', 'gonzã¡lez', 'martã\\xadnez', 'sonnet', 'provocatively', 'tuã©rcele', 'cuello', 'cisne', 'wring', 'deities', 'saraswati', 'paramahamsa', 'vedas', 'manasarovar', 'wrongly', 'checklists', 'vagrant', \"sorcerer's\", 'nikolayevich', 'afanasyev', 'narodnye', 'russkie', 'skazki', 'caer', 'ibormeith', 'sorcerer', 'kidnaps', 'curses', 'faunal', 'cyril', 'warriors', \"orff's\", 'cantata', 'carmina', 'burana', 'roasting', 'bjã¶rk', \"'swan\", \"dress'\", 'marjan', 'pejoski', '73rd', 'mourer', 'chauvirã©', 'cã©cile', 'guleã§', 'erksin', 'howell', 'tim', \"l'avifaune\", 'turquie', 'plã©istocã¨ne', 'infã©rieur', 'climat', 'environnement', 'biogã©ographie', 'acad', 'iia', 'imeleon', 'artinthepicture', 'mazak', 'regards', 'boar', 'killers', 'cocktail', 'wwf', 'protagonist', 'modulated', 'incurved', 'kasha', 'tanbur', 'setar', 'sitar', 'iconographic', 'gitarre', 'guitare', 'andalusian', 'qitara', 'cor', \"strong's\", 'concordance', '2788', 'sihtar', 'carolingian', 'psalter', 'hispania', 'moors', 'summerfield', 'blaydon', 'tyne', 'ashley', '63946', 'lut', 'gunther', 'gunnar', 'soundholes', 'reshaping', 'gaetano', 'naples', 'fakes', 'seville', 'panormo', 'strutting', 'vermeer', 'unamplified', \"sanz'\", 'instrucciã³n', 'sobre', 'espaã±ola', '1674', 'cutout', 'arpeggios', 'guitarron', 'bandola', 'deleuze', 'guattari', 'tiple', 'complementary', 'sopranino', 'yepes', 'sonority', 'cittern', 'loar', 'archtops', 'flatwound', 'baritone', 'tricone', 'resophonic', 'biscuit', 'terz', 'dixieland', 'ukulele', \"'harp'\", 'specification', 'pikasso', 'sympitar', 'protruding', 'calabria', 'commercialized', 'offs', 'slurs', 'pinch', 'mcguinn', 'byrds', 'rickenbacker', 'chiming', \"steve's\", 'flip', '225px210px', 'pegheads', 'neckjoint', 'pauls', 'symmetrical', 'layouts', 'stratocasters', 'steinbergers', 'corian', 'grooves', 'endpoints', 'slippage', 'crosswise', \"fretboard's\", 'pinching', 'shortens', 'hpl', 'alloy', 'halves', 'subtracted', 'gauges', 'scalloped', 'scooped', 'flatter', 'polished', 'recrowned', 'reshaped', \"neck's\", 'counteracts', 'counteracting', 'straightening', 'loosen', 'tensile', 'anto', 'balln3k', 'bengkayang', 'leds', 'onstage', 'parallelograms', 'fretwork', 'mimicking', 'bindings', 'filler', 'trussrod', 'rigidity', 'steinberger', 'kramer', 'travis', 'bean', 'veleno', 'modulus', 'threeguitars', 'taylors', 'mortise', 'tenon', 'dovetail', 'd28', 'utilising', 'phosphor', 'polymer', 'fluorocarbon', 'monofilament', 'tonewoods', '3mm', 'strengthened', 'salon', 'hauser', 'ramirez', 'fleta', 'strengthens', 'tensioned', 'dalbergia', 'nigra', 'dreadnought', \"70's\", 'seam', 'alder', 'electrics', 'polyurethane', 'nitrocellulose', 'polycarbonate', 'mains', 'humbuckers', 'magnetâ\\x80\\x93coil', 'assemblies', 'twangier', 'piezoelectricity', 'distorted', 'voltages', 'outputs', 'modelling', 'variax', 'digitally', 'vintage', 'interpreter', 'sends', 'potentiometers', 'capacitors', 'preamplification', 'reinforcement', 'gluing', 'linings', 'kerfing', 'endgrain', 'modulate', 'screwdriver', 'measurably', 'sharping', 'sissy', 'stompbox', \"'whammy'\", 'digitech', 'misnaming', \"fender's\", 'computerized', 'programmed', 'robot', 'notated', 'eadgbe', 'repeatable', 'voicings', \"'dropped'\", 'dadgbe', 'powerchords', 'halen', \"'d\", 'tuna', 'detune', \"dgcfad'\", 'triads', 'eadgcf', 'stanley', 'capotasto', 'capos', 'clipped', 'formations', 'cheaters', 'hillbilly', 'crutch', \"'hawaiian'\", 'bottles', 'chrome', 'elmore', 'ry', 'cooder', 'bonnie', 'raitt', 'haynes', 'duane', 'allman', 'muddy', 'rory', 'gallagher', 'picksa', 'coveted', 'gibbons', 'sixpence', 'guitjo', 'tablature', 'tonewood', 'bloomingdale', 'stalking', 'allguitarists', 'akhenaten', 'occupations', 'regionally', 'stems', \"michigan's\", 'linebacker', 'tackle', 'berwanger', 'ensign', 'kwajalein', 'eniwetok', 'skipper', \"we're\", 'peculiarity', 'dole', 'newsweek', 'thank', 'headlines', 'guinoye', 'adangbes', 'maclean', 'peel', 'langer', 'chronologically', '1050', 'wagadugu', 'sundiata', 'mansa', 'musa', '1307', 'mande', 'mamprussi', 'anecdotal', 'mandikas', 'ankobra', 'mina', 'colonisers', 'trinkets', '1481', 'diogo', \"d'azambuja\", '1598', 'komenda', 'kormantsi', '1637', 'axim', 'ibalbrong', 'ahafo', 'kumasi', 'fantes', 'fanti', 'togoland', 'neo', 'espouse', 'osagyefo', \"nkrumah's\", 'stockwell', \"pandora's\", 'gaines', 'kevin', 'coups', 'jubilee', 'osu', 'cocoa', 'bauxite', 'manganese', 'oilfield', 'revolve', 'landholders', 'depreciation', 'austerity', 'â¢', 'cedis', 'exchanging', 'vfrs', '546', 'simplifying', '138', 'tema', 'dahomey', 'gurma', 'grusi', 'dagaare', 'wale', 'kasem', 'nzema', 'awarding', 'ghanaians', 'handful', 'bece', 'sss', 'subayo', '26â\\x80\\x9336', '70â\\x80\\x93135', 'chests', 'trotting', 'sprinting', 'toe', 'digitigrade', 'largeness', 'digit', 'dewclaw', 'bristled', 'blunt', 'slippery', 'insulates', \"coat's\", 'silkier', 'multicolor', 'characteristically', \"population's\", 'grayish', 'tint', 'adolescent', 'anatomically', 'precaudal', 'maxilla', 'shearing', 'subdue', 'delivering', 'kpa', '1450', 'lbf', 'inâ²', 'devastate', 'dooming', 'incapacity', 'preferably', 'feels', 'seclusion', 'vulva', 'unreceptive', 'uterus', 'ovulating', 'coitus', 'copulatory', 'bulbus', 'glandis', 'erectile', 'vaginal', 'pelvis', 'undulation', 'cervix', 'inseparable', 'ejaculate', 'blends', 'hillside', 'regurgitated', 'restless', 'rendezvous', 'safely', '14â\\x80\\x9365', 'infections', 'mange', 'heartworm', 'parvovirus', 'distemper', 'echinococci', 'cysticercocci', 'coeruni', 'trichinellidae', 'asserts', 'stare', 'hindquarters', 'humbles', 'lash', 'frightened', 'flatten', 'barks', 'snarls', 'narrows', 'relaxation', 'droops', 'joyful', 'loll', 'tensed', 'playfulness', 'wags', 'frolic', 'wagged', 'howls', 'choral', 'underestimates', \"pack's\", 'twilight', \"adults'\", 'provoked', 'growling', 'bared', 'growls', 'growl', 'discreetly', 'whuf', 'vocalizations', 'wailing', 'rallying', 'wolfpaper', 'submitting', 'reassurance', 'scents', 'anythingâ\\x80\\x94from', 'marker', 'caches', 'cautiously', 'genitalia', 'secreted', 'odoriferous', 'testifies', 'olfactory', 'parc', 'loups', 'cohesive', 'preferentially', 'epileptic', 'thrashing', 'overbearing', 'assisting', 'surrogate', 'superiors', 'leapfrog', 'contending', 'bloodshed', 'injurious', 'loser', 'posturing', 'bluffing', 'easygoing', 'omegas', 'truculence', 'inimical', 'objectionable', 'solitude', 'enticing', 'bags', 'jesters', 'cooperatively', 'relenting', 'pinning', 'sustenance', '5lb', 'diseased', 'succumb', 'circumstance', 'safer', 'keystone', \"predator's\", 'neonatal', 'attackers', \"'wolf'\", 'indica', 'himalayaensis', 'simensis', 'dirus', '13â\\x80\\x9315', \"dog's\", 'untangling', 'colonize', 'swift', 'kittens', 'stealing', 'kerry', 'grizzly', 'murie', 'hungry', 'skirmishes', 'deterrents', 'tyr', 'culled', 'overhunt', 'dwindle', 'fenrisulfr', 'loki', 'giantess', 'angrboã°a', 'destined', 'devour', 'ragnarã¶k', 'gapes', 'slain', \"odin's\", 'viã°arr', 'stab', 'asunder', 'werewolves', 'pliny', 'ulf', 'ujk', \"ze'ev\", 'farkas', 'vuk', 'vç\\x8elko', 'shrines', 'beseeching', 'boars', 'talismans', 'charms', 'adorned', 'ainu', 'wolflike', 'shamanic', 'nursed', 'ergenekon', 'conquer', 'rom', 'kultur', 'bakanligi', 'nevruz', 'paralleled', 'amulius', 'tiber', 'cradle', 'downstream', 'tiberinus', 'lupa', \"grimm's\", 'aesopian', 'portrayal', 'unreasonable', 'overpopulating', 'scaled', 'amid', 'outcry', 'exterminating', \"norway's\", \"they're\", 'preventative', 'breached', 'directive', 'bounties', 'â\\x82¬60', 'â\\x82¬70', 'â\\x82¬230', 'poison', 'clcp', \"there's\", \"week's\", 'balkani', 'educating', 'reporting', 'exterminations', \"russia's\", 'capitalist', 'plaguing', 'animalâ\\x80\\x99s', 'kazakhstani', 'wolfâ\\x80\\x99s', 'antelopeâ\\x80\\x99s', 'amangeldy', 'favouring', 'mercantour', 'mauling', 'berne', 'culls', 'heaths', 'lã¼chow', 'dannenberg', 'nabu', 'loners', 'woodland', 'nunamiut', 'lopez', 'colonizing', 'uncollected', 'shyer', 'grisly', 'sketches', 'inciting', 'hopeful', \"joggers'\", 'anchorage', 'joggers', 'spittals', 'bury', 'amassed', 'kovno', 'partaken', 'satisfy', 'culmination', 'breaker', 'resounding', 'ordeal', 'validated', 'wipe', 'healthier', 'aspen', 'swelled', 'rodent', 'pronghorn', 'pickings', 'grizzlies', 'gophers', 'undeniably', 'agreeing', 'obligated', 'desirability', 'recolonizing', \"highland's\", 'overpopulated', 'respite', 'ecotourism', 'uneconomical', 'sheepfold', 'aberdeen', 'bestiary', 'relocation', 'shelters', 'dazed', 'viscera', 'chewed', 'disregard', 'disembowelment', 'breeders', 'akbash', 'maremma', 'pyrenees', 'kuvasz', 'unwittingly', 'turf', 'uncharacteristic', 'intimidating', 'wolfdogs', 'hybridized', 'stray', 'poisons', 'scientifically', 'killings', 'dutcher', 'desperation', '21000', '2729', '5894', '880', 'himalaya', 'unskilled', 'eskimoes', 'transmitters', 'prompter', 'bedrock', 'criticisms', 'overwhelmed', 'depressions', 'undated', 'hangings', 'unpleasant', 'hangman', 'executions', 'derisive', 'chanted', 'paying', 'crofts', 'chant', 'blunders', \"voters'\", 'blocking', 'encourages', 'expectation', 'weakens', 'enacting', 'authorize', 'extravagances', 'apache', 'decrying', \"arthur's\", 'entangling', 'zakaria', 'retarded', 'aggressiveness', 'bayard', 'moralistic', 'coaling', 'industrialists', 'quickened', 'exaction', 'indefensible', 'extortion', 'culpable', 'betrayal', 'wrongs', 'multiplies', 'hoarding', 'needlessly', 'crippling', 'plunder', 'cornelia', 'executor', \"frances'\", 'ruth', 'esther', 'thurman', 'squeaking', '204', \"gore's\", 'minting', 'mortgage', 'foreclosures', 'repeal', \"treasury's\", 'virginian', 'guided', 'pue', 'nullified', 'disgraceful', 'perfidy', 'dishonor', 'thundered', 'altgeld', 'silverite', 'protectionism', 'typewriters', 'jamming', 'invoking', 'decisively', 'henderson', 'blount', 'scathing', 'reinstatement', 'contradicted', 'turpie', 'reinstating', 'ladies', 'sensible', 'canvas', 'eastman', '1824â\\x80\\x931906', 'nominees', 'peckham', \"o'reilly\", 'ulcerated', 'lingual', 'biopsies', 'inconclusive', 'proven', 'malignant', 'secrecy', 'guise', 'erdmann', 'hasbrouck', 'dentist', 'anesthesiologist', 'janeway', \"benedict's\", 'scars', 'sedating', 'nitrous', 'oxide', 'laughing', 'disfigured', 'orthodontist', 'prosthesis', 'placated', 'participating', 'discounted', 'transpired', 'detailing', 'mã¼tter', 'diagnosis', 'verrucous', 'carcinoma', 'cured', 'surgical', 'excision', 'westland', 'constructively', 'jamestown', \"sewell's\", 'humorist', 'nonprofit', 'nonpartisan', 'fairfield', 'bamie', 'bye', 'makeshift', 'bullies', 'computing', 'desegregation', 'disagreements', 'leon', 'lawsuits', 'supervise', 'labeling', 'sphere', 'consumers', 'milwaukee', 'pluto', 'overtaken', 'lily', 'slender', 'mystery', 'deadly', 'xiamen', '189', 'bavarian', 'pakistani', 'franã§aise', 'plosives', 'aspirated', 'seconds', 'predictable', 'traded', 'parliaments', 'sohn', 'hornbeam', 'wolfgang', 'welle', 'reared', 'geoffrey', 'slums', 'exchanges', 'globalization', 'guinness', 'bogotã¡', 'lundenwic', 'residing', 'santander', 'apollo', 'federally', 'metonymy', 'councillor', 'efficacy', 'paramedics', 'recycling', 'chaudiã¨re', 'damming', 'burrowes', \"street's\", 'odaawaa', 'kichi', 'sibi', 'kichissippi', 'philemon', 'barracks', 'townsite', \"wright's\", 'ruggles', 'braddish', 'billings', 'uppertown', 'boisterous', 'cholera', 'typhus', 'raftsmen', 'sticking', 'hatpin', 'watercolours', 'unruly', 'defensible', 'midway', 'treacherous', 'mcleod', 'cipher', 'igor', 'defected', \"cbc's\", \"neighbour's\", 'apartment', '695', \"capital's\", 'martello', 'laurentian', 'blackburn', 'stittsville', 'manotick', '545', \"morgan's\", 'greely', 'burritts', 'fallowfield', 'kars', '539', '549', 'munster', 'carp', '810', 'constance', '571', 'almonte', '649', 'leisure', 'marshland', 'tiered', 'prescott', 'renfrew', 'lanark', 'leeds', 'grenville', 'stormont', 'dundas', 'glengarry', 'collines', 'huntley', 'marlborough', 'torbolton', 'dfb', '100â°f', 'activitiesâ\\x80\\x94more', 'winterlude', 'julyâ\\x80\\x94and', 'astana', '2007â\\x80\\x9308', '436', 'chill', 'outages', 'aggravating', 'extremes', 'swings', '943', '5â½', '060', 'destructive', 'hurricanes', 'f2', 'f3', 'greyhound', 'promenades', 'parkway', 'tabled', 'bowesville', 'pathway', 'locks', 'skaters', 'boulevard', \"senators'\", 'aaa', 'phillies', \"team's\", 'orioles', 'lehigh', 'ironpigs', 'allentown', 'cdn', 'renegades', 'clair', 'commissionner', 'cohon', '67s', 'demon', 'deacons', 'qjfl', 'sooners', 'gee', 'gees', 'usl', 'harness', 'raceway', 'speedway', 'canucks', 'canoe', \"hog's\", 'jogging', 'lac', 'deschenes', 'golfing', \"ontario's\", 'elgin', 'facade', 'strongholds', 'safest', 'liberals', 'leaning', 'ridings', 'fiscally', 'staunchly', '761', '337', '031', 'youths', 'lds', 'professing', 'tabaret', 'phds', 'citã©', 'collã©giale', 'shortwave', 'chu', 'simcoe', 'peterborough', 'catania', 'campobasso', 'molise', 'sewer', 'explosion', 'arboretum', \"gatineau's\", 'embassies', 'crossings', 'freenet', 'webcam', \"berlin's\", 'karnak', 'kem', 'deshret', 'riverbank', \"sheme'aw\", 'sedgeland', 'mehew', 'northland', 'connoted', 'aigã½pti', 'aigã½ptios', 'gyptios', 'kyptios', 'hikuptah', 'strabo', 'aegean', 'terraces', 'fishers', 'overgrazing', 'desiccate', 'pastoral', 'midant', 'reynes', 'bã©atrix', 'merimda', 'contemporaneous', 'hieroglyphic', 'kathryn', '3150', 'menes', 'tawy', 'distinctively', '2700â\\x88\\x922200', 'djoser', 'icons', 'ushered', 'upheaval', '2040', 'amenemhat', 'disunity', 'heralded', 'avaris', 'ahmose', 'thebes', '1550â\\x88\\x921070', 'barkal', 'nubia', 'hatshepsut', 'thutmose', 'nefertiti', 'tutankhamun', 'ramesses', 'monotheism', 'atenism', 'libyans', 'nubians', 'nectanebo', 'evangelist', \"diocletian's\", 'chalcedon', '451', 'byzantines', 'regain', 'fatimids', 'ayyubid', 'turco', 'circassian', '1517', 'mercenaries', 'kavalali', 'mehmed', 'irrigation', \"isma'il\", 'ismail', 'oneworld', 'khedive', 'abbas', 'riot', 'exile', 'dinshaway', 'wafd', 'revolting', 'ouster', 'farouk', 'nationalization', 'infitah', 'clamping', 'golan', 'liberate', 'expulsion', '443', 'fundamentalist', \"mokhtar's\", 'indelible', 'fore', 'ideologies', 'pharaonism', \"sati'\", 'husri', 'qtd', 'adeed', '246', 'deighton', 'makropoulou', 'ifigenia', 'hellenic', \"nasser's\", 'unequivocally', 'asserting', 'conspicuously', '267', 'incompatible', 'avowedly', 'distinctiveness', '3500', 'shayma', 'hindustan', 'masri', 'qawmeyya', \"'arabeyya\", 'palestinians', 'ragab', 'masry', \"'arab\", \"nationalism'\", 'israelis', 'zahi', 'osama', 'suzie', 'greiss', 'interculturalist', 'intercultures', 'kimit', 'sagi', 'ghobrial', 'ahali', \"habeeb's\", 'masreyat', \"derosa's\", \"joseph's\", 'michelle', 'fram', 'atlasphere', 'erode', 'relegate', 'superimposing', 'anthropologist', 'fieldwork', 'nazif', 'atef', 'ebeid', 'consolidate', 'todayegypt', 'throws', 'draconian', 'candidacies', 'lavin', 'â\\x80\\x9cconviction', 'troubled', 'sentencing', 'gomez', \"mubarak's\", 'pretend', 'timetable', 'boycotted', 'curbs', 'islamists', 'kefaya', 'demo', 'protesting', 'clamped', \"hrw's\", 'detentions', 'intolerance', \"baha'is\", 'unorthodox', 'unbridled', 'alleges', 'interrogation', 'rebuttal', 'ngo', 'undermines', 'ngos', 'legitimacy', 'repressive', 'qenawy', 'anhri', 'enshrine', 'crossroads', 'tunis', 'resolving', 'credence', 'indulgence', 'reluctance', 'muhafazat', 'muhafazah', 'markazes', 'padding', '8px', \"vacationersegypt's\", 'overtax', 'recipient', 'mined', 'lng', 'slashing', 'mohieddin', 'etisalat', 'pumped', 'orascom', \"sme's\", 'xceed', 'c3', 'capitalize', 'adheres', 'demographically', 'fellahin', 'siwis', 'amazigh', 'faiyum', 'undp', 'underestimate', 'resettling', 'cityscape', 'minarets', 'extremism', 'demarcation', 'â\\x80\\x94islam', 'judaismâ\\x80\\x94and', 'beliefsâ\\x80\\x94thus', 'delegitimatizing', 'perjury', 'denial', 'hoffman', 'valerie', 'sufism', 'mystics', 'wahington', 'melkite', 'apostolic', 'maronite', 'chaldean', 'wizaret', 'clerics', 'fatwa', '970', 'attests', 'eritrea', 'islamist', 'restrictive', 'marginalization', 'handing', 'minimally', 'discriminated', 'eddin', 'ibrahim', 'tarek', 'heggy', 'youssef', 'magued', 'governorate', 'qena', 'sawiris', 'kosheh', 'attacker', 'karaites', 'partook', 'yaqub', \"sanu'\", 'abu', 'naddara', 'dawoud', 'husni', 'mourad', 'revoked', 'confiscated', 'jcc', 'bassatine', 'agnostic', 'sanction', 'apostasy', 'suing', \"'apostating'\", 'prosecutor', 'atheists', 'insulting', 'intensify', 'wrongfully', 'detaining', 'insisting', 'troubles', 'converts', 'documenting', 'shahine', 'gihan', 'ahram', 'bibliotheca', 'alexandrina', 'commemoration', 'hellenism', 'elbaradei', 'iaea', \"rifa'a\", 'suyuti', 'maqrizi', 'abduh', 'lutfi', 'qasim', 'amin', 'salama', 'taha', 'mokhtar', 'secularism', 'theban', 'ramose', 'deir', 'madinah', 'codify', \"producers'\", 'actors', 'omar', 'zaynab', 'haykal', 'mahfouz', 'nawal', 'saadawi', 'feminist', 'activism', 'alifa', 'rifaat', 'luminaries', 'nigm', 'fagumi', 'salah', 'jaheen', 'abnudi', 'abdu', 'hamuli', 'almaz', 'osman', 'darwish', 'kulthum', 'wahab', 'halim', 'hafez', 'diab', 'carnivals', 'mulids', 'mawlid', 'flavor', 'lanterns', 'fawanees', 'sham', 'shom', 'paremoude', 'pashons', 'ahly', 'zamalek', 'rivalries', 'wins', 'knesset', 'warplanes', 'idf', 'haaretz', 'egyptsat', 'satellites', 'desertsat1', 'egyptsat2', 'desertsat2', 'yaacov', 'aridity', 'hamza', 'waleed', 'isthmus', 'asyut', 'mahalla', 'kubra', 'khufu', 'hurghada', 'safaga', 'zagazig', 'minya', 'bahariya', 'dakhla', 'kharga', 'ras', 'zaranik', \"sinai's\", 'damietta', 'baltim', 'sidi', 'barrany', 'frost', 'khamaseen', 'gaston', 'maspero', \"international's\", 'rudolph', 'fortieth', 'vietamese', '3202', 'woolworth', 'omaha', 'tannisse', 'clarence', 'haskins', 'adele', \"kings'\", \"baby's\", 'nursemaid', 'honeymoon', 'smiling', 'salesman', '1918â\\x80\\x931995', '1927â\\x80\\x932001', '1921â\\x80\\x931993', '1923â\\x80\\x931976', 'parentage', 'carefree', \"couldn't\", 'circled', \"program's\", 'proudest', 'ushers', 'athlete', 'recruiters', 'schoolâ\\x80\\x99s', 'undefeated', 'teamâ\\x80\\x99s', 'scoreless', 'bennie', 'oosterbaan', 'â\\x80\\x9cwhen', 'cedric', 'â\\x80\\x9cduring', 'tumble', 'remembering', 'adverse', 'teammates', 'â\\x80\\x9cthey', 'guy', 'â\\x80\\x9cbecame', 'shrinerâ\\x80\\x99s', 'collegiate', 'awakened', 'earn', 'packers', \"yale's\", 'varsity', 'll', 'juris', 'wendell', \"willkie's\", 'buchen', 'enlisting', 'instructor', 'instructors', 'seamanship', 'ordnance', 'gunnery', 'detachment', 'camden', 'navigator', 'fleets', 'makin', 'gilberts', 'kavieng', 'overhaul', 'ryukyus', \"halsey's\", '18â\\x80\\x9319', 'destroyers', 'cables', 'colliding', 'hanger', 'rolled', 'footing', 'catwalk', 'lucky', 'overboard', 'fires', 'halsey', 'abbandon', 'awaiting', 'donned', 'exploded', 'handlers', 'slid', 'decks', 'furnace', 'cvl', 'elevator', 'unfit', 'bremerton', 'glenview', 'honorable', 'hollandia', 'benevolent', 'elks', 'legion', 'amvets', 'freemasonry', 'rite', 'incidentally', 'bloomer', 'troupe', 'martha', 'bartel', 'jonkman', 'avowed', 'nobody', 'budgets', 'reconciler', 'subcommittee', 'msfc', 'wernher', 'braun', 'mahon', 'nasa', 'lyndon', 'harvey', 'oswald', 'arrb', 'wording', 'absurd', 'â\\x80\\x9cabove', 'rightâ\\x80\\x9d', 'thatâ\\x80\\x99s', 'impression', 'clarifications', 'humes', \"commission's\", 'inoffensive', 'unneeded', 'wasteful', 'dirksen', 'jokingly', 'ev', 'fart', 'sanitizing', \"lbj's\", 'spiro', 'agnew', 'evasion', 'nixons', \"agnew's\", 'vacancy', 'preoccupied', 'revelations', \"'i'm\", \"'betty\", 'burger', 'acutely', 'vacated', '4311', 'dodgers', 'derided', 'bargain', 'summarizes', 'concealing', 'credibility', 'candor', 'jerald', 'terhorst', 'wallet', 'burdick', 'presumption', 'tantamount', 'confession', 'clifton', 'weaver', '1975â\\x80\\x931977', 'americanpresident', 'halloween', '3rds', 'submit', '94th', 'overrode', '1865â\\x80\\x931869', 'vanderveen', 'renka', 'interregnum', 'buttons', 'hindsight', 'gimmick', 'minneapolis', 'sank', 'rebates', 'beame', 'bailout', \"news'\", 'headline', 'lemann', 'influenza', 'h1n1', 'mysteriously', 'pointers', 'vaccination', 'canceled', 'shots', 'mickle', 'trentonian', 'budgeting', '4383', 'hereby', 'scramble', \"'operation\", \"wind'\", '373', 'leonid', 'brezhnev', 'communiquã©', 'easing', 'thawing', 'cambodians', 'g7', 'g5', 'squeaky', 'manson', 'colt', 'handgun', 'buendorf', 'grabbed', 'cartridges', 'sara', 'thwarted', 'sipple', 'deflected', 'disappointed', 'siding', 'treanor', 'faulted', 'cede', 'torrijos', 'gipper', 'plethora', 'chevy', 'pratfalls', 'imitating', 'stumbling', 'vh1', 'premiering', 'wednesday', 'prnewswire', 'recrimination', 'rancor', 'jeer', 'heed', 'dismayed', 'inexplicably', 'blundered', 'imply', 'spirits', 'questioner', 'frankel', 'incredulous', 'neighbored', 'miltied', 'gallup', 'statistically', 'disqualified', 'subsided', 'praising', 'outgoing', 'predecessor', 'inaugurals', 'interviewed', 'naughton', 'obituary', 'kinstler', 'briefs', 'carterâ\\x80\\x99s', 'catalyst', 'rosalynn', \"fords'\", 'updegrove', 'â\\x80\\x9cflying', 'cairoâ\\x80\\x9d', 'americanheritage', \"reagan's\", 'greenspan', 'undergraduates', 'agony', 'comedian', 'longtime', '90th', 'columnist', 'gays', 'lesbians', 'outlawing', 'nonissue', 'stolberg', 'sheryl', 'upsetting', 'n26', 'pataki', 'prerecorded', \"iraq's\", 'ninetieth', 'footage', 'vacationing', 'rochester', 'pacemaker', 'angioplasty', 'undisclosed', 'frailer', '00pm', 'outlived', 'nance', \"truman's\", 'utc', 'arteriosclerotic', 'cerebrovascular', 'diffuse', 'arteriosclerosis', 'rotunda', 'bedside', 'rites', 'joins', 'beloved', 'nbc', 'nightly', 'anchorman', 'brokaw', 'lightheartedly', 'granholm', 'levin', 'debbie', 'stabenow', 'retriever', 'tag', 'hult', 'karen', 'walcott', 'empowering', 'hauenstein', 'academics', 'cloves', 'cubeb', 'pepper', 'purges', 'persona', 'mispronounced', \"'rosavelt'\", \"'rose\", 'distrusted', 'monopolistic', 'outdoorsman', 'anointed', \"canal's\", 'bailey', 'preacher', 'moralities', 'controversialist', 'showman', 'idol', 'brownstone', '1831â\\x80\\x931877', '1834â\\x80\\x931884', 'siblingsâ\\x80\\x94his', 'elliott', 'alsop', 'thee', 'philanthropist', 'belle', \"mittie's\", 'dunwoody', 'procurement', 'midshipman', \"grandparents'\", 'asthmatic', 'propped', 'slouching', 'hyperactive', 'mischievous', \"seal's\", 'rudiments', 'legacyâ\\x80\\x94the', 'gentleness', 'tenderness', 'unselfishness', 'selfishness', 'cruelty', 'idleness', 'cowardice', 'untruthfulness', 'teedie', 'harbored', 'tutors', 'drawback', 'keely', 'uneven', 'deficient', '49â\\x80\\x9350', 'redoubled', 'ornithologist', 'smartest', 'multitask', 'dictating', 'memoranda', 'browsing', 'fraternities', 'sportsmanship', '123â\\x80\\x9329', 'mugwump', 'undiagnosed', 'typhoid', 'ranch', 'boomtown', 'medora', 'outlaws', 'escaping', 'foreman', 'dime', 'deadwood', 'seth', 'bullock', '241â\\x80\\x93245', '247â\\x80\\x93250', 'dakotas', 'sweetheart', 'honeymooned', 'childless', 'unmarried', 'broadside', 'throw', 'hastily', 'biographies', 'superficial', 'historiography', 'savage', 'ferocious', 'civilized', 'cementing', 'savagery', 'nordicism', 'darwinism', 'racialism', 'settler', 'righteous', 'zulu', 'cossack', 'zealander', 'maori', 'horrible', 'incalculable', 'conquests', 'moslem', 'hidatsa', 'indianola', 'minnie', 'spoilsmen', \"nypd's\", 'willed', 'unimpeachable', 'reforming', 'andrews', '1845â\\x80\\x931901', 'inspections', 'recruits', 'qualifications', 'meritorious', 'hostelries', 'lodging', 'charities', 'telephones', \"officers'\", 'negate', 'cowboys', 'ivy', 'moniker', 'customarily', 'disapproved', 'lazio', 'simms', 'adjutant', 'sergeant', 'gary', 'authorizations', 'garnering', 'platt', 'stumped', 'spoil', 'innocence', 'uneventful', 'czolgosz', 'zol', 'marcy', 'notified', 'wanting', 'stagecoaches', 'dreadful', 'sketch', 'minus', 'unceremoniously', 'knocked', \"another's\", \"wilcox's\", 'swear', 'bibles', 'lamented', 'damned', 'anthracite', 'inaction', 'rebate', 'toughened', 'penalties', 'prescribe', 'clamor', 'uproar', 'upton', \"sinclair's\", 'mandated', 'sanitary', 'meatpackers', 'worried', 'unsanitary', 'undercutting', '43â\\x80\\x9344', 'militarist', '336', 'perennially', 'pictured', 'pelican', 'adviser', '785', 'refuges', 'canyon', 'commemorates', 'yosemite', 'hurried', 'renehan', 'tweed', 'leanings', 'lacey', 'archaeologist', 'hewett', 'devils', 'gorgas', 'menace', 'hoc', '3000', 'spearhead', 'builds', 'shovels', 'impress', 'inadequacy', 'corollary', 'arbitrated', 'hay', 'pauncefote', 'freighters', 'excavations', 'balked', 'colombians', 'cheat', 'bribed', 'turret', 'bb18', 'squadrons', 'escorts', 'circumnavigation', 'hulls', 'gilded', 'scrollwork', \"navy's\", \"mission's\", 'battleships', 'yokahama', 'triumphant', \"they'll\", 'parting', 'militarists', 'countrymen', 'uninspiring', 'nationâ\\x80\\x99s', 'medalists', 'heir', 'paced', 'hikes', 'romped', 'hanson', 'blinded', 'ira', 'messner', 'limitless', 'wryly', 'kids', \"year'\", 'shoots', 'ghosts', 'chaucer', 'moan', 'printer', 'obeyed', 'thanksgiving', 'annoyed', 'brander', 'remonstrated', 'evidently', 'undignified', 'thru', 'discomfiture', 'bot', 'chugged', 'ostentatiously', 'laughed', '465â\\x80\\x937', 'rein', 'bride', 'corpse', 'spawned', 'dine', 'guest', 'straus', 'boarded', 'stationery', 'necktie', 'centennial', 'offhand', 'remark', 'mississipi', 'sargent', 'khartoum', 'selous', '397', 'moles', 'hippopotamuses', 'rhinos', '262', 'salted', '86477', 'excursion', 'pitting', 'boldly', 'blaming', 'loeb', 'attentive', 'protã©gã©', 'agitating', 'bossism', 'ballinger', 'stepping', 'preferential', 'adored', 'structuring', 'rowman', '0742525929', 'armageddon', '1907â\\x80\\x9308', 'selfish', 'xxii', 'saloonkeeper', 'penetrating', 'jacket', 'anatomist', 'coughing', 'penetrated', 'lung', 'seeping', 'pleura', 'timeline', 'campaigners', 'fiala', 'vistas', 'augustine', 'headwaters', 'duvida', 'madiera', 'thence', 'teodoro', '640', 'joao', 'camaradas', 'unwisely', 'helmet', 'amazonian', 'rations', 'fatigue', 'flareups', 'inflammations', 'hospitalization', 'xxiii', '4â\\x80\\x937', 'navigated', 'uncharted', '625', 'triumphantly', 'explorations', 'angrily', 'energetically', 'unpatriotic', 'hyphenated', 'juggled', 'loyalties', '781â\\x80\\x934', 'cramer', '110â\\x80\\x93113', 'distressed', 'jingoism', 'larson', 'coronary', 'embolism', 'telegraphed', 'harcourt', 'brace', 'ted', 'sacrilegious', 'freemason', 'masonry', 'pledged', 'merit', 'sparring', 'jujutsu', 'skinny', 'dipping', 'xvii', 'singlestick', 'bandaged', 'amberger', 'christoph', '892515', 'avid', 'burton', 'gallantry', 'complaining', 'commemorations', 'tra', 'busting', 'imperialist', 'uncivilized', 'mediaeval', 'pundits', 'br', 'handshaking', 'edwards', 'mccain', 'autobiographical', 'biden', 'ehud', 'olmert', 'cantos', 'vida', 'esperanza', 'roosvelt', 'sequel', 'berryman', 'sparing', 'milius', 'berenger', 'bearsâ\\x80\\x94teddy', 'bearsâ\\x80\\x94named', 'americaâ\\x80\\x94theodore', 'rooseveltâ\\x80\\x94the', 'caricatures', 'gag', \"roosevelt'\", 'harbaugh', 'morison', 'elting', 'chandler', '1951â\\x80\\x931954', 'chace', '323', 'fehn', '52â\\x80\\x9359', '0882', '228x', 'exemplifies', 'gluck', 'sherwin', 'keller', 'rex', '494', 'strock', 'watts', 'rider', '1870â\\x80\\x931914', 'tilchin', 'neu', '196', \"woman's\", 'podcasts', 'digitization', 'spraying', 'poisoned', '221', 'snack', 'resembling', 'assemblage', 'periodicals', 'successively', 'jutland', 'northeastern', 'eateries', 'latinate', 'orthographic', 'cafã©', 'lbs', 'alopex', 'cerdocyon', 'bat', 'environments', 'jogger', 'franco', 'une', 'malayo', 'polynesian', 'vanuatu', 'caledonia', 'vanished', 'demonstratives', 'geneva', 'clauses', 'yellowish', 'subtropical', 'spearheaded', 'â£15', 'winchester', 'edict', 'pepys', 'blitz', 'londoners', 'bombers', 'whitehall', 'mps', 'plc', 'primrose', 'lending', 'docklands', 'leicester', 'borough', \"paul's\", 'southwark', 'lambeth', 'neasden', 'stanmore', 'trooping', 'vivienne', 'westwood', 'illustrious', 'tate', 'saracens', 'tfl', 'expansive', 'thameslink', 'decker', 'motorists', 'kiehl', 'wolfram', 'portable', 'hornbostel', 'chordophones', 'clavicembalo', 'gravicembalo', 'mcnulty', 'dulcimers', 'santur', 'peterson', '3002', 'chp', 'hurdy', 'gurdy', 'tangents', 'quills', 'villeneuve', 'lã¨s', 'avignon', 'wrestplank', 'cristofiori', 'ornately', 'keeper', 'doubtful', 'authenticity', '1720s', 'tangent', 'repeat', 'approaches', 'nuance', 'scipione', 'maffei', 'diagram', 'sebastian', '1730s', 'heeded', 'augsburg', 'nannette', 'streicher', 'coloring', 'accidental', 'clearer', 'fortepiano', '7â\\x85\\x93', 'splendour', 'harpsichords', 'robustly', 'broadwoods', 'robust', 'erard', 'pleyel', 'frã©dã©ric', 'sã©bastien', 'herz', 'bulwark', 'hitch', 'hervã©', 'resisting', 'thom', 'chickering', 'mackays', 'coverings', 'layered', 'boisselot', 'overlapping', 'slanted', 'scaling', 'hitchpins', 'duplexes', 'aliquot', 'blã¼thner', 'taskin', 'collard', 'undamped', 'friderici', 'zumpe', 'harman', 'vietor', 'lebrecht', 'petzold', \"zumpe's\", 'advertising', 'evocatively', 'pianino', 'wornum', 'birdcage', 'pianinos', 'oblique', 'blanchet', 'romantics', 'ours', 'schematic', 'configurations', 'boudoir', 'stiffer', \"grand's\", 'truer', 'sohmer', 'verticals', \"'full\", \"sized'\", 'fourneaux', 'perforations', 'replays', 'pneumatic', 'disklavier', 'solenoids', 'pneumatics', 'ryley', \"'trick\", \"piano'\", 'instruct', 'washers', 'sampling', 'interfaces', 'linearity', 'clavinova', 'mp8', 'desktop', 'affordable', 'modules', 'gigabyte', 'simulations', 'pedaling', 'a7', 'bã¶sendorfer', 'c0', 'hinged', 'lid', 'flipped', 'disorientation', 'f8', 'roving', 'gig', 'lightweight', 'engagements', 'levers', 'knee', 'rightmost', 'altering', 'leftmost', \"string'\", 'tricky', \"'practice'\", 'celeste', 'muting', 'disengages', 'pedalier', 'pedalboard', 'harold', 'conklin', 'vibrational', 'dissipating', 'uselessly', 'radiators', 'viewer', 'laminating', '990', 'f308', '1520', 'pinblock', 'toughness', 'deviations', 'uniformity', 'advantageous', 'handicap', 'decorating', 'medallion', 'crystallized', 'clicking', 'swell', 'shrink', 'grained', 'sawn', 'defect', 'soundboards', 'plywood', 'lightness', 'innovated', 'ivorine', 'mimics', 'hardening', 'reconditioned', 'manpower', 'moritz', 'schwind', 'schubert', 'interplay', 'joanna', 'tickling', 'brookside', '929145', 'evaluative', 'calif', 'enthusiast', 'lots', 'printable', 'waswahili', 'marten', 'inhabiting', 'mogadishu', 'kismayo', 'displacement', \"'ki\", 'tambuka', 'methali', 'lemelle', \"'swahili\", 'mvita', \"kenya's\", 'éµ', 'aspirate', 'tembo', \"'tree'\", \"'to\", 'utoto', 'kitoto', 'kiti', \"'little\", \"bit'\", 'instantiations', 'mto', 'mkono', 'infixes', 'negation', \"cut'\", 'midday', 'asubuhi', 'jioni', 'demarcate', \"night'\", 'mbili', \"afternoon'\", \"'late\", 'nusu', \"half'\", 'kasorobo', 'dakika', 'tatu', 'hinnebusch', 'sabaki', 'kimakunduchi', 'dar', 'salaam', 'kilwa', 'subdialect', 'chifundi', 'lamu', 'sheng', 'whiteley', 'brock', 'utne', 'upendi', 'upendo', 'pia', 'cms', '157', 'relate', '234', 'andaman', 'nicobar', 'turbulent', 'bhinneka', 'tunggal', 'ika', 'articulates', 'undermined', 'nesos', 'ethnologist', 'indunesians', 'malayunesians', \"earl's\", 'logan', 'maleische', 'archipel', 'nederlandsch', 'insulinde', 'havelaar', 'bastian', 'indonesien', 'oder', 'inseln', 'malayichen', 'archipels', '1884â\\x80\\x931894', 'suwardi', 'suryaningrat', 'hajar', 'dewantara', 'indonesisch', 'pers', 'voyages', 'fossilized', 'melanesian', 'mastering', '10â\\x80\\x9311', '22â\\x80\\x9323', '133â\\x80\\x93134', 'sailendra', 'mataram', 'thrived', \"sailendra's\", \"mataram's\", 'prambanan', 'majapahit', 'gajah', 'mada', 'islamized', 'overlaid', '12â\\x80\\x9314', '1512', 'serrã£o', '1602', 'nationalized', 'tenuous', 'quelling', 'diponegoro', 'bonjol', 'pattimura', 'schwartz', 'reid', 'reestablish', 'authoritarianism', 'purge', '107â\\x80\\x93109', '280â\\x80\\x93283', '284', '287â\\x80\\x93290', 'maneuvered', 'rg', 'embtel', '852', 'slater', 'rethinking', 'repression', 'reformasi', 'amending', 'formalizing', 'impeach', 'monitors', \"dpr's\", 'interventions', 'harijanti', 'lindsey', 'hears', 'conducts', 'insolvency', 'antipathy', 'oic', 'signatory', 'wto', 'apprehend', 'qaeda', 'deadliest', 'controversially', '473â\\x80\\x93475', '484', '270â\\x80\\x93273', '477â\\x80\\x93480', 'gam', 'ceasefire', 'imperfect', 'yudhoyono', 'kabupaten', 'kota', 'kecamatan', 'kelurahan', \"citizen's\", 'lurah', 'kepala', 'acehnese', 'sharia', 'prioritized', 'paku', 'alam', 'elucidation', 'irian', 'tasked', 'hearted', 'brackets', 'â\\x80\\xa0', 'sebatik', 'surabaya', 'medan', 'semarang', '919', '741', '347', '79th', '940', '884', '024', 'puncak', '442', 'mahakam', 'barito', 'semeru', 'bromo', 'tectonic', 'krakatoa', 'tambora', 'eruption', 'supervolcano', '736', 'monsoonal', '780â\\x80\\x933', '70â\\x80\\x93125', '26â\\x80\\x9330', '79â\\x80\\x9386', 'ape', 'nusa', 'tenggara', 'landmasses', 'landmass', 'estuaries', 'mudflats', 'algal', 'wallacea', 'resourced', 'wildfires', 'exploitation', 'plough', '038', \"economy's\", 'apparel', 'foodstuffs', 'deteriorated', 'disciplined', 'crumbling', 'rescheduled', 'windfall', 'devaluation', '1997â\\x80\\x9398', 'shrunk', '143rd', 'perceptions', 'worsened', 'climbed', '2035', 'minangkabau', 'melanesians', '742', 'sundanese', 'triggered', 'horrendous', 'transmigrasi', 'kaken', '80â\\x80\\x9381', '85â\\x80\\x9387', '164â\\x80\\x93165', '233â\\x80\\x93237', 'bahasa', 'daerah', \"medan's\", \"'great\", \"mosque'\", 'confucianism', 'colonialists', 'calvinist', 'abangan', 'syncretic', 'magnis', 'suseno', 'gramedia', 'pustaka', '979', '406', 'batik', 'ikat', 'songket', 'sepak', 'takraw', 'madura', 'contests', 'caci', 'pasola', 'sumba', 'soto', 'ayam', 'noodle', 'sate', 'kerang', 'kebabs', 'telor', 'pindang', 'perkedel', 'fritter', 'teh', 'manis', 'iced', 'precedents', 'coconut', 'infused', 'keroncong', 'dangdut', \"industry's\", 'yamin', 'hamka', '299â\\x80\\x93301', 'proletarian', 'pramoedya', 'ananta', 'toer', 'rooted', 'tvri', 'bulletins', 'parking', '273', 'hanseatic', 'aller', 'buriganga', 'partition', \"bangladesh's\", 'portal', 'lalbagh', 'sena', 'atiqullah', 'karim', 'jatiyo', 'bashundhara', 'motijheel', 'moist', 'ministries', 'rickshaw', 'animation', 'landsat', 'coded', 'unreleased', 'sociolinguistics', 'hutterite', 'glosses', 'inflectional', 'replaces', 'camelopard', 'palaeotragus', 'ossicones', 'angolan', 'masai', 'plaster', 'halo', \"tigers'\", 'specializing', \"character's\", 'hopefully', \"schlick's\", 'spiegel', 'orgelmacher', 'organisten', 'membranophone', 'terry', 'bozzio', 'chromatically', 'auf', 'tang', '755', 'shikai', 'excludes', 'cocos', 'arrive', 'transnational', 'elegant', 'ab', 'helena', 'descending', 'flooding', 'tonnes', 'rwanda', 'deux', 'pied', 'circumflex', 'infinitives', 'sahel', 'zebedee', 'gears', 'foretold', 'fragmentation', 'trinil', 'rusty', 'altaica', 'vratislav', 'nachdruck', 'auflage', 'westarp', 'wissenschaften', 'hohenwarsleben', '894327596', 'deciduous', '227', '450â\\x80\\x93500', '411', 'krai', 'hue', 'sighted', 'lioness', 'ranthambhore', 'nilgai', 'sambar', 'adw', 'leaps', 'kyle', 'cathie', 'coexist', 'evergreen', 'fulbright', 'hewitt', 'dudhwa', \"tara's\", 'royalty', 'uppal', 'hyderabad', '007', '5339', 'skinning', 'faber', 'ç\\x8e\\x8b', 'benign', 'survivor', 'hobbes', 'bandhavghar', 'vibrissae', 'î¾ï\\x8dî»î¿î½', 'xylon', 'ï\\x86ï\\x89î½î®', 'nettl', 'bruno', '59000', 'mallet', 'pentatonic', 'heptatonic', \"gusikow's\", \"'wood\", \"instrument'\", \"lewald's\", \"'europa'\", 'arranging', 'bundles', 'bowls', 'gambang', 'melanasia', 'crusades', 'organist', 'guzikow', 'â\\x80\\x9ccontinental', 'styleâ\\x80\\x9d', 'trapezoid', 'â\\x80\\x9cstrohfiedelâ\\x80\\x9d', 'â\\x80\\x9cstraw', 'fiddleâ\\x80\\x9d', '1830â\\x80\\x99s', 'frederic', 'gusikovâ\\x80\\x99s', 'xylophonist', 'xylophoning', '2000bc', 'harmonicon', \"'ranat'\", 'reliefs', 'evidences', 'latino', '1700a', '1511', 'arnolt', 'schlick', 'praetorius', 'strohfideln', 'hulzen', \"g'lachter\", 'gigelyra', 'athenaeum', 'oâ\\xadn', \"'xylophone\", 'â\\x80\\x99', 'saens', \"'danse\", \"macabre'\", 'ragtime', 'breuer', 'kelon', 'xylorimba', 'glockenspiel', 'lamellophone', 'lithophone', 'mbila', 'metallophone', 'skiddaw', 'balafon', 'thongophone', 'cowskin', 'membrane', 'drumstick', 'untuned', 'hollowed', 'barrel', 'keyscrews', 'lugs', 'circumference', \"head's\", 'unger', '40th', 'perimeter', 'ply', 'muffling', 'hoop', 'bolts', 'amplitude', 'reproduces', 'resonates', 'wholesome', 'therapy', 'tactile', '2500', 'tã\\xa0igç\\x94', 'motivate', 'mercenary', 'handscroll', 'percussionist', 'remake', \"hongzhong's\", 'aburukuwa', 'bougarabou', 'gallon', 'buckets', 'cajã³n', 'chenda', 'conga', 'darbuka', 'davul', 'damphu', 'dhak', 'dhimay', 'dhol', 'dholak', 'dong', 'kpanlogo', 'madal', 'mridangam', 'steelpan', 'tambourine', 'taiko', 'tabla', 'tapan', 'tavil', 'blast', 'drumline', '411drums', 'tabs', 'neologism', 'munda', 'thavæ°ng', 'chá»©t', 'nguá»\\x93n', 'bã¬nh', 'viet', 'genealogically', 'sprachbund', 'converged', 'tonogenesis', 'phylogenetically', 'kradai', 'tsat', 'phonemic', 'champa', 'mekong', 'sinosphere', 'zenith', 'há»\\x93', 'xuã¢n', 'proselytizing', 'ä\\x91áº§m', 'dame', 'gare', 'sæ¡', 'chemise', 'bãºp', 'bãª', 'doll', 'poupã©e', 'expedient', '20px', 'â·', 'nghiem', 'mai', 'phuong', 'fergus', 'tã\\xa0i', 'cáº©n', 'haut', 'thá»«a', 'thiãªn', 'undiphthongized', 'neutralized', 'blending', 'southerners', 'palatals', 'alveolars', 'velars', 'mæ°á»\\x9di', 'nhä\\x83m', \"rhodes's\", 'mláº½', 'mnháº½', 'láº½', 'blá»\\x9di', 'háº£o', 'yãªn', 'mã´', 'ninh', 'trá»\\x9di', 'giá»\\x9di', 'tä©nh', 'creaky', 'commas', 'reduplicated', 'cã\\xa0', 'phãª', 'tivi', 'truyá»\\x81n', 'hã¬nh', 'phã´ng', 'calques', 'pháº§n', 'má»\\x81m', 'ë\\x90', 'rounding', 'monophthongs', 'ä\\x91ã´i', 'ia', 'æ°a', 'ua', 'iãª', 'æ°æ¡', 'uã´', 'ay', 'tai', 'ao', 'thau', 'thao', 'glide', 'analyze', 'glides', 'ä\\x91ã¢u', 'phonemicized', 'uttered', 'plotted', 'ä\\x91iá»\\x87u', 'elaboration', 'identifies', 'allophonic', 'nonfinite', 'conforms', 'modifier', 'classifier', 'wh', 'situ', 'serialization', '1591', 'amaral', 'antã³nio', 'barbosa', 'decree', 'rã©sident', 'supã©rieur', 'tonkin', \"scholar's\", 'å\\xad\\x97å\\x84\\x92', 'å\\xad\\x97å\\x96\\x83', 'viscii', 'cp1258', 'typed', 'viqr', 'winvnkey', 'unikey', 'macvnkey', 'macintosh', 'ethnography', 'pragmatics', 'nonsensical', 'dáº¥m', 'ä\\x91ã\\xa0i', 'hoáº£ng', 'chæ°a', 'overtly', 'subtextual', 'collaborator', 'congratulatory', 'panel', 'quáº§n', 'tháº§n', 'báº§y', 'tã´i', 'â\\x80\\x98all', 'subjectsâ\\x80\\x99', 'commutation', 'â\\x80\\x98servant', 'householdâ\\x80\\x99', 'bigpond', 'doanviettrung', 'noilai', \"log's\", 'itre', 'cis', 'upenn', 'edu', 'myl', 'languagelog', '001788', 'tphcm', 'nonsense', 'obscuring', 'comprehension', 'kieu', 'truyá»\\x87n', 'kiá»\\x81u', 'é\\x98®æ\\x94¸', 'ä\\x90oáº¡n', 'træ°á»\\x9dng', 'tã¢n', 'æ\\x96·è\\x85¸æ\\x96°è\\x81²', 'dæ°æ¡ng', 'hã\\xa0m', 'sá»\\xad', 'yáº¿u', 'bá»\\x99', 'gia', 'giã¡o', 'dá»¥c', 'homonyms', '244', 'hashimoto', 'mantaro', \"ntc's\", 'lincolnwood', 'khã´ng', 'pháº¥n', 'benjamins', 'tá»«', 'ä\\x91iá»\\x83n', 'lusitan', 'latinh', 'dictionarium', 'annamiticum', 'lusitanum', 'latinum', 'ä\\x90á»\\x97', 'seattle', 'thompsonlaurencec', 'uá»·', 'phã¡p', 'michaud', 'alexis', 'phonetica', 'preprint', 'lá»£i', 'jerold', 'nguynvnloi', '476', 'duy', 'chæ°æ¡ng', 'gil', 'thá»\\x8b', 'chã¢u', 'trãªn', 'cã¡c', 'miá»\\x81n', 'ä\\x91áº¥t', 'næ°á»\\x9bc', 'dialectology', 'koichi', 'luong', 'hy', 'ambiguity', 'anthropological', 'hoa', 'nghi', 'loc', 'frigeni', 'hirayama', 'thang', 'tonation', 'há»¯u', 'lá»\\x85', 'vã¡i', 'nháº\\xadn', 'xã©t', 'vá»\\x81', 'ä\\x91áº·c', 'diá»\\x83m', 'cá»§a', 'váº§n', 'trong', 'thá»\\x95', 'á»\\x9f', 'hoi', 'má»\\x99t', 'sá»\\x91', 'váº¥n', 'ã\\x90á»\\x81', 'ngã´n', 'nhã\\xa0', 'xuáº¥t', 'báº£n', 'ã\\x90áº¡i', 'vã\\xa0', 'trung', 'chuyãªn', 'nghiá»\\x87p', 'cooke', 'pronominal', 'indochinoises', \"rhodes'\", 'shorto', 'doug', 'bauer', 'haudricourt', 'origine', 'particularitã©s', \"l'alphabet\", 'vietnamien', 'dã¢n', 'graphemic', 'demotic', 'philology', 'sinica', \"61''\", '383', '699', 'bich', 'thuan', 'healy', 'hoang', 'thinh', 'xuan', 'thu', 'trinh', 'quynh', 'tram', 'hawthorn', 'vic', 'cassettes', 'graded', 'rutland', 'vt', 'tuttle', 'lã¢m', 'lã½', 'duc', 'steinen', 'diether', 'ä\\x90ang', 'liãªm', 'versification', 'riddles', 'jubinell', 'vdict', 'browser', 'omniglot', 'wikibooks', 'wikisource', 'wiktionary', 'vespoid', 'peiching', 'opulent', 'ä\\x90ã´ng', 'seoul', 'coblin', '537', 'fujianese', 'nan', \"dialect's\", 'patten', 'denis', 'twitchett', 'franke', 'fairbank', \"p'ing\", 'yä\\x81njä«ng', 'yen', 'yenching', 'fangshan', 'vicinities', 'è\\x96\\x8a', 'è\\x93\\x9f', 'qin', 'prefectures', 'fanyang', 'jiedushi', '1120', '947', 'khitan', '938', '1125', 'jurchen', '1153', \"liao's\", 'ä¸\\xadé\\x83½', 'tianningsi', '1215', '1264', 'rebuild', 'hook', 'millennial', 'megalopolis', '1272', 'å¤§é\\x83½', 'cambaluc', \"polo's\", '1293', 'tucheng', 'å\\x9c\\x9få\\x9f\\x8e', \"'earth\", \"wall'\", '1368', 'yuanzhang', 'ambitions', 'shangdu', 'razing', 'ebrey', 'buckley', '66991', 'naquin', '1400', \"1900''\", 'xxxiii', 'shuntian', 'é\\xa0\\x86å¤©', '1403', 'å\\x8c\\x97äº¬', '1406', 'ceremoniously', '1421', 'äº¬å¸\\x88', 'demoted', '1425', '1710', '1652', 'xuanwu', 'ricci', 'nantang', 'å\\x8d\\x97å\\xa0\\x82', \"zicheng's\", 'peasant', 'overthrew', 'gemun', 'hecen', '1600s', 'legations', 'boxer', 'hanlin', 'xinhai', 'abdication', 'revolutionaries', 'anhui', \"peip'ing\", 'jingwei', 'deng', 'xiaoping', 'forefront', 'encroaching', 'yanqing', 'huairou', 'jundu', 'topography', 'dongling', '2303', 'flowing', 'yongding', 'hangzhou', 'miyun', 'spreads', 'outermost', 'paramount', 'dwa', 'anticyclone', '33â°f', '30â°c', 'shandong', 'streetsa', 'fub', 'jangc', 'jiming', 'haod', 'kebin', 'hed', 'xiaoyan', 'tange', 'yuanhang', 'zhange', 'zifa', 'wangf', 'zuopan', 'lib', 'qiang', 'zhanga', 'litao', 'wangd', 'binyu', 'wangc', 'carolyne', 'yua', 'cleanup', 'staggered', '357', 'unep', \"venues'\", 'muqbil', 'imtiaz', 'artificially', 'induces', 'mitigate', 'hangout', 'bookshops', 'mã©n', 'cå«n', 'sov', 'boxy', 'bland', '798', 'cpc', 'å\\x8c\\x97äº¬å¸\\x82å§\\x94ä¹¦è®°', 'bureaus', 'jianwai', 'yintai', 'jingguang', '751', '044', '642', '989', '559', \"engel's\", 'coefficient', '540', 'guomao', 'precincts', 'fuxingmen', 'fuchengmen', 'yizhuang', 'pirated', 'dvds', 'shijingshan', 'maize', 'corn', 'sequoia', 'entrepreneurship', 'polluter', 'tangshan', 'tianzhu', 'hukou', 'chongqing', 'hui', 'sanlitun', 'koreans', 'wangjing', 'tabulation', '05425', 'subdivision', 'jingju', 'äº¬å\\x89§', 'lauded', 'dialogue', 'acrobatics', 'doorways', 'feng', 'apartments', 'picturesque', 'roast', 'manhan', 'quanxi', 'fuling', 'jiabing', 'disk', 'fu', 'ling', 'poria', 'schw', 'tuckahoe', 'teahouses', 'ailing', 'jingtailan', 'jingtai', 'metalworking', 'soldering', 'gilding', 'lacquerware', 'houhai', 'zhongshan', 'masterpieces', 'gardening', 'uneco', 'qianmen', 'tiantan', 'ditian', 'ritan', 'yuetan', 'dongyue', 'tanzhe', 'miaoying', 'yonghe', 'fayuan', 'wanshou', 'guozijian', 'immaculate', 'niujie', 'towering', '1100â\\x80\\x931120', 'cishou', 'lugou', 'baliqiao', 'jade', 'pretelescopic', 'spheres', 'fragrant', 'xiangshan', 'bushes', 'peony', 'taoranting', 'zizhu', 'panda', 'siheyuan', 'shiheyuan', 'paleozoological', 'pachycrocuta', 'brevirostris', 'jinshanling', 'simatai', 'mutianyu', 'btv', 'cri', 'wanbao', 'xin', 'qingnian', 'weeklies', 'metrozine', 'paralympics', 'guoan', 'leagueâ\\x80\\x8e', 'hongdeng', 'shougang', 'sharks', 'olympians', 'aba', 'cba', 'roster', 'maywood', 'encircling', 'harbin', 'qinhuangdao', 'baotou', 'yuanping', 'chengde', 'crh', 'fengtai', 'interchanges', 'gridlocked', 'clogged', 'exacerbating', 'underdeveloped', 'compounding', \"airport's\", 'iata', 'pek', 'shunyi', 'renovations', 'liangxiang', 'xijiao', 'shahe', 'dongdan', 'evolving', 'batong', 'axial', 'trolleybus', 'yikatong', 'scanned', 'idling', 'elantras', 'peugeot', 'citroã«ns', 'volkswagen', 'jettas', 'retroactively', 'fuxue', 'huiwen', 'chenjinlun', 'cosmological', 'hospitals', '2045', 'asteroid', 'hktdc', '869', 'succesful', 'renovation', 'humble', 'heyday', 'sumptuous', 'roofed', 'cobbled', 'havn', 'arkã¦ologer', 'graver', 'teori', 'om', 'af', 'mulden', 'archeologists', 'digs', 'videnskab', 'absalon', '1167', 'kã¸pmannã¦hafn', \"merchants'\", 'hafnium', 'hafnia', 'hevesy', '1254', 'jakob', 'erlandsen', 'withstood', \"parker's\", 'expeditionary', 'bombarded', 'overdue', 'sanitation', 'sunk', 'seventies', 'spans', 'coppenhagen', 'sjã¦lland', 'separates', 'landskrona', 'lolland', 'falster', 'scania', 'falles', 'indre', 'nordhavnen', 'enghave', 'meadow', 'sydhavnen', 'freetown', 'sundbyvester', 'sundbyã¸ster', 'bellahã¸j', 'ryparken', 'bispebjerg', 'vigerslev', 'vestamager', 'vanlã¸se', 'bro', \"'bro'\", 'brolagt', 'cobblestones', 'marital', 'fingerplanen', 'wedges', 'skovshoved', 'charlottenlund', 'ordrup', 'jã¦gersborg', 'dyssegã¥rd', 'vangede', 'ulrikkenborg', 'brede', 'virum', 'sorgenfri', 'lundtofte', 'hjortekã¦r', 'rudersdal', 'sã¸llerã¸d', 'ã\\x98verã¸d', 'gl', 'trã¸rã¸d', 'nã¦rum', 'vedbã¦k', 'skodsborg', 'kajerã¸d', 'bistrup', 'usserã¸d', 'rungsted', 'vallerã¸d', 'smidstrup', 'lillerã¸d', 'blovstrã¸d', 'asminderã¸d', 'humlebã¦k', 'kokkedal', 'niverã¸d', 'nivã¥', 'bagsvã¦rd', 'buddinge', 'mã¸rkhã¸j', 'sã¸borg', 'furesã¸', 'vã¦rlã¸se', 'hareskovby', 'hjortespring', 'skovlunde', 'mã¥lã¸v', 'ã\\x85gerup', 'jonstrup', 'egebjerg', 'egedal', 'smã¸rumnedre', 'stenlã¸se', 'ã\\x98lstykke', 'petit', 'bourgeois', 'islev', 'hvissinge', 'ejby', 'brã¸ndbyã¸ster', 'brã¸ndbyvester', 'nord', 'tã¥strupgã¥rd', 'hedehusene', 'avedã¸re', 'friheden', 'hundige', 'karlslunde', 'jersie', 'ã\\x98lby', 'inadequate', 'copehagen', 'ritt', 'bjerregaard', 'codes', 'bourough', 'malmã¸', 'blevet', '21â°c', '70â°f', '13â°c', '55â°f', '25â°c', '77â°f', '4â°c', '40â°f', 'â\\x88\\x9210', 'rundetã¥rn', 'greenness', 'middelalderbyen', 'frederiksstaden', 'slotsholmen', 'bouroughs', 'saviour', 'spiralling', 'stairs', 'twined', 'sourroundings', 'liebeskind', 'sampension', 'kilen', 'tietgenkollegiet', 'playhouse', 'bjarke', 'ingels', 'ultimo', 'terminated', 'sustanibility', 'nordhavn', 'christianh', 'havneholmen', 'idiosyncratic', 'exponents', 'landscaping', 'commenced', '1606', 'sunbathers', 'picknickers', 'ballplayers', 'greenhouses', 'donated', 'kastellet', 'presserved', 'waterfowls', 'cemeteries', 'sunbathing', 'meditation', 'assistens', 'burrial', 'vestre', 'kirkegaard', 'groves', 'lawns', 'overgrown', 'strandpark', 'bath', 'contiguously', 'abstracts', 'surroundings', 'omegn', '504', '857', '706', '923', 'stevns', 'orienteering', 'kommune', 'statistisk', 'kontor', '641', 'isoline', 'commutes', '094', 'strã¸m', 'kommunalreformen', 'encompass', 'netnews', 'cozy', 'journalists', 'wordwide', 'wallpaper', 'newyorktimes', 'nationalmuseet', 'histories', 'statens', 'kunst', 'rubens', 'rembrandt', 'picasso', 'braque', 'lã©ger', 'matisse', 'nolde', 'tycoon', 'philantropist', 'rodin', 'glypto', 'glyphein', 'carve', 'theke', 'monet', 'renoir', 'cã©zanne', 'gogh', 'toulouse', 'lautrec', 'loiusiana', 'cliff', 'schultz', 'frederiks', 'thorvaldsens', 'oeuvre', 'cisternerne', 'grotto', 'cisterns', 'stalactites', 'ordrupgaard', 'notth', 'zaha', 'gaugin', 'walt', 'histtrocal', 'operaen', 'larsen', 'supplementary', 'gounded', 'troups', 'thad', 'boone', 'wilkins', 'kenny', 'thigpen', 'rockwell', 'wray', 'aquares', 'fills', 'stroll', 'strã¸get', 'hã¸jbro', 'plads', 'impromptu', 'jugglers', 'amerikakaj', 'parken', 'frem', 'fremad', 'skjold', 'nordsjã¦lland', 'cobras', 'handball', 'fif', 'ajax', 'ydun', 'csr', 'nanok', 'scrum', 'froggies', 'rugbyklubben', 'unfavourably', 'outgames', 'pleasure', 'coaster', 'dyrehavsbakken', 'kitchen', 'chef', 'gastronome', 'attandance', 'madhus', 'gourmet', 'sandwiches', 'smã¸rrebrã¸d', 'bakeries', \"brewery's\", 'synonumous', 'explosive', 'microbreweries', 'nyeste', 'artikler', 'bryghus', 'brewpubs', 'premisses', 'beers', 'ingridient', 'byen', 'odense', 'tv2', 'newspapters', 'politiken', 'berlingske', 'tidende', 'tabloids', 'ekstra', 'bladet', 'egmont', 'gyldendal', 'filmbyen', 'suburg', 'campanies', 'zentropa', 'productions', 'catwalks', 'fairs', 'cph', 'exhibitors', 'aesthetics', 'femininity', 'functionality', 'silhouettes', 'incomparable', 'buyers', 'whitsun', 'dancers', 'zeitgeist', 'upfront', 'embraces', 'regionale', 'regnskaber', 'nyt', 'lundbeck', \"nokia's\", 'ferring', 'neneficial', 'foreigh', 'eiu', '1479', 'iaru', 'app', 'qs', 'theacademic', 'placesd', 'tekniske', 'universitet', 'planck', 'eth', 'zurich', 'cbs', 'estimed', 'equis', 'biotechnology', 'logistics', 'branded', 'sartorius', 'stedim', 'tã¥strup', 'arterial', 'bicycled', 'interconnected', 'greenways', 'returnable', 'kroner', 'â\\x80\\x98copenhagenizeâ\\x80\\x99', 'gehl', 'cyclists', 'cycliste', '286', '560', 'asre', 'serviced', 'oslobã¥den', 'å\\x9awinoujå\\x9bcie', 'polensfã¦rgerne', 'departures', 'nã¸rreport', 'frederiksbergthe', 'tog', 'elsinore', \"railways'\", 'transferable', 'validity', 'klippekort', 'folketinget', 'margrethe', 'domed', 'eduard', \"spelterini's\", 'holistic', 'co2', 'littlemermaid207', 'marmorkirche', \"frederik's\", 'amalienborgas', 'stroeget', 'kirche', 'stroget', '700px', 'zeehaven', 'sorte', 'diamant', 'canel', \"scandinavia's\", 'eca', 'greenest', 'champinions', 'danmark', 'consultancy', 'mercer', 'morten', 'nfl', 'kicker', 'aage', 'borge', 'entertainer', 'choreographer', 'georg', 'christensen', 'supermodel', 'tove', 'ditlevsen', 'theodor', 'dreyer', 'vilhelm', 'hammershã¸i', 'gus', 'hansen', 'poker', 'iben', 'hjejle', 'hã¸eg', 'brewery', 'lauridsen', 'topmodel', 'sã¸ren', 'kierkegaard', 'bjã¸rn', 'lomborg', 'environmentalist', 'lauritz', 'melchior', 'mads', 'mikkelsen', 'pedersen', 'turã¨ll', 'ulrich', 'songwriter', 'jã¸rn', 'utzon', 'laudrup', 'primera', 'getafe', 'schmeichel', 'sculpturer', 'reykjavã\\xadk', 'campeche', 'netborger', 'kommunefakta', 'kmd', 'kommunedata', '7024', 'forslag', 'kommuneplan', '88034', 'krak', 'searchable', 'cyclone', 'ganges', 'coupled', 'bahamas', 'mauritius', 'denotes', 'cookie', 'elsevier', 'enlargement', 'burundi', 'equatorial', 'ã§', 'ligature', 'proverbs', 'macedonia', 'grande', 'guadalajara', 'nuevo', 'demographics', 'palmares', 'franconian', 'ample', 'disambiguation', 'substitution', 'moderation', 'vase', 'ungulate', 'flehmen', 'bursts', '600s', 'deepest', 'farthest', 'constellation', 'uniondale', 'benito', 'catcher', 'liliana', 'footballer', 'caballero', 'cabrera', \"hemingway's\", \"rice's\", \"coelho's\", 'chieftains', 'knightly', 'reconquista', 'unranked', 'anthophila', 'sipes', 'fang', 'diversification', '15118', '15123', \"'morphology\", 'tufted', 'vetch', 'vicia', 'cracca', 'nutrients', 'wingless', 'trigona', 'apiculture', 'merops', 'apiaster', 'kingbirds', 'mockingbirds', 'dragonflies', 'ribifloris', 'nightblooming', 'cereus', 'monoculture', 'thistle', 'fuzzy', 'adherence', 'groom', 'baskets', 'foragers', 'vulture', 'soupy', 'spheroid', 'spiders', 'unwary', 'insecticides', 'blooming', 'cucurbits', 'blossoms', 'clothianidin', 'imidacloprid', 'gypsy', 'moths', 'tremendously', 'gathers', 'crabronidae', 'scenario', 'compression', 'cretotrigona', 'prisca', 'meliponine', 'melittosphex', 'poinar', '614', 'apomorphies', 'unmodified', 'plesiomorphies', 'tibial', 'spurs', 'basitarsus', 'butterflies', 'angiosperms', 'dasypodaidae', 'hypotheses', 'tongued', 'colletids', 'plesiomorphic', 'swarm', 'aster', 'sociality', 'cohabiting', 'semisocial', 'gynes', 'allodapine', 'drones', 'terrestris', 'pratorum', 'vespidae', 'initiates', 'swarms', 'hives', 'stung', 'estevam', 'kerr', 'xylocopa', 'virginica', 'alfalfa', 'rotundata', 'lignaria', 'hornfaced', 'cornifrons', 'acarine', 'varroa', 'anthidium', 'florentinum', 'megachilidae', 'lantana', 'paste', 'aromatic', 'pollinate', 'creosotebush', 'hurd', 'linsley', 'larrea', 'sunflowers', 'asters', 'mesquite', 'reeds', 'tunnels', 'compartment', 'boxes', 'gardeners', 'cornel', 'aggregations', 'nomadinae', 'provisioned', 'eats', 'lays', 'psithyrus', 'infiltrate', \"emery's\", 'parasitize', 'townsendiella', 'nomadine', 'dasypodaid', 'hesperapis', 'andrenidae', 'apidae', 'vespertine', 'matinal', 'primroses', 'insectes', 'magnan', 'lague', \"shouldn't\", \"barmaid's\", 'aurum', 'aerodynamic', 'confirms', 'ellington', 'insectsâ\\x80\\x99', 'cinematography', 'robotic', 'deciphering', 'nov', 'choppy', 'flops', 'reverses', 'flaps', 'fruitfly', 'shipman', 'manifold', 'plato', 'virgil', 'erasmus', 'mandeville', 'diligence', 'cheerios', 'yellowjackets', 'misidentified', 'allergies', 'harmed', 'bee01', 'bee02', 'bee1', 'coreopsis', 'bee2', 'startles', 'biene', 'lavendel', 'jatropha', 'kaunakakai', 'basket', 'img', '0614', 'mckinney', 'lupine', 'jpgâ\\x80\\x8e', 'infl', 'euglossine', 'applebee2008', 'victorllee', 'targetting', 'montreux', 'apiology', 'beehive', 'pesticide', 'schmidt', 'starr', 'hayden', 'rescuing', 'bugguide', 'hymenoptera', 'morphbank', 'mega', \"'city\", \"mosques'\", 'shaista', 'mohammad', 'cantonment', 'ahsan', 'manzil', 'sangshad', 'bhaban', 'thanas', 'dhanmondi', 'gulshan', 'uttara', 'madrassahs', 'dmp', 'suffers', 'chittagong', 'wastes', 'bangabhaban', 'baitul', 'mukarram', 'kaaba', 'mecca', 'worldâ\\x80\\x8e', 'modis', 'dissolves', 'puja', 'sarees', 'eid', 'beckel', 'jamdani', 'saree', 'jamdanis', 'dailies', 'brtc', 'curzon', \"'england'\", 'brythonic', '1066', 'falkland', 'mandate', 'unstressed', 'adjectival', 'settings', 'vixens', 'luxembourgish', 'approximant', \"l'accent\", 'ã¦', 'goethe', 'eng', 'tomorrow', 'mixing', 'translate', \"'moon'\", 'gh', 'enriched', 'acacia', 'giraffids', 'climacoceras', 'reticulata', 'kordofan', 'tippelskirchi', 'chocolate', 'hocks', 'blotched', 'vertebrae', 'abnormal', 'providence', 'commercials', 'conquistador', 'ichma', 'lã\\xadmac', 'ychma', 'feast', 'disuse', 'arising', 'standardize', 'toponym', 'melchor', 'navarra', 'rocafull', 'ychsma', '218', '1532', 'atahualpa', 'besieged', 'manco', '203â\\x80\\x93206', 'balconies', 'audiencia', '1543', '11â\\x80\\x9313', 'dangers', '53â\\x80\\x9355', '173â\\x80\\x93174', 'adversely', '23â\\x80\\x9324', 'serna', 'royalist', '176â\\x80\\x93177', 'fearing', '178â\\x80\\x93180', 'exactions', 'jiron', 'halt', 'guano', 'fostering', '1879â\\x80\\x931883', 'sacking', 'crisscrossed', '180â\\x80\\x93182', 'adobe', 'quincha', '9m', '8m', 'proliferation', 'pueblos', 'jã³venes', 'chains', 'agustino', 'cosme', 'pino', 'milla', 'muleria', 'cristobal', 'dams', 'microclimate', 'skies', 'mist', 'niã±o', 'disrupted', 'clouds', 'sunny', 'cloudy', 'accumulates', 'leftover', \"'rainy\", 'drizzle', \"'garãºa'\", \"'llovizna'\", \"'camanchacas'\", 'dampness', 'climatic', 'upwelling', '743', '472', '29â\\x80\\x9330', 'mestizos', 'caucasians', 'peruvians', 'quilt', \"archbishop's\", '1562', 'alianza', 'francesa', 'lycã©e', 'pã©ruvien', 'maison', 'sante', 'trattorias', 'altos', 'calle', 'chifa', 'joven', 'exponential', 'peasants', 'augmenting', 'informatica', '70â\\x80\\x99s', 'infoplease', 'attractionguide', '7000', 'spearheads', 'gnp', 'crã©dito', 'interbank', 'interamericano', 'finanzas', 'finaciero', 'comercio', 'mibanco', 'trabajo', 'coorperations', 'seguros', 'mapfre', 'interseguro', 'protecta', 'positiva', 'navales', 'neoclassicism', 'neoclassical', 'nouveau', 'utilizing', 'brutalist', \"plaza's\", 'campo', 'marte', 'fountain', 'reducto', 'pantanos', 'malecon', 'grid', 'roundabouts', 'junctions', 'fountains', 'pot', 'culinary', 'presentations', 'segura', 'marsano', 'pucp', 'yuyachkani', 'innotations', 'socioeconomic', 'andalusians', 'anglicisms', 'arqueologã\\xada', 'antropologã\\xada', 'jaunt', 'subterrestrial', 'catacombs', 'sevilian', 'tile', 'sculpted', 'nazarenas', 'frequented', 'lurin', 'hermosa', 'lounges', 'cieneguilla', 'pachacamac', 'chosica', 'immigrationâ\\x80\\x94a', 'limaâ\\x80\\x94there', \"immigrant's\", 'chifas', 'cebicherias', 'pollerias', 'estadio', 'deportes', 'limeans', 'fronton', 'racquet', 'hipã³dromo', 'centro', 'celebrities', 'olivar', 'larcomar', 'cliffs', 'cafes', 'boutiques', 'borja', '90s', 'megaplaza', 'olivos', 'barranco', 'bohemian', 'vargas', 'llosa', 'chabuca', 'granda', 'alfredo', 'bryce', 'echenique', 'peã±as', 'criolla', 'chalets', 'marcos', '1551', 'agraria', 'fujimori', 'ingenierã\\xada', 'cientã\\xadfica', 'porres', 'garcilaso', 'cayetano', 'heredia', 'ciencias', 'aplicadas', 'ricardo', 'chã¡vez', 'chavez', 'palmas', 'collique', 'runways', 'chilca', 'pucallpa', 'concentrates', 'tankers', 'refinery', 'ferrocarril', 'andino', 'junin', 'huanuco', 'huancayo', 'oroya', 'inactive', 'huacho', '652', 'microbuses', 'combis', 'unorganized', '464', 'sol', 'cosac', 'comas', 'transmilenio', 'bogota', 'publicitized', 'congenital', 'salvador', 'trenurbano', 'gob', 'compacts', 'republica', 'prado', 'grau', 'carretera', 'chillon', 'trapiche', 'ramiro', 'priale', 'arequipa', 'cusco', 'piura', 'bordeaux', '1983buildings', 'sã£o', 'tegucigalpa', 'akhisar', 'cardiff', 'nota', 'etimolã³gica', 'topã³nimo', 'rodolfo', 'cerrã³n', 'palomino', 'monumento', 'histã³rico', 'margarita', 'cubillas', '8263', '0791', '8032', '1004', 'christina', 'jalh', 'dulanto', 'mackay', 'stanish', 'helaine', 'silverman', 'malden', '209â\\x80\\x93236', '631', '23400', '76460', '51794', '517891', '506928', '1850â\\x80\\x931940', 'almandoz', '1850â\\x80\\x931950', '170â\\x80\\x93192', '415', '27265', 'hispanic', '53â\\x80\\x9382', 'geographia', 'untouched', '378', 'recitations', 'kantele', 'psalteries', 'emanate', 'yokes', 'surmounting', 'frameworks', 'wrest', 'sumerian', 'posing', 'siren', 'slacker', 'expedients', 'olympian', 'hermes', \"apollo's\", 'intestines', 'apollonian', 'equilibrium', 'dionysian', 'aulos', 'ecstasy', 'locales', 'aeolian', 'ionian', 'lydian', 'orpheus', 'musaeus', 'thamyris', \"greece's\", 'lydia', 'epochs', 'insuperable', 'heroic', 'plutarch', 'olympus', 'terpander', 'recitation', 'tetrachord', 'trichord', 'hexachord', 'accuracy', 'mindful', 'suppose', 'enharmonic', 'bias', 'refinements', 'pear', 'vaulted', 'dodecanese', 'pontos', 'pontus', 'kemenche', 'thigh', 'cretan', 'laouto', 'sutton', 'hoo', 'plectra', 'prototypes', 'gallic', 'longitudinally', '1485', 'rote', 'begena', 'dita', 'krar', 'barbiton', 'sammu', 'zami', 'zinar', 'kibugander', 'nyatiti', 'obokano', 'giga', 'gue', 'endongo', 'ntongoli', 'levy', \"david's\", 'levites', 'andersson', 'kathleen', 'werner', 'norma', 'deane', 'jenkins', 'xviii', 'dutton', 'hesse', 'fjord', 'dublin', 'winnipeg', 'willem', 'duchess', 'iago', 'commune', 'cali', 'putumayo', 'paraíso', 'puriscal', 'ramón', 'galápagos', 'sacatepéquez', 'baja', 'maravatío', 'guanajuato', 'tianguistenco', 'méxico', 'jamiltepec', 'oaxaca', 'misiones', 'surco', 'chuco', 'libertad', 'agusan', 'trias', 'cavite', 'ilocos', 'isabela', 'pangasinan', 'guarda', 'ansião', 'ribeira', 'alhariz', 'valpaços', 'besteiros', 'tondela', 'bougado', 'trofa', 'candoso', 'guimarães', 'cacém', 'setúbal', 'carreiras', 'cassurrães', 'mangualde', 'figueiró', 'amarante', 'litém', 'pombal', 'montalegre', 'sardoal', 'piães', 'cinfães', 'oliveira', 'azeméis', 'subarrifana', 'penafiel', 'chã', 'ponte', 'barca', 'escoural', 'montemor', 'velhos', 'arruda', 'vinhos', 'são', 'pedro', 'vedras', 'vale', 'odemira', 'compostela', 'galicia', 'ribera', 'murcia', 'coruña', 'teide', 'allegheny', 'felipe', 'pixies', 'martinis', 'arnavisca', 'garcía', 'márquez', 'titular', 'resnick', 'cierra', 'españa', 'earns', 'physisist', 'hsc', 'voiceless', \"d'oã¯l\", 'diaeresis', 'tracking', \"'true\", \"foxes'\", 'snout', 'brush', 'fukh', 'fuchs', 'fauho', 'foa', 'vos', 'puk', 'puccha', 'llwynog', 'llwyn', 'philological', '31st', 'uodegis', 'uodega', 'raposa', 'rabo', 'headword', '9kg', '2kg', 'auburn', 'pigmentation', 'floppy', 'curly', 'domestication', 'chrysocyon', 'maned', 'aguara', 'guazãº', 'guarani', 'zorro', 'rojizo', 'dusicyon', 'lycalopex', 'otocyon', 'urocyon', 'cozumel', 'vulpine', 'ferrilata', 'kin', 'rabbits', 'generalist', 'cache', 'decimated', 'pervaded', 'thous', 'gã¶bekli', 'tepe', 'kitsune', 'á\\x80\\x99á\\x80¼á\\x80±á\\x80\\x81á\\x80½á\\x80±á\\x80¸', 'summary', 'luther', 'preterite', 'dative', 'ã¤', 'sorting', 'kew', \"margaret's\", 'monmouth', 'regum', 'britanniae', 'lud', 'kaerlud', 'slurred', 'kaerludein', 'iceni', 'boudica', 'stormed', 'incarnation', 'colchester', 'britannia', 'relocate', '886', 'recaptured', 'guthrum', 'ealdwic', 'aldwych', 'retaliatory', \"ethelred's\", 'canute', '1017', '1042', 'pious', 'stepson', 'confessor', 'hastings', 'conqueror', '1097', 'persisting', '1100', '1290', \"peasants'\", 'revolt', '1381', \"barons'\", 'armada', '1588', 'enactment', '1605â\\x80\\x94the', 'gunpowder', '1665â\\x80\\x931666', 'chaired', 'christopher', 'luftwaffe', 'eco', 'disrupting', '2005â\\x80\\x94just', 'tiers', 'scrutinise', 'glc', 'boris', 'downing', 'sobriquet', \"city'\", \"mile'\", 'sprawl', 'londonforty', \"'london'\", 'coincide', 'coordinates', 'charing', '0304', 'floodplain', 'addington', 'shallower', 'marshlands', 'embanked', 'tributaries', \"'tilting'\", 'woolwich', 'chilly', 'hotter', 'usda', 'hardiness', 'ahs', 'fogs', 'smogs', 'bloomsbury', 'mayfair', 'whitechapel', 'fitzrovia', 'parishes', 'issuance', 'equities', 'broking', 'notting', 'â£894', 'outlay', 'poorest', 'brownfield', 'redeveloped', 'lea', 'industrialisation', 'billionaires', '630', \"'country\", \"birth'\", 'archbishop', 'canterbury', 'observance', 'swaminarayan', 'newham', 'harrow', 'brent', 'golders', 'hendon', 'edgware', 'canons', 'overtaking', 'ilford', 'devolved', 'lloyds', 'pricewaterhousecoopers', '669', 'earnings', 'deregulated', 'brokers', 'insurers', 'barclays', 'magic', '753', 'fortune', 'prominant', 'subprime', 'dresdner', 'kleinwort', 'bnp', 'paribas', 'euromonitor', 'accumulated', 'mouldings', 'stucco', 'whitewashed', 'disused', 'rejuvenated', 'battersea', 'termini', 'paddington', 'gherkin', 'broadgate', 'somers', 'erection', 'storey', 'shard', 'bishopsgate', '426', '491', \"nelson's\", 'tussauds', 'wax', 'hampstead', 'heath', 'kenwood', 'stately', 'londoner', '30s', \"'ethnic'\", 'labelled', 'mle', '80th', 'premieres', 'speciality', \"kingdom's\", \"sadler's\", \"islington's\", 'selfridges', 'harrods', 'galliano', 'stella', 'mccartney', 'manolo', 'blahnik', 'choo', 'gastronomic', 'parades', \"november's\", \"june's\", 'pageant', '1812â\\x80\\x931870', 'pervasive', 'diarist', 'foggy', 'grimy', 'sweepers', 'pickpockets', '1722', 'defoe', 'fictionalisation', 'jonson', 'afore', 'conan', \"doyle's\", 'sherlock', 'pervasively', 'ackroyd', 'lambs', 'hawksmoor', 'pinewood', 'ealing', 'elstree', 'leavesden', 'rada', 'judi', 'dench', 'broadbent', \"kensington's\", 'emi', 'decca', 'countless', 'barbican', 'cadogan', 'promenade', 'conservatoires', 'arenas', 'earls', 'o2', 'brixton', 'hammersmith', 'cafe', 'hits', 'marley', 'hendrix', 'dury', 'kinks', 'jam', 'blur', 'phil', 'elvis', 'costello', 'dusty', 'yardbirds', 'libertines', 'amy', 'winehouse', 'kooks', 'razorlight', 'marling', 'dizzee', 'rascal', 'natasha', 'bedingfield', 'leona', 'garage', 'grime', 'hiphop', 'reggae', 'rave', '1xtra', 'homegrown', 'arsenal', 'fulham', 'tottenham', 'hotspur', 'ham', 'stoop', 'skolars', 'haringey', \"league's\", 'kennington', 'marathon', 'putney', 'mortlake', 'overground', 'reliability', 'â£7', 'â\\x82¬10', 'commended', 'lobbies', 'interconnecting', 'brighton', 'moorgate', 'crossrail', 'â£10', 'eurostar', 'lille', 'journey', '1h', 'stratford', 'javelin', 'shinkansen', 'enviro400', 'weekday', \"network's\", 'â£850', 'impaired', 'cabs', 'airspace', 'gatwick', 'stansted', 'luton', 'encircle', 'ringways', 'â£8', 'encompassing', 'holloway', 'constituent', 'admissions', 'goldsmiths', 'soas', 'courtauld', 'worldâ\\x80\\x98s', 'cass', 'schiller', 'malvern', 'copied', 'byline', 'twinning', 'twinnings', 'tehran', 'podgorica', 'algiers', 'megacity', 'visitlondon', \"shakespeare's\", 'powerfully', 'crocodile', \"reptile's\", 'plenty', 'drc', '1992â\\x80\\x94although', 'implementedâ\\x80\\x94and', 'adriaan', 'hendrik', 'orwin', 'bajuni', 'guthrie', \"'kiswahili'\", 'sä\\x81hil', 'ø³ø§ø\\xadù\\x84', 'sawä\\x81hil', 'ø³ù\\x88ø§ø\\xadù\\x84', 'dwellers', 'nisba', 'sawä\\x81halii', 'ø³ù\\x88ø§ø\\xadù\\x84ù\\x8a', 'utendi', 'â\\x80\\x9cwordplay', 'risquã©', 'suggestive', 'lyric', 'parables', 'allegoryâ\\x80\\x9d', 'â\\x80\\x9câ\\x80\\x98ni', 'wapi', 'tunakwendaâ\\x80\\x99', 'arusha', 'vinyl', 'ainâ\\x80\\x99t', 'dipannita', 'basu', 'â\\x80\\x98swahâ\\x80\\x99', 'rap', 'textures', \"language'\", \"coast'\", 'uswahili', \"'culture'\", 'numerically', 'rude', 'chui', 'nilimpiga', 'prenasalized', 'mbwa', 'ndizi', 'nenda', 'dh', 'tenuis', \"t'embo\", 'arranges', 'meinhof', 'animate', 'mtu', \"'person'\", 'watu', 'mdudu', \"'insect'\", 'wadudu', 'kusoma', 'categorize', 'singulars', 'vitabu', 'kitabu', \"'childhood'\", 'augmentatives', 'concords', 'watoto', 'vitoto', 'toto', 'matoto', 'vegetative', 'viti', 'jiti', 'majiti', 'kijiti', 'vijiti', 'ujiti', 'njiti', 'semantically', 'simplistic', \"'people'\", \"'trees'\", 'utensils', 'kisu', 'kitawi', 'frond', 'tawi', 'chumba', 'umba', 'nyumba', 'ish', 'kijani', 'jani', \"'leafy'\", 'kichaka', 'chaka', 'clump', 'kivuli', 'uvuli', 'kifo', 'kiota', 'ota', 'chakula', 'kula', 'kivuko', 'vuka', 'kilimia', 'pleiades', 'limia', 'planting', 'chura', 'kilema', 'cripple', 'kipofu', 'kiziwi', 'kifaru', 'kingugwa', 'kiboko', 'hippopotamus', 'stubby', 'mwitu', \"'forest'\", 'mtama', \"'millet'\", 'mkeka', \"'mat'\", 'mwezi', 'mlima', \"'mountain'\", \"'river'\", 'moto', \"'fire'\", 'moyo', \"'heart'\", \"'hand\", \"arm'\", 'mji', \"'village'\", 'msikiti', \"'mosque'\", 'mzinga', \"'beehive\", \"cannon'\", 'mwavuli', \"'umbrella'\", \"'smoke'\", 'msumari', \"'nail'\", 'mfuo', 'fua', 'forge', 'mlio', 'lia', 'metaphor', 'trajectory', 'mpaka', \"'border'\", 'mwendo', \"'journey'\", 'mwaka', \"'year'\", 'mshahara', \"'wages'\", 'counterintuitive', 'sandwiched', \"a'\", 'kata', \"chop'\", 'ninakata', \"cutting'\", 'gnomic', 'nasoma', 'ninasoma', 'nunua', 'nyama', 'mbuzi', 'soko', 'pika', \"'if\", \"i'll\", \"'if'\", \"'he\", \"her'\", \"child'\", 'sisomi', 'suspiciously', 'applicative', \"'they\", \"hit'\", '7am', '7pm', \"'morning'\", \"'evening'\", \"'night'\", \"morning'\", 'tisa', 'demarcations', 'adhuhuri', \"'early\", 'alasiri', 'manane', \"midnight'\", \"'sunrise'\", 'macheo', 'sunset', 'machweo', 'robo', 'kasarobo', \"'less\", \"'minute\", 'nne', 'tano', \"five'\", 'kasoro', \"nine'\", '6am', '6pm', 'unguja', 'kitumbatu', 'kihadimu', 'serf', 'pejorative', 'kimrima', 'pangani', 'vanga', 'rufiji', 'mafia', 'kimgao', 'kipemba', 'pemba', 'kimvita', 'kingare', 'chijomvu', 'kivumba', 'kiamu', 'amu', 'kimwani', 'kerimba', 'kingwana', 'copperbelt', 'comorian', 'shikomor', 'provokes', 'kizigua', 'juba', 'descendents', 'bantus', 'hugging', 'sofala', 'merca', 'kismayu', 'colonisation', 'katanga', 'dissemination', 'natives', 'dispossessed', 'interterritorial', 'standardizing', 'discrepancies', 'tanzanians', '123', 'kenyans', 'fluently', 'congolese', 'lingala', 'baganda', 'exceeds', \"swahili's\", \"disney's\", 'simba', 'simha', 'rafiki', 'hakuna', 'matata', \"scar's\", 'kovu', 'scar', 'hupendi', 'sid', \"meier's\", 'menu', 'rearrangement', 'baba', 'yetu', 'mogambo', 'gable', 'ava', 'kelly', 'girl', 'intro', 'nakupenda', 'nakutaka', 'mpenzi', 'wee', 'bungie', 'roddenberry', 'uhura', 'uhuru', 'daktaris', 'daktari', 'hatari', 'buffy', 'slayer', 'watchers', 'simpsons', 'marge', 'ebay', 'kijiji', 'mambo', 'joomla', 'jumla', \"'jenga'\", 'deconstruction', \"'kujenga'\", 'jenga', 'weird', 'gainesville', 'fl', 'umoja', \"conway's\", 'sf', 'hangar', 'spaceship', 'vocoder', \"'chombo'\", 'kamusiproject', 'tutorial', 'algorithms', 'mandombe', 'longman', '62701', 'birgit', 'chiraghdin', 'shihabuddin', 'mnyampala', '572367', 'contini', 'morava', 'vumba', 'jomvu', 'ngare', 'subdialects', 'marshad', 'kiingereza', 'nchini', 'jomo', 'kenyatta', '9966', '098', '121', 'shirazi', 'ethnographic', 'daryll', 'forde', 'wilfred', 'methuen', \"omniglot's\", 'panafrican', 'l10n', 'kapinga', 'andras', 'rajki', 'translator', 'lookup', 'spell', 'checker', 'tanzanian', 'î\\x92î\\x92c', 'celcius', 'violincello', 'bhola', 'semantics', 'afrikaans', 'spellings', 'sandwich', 'nigerian', 'sack', 'walloon', 'linguasphere', 'abidjan', 'demographic', 'beaucoup', 'africain', 'qui', 'que', 'yangon', 'approximants', 'z', 'terre', 'je', \"l'homme\", 'vu', 'nasalized', 'gemination', 'geminates', 'default', 'cedilla', 'å\\x93', 'beaux', 'vigesimal', 'wikipedia', 'comma', 'cinq', 'huit', 'neuf', 'dictionnaire', 'palatinate', 'ã¶', 'ã¼', 'typefaces', 'fraktur', 'vocalised', 'savannas', '321', 'netwon', 'accelerator', 'obligate', 'felids', 'overlays', 'adaptable', 'mesopotamia', 'megafauna', '1611', 'theron', \"'streak'\", \"'ambush'\", 'palaeosinensis', 'trinilensis', 'hoek', 'ostende', 'ruthlessly', 'highlights', 'downloaded', 'beringia', 'sakhalin', 'holocene', 'recognisable', 'fingerprints', 'stalk', 'tigresses', 'matthiessen', 'harvill', 'forepaw', 'bhutan', 'rainforests', 'nepalese', 'bulkier', '1165', 'sariska', 'corbetti', \"corbett's\", '150â\\x80\\x93190', '330â\\x80\\x93420', '110â\\x80\\x93140', '242â\\x80\\x93308', 'pharmacies', 'malayensis', 'luo', 'genomic', '600â\\x80\\x93800', 'maybank', 'sumatrae', '100â\\x80\\x93140', '220â\\x80\\x93308', '75â\\x80\\x93110', '154â\\x80\\x93242', 'cracraft', 'feinstein', 'vaughn', 'bychowski', 'inserts', '139â\\x80\\x93150', 'manchurian', 'ussuri', 'primorsky', 'khabarovsk', '190â\\x80\\x93230', '60â\\x80\\x93110', 'batemann', 'tiere', 'unserer', 'welt', 'raubtiere', 'ausgabe', 'bertelsmann', 'verlag', 'censuses', 'undivided', 'amoyensis', '87â\\x80\\x93104', '280â\\x80\\x93390', '220â\\x80\\x93260', 'ç»\\x9dè¿¹24å¹´å\\x8d\\x8eå\\x8d\\x97è\\x99\\x8eé\\x87\\x8dç\\x8e°é\\x99\\x95è¥¿', 'æ\\x9d\\x91æ°\\x91å\\x86\\x92é\\x99©æ\\x8b\\x8dä¸\\x8bç\\x85§ç\\x89\\x87', 'reintroduce', 'balica', '90â\\x80\\x93100', 'extinctionâ\\x80\\x94the', 'sumbar', 'kima', 'sondaica', \"'extinct'\", 'harimau', 'jawa', 'belum', 'punah', 'virgata', 'sighting', 'striping', 'gladiators', 'barbary', 'conceptualized', 'oddities', 'tigons', 'conserving', 'menageries', 'liger', 'sire', 'inhibiting', 'sterile', 'manes', 'tigon', 'chinchilla', 'albinistic', 'cleft', 'palates', 'scoliosis', 'strabismus', 'albinos', 'noses', 'faint', 'intermittent', 'mutations', '60â\\x80\\x93100', 'infringing', 'behave', 'amicably', 'squabble', \"mills'\", 'fateh', 'rathore', 'padmini', 'watched', 'uninterrupted', \"padmini's\", 'unidentified', 'wane', 'wander', 'eke', 'smithmark', 'oestrus', 'anal', 'secretions', 'grimacing', 'sniffing', 'casts', 'pugmarks', 'faulty', 'karanth', 'nichols', 'seidensticker', 'dinerstein', 'mcdougal', 'johnsingh', 'chundawat', 'evaluated', 'collaring', 'gaur', 'mandchurian', 'sika', 'muntjac', 'tapir', 'preyed', 'camels', 'caucasian', 'wisent', 'peafowls', 'hares', 'rhino', 'donkeys', 'lifters', 'recurred', 'dietary', 'blesbuck', 'ambush', 'overpowering', 'latched', 'strangulation', 'gaurs', 'buffalos', 'nape', 'spinal', 'piercing', 'windpipe', 'severing', 'jugular', 'carotid', 'artery', 'swiping', 'genghis', 'copulate', 'noisily', 'helpless', 'sheltering', 'thickets', 'wandering', 'roams', '2â½', 'bangalinet', 'dodge', 'dhole', 'reckoned', 'weakest', 'ghats', 'recuse', 'mitigated', 'indira', 'gandhi', 'reclaimed', 'categorically', 'tripling', 'zapovedniks', \"ngo's\", 'convince', 'crc', '0849374871', 'pelts', 'costumes', 'dalai', 'lama', 'preached', 'poached', 'wilds', 'hotly', 'disrepute', 'sullied', 'twycross', 'â\\x80\\x9cswadeshi', 'pallava', 'bagla', 'tainted', 'subhadra', 'menon', \"dudhwa's\", 'sanctuaryasia', 'pattabhiraman', 'shankaranarayanan', 'lalji', 'fingerprinting', 'diagnostics', 'ccmb', 'cza', '807', 'doi', '1126', '807b', 'ram', 'lakhan', 'rahul', 'karmakar', 'allahabad', 'xxxviii', '7738', \"singh's\", 'philippolis', 'faqs', 'surveying', 'maharajas', 'aristocratic', 'erstwhile', 'machans', 'bait', 'plume', 'manpoora', 'rajpootanah', \"wildlife''\", 'taxidermists', 'stereographic', 'acquiring', 'tadoba', 'andhari', 'kumaon', 'garhwal', 'medicinal', 'aphrodisiacs', 'emporium', 'offenses', 'aquariums', 'mitchinson', 'overabundance', 'spca', 'scarface', 'aspires', 'trappings', 'kuniyoshi', 'utagawa', 'personification', 'phoenix', 'constellations', 'è¥¿æ\\x96¹ç\\x99½è\\x99\\x8e', 'orissa', 'senseless', 'symbolizing', 'monkey', 'greed', 'lovesickness', 'tungusic', 'udege', 'nanai', 'amba', 'lin', 'sala', 'hoysala', 'belur', 'karnataka', 'devi', 'parvati', 'damon', 'aiyappa', 'weretiger', 'shapeshifting', 'sorcerers', 'menacing', 'shere', 'mowgli', 'tigger', \"milne's\", 'winnie', 'pooh', 'cuddly', 'likable', 'patel', 'wreck', 'befriends', 'cereal', 'frosted', 'flakes', 'frosties', 'redcoat', 'tippu', 'mysore', 'govt', 'viewers', 'chimpanzee', 'persâ®', 'cbbc', 'newsround', \"'is\", \"animal'\", 'bnet', 'behaviourist', 'candy', \"d'sa\", 'discerning', 'callum', 'rankine', 'recognise', 'brehms', 'het', 'leven', 'dieren', 'zoogdieren', 'orde', 'tijger', 'indischer', 'maler', 'um', '001', 'dervish', 'sumatratiger', '004', 'siberischer', 'edit02', 'tamers', 'voyageur', '8160', '4594', 'bombay', 'mammalogists', 'lustre', '0521648351', 'canyons', 'homepage', 'crossbred', 'remotely', 'larest', 'spaghetti', 'monster', 'turles', 'preared', 'à¦¢à¦¾à¦\\x95à¦¾', 'intervening', 'impositions', 'kamarupa', 'pala', 'hasna', 'jasimuddin', 'moudud', '9840801651', \"dhakeshwari's\", 'ballal', 'bengalla', 'lakshmi', 'shankhari', 'tanti', 'patuatuli', 'kumartuli', 'bania', 'afghan', 'mughals', 'taru', 'bahl', 'syed', 'anmol', 'pvt', '8126114193', 'subahdar', 'birt', 'capitalâ\\x80\\x8e', \"jahangir's\", 'plassey', 'shrank', 'charnock', 'substantive', 'furumai', 'kurisu', 'katayama', 'iwa', '1843391244', 'fazle', '1981â\\x80\\x8e', 'nawab', 'abortive', 'reunited', 'departed', '2007â\\x80\\x8e', 'earthscan', '184407479x', 'marches', 'peacefully', \"'60s\", 'hotbed', 'flooded', 'marooned', 'mujibur', 'searchlight', 'archer', 'mitra', 'bahini', 'paurashava', 'kotwali', 'paltan', 'mohammadpur', 'sutrapur', 'tejgaon', 'pallabi', 'turaag', 'sabujbagh', 'demra', 'hazaribagh', 'shyampur', 'badda', 'kafrul', 'kamrangir', 'char', 'khilgaon', '725', 'mohallas', '1463', 'gazipur', 'tangail', 'munshiganj', 'rajbari', 'narayanganj', 'manikganj', 'characterise', 'cyclones', '854', 'wetlands', 'storied', 'sadeque', 'hossain', 'khoka', 'administering', 'incidences', 'paramilitary', 'septic', 'manure', 'untreated', 'infectious', 'awami', 'secretariat', 'banglapedia', 'bara', 'katra', 'hoseni', 'dalan', 'hawkers', 'peddlers', 'vendors', 'cervero', '9211314534', 'unorganised', 'citymayors', 'emploment', 'kawran', 'banani', 'garments', \"epz's\", '413', 'multinationals', 'citigroup', 'unilever', 'nestle', 'conglomerates', 'navana', 'aci', 'rahimafrooz', 'micro', 'grameen', 'brac', 'blangladesh', 'zooms', 'mss', 'tm', 'etm', 'dhakaia', 'santal', 'khasi', 'garo', 'chakma', 'mandi', 'chittagonian', 'sylheti', 'biharis', 'ahmadiya', 'ahmadiyas', 'dhakeshwari', \"martyrs'\", 'congregate', 'shaheed', 'minar', 'smriti', 'soudho', 'organise', 'pohela', 'baishakh', 'shahbag', 'salwar', 'kameez', 'lungi', 'processions', 'devotional', 'bookâ\\x80\\x8e', '9715613128', 'fitr', 'adha', 'jeremy', 'seabrook', 'verso', '1859840817', 'multiplexes', '489', 'cavendish', '0761476318', 'dhakai', 'bakarkhani', 'angotti', 'lothar', '730', 'geospace', 'satellitenb', 'gmbh', '3853130518', 'ghazal', 'runa', 'laila', 'kazi', 'nazrul', 'rabindranath', 'tagore', 'alison', '858', '859', '0824049462', 'baily', 'natak', 'para', 'leclercq', '0415238668', 'salahuddin', 'bazlul', 'mobin', 'chowdhury', 'introductory', 'readerâ\\x80\\x8e', '405', '9848509003', 'weaved', 'betar', 'provider', 'foorti', 'amar', 'ekushey', 'atn', 'rtv', 'ntv', 'prothom', 'alo', 'ittefaq', \"traveler's\", 'pequot', '0762740906', 'phones', 'rizanuzzaman', 'laskar', 'pullers', 'polluting', 'scooters', 'cng', 'uddin', 'developmentâ\\x80\\x8e', '0913215147', 'khulna', 'mymensingh', 'rajshahi', 'faridpur', 'sylhet', 'agartala', 'kamalapur', 'biman', 'bandar', 'marika', 'mcadam', '1740592808', 'sadarghat', 'upriver', '9211201705', 'zia', 'neville', 'postlethwaite', 'educationâ\\x80\\x8e', 'pergamon', '0080308538', 'culminate', 'imparted', 'madrasahs', 'siddiqui', 'sociology', 'jahangirnagar', 'buet', 'salimullah', 'shamsul', 'huq', 'hotbeds', 'disrupt', 'machenry', '717', '0852295715', 'fielded', 'intra', 'mohammedan', 'abahani', 'scyld', 'berry', \"captain's\", 'cricketers', 'aslam', 'athar', 'kaiser', 'hamid', 'ashraful', 'bangabandhu', 'stadiums', 'sher', 'intercollegiate', 'abdur', 'rahim', 'â\\x80\\x8e', 'pidgins', 'guernsey', 'guyana', 'jure', 'pluricentric', 'voicing', 'conveys', 'modal', 'synonyms', 'ogden', 'frankish', 'romansh', 'cantons', 'alveolar', 'adverbs', 'oe', 'mennonites', 'amana', 'moselle', 'hessian', 'predicate', 'umlaut', 'umlauts', 'ã\\x84', 'antiqua', 'lache', 'ã¤u', 'toed', 'ruminant', 'giraffidae', 'okapi', 'foliage', 'camel', 'ø§ù\\x84ø²ø±ø§ù\\x81ø©', 'ziraafa', 'zurapha', 'italianate', 'roamed', 'strangers', 'giraffid', 'antler', 'genuses', 'samotherium', 'okapia', 'polygonal', 'smoky', 'angolensis', 'notches', 'antiquorum', 'kilimanjaro', 'jagged', 'vine', 'baringo', 'ugandan', 'rothschildi', 'hooves', 'thornicroft', 'rhodesian', 'thornicrofti', 'peralta', \"rothschild's\", 'lado', 'cottoni', 'congoensis', 'transvaal', 'wardi', 'subspecific', 'brenneman', 'biomedcentral', \"'six\", 'sciencedaily', 'reproductively', 'impassable', 'otherâ\\x80\\x94', 'kenyaâ\\x80\\x94', 'bp', 'cryptic', 'summarised', 'lumping', 'obscures', 'lydekker', '2900', '3800', 'underbellies', 'ossified', 'bald', 'bumps', 'browse', 'spines', 'amble', 'articlebase', 'kenyan', 'compels', 'pacing', 'defends', 'shatter', \"lion's\", 'rete', 'mirabile', 'capillary', 'sheath', 'extravascular', \"pilot's\", 'polygamous', 'impregnating', 'mingle', 'chudop', 'waterhole', 'etosha', 'lue', 'scheepers', '771', 'knocking', 'caress', 'coupling', 'coe', '313', 'unnatural', 'jentz', 'gull', 'mamm', 'ecol', '145â\\x80\\x93154', 'subconscious', 'inanimate', 'cronk', 'sc', '71â\\x80\\x9386', 'discomfort', 'delivery', 'distractions', 'distraction', 'giraffeâ\\x80\\x99s', 'instinctual', 'tendencies', 'lolling', 'prehensile', 'browses', 'mimosa', 'inconvenience', 'vegetable', 'regurgitate', 'digested', 'cud', 'mouthful', 'cough', 'rhode', 'acacias', 'erioloba', 'courting', 'coughs', 'whistling', 'bellowing', 'bleat', 'moo', 'mewing', 'grunt', 'snort', 'hiss', 'communicates', 'nakuru', 'hurts', 'firewood', 'ranches', 'bour', 'algi', \"nasa's\", 'detection', '1414', '1486', 'reputedly', 'zarafa', 'ledgard', 'animatronic', 'longrack', 'girafarig', 'pokã©mon', 'melman', \"''madagascar\", 'recruitment', 'blondes', \"matt's\", 'gnrh', 'agonist', 'deslorelin', 'implant', 'notoc', 'rhineland', '915', 'baarle', 'siegen', 'ratliff', 'ore', 'friso', 'sophia', 'zuylestein', 'rochford', 'weilburg', 'adolphe', 'adélaïde', \"usa's\", 'polaris', 'missiles', 'loch', 'grouper', 'cve', 'escort', 'lha', 'sms', 'bets', 'wagered', 'peanut', 'butter', 'pepperidge', 'layed', 'shrug', 'haeckel', 'désirée', 'gospić', 'whad', \"celsius'\", 'fontaine', 'superpower', 'cohabitation', 'divergences', 'lexis', 'heit', 'exclude', 'jamaican', 'micronesia', 'samoa', 'manuals', 'subset', 'devoiced', 'convey', 'oh', 'ego', 'mus', 'essentials', 'naã¯ve', 'rã©sumã©', 'resumã©', 'standardised', 'merriam', 'caching', 'occitan', 'neapolitan', 'gaul', '198', '740', 'preeminent', 'loi', 'constitutionnelle', '1539', 'villers', 'cotterãªts', 'mandates', 'dispositions', 'romandie', 'wallonia', 'â\\x80\\x94along', 'dutchâ\\x80\\x94', 'estimations', 'flemish', 'voegelin', 'merritt', 'ruhlen', 'dalby', 'raymond', 'kaye', 'judith', 'rosenhouse', 'hetzron', 'ordre', 'hospitaliers', '1530', 'monã©gasque', 'andorra', 'png', '240px', 'eu25', 'aosta', 'provenã§al', \"luxembourg's\", 'trilingual', 'bailiwicks', 'guadeloupe', 'barthã©lemy', 'miquelon', '6â\\x80\\x9312', '12â\\x80\\x9318', 'supermarket', 'dakar', 'monde', 'approche', 'syntaxique', 'katja', 'ploog', 'cnrs', 'libreville', 'ã©galement', 'devenu', 'maternelle', 'librevillois', 'perã§u', 'comme', 'gabonaise', 'afrique', 'forme', 'mais', 'malagasy', 'anticipate', 'ã©volution', 'surtout', 'importante', 'parle', 'pas', 'couramment', 'mãªme', \"s'il\", 'souvent', 'officielle', 'signifie', \"qu'au\", 'mesure', 'gã©nã©rations', 'vont', \"l'ã©cole\", 'augmente', 'estime', \"qu'en\", 'ceux', 'ci', 'seront', 'fois', 'nombreux', \"qu'aujourd'hui\", 'sabir', 'rã©publique', 'centrafricaine', 'brazzaville', 'mayotte', 'rã©union', 'mille', 'waned', 'booms', 'guangzhouwan', 'myanmar', 'mandalay', 'pondicherry', 'telugu', 'malayalam', 'nadu', 'maharashtra', 'cbse', 'ncr', 'polynesia', 'futuna', 'aostan', 'cambodian', 'lao', 'meridional', 'caledonian', 'oceanic', 'nasals', 'palatal', 'gnon', 'intervocalic', 'montagne', 'homorganic', 'labiodental', 'palato', 'rhotic', 'fricative', 'roue', 'apical', 'unvelarised', 'paye', 'liaisons', 'amants', 'vous', 'avez', 'cents', 'irlandais', \"d'hommes\", 'aiment', 'chien', 'chienne', 'gentil', 'gentille', 'elision', \"j'ai\", \"qu'il\", \"l'a\", 'em', 'refined', 'elocution', 'illusion', 'nympho', 'nymphomaniac', 'aigu', 'ã©coleâ\\x80\\x94school', 'ã¨', 'ã©lã¨veâ\\x80\\x94pupil', 'circonflexe', 'forãªtâ\\x80\\x94forest', 'signifies', 'forãªt', 'hã´pital', 'trã©ma', 'naã¯fâ\\x80\\x94foolish', 'noã«lâ\\x80\\x94christmas', 'specifies', 'schwa', 'cã©dille', 'garã§onâ\\x80\\x94boy', 'ã®le', 'lã\\xa0', 'oã¹', 'ligatures', 'doit', 'doigt', 'digitus', 'pes', 'ped', 'predict', 'amis', 'update', 'ã©couter', 'buef', 'beuf', 'bå\\x93uf', 'å\\x92', 'rendering', 'î¿î¹', 'cå\\x93lacanthe', 'coelacanth', 'å\\x93sophage', 'coexister', 'ã¦gosome', 'ã¦gyrine', 'ã¦schne', 'cã¦cum', 'nã¦vus', 'urã¦us', 'animauls', 'animaux', 'cheval', 'pluralized', 'chevaux', 'castel', 'castels', 'chã¢teaux', \"latin's\", 'declensions', 'auxiliaries', 'archaisms', 'frã¨re', 'fraternel', '60â\\x80\\x9399', 'unify', 'fourscore', 'threescore', 'neuchã¢tel', 'jura', 'vaud', 'valais', 'fribourg', 'octante', 'vingts', 'virgule', 'onze', 'douze', 'treize', 'quatorze', 'quinze', 'vingt', 'quã©bec', 'crfl', 'mnemonic', 'louchã©bem', 'verlan', 'och', 'rfi', 'ecole', 'interculturelle', 'terminologique', 'lookwayup', 'wordreference', '681', 'shtooka', 'bolzano', 'bozen', 'catarina', 'braunfels', 'hutterites', 'volga', 'puebla', 'barossa', 'funredes', 'vilaweb', 'standardization', 'meiã\\x9fner', 'bratislava', 'pressburg', 'hochdeutsch', 'westphalia', 'muss', 'muã\\x9f', 'mixtures', 'missingsch', 'inflect', 'chen', 'neuter', 'endlich', 'labelling', 'rigorously', 'mit', 'rearranged', 'denglisch', 'ae', 'ã\\x84rzte', 'sch', 'blackletter', 'schwabacher', 'serif', 'ihre', 'ck', 'tz', 'ei', 'ê¦', 'burg', 'ger', 'musum', 'lodon', 'popularize', 'popularizing', 'someplace', 'montpeillier', 'collège', 'angoulme\\x01', 'france\\x01', '20415', 'craters', 'bequerel', 'illiterate', 'phographic', \"they've\", '203', 'decembeer', '1753', '154', 'jacobus', 'henricus', 'mazz', 'ã‰tienne', '1588â€“1651', 'intendent', 'fontains', 'röntgen', 'woosthorpe', \"town's\", 'baillie', 'polarised', \"dissenters'\", 'photgraph', 'consitution', \"mallard's\", 'poulation', 'tagging', \"daughter's\", 'anderw', \"1800''\", 'vehicale', 'cheetahs', \"leichtenstein's\", 'tobaggan', \"anina''\", \"media's\", 'singapor', 'janpan', 'brooker', 'batte', 'imparting', '“basso', 'purling', '1251', '1255', 'mythical', \"language's\", 'professions', 'creoles', 'anglik', 'angeln', 'bede', \"'aenglaland'\", '449', 'normans', 'simplification', 'supplementation', 'grafting', 'italic', 'faroese', 'uitgang', 'gangway', 'ã\\x84nderung', 'bewegung', 'othering', 'habe', 'noch', 'etwas', 'platz', 'gesehen', 'genug', 'zeit', 'affixing', 'ness', 'freiheit', 'tum', 'dâ\\x80\\x99ã©tat', 'anglicized', 'danelaw', 'comrie', 'sil', '809', 'communally', 'dormitories', 'territoriesâ\\x80\\x9320', '058', '623', 'usable', 'continua', \"'indian\", \"english'\", 'yong', 'englishes', '377â\\x80\\x93390', 'anguilla', 'antigua', 'barbuda', 'barbados', 'bermuda', 'belize', 'belizean', 'kriol', 'cayman', 'gibraltar', 'grenada', 'guam', 'hiberno', 'manx', 'montserrat', 'pitcairn', 'kitts', 'nevis', 'grenadines', 'trinidad', 'tobago', 'caicos', 'dominica', 'fiji', 'federated', 'kiribati', 'lesotho', 'palau', 'solomon', 'lucia', 'swaziland', 'norfolk', 'mariana', 'antilles', 'schoolchildren', 'citation', 'andâ\\x80\\x94since', 'iiâ\\x80\\x94the', 'worldâ\\x80\\x94one', 'midwestern', 'subvarieties', 'scouse', 'geordie', 'ebonics', 'developedâ\\x80\\x94largely', 'â\\x80\\x94from', '1707', 'dialectalisation', \"speaker's\", 'trudgill', 'patois', 'pidgin', 'tok', 'pisin', 'manually', 'seaspeak', 'airspeak', 'policespeak', 'tunnelspeak', 'consonantal', 'affricates', 'crap', 'syntactically', 'irony', 'dunno', 'emphasises', 'loudness', 'unaccentuated', 'inferred', 'disbelieve', 'blatantly', 'positiveâ\\x80\\x93negative', 'underlies', 'patterning', 'conveying', 'triggers', 'lexicology', 'joachim', 'grzega', 'schã¶ner', 'ic', 'aham', 'eme', 'mam', 'unus', 'oinos', 'ace', 'dice', 'treis', 'matá¹\\x9b', 'sankrit', 'mys', 'gignå\\x8dmi', 'gnoscere', 'kanes', 'conjunctions', 'pretentious', 'obfuscate', \"orwell's\", 'scrutinization', 'misuse', 'oversee', 'nuances', 'meats', 'venison', 'pork', 'mutton', 'courtroom', 'aunt', 'ã¼ber', 'amigo', 'fluidity', 'calculation', 'neologisms', 'oed2', 'headwords', 'kister', 'ken', 'p43', '4p', '2bw', 'proportionate', 'computerised', 'profusion', 'finkenstaedt', 'dieter', 'willams', 'jacht', 'schipper', 'cruiser', 'kruiser', 'spook', 'snyder', 'tailor', 'stiver', 'langues', 'anglicised', 'runes', 'multilayered', 'diverges', 'generalizations', 'multilevel', 'phonics', 'moats', 'brookes', 'orthographically', 'ough', 'diane', 'mcguinness', 'touchstone', '156', 'ziegler', 'goswami', '131', 'zoã«', 'dã©cor', 'entrã©e', 'fiancã©e', \"caf'e\", \"cafe'\", 'animã©', 'exposã©', 'lamã©', 'ã¶re', 'ã¸re', 'pã¢tã©', 'piquã©', 'rosã©', 'clarify', 'matã©', 'yerba', 'kay', 'esperanto', 'simplifications', 'kenyon', 'knott', 'pronouncing', 'instantaneous', 'playback', '20000', 'clearinghouse', 'dict', \"oxford's\", 'macquarie', 'lux', 'nordschleswig', 'sã¸nderjylland', 'expulsions', 'depopulated', 'bosnia', 'elsass', 'lothringen', 'namibian', 'alemã¡n', 'coloniero', 'namibians', 'riograndenser', 'hunsrã¼ckisch', 'espã\\xadrito', 'enclaves', 'pomerode', 'indication', 'munich', 'strasburg', 'muenster', 'kiel', 'germantown', 'amish', 'dunkards', 'pietists', '622', '035', 'kitchener', 'fluency', 'mazatlã¡n', 'tapachula', 'chihuahua', 'durango', 'zacatecas', 'jalisco', 'immersed', 'potosi', 'quintana', 'carinthia', 'adelsverein', 'plautdietsch', 'schmiedleit', 'lehrerleit', 'dariusleit', 'prairieleit', \"student's\", 'adelaide', 'unserdeutsch', 'queensland', 'revive', 'nvtc', 'netz', 'tipp', 'webpages', \"google's\", 'babel', '962', 'testimonies', 'futhark', 'abrogans', 'hildebrandslied', 'muspilli', 'merseburg', 'incantations', '1522', 'bureaucratic', 'sã¤chsische', 'kanzleisprache', 'meissen', '929', \"luther's\", 'gemeines', \"'protestant\", \"german'\", 'orthographical', 'bã¼hnensprache', 'obligatory', 'encompassed', 'townspeople', 'urbanite', 'prag', 'buda', 'ofen', 'germanized', 'mailand', 'agram', 'ljubljana', 'laibach', 'prescriptive', 'grimm', 'duden', 'revisions', 'bundeslã¤nder', 'everybody', 'venerable', 'symptom', \"text's\", 'dass', 'forbade', 'daã\\x9f', 'unimpressed', 'ursula', 'kimpel', 'tã¼bingen', 'â\\x80\\x9cgerman', 'sprachraum', 'sorbian', 'slovene', 'sopron', 'krahule', 'gressoney', 'opole', 'asowo', 'halbstadt', '90â\\x80\\x9395', 'isoglosses', 'benrath', 'speyer', 'unaffected', 'ripuarian', 'thuringian', 'silesian', 'mittelalemannisch', 'markish', 'institutionalised', 'alsatian', 'wymysorys', 'sathmarisch', 'siebenbã¼rgisch', 'ashkenazi', 'yiddish', 'ung', 'schaft', 'keit', 'lein', 'ismus', 'ism', 'feier', 'arbeiter', 'labourer', 'behaves', 'substitutes', 'sayings', 'feminines', 'ns', 'ens', 'syntactical', 'capitalised', 'freitag', 'einkaufen', 'gegangen', 'eines', 'tages', 'luxemburgish', 'hundehã¼tte', 'hut', 'doghouse', 'baumhaus', 'rindfleischetikettierungsã¼berwachungsaufgabenã¼bertragungsgesetz', 'rind', 'fleisch', 'etikettierung', 'ã\\x9cberwachung', 'aufgaben', 'ã\\x9cbertragung', 'gesetz', 'conjugation', 'dividable', 'pluperfect', 'strangely', 'excluded', 'normalised', 'uncompleted', 'blicken', 'erblicken', 'sehen', 'zer', 'zerreiã\\x9fen', 'zerbrechen', 'zerschneiden', 'vaguest', 'ver', 'versuchen', 'vernehmen', 'interrogate', 'verteilen', 'verstehen', 'haften', 'verhaften', 'imprison', 'kaufen', 'verkaufen', 'hã¶ren', 'aufhã¶ren', 'fahren', 'erfahren', 'separable', 'adverbial', 'resultative', 'mitgehen', 'gehen', 'sie', 'parenthetical', 'freitagabend', 'nach', 'einem', 'harten', 'arbeitstag', 'ã¼blichen', 'ã\\x84rger', 'ihn', 'schon', 'seit', 'jahren', 'immer', 'wieder', 'arbeitsplatz', 'plagt', 'fraglicher', 'freude', 'ein', 'mahl', 'frau', 'ihm', 'hoffte', 'bereits', 'aufgetischt', 'hatte', 'hause', 'rived', 'troubling', 'questionable', 'topical', 'buch', 'heute', 'mir', 'alte', 'mann', 'declarative', \"verb's\", 'exclamations', 'weil', 'clustering', 'reborrowings', 'germish', 'repertory', 'notker', 'labeo', 'treatises', 'autochthonous', 'ersatz', 'neologous', 'verein', 'sprache', 'anglizismen', 'democratise', 'willkommen', 'eszett', 'scharfes', 'maã\\x9fband', 'capitalized', 'massband', 'kreã\\x9flein', 'kresslein', 'ue', 'schleswig', 'holstein', 'raesfeld', 'ë\\x88raë\\x90sfé\\x9blt', 'coesfeld', 'ë\\x88koë\\x90sfé\\x9blt', 'itzehoe', 'éªtsé\\x99ë\\x88hoë\\x90', 'directories', 'adressenverlage', 'anlagenbauer', 'arzt', 'asbest', 'indexes', 'kurrent', 'sã¼tterlin', 'sans', 'handwritten', 'untrained', 'readable', 'reinecke', 'buchstabenschrift', 'entstehung', 'entwicklung', 'zweckmã¤ã\\x9figkeit', 'vã¶lkische', 'bedeutung', 'hasert', 'aryan', 'rusticality', 'oldness', 'langes', 'å¿', 'typesetting', 'wachå¿tube', 'wachstube', 'hyphenation', 'wach', 'å¿tube', 'wachs', 'realised', 'hã¤tte', \"'would\", \"have'\", 'kette', \"'chain'\", 'bã¤ren', 'beeren', \"'bears\", \"berries'\", 'ã\\x84hre', 'ehre', \"'spike\", \"honour'\", 'homophonous', 'regularities', 'hof', 'hoë\\x90f', 'ff', 'tt', 'hoffen', 'ë\\x88hé\\x94fç\\x9dn', 'preciding', \"'has'\", 'mond', 'hessen', 'hoffmann', 'mecklenburg', 'stã¤dte', \"'cities'\", 'hofer', 'ard', 'marietta', 'slomka', 'zdf', 'fach', \"'compartment'\", 'kã¼che', \"'kitchen'\", 'suche', \"'search'\", 'bã¼cher', \"'books'\", 'homographous', \"'puddle'\", \"'manner\", \"laughing'\", 'coll', \"'laugh\", 'imp', 'bã¤r', \"'bear'\", \"'he'\", 'wir', \"'we'\", 'tor', \"'gate'\", 'kurz', \"'short'\", 'wã¶rter', \"'words'\", 'ê\\x94', 'chemie', 'keë\\x90ë\\x88mië\\x90', 'ã§eë\\x90ë\\x88mië\\x90', 'ê\\x83eë\\x90ë\\x88mië\\x90', 'dsch', 'ê¤', 'lengthens', 'reh', 'jahr', 'jaë\\x90é\\x90', \"languages'\", 'é«', 'quer', 'qualitã¤t', 'kv', 'guttural', 'ê\\x80', 'rasen', 'ê\\x80aë\\x90zé\\x99n', 'buê\\x80g', \"'é\\x9bé\\x90\", 'bué\\x90g', 'zebra', 'zoë\\x90n', 'bê\\x8as', 'ê\\x83t', 'ê\\x83p', 'esszet', 'sz', 'typeface', 'mã¼sste', 'mã¼ã\\x9fte', 'maã\\x9fen', \"'maë\\x90sé\\x99n\", 'massen', \"'masé\\x99n\", 'loads', 'mittelschulvorbereitung', 'ê\\x83', 'shine', 'tion', 'tsion', 'vater', 'ë\\x88faë\\x90té\\x90', 'ë\\x88vaë\\x90zç\\x9d', 'vas', 'zog', 'ê¦oë\\x90k', 'dank', 'thou', 'denken', 'thirsty', 'durstig', 'laugh', 'lachen', 'durch', 'hoch', 'naught', 'nichts', 'obscured', 'pâ\\x86\\x92ff', 'schiff', 'baum', 'whitebeam', 'teaches', 'zertifikat', 'broadcaster', 'placename', 'exonyms', 'germanism', 'denglish', 'clyne', '0521499704', 'curme', '0199273995', \"learner's\", '0198158505', 'colectivo', 'whate', '20013', '21326', '23383', '28023', '24403', '30070', '“lunchbox', 'lunch”', '26009', '29702', '“prepared', 'cuisine”', 'cimbals', 'disfluent', 'whare', 'intrument', 'ww', 'duckof', '1550', '8722', '1070', '60000', 'interrogative', 'kofuor', 'woldf', 'apos', 'suppport', 'littler', 'ompressions', 'maagalania', 'swaths', 'slavory', 'ok', \"penguins'\", 'arguable', \"bahrain's\", 'comăneci', 'occassions', 'km©÷', '718', 'violene', 'misspelled', 'bunch', 'ww2', 'symbals', 'symbal', '1462', 'renders', 'mckennitt', 'covert', 'garcã\\xada', 'mã¡rquez', 'aulo', '281', 'somce', 'trumpetes', 'sua', 'pronuncations', 'statocaster', 'northerners', 'suthern']\n"
          ]
        }
      ]
    },
    {
      "cell_type": "code",
      "metadata": {
        "id": "cKwpgOOC8HOa"
      },
      "source": [
        "max_decoded_sentence_length = 4000\n",
        "\n",
        "def decode_sequence(input_text):\n",
        "    tokenized_input = tokenizer.texts_to_sequences(tf.nest.flatten(input_text))\n",
        "    tokenized_input = pad_sequences(tokenized_input , padding='post', maxlen = 4000)\n",
        "\n",
        "    decoded_sentence = \"<start>\"\n",
        "    tokenized_target_sentence = tokenizer.texts_to_sequences([decoded_sentence])\n",
        "    tokenized_target_sentence = pad_sequences(tokenized_target_sentence , padding='post', maxlen = 4001)[:,:-1]\n",
        "    \n",
        "    for i in range(max_decoded_sentence_length):\n",
        "        predictions = transformer.predict([tokenized_input, tokenized_target_sentence])\n",
        "        sampled_token_index = np.argmax(predictions[0, i, :])\n",
        "        sampled_token = word_lookup[sampled_token_index]\n",
        "        decoded_sentence += \" \" + sampled_token\n",
        "        tokenized_target_sentence = tokenizer.texts_to_sequences([decoded_sentence])\n",
        "        tokenized_target_sentence = pad_sequences(tokenized_target_sentence , padding='post', maxlen = 4001)[:, :-1]\n",
        "  \n",
        "        if sampled_token == \"<end>\":\n",
        "            break\n",
        "    return decoded_sentence"
      ],
      "execution_count": null,
      "outputs": []
    },
    {
      "cell_type": "code",
      "metadata": {
        "id": "Bq2PYN_XYSkc"
      },
      "source": [
        "i = 0\n",
        "input_text = str(question[i] + '<SEP>' + context[i])\n",
        "actual_answer = answer[i]\n",
        "\n",
        "tokenized_input = tokenizer.texts_to_sequences(input_text)\n",
        "tokenized_input = pad_sequences(tokenized_input , padding='post', maxlen = 4000)\n",
        "\n",
        "bot_answer = decode_sequence(input_text)\n",
        "\n",
        "\n",
        "print('Question:', question[i])\n",
        "print('Bot Answer:', bot_answer)\n",
        "print('\\n\\nActual Answer', answer[i])"
      ],
      "execution_count": null,
      "outputs": []
    },
    {
      "cell_type": "code",
      "metadata": {
        "id": "MNAT5Iw2QPgd"
      },
      "source": [
        "context_dict = data_context.set_index('ArticleTitle')['Context'].to_dict()\n",
        "topic_options = data_context['ArticleTitle'].tolist()"
      ],
      "execution_count": null,
      "outputs": []
    },
    {
      "cell_type": "markdown",
      "metadata": {
        "id": "qWusIMHmAYw0"
      },
      "source": [
        "# Past Runs"
      ]
    },
    {
      "cell_type": "code",
      "metadata": {
        "colab": {
          "base_uri": "https://localhost:8080/"
        },
        "id": "7xPYlSUVCvUF",
        "outputId": "eae54ebf-56b1-4d4e-9b78-20075a1973a3"
      },
      "source": [
        "epochs = 30  # This should be at least 30 for convergence\n",
        "\n",
        "transformer.summary()\n",
        "transformer.compile(\n",
        "    \"rmsprop\", loss=\"sparse_categorical_crossentropy\", metrics=[\"accuracy\"]\n",
        ")\n",
        "history = transformer.fit(train_ds, epochs=epochs, validation_data=test_ds)"
      ],
      "execution_count": null,
      "outputs": [
        {
          "name": "stdout",
          "output_type": "stream",
          "text": [
            "Model: \"transformer\"\n",
            "__________________________________________________________________________________________________\n",
            " Layer (type)                   Output Shape         Param #     Connected to                     \n",
            "==================================================================================================\n",
            " encoder_inputs (InputLayer)    [(None, None)]       0           []                               \n",
            "                                                                                                  \n",
            " positional_embedding (Position  (None, None, 256)   9383680     ['encoder_inputs[0][0]']         \n",
            " alEmbedding)                                                                                     \n",
            "                                                                                                  \n",
            " decoder_inputs (InputLayer)    [(None, None)]       0           []                               \n",
            "                                                                                                  \n",
            " transformer_encoder (Transform  (None, None, 256)   3155456     ['positional_embedding[0][0]']   \n",
            " erEncoder)                                                                                       \n",
            "                                                                                                  \n",
            " model_1 (Functional)           (None, None, 30655)  22521535    ['decoder_inputs[0][0]',         \n",
            "                                                                  'transformer_encoder[0][0]']    \n",
            "                                                                                                  \n",
            "==================================================================================================\n",
            "Total params: 35,060,671\n",
            "Trainable params: 35,060,671\n",
            "Non-trainable params: 0\n",
            "__________________________________________________________________________________________________\n",
            "Epoch 1/30\n",
            "251/251 [==============================] - 8130s 32s/step - loss: 0.0083 - accuracy: 0.2764 - val_loss: 0.0074 - val_accuracy: 0.2969\n",
            "Epoch 2/30\n",
            "251/251 [==============================] - 8098s 32s/step - loss: 0.0076 - accuracy: 0.3012 - val_loss: 0.0070 - val_accuracy: 0.3158\n",
            "Epoch 3/30\n",
            "251/251 [==============================] - 8099s 32s/step - loss: 0.0072 - accuracy: 0.3185 - val_loss: 0.0067 - val_accuracy: 0.3455\n",
            "Epoch 4/30\n",
            "251/251 [==============================] - 8109s 32s/step - loss: 0.0069 - accuracy: 0.3381 - val_loss: 0.0064 - val_accuracy: 0.3619\n",
            "Epoch 5/30\n",
            "251/251 [==============================] - 7391s 29s/step - loss: 0.0065 - accuracy: 0.3738 - val_loss: 0.0061 - val_accuracy: 0.4059\n",
            "Epoch 6/30\n",
            "251/251 [==============================] - 7679s 31s/step - loss: 0.0061 - accuracy: 0.4026 - val_loss: 0.0056 - val_accuracy: 0.4575\n",
            "Epoch 7/30\n",
            "251/251 [==============================] - 7948s 32s/step - loss: 0.0058 - accuracy: 0.4319 - val_loss: 0.0053 - val_accuracy: 0.4696\n",
            "Epoch 8/30\n",
            "251/251 [==============================] - 7916s 32s/step - loss: 0.0056 - accuracy: 0.4544 - val_loss: 0.0050 - val_accuracy: 0.5001\n",
            "Epoch 9/30\n",
            "251/251 [==============================] - 7916s 32s/step - loss: 0.0053 - accuracy: 0.4717 - val_loss: 0.0049 - val_accuracy: 0.5233\n",
            "Epoch 10/30\n",
            "251/251 [==============================] - 7926s 32s/step - loss: 0.0051 - accuracy: 0.4941 - val_loss: 0.0047 - val_accuracy: 0.5480\n",
            "Epoch 11/30\n",
            "251/251 [==============================] - ETA: 0s - loss: 0.0049 - accuracy: 0.5110 "
          ]
        }
      ]
    },
    {
      "cell_type": "code",
      "metadata": {
        "colab": {
          "base_uri": "https://localhost:8080/"
        },
        "id": "QyFU5faZ5gMb",
        "outputId": "ddad1b15-04ae-4da2-e33e-4033f4688428"
      },
      "source": [
        "epochs = 30  # This should be at least 30 for convergence\n",
        "\n",
        "transformer.summary()\n",
        "transformer.compile(\n",
        "    \"rmsprop\", loss=\"sparse_categorical_crossentropy\", metrics=[\"accuracy\"]\n",
        ")\n",
        "history = transformer.fit(train_ds, epochs=epochs, validation_data=test_ds)"
      ],
      "execution_count": null,
      "outputs": [
        {
          "name": "stdout",
          "output_type": "stream",
          "text": [
            "Model: \"transformer\"\n",
            "__________________________________________________________________________________________________\n",
            " Layer (type)                   Output Shape         Param #     Connected to                     \n",
            "==================================================================================================\n",
            " encoder_inputs (InputLayer)    [(None, None)]       0           []                               \n",
            "                                                                                                  \n",
            " positional_embedding (Position  (None, None, 256)   8871680     ['encoder_inputs[0][0]']         \n",
            " alEmbedding)                                                                                     \n",
            "                                                                                                  \n",
            " decoder_inputs (InputLayer)    [(None, None)]       0           []                               \n",
            "                                                                                                  \n",
            " transformer_encoder (Transform  (None, None, 256)   3155456     ['positional_embedding[0][0]']   \n",
            " erEncoder)                                                                                       \n",
            "                                                                                                  \n",
            " model_1 (Functional)           (None, None, 30655)  22009535    ['decoder_inputs[0][0]',         \n",
            "                                                                  'transformer_encoder[0][0]']    \n",
            "                                                                                                  \n",
            "==================================================================================================\n",
            "Total params: 34,036,671\n",
            "Trainable params: 34,036,671\n",
            "Non-trainable params: 0\n",
            "__________________________________________________________________________________________________\n",
            "Epoch 1/30\n",
            "126/126 [==============================] - 3580s 28s/step - loss: 0.0126 - accuracy: 0.2688 - val_loss: 0.0108 - val_accuracy: 0.2941\n",
            "Epoch 2/30\n",
            "126/126 [==============================] - 3278s 26s/step - loss: 0.0108 - accuracy: 0.3053 - val_loss: 0.0100 - val_accuracy: 0.3165\n",
            "Epoch 3/30\n",
            "126/126 [==============================] - 3301s 26s/step - loss: 0.0102 - accuracy: 0.3181 - val_loss: 0.0092 - val_accuracy: 0.3478\n",
            "Epoch 4/30\n",
            "126/126 [==============================] - 3322s 26s/step - loss: 0.0095 - accuracy: 0.3514 - val_loss: 0.0085 - val_accuracy: 0.3871\n",
            "Epoch 5/30\n",
            "126/126 [==============================] - 3330s 26s/step - loss: 0.0087 - accuracy: 0.3917 - val_loss: 0.0078 - val_accuracy: 0.4372\n",
            "Epoch 6/30\n",
            "126/126 [==============================] - 3340s 27s/step - loss: 0.0082 - accuracy: 0.4196 - val_loss: 0.0072 - val_accuracy: 0.4861\n",
            "Epoch 7/30\n",
            "126/126 [==============================] - 3353s 27s/step - loss: 0.0076 - accuracy: 0.4616 - val_loss: 0.0068 - val_accuracy: 0.4965\n",
            "Epoch 8/30\n",
            "126/126 [==============================] - 3341s 27s/step - loss: 0.0071 - accuracy: 0.4975 - val_loss: 0.0063 - val_accuracy: 0.5623\n",
            "Epoch 9/30\n",
            "126/126 [==============================] - 3347s 27s/step - loss: 0.0066 - accuracy: 0.5255 - val_loss: 0.0058 - val_accuracy: 0.6025\n",
            "Epoch 10/30\n",
            "126/126 [==============================] - 3364s 27s/step - loss: 0.0062 - accuracy: 0.5508 - val_loss: 0.0055 - val_accuracy: 0.6052\n",
            "Epoch 11/30\n",
            "126/126 [==============================] - 3355s 27s/step - loss: 0.0058 - accuracy: 0.5830 - val_loss: 0.0051 - val_accuracy: 0.6200\n",
            "Epoch 12/30\n",
            "126/126 [==============================] - 3360s 27s/step - loss: 0.0055 - accuracy: 0.6049 - val_loss: 0.0048 - val_accuracy: 0.6663\n",
            "Epoch 13/30\n",
            "126/126 [==============================] - 3360s 27s/step - loss: 0.0052 - accuracy: 0.6263 - val_loss: 0.0045 - val_accuracy: 0.6959\n",
            "Epoch 14/30\n",
            "126/126 [==============================] - 3353s 27s/step - loss: 0.0050 - accuracy: 0.6429 - val_loss: 0.0043 - val_accuracy: 0.7105\n",
            "Epoch 15/30\n",
            "126/126 [==============================] - 3362s 27s/step - loss: 0.0047 - accuracy: 0.6636 - val_loss: 0.0041 - val_accuracy: 0.7230\n",
            "Epoch 16/30\n",
            "126/126 [==============================] - 3367s 27s/step - loss: 0.0045 - accuracy: 0.6873 - val_loss: 0.0040 - val_accuracy: 0.7082\n",
            "Epoch 17/30\n",
            "126/126 [==============================] - 3359s 27s/step - loss: 0.0043 - accuracy: 0.6970 - val_loss: 0.0039 - val_accuracy: 0.7649\n",
            "Epoch 18/30\n",
            "126/126 [==============================] - 3368s 27s/step - loss: 0.0042 - accuracy: 0.7116 - val_loss: 0.0037 - val_accuracy: 0.7698\n",
            "Epoch 19/30\n",
            "126/126 [==============================] - 3360s 27s/step - loss: 0.0041 - accuracy: 0.7185 - val_loss: 0.0036 - val_accuracy: 0.7815\n",
            "Epoch 20/30\n",
            "126/126 [==============================] - 3370s 27s/step - loss: 0.0039 - accuracy: 0.7323 - val_loss: 0.0034 - val_accuracy: 0.7857\n",
            "Epoch 21/30\n",
            "126/126 [==============================] - 3357s 27s/step - loss: 0.0039 - accuracy: 0.7379 - val_loss: 0.0034 - val_accuracy: 0.8003\n",
            "Epoch 22/30\n",
            "126/126 [==============================] - 3361s 27s/step - loss: 0.0037 - accuracy: 0.7460 - val_loss: 0.0032 - val_accuracy: 0.8102\n",
            "Epoch 23/30\n",
            "126/126 [==============================] - 3366s 27s/step - loss: 0.0037 - accuracy: 0.7504 - val_loss: 0.0032 - val_accuracy: 0.8069\n",
            "Epoch 24/30\n",
            "126/126 [==============================] - 3368s 27s/step - loss: 0.0036 - accuracy: 0.7651 - val_loss: 0.0032 - val_accuracy: 0.8140\n",
            "Epoch 25/30\n",
            "126/126 [==============================] - 3360s 27s/step - loss: 0.0035 - accuracy: 0.7673 - val_loss: 0.0030 - val_accuracy: 0.8211\n",
            "Epoch 26/30\n",
            "126/126 [==============================] - ETA: 0s - loss: 0.0035 - accuracy: 0.7740 "
          ]
        }
      ]
    }
  ]
}